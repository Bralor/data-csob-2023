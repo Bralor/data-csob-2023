{
 "cells": [
  {
   "cell_type": "markdown",
   "id": "756f8ef3-70f3-48fb-bdf6-28c5dd0d8dc9",
   "metadata": {},
   "source": [
    "# Datová akademie, ČSOB, 2023\n",
    "\n",
    "---"
   ]
  },
  {
   "cell_type": "markdown",
   "id": "c2d5b109-15eb-48c2-9a79-18747a196385",
   "metadata": {},
   "source": [
    "* [Časové řady](#Časové-řady),\n",
    "    - [úvodní motivace](#Úvod),\n",
    "    - [základní objekty](#Základní-objekty),\n",
    "    - [indexování časovými údaji](#Indexování-s-časem),\n",
    "    - [funkce to_datetime](#Funkce-TO_DATETIME),\n",
    "    - [funkce date_range](#Funkce-DATE_RANGE),\n",
    "    - [resampling](#Resampling,-snížení-frekvence),\n",
    "    - [zpřesňování](#Zpřesňování-řady),\n",
    "    - [cvičení](#🧠-CVIČENÍ-🧠,-procvič-si-časové-řady).\n",
    "* [Výkonné pandy](#Výkonný-PANDAS),\n",
    "    - [funkce eval](#Funkce-EVAL),\n",
    "    - [výhody eval](#Výkon-EVAL),\n",
    "    - [funkce query](#Funkce-QUERY),\n",
    "    - [souhrn k eval a query](#Souhrn-k-EVAL-a-QUERY),\n",
    "    - [cvičení](#🧠-CVIČENÍ-🧠,-procvič-si-funkce-EVAL-a-QUERY).\n",
    "* [Skutečné hodnoty](#Skutečné-datové-sety),\n",
    "    - [chybějící údaje](#Kolik-mi-chybí-údajů),\n",
    "    - [encoding](#Encoding),\n",
    "    - [nekonzistentní data](#Nekonzistentní-data),\n",
    "    - [cvičení](#🧠-CVIČENÍ-🧠,-procvič-si-práci-s-chybným-datasetem)."
   ]
  },
  {
   "cell_type": "markdown",
   "id": "3ac6884d-bca7-45c4-8351-4131f2f48572",
   "metadata": {},
   "source": [
    "<br>\n",
    "\n",
    "## Časové řady\n",
    "\n",
    "---\n",
    "\n",
    "<img src=\"https://external-content.duckduckgo.com/iu/?u=https%3A%2F%2Ftse1.mm.bing.net%2Fth%3Fid%3DOIP.odqbr-09dxxBQjF7x7NyBAHaII%26pid%3DApi&f=1&ipt=5b4a03c1dd38b52108237102ebb350595a5d6ea6a50572f5897ca89fbf5b5445&ipo=images\" width=\"160\" style=\"margin-left:auto; margin-right:auto\"/>"
   ]
  },
  {
   "cell_type": "markdown",
   "id": "0b10f4ba-06c6-452c-9923-2fd063acf48b",
   "metadata": {},
   "source": [
    "### Úvod\n",
    "\n",
    "---"
   ]
  },
  {
   "cell_type": "markdown",
   "id": "eeb7bf9c-d886-491f-a38b-954ea9ef4c17",
   "metadata": {
    "tags": []
   },
   "source": [
    "Část *frameworku* byla vyvinuta za účelem **finančního modelování**.\n",
    "\n",
    "Proto je více než dobře vybavena sadou nástrojů, které umí pracovat **s daty, časem a časovými objekty**.\n",
    "\n",
    "<br>\n",
    "\n",
    "Uplatnění:\n",
    "* **Analýza a predikce**: umožňuje analyzovat vývoj hodnot v čase a předpovídat budoucí trendy nebo sezónní změny,\n",
    "* **Efektivní manipulace s časem**: zjednodušuje úkoly, jako je agregace, interpolace nebo časové posuny,\n",
    "* **Flexibilní indexace**: podporuje flexibilní indexaci časových řad, což usnadňuje filtrování, řazení a výběr dat,\n",
    "* **Kompatibilita s dalšími knihovnami**: je kompatibilní s mnoha dalšími knihovnami pro analýzu časových řad, jako je `statsmodels` nebo `scikit-learn`."
   ]
  },
  {
   "cell_type": "markdown",
   "id": "f9542756-cb5d-462e-a667-e2c0313db6ba",
   "metadata": {
    "tags": []
   },
   "source": [
    "<br>\n",
    "\n",
    "#### Pomocí standardního Pythonu\n",
    "\n",
    "---"
   ]
  },
  {
   "cell_type": "markdown",
   "id": "8f89d05f-af3a-49c8-9072-2a7f527cf4de",
   "metadata": {},
   "source": [
    "Standardní výbavou Pythonu jsou knihovny `datetime`:"
   ]
  },
  {
   "cell_type": "code",
   "execution_count": null,
   "id": "d0a194fe-fac0-42ae-a6c5-4770aa439395",
   "metadata": {
    "tags": []
   },
   "outputs": [],
   "source": [
    "from datetime import datetime"
   ]
  },
  {
   "cell_type": "code",
   "execution_count": null,
   "id": "b39063c4-9ee8-489c-b640-233829d558a6",
   "metadata": {
    "tags": []
   },
   "outputs": [],
   "source": [
    "# help(datetime)"
   ]
  },
  {
   "cell_type": "code",
   "execution_count": null,
   "id": "ade4d2d7-0b0b-4151-af65-70951feaf8ce",
   "metadata": {
    "tags": []
   },
   "outputs": [],
   "source": [
    "datetime(year=2023, month=4, day=5)"
   ]
  },
  {
   "cell_type": "code",
   "execution_count": null,
   "id": "13db68ee-1ce9-47dc-a0cf-60a9e751e8e7",
   "metadata": {
    "tags": []
   },
   "outputs": [],
   "source": [
    "type(datetime(year=2023, month=4, day=5))"
   ]
  },
  {
   "cell_type": "markdown",
   "id": "1ea4fa9f-987f-423b-85c3-b5e42d6aaa2b",
   "metadata": {},
   "source": [
    "<br>\n",
    "\n",
    "Nebo knihovna `dateutil` pro *parsování* datových typů z různých **stringových zadání**:"
   ]
  },
  {
   "cell_type": "code",
   "execution_count": null,
   "id": "cf54882c-2d33-4c82-bef2-459ed78b8df9",
   "metadata": {
    "tags": []
   },
   "outputs": [],
   "source": [
    "from dateutil import parser"
   ]
  },
  {
   "cell_type": "code",
   "execution_count": null,
   "id": "94adf275-e436-47f5-88b2-1ccb526d86fa",
   "metadata": {
    "tags": []
   },
   "outputs": [],
   "source": [
    "type(parser)"
   ]
  },
  {
   "cell_type": "markdown",
   "id": "ae8d95b7-9796-449c-ae14-876cabedfd87",
   "metadata": {},
   "source": [
    "<br>\n",
    "\n",
    "Funkce `parse` zpracuje (*parsuje*) velké množství různých formátů času ve `str`:"
   ]
  },
  {
   "cell_type": "code",
   "execution_count": null,
   "id": "452e9eec-a77a-4d7f-9e1c-886c1152fd11",
   "metadata": {
    "tags": []
   },
   "outputs": [],
   "source": [
    "date = parser.parse(\"5th of april, 2023\")"
   ]
  },
  {
   "cell_type": "code",
   "execution_count": null,
   "id": "c2802dda-7f8d-4791-acd8-2d2cadb9bff9",
   "metadata": {
    "tags": []
   },
   "outputs": [],
   "source": [
    "type(parser.parse)"
   ]
  },
  {
   "cell_type": "code",
   "execution_count": null,
   "id": "22c01da0-e255-4338-b5b7-394bfa866883",
   "metadata": {
    "tags": []
   },
   "outputs": [],
   "source": [
    "date.year"
   ]
  },
  {
   "cell_type": "code",
   "execution_count": null,
   "id": "7950aeeb-775d-4adc-a5a3-9e7a6ba7f6b5",
   "metadata": {
    "tags": []
   },
   "outputs": [],
   "source": [
    "date.month"
   ]
  },
  {
   "cell_type": "code",
   "execution_count": null,
   "id": "3b7d14aa-f28e-4c17-92bf-5481ce5f34f0",
   "metadata": {
    "tags": []
   },
   "outputs": [],
   "source": [
    "date.day"
   ]
  },
  {
   "cell_type": "markdown",
   "id": "658dc0e1-86e6-4042-b2db-2d2d3b48bb44",
   "metadata": {},
   "source": [
    "<br>\n",
    "\n",
    "Kde pomocí metody `strftime` můžeš vypsat den:"
   ]
  },
  {
   "cell_type": "code",
   "execution_count": null,
   "id": "d28e3912-30c2-4b38-818e-afd8b36aa6ad",
   "metadata": {
    "tags": []
   },
   "outputs": [],
   "source": [
    "date.strftime(\"%A\")"
   ]
  },
  {
   "cell_type": "code",
   "execution_count": null,
   "id": "d3de8116-d146-42da-b481-43452334560c",
   "metadata": {
    "tags": []
   },
   "outputs": [],
   "source": [
    "date.strftime(\"%d/%m/%y\")"
   ]
  },
  {
   "cell_type": "markdown",
   "id": "fb75c6fb-9757-4b53-a611-9bfd67b899e8",
   "metadata": {},
   "source": [
    "<br>\n",
    "\n",
    "#### Pomocí NUMPY\n",
    "\n",
    "---"
   ]
  },
  {
   "cell_type": "markdown",
   "id": "6bd35fe3-af1f-4c54-b206-158c3a3691f2",
   "metadata": {},
   "source": [
    "Některé nedostatky uvnitř knihoven `datetime` a `dateutil` vedli ke vzniku sady nástrojů.\n",
    "\n",
    "Tyto doplňky vznikly pod hlavičkou knihovny `numpy`."
   ]
  },
  {
   "cell_type": "code",
   "execution_count": null,
   "id": "951d10ff-5615-4fdd-b776-d07be4e8fbed",
   "metadata": {
    "tags": []
   },
   "outputs": [],
   "source": [
    "import numpy\n",
    "from numpy import array, arange"
   ]
  },
  {
   "cell_type": "code",
   "execution_count": null,
   "id": "ace452d7-3323-4d8c-a289-1b9d3bde2906",
   "metadata": {
    "tags": []
   },
   "outputs": [],
   "source": [
    "date = array('2023-04-05', dtype=numpy.datetime64)"
   ]
  },
  {
   "cell_type": "code",
   "execution_count": null,
   "id": "29f0009b-bfc0-45d5-93db-a4f2544e000a",
   "metadata": {
    "tags": []
   },
   "outputs": [],
   "source": [
    "date"
   ]
  },
  {
   "cell_type": "markdown",
   "id": "02f3b981-0e8a-460b-aa4e-1e736149ffdb",
   "metadata": {},
   "source": [
    "<br>\n",
    "\n",
    "Pokud potřebuješ pole **následujících 7 dní**:"
   ]
  },
  {
   "cell_type": "code",
   "execution_count": null,
   "id": "6e41ecfd-cca7-4cc9-b3c5-e890b7a41eea",
   "metadata": {
    "tags": []
   },
   "outputs": [],
   "source": [
    "date + arange(7)"
   ]
  },
  {
   "cell_type": "markdown",
   "id": "684eaa2a-abb4-4a0a-8463-2ddea8cd96b3",
   "metadata": {
    "tags": []
   },
   "source": [
    "<br>\n",
    "\n",
    "Vzhledem k jednotnému datovu typu v poli pro **numpy** `datetime64` může tento typ operace\n",
    "provádět mnohem rychleji.\n",
    "\n",
    "Přímo v Pythonu pomocí `datetime` objektu potom roste handicap, když objekty nabývají na velikosti."
   ]
  },
  {
   "cell_type": "markdown",
   "id": "f948c02f-728a-4a62-85d5-6d4f16cf91f7",
   "metadata": {},
   "source": [
    "<br>\n",
    "\n",
    "#### Pomocí PANDAS\n",
    "\n",
    "---"
   ]
  },
  {
   "cell_type": "markdown",
   "id": "7f86fbaf-813e-44ac-8917-235ea2966fee",
   "metadata": {
    "tags": []
   },
   "source": [
    "Jde o kombinace objektů z obou předchozích podkapitol.\n",
    "\n",
    "Ty dávají dohromady to nejlepší prostředky pro zacházení s časem."
   ]
  },
  {
   "cell_type": "code",
   "execution_count": null,
   "id": "7d095458-75e4-44fb-baf1-06d379db7736",
   "metadata": {
    "tags": []
   },
   "outputs": [],
   "source": [
    "from pandas import to_datetime"
   ]
  },
  {
   "cell_type": "code",
   "execution_count": null,
   "id": "3cd1aaf4-eca0-4f2b-8bd8-5a52fbfd4637",
   "metadata": {
    "tags": []
   },
   "outputs": [],
   "source": [
    "date = to_datetime(\"5th of April, 2023\")"
   ]
  },
  {
   "cell_type": "code",
   "execution_count": null,
   "id": "ec88920f-7144-447a-aef4-85e6842b43f7",
   "metadata": {
    "tags": []
   },
   "outputs": [],
   "source": [
    "date"
   ]
  },
  {
   "cell_type": "code",
   "execution_count": null,
   "id": "4501d1f6-fe87-42e7-8af9-8712d768cdb1",
   "metadata": {
    "tags": []
   },
   "outputs": [],
   "source": [
    "type(date)"
   ]
  },
  {
   "cell_type": "code",
   "execution_count": null,
   "id": "30f7fff2-9795-46af-b97a-06cd4ff4962a",
   "metadata": {
    "tags": []
   },
   "outputs": [],
   "source": [
    "date.strftime(\"%A\")"
   ]
  },
  {
   "cell_type": "markdown",
   "id": "046bc9ce-237a-4dda-a865-e5f4fe34e752",
   "metadata": {},
   "source": [
    "<br>\n",
    "\n",
    "### Základní objekty\n",
    "\n",
    "---"
   ]
  },
  {
   "cell_type": "markdown",
   "id": "68359749-d638-4b3a-8646-18749616328e",
   "metadata": {},
   "source": [
    "V podstatě jde o hlavní nástroj, který tato knihovna dovede nabídnout.\n",
    "\n",
    "Tedy práce **s univerzálními datovými typy** pro čas.\n",
    "\n",
    "Mezi základní objekty pro práci s časem patří:\n",
    "* `Timestamp`, typ (související struktura Indexu `DatetimeIndex`),\n",
    "* `Period`, typ (.. `PeriodIndex`),\n",
    "* `Timedelta`, typ (.. `TimedeltaIndex`)."
   ]
  },
  {
   "cell_type": "markdown",
   "id": "dc9beb04-717d-438a-b001-968e3ca0da29",
   "metadata": {},
   "source": [
    "<br>\n",
    "\n",
    "#### Timestamp\n",
    "\n",
    "---\n",
    "\n",
    "Základní datový typ do časových řad.\n",
    "\n",
    "Přiřazuje pandasí hodnoty k skutečnému konkrétním časovému okamžiku."
   ]
  },
  {
   "cell_type": "code",
   "execution_count": null,
   "id": "dd8bbc4c-2973-4e84-a3b2-63c90ad65167",
   "metadata": {
    "tags": []
   },
   "outputs": [],
   "source": [
    "from pandas import Timestamp"
   ]
  },
  {
   "cell_type": "code",
   "execution_count": null,
   "id": "a68bf747-0cc4-4466-a9ed-53ebe4d9d1f5",
   "metadata": {
    "tags": []
   },
   "outputs": [],
   "source": [
    "# Timestamp?"
   ]
  },
  {
   "cell_type": "code",
   "execution_count": null,
   "id": "fd64dbc6-f9ae-4eb6-8254-750a7a58e4dd",
   "metadata": {
    "tags": []
   },
   "outputs": [],
   "source": [
    "Timestamp(\"2023-05-04\")  # str, tuple, datetime.datetime"
   ]
  },
  {
   "cell_type": "code",
   "execution_count": null,
   "id": "d07b9871-395a-4795-aab4-920d51575493",
   "metadata": {
    "tags": []
   },
   "outputs": [],
   "source": [
    "Timestamp(2023, 5, 4)"
   ]
  },
  {
   "cell_type": "code",
   "execution_count": null,
   "id": "fb4e3249-28df-47b8-8f18-b758aa822045",
   "metadata": {
    "tags": []
   },
   "outputs": [],
   "source": [
    "type(Timestamp(2023, 5, 4))"
   ]
  },
  {
   "cell_type": "markdown",
   "id": "48954ac2-f6ef-46a1-aede-0cb505f4f685",
   "metadata": {},
   "source": [
    "<br>\n",
    "\n",
    "#### Period\n",
    "\n",
    "---\n",
    "\n",
    "V mnoha případech je však přirozenější spojit proměnné, jako je **počáteční čas** s následným **časovým rozpětím**.\n",
    "\n",
    "`Period` představuje časový interval nebo období, které má začátek a *frekvenci*."
   ]
  },
  {
   "cell_type": "code",
   "execution_count": null,
   "id": "fe5e2e76-8882-4fa4-abcb-8b23db5157b5",
   "metadata": {
    "tags": []
   },
   "outputs": [],
   "source": [
    "from pandas import Period"
   ]
  },
  {
   "cell_type": "code",
   "execution_count": null,
   "id": "6d08c45c-86dc-4611-89ab-97fc41152120",
   "metadata": {
    "tags": []
   },
   "outputs": [],
   "source": [
    "Period(\"2023-04\", freq=\"D\")"
   ]
  },
  {
   "cell_type": "code",
   "execution_count": null,
   "id": "34685988-1669-4c70-8e88-530024c1ded6",
   "metadata": {
    "tags": []
   },
   "outputs": [],
   "source": [
    "type(Period(\"2023-04\", freq=\"D\"))"
   ]
  },
  {
   "cell_type": "markdown",
   "id": "afa7a454-08b6-4b60-8c8a-ce1f2c524ce6",
   "metadata": {},
   "source": [
    "Hlavním rozdílem pro `Timestamp` a `Period` je v rámci jejich zapracování.\n",
    "\n",
    "`Timestamp` pracuje s konkrétním časovým okamžikem.\n",
    "\n",
    "`Period` naopak s časovým intervalem."
   ]
  },
  {
   "cell_type": "markdown",
   "id": "aef44081-2140-4b06-a660-8727f9d9b781",
   "metadata": {},
   "source": [
    "<br>\n",
    "\n",
    "#### Timedelta\n",
    "\n",
    "---\n",
    "\n",
    "Představuje rozdíl mezi dvěma datumy nebo časy."
   ]
  },
  {
   "cell_type": "code",
   "execution_count": null,
   "id": "2e968ff5-c38b-49dc-9bbd-d7e3142c036e",
   "metadata": {
    "tags": []
   },
   "outputs": [],
   "source": [
    "datum_1 = Timestamp(2023,4,12, 12, 30)"
   ]
  },
  {
   "cell_type": "code",
   "execution_count": null,
   "id": "09b2bbbb-767b-4952-b4a3-46c04e5d8a91",
   "metadata": {
    "tags": []
   },
   "outputs": [],
   "source": [
    "datum_2 = Timestamp(2023,4,10, 12, 0)"
   ]
  },
  {
   "cell_type": "code",
   "execution_count": null,
   "id": "371854b3-3aeb-4101-ac5f-d8c9c2278e10",
   "metadata": {
    "tags": []
   },
   "outputs": [],
   "source": [
    "datum_1 - datum_2"
   ]
  },
  {
   "cell_type": "code",
   "execution_count": null,
   "id": "d91843ed-d8cc-4c9b-a5d8-2a6f8823baad",
   "metadata": {
    "tags": []
   },
   "outputs": [],
   "source": [
    "type(datum_1 - datum_2)"
   ]
  },
  {
   "cell_type": "code",
   "execution_count": null,
   "id": "0d3590c9-9cfc-4edb-b5ee-506897369cc7",
   "metadata": {
    "tags": []
   },
   "outputs": [],
   "source": [
    "from pandas import Timedelta"
   ]
  },
  {
   "cell_type": "code",
   "execution_count": null,
   "id": "bbd93938-faa2-4e8e-84f4-677ee5d7e3d8",
   "metadata": {
    "tags": []
   },
   "outputs": [],
   "source": [
    "# Timedelta?"
   ]
  },
  {
   "cell_type": "markdown",
   "id": "9e31e02e-2547-4dc5-b4ba-de1b00597c61",
   "metadata": {},
   "source": [
    "<br>\n",
    "\n",
    "### Indexování s časem\n",
    "\n",
    "---\n",
    "\n",
    "Pomocí objektů času můžeš vytvořit samotné **Indexy**.\n",
    "\n",
    "`DatetimeIndex` obsahuje časové značky (*timestamp*), které jsou uloženy ve formátu `datetime64` s nanosekundovou přesností.\n",
    "\n",
    "Tento objekt umožňuje efektivní práci s časovými řadami a poskytuje mnoho funkcí pro manipulaci s daty a časy:"
   ]
  },
  {
   "cell_type": "code",
   "execution_count": null,
   "id": "60eeeebc-9171-4e69-813b-22f660d41767",
   "metadata": {
    "tags": []
   },
   "outputs": [],
   "source": [
    "from pandas import DatetimeIndex, Series"
   ]
  },
  {
   "cell_type": "markdown",
   "id": "5ea4989d-1a1d-4efc-938d-66d78d2d65fc",
   "metadata": {},
   "source": [
    "<br>\n",
    "\n",
    "Pomocný objekt typu `list`:"
   ]
  },
  {
   "cell_type": "code",
   "execution_count": null,
   "id": "99a7e6c3-7d28-4902-83d6-bab5c54c0ccc",
   "metadata": {
    "tags": []
   },
   "outputs": [],
   "source": [
    "datumy = [\"2023-04-05\", \"2022-04-05\", \"2021-04-05\", \"2020-04-05\"]"
   ]
  },
  {
   "cell_type": "code",
   "execution_count": null,
   "id": "1de25773-7754-4c66-8f32-df03bc6b0521",
   "metadata": {
    "tags": []
   },
   "outputs": [],
   "source": [
    "indexy = DatetimeIndex(datumy)"
   ]
  },
  {
   "cell_type": "code",
   "execution_count": null,
   "id": "fc33f18f-2044-4779-b19d-3d2d4f20def1",
   "metadata": {
    "tags": []
   },
   "outputs": [],
   "source": [
    "type(indexy)"
   ]
  },
  {
   "cell_type": "code",
   "execution_count": null,
   "id": "f4215e08-b7af-4ec2-9c3a-1bb2705fdf78",
   "metadata": {
    "tags": []
   },
   "outputs": [],
   "source": [
    "jmena_dnu = [to_datetime(den).strftime(\"%A\") for den in datumy]"
   ]
  },
  {
   "cell_type": "code",
   "execution_count": null,
   "id": "db977207-215c-4ece-ac29-32585fb85c44",
   "metadata": {
    "tags": []
   },
   "outputs": [],
   "source": [
    "jmena_dnu"
   ]
  },
  {
   "cell_type": "code",
   "execution_count": null,
   "id": "22cc433c-dad1-4cff-a19d-04b1cbf65de0",
   "metadata": {
    "tags": []
   },
   "outputs": [],
   "source": [
    "hodnoty_sl = Series(jmena_dnu, index=indexy)"
   ]
  },
  {
   "cell_type": "code",
   "execution_count": null,
   "id": "624a6fd9-07f1-4bac-8a28-25a369ef2119",
   "metadata": {
    "tags": []
   },
   "outputs": [],
   "source": [
    "hodnoty_sl"
   ]
  },
  {
   "cell_type": "code",
   "execution_count": null,
   "id": "dd74238c-a8c3-447e-931b-f09209616b80",
   "metadata": {
    "tags": []
   },
   "outputs": [],
   "source": [
    "type(hodnoty_sl)"
   ]
  },
  {
   "cell_type": "code",
   "execution_count": null,
   "id": "8b7364a9-02ae-4f73-a70e-2a5500b32729",
   "metadata": {
    "tags": []
   },
   "outputs": [],
   "source": [
    "type(indexy)"
   ]
  },
  {
   "cell_type": "code",
   "execution_count": null,
   "id": "a70446ce-26e6-4515-8bae-a230a0c0cefe",
   "metadata": {
    "tags": []
   },
   "outputs": [],
   "source": [
    "hodnoty_sl[\"2020\": \"2022\"]"
   ]
  },
  {
   "cell_type": "code",
   "execution_count": null,
   "id": "498903a6-6fde-46aa-8feb-3cb049d699a7",
   "metadata": {
    "tags": []
   },
   "outputs": [],
   "source": [
    "hodnoty_sl[\"2020-04-05\": \"2022-04-05\"]"
   ]
  },
  {
   "cell_type": "markdown",
   "id": "5991b55e-4bc4-4429-aa16-e786a0f521bd",
   "metadata": {},
   "source": [
    "<br>\n",
    "\n",
    "#### TimedeltaIndex\n",
    "\n",
    "---\n",
    "\n",
    "Jde o rozdíl v jednotkách času.\n",
    "\n",
    "Nejčastěji se s tímto objektem setkáš, pokud potřebuješ získat **rozdíl mezi dvěma datumy**."
   ]
  },
  {
   "cell_type": "code",
   "execution_count": null,
   "id": "db73602e-4814-4adf-a0f6-895652ca808c",
   "metadata": {
    "tags": []
   },
   "outputs": [],
   "source": [
    "datumy"
   ]
  },
  {
   "cell_type": "code",
   "execution_count": null,
   "id": "b35746c2-4ce9-49ba-b4e6-83473e8d7c98",
   "metadata": {
    "tags": []
   },
   "outputs": [],
   "source": [
    "datumy_ = to_datetime(datumy)"
   ]
  },
  {
   "cell_type": "code",
   "execution_count": null,
   "id": "ff0fcbd0-eaf2-4133-98a9-a93a213431f4",
   "metadata": {
    "tags": []
   },
   "outputs": [],
   "source": [
    "datumy_"
   ]
  },
  {
   "cell_type": "code",
   "execution_count": null,
   "id": "5b1fbc8d-03eb-4fcd-bd6d-ebc260757c34",
   "metadata": {
    "tags": []
   },
   "outputs": [],
   "source": [
    "specialni_datumy = to_datetime([\n",
    "    datetime(2022, 4, 5), \"5th of April 2021\", \"2020-Apr-5\", \"05-04-2019\"]\n",
    ")"
   ]
  },
  {
   "cell_type": "code",
   "execution_count": null,
   "id": "74c7e266-a391-4a0d-935f-f16ed1fdfc78",
   "metadata": {
    "tags": []
   },
   "outputs": [],
   "source": [
    "datumy_ - specialni_datumy"
   ]
  },
  {
   "cell_type": "markdown",
   "id": "b1cc5efa-3139-4b95-9ac9-241d4c87199d",
   "metadata": {},
   "source": [
    "<br>\n",
    "\n",
    "### Funkce TO_DATETIME\n",
    "\n",
    "---\n",
    "\n",
    "Nejčastější datové typy, které lze zapsat přímo, ovšem běžnější je pracovat s funkcí `to_datetime`.\n",
    "\n",
    "Funkce `to_datetime` umí parsovat různé stringové formáty."
   ]
  },
  {
   "cell_type": "code",
   "execution_count": null,
   "id": "adec7acd-20a5-4a56-8140-98171c7f0885",
   "metadata": {
    "tags": []
   },
   "outputs": [],
   "source": [
    "from pandas import to_datetime"
   ]
  },
  {
   "cell_type": "markdown",
   "id": "5a914035-5051-4b6b-9f5e-9b989606c04d",
   "metadata": {},
   "source": [
    "<br>\n",
    "\n",
    "#### Práce s jedním datumem\n",
    "\n",
    "---"
   ]
  },
  {
   "cell_type": "code",
   "execution_count": null,
   "id": "26fb0d39-b8d8-4df9-9536-1d7dc4a7a26b",
   "metadata": {
    "tags": []
   },
   "outputs": [],
   "source": [
    "datum = to_datetime(\"05/04/2023\")  # str, tuple, datetime.datetime"
   ]
  },
  {
   "cell_type": "code",
   "execution_count": null,
   "id": "6daacedb-f084-447a-9121-e68aea27fa67",
   "metadata": {
    "tags": []
   },
   "outputs": [],
   "source": [
    "datum"
   ]
  },
  {
   "cell_type": "code",
   "execution_count": null,
   "id": "a3a71b46-eb51-4f1c-bb01-5bca9b8541bf",
   "metadata": {
    "tags": []
   },
   "outputs": [],
   "source": [
    "type(datum)"
   ]
  },
  {
   "cell_type": "markdown",
   "id": "8ed2c0db-56f2-4650-a488-425d637d7096",
   "metadata": {},
   "source": [
    "Pokud do funkce `to_datetime` vložíš jedinou hodnotu, vrací objekty typu `Timestamp`."
   ]
  },
  {
   "cell_type": "markdown",
   "id": "20d80be0-fb71-4e5a-a870-3405a70991a3",
   "metadata": {},
   "source": [
    "<br>\n",
    "\n",
    "#### Specifický formát\n",
    "\n",
    "---"
   ]
  },
  {
   "cell_type": "markdown",
   "id": "50ca9f50-f80d-45b5-9b2b-377d5dff7775",
   "metadata": {},
   "source": [
    "Pokud se parser ve funkci `to_datetime` ztratí nebo tvoje zadání neodpovídá jeho vyhotovení, můžeš zadat formát explicitně:"
   ]
  },
  {
   "cell_type": "code",
   "execution_count": null,
   "id": "6b8e3a75-ff2c-44f0-a718-6ebed7ea85da",
   "metadata": {
    "tags": []
   },
   "outputs": [],
   "source": [
    "vystup = to_datetime(\"12-11-2010 01:05\")"
   ]
  },
  {
   "cell_type": "code",
   "execution_count": null,
   "id": "d411fc76-8b5e-401f-ae77-08028bff2931",
   "metadata": {
    "tags": []
   },
   "outputs": [],
   "source": [
    "vystup.day"
   ]
  },
  {
   "cell_type": "markdown",
   "id": "92cba032-7ba8-4e3a-9843-0196c321f121",
   "metadata": {},
   "source": [
    "<br>\n",
    "\n",
    "V ukázce výš ale hodnota `11` představuje měsíc, nikoliv den."
   ]
  },
  {
   "cell_type": "code",
   "execution_count": null,
   "id": "ef6c013a-f5d1-49f2-97b9-76a199860034",
   "metadata": {
    "tags": []
   },
   "outputs": [],
   "source": [
    "vystup = to_datetime(\"12-11-2010 01:05\", format=\"%d-%m-%Y %H:%M\")"
   ]
  },
  {
   "cell_type": "code",
   "execution_count": null,
   "id": "313150a9-9e10-4ef5-a48d-4ce7066239aa",
   "metadata": {
    "tags": []
   },
   "outputs": [],
   "source": [
    "vystup.day"
   ]
  },
  {
   "cell_type": "code",
   "execution_count": null,
   "id": "ff4ec533-72eb-42dc-96d0-2ea174449082",
   "metadata": {
    "tags": []
   },
   "outputs": [],
   "source": [
    "vystup.month"
   ]
  },
  {
   "cell_type": "code",
   "execution_count": null,
   "id": "4aa75ffa-cc20-4e4f-b1d3-c9c3b756f3a6",
   "metadata": {
    "tags": []
   },
   "outputs": [],
   "source": [
    "vystup.year"
   ]
  },
  {
   "cell_type": "code",
   "execution_count": null,
   "id": "272b54e7-7931-4798-bc00-4d7ba8a7296a",
   "metadata": {
    "tags": []
   },
   "outputs": [],
   "source": [
    "vystup.hour"
   ]
  },
  {
   "cell_type": "markdown",
   "id": "628df84a-354c-4b4b-8db3-1e35c1747238",
   "metadata": {
    "tags": []
   },
   "source": [
    "<br>\n",
    "\n",
    "#### Časové zóny\n",
    "\n",
    "---\n",
    "\n",
    "Objekt `Timestamp` umožňuje hodnoty časových zón zadávat pomocí metody `tz_localize`:"
   ]
  },
  {
   "cell_type": "code",
   "execution_count": null,
   "id": "73739d53-12fa-438e-ac29-04f244f03fe8",
   "metadata": {
    "tags": []
   },
   "outputs": [],
   "source": [
    "datum"
   ]
  },
  {
   "cell_type": "code",
   "execution_count": null,
   "id": "f54aacf4-a6fd-4eb8-b713-708163d40453",
   "metadata": {
    "tags": []
   },
   "outputs": [],
   "source": [
    "datum.tz"
   ]
  },
  {
   "cell_type": "code",
   "execution_count": null,
   "id": "81cd85c0-a48a-4a48-9b9f-98fddf731c93",
   "metadata": {
    "tags": []
   },
   "outputs": [],
   "source": [
    "tz_datum = datum.tz_localize(\"Europe/Prague\")"
   ]
  },
  {
   "cell_type": "code",
   "execution_count": null,
   "id": "4e4926f3-4926-475b-aa2d-b693e1623546",
   "metadata": {
    "tags": []
   },
   "outputs": [],
   "source": [
    "tz_datum.tz"
   ]
  },
  {
   "cell_type": "code",
   "execution_count": null,
   "id": "990b74ed-db71-440b-b739-30613951a2b8",
   "metadata": {
    "tags": []
   },
   "outputs": [],
   "source": [
    "nove_tz_datum = tz_datum.tz_convert(\"US/Pacific\")"
   ]
  },
  {
   "cell_type": "code",
   "execution_count": null,
   "id": "6320f875-4417-45c4-929d-0c42a71d8c88",
   "metadata": {
    "tags": []
   },
   "outputs": [],
   "source": [
    "nove_tz_datum = tz_datum.tz_convert(\"Europe/London\")"
   ]
  },
  {
   "cell_type": "code",
   "execution_count": null,
   "id": "8981a6ea-4e17-4b13-b07a-9ff428ce2aea",
   "metadata": {
    "tags": []
   },
   "outputs": [],
   "source": [
    "nove_tz_datum"
   ]
  },
  {
   "cell_type": "markdown",
   "id": "2f9e3749-24c8-47a6-999f-6608cbca194d",
   "metadata": {},
   "source": [
    "<br>\n",
    "\n",
    "#### Práce s několika datumy\n",
    "\n",
    "---"
   ]
  },
  {
   "cell_type": "markdown",
   "id": "69ceaf56-7b8f-4e39-bd69-122f48f6ace6",
   "metadata": {},
   "source": [
    "Stejně jak umí funkce *parsovat* jednu hodnotu, umí zpracovat pole časových stringů:"
   ]
  },
  {
   "cell_type": "code",
   "execution_count": null,
   "id": "0485d2db-fef1-4949-aee4-44621b04c99b",
   "metadata": {
    "tags": []
   },
   "outputs": [],
   "source": [
    "datumy = to_datetime(\n",
    "    [datetime(2023, 4, 5), \"5th of April 2023\", \"2023-Apr-5\", \"04-05-2023\", \"20230405\"]\n",
    ")"
   ]
  },
  {
   "cell_type": "code",
   "execution_count": null,
   "id": "a66f0d07-e6ce-4215-8d27-06b943c9ce03",
   "metadata": {
    "tags": []
   },
   "outputs": [],
   "source": [
    "datumy"
   ]
  },
  {
   "cell_type": "code",
   "execution_count": null,
   "id": "b09d8517-b186-48e9-90d5-2c0e3c18a42f",
   "metadata": {
    "tags": []
   },
   "outputs": [],
   "source": [
    "type(datumy)"
   ]
  },
  {
   "cell_type": "markdown",
   "id": "398cdf52-c51b-45cb-b28d-92a8f88450d4",
   "metadata": {},
   "source": [
    "Zatímco pole hodnot s datumy, které funkce `to_datetime` zpracuje, vrací objekt typu `DatetimeIndex`."
   ]
  },
  {
   "cell_type": "markdown",
   "id": "1abc3650-44d8-4c81-8008-2b725745d26c",
   "metadata": {},
   "source": [
    "<br>\n",
    "\n",
    "Objekt `DatetimeIndex` potom můžeš konvertovat na `PeriodIndex` pomocí *metody* `to_period`:"
   ]
  },
  {
   "cell_type": "code",
   "execution_count": null,
   "id": "69fab45e-b3ce-4339-b19e-206094cc772d",
   "metadata": {
    "tags": []
   },
   "outputs": [],
   "source": [
    "datumy.to_period?"
   ]
  },
  {
   "cell_type": "markdown",
   "id": "87f61609-e5ab-4239-9d88-20b88f423e19",
   "metadata": {},
   "source": [
    "<br>\n",
    "\n",
    "Tato metoda je užitečná, pokud chcete převést časové řady **na určité časové období**.\n",
    "\n",
    "Když budeš třeba potřebovat převést hodnoty **z denních dat na měsíční data**."
   ]
  },
  {
   "cell_type": "markdown",
   "id": "1816df76-13e9-466e-9870-db1a78a59d0a",
   "metadata": {},
   "source": [
    "#### Denní data"
   ]
  },
  {
   "cell_type": "code",
   "execution_count": null,
   "id": "1895f60c-e502-4774-beb9-879cc9ce14a7",
   "metadata": {
    "tags": []
   },
   "outputs": [],
   "source": [
    "datumy.to_period(\"D\")"
   ]
  },
  {
   "cell_type": "markdown",
   "id": "c3dc0b4b-39a7-4e98-be9c-79033712c7de",
   "metadata": {},
   "source": [
    "#### Měsíční data"
   ]
  },
  {
   "cell_type": "code",
   "execution_count": null,
   "id": "2e5ad75b-4fd1-4440-9e97-7103071881c0",
   "metadata": {
    "tags": []
   },
   "outputs": [],
   "source": [
    "datumy.to_period(\"M\")"
   ]
  },
  {
   "cell_type": "markdown",
   "id": "81fcc3eb-80d2-49cc-b78f-583ecfaec434",
   "metadata": {},
   "source": [
    "<br>\n",
    "\n",
    "### Funkce DATE_RANGE\n",
    "\n",
    "---"
   ]
  },
  {
   "cell_type": "code",
   "execution_count": null,
   "id": "925f3b81-893a-47bd-bf1d-eedcd9da56e1",
   "metadata": {
    "tags": []
   },
   "outputs": [],
   "source": [
    "from pandas import date_range, DataFrame"
   ]
  },
  {
   "cell_type": "code",
   "execution_count": null,
   "id": "24c0df4b-1ce3-4a36-8f4f-6182d78f2042",
   "metadata": {
    "tags": []
   },
   "outputs": [],
   "source": [
    "date_range(start='2023-01-01', periods=10, freq='D')"
   ]
  },
  {
   "cell_type": "code",
   "execution_count": null,
   "id": "309cbc5c-aa51-44de-b3f0-5822f534725d",
   "metadata": {
    "tags": []
   },
   "outputs": [],
   "source": [
    "date_range(start='2023-01-01', periods=10, freq='M')"
   ]
  },
  {
   "cell_type": "code",
   "execution_count": null,
   "id": "30185bce-790c-4e54-a875-60ff0235d47f",
   "metadata": {
    "tags": []
   },
   "outputs": [],
   "source": [
    "data = {\n",
    "    'date': date_range(start='2022-01-01', periods=10, freq='D'),\n",
    "    'sales': [100, 102, 105, 107, 110, 112, 115, 117, 120, 122]\n",
    "}"
   ]
  },
  {
   "cell_type": "code",
   "execution_count": null,
   "id": "c442d927-aa44-4a0a-b9de-8b5d389d2408",
   "metadata": {
    "tags": []
   },
   "outputs": [],
   "source": [
    "data"
   ]
  },
  {
   "cell_type": "code",
   "execution_count": null,
   "id": "6ca14750-9cb0-4ec3-a907-8f6f96aa3d1f",
   "metadata": {
    "tags": []
   },
   "outputs": [],
   "source": [
    "df_data = DataFrame(data)"
   ]
  },
  {
   "cell_type": "code",
   "execution_count": null,
   "id": "2cb2f58e-8bde-4a77-9d85-d5eaee6e9669",
   "metadata": {
    "tags": []
   },
   "outputs": [],
   "source": [
    "df_data.head(3)"
   ]
  },
  {
   "cell_type": "code",
   "execution_count": null,
   "id": "02ad7d9b-fb68-4450-b1db-52dbf02b70ec",
   "metadata": {
    "tags": []
   },
   "outputs": [],
   "source": [
    "df_data.set_index('date', inplace=True)"
   ]
  },
  {
   "cell_type": "code",
   "execution_count": null,
   "id": "1858addf-020f-4294-beb6-dd3485adbf17",
   "metadata": {
    "tags": []
   },
   "outputs": [],
   "source": [
    "df_data.head(3)"
   ]
  },
  {
   "cell_type": "code",
   "execution_count": null,
   "id": "6f08f86d-35db-4cc1-901a-a58090cef872",
   "metadata": {
    "tags": []
   },
   "outputs": [],
   "source": [
    "df_period_y = df_data.to_period(freq='M')"
   ]
  },
  {
   "cell_type": "code",
   "execution_count": null,
   "id": "07c044ce-20c8-4fda-ad9d-75a7abed07a9",
   "metadata": {
    "tags": []
   },
   "outputs": [],
   "source": [
    "df_period_y"
   ]
  },
  {
   "cell_type": "markdown",
   "id": "660a2db5-b2e7-4a86-862c-8a7df9601da4",
   "metadata": {
    "tags": []
   },
   "source": [
    "<br>\n",
    "\n",
    "#### Počet period\n",
    "\n",
    "---\n",
    "\n",
    "Nachystá objekt, který vypracuje tolik period, které definuješ pomocí parametru `periods`:"
   ]
  },
  {
   "cell_type": "code",
   "execution_count": null,
   "id": "9c606963-56de-43ee-8aa0-b0d701fc0a73",
   "metadata": {
    "tags": []
   },
   "outputs": [],
   "source": [
    "date_range(start='2000-01-01', periods=10, freq='Y')"
   ]
  },
  {
   "cell_type": "code",
   "execution_count": null,
   "id": "5f7bc948-6c64-4b46-9c9f-876090d3c673",
   "metadata": {
    "tags": []
   },
   "outputs": [],
   "source": [
    "# date_range?"
   ]
  },
  {
   "cell_type": "code",
   "execution_count": null,
   "id": "ba9c46b2-30e9-4b5d-bc8a-76d5c9265cb4",
   "metadata": {
    "tags": []
   },
   "outputs": [],
   "source": [
    "datumy_ind = date_range(start=\"01-01-1992\", periods=8)  # defaultně denní frekvence"
   ]
  },
  {
   "cell_type": "code",
   "execution_count": null,
   "id": "082c41cf-947e-4b1a-892a-86f9ebeb19db",
   "metadata": {
    "tags": []
   },
   "outputs": [],
   "source": [
    "datumy_ind"
   ]
  },
  {
   "cell_type": "markdown",
   "id": "0be34411-4c4b-45ff-b2cf-175d343b903f",
   "metadata": {},
   "source": [
    "<br>\n",
    "\n",
    "#### Frekvence\n",
    "\n",
    "---"
   ]
  },
  {
   "cell_type": "code",
   "execution_count": null,
   "id": "b67392de-ea40-44d3-83ed-39739ad5a8ec",
   "metadata": {
    "tags": []
   },
   "outputs": [],
   "source": [
    "datumy_mesicne_ind = date_range(\"01-01-1992\", periods=8, freq=\"M\")"
   ]
  },
  {
   "cell_type": "code",
   "execution_count": null,
   "id": "bbf13f30-b13f-46cf-ab94-648f43e978af",
   "metadata": {
    "tags": []
   },
   "outputs": [],
   "source": [
    "datumy_mesicne_ind"
   ]
  },
  {
   "cell_type": "markdown",
   "id": "1f8b2bf6-5315-48c0-8437-18e59eda686d",
   "metadata": {},
   "source": [
    "<br>\n",
    "\n",
    "### Frekvence\n",
    "\n",
    "Časovou paletou frekvencí, kterou framework `pandas` nabízí je tato tabulka:\n",
    "\n",
    "| String | Popisek |\n",
    "| :-: | :- |\n",
    "| `D` | kalendářní den |\n",
    "| `W` | týden |\n",
    "| `M` | konec měsíce |\n",
    "| `Q` | konec čtvrtletí |\n",
    "| `A` | konec roku |\n",
    "| `H` | hodiny |\n",
    "| `T` | minuty |\n",
    "| `S` | vteřiny |\n",
    "| `B` | pracovní den |\n",
    "| `BM` | konec pracovníḧo měsíce |\n",
    "| `BQ` | konec pracovního čtvrtletí |"
   ]
  },
  {
   "cell_type": "markdown",
   "id": "62fbb90d-dc45-4935-ad5e-87beaae4cbb4",
   "metadata": {},
   "source": [
    "<br>\n",
    "\n",
    "#### Hodinové periody\n",
    "\n",
    "---"
   ]
  },
  {
   "cell_type": "code",
   "execution_count": null,
   "id": "e599a9eb-ebff-4b15-81eb-447a56d49f2a",
   "metadata": {
    "tags": []
   },
   "outputs": [],
   "source": [
    "from pandas import timedelta_range"
   ]
  },
  {
   "cell_type": "code",
   "execution_count": null,
   "id": "23e2cdfa-41a7-46f2-860a-76f473801c66",
   "metadata": {
    "tags": []
   },
   "outputs": [],
   "source": [
    "hodinove_ind = timedelta_range(0, periods=12, freq=\"H\")"
   ]
  },
  {
   "cell_type": "code",
   "execution_count": null,
   "id": "8ca56f2c-855a-4ac7-acde-c19a5700b3ba",
   "metadata": {
    "tags": []
   },
   "outputs": [],
   "source": [
    "hodinove_ind"
   ]
  },
  {
   "cell_type": "markdown",
   "id": "db3d9da8-d3f8-4ae6-8d2f-3edb8574b186",
   "metadata": {},
   "source": [
    "#### Netradiční frekvence\n",
    "\n",
    "---"
   ]
  },
  {
   "cell_type": "code",
   "execution_count": null,
   "id": "d018ea20-0961-4ebd-a8dd-1e89caba59af",
   "metadata": {
    "tags": []
   },
   "outputs": [],
   "source": [
    "timedelta_range(0, periods=10, freq=\"1H15T\")"
   ]
  },
  {
   "cell_type": "markdown",
   "id": "0cb1ee2d-8931-4b29-9ad1-75ef1af72239",
   "metadata": {
    "tags": []
   },
   "source": [
    "<br>\n",
    "\n",
    "### Resampling, snížení frekvence\n",
    "\n",
    "---"
   ]
  },
  {
   "cell_type": "markdown",
   "id": "360e9694-210f-4228-956f-bc0d2cb02943",
   "metadata": {
    "tags": []
   },
   "source": [
    "*Resampling* nebo také *převzorkování* je proces, který upravuje frekvenci časové řady.\n",
    "\n",
    "*Resampling* se obvykle používá **pro snížení frekvence** (z hodinových dat na denní data).\n",
    "\n",
    "*Resampling* zahrnuje *agregaci* dat.\n",
    "\n",
    "V `pandas` se k tomu používá metoda `resample`, která má jako parametr novou frekvenci, na kterou chcete data převést:"
   ]
  },
  {
   "cell_type": "code",
   "execution_count": null,
   "id": "8dc6f35e-ef80-4694-96ff-916840acab9b",
   "metadata": {
    "tags": []
   },
   "outputs": [],
   "source": [
    "data = {\n",
    "    'date': date_range(start='2022-01-01', periods=60, freq='D'),\n",
    "    'sales': range(60)\n",
    "}"
   ]
  },
  {
   "cell_type": "code",
   "execution_count": null,
   "id": "83ab0e0b-2ecc-4863-89b5-38a2eff1324d",
   "metadata": {
    "tags": []
   },
   "outputs": [],
   "source": [
    "data"
   ]
  },
  {
   "cell_type": "code",
   "execution_count": null,
   "id": "e270307f-2ffc-4319-ad9a-3b4f5ed2525d",
   "metadata": {
    "tags": []
   },
   "outputs": [],
   "source": [
    "df_data = DataFrame(data)"
   ]
  },
  {
   "cell_type": "code",
   "execution_count": null,
   "id": "ddfc2260-ead0-4ade-9c1f-29b684ef09a7",
   "metadata": {},
   "outputs": [],
   "source": [
    "df_data"
   ]
  },
  {
   "cell_type": "code",
   "execution_count": null,
   "id": "a1b2d7f8-1f6d-4b2f-a644-b2eee524c1fb",
   "metadata": {
    "tags": []
   },
   "outputs": [],
   "source": [
    "df_data.set_index('date', inplace=True)"
   ]
  },
  {
   "cell_type": "code",
   "execution_count": null,
   "id": "973b84a5-f468-4ec1-aef3-b64e85c709da",
   "metadata": {
    "tags": []
   },
   "outputs": [],
   "source": [
    "df_data.head()"
   ]
  },
  {
   "cell_type": "code",
   "execution_count": null,
   "id": "d7944f7b-e4e2-4a80-95d0-3e7685181d2d",
   "metadata": {
    "tags": []
   },
   "outputs": [],
   "source": [
    "seskupena_data = df_data.resample('Y').sum()"
   ]
  },
  {
   "cell_type": "code",
   "execution_count": null,
   "id": "6f1cbd90-9075-42c4-8383-5b5cb62043e1",
   "metadata": {
    "tags": []
   },
   "outputs": [],
   "source": [
    "seskupena_data"
   ]
  },
  {
   "cell_type": "markdown",
   "id": "2409459c-abcc-4c21-a35f-a12b4f849f95",
   "metadata": {},
   "source": [
    "<br>\n",
    "\n",
    "### Zpřesňování řady\n",
    "\n",
    "---\n",
    "\n",
    "Zahrnuje **zvýšení frekvence časových řad**.\n",
    "\n",
    "Přičemž se nově vytvořené hodnoty obvykle interpolují nebo doplňují nějakou konstantou.\n",
    "\n",
    "V pandas se k zpřesňování používá metoda `asfreq`, která má jako parametr novou frekvenci, na kterou chcete data převést."
   ]
  },
  {
   "cell_type": "code",
   "execution_count": null,
   "id": "4cf9ca9b-8abe-400f-b5f9-41b9e4e5a011",
   "metadata": {
    "tags": []
   },
   "outputs": [],
   "source": [
    "data = {\n",
    "    'date': date_range(start='2022-01-01', end='2022-03-01', freq='MS'),  # M - konec měsíce\n",
    "    'sales': [100, 120, 150]\n",
    "}"
   ]
  },
  {
   "cell_type": "code",
   "execution_count": null,
   "id": "a288549f-7193-4358-b7d2-2214b8142420",
   "metadata": {
    "tags": []
   },
   "outputs": [],
   "source": [
    "df_data = DataFrame(data)"
   ]
  },
  {
   "cell_type": "code",
   "execution_count": null,
   "id": "eb390e0b-7b8b-4e35-9668-62b623be5fb0",
   "metadata": {
    "tags": []
   },
   "outputs": [],
   "source": [
    "df_data.head()"
   ]
  },
  {
   "cell_type": "code",
   "execution_count": null,
   "id": "92b5b854-c489-40e9-8fdf-8d0602a98f3f",
   "metadata": {
    "tags": []
   },
   "outputs": [],
   "source": [
    "df_data.set_index('date', inplace=True)"
   ]
  },
  {
   "cell_type": "code",
   "execution_count": null,
   "id": "55e46f23-828e-453b-bc42-37dbd7606546",
   "metadata": {
    "tags": []
   },
   "outputs": [],
   "source": [
    "df_data.head()"
   ]
  },
  {
   "cell_type": "code",
   "execution_count": null,
   "id": "f1274a83-335d-4976-becb-67e66190ea7f",
   "metadata": {
    "tags": []
   },
   "outputs": [],
   "source": [
    "denni_data = df_data.asfreq('D', method='bfill')"
   ]
  },
  {
   "cell_type": "code",
   "execution_count": null,
   "id": "6643a169-475c-4e5f-86f5-138c7de33e7b",
   "metadata": {
    "tags": []
   },
   "outputs": [],
   "source": [
    "denni_data.head()"
   ]
  },
  {
   "cell_type": "markdown",
   "id": "81ac6ba8-0520-4be2-ac28-dfd2ab2bd412",
   "metadata": {
    "tags": []
   },
   "source": [
    "Metoda `asfreq` bere jako parametr novou frekvenci, na kterou chceme data převést.\n",
    "\n",
    "V případě výše jde o frekvenci `D`, což znamená **denní data**.\n",
    "\n",
    "Protože při zpřesňování se **vytvoří chybějící hodnoty** (v důsledku zvýšení frekvence), je potřeba zvolit metodu pro jejich doplnění.\n",
    "\n",
    "Výš jde o metodu `forward fill` (parametr `method='ffill'`), která kopíruje předchozí hodnotu pro výplň chybějících hodnot.\n",
    "\n",
    "Další možností je použít metodu `'back fill'` (parametr `method='bfill'`), která kopíruje následující hodnotu pro výplň chybějících hodnot."
   ]
  },
  {
   "cell_type": "markdown",
   "id": "57418c5b-f760-4e3d-9d2c-ce578d2f8ee4",
   "metadata": {},
   "source": [
    "<br>\n",
    "\n",
    "##### **🧠 CVIČENÍ 🧠, procvič si časové řady**"
   ]
  },
  {
   "cell_type": "markdown",
   "id": "d0255aee-a7b8-42cb-b38b-e781cc708a27",
   "metadata": {},
   "source": [
    "Analyzuj prodeje produktu ve fiktivní společnosti během jednoho roku a zjisti následující:\n",
    "1. Celkový prodej za každý měsíc.\n",
    "2. Průměrný prodej za každý den v týdnu.\n",
    "3. Denní prodej za poslední týden."
   ]
  },
  {
   "cell_type": "code",
   "execution_count": null,
   "id": "3de27864-4e8c-48b4-9b7a-67365cae0780",
   "metadata": {
    "tags": []
   },
   "outputs": [],
   "source": [
    "import pandas as pd\n",
    "import numpy as np\n",
    "\n",
    "denni_datumy = pd.date_range(start='2022-01-01', end='2022-12-31', freq='D')\n",
    "prodeje = np.random.randint(10, 100, size=(len(denni_datumy),))\n",
    "\n",
    "data = {\n",
    "    'datumy': denni_datumy,\n",
    "    'prodeje': prodeje\n",
    "}\n",
    "\n",
    "df_prodeje = pd.DataFrame(data)\n",
    "df_prodeje.set_index('datumy', inplace=True)"
   ]
  },
  {
   "cell_type": "code",
   "execution_count": null,
   "id": "9986aec6-753b-4224-af49-ea5b005b2f06",
   "metadata": {
    "tags": []
   },
   "outputs": [],
   "source": [
    "df_prodeje.tail()"
   ]
  },
  {
   "cell_type": "code",
   "execution_count": null,
   "id": "96f6fa85-99ba-4037-8de7-ce87892e026a",
   "metadata": {},
   "outputs": [],
   "source": [
    "from datetime import timedelta"
   ]
  },
  {
   "cell_type": "code",
   "execution_count": null,
   "id": "75530596-73e7-4392-9c66-88bc3ab6d5e7",
   "metadata": {
    "tags": []
   },
   "outputs": [],
   "source": [
    "#Úkol 1\n",
    "mesicni_prodej = df_prodeje.resample( 'M' ).sum( )\n",
    "mesicni_prodej['mesic'] = mesicni_prodej.index.month_name( )\n",
    "mesicni_prodej = mesicni_prodej.set_index( 'mesic' )\n",
    "# display( mesicni_prodej )"
   ]
  },
  {
   "cell_type": "code",
   "execution_count": null,
   "id": "9300e147-9fb3-4851-a2a5-ebbcc37b9b9c",
   "metadata": {
    "tags": []
   },
   "outputs": [],
   "source": [
    "mesicni_prodej"
   ]
  },
  {
   "cell_type": "code",
   "execution_count": null,
   "id": "15ba2ec1-dcdd-490a-9346-db1d310723e4",
   "metadata": {
    "tags": []
   },
   "outputs": [],
   "source": [
    "#Úkol 2\n",
    "df_prodeje['den'] = df_prodeje.index.day_name( )\n",
    "prumerne_prodeje = df_prodeje.groupby( by=\"den\" ).mean( )\n",
    "prumerne_prodeje = prumerne_prodeje"
   ]
  },
  {
   "cell_type": "code",
   "execution_count": null,
   "id": "fe184d1d-a073-4909-abbd-7bcd4a2faecf",
   "metadata": {
    "tags": []
   },
   "outputs": [],
   "source": [
    "prumerne_prodeje"
   ]
  },
  {
   "cell_type": "code",
   "execution_count": null,
   "id": "cd6c29b4-35c5-4ee7-9632-139483993af9",
   "metadata": {
    "tags": []
   },
   "outputs": [],
   "source": [
    "\"Timedelta\" in dir()"
   ]
  },
  {
   "cell_type": "code",
   "execution_count": null,
   "id": "440ccdbf-1ef7-4404-83bd-299ad480678b",
   "metadata": {
    "tags": []
   },
   "outputs": [],
   "source": [
    "#Úkol 3\n",
    "zacatek_posledniho_tydne = df_prodeje.index.max( ) - Timedelta( days = 7 )\n",
    "posledni_tyden = df_prodeje[df_prodeje.index > zacatek_posledniho_tydne]"
   ]
  },
  {
   "cell_type": "code",
   "execution_count": null,
   "id": "44723a15-d6a5-4615-8e54-008093a39b9d",
   "metadata": {
    "tags": []
   },
   "outputs": [],
   "source": [
    "posledni_tyden"
   ]
  },
  {
   "cell_type": "markdown",
   "id": "b3392c3b-44c4-461d-b0c2-1911679eba2f",
   "metadata": {},
   "source": [
    "<details>\n",
    "    <summary>▶️ Řešení</summary>\n",
    "    \n",
    "    ```python\n",
    "    mesicni_prodej = df_prodeje.resample('M').sum()\n",
    "\n",
    "    df_prodeje['weekday'] = df_prodeje.index.weekday\n",
    "    denni_prumer = df_prodeje.groupby('weekday')['prodeje'].mean()\n",
    "\n",
    "    prodej_posledni_vikend = df_prodeje.loc['2022-12-25':, 'prodeje']\n",
    "    ```\n",
    "</details>"
   ]
  },
  {
   "cell_type": "code",
   "execution_count": null,
   "id": "d1052cb9-7bdc-4fc2-adb1-71919e6d21ed",
   "metadata": {},
   "outputs": [],
   "source": []
  },
  {
   "cell_type": "markdown",
   "id": "8d6f2fb4-4f9a-4e52-9826-fe5d2db2413b",
   "metadata": {},
   "source": [
    "## Výkonný PANDAS\n",
    "\n",
    "---\n",
    "\n",
    "<img src=\"https://external-content.duckduckgo.com/iu/?u=https%3A%2F%2Ftse1.mm.bing.net%2Fth%3Fid%3DOIP.riOR-y2_yu_2cGdEN2e6-wAAAA%26pid%3DApi&f=1&ipt=638c4516d155ff9768066e17887a621cbad0de6bce639a40be98f5dedbce67ac&ipo=images\" width=\"160\" style=\"margin-left:auto; margin-right:auto\"/>"
   ]
  },
  {
   "cell_type": "markdown",
   "id": "6fe330bb-362e-4faa-bd19-b1ebb5db78a6",
   "metadata": {},
   "source": [
    "Z předchozích ukázek a popisků (seskupování) tedy můžeš chápat, že skutečný výkon *frameworku* tkví v převedení **základních operací do jazyka C**.\n",
    "\n",
    "Tyto abstrakce jsou účinné a efektivní pro mnoho běžných případů použití.\n",
    "\n",
    "Vytvářejí ale spousty dočasných objektů, což může způsobit nepřiměřenou režii výpočetního času a paměti."
   ]
  },
  {
   "cell_type": "markdown",
   "id": "c559f494-40a6-47f1-9da4-1b6cf4204945",
   "metadata": {},
   "source": [
    "<br>\n",
    "\n",
    "### EVAL a QUERY\n",
    "\n",
    "---\n",
    "\n",
    "Přímý přístup k operacím rychlosti C bez nákladné alokace `pandas` poskytuje funkce `eval` a `query`.\n",
    "\n",
    "Ty spolehájí na funkci `numexpr`."
   ]
  },
  {
   "cell_type": "markdown",
   "id": "c67464b1-a8e4-40f9-8d2e-7a99b5a76065",
   "metadata": {},
   "source": [
    "<br>\n",
    "\n",
    "### Funkce EVAL\n",
    "\n",
    "---"
   ]
  },
  {
   "cell_type": "markdown",
   "id": "83f22aee-533f-4d2e-ad74-c3d649cd49b6",
   "metadata": {},
   "source": [
    "Dva důvody, proč používat funkci `eval` místo obyčejného Pythonu:\n",
    "1. velké objekty typu `DataFrame` jsou vyhodnocovány efektivněji,\n",
    "2. aritmetické a logické výrazy projdou naráz základním enginem (pomocí `numexpr`)."
   ]
  },
  {
   "cell_type": "markdown",
   "id": "9f5f15c6-64ad-4bc1-a5fe-c40850d2db1a",
   "metadata": {},
   "source": [
    "**Pozor!** Dobrá obecná pomůcka říká, že není nutné využívat funkci `eval` pro tabulky, které jsou kratší než 10 000 řádků. "
   ]
  },
  {
   "cell_type": "markdown",
   "id": "2c23bf00-e9fb-4241-b4a3-f3df4b89615e",
   "metadata": {},
   "source": [
    "### Použití EVAL\n",
    "\n",
    "---\n",
    "\n"
   ]
  },
  {
   "cell_type": "markdown",
   "id": "745c98c1-0862-4854-b8f9-3f00bbef9fa9",
   "metadata": {},
   "source": [
    "Funkce `eval` slouží k efektivnímu vyhodnocení **aritmetických výrazů** na:\n",
    "* objekty `DataFrame`,\n",
    "* objekty `Series`.\n",
    "\n",
    "Její největší výhodou je **rychlost a efektivita**, která spočívá v minimalizaci paměťové zátěže a zrychlení operací."
   ]
  },
  {
   "cell_type": "markdown",
   "id": "d82db24c-8fb4-4e30-ae5b-82427363c029",
   "metadata": {},
   "source": [
    "Když pracuješ **s velkými datovými sadami**, paměťová zátěž a rychlost se stávají klíčovými faktory.\n",
    "\n",
    "Funkce `eval` optimalizuje výpočetní proces tím, že snižuje množství alokované paměti a zrychluje výpočetní operace."
   ]
  },
  {
   "cell_type": "markdown",
   "id": "09b1ba30-1a7e-49a4-82f7-da25ddd4ccb1",
   "metadata": {},
   "source": [
    "<br>\n",
    "\n",
    "### Ukázka EVAL\n",
    "\n",
    "---"
   ]
  },
  {
   "cell_type": "markdown",
   "id": "3253ad1d-cc90-4a39-bf6d-66a794d9d2d4",
   "metadata": {},
   "source": [
    "Pro zadaný *dummy dataset* vytvoř **nový sloupeček** `sloupec_D`, podle vzoru:\n",
    "`A + B * C`"
   ]
  },
  {
   "cell_type": "code",
   "execution_count": null,
   "id": "b3631a72-bb38-4f68-944e-87f4efb8fbea",
   "metadata": {
    "tags": []
   },
   "outputs": [],
   "source": [
    "import pandas as pd"
   ]
  },
  {
   "cell_type": "code",
   "execution_count": null,
   "id": "45edb37f-9d97-4756-971d-169acfef2506",
   "metadata": {
    "tags": []
   },
   "outputs": [],
   "source": [
    "data = {'A': [1, 2, 3, 4, 5],\n",
    "        'B': [6, 7, 8, 9, 10],\n",
    "        'C': [11, 12, 13, 14, 15]}"
   ]
  },
  {
   "cell_type": "code",
   "execution_count": null,
   "id": "02c0def6-0592-438d-8c10-4b6d516caf0a",
   "metadata": {
    "tags": []
   },
   "outputs": [],
   "source": [
    "df_data = pd.DataFrame(data)"
   ]
  },
  {
   "cell_type": "code",
   "execution_count": null,
   "id": "d38138de-83ac-4853-8b8a-5c2f8052471d",
   "metadata": {
    "tags": []
   },
   "outputs": [],
   "source": [
    "df_data.head()"
   ]
  },
  {
   "cell_type": "code",
   "execution_count": null,
   "id": "23ff44dd-357e-4958-9307-46afaeae4062",
   "metadata": {
    "tags": []
   },
   "outputs": [],
   "source": [
    "df_data['sloupec_D'] = df_data['A'] + df_data['B'] * df_data['C']"
   ]
  },
  {
   "cell_type": "code",
   "execution_count": null,
   "id": "d2140566-fd55-4d2a-aa93-ea08b1817525",
   "metadata": {
    "tags": []
   },
   "outputs": [],
   "source": [
    "df_data.head()"
   ]
  },
  {
   "cell_type": "markdown",
   "id": "087090cc-830f-4242-ba79-16da33451c80",
   "metadata": {},
   "source": [
    "<br>\n",
    "\n",
    "*Alternativní způsob*, jak provést stejný výpočet, pokud máš dlouhou tabulku nebo sloupeček, je použití funkce `eval`:"
   ]
  },
  {
   "cell_type": "code",
   "execution_count": null,
   "id": "3389fe17-6208-46c6-a81e-d675d16739ca",
   "metadata": {
    "tags": []
   },
   "outputs": [],
   "source": [
    "df_data['sloupecek_D'] = df_data.eval('A + B * C')"
   ]
  },
  {
   "cell_type": "code",
   "execution_count": null,
   "id": "183adf3a-6760-4462-8b94-cbea3f3c8854",
   "metadata": {
    "tags": []
   },
   "outputs": [],
   "source": [
    "df_data.head()"
   ]
  },
  {
   "cell_type": "code",
   "execution_count": null,
   "id": "c2e1b0e1-e511-4849-85ea-956d55ce3d24",
   "metadata": {
    "tags": []
   },
   "outputs": [],
   "source": [
    "from pandas import eval as ev"
   ]
  },
  {
   "cell_type": "code",
   "execution_count": null,
   "id": "7bdd2a2a-dc4a-4ac0-b745-07d2eebb00e0",
   "metadata": {
    "tags": []
   },
   "outputs": [],
   "source": [
    "# ev?"
   ]
  },
  {
   "cell_type": "markdown",
   "id": "14009a70-52e0-4a0f-b725-bf73255b643f",
   "metadata": {},
   "source": [
    "<br>\n",
    "\n",
    "Funkce `eval` zpracovává zadaný `str` podobně jako built-in funkce `eval`."
   ]
  },
  {
   "cell_type": "markdown",
   "id": "6c56106d-2764-4d80-acd2-89c4afe3da9d",
   "metadata": {},
   "source": [
    "Souhrnně lze říci:\n",
    "* funkci `eval` použij tehdy, pokud je [dataset dlouhý](https://pandas.pydata.org/pandas-docs/stable/user_guide/enhancingperf.html#pandas-eval-performance),\n",
    "* ve všech ostatních scénářích, kde nepotřebuješ šetřit pamět a čas použij klasickou syntaxi."
   ]
  },
  {
   "cell_type": "markdown",
   "id": "dc7f5114-6a19-48d8-98ef-0b3cdc838061",
   "metadata": {},
   "source": [
    "### Výkon EVAL\n",
    "\n",
    "---"
   ]
  },
  {
   "cell_type": "code",
   "execution_count": null,
   "id": "b36e8d82-f756-4042-9cd6-e39115037a15",
   "metadata": {
    "tags": []
   },
   "outputs": [],
   "source": [
    "import numpy as np\n",
    "import pandas as pd"
   ]
  },
  {
   "cell_type": "code",
   "execution_count": null,
   "id": "dbe788f7-03e3-4451-9fb8-c7ad9e82fb2d",
   "metadata": {
    "tags": []
   },
   "outputs": [],
   "source": [
    "pocet_radku, pocet_sloupcu = 1_000_000, 100"
   ]
  },
  {
   "cell_type": "code",
   "execution_count": null,
   "id": "2586300c-9e13-47fe-adfa-dd1ce2552df6",
   "metadata": {
    "tags": []
   },
   "outputs": [],
   "source": [
    "rng = np.random.RandomState()"
   ]
  },
  {
   "cell_type": "code",
   "execution_count": null,
   "id": "5a15dd54-cca5-443d-b781-3311c4d000cb",
   "metadata": {
    "tags": []
   },
   "outputs": [],
   "source": [
    "dframe_1, dframe_2, dframe_3, dframe_4 = [DataFrame(rng.rand(pocet_radku, pocet_sloupcu)) for _ in range(4)]"
   ]
  },
  {
   "cell_type": "code",
   "execution_count": null,
   "id": "abfe1aec-8b44-4932-aa69-4dd172768144",
   "metadata": {
    "tags": []
   },
   "outputs": [],
   "source": [
    "dframe_1.head()"
   ]
  },
  {
   "cell_type": "markdown",
   "id": "b4d87b77-dc55-4fc2-a94f-6cc299c8cccd",
   "metadata": {},
   "source": [
    "#### Ukázka sčítání hodnot tabulek\n",
    "\n",
    "---"
   ]
  },
  {
   "cell_type": "code",
   "execution_count": null,
   "id": "752fa8eb-9a1c-44a8-89d6-f284ad8284cc",
   "metadata": {
    "tags": []
   },
   "outputs": [],
   "source": [
    "from pandas import DataFrame"
   ]
  },
  {
   "cell_type": "code",
   "execution_count": null,
   "id": "f1e55042-5f3e-4e60-a529-935b6fffd24c",
   "metadata": {
    "tags": []
   },
   "outputs": [],
   "source": [
    "df1 = DataFrame({\"A\": [1, 2], \"B\": [3, 4]})"
   ]
  },
  {
   "cell_type": "code",
   "execution_count": null,
   "id": "e0a41043-feb9-4d62-b74b-f4e462bcb7b0",
   "metadata": {
    "tags": []
   },
   "outputs": [],
   "source": [
    "df2 = DataFrame({\"A\": [2, 3], \"B\": [1, 2]})"
   ]
  },
  {
   "cell_type": "code",
   "execution_count": null,
   "id": "bd50d89d-2cfc-4765-a2b9-f31d7f32856c",
   "metadata": {
    "tags": []
   },
   "outputs": [],
   "source": [
    "df1 + df2"
   ]
  },
  {
   "cell_type": "code",
   "execution_count": null,
   "id": "8ca1371b-c3ae-4750-9d29-842788161c01",
   "metadata": {
    "tags": []
   },
   "outputs": [],
   "source": [
    "from pandas import eval as ev"
   ]
  },
  {
   "cell_type": "code",
   "execution_count": null,
   "id": "52ef6f37-b751-4239-bce4-12d09ed06276",
   "metadata": {
    "tags": []
   },
   "outputs": [],
   "source": [
    "ev?"
   ]
  },
  {
   "cell_type": "code",
   "execution_count": null,
   "id": "b8416058-ad47-4cf0-a59e-22870bf30fc9",
   "metadata": {
    "tags": []
   },
   "outputs": [],
   "source": [
    "%timeit dframe_1 + dframe_2 + dframe_3 + dframe_4"
   ]
  },
  {
   "cell_type": "code",
   "execution_count": null,
   "id": "805bdc56-d6fc-45cf-b45c-15d878a0695d",
   "metadata": {
    "tags": []
   },
   "outputs": [],
   "source": [
    "%timeit ev(\"dframe_1 + dframe_2 + dframe_3 + dframe_4\", engine=\"numexpr\")  # bez engine=\"numexpr\""
   ]
  },
  {
   "cell_type": "code",
   "execution_count": null,
   "id": "82ba9347-9f6f-4b9d-a5ef-6ba552620e53",
   "metadata": {
    "tags": []
   },
   "outputs": [],
   "source": [
    "!pip install numexpr"
   ]
  },
  {
   "cell_type": "code",
   "execution_count": null,
   "id": "4924e24e-8abf-42d9-8a23-c0cd2dfafd0d",
   "metadata": {},
   "outputs": [],
   "source": [
    "# 1.10 s"
   ]
  },
  {
   "cell_type": "code",
   "execution_count": null,
   "id": "7c613fb4-5d79-47f0-a627-9cf9d4c1e3bd",
   "metadata": {
    "tags": []
   },
   "outputs": [],
   "source": [
    "# pd.eval?"
   ]
  },
  {
   "cell_type": "markdown",
   "id": "562a5002-5abc-4a0a-9e8b-331b6dc1605d",
   "metadata": {},
   "source": [
    "<br>\n",
    "\n",
    "### Funkce QUERY\n",
    "\n",
    "---"
   ]
  },
  {
   "cell_type": "markdown",
   "id": "a104c705-e309-4354-a682-a84c2c118ddd",
   "metadata": {},
   "source": [
    "Funkce `query` slouží k efektivnímu **filtrování řádků**.\n",
    "\n",
    "Filtrování probíhá na základě **zadané podmínky**.\n",
    "\n",
    "\n",
    "Hlavní výhodou jsou:\n",
    "* **snadná čitelnost**, umožňuje zapisovat podmínky ve snadno čitelné formě, zejména v případě složitějších dotazů,\n",
    "* **rychlost**, může být rychlejší než tradiční metody filtrování,(zejména pro velké datové sady)."
   ]
  },
  {
   "cell_type": "markdown",
   "id": "786cabe4-6b4f-446f-af9c-871eac9a3c96",
   "metadata": {},
   "source": [
    "### Ukázka QUERY\n",
    "\n",
    "---"
   ]
  },
  {
   "cell_type": "markdown",
   "id": "300cc00e-5148-4de1-a554-d7628bb9296f",
   "metadata": {},
   "source": [
    "Pro zadaný *dummy dataset* vyfiltruj takové záznamy, kde:\n",
    "1. Hodnoty ze sloupce A budou **menší než 4**,\n",
    "2. hodnoty ze sloupce B budou **větší než 6**,\n",
    "3. hodnoty ze sloupce C budou **větší než 11**."
   ]
  },
  {
   "cell_type": "code",
   "execution_count": null,
   "id": "74f8f26f-2c4a-4080-943b-e4c28472d56e",
   "metadata": {
    "tags": []
   },
   "outputs": [],
   "source": [
    "data = {'A': [1, 2, 3, 4, 5],\n",
    "        'B': [6, 7, 8, 9, 10],\n",
    "        'C': [11, 12, 13, 14, 15],\n",
    "        'D': [\"AA\", \"BB\", \"CC\", \"DD\", \"EE\"]\n",
    "}"
   ]
  },
  {
   "cell_type": "code",
   "execution_count": null,
   "id": "7ac69b33-e176-4189-a0a7-31570aa8295d",
   "metadata": {
    "tags": []
   },
   "outputs": [],
   "source": [
    "df_data = DataFrame(data)"
   ]
  },
  {
   "cell_type": "code",
   "execution_count": null,
   "id": "665540a6-fd89-4ce5-84f3-0ae995b1a776",
   "metadata": {
    "tags": []
   },
   "outputs": [],
   "source": [
    "df_data"
   ]
  },
  {
   "cell_type": "code",
   "execution_count": null,
   "id": "2e217495-afd6-4864-898a-6950048d5aa7",
   "metadata": {},
   "outputs": [],
   "source": [
    "df_filtrovane = df_data[(df_data['A'] < 4) & (df_data['B'] > 6) & (df_data['C'] > 11)]  # & - and, | - or"
   ]
  },
  {
   "cell_type": "code",
   "execution_count": null,
   "id": "25c2242d-6826-4861-94e2-3c9b990cd831",
   "metadata": {
    "tags": []
   },
   "outputs": [],
   "source": [
    "df_filtrovane"
   ]
  },
  {
   "cell_type": "markdown",
   "id": "95277402-2c4d-4535-978e-1a1caa76264b",
   "metadata": {},
   "source": [
    "Zapisování pomocí *boolean indexování* je ovšem náročné jak pro zápis, tak pro čtení.\n",
    "\n",
    "<br>\n",
    "\n",
    "Pomocí funkce `query`:"
   ]
  },
  {
   "cell_type": "code",
   "execution_count": null,
   "id": "24a8ea27-ba15-404c-b85f-578de7053f0f",
   "metadata": {},
   "outputs": [],
   "source": [
    "df_filtrovane = df_data.query('A < 4 and B > 6 and C > 11')"
   ]
  },
  {
   "cell_type": "code",
   "execution_count": null,
   "id": "5ff9e717-f412-40ab-bbeb-ddd61867346b",
   "metadata": {},
   "outputs": [],
   "source": [
    "df_filtrovane"
   ]
  },
  {
   "cell_type": "markdown",
   "id": "5c23a4c1-e292-4655-894f-1b16e3223b17",
   "metadata": {},
   "source": [
    "#### WHERE 'D' LIKE 'CC'\n",
    "\n",
    "---"
   ]
  },
  {
   "cell_type": "code",
   "execution_count": null,
   "id": "8dcb9a05-0baf-435c-afb9-e56bac227152",
   "metadata": {
    "tags": []
   },
   "outputs": [],
   "source": [
    "df_filtrovane_str = df_data.query(\n",
    "    \"A < 4 and B > 6 and C > 11 and D.str.contains('CC')\"\n",
    ")  # LIKE"
   ]
  },
  {
   "cell_type": "code",
   "execution_count": null,
   "id": "9fd828ab-3ce8-4835-9155-b645e5859f2b",
   "metadata": {},
   "outputs": [],
   "source": [
    "df_filtrovane_str"
   ]
  },
  {
   "cell_type": "code",
   "execution_count": null,
   "id": "30c8b072-06cb-416f-be99-eba66b16fe76",
   "metadata": {
    "tags": []
   },
   "outputs": [],
   "source": [
    "df_filtrovane_str = df_data.query(\n",
    "    \"A < 4 and B > 6 and C > 11 and ~D.str.contains('CC')\"\n",
    ")  # NOT LIKE"
   ]
  },
  {
   "cell_type": "code",
   "execution_count": null,
   "id": "35e937b9-0ac1-475f-8621-ae662255f4a3",
   "metadata": {},
   "outputs": [],
   "source": [
    "df_filtrovane_str"
   ]
  },
  {
   "cell_type": "markdown",
   "id": "32c7e9d9-718e-488a-a2de-92b0f3268296",
   "metadata": {},
   "source": [
    "#### column_a NOT IN []\n",
    "\n",
    "---"
   ]
  },
  {
   "cell_type": "code",
   "execution_count": null,
   "id": "bf31343a-5658-40b9-ac62-8321f2ba002c",
   "metadata": {},
   "outputs": [],
   "source": [
    "\"A not in [1, 2]\""
   ]
  },
  {
   "cell_type": "code",
   "execution_count": null,
   "id": "014ff4f3-33c0-49c5-92f6-a7f029c65fdc",
   "metadata": {},
   "outputs": [],
   "source": [
    "\"A < 4 and B > 6 and C > 11 and D in ('AA', 'CC')\""
   ]
  },
  {
   "cell_type": "markdown",
   "id": "ed10df8f-96a6-46f1-a01f-4db816624b5e",
   "metadata": {},
   "source": [
    "<br>\n",
    "\n",
    "### Nedostatky QUERY\n",
    "\n",
    "---"
   ]
  },
  {
   "cell_type": "markdown",
   "id": "ad98dafc-10ff-43a7-8bee-8d0a7956db24",
   "metadata": {},
   "source": [
    "1. **Omezená syntaxe**, má omezenější syntaxi ve srovnání s běžným zápisem v Pythonu a nemusí podporovat [všechny operace](https://pandas.pydata.org/pandas-docs/stable/user_guide/enhancingperf.html#eval-examples),\n",
    "2. **Názvy sloupců**, pokud názvy sloupců obsahují **mezery nebo znaky**, musíš je uvést pomocí backticků a použít symbol `@` pro reference na proměnné mimo `DataFrame`."
   ]
  },
  {
   "cell_type": "code",
   "execution_count": null,
   "id": "7bb5941b-16b3-41f6-a94e-07d7c2fa9005",
   "metadata": {
    "tags": []
   },
   "outputs": [],
   "source": [
    "df_cisla = DataFrame({'Sloupec 1': [1, 2, 3, 4, 5], 'Sloupec 2': [10, 20, 30, 40, 50]})"
   ]
  },
  {
   "cell_type": "code",
   "execution_count": null,
   "id": "908a662c-2d8a-4624-b949-0463f4ba9c65",
   "metadata": {
    "tags": []
   },
   "outputs": [],
   "source": [
    "df_cisla"
   ]
  },
  {
   "cell_type": "code",
   "execution_count": null,
   "id": "69de5f13-3824-4ba5-8dd1-3785ad4bfd31",
   "metadata": {
    "tags": []
   },
   "outputs": [],
   "source": [
    "# vystup_1 = df_cisla.query('Sloupec 1 < 3')"
   ]
  },
  {
   "cell_type": "code",
   "execution_count": null,
   "id": "d376af6d-a92a-4538-84c1-a660480123fa",
   "metadata": {},
   "outputs": [],
   "source": [
    "limit = 3"
   ]
  },
  {
   "cell_type": "code",
   "execution_count": null,
   "id": "217e64c3-1c1e-48de-88aa-da71a5b449eb",
   "metadata": {
    "tags": []
   },
   "outputs": [],
   "source": [
    "vystup_2 = df_cisla.query('`Sloupec 1` < @limit')"
   ]
  },
  {
   "cell_type": "code",
   "execution_count": null,
   "id": "6073044d-fdb9-4d90-8cb2-7a16f800d2fc",
   "metadata": {
    "tags": []
   },
   "outputs": [],
   "source": [
    "vystup_2"
   ]
  },
  {
   "cell_type": "markdown",
   "id": "e4da62df-091e-4eb8-af04-3c0642c69f51",
   "metadata": {},
   "source": [
    "### Souhrn k EVAL a QUERY\n",
    "\n",
    "---\n",
    "\n",
    "Hlavním účelem těchto funkcí je aplikace na skutečně **velké datové sety**.\n",
    "\n",
    "Rozdíly u drobnějších datasetů **jsou často minimální**.\n",
    "\n",
    "Velký vliv na výstupný čas dělá parametr `engine`, který se snaží pracovat s knihovnou `numexpr`."
   ]
  },
  {
   "cell_type": "markdown",
   "id": "b4f97e9e-2ca1-4d5e-aa07-2242e78e2190",
   "metadata": {},
   "source": [
    "<br>\n",
    "\n",
    "#### **🧠 CVIČENÍ 🧠, procvič si funkce EVAL a QUERY**"
   ]
  },
  {
   "cell_type": "markdown",
   "id": "dd59c383-c646-4eeb-947b-d0a759c5f76d",
   "metadata": {
    "tags": []
   },
   "source": [
    "Analyzuj prodeje produktu ve fiktivní společnosti během jednoho roku a zjisti následující:\n",
    "1. Vyber studenty s věkem **mezi 20 a 22 lety (včetně)** a email, který obsahuje string **gmail.com**,\n",
    "2. vypočtěte *BMI* (Body Mass Index) pro každého studenta a přidejte ho do nového sloupce (vzorec: *váha[kg] / (výška[m] * výška[m])*)\n",
    "3. vyberte studenty s BMI **vyšším než 22** a kteří **pochází z měst Brno a Praha**."
   ]
  },
  {
   "cell_type": "code",
   "execution_count": null,
   "id": "82d9171c-07a2-4ded-9d79-b2d79e12a970",
   "metadata": {
    "tags": []
   },
   "outputs": [],
   "source": [
    "from pandas import DataFrame\n",
    "\n",
    "uzivatele = {\n",
    "    'Name': ['Alice', 'Bob', 'Charlie', 'David', 'Eve'],\n",
    "    'Age': [19, 20, 21, 22, 23],\n",
    "    'Height_cm': [160, 170, 175, 180, 165],\n",
    "    'Weight_kg': [50, 65, 70, 80, 55],\n",
    "    'Email': [\"alice@gmail.com\", \"bob@tech-users.com\", \"charlie91@mail.com\", \"david_bB@gmail.com\", \"eevee@my_domain.net\"],\n",
    "    'Address': [\n",
    "        \"Vrbová 215/14, 602 00, Brno, Česká republika\",\n",
    "        \"Jilmová 862, 400 11, Ústí nad Labem, Česká republika\",\n",
    "        \"Kamenická 37/2, 170 00, Praha, Česká republika\",\n",
    "        \"Podlipná 1284/6, 460 01, Liberec, Česká republika\",\n",
    "        \"Havlíčkova 1703, 500 02, Hradec Králové, Česká republika\"\n",
    "    ]\n",
    "}\n",
    "\n",
    "df_uzivatele = DataFrame(uzivatele)"
   ]
  },
  {
   "cell_type": "code",
   "execution_count": null,
   "id": "3be47443-ff71-47e3-a217-2913465f8981",
   "metadata": {
    "tags": []
   },
   "outputs": [],
   "source": [
    "df_uzivatele"
   ]
  },
  {
   "cell_type": "code",
   "execution_count": null,
   "id": "b00cc81d-d34f-424c-969b-f20456c9fa5d",
   "metadata": {},
   "outputs": [],
   "source": []
  },
  {
   "cell_type": "code",
   "execution_count": null,
   "id": "2b5f7248-8889-4712-a3f3-f220e35819ae",
   "metadata": {},
   "outputs": [],
   "source": []
  },
  {
   "cell_type": "code",
   "execution_count": null,
   "id": "cfdaac5f-503a-4a88-8113-968aa93fcd0a",
   "metadata": {},
   "outputs": [],
   "source": []
  },
  {
   "cell_type": "code",
   "execution_count": null,
   "id": "f94dd839-3b53-4621-98f8-4f14d86aaf24",
   "metadata": {},
   "outputs": [],
   "source": []
  },
  {
   "cell_type": "code",
   "execution_count": null,
   "id": "9b8fc4ae-4ac4-4034-9904-bb39e8498e74",
   "metadata": {},
   "outputs": [],
   "source": []
  },
  {
   "cell_type": "code",
   "execution_count": null,
   "id": "0b4e3ded-9e1b-4df4-9569-c68777b35c89",
   "metadata": {},
   "outputs": [],
   "source": []
  },
  {
   "cell_type": "code",
   "execution_count": null,
   "id": "652183ad-4783-4690-8373-d1e8d2d5449f",
   "metadata": {},
   "outputs": [],
   "source": []
  },
  {
   "cell_type": "code",
   "execution_count": null,
   "id": "b7196394-c62d-4088-933b-81530d5d9e8d",
   "metadata": {},
   "outputs": [],
   "source": []
  },
  {
   "cell_type": "code",
   "execution_count": null,
   "id": "f7f3aada-16fc-4d6d-abb6-23edb01ed330",
   "metadata": {},
   "outputs": [],
   "source": [
    "# Úkol 1\n",
    "vybrani_uzivatele_1 = df_uzivatele.query( \n",
    "    \"Age.between( 20, 22 ) and Email.str.contains( 'gmail.com' )\" \n",
    ")"
   ]
  },
  {
   "cell_type": "code",
   "execution_count": null,
   "id": "703f282d-c5b9-47e6-a536-4649ead44876",
   "metadata": {},
   "outputs": [],
   "source": [
    "# Úkol 2\n",
    "df_uzivatele['BMI'] = df_uzivatele.eval( \n",
    "    'Weight_kg / ( ( Height_cm / 100 ) ** 2 )' \n",
    ")"
   ]
  },
  {
   "cell_type": "code",
   "execution_count": null,
   "id": "80ad371f-b128-4539-9b0a-c44cc0356e03",
   "metadata": {
    "tags": []
   },
   "outputs": [],
   "source": [
    "df_uzivatele"
   ]
  },
  {
   "cell_type": "code",
   "execution_count": null,
   "id": "92536ff8-47b9-4933-9c6a-720d3cc9537f",
   "metadata": {},
   "outputs": [],
   "source": [
    "# Úkol 3\n",
    "vybrani_uzivatele_2 = df_uzivatele.query( \n",
    "    \"BMI > 22 and Address.str.split( ', ', expand = True )[2].isin( ['Praha', 'Brno'] )\" \n",
    ")"
   ]
  },
  {
   "cell_type": "code",
   "execution_count": null,
   "id": "d1b73023-aa4b-4f6a-89be-a6e630882a1b",
   "metadata": {
    "tags": []
   },
   "outputs": [],
   "source": [
    "df_uzivatele.query( \n",
    "    \"BMI > 22\")"
   ]
  },
  {
   "cell_type": "code",
   "execution_count": null,
   "id": "8f756ee7-4d30-48e6-b4b9-a7dc8e23a1c5",
   "metadata": {
    "tags": []
   },
   "outputs": [],
   "source": [
    "df_uzivatele[\"Address\"].str.split(\", \", expand=True)[2].isin({\"Praha\", \"Brno\"})"
   ]
  },
  {
   "cell_type": "code",
   "execution_count": null,
   "id": "a12f4d8f-2318-48b1-a206-8f72a723f532",
   "metadata": {
    "tags": []
   },
   "outputs": [],
   "source": [
    "df_uzivatele[\"Address\"].str.split(\", \", expand=True)[2].isin({\"Praha\", \"Brno\"})"
   ]
  },
  {
   "cell_type": "code",
   "execution_count": null,
   "id": "5b0fb822-d24b-4352-a373-6109bd47e357",
   "metadata": {
    "tags": []
   },
   "outputs": [],
   "source": [
    "r1 = r1.rename({\"2\": \"Sloupec_2\"})"
   ]
  },
  {
   "cell_type": "code",
   "execution_count": null,
   "id": "78ed0215-e0a7-4ae8-a018-996f64286f16",
   "metadata": {
    "tags": []
   },
   "outputs": [],
   "source": [
    "r1 = r1[2].rename(\"rrrr\")"
   ]
  },
  {
   "cell_type": "code",
   "execution_count": null,
   "id": "05c2f0cc-92c0-4ea9-93a5-896b22bcaae7",
   "metadata": {
    "tags": []
   },
   "outputs": [],
   "source": [
    "r1.columns"
   ]
  },
  {
   "cell_type": "code",
   "execution_count": null,
   "id": "000713e9-7879-4f3a-8383-6a4afe33caf3",
   "metadata": {
    "tags": []
   },
   "outputs": [],
   "source": [
    "vybrani_uzivatele_2"
   ]
  },
  {
   "cell_type": "markdown",
   "id": "883af2ef-8237-4bd6-b65c-04d985ac4365",
   "metadata": {},
   "source": [
    "<details>\n",
    "    <summary>▶️ Řešení</summary>\n",
    "    \n",
    "    ```python\n",
    "    vyber_uzivatel = df_uzivatele.query(\"20 <= Age <= 22 and Email.str.contains('gmail.com')\")\n",
    "\n",
    "    df_uzivatele['Height_m'] = df_uzivatele.eval('Height_cm / 100')\n",
    "    df_uzivatele['BMI'] = df_uzivatele.eval('Weight_kg / (Height_m * Height_m)').round(1)\n",
    "    \n",
    "    df_prodeje['weekday'] = df_prodeje.index.weekday\n",
    "    average_weekday_sales = df_prodeje.groupby('weekday')['prodeje'].mean()\n",
    "    \n",
    "    df_uzivatele[\"City\"] = df_uzivatele[\"Address\"].apply(lambda x: x.split(\",\")[2])\n",
    "    students_with_high_bmi = df_uzivatele.query('BMI > 22 and City in [\"Brno\", \"Praha\"]')\n",
    "    ```\n",
    "</details>"
   ]
  },
  {
   "cell_type": "markdown",
   "id": "a802a9e5-d3ea-483b-acc3-124d3777758d",
   "metadata": {},
   "source": [
    "<br>\n",
    "\n",
    "## Skutečné datové sety\n",
    "\n",
    "---\n",
    "\n",
    "<img src=\"https://external-content.duckduckgo.com/iu/?u=https%3A%2F%2Ftse1.mm.bing.net%2Fth%3Fid%3DOIP.JJu86kKRph1LHt5M7agODQHaHa%26pid%3DApi&f=1&ipt=5cfb9e9f7b451b3a4f7a3ebdc4eb99177d477f20f8145cd818cc4966143f8b2b&ipo=images\" width=\"160\" style=\"margin-left:auto; margin-right:auto\"/>"
   ]
  },
  {
   "cell_type": "markdown",
   "id": "7c1f9457-e0f1-449e-8039-cddf1d375009",
   "metadata": {},
   "source": [
    "Čištění dat je proces, který patří k samotné práci s daty.\n",
    "\n",
    "Spolu s některými souvisejícími úkony, patří mezi ty více frustrující.\n",
    "\n",
    "Nesmyslné datové typy, zkomolené časové údaje, nefungující transformace."
   ]
  },
  {
   "cell_type": "code",
   "execution_count": null,
   "id": "684e5e41-771c-49bb-8820-235ce0b1ff51",
   "metadata": {
    "tags": []
   },
   "outputs": [],
   "source": [
    "from pandas import DataFrame"
   ]
  },
  {
   "cell_type": "code",
   "execution_count": null,
   "id": "a5f8d0b9-4b1f-44ed-9d41-6fe48d6143ab",
   "metadata": {
    "tags": []
   },
   "outputs": [],
   "source": [
    "df_uzivatele = DataFrame({\n",
    "    'Name': ['Alice', 'Bob', 'Charlie', 'David', 'Eve'],\n",
    "    'Age': [None, 20, None, 22, 23],\n",
    "    'Height_cm': [160, 170, 175, None, 165],\n",
    "    'Weight_kg': [50, 65, 70, 80, 55]\n",
    "})"
   ]
  },
  {
   "cell_type": "code",
   "execution_count": null,
   "id": "0565bb2e-d698-469a-95ad-47dbdf14e11b",
   "metadata": {
    "tags": []
   },
   "outputs": [],
   "source": [
    "df_uzivatele.head(3)"
   ]
  },
  {
   "cell_type": "markdown",
   "id": "e3bfc98e-ed69-48e9-8ae1-b6b77bf7cc60",
   "metadata": {},
   "source": [
    "Ihned po načtení je nejlepší data prozkoumat.\n",
    "\n",
    "Nejenom datové typy ale také mít povědomí **o chybějících hodnotách**:"
   ]
  },
  {
   "cell_type": "code",
   "execution_count": null,
   "id": "0c3475a3-e337-47af-9342-d85422404618",
   "metadata": {
    "tags": []
   },
   "outputs": [],
   "source": [
    "df_uzivatele.info()"
   ]
  },
  {
   "cell_type": "markdown",
   "id": "53a318fa-9536-4ba7-80fd-18e208587ab0",
   "metadata": {},
   "source": [
    "<br>\n",
    "\n",
    "Pomocí metody `info` si uděláš aspoň povrchní přehled o hodnotách, datových typech a chybějících hodnotách.\n",
    "\n",
    "<br>\n",
    "\n",
    "### Kolik mi chybí údajů\n",
    "\n",
    "---"
   ]
  },
  {
   "cell_type": "markdown",
   "id": "90d32e53-380d-4614-b71e-abdcd6bcaaa9",
   "metadata": {},
   "source": [
    "Vždycky přistupuj k datům s mírnou skepsí.\n",
    "\n",
    "Otázkou potom není, *JESTLI* mi chybí data, ale *KOLIK* dat mi chybí **a kde**."
   ]
  },
  {
   "cell_type": "code",
   "execution_count": null,
   "id": "c4d5d338-a870-4448-be2c-bd9e5a5a2286",
   "metadata": {
    "tags": []
   },
   "outputs": [],
   "source": [
    "chybejici_hodnoty = df_uzivatele.isnull()  # isna()"
   ]
  },
  {
   "cell_type": "code",
   "execution_count": null,
   "id": "ce82abad-5126-454d-a338-7219dbedf228",
   "metadata": {
    "tags": []
   },
   "outputs": [],
   "source": [
    "chybejici_hodnoty"
   ]
  },
  {
   "cell_type": "markdown",
   "id": "190da638-5798-48e9-89ed-e15439c30b7a",
   "metadata": {
    "tags": []
   },
   "source": [
    "<br>\n",
    "\n",
    "Pomocí metody `isnull` nahradíš všechny chybějící hodnoty v tabulce/sloupcích pomocí `True`.\n",
    "\n",
    "Pokud nechybí, nahradí s `False`."
   ]
  },
  {
   "cell_type": "code",
   "execution_count": null,
   "id": "1a6d3816-2841-4dbf-879d-5594375b2b5f",
   "metadata": {
    "tags": []
   },
   "outputs": [],
   "source": [
    "type(chybejici_hodnoty)"
   ]
  },
  {
   "cell_type": "markdown",
   "id": "bd33aab4-de7f-42ff-81cd-17e0324a6f46",
   "metadata": {},
   "source": [
    "Takový výstup ale není zcela reprezentativní.\n",
    "\n",
    "Proto je potřeba, sečíst všechny `True` hodnoty po sloupcích:"
   ]
  },
  {
   "cell_type": "code",
   "execution_count": null,
   "id": "601d3405-3f01-4b0e-aa90-ffd579cc3745",
   "metadata": {
    "tags": []
   },
   "outputs": [],
   "source": [
    "chybejici_hodnoty = df_uzivatele.isnull().sum()"
   ]
  },
  {
   "cell_type": "code",
   "execution_count": null,
   "id": "ada2364d-c759-4f92-a726-769ed75cb32b",
   "metadata": {
    "tags": []
   },
   "outputs": [],
   "source": [
    "chybejici_hodnoty"
   ]
  },
  {
   "cell_type": "markdown",
   "id": "27fd0e3f-3d9d-4c84-ad13-555a3007d95d",
   "metadata": {},
   "source": [
    "<br>\n",
    "\n",
    "Opět v jednotkách to nemusí zcela prozrazovat chybovost.\n",
    "\n",
    "Nejlepším indikátorem ale bývají **procenta z celkového množství hodnot ve sloupci**:"
   ]
  },
  {
   "cell_type": "code",
   "execution_count": null,
   "id": "bcf80d2c-a855-47b0-a0e7-2c33c2f04132",
   "metadata": {
    "tags": []
   },
   "outputs": [],
   "source": [
    "celkem_zaznamu = df_uzivatele.shape[0]  # 0 ... Indexy, 1 ... sloupce"
   ]
  },
  {
   "cell_type": "code",
   "execution_count": null,
   "id": "32895f74-6da5-4ff5-98f4-ee5d3d0b6302",
   "metadata": {
    "tags": []
   },
   "outputs": [],
   "source": [
    "celkem_chybi = chybejici_hodnoty"
   ]
  },
  {
   "cell_type": "code",
   "execution_count": null,
   "id": "6cea0cca-aced-49c6-9bb0-709b21035d4e",
   "metadata": {
    "tags": []
   },
   "outputs": [],
   "source": [
    "celkem_chybi"
   ]
  },
  {
   "cell_type": "code",
   "execution_count": null,
   "id": "c3bebb42-02fe-46d7-8548-fe2ccac030d3",
   "metadata": {
    "tags": []
   },
   "outputs": [],
   "source": [
    "v_procentech = round(celkem_chybi / celkem_zaznamu * 100, 1)"
   ]
  },
  {
   "cell_type": "code",
   "execution_count": null,
   "id": "67f9c86d-317c-49d9-95bd-e14f69c9541e",
   "metadata": {
    "tags": []
   },
   "outputs": [],
   "source": [
    "v_procentech"
   ]
  },
  {
   "cell_type": "markdown",
   "id": "fd4f20a8-15cd-419c-93f8-d36c682c99a5",
   "metadata": {},
   "source": [
    "<br>\n",
    "\n",
    "případně celkové množství záznamů ve všech sloupcích:"
   ]
  },
  {
   "cell_type": "code",
   "execution_count": null,
   "id": "18d55c4a-96dd-47ee-be53-2adf575c0a94",
   "metadata": {
    "tags": []
   },
   "outputs": [],
   "source": [
    "vsechny_bunky = df_uzivatele.shape[0] * df_uzivatele.shape[1]  # 5 * 4"
   ]
  },
  {
   "cell_type": "code",
   "execution_count": null,
   "id": "af159bf5-4cd4-46df-a217-33df9b747722",
   "metadata": {
    "tags": []
   },
   "outputs": [],
   "source": [
    "vsechny_chybejici_hodnoty = chybejici_hodnoty.sum()            # 4"
   ]
  },
  {
   "cell_type": "code",
   "execution_count": null,
   "id": "0f685a6e-356b-4920-b777-cb1c58a09685",
   "metadata": {
    "tags": []
   },
   "outputs": [],
   "source": [
    "celkem_v_procentech = round(vsechny_chybejici_hodnoty / vsechny_bunky * 100, 1)"
   ]
  },
  {
   "cell_type": "code",
   "execution_count": null,
   "id": "15dc8401-e04c-4957-8cdf-1bcbaed265ed",
   "metadata": {
    "tags": []
   },
   "outputs": [],
   "source": [
    "celkem_v_procentech"
   ]
  },
  {
   "cell_type": "markdown",
   "id": "bfbdfaa1-e163-44d3-9912-a76f48011291",
   "metadata": {},
   "source": [
    "<br>\n",
    "\n",
    "V této ukázce tedy chybí 20 % dat a to není málo!"
   ]
  },
  {
   "cell_type": "markdown",
   "id": "094ded0c-63bf-4198-8869-0341be3a9faa",
   "metadata": {},
   "source": [
    "<br>\n",
    "\n",
    "### Co s chybějícími hodnotami\n",
    "\n",
    "---"
   ]
  },
  {
   "cell_type": "markdown",
   "id": "25830900-8a89-4a7a-a1ff-31c0f4d46941",
   "metadata": {},
   "source": [
    "Je důležité vědět, proč máš takové množství chybějících hodnot.\n",
    "\n",
    "Chybí ti data, protože neexistují, nebo protože nejsou součástí záznamů v datasetu.\n",
    "\n",
    "V takových krocích je obvykle nutné, pochopit podstatu údajů (dokumentace, specifikace,..).\n",
    "\n",
    "Nejjednodušší způsoby, jak s chybějícími daty naložit (ale ne efektivní!!):\n",
    "1. Zahodit chybějící hodnoty,\n",
    "2. doplnit chybějící hodnoty."
   ]
  },
  {
   "cell_type": "markdown",
   "id": "0b2499c6-787c-4554-a294-5ebf9e765be1",
   "metadata": {},
   "source": [
    "#### Zahodit chybějící hodnoty"
   ]
  },
  {
   "cell_type": "code",
   "execution_count": null,
   "id": "7301b9e2-443f-40e1-bea0-c11d2a8eed3c",
   "metadata": {
    "tags": []
   },
   "outputs": [],
   "source": [
    "# df_uzivatele.dropna?"
   ]
  },
  {
   "cell_type": "code",
   "execution_count": null,
   "id": "792e8538-06ff-4670-a5e1-d490715f333b",
   "metadata": {
    "tags": []
   },
   "outputs": [],
   "source": [
    "df_uzivatele"
   ]
  },
  {
   "cell_type": "code",
   "execution_count": null,
   "id": "6e154fe4-fe48-4249-a776-425d21248b46",
   "metadata": {
    "tags": []
   },
   "outputs": [],
   "source": [
    "df_uzivatele.dropna()  # axis=0"
   ]
  },
  {
   "cell_type": "markdown",
   "id": "ea526c53-5802-4143-ab32-d42fba3b0727",
   "metadata": {},
   "source": [
    "<br>\n",
    "\n",
    "V tento okamžik si zahodíš všechny záznamy, které **postrádaly nějakou hodnotu**.\n",
    "\n",
    "Někdy je jednodušší zahodit sloupeček, který má chybějící hodnotu:"
   ]
  },
  {
   "cell_type": "code",
   "execution_count": null,
   "id": "5cae373b-2803-4607-9de5-3ee8ceecb4db",
   "metadata": {
    "tags": []
   },
   "outputs": [],
   "source": [
    "df_uzivatele.dropna(axis=1)"
   ]
  },
  {
   "cell_type": "markdown",
   "id": "b1fac794-0d34-48ec-b6c6-9386f28b1f43",
   "metadata": {},
   "source": [
    "#### Doplnit automaticky hodnoty"
   ]
  },
  {
   "cell_type": "code",
   "execution_count": null,
   "id": "8cc16fb8-1ae9-4b7b-b58d-3ee26a54f62a",
   "metadata": {},
   "outputs": [],
   "source": [
    "# df_uzivatele.fillna?"
   ]
  },
  {
   "cell_type": "code",
   "execution_count": null,
   "id": "fb28d0b9-7eca-4ec3-a9fa-79812beb312d",
   "metadata": {
    "tags": []
   },
   "outputs": [],
   "source": [
    "df_uzivatele"
   ]
  },
  {
   "cell_type": "code",
   "execution_count": null,
   "id": "c3d473fa-6caf-47a3-be7d-8fe04e3d7198",
   "metadata": {},
   "outputs": [],
   "source": [
    "df_uzivatele.fillna(0)  # replace: \"Nan\" --> 0"
   ]
  },
  {
   "cell_type": "markdown",
   "id": "1d01774e-1e53-4d03-8601-010eb30e6ff5",
   "metadata": {},
   "source": [
    "<br>\n",
    "\n",
    "Pomocí funkce `fillna` můžeš vyplnit místo chybějících hodnot předdefinovanou vlastní hodnotu.\n",
    "\n",
    "Nebo pomocí argumentu pro `method` pracovat s elegantnějším zadáním.\n",
    "\n",
    "Nahradit chybějící hodnoty hodnotou, která následuje bezprostředně za ní ve stejném sloupci (To má velký smysl u souborů dat, kde mají pozorování nějaké logické pořadí.)"
   ]
  },
  {
   "cell_type": "code",
   "execution_count": null,
   "id": "cf5ff653-b1bb-48f5-91ad-f0bdb2a3d055",
   "metadata": {
    "tags": []
   },
   "outputs": [],
   "source": [
    "df_uzivatele"
   ]
  },
  {
   "cell_type": "code",
   "execution_count": null,
   "id": "b4a9f2d8-83a3-4bda-9ea7-5d0afc12c3a1",
   "metadata": {
    "tags": []
   },
   "outputs": [],
   "source": [
    "df_uzivatele.fillna(method='bfill', axis=0)"
   ]
  },
  {
   "cell_type": "code",
   "execution_count": null,
   "id": "b29d25db-b0a6-411c-887c-5cc5fbf4431a",
   "metadata": {
    "tags": []
   },
   "outputs": [],
   "source": [
    "df_uzivatele.fillna(method='ffill', axis=0).fillna(19)"
   ]
  },
  {
   "cell_type": "markdown",
   "id": "de9c6b90-a9b6-44a5-b419-bf1f680610b9",
   "metadata": {},
   "source": [
    "## Encoding\n",
    "\n",
    "---"
   ]
  },
  {
   "cell_type": "markdown",
   "id": "f05783ce-8e19-4ed6-84b4-feb1d0845bdb",
   "metadata": {},
   "source": [
    "Problémy s kódováním jsou běžné.\n",
    "\n",
    "Jde o proces, který mapuje **bajtové stringy** (`0110101011`) na **uživatelsky čitelný text** (`\"ahoj!\"`).\n",
    "\n",
    "Tento problém nastane, pokud se snažíš načíst zdroj v jiné kódovací sadě, než byl soubor zapsaný.\n",
    "\n",
    "<br>\n",
    "\n",
    "Protože je těchto sad hodně, občas skončíš s *escapovanými znaky*, nebo s neznámými kliky-háky:"
   ]
  },
  {
   "cell_type": "code",
   "execution_count": null,
   "id": "d6949490-b430-4b66-813e-9f73a7629706",
   "metadata": {},
   "outputs": [],
   "source": [
    "æ–‡å"
   ]
  },
  {
   "cell_type": "markdown",
   "id": "462ebf10-52c1-480b-ac2b-6bcaef2c605e",
   "metadata": {},
   "source": [
    "<br>\n",
    "\n",
    "Případně pokud nelze domapovat znaky:"
   ]
  },
  {
   "cell_type": "markdown",
   "id": "c7d5cca3-edd4-443e-a32d-663beda305c1",
   "metadata": {},
   "source": [
    "��"
   ]
  },
  {
   "cell_type": "markdown",
   "id": "08718372-9db9-4abf-be9f-e3973232a86f",
   "metadata": {},
   "source": [
    "<br>\n",
    "\n",
    "V **Pythonu 2** nebylo lehké *encoding* zajistit.\n",
    "\n",
    "V **Pythonu 3** je celý proces o dost jednodušší.\n",
    "\n",
    "Standardem pro práci bývá obyčejně UTF-8. Na to ale zrovna v našich končinách nemůžeš spoléhat."
   ]
  },
  {
   "cell_type": "code",
   "execution_count": null,
   "id": "452d462d-a7d7-4fc8-9200-a81ad15acd13",
   "metadata": {
    "tags": []
   },
   "outputs": [],
   "source": [
    "veta = \"Matouš zaplatil 100 $\""
   ]
  },
  {
   "cell_type": "code",
   "execution_count": null,
   "id": "a20ac2ec-a3b9-48fe-803d-a134abcc1b7d",
   "metadata": {
    "tags": []
   },
   "outputs": [],
   "source": [
    "# veta?"
   ]
  },
  {
   "cell_type": "markdown",
   "id": "009230ce-43c7-4d31-8bd8-20886451ffea",
   "metadata": {},
   "source": [
    "<br>\n",
    "\n",
    "Údaj, který vidíš výš je datový typ `str`."
   ]
  },
  {
   "cell_type": "code",
   "execution_count": null,
   "id": "3a68564c-caf9-4f8b-a267-371bac571a26",
   "metadata": {
    "tags": []
   },
   "outputs": [],
   "source": [
    "prevedena_veta = veta.encode(\"utf-8\", errors=\"replace\")"
   ]
  },
  {
   "cell_type": "code",
   "execution_count": null,
   "id": "fb4baed1-2ae3-485d-9c1f-bd5425f64da3",
   "metadata": {
    "tags": []
   },
   "outputs": [],
   "source": [
    "prevedena_veta"
   ]
  },
  {
   "cell_type": "code",
   "execution_count": null,
   "id": "b4bacb1f-f081-4206-9a26-f826a2d9760c",
   "metadata": {
    "tags": []
   },
   "outputs": [],
   "source": [
    "prevedena_veta?"
   ]
  },
  {
   "cell_type": "markdown",
   "id": "534a717a-6a29-4db6-ace1-fcd910775d2f",
   "metadata": {
    "tags": []
   },
   "source": [
    "<br>\n",
    "\n",
    "Dál je možné, převést `str` na `bytes`. Tedy sekvenci čísel.\n",
    "\n",
    "Jak ale teď tato sekvence vypadá:"
   ]
  },
  {
   "cell_type": "code",
   "execution_count": null,
   "id": "36ed5cc1-da63-44f5-8def-569c877cf3fc",
   "metadata": {
    "tags": []
   },
   "outputs": [],
   "source": [
    "prevedena_veta"
   ]
  },
  {
   "cell_type": "markdown",
   "id": "c595b014-47b1-426c-aef6-7c40166e98cf",
   "metadata": {},
   "source": [
    "<br>\n",
    "\n",
    "Celou větu můžeš zpátky kódovat pomocí funkce `decode` z `bytes` na `str`:"
   ]
  },
  {
   "cell_type": "code",
   "execution_count": null,
   "id": "2ce69930-4e6e-4eca-8462-992bb4c8a430",
   "metadata": {
    "tags": []
   },
   "outputs": [],
   "source": [
    "print(prevedena_veta.decode(\"utf-8\"))"
   ]
  },
  {
   "cell_type": "markdown",
   "id": "a23ff730-8b9e-4372-9281-1474436e5eb7",
   "metadata": {},
   "source": [
    "<br>\n",
    "\n",
    "Pokud ale zvolíš jinou sadu, nemusíš dostat stejné hodnoty:"
   ]
  },
  {
   "cell_type": "code",
   "execution_count": null,
   "id": "32c62bcd-e7bd-4c0d-9263-9b700bfc16f0",
   "metadata": {
    "tags": []
   },
   "outputs": [],
   "source": [
    "print(prevedena_veta.decode(\"windows-1250\"))"
   ]
  },
  {
   "cell_type": "code",
   "execution_count": null,
   "id": "660928bf-e7bd-41de-86d5-bf595b02833c",
   "metadata": {
    "tags": []
   },
   "outputs": [],
   "source": [
    "print(prevedena_veta.decode(\"ascii\"))"
   ]
  },
  {
   "cell_type": "markdown",
   "id": "3fe543f7-bd8e-476a-b1c2-86435345ff05",
   "metadata": {},
   "source": [
    "<br>\n",
    "\n",
    "Toto a další neúspěšné postupy je samozřejmě špatně a ty se tomu chceš určitě vyhnout."
   ]
  },
  {
   "cell_type": "code",
   "execution_count": null,
   "id": "c437d12b-34cf-4890-954a-59fe982f455d",
   "metadata": {
    "tags": []
   },
   "outputs": [],
   "source": [
    "from pandas import read_csv"
   ]
  },
  {
   "cell_type": "code",
   "execution_count": null,
   "id": "6f347574-6342-4427-900c-923b50b5c6d8",
   "metadata": {
    "tags": []
   },
   "outputs": [],
   "source": [
    "# chybna_sada = read_csv(\"neznamy_vzorek.csv\")"
   ]
  },
  {
   "cell_type": "markdown",
   "id": "c839c4f4-e84d-4596-ae74-2ee680cc0ee2",
   "metadata": {},
   "source": [
    "<br>\n",
    "\n",
    "Ne vždy je možné, defaultně pracovat se znakovou sadou **UTF-8**.\n",
    "\n",
    "Ve výstupu je vidět, že jde o směs několika sad a ty musíš vyzkoušet, jaká bude fungovat."
   ]
  },
  {
   "cell_type": "code",
   "execution_count": null,
   "id": "d8a6b2d2-7d62-4dd1-98eb-6905b8070b79",
   "metadata": {
    "tags": []
   },
   "outputs": [],
   "source": [
    "import sys"
   ]
  },
  {
   "cell_type": "code",
   "execution_count": null,
   "id": "2a843d23-12c3-4ca3-b7fd-d2f0de7bb064",
   "metadata": {
    "tags": []
   },
   "outputs": [],
   "source": [
    "sys.getdefaultencoding()"
   ]
  },
  {
   "cell_type": "code",
   "execution_count": null,
   "id": "dd4fc6c7-1e1f-48b2-87cd-861d07f47b56",
   "metadata": {
    "tags": []
   },
   "outputs": [],
   "source": [
    "!pip install chardet"
   ]
  },
  {
   "cell_type": "code",
   "execution_count": null,
   "id": "4cabca50-b529-4a91-8383-7659e0920b02",
   "metadata": {
    "tags": []
   },
   "outputs": [],
   "source": [
    "from chardet.universaldetector import UniversalDetector"
   ]
  },
  {
   "cell_type": "code",
   "execution_count": null,
   "id": "2aefe731-3ad4-46fb-a3a2-d957a3394752",
   "metadata": {
    "tags": []
   },
   "outputs": [],
   "source": [
    "detector = UniversalDetector()"
   ]
  },
  {
   "cell_type": "code",
   "execution_count": null,
   "id": "aed18a4e-516f-4e46-930d-e1d195732fe3",
   "metadata": {
    "tags": []
   },
   "outputs": [],
   "source": [
    "for line in open(\"neznamy_vzorek.csv\", 'rb'):\n",
    "    detector.feed(line)\n",
    "    if detector.done:\n",
    "        break\n",
    "\n",
    "detector.close()\n",
    "print(detector.result)"
   ]
  },
  {
   "cell_type": "markdown",
   "id": "8cac610b-39f2-4fde-8669-9d4ac4d8d3d1",
   "metadata": {},
   "source": [
    "<br>\n",
    "\n",
    "Pomocí knihovny `chardet` / `charset_normalizer` identifikuješ, o jaké znakové sady jde:"
   ]
  },
  {
   "cell_type": "markdown",
   "id": "fbe15a45-df94-4360-8d73-0cc602bb7961",
   "metadata": {},
   "source": [
    "Nyní máš lepší představu o tom, jakou znakovou sadu soubor používá.\n",
    "\n",
    "Opatrně na délku `str`, který detekuješ.\n",
    "\n",
    "Pokud je příliš krátký, může to ovlivnit výsledek.\n",
    "\n",
    "Naopak pokud je příliš dlouhý, může trvat jeho načtení."
   ]
  },
  {
   "cell_type": "code",
   "execution_count": null,
   "id": "1f5b2f04-7b11-4db9-9337-dc6fab94056c",
   "metadata": {
    "tags": []
   },
   "outputs": [],
   "source": [
    "spravna_sada = read_csv(\"neznamy_vzorek.csv\", encoding=\"Windows-1252\")"
   ]
  },
  {
   "cell_type": "code",
   "execution_count": null,
   "id": "4fcf7642-fff0-42be-8ffe-110a59471798",
   "metadata": {
    "tags": []
   },
   "outputs": [],
   "source": [
    "spravna_sada.head()"
   ]
  },
  {
   "cell_type": "code",
   "execution_count": null,
   "id": "55cc2bbb-6128-474b-acc4-3b33b4674419",
   "metadata": {
    "tags": []
   },
   "outputs": [],
   "source": [
    "spravna_sada.info()"
   ]
  },
  {
   "cell_type": "markdown",
   "id": "12ac864a-0514-4468-91bb-5ede17f1942f",
   "metadata": {},
   "source": [
    "<br>\n",
    "\n",
    "Tentokrát soubor otevřeš pouze s varováním.\n",
    "\n",
    "Pro příště je určitě výhodou vytvořit kopii takového souboru, kterou uložíš v ideálním kódování:"
   ]
  },
  {
   "cell_type": "code",
   "execution_count": null,
   "id": "323b1129-d4e1-4dca-9e57-46ed8c964465",
   "metadata": {
    "tags": []
   },
   "outputs": [],
   "source": [
    "spravna_sada.to_csv(\"kopie_sada_utf8.csv\", encoding=\"utf-8\")"
   ]
  },
  {
   "cell_type": "code",
   "execution_count": null,
   "id": "fffd5eb3-a6c8-4cc4-9f89-2895406c3ba3",
   "metadata": {
    "tags": []
   },
   "outputs": [],
   "source": [
    "# pokus = read_<zdroj>(\"vzorek_2.csv\")"
   ]
  },
  {
   "cell_type": "code",
   "execution_count": null,
   "id": "0a837d73-011a-4db0-943e-0e3589b3a315",
   "metadata": {},
   "outputs": [],
   "source": [
    "# vzorek = to_<zdroj>(...)"
   ]
  },
  {
   "cell_type": "markdown",
   "id": "fa4c9f93-7d08-45e8-b1c4-22e478998342",
   "metadata": {
    "tags": []
   },
   "source": [
    "<br>\n",
    "\n",
    "## Nekonzistentní data\n",
    "\n",
    "---"
   ]
  },
  {
   "cell_type": "markdown",
   "id": "6542fd12-2b4f-4d4a-86ff-33fb4596bb38",
   "metadata": {},
   "source": [
    "Pokud ti data nechybí, ještě neznamená, že musí být nutně v pořádku:"
   ]
  },
  {
   "cell_type": "code",
   "execution_count": 1,
   "id": "9718bd4b-bb4a-40bb-9593-2ff21c75deb4",
   "metadata": {
    "tags": []
   },
   "outputs": [],
   "source": [
    "from pandas import DataFrame"
   ]
  },
  {
   "cell_type": "code",
   "execution_count": 16,
   "id": "86caa08e-086e-4317-9307-a0baa37ad45d",
   "metadata": {
    "tags": []
   },
   "outputs": [],
   "source": [
    "chybny_dataset = {\n",
    "    \"id\": [111, 112, 113, 114, 115, 116, 117],\n",
    "    \"jmeno\": [\"Matous\", \"Marek\", \"Petr\", \"Filip\", \"Jan\", \"Lukas\", \"David\"],\n",
    "    \"vek\": [22, 29, 31, 55, 43, 61, 55],\n",
    "    \"zeme\": [\"Ceska republika\", \"Slovensko\", \"Nemecko\", \"Ceskarepublika\", \"Ceska Republika\", \"Rakousko\", \"Ceska Reapublika\"]\n",
    "}"
   ]
  },
  {
   "cell_type": "code",
   "execution_count": 40,
   "id": "2f82d0b1-88bf-49e8-a7c2-b28259f5b3f3",
   "metadata": {
    "tags": []
   },
   "outputs": [],
   "source": [
    "df_zamestnanci = DataFrame(chybny_dataset)"
   ]
  },
  {
   "cell_type": "code",
   "execution_count": 41,
   "id": "3e2d3e1e-1226-4d77-a8e5-9970ca5b372d",
   "metadata": {
    "tags": []
   },
   "outputs": [
    {
     "data": {
      "text/html": [
       "<div>\n",
       "<style scoped>\n",
       "    .dataframe tbody tr th:only-of-type {\n",
       "        vertical-align: middle;\n",
       "    }\n",
       "\n",
       "    .dataframe tbody tr th {\n",
       "        vertical-align: top;\n",
       "    }\n",
       "\n",
       "    .dataframe thead th {\n",
       "        text-align: right;\n",
       "    }\n",
       "</style>\n",
       "<table border=\"1\" class=\"dataframe\">\n",
       "  <thead>\n",
       "    <tr style=\"text-align: right;\">\n",
       "      <th></th>\n",
       "      <th>id</th>\n",
       "      <th>jmeno</th>\n",
       "      <th>vek</th>\n",
       "      <th>zeme</th>\n",
       "    </tr>\n",
       "  </thead>\n",
       "  <tbody>\n",
       "    <tr>\n",
       "      <th>0</th>\n",
       "      <td>111</td>\n",
       "      <td>Matous</td>\n",
       "      <td>22</td>\n",
       "      <td>Ceska republika</td>\n",
       "    </tr>\n",
       "    <tr>\n",
       "      <th>1</th>\n",
       "      <td>112</td>\n",
       "      <td>Marek</td>\n",
       "      <td>29</td>\n",
       "      <td>Slovensko</td>\n",
       "    </tr>\n",
       "    <tr>\n",
       "      <th>2</th>\n",
       "      <td>113</td>\n",
       "      <td>Petr</td>\n",
       "      <td>31</td>\n",
       "      <td>Nemecko</td>\n",
       "    </tr>\n",
       "    <tr>\n",
       "      <th>3</th>\n",
       "      <td>114</td>\n",
       "      <td>Filip</td>\n",
       "      <td>55</td>\n",
       "      <td>Ceskarepublika</td>\n",
       "    </tr>\n",
       "    <tr>\n",
       "      <th>4</th>\n",
       "      <td>115</td>\n",
       "      <td>Jan</td>\n",
       "      <td>43</td>\n",
       "      <td>Ceska Republika</td>\n",
       "    </tr>\n",
       "    <tr>\n",
       "      <th>5</th>\n",
       "      <td>116</td>\n",
       "      <td>Lukas</td>\n",
       "      <td>61</td>\n",
       "      <td>Rakousko</td>\n",
       "    </tr>\n",
       "    <tr>\n",
       "      <th>6</th>\n",
       "      <td>117</td>\n",
       "      <td>David</td>\n",
       "      <td>55</td>\n",
       "      <td>Ceska Reapublika</td>\n",
       "    </tr>\n",
       "  </tbody>\n",
       "</table>\n",
       "</div>"
      ],
      "text/plain": [
       "    id   jmeno  vek              zeme\n",
       "0  111  Matous   22   Ceska republika\n",
       "1  112   Marek   29         Slovensko\n",
       "2  113    Petr   31           Nemecko\n",
       "3  114   Filip   55    Ceskarepublika\n",
       "4  115     Jan   43   Ceska Republika\n",
       "5  116   Lukas   61          Rakousko\n",
       "6  117   David   55  Ceska Reapublika"
      ]
     },
     "execution_count": 41,
     "metadata": {},
     "output_type": "execute_result"
    }
   ],
   "source": [
    "df_zamestnanci"
   ]
  },
  {
   "cell_type": "markdown",
   "id": "b5ee1ae7-7332-43e8-a1a2-06958dc68dfc",
   "metadata": {},
   "source": [
    "Různé zdroje, správci můžou způsobit nejednotný zápis a dopustit se *nekonzistence*."
   ]
  },
  {
   "cell_type": "code",
   "execution_count": 12,
   "id": "f6868cbe-cc6d-4e1b-93f4-ffa4b0453b2d",
   "metadata": {
    "tags": []
   },
   "outputs": [
    {
     "data": {
      "text/plain": [
       "array(['Ceska republika', 'Slovensko', 'Nemecko', 'Ceskarepublika',\n",
       "       'Ceska Republika', 'Rakousko'], dtype=object)"
      ]
     },
     "execution_count": 12,
     "metadata": {},
     "output_type": "execute_result"
    }
   ],
   "source": [
    "df_zamestnanci[\"zeme\"].unique()"
   ]
  },
  {
   "cell_type": "markdown",
   "id": "9166d33d-7f61-4fd2-95d4-b52d6955342a",
   "metadata": {},
   "source": [
    "<br>\n",
    "\n",
    "To můžou být jak malá velká písmena, tak různé znaky, chybějící mezery apod.\n",
    "\n",
    "Odstranit je není náročné.\n",
    "\n",
    "Náročné může být opět rozpoznání, takové komplikace."
   ]
  },
  {
   "cell_type": "code",
   "execution_count": 20,
   "id": "69f93841-b899-4a7f-a939-2c2e18548058",
   "metadata": {
    "tags": []
   },
   "outputs": [
    {
     "data": {
      "text/plain": [
       "array(['ceska republika', 'slovensko', 'nemecko', 'ceskarepublika',\n",
       "       'rakousko', 'ceska reapublika'], dtype=object)"
      ]
     },
     "execution_count": 20,
     "metadata": {},
     "output_type": "execute_result"
    }
   ],
   "source": [
    "df_zamestnanci[\"zeme\"].str.lower().unique()"
   ]
  },
  {
   "cell_type": "markdown",
   "id": "583fd726-2e31-44dc-8c65-1ccd52aeb218",
   "metadata": {},
   "source": [
    "<br>\n",
    "\n",
    "Některé chyby, ale můžou způsobit paseku. Třeba chybějící mezery.\n",
    "\n",
    "Tady je nejlepší, pomoci si vhodným nástrojem `fuzzywuzzy`."
   ]
  },
  {
   "cell_type": "code",
   "execution_count": null,
   "id": "dcdef953-fb71-44c9-aa66-cf42da2e84d9",
   "metadata": {
    "tags": []
   },
   "outputs": [],
   "source": [
    "!pip install fuzzywuzzy"
   ]
  },
  {
   "cell_type": "code",
   "execution_count": 21,
   "id": "fe38c2f0-c672-4b31-9fda-c1144559e007",
   "metadata": {
    "tags": []
   },
   "outputs": [
    {
     "name": "stderr",
     "output_type": "stream",
     "text": [
      "/home/matous/projects/data-csob-2023/shared/onsite/env/lib/python3.8/site-packages/fuzzywuzzy/fuzz.py:11: UserWarning: Using slow pure-python SequenceMatcher. Install python-Levenshtein to remove this warning\n",
      "  warnings.warn('Using slow pure-python SequenceMatcher. Install python-Levenshtein to remove this warning')\n"
     ]
    }
   ],
   "source": [
    "import fuzzywuzzy\n",
    "from fuzzywuzzy import process"
   ]
  },
  {
   "cell_type": "markdown",
   "id": "7df96790-5617-4161-b620-17dad29468b8",
   "metadata": {},
   "source": [
    "Pro menší datasety s chybějícími mezerami aj., může tato knihovna pracovat prakticky sama.\n",
    "\n",
    "Účel této knihovny je rozpoznat podobné řetězce, jaké"
   ]
  },
  {
   "cell_type": "code",
   "execution_count": 26,
   "id": "616c0fb0-ebd3-451e-a838-eef1e83d5ea3",
   "metadata": {
    "tags": []
   },
   "outputs": [],
   "source": [
    "shodne = fuzzywuzzy.process.extract(\n",
    "    \"Ceska republika\",\n",
    "    df_zamestnanci[\"zeme\"],\n",
    "    limit=6,\n",
    "    scorer=fuzzywuzzy.fuzz.token_sort_ratio\n",
    ")"
   ]
  },
  {
   "cell_type": "code",
   "execution_count": 24,
   "id": "d2898a93-7d3d-4fbf-bfdd-306656216bea",
   "metadata": {
    "tags": []
   },
   "outputs": [
    {
     "data": {
      "text/plain": [
       "0     Ceska republika\n",
       "1           Slovensko\n",
       "2             Nemecko\n",
       "3      Ceskarepublika\n",
       "4     Ceska Republika\n",
       "5            Rakousko\n",
       "6    Ceska Reapublika\n",
       "Name: zeme, dtype: object"
      ]
     },
     "execution_count": 24,
     "metadata": {},
     "output_type": "execute_result"
    }
   ],
   "source": [
    "df_zamestnanci[\"zeme\"]"
   ]
  },
  {
   "cell_type": "code",
   "execution_count": 28,
   "id": "88c5377d-4001-4da9-abc0-bc8276b181b1",
   "metadata": {
    "tags": []
   },
   "outputs": [
    {
     "data": {
      "text/plain": [
       "array(['Ceska republika', 'Slovensko', 'Nemecko', 'Ceskarepublika',\n",
       "       'Ceska Republika', 'Rakousko', 'Ceska Reapublika'], dtype=object)"
      ]
     },
     "execution_count": 28,
     "metadata": {},
     "output_type": "execute_result"
    }
   ],
   "source": [
    "df_zamestnanci[\"zeme\"].unique()"
   ]
  },
  {
   "cell_type": "code",
   "execution_count": 27,
   "id": "b5302f5b-9709-479c-b65e-3ff18e883234",
   "metadata": {
    "tags": []
   },
   "outputs": [
    {
     "data": {
      "text/plain": [
       "[('Ceska republika', 100, 0),\n",
       " ('Ceska Republika', 100, 4),\n",
       " ('Ceskarepublika', 97, 3),\n",
       " ('Ceska Reapublika', 97, 6),\n",
       " ('Slovensko', 25, 1),\n",
       " ('Nemecko', 18, 2)]"
      ]
     },
     "execution_count": 27,
     "metadata": {},
     "output_type": "execute_result"
    }
   ],
   "source": [
    "shodne"
   ]
  },
  {
   "cell_type": "markdown",
   "id": "787338f0-fc8d-4983-b008-87777e469c62",
   "metadata": {},
   "source": [
    "Nyní můžeš vidět shodné `str` se zvoleným zadáním, jak to vidí `fuzzywuzzy`.\n",
    "\n",
    "Pro nahrazení je optimální nachystat vhodnou uživatelskou funkci:"
   ]
  },
  {
   "cell_type": "code",
   "execution_count": 27,
   "id": "f0edd01a-09cf-4661-9008-44258d45505d",
   "metadata": {
    "tags": []
   },
   "outputs": [
    {
     "data": {
      "text/plain": [
       "[('Ceska republika', 100, 0),\n",
       " ('Ceska Republika', 100, 4),\n",
       " ('Ceskarepublika', 97, 3),\n",
       " ('Ceska Reapublika', 97, 6),\n",
       " ('Slovensko', 25, 1),\n",
       " ('Nemecko', 18, 2)]"
      ]
     },
     "execution_count": 27,
     "metadata": {},
     "output_type": "execute_result"
    }
   ],
   "source": [
    "shodne"
   ]
  },
  {
   "cell_type": "code",
   "execution_count": 29,
   "id": "1908968d-e15a-44d1-a43b-8996121e6848",
   "metadata": {
    "tags": []
   },
   "outputs": [],
   "source": [
    "nejblizsi_shoda = [shoda[0] for shoda in shodne if shoda[1] >= 90]"
   ]
  },
  {
   "cell_type": "code",
   "execution_count": 30,
   "id": "28879277-b426-4c75-86fc-9a29a54652ca",
   "metadata": {
    "tags": []
   },
   "outputs": [
    {
     "data": {
      "text/plain": [
       "['Ceska republika', 'Ceska Republika', 'Ceskarepublika', 'Ceska Reapublika']"
      ]
     },
     "execution_count": 30,
     "metadata": {},
     "output_type": "execute_result"
    }
   ],
   "source": [
    "nejblizsi_shoda"
   ]
  },
  {
   "cell_type": "code",
   "execution_count": 31,
   "id": "b1c8fbff-74c7-42e0-86e2-61f076129b11",
   "metadata": {
    "tags": []
   },
   "outputs": [],
   "source": [
    "shodujici_udaje = df_zamestnanci[\"zeme\"].isin(nejblizsi_shoda)  # membership testing"
   ]
  },
  {
   "cell_type": "code",
   "execution_count": 32,
   "id": "ce0f02da-f59f-49d0-9abb-02f7f75aaaeb",
   "metadata": {
    "tags": []
   },
   "outputs": [
    {
     "data": {
      "text/plain": [
       "0     True\n",
       "1    False\n",
       "2    False\n",
       "3     True\n",
       "4     True\n",
       "5    False\n",
       "6     True\n",
       "Name: zeme, dtype: bool"
      ]
     },
     "execution_count": 32,
     "metadata": {},
     "output_type": "execute_result"
    }
   ],
   "source": [
    "shodujici_udaje"
   ]
  },
  {
   "cell_type": "code",
   "execution_count": 33,
   "id": "b66af175-69b4-40c4-a628-4b7ed14556d1",
   "metadata": {
    "tags": []
   },
   "outputs": [
    {
     "data": {
      "text/html": [
       "<div>\n",
       "<style scoped>\n",
       "    .dataframe tbody tr th:only-of-type {\n",
       "        vertical-align: middle;\n",
       "    }\n",
       "\n",
       "    .dataframe tbody tr th {\n",
       "        vertical-align: top;\n",
       "    }\n",
       "\n",
       "    .dataframe thead th {\n",
       "        text-align: right;\n",
       "    }\n",
       "</style>\n",
       "<table border=\"1\" class=\"dataframe\">\n",
       "  <thead>\n",
       "    <tr style=\"text-align: right;\">\n",
       "      <th></th>\n",
       "      <th>id</th>\n",
       "      <th>jmeno</th>\n",
       "      <th>vek</th>\n",
       "      <th>zeme</th>\n",
       "    </tr>\n",
       "  </thead>\n",
       "  <tbody>\n",
       "    <tr>\n",
       "      <th>0</th>\n",
       "      <td>111</td>\n",
       "      <td>Matous</td>\n",
       "      <td>22</td>\n",
       "      <td>Ceska republika</td>\n",
       "    </tr>\n",
       "    <tr>\n",
       "      <th>1</th>\n",
       "      <td>112</td>\n",
       "      <td>Marek</td>\n",
       "      <td>29</td>\n",
       "      <td>Slovensko</td>\n",
       "    </tr>\n",
       "    <tr>\n",
       "      <th>2</th>\n",
       "      <td>113</td>\n",
       "      <td>Petr</td>\n",
       "      <td>31</td>\n",
       "      <td>Nemecko</td>\n",
       "    </tr>\n",
       "    <tr>\n",
       "      <th>3</th>\n",
       "      <td>114</td>\n",
       "      <td>Filip</td>\n",
       "      <td>55</td>\n",
       "      <td>Ceskarepublika</td>\n",
       "    </tr>\n",
       "    <tr>\n",
       "      <th>4</th>\n",
       "      <td>115</td>\n",
       "      <td>Jan</td>\n",
       "      <td>43</td>\n",
       "      <td>Ceska Republika</td>\n",
       "    </tr>\n",
       "    <tr>\n",
       "      <th>5</th>\n",
       "      <td>116</td>\n",
       "      <td>Lukas</td>\n",
       "      <td>61</td>\n",
       "      <td>Rakousko</td>\n",
       "    </tr>\n",
       "    <tr>\n",
       "      <th>6</th>\n",
       "      <td>117</td>\n",
       "      <td>David</td>\n",
       "      <td>55</td>\n",
       "      <td>Ceska Reapublika</td>\n",
       "    </tr>\n",
       "  </tbody>\n",
       "</table>\n",
       "</div>"
      ],
      "text/plain": [
       "    id   jmeno  vek              zeme\n",
       "0  111  Matous   22   Ceska republika\n",
       "1  112   Marek   29         Slovensko\n",
       "2  113    Petr   31           Nemecko\n",
       "3  114   Filip   55    Ceskarepublika\n",
       "4  115     Jan   43   Ceska Republika\n",
       "5  116   Lukas   61          Rakousko\n",
       "6  117   David   55  Ceska Reapublika"
      ]
     },
     "execution_count": 33,
     "metadata": {},
     "output_type": "execute_result"
    }
   ],
   "source": [
    "df_zamestnanci"
   ]
  },
  {
   "cell_type": "code",
   "execution_count": 39,
   "id": "3051c069-682e-4fc8-8672-5addf467a2dc",
   "metadata": {
    "tags": []
   },
   "outputs": [
    {
     "data": {
      "text/html": [
       "<div>\n",
       "<style scoped>\n",
       "    .dataframe tbody tr th:only-of-type {\n",
       "        vertical-align: middle;\n",
       "    }\n",
       "\n",
       "    .dataframe tbody tr th {\n",
       "        vertical-align: top;\n",
       "    }\n",
       "\n",
       "    .dataframe thead th {\n",
       "        text-align: right;\n",
       "    }\n",
       "</style>\n",
       "<table border=\"1\" class=\"dataframe\">\n",
       "  <thead>\n",
       "    <tr style=\"text-align: right;\">\n",
       "      <th></th>\n",
       "      <th>id</th>\n",
       "      <th>jmeno</th>\n",
       "      <th>vek</th>\n",
       "      <th>zeme</th>\n",
       "    </tr>\n",
       "  </thead>\n",
       "  <tbody>\n",
       "    <tr>\n",
       "      <th>0</th>\n",
       "      <td>111</td>\n",
       "      <td>Matous</td>\n",
       "      <td>22</td>\n",
       "      <td>Ceska republika</td>\n",
       "    </tr>\n",
       "    <tr>\n",
       "      <th>1</th>\n",
       "      <td>112</td>\n",
       "      <td>Marek</td>\n",
       "      <td>29</td>\n",
       "      <td>Slovensko</td>\n",
       "    </tr>\n",
       "    <tr>\n",
       "      <th>2</th>\n",
       "      <td>113</td>\n",
       "      <td>Petr</td>\n",
       "      <td>31</td>\n",
       "      <td>Nemecko</td>\n",
       "    </tr>\n",
       "    <tr>\n",
       "      <th>3</th>\n",
       "      <td>114</td>\n",
       "      <td>Filip</td>\n",
       "      <td>55</td>\n",
       "      <td>Ceska republika</td>\n",
       "    </tr>\n",
       "    <tr>\n",
       "      <th>4</th>\n",
       "      <td>115</td>\n",
       "      <td>Jan</td>\n",
       "      <td>43</td>\n",
       "      <td>Ceska republika</td>\n",
       "    </tr>\n",
       "    <tr>\n",
       "      <th>5</th>\n",
       "      <td>116</td>\n",
       "      <td>Lukas</td>\n",
       "      <td>61</td>\n",
       "      <td>Rakousko</td>\n",
       "    </tr>\n",
       "    <tr>\n",
       "      <th>6</th>\n",
       "      <td>117</td>\n",
       "      <td>David</td>\n",
       "      <td>55</td>\n",
       "      <td>Ceska republika</td>\n",
       "    </tr>\n",
       "  </tbody>\n",
       "</table>\n",
       "</div>"
      ],
      "text/plain": [
       "    id   jmeno  vek             zeme\n",
       "0  111  Matous   22  Ceska republika\n",
       "1  112   Marek   29        Slovensko\n",
       "2  113    Petr   31          Nemecko\n",
       "3  114   Filip   55  Ceska republika\n",
       "4  115     Jan   43  Ceska republika\n",
       "5  116   Lukas   61         Rakousko\n",
       "6  117   David   55  Ceska republika"
      ]
     },
     "execution_count": 39,
     "metadata": {},
     "output_type": "execute_result"
    }
   ],
   "source": [
    "df_zamestnanci"
   ]
  },
  {
   "cell_type": "code",
   "execution_count": 42,
   "id": "aca600a2-dcab-409f-b262-a0c26acb96b6",
   "metadata": {},
   "outputs": [
    {
     "data": {
      "text/plain": [
       "0     Ceska republika\n",
       "3      Ceskarepublika\n",
       "4     Ceska Republika\n",
       "6    Ceska Reapublika\n",
       "Name: zeme, dtype: object"
      ]
     },
     "execution_count": 42,
     "metadata": {},
     "output_type": "execute_result"
    }
   ],
   "source": [
    "df_zamestnanci.loc[shodujici_udaje,\"zeme\"]"
   ]
  },
  {
   "cell_type": "code",
   "execution_count": 43,
   "id": "e74bcdb9-c7cf-48c9-ae15-996767744a78",
   "metadata": {
    "tags": []
   },
   "outputs": [],
   "source": [
    "vysledek = df_zamestnanci.loc[shodujici_udaje, \"zeme\"] = \"Ceska republika\""
   ]
  },
  {
   "cell_type": "code",
   "execution_count": 45,
   "id": "ca9816c3-12bc-4163-88a8-ce4cc5d1e159",
   "metadata": {
    "tags": []
   },
   "outputs": [
    {
     "data": {
      "text/html": [
       "<div>\n",
       "<style scoped>\n",
       "    .dataframe tbody tr th:only-of-type {\n",
       "        vertical-align: middle;\n",
       "    }\n",
       "\n",
       "    .dataframe tbody tr th {\n",
       "        vertical-align: top;\n",
       "    }\n",
       "\n",
       "    .dataframe thead th {\n",
       "        text-align: right;\n",
       "    }\n",
       "</style>\n",
       "<table border=\"1\" class=\"dataframe\">\n",
       "  <thead>\n",
       "    <tr style=\"text-align: right;\">\n",
       "      <th></th>\n",
       "      <th>id</th>\n",
       "      <th>jmeno</th>\n",
       "      <th>vek</th>\n",
       "      <th>zeme</th>\n",
       "    </tr>\n",
       "  </thead>\n",
       "  <tbody>\n",
       "    <tr>\n",
       "      <th>0</th>\n",
       "      <td>111</td>\n",
       "      <td>Matous</td>\n",
       "      <td>22</td>\n",
       "      <td>Ceska republika</td>\n",
       "    </tr>\n",
       "    <tr>\n",
       "      <th>1</th>\n",
       "      <td>112</td>\n",
       "      <td>Marek</td>\n",
       "      <td>29</td>\n",
       "      <td>Slovensko</td>\n",
       "    </tr>\n",
       "    <tr>\n",
       "      <th>2</th>\n",
       "      <td>113</td>\n",
       "      <td>Petr</td>\n",
       "      <td>31</td>\n",
       "      <td>Nemecko</td>\n",
       "    </tr>\n",
       "    <tr>\n",
       "      <th>3</th>\n",
       "      <td>114</td>\n",
       "      <td>Filip</td>\n",
       "      <td>55</td>\n",
       "      <td>Ceska republika</td>\n",
       "    </tr>\n",
       "    <tr>\n",
       "      <th>4</th>\n",
       "      <td>115</td>\n",
       "      <td>Jan</td>\n",
       "      <td>43</td>\n",
       "      <td>Ceska republika</td>\n",
       "    </tr>\n",
       "    <tr>\n",
       "      <th>5</th>\n",
       "      <td>116</td>\n",
       "      <td>Lukas</td>\n",
       "      <td>61</td>\n",
       "      <td>Rakousko</td>\n",
       "    </tr>\n",
       "    <tr>\n",
       "      <th>6</th>\n",
       "      <td>117</td>\n",
       "      <td>David</td>\n",
       "      <td>55</td>\n",
       "      <td>Ceska republika</td>\n",
       "    </tr>\n",
       "  </tbody>\n",
       "</table>\n",
       "</div>"
      ],
      "text/plain": [
       "    id   jmeno  vek             zeme\n",
       "0  111  Matous   22  Ceska republika\n",
       "1  112   Marek   29        Slovensko\n",
       "2  113    Petr   31          Nemecko\n",
       "3  114   Filip   55  Ceska republika\n",
       "4  115     Jan   43  Ceska republika\n",
       "5  116   Lukas   61         Rakousko\n",
       "6  117   David   55  Ceska republika"
      ]
     },
     "execution_count": 45,
     "metadata": {},
     "output_type": "execute_result"
    }
   ],
   "source": [
    "df_zamestnanci"
   ]
  },
  {
   "cell_type": "code",
   "execution_count": null,
   "id": "1134d0a2-6498-4b55-b8d0-48f2297345d1",
   "metadata": {
    "tags": []
   },
   "outputs": [],
   "source": [
    "def nahrad_shody_stringem(dframe, jmeno_sloupce, vzor, min_shoda=90):\n",
    "    \n",
    "    vsechny_stringy = dframe[sloupec].unique()\n",
    "    \n",
    "    shody = fuzzywuzzy.process.extract(vzor, vsechny_stringy, limit=5,\n",
    "                                       scorer=fuzzywuzzy.fuzz.token_sort_ratio)\n",
    "    \n",
    "    nejblizsi_shoda = [shoda [0] for shoda in shody if shoda[1] >= min_shoda]\n",
    "    \n",
    "    shodujici_zaznam = dframe[sloupec].isin(nejblizsi_shoda)\n",
    "    dframe.loc[shodujici_zaznam, sloupec] = vzor"
   ]
  },
  {
   "cell_type": "code",
   "execution_count": null,
   "id": "a1996a49-d0f0-4150-a06f-88657b40f05b",
   "metadata": {
    "tags": []
   },
   "outputs": [],
   "source": [
    "nahrad_shody_stringem(dframe=df_zamestnanci, jmeno_sloupce=\"zeme\", vzor=\"Ceska republika\")"
   ]
  },
  {
   "cell_type": "code",
   "execution_count": null,
   "id": "ee6dfae2-63b0-4d35-8ccb-4079cb176178",
   "metadata": {
    "tags": []
   },
   "outputs": [],
   "source": [
    "df_zamestnanci"
   ]
  },
  {
   "cell_type": "code",
   "execution_count": null,
   "id": "e124c1e3-6e59-4a75-a1c9-d62e4f86bf65",
   "metadata": {},
   "outputs": [],
   "source": []
  },
  {
   "cell_type": "markdown",
   "id": "8b23dd89-62ee-446a-8de8-d3be043aec81",
   "metadata": {},
   "source": [
    "<br>\n",
    "\n",
    "#### **🧠 CVIČENÍ 🧠, procvič si práci s chybným datasetem**"
   ]
  },
  {
   "cell_type": "markdown",
   "id": "fca2282e-5370-4524-9f2e-c75f7a728162",
   "metadata": {
    "tags": []
   },
   "source": [
    "Analyzuj prodeje produktu ve fiktivní společnosti během jednoho roku a zjisti následující:\n",
    "1. Nahraj soubor do `DataFrame`, jméno souboru `cviceni_3.csv` (správný encoding, správné rozdělení),\n",
    "2. projdi sloupce, zkontroluj, kde je problém s daty,\n",
    "3. vypiš všechny záznamy, které mají ve sloupci `mesto` hodnotu `Praha`."
   ]
  },
  {
   "cell_type": "code",
   "execution_count": null,
   "id": "57730efe-d4f7-47a1-9099-d9eaf4cd76e4",
   "metadata": {
    "tags": []
   },
   "outputs": [],
   "source": [
    "from pandas import read_csv"
   ]
  },
  {
   "cell_type": "code",
   "execution_count": null,
   "id": "9dfdd872-9f48-41d9-b65a-fe16311c21fa",
   "metadata": {},
   "outputs": [],
   "source": [
    "# ze souboru DFrame (chardet / charset_normalizer)"
   ]
  },
  {
   "cell_type": "code",
   "execution_count": null,
   "id": "9bc75809-4e38-4b9c-8507-6cf8d29d823c",
   "metadata": {
    "tags": []
   },
   "outputs": [],
   "source": [
    "cviceni_3_df = read_csv(\"cviceni_3.csv\")  # ??? Doplnit delší zdr. soubor (fce Download)"
   ]
  },
  {
   "cell_type": "code",
   "execution_count": null,
   "id": "86181d54-28bc-4b09-bf91-c6dddd512dd1",
   "metadata": {},
   "outputs": [],
   "source": [
    "# analýza dat v DFrame"
   ]
  },
  {
   "cell_type": "code",
   "execution_count": null,
   "id": "d174ea0e-f188-4d1f-88fe-98f8990c244c",
   "metadata": {},
   "outputs": [],
   "source": [
    "# v 'mesto' --> vzor: 'Praha': 'praaahaaa', 'praha', .."
   ]
  },
  {
   "cell_type": "code",
   "execution_count": null,
   "id": "5b467be3-8ee5-4a3d-a3f5-be47a7b1b522",
   "metadata": {},
   "outputs": [],
   "source": [
    "import pandas as pd\n",
    "import re\n",
    "import fuzzywuzzy\n",
    "from fuzzywuzzy import process"
   ]
  },
  {
   "cell_type": "code",
   "execution_count": null,
   "id": "3ffb2603-eb15-4d55-86ab-bf583a45a835",
   "metadata": {},
   "outputs": [],
   "source": [
    "data = pd.read_csv(\n",
    "    'C:\\\\Users\\\\je97214\\\\Desktop\\\\cviceni_3.csv',\n",
    "    encoding = 'cp1250',\n",
    "    sep = ';'\n",
    ")"
   ]
  },
  {
   "cell_type": "code",
   "execution_count": null,
   "id": "9fa4697a-10df-4f01-b653-6e681ad4048b",
   "metadata": {},
   "outputs": [],
   "source": [
    "def nahrad_shody_stringem(dframe, sloupec, vzor, min_shoda=60):\n",
    "    vsechny_stringy = dframe[sloupec].unique()\n",
    "    shody = fuzzywuzzy.process.extract(vzor, vsechny_stringy, limit=5, scorer=fuzzywuzzy.fuzz.token_sort_ratio)\n",
    "    nejblizsi_shoda = [shoda [0] for shoda in shody if shoda[1] >= min_shoda]\n",
    "    shodujici_zaznam = dframe[sloupec].isin(nejblizsi_shoda)\n",
    "    dframe.loc[shodujici_zaznam, sloupec] = vzor"
   ]
  },
  {
   "cell_type": "code",
   "execution_count": null,
   "id": "db93a733-f20f-464d-8508-cfc1f7ba1583",
   "metadata": {},
   "outputs": [],
   "source": [
    "print( 'Problémy s daty:' )\n",
    "display( data[~data['narozeni'].str.contains('\\\\d{1,2}/\\\\d{1,2}/\\\\d{4}', regex= True, na=False)] )\n",
    "display( data['mesto'].unique( ) )"
   ]
  },
  {
   "cell_type": "code",
   "execution_count": null,
   "id": "584b0369-7da9-4e27-a23b-ea83b7f82afa",
   "metadata": {},
   "outputs": [],
   "source": [
    "#oprava narození\n",
    "data['narozeni'] = data['narozeni'].astype( 'datetime64' )\n",
    "#oprava města\n",
    "nahrad_shody_stringem(dframe=data, sloupec=\"mesto\", vzor=\"Praha\")\n",
    "print( 'Výsledek:' )\n",
    "data.query( \"mesto == 'Praha'\" )"
   ]
  },
  {
   "cell_type": "markdown",
   "id": "43487b1b-91ee-4308-9c39-672290741eab",
   "metadata": {},
   "source": [
    "<details>\n",
    "    <summary>▶️ Řešení</summary>\n",
    "    \n",
    "    ```python\n",
    "    df_ukazka = read_csv(\"cviceni_3.csv\", encoding=\"Windows-1250\", delimiter=\";\")\n",
    "\n",
    "    def nahrad_shody_stringem(df, vzor, vyber, min_shoda=85):\n",
    "        shody = fuzzywuzzy.process.extract(vzor, vyber, limit=20,\n",
    "                                           scorer=fuzzywuzzy.fuzz.token_sort_ratio)\n",
    "\n",
    "        nejblizsi_shoda = [shoda[0] for shoda in shody if shoda[1] >= min_shoda]\n",
    "\n",
    "        shodujici_zaznam = vyber.isin(nejblizsi_shoda)\n",
    "        df.loc[shodujici_zaznam, \"mesto\"] = vzor\n",
    "        \n",
    "    nahrad_shody_stringem(df_ukazka, \"Praha\", df_ukazka[\"mesto\"])\n",
    "    vystup = df_ukazka[df_ukazka[\"mesto\"] == \"Praha\"]\n",
    "    ```\n",
    "</details>"
   ]
  },
  {
   "cell_type": "markdown",
   "id": "09459713-4521-4110-b322-028aef4d5602",
   "metadata": {},
   "source": [
    "---"
   ]
  }
 ],
 "metadata": {
  "kernelspec": {
   "display_name": "Python 3 (ipykernel)",
   "language": "python",
   "name": "python3"
  },
  "language_info": {
   "codemirror_mode": {
    "name": "ipython",
    "version": 3
   },
   "file_extension": ".py",
   "mimetype": "text/x-python",
   "name": "python",
   "nbconvert_exporter": "python",
   "pygments_lexer": "ipython3",
   "version": "3.8.10"
  }
 },
 "nbformat": 4,
 "nbformat_minor": 5
}

{
 "cells": [
  {
   "cell_type": "markdown",
   "id": "756f8ef3-70f3-48fb-bdf6-28c5dd0d8dc9",
   "metadata": {},
   "source": [
    "# Datová akademie, ČSOB, 2023\n",
    "\n",
    "---"
   ]
  },
  {
   "cell_type": "markdown",
   "id": "c2d5b109-15eb-48c2-9a79-18747a196385",
   "metadata": {},
   "source": [
    "* [Časové řady](#Časové-řady),\n",
    "    - [úvodní motivace](#Data-a-čas-v-Pythonu),\n",
    "    - [časové řady](#Časové-datové-typy),\n",
    "    - [funkce to_datetime](#Funkce-TO_DATETIME),\n",
    "    - [funkce date_range](#Funkce-DATE_RANGE),\n",
    "    - [resampling](#Resampling,-snížení-frekvence)\n",
    "    - [zpřesňování](#Zpřesňování-řady).\n",
    "* [Výkonné pandy](),\n",
    "    - [funkce eval](#funkce-EVAL),\n",
    "    - [výhody eval](#Výkon-EVAL),\n",
    "    - [funkce query](#Funkce-QUERY),\n",
    "    - [souhrn k eval a query](#Souhrn-k-EVAL-a-QUERY).\n",
    "* [Skutečné hodnoty](#Chybějící-hodnoty),\n",
    "    - [chybějící údaje](#Kolik-mi-chybí-údajů),\n",
    "    - [encoding](#Encoding),\n",
    "    - [nekonzistentní data](#Nekonzistentní-data)."
   ]
  },
  {
   "cell_type": "markdown",
   "id": "3ac6884d-bca7-45c4-8351-4131f2f48572",
   "metadata": {},
   "source": [
    "<br>\n",
    "\n",
    "## Časové řady\n",
    "\n",
    "---\n",
    "\n",
    "<img src=\"https://external-content.duckduckgo.com/iu/?u=https%3A%2F%2Ftse1.mm.bing.net%2Fth%3Fid%3DOIP.odqbr-09dxxBQjF7x7NyBAHaII%26pid%3DApi&f=1&ipt=5b4a03c1dd38b52108237102ebb350595a5d6ea6a50572f5897ca89fbf5b5445&ipo=images\" width=\"160\" style=\"margin-left:auto; margin-right:auto\"/>"
   ]
  },
  {
   "cell_type": "markdown",
   "id": "eeb7bf9c-d886-491f-a38b-954ea9ef4c17",
   "metadata": {
    "tags": []
   },
   "source": [
    "Část *frameworku* byla vyvinuta za účelem **finančního modelování**.\n",
    "\n",
    "Proto je více než dobře vybavena sadou nástrojů, které umí pracovat **s daty, časem a časovými objekty**.\n",
    "\n",
    "<br>\n",
    "\n",
    "Uplatnění:\n",
    "* **Analýza a predikce**: Časové řady umožňují analyzovat vývoj hodnot v čase a předpovídat budoucí trendy nebo sezónní změny,\n",
    "\n",
    "* **Efektivní manipulace s časem**: Pandas poskytuje nástroje pro efektivní práci s časovými řadami, což zjednodušuje úkoly, jako je agregace, interpolace nebo časové posuny,\n",
    "\n",
    "* **Časově závislé analýzy**: Časové řady umožňují provádět časově závislé analýzy, jako je detekce změn v trendech, identifikace sezónních vlivů nebo identifikace časových závislostí mezi proměnnými,\n",
    "\n",
    "* **Flexibilní indexace**: Pandas podporuje flexibilní indexaci časových řad, což usnadňuje filtrování, řazení a výběr dat na základě časových značek nebo rozsahů,\n",
    "\n",
    "* **Kompatibilita s dalšími knihovnami**: Pandas je kompatibilní s mnoha dalšími knihovnami pro analýzu časových řad, jako je `statsmodels` nebo `scikit-learn`.\n",
    "    \n",
    "<br>\n",
    "\n",
    "Jde například o údaje typu:\n",
    "* *timestampy*, údaj odkazující na **konkrétní časový okamžik** (datum a čas, např. `4. července 2015 v 7:00 hod.`),\n",
    "* *časové intervaly*, tedy období odkazují na **délku času mezi konkrétním začátkem a koncem** (např. intervaly ze dne na den),\n",
    "* *time delta* objekty, tedy **přesné délky času** (např. `22,22` sekundy)."
   ]
  },
  {
   "cell_type": "markdown",
   "id": "f9542756-cb5d-462e-a667-e2c0313db6ba",
   "metadata": {},
   "source": [
    "<br>\n",
    "\n",
    "#### Data a čas v Pythonu\n",
    "\n",
    "---"
   ]
  },
  {
   "cell_type": "markdown",
   "id": "8f89d05f-af3a-49c8-9072-2a7f527cf4de",
   "metadata": {},
   "source": [
    "Standardní výbavou Pythonu jsou knihovny `datetime`:"
   ]
  },
  {
   "cell_type": "code",
   "execution_count": 87,
   "id": "d0a194fe-fac0-42ae-a6c5-4770aa439395",
   "metadata": {
    "tags": []
   },
   "outputs": [],
   "source": [
    "from datetime import datetime"
   ]
  },
  {
   "cell_type": "code",
   "execution_count": 88,
   "id": "b39063c4-9ee8-489c-b640-233829d558a6",
   "metadata": {
    "tags": []
   },
   "outputs": [
    {
     "data": {
      "text/plain": [
       "\u001b[0;31mInit signature:\u001b[0m \u001b[0mdatetime\u001b[0m\u001b[0;34m(\u001b[0m\u001b[0mself\u001b[0m\u001b[0;34m,\u001b[0m \u001b[0;34m/\u001b[0m\u001b[0;34m,\u001b[0m \u001b[0;34m*\u001b[0m\u001b[0margs\u001b[0m\u001b[0;34m,\u001b[0m \u001b[0;34m**\u001b[0m\u001b[0mkwargs\u001b[0m\u001b[0;34m)\u001b[0m\u001b[0;34m\u001b[0m\u001b[0;34m\u001b[0m\u001b[0m\n",
       "\u001b[0;31mDocstring:\u001b[0m     \n",
       "datetime(year, month, day[, hour[, minute[, second[, microsecond[,tzinfo]]]]])\n",
       "\n",
       "The year, month and day arguments are required. tzinfo may be None, or an\n",
       "instance of a tzinfo subclass. The remaining arguments may be ints.\n",
       "\u001b[0;31mFile:\u001b[0m           /usr/lib/python3.8/datetime.py\n",
       "\u001b[0;31mType:\u001b[0m           type\n",
       "\u001b[0;31mSubclasses:\u001b[0m     ABCTimestamp, _NaT"
      ]
     },
     "metadata": {},
     "output_type": "display_data"
    }
   ],
   "source": [
    "datetime?"
   ]
  },
  {
   "cell_type": "code",
   "execution_count": null,
   "id": "ade4d2d7-0b0b-4151-af65-70951feaf8ce",
   "metadata": {
    "tags": []
   },
   "outputs": [],
   "source": [
    "datetime(year=2023, month=4, day=5)"
   ]
  },
  {
   "cell_type": "markdown",
   "id": "1ea4fa9f-987f-423b-85c3-b5e42d6aaa2b",
   "metadata": {},
   "source": [
    "<br>\n",
    "\n",
    "Nebo knihovna `dateutil` pro *parsování* datových typů z různých **stringových zadání**:"
   ]
  },
  {
   "cell_type": "code",
   "execution_count": 89,
   "id": "cf54882c-2d33-4c82-bef2-459ed78b8df9",
   "metadata": {
    "tags": []
   },
   "outputs": [],
   "source": [
    "from dateutil import parser"
   ]
  },
  {
   "cell_type": "code",
   "execution_count": 90,
   "id": "94adf275-e436-47f5-88b2-1ccb526d86fa",
   "metadata": {
    "tags": []
   },
   "outputs": [
    {
     "data": {
      "text/plain": [
       "\u001b[0;31mType:\u001b[0m        module\n",
       "\u001b[0;31mString form:\u001b[0m <module 'dateutil.parser' from '/home/matous/projects/data-csob-2023/shared/onsite/env/lib/python3.8/site-packages/dateutil/parser/__init__.py'>\n",
       "\u001b[0;31mFile:\u001b[0m        ~/projects/data-csob-2023/shared/onsite/env/lib/python3.8/site-packages/dateutil/parser/__init__.py\n",
       "\u001b[0;31mDocstring:\u001b[0m  \n",
       "This module offers a generic date/time string parser which is able to parse\n",
       "most known formats to represent a date and/or time.\n",
       "\n",
       "This module attempts to be forgiving with regards to unlikely input formats,\n",
       "returning a datetime object even for dates which are ambiguous. If an element\n",
       "of a date/time stamp is omitted, the following rules are applied:\n",
       "\n",
       "- If AM or PM is left unspecified, a 24-hour clock is assumed, however, an hour\n",
       "  on a 12-hour clock (``0 <= hour <= 12``) *must* be specified if AM or PM is\n",
       "  specified.\n",
       "- If a time zone is omitted, a timezone-naive datetime is returned.\n",
       "\n",
       "If any other elements are missing, they are taken from the\n",
       ":class:`datetime.datetime` object passed to the parameter ``default``. If this\n",
       "results in a day number exceeding the valid number of days per month, the\n",
       "value falls back to the end of the month.\n",
       "\n",
       "Additional resources about date/time string formats can be found below:\n",
       "\n",
       "- `A summary of the international standard date and time notation\n",
       "  <https://www.cl.cam.ac.uk/~mgk25/iso-time.html>`_\n",
       "- `W3C Date and Time Formats <https://www.w3.org/TR/NOTE-datetime>`_\n",
       "- `Time Formats (Planetary Rings Node) <https://pds-rings.seti.org:443/tools/time_formats.html>`_\n",
       "- `CPAN ParseDate module\n",
       "  <https://metacpan.org/pod/release/MUIR/Time-modules-2013.0912/lib/Time/ParseDate.pm>`_\n",
       "- `Java SimpleDateFormat Class\n",
       "  <https://docs.oracle.com/javase/6/docs/api/java/text/SimpleDateFormat.html>`_"
      ]
     },
     "metadata": {},
     "output_type": "display_data"
    }
   ],
   "source": [
    "parser?"
   ]
  },
  {
   "cell_type": "code",
   "execution_count": null,
   "id": "452e9eec-a77a-4d7f-9e1c-886c1152fd11",
   "metadata": {
    "tags": []
   },
   "outputs": [],
   "source": [
    "date = parser.parse(\"5th of april, 2023\")"
   ]
  },
  {
   "cell_type": "code",
   "execution_count": null,
   "id": "22c01da0-e255-4338-b5b7-394bfa866883",
   "metadata": {
    "tags": []
   },
   "outputs": [],
   "source": [
    "date"
   ]
  },
  {
   "cell_type": "markdown",
   "id": "658dc0e1-86e6-4042-b2db-2d2d3b48bb44",
   "metadata": {},
   "source": [
    "<br>\n",
    "\n",
    "Kde pomocí metody `strftime` můžeš vypsat den:"
   ]
  },
  {
   "cell_type": "code",
   "execution_count": null,
   "id": "d28e3912-30c2-4b38-818e-afd8b36aa6ad",
   "metadata": {
    "tags": []
   },
   "outputs": [],
   "source": [
    "date.strftime(\"%A\")"
   ]
  },
  {
   "cell_type": "markdown",
   "id": "fb75c6fb-9757-4b53-a611-9bfd67b899e8",
   "metadata": {},
   "source": [
    "<br>\n",
    "\n",
    "#### Data a čas v numpy\n",
    "\n",
    "---"
   ]
  },
  {
   "cell_type": "markdown",
   "id": "6bd35fe3-af1f-4c54-b206-158c3a3691f2",
   "metadata": {},
   "source": [
    "Některé nedostatky uvnitř knihoven `datetime` a `dateutil` vedli ke vzniku sady nástrojů.\n",
    "\n",
    "Tyto doplňky vznikly pod hlavičkou knihovny `numpy`."
   ]
  },
  {
   "cell_type": "code",
   "execution_count": null,
   "id": "951d10ff-5615-4fdd-b776-d07be4e8fbed",
   "metadata": {
    "tags": []
   },
   "outputs": [],
   "source": [
    "from numpy import array, arange"
   ]
  },
  {
   "cell_type": "code",
   "execution_count": null,
   "id": "ace452d7-3323-4d8c-a289-1b9d3bde2906",
   "metadata": {
    "tags": []
   },
   "outputs": [],
   "source": [
    "date = array('2023-04-05', dtype=np.datetime64)"
   ]
  },
  {
   "cell_type": "code",
   "execution_count": null,
   "id": "29f0009b-bfc0-45d5-93db-a4f2544e000a",
   "metadata": {
    "tags": []
   },
   "outputs": [],
   "source": [
    "date"
   ]
  },
  {
   "cell_type": "markdown",
   "id": "02f3b981-0e8a-460b-aa4e-1e736149ffdb",
   "metadata": {},
   "source": [
    "<br>\n",
    "\n",
    "Pokud potřebuješ pole následujících 7 dní:"
   ]
  },
  {
   "cell_type": "code",
   "execution_count": null,
   "id": "6e41ecfd-cca7-4cc9-b3c5-e890b7a41eea",
   "metadata": {
    "tags": []
   },
   "outputs": [],
   "source": [
    "date + arange(7)"
   ]
  },
  {
   "cell_type": "markdown",
   "id": "684eaa2a-abb4-4a0a-8463-2ddea8cd96b3",
   "metadata": {
    "tags": []
   },
   "source": [
    "<br>\n",
    "\n",
    "Vzhledem k jednotnému datovu typu v poli pro **numpy** `datetime64` může tento typ operace\n",
    "provádět mnohem rychleji, než přímo v Pythonu `datetime` objekty, zejména když objekty nabývají na velikosti."
   ]
  },
  {
   "cell_type": "markdown",
   "id": "f948c02f-728a-4a62-85d5-6d4f16cf91f7",
   "metadata": {},
   "source": [
    "#### Data a čas v pandách\n",
    "\n",
    "---"
   ]
  },
  {
   "cell_type": "markdown",
   "id": "7f86fbaf-813e-44ac-8917-235ea2966fee",
   "metadata": {
    "tags": []
   },
   "source": [
    "Jde o kombinace objektů z obou předchozích podkapitol.\n",
    "\n",
    "Ty dávají dohromady to nejlepší prostředky pro zacházení s časem."
   ]
  },
  {
   "cell_type": "code",
   "execution_count": null,
   "id": "7d095458-75e4-44fb-baf1-06d379db7736",
   "metadata": {
    "tags": []
   },
   "outputs": [],
   "source": [
    "from pandas import to_datetime"
   ]
  },
  {
   "cell_type": "code",
   "execution_count": null,
   "id": "3cd1aaf4-eca0-4f2b-8bd8-5a52fbfd4637",
   "metadata": {
    "tags": []
   },
   "outputs": [],
   "source": [
    "date = to_datetime(\"5th of April, 2023\")"
   ]
  },
  {
   "cell_type": "code",
   "execution_count": null,
   "id": "ec88920f-7144-447a-aef4-85e6842b43f7",
   "metadata": {
    "tags": []
   },
   "outputs": [],
   "source": [
    "date"
   ]
  },
  {
   "cell_type": "code",
   "execution_count": null,
   "id": "30f7fff2-9795-46af-b97a-06cd4ff4962a",
   "metadata": {
    "tags": []
   },
   "outputs": [],
   "source": [
    "date.strftime(\"%A\")"
   ]
  },
  {
   "cell_type": "markdown",
   "id": "046bc9ce-237a-4dda-a865-e5f4fe34e752",
   "metadata": {},
   "source": [
    "<br>\n",
    "\n",
    "### Základní objekty\n",
    "\n",
    "---"
   ]
  },
  {
   "cell_type": "markdown",
   "id": "68359749-d638-4b3a-8646-18749616328e",
   "metadata": {},
   "source": [
    "V podstatě jde o hlavní nástroj, který tato knihovna dovede nabídnout.\n",
    "\n",
    "Tedy práce s univerzálními datovými typy pro čas.\n",
    "\n",
    "Mezi základní objekty pro práci s časem patří:\n",
    "* `Timestamp`, typ (související struktura Indexu `DatetimeIndex`,\n",
    "* `Period`, typ (.. `PeriodIndex`),\n",
    "* `Timedelta`, typ (.. `TimedeltaIndex`)."
   ]
  },
  {
   "cell_type": "markdown",
   "id": "dc9beb04-717d-438a-b001-968e3ca0da29",
   "metadata": {},
   "source": [
    "#### Timestamp\n",
    "\n",
    "---\n",
    "\n",
    "Základní datový typ do časových řad.\n",
    "\n",
    "Přiřazuje pandasí hodnoty k skutečným konkrétním časovým bodům."
   ]
  },
  {
   "cell_type": "code",
   "execution_count": 106,
   "id": "dd8bbc4c-2973-4e84-a3b2-63c90ad65167",
   "metadata": {
    "tags": []
   },
   "outputs": [],
   "source": [
    "from pandas import Timestamp"
   ]
  },
  {
   "cell_type": "code",
   "execution_count": 110,
   "id": "fd64dbc6-f9ae-4eb6-8254-750a7a58e4dd",
   "metadata": {
    "tags": []
   },
   "outputs": [
    {
     "data": {
      "text/plain": [
       "Timestamp('2023-05-04 00:00:00')"
      ]
     },
     "execution_count": 110,
     "metadata": {},
     "output_type": "execute_result"
    }
   ],
   "source": [
    "Timestamp(\"2023-05-04\")"
   ]
  },
  {
   "cell_type": "code",
   "execution_count": 111,
   "id": "d07b9871-395a-4795-aab4-920d51575493",
   "metadata": {
    "tags": []
   },
   "outputs": [
    {
     "data": {
      "text/plain": [
       "Timestamp('2023-05-04 00:00:00')"
      ]
     },
     "execution_count": 111,
     "metadata": {},
     "output_type": "execute_result"
    }
   ],
   "source": [
    "Timestamp(2023, 5, 4)"
   ]
  },
  {
   "cell_type": "code",
   "execution_count": 118,
   "id": "fb4e3249-28df-47b8-8f18-b758aa822045",
   "metadata": {
    "tags": []
   },
   "outputs": [
    {
     "data": {
      "text/plain": [
       "pandas._libs.tslibs.timestamps.Timestamp"
      ]
     },
     "execution_count": 118,
     "metadata": {},
     "output_type": "execute_result"
    }
   ],
   "source": [
    "type(Timestamp(2023, 5, 4))"
   ]
  },
  {
   "cell_type": "markdown",
   "id": "48954ac2-f6ef-46a1-aede-0cb505f4f685",
   "metadata": {},
   "source": [
    "<br>\n",
    "\n",
    "#### Period\n",
    "\n",
    "---\n",
    "\n",
    "V mnoha případech je však přirozenější spojit proměnné, jako je změna, s časovým rozpětím.\n",
    "\n",
    "`Period` představuje časový interval nebo období, které má začátek a konec."
   ]
  },
  {
   "cell_type": "code",
   "execution_count": 112,
   "id": "fe5e2e76-8882-4fa4-abcb-8b23db5157b5",
   "metadata": {
    "tags": []
   },
   "outputs": [],
   "source": [
    "from pandas import Period"
   ]
  },
  {
   "cell_type": "code",
   "execution_count": 114,
   "id": "6d08c45c-86dc-4611-89ab-97fc41152120",
   "metadata": {
    "tags": []
   },
   "outputs": [
    {
     "data": {
      "text/plain": [
       "Period('2023-05-01', 'D')"
      ]
     },
     "execution_count": 114,
     "metadata": {},
     "output_type": "execute_result"
    }
   ],
   "source": [
    "Period(\"2023-05\", freq=\"D\")"
   ]
  },
  {
   "cell_type": "code",
   "execution_count": 119,
   "id": "34685988-1669-4c70-8e88-530024c1ded6",
   "metadata": {
    "tags": []
   },
   "outputs": [
    {
     "data": {
      "text/plain": [
       "pandas._libs.tslibs.period.Period"
      ]
     },
     "execution_count": 119,
     "metadata": {},
     "output_type": "execute_result"
    }
   ],
   "source": [
    "type(Period(\"2023-05\", freq=\"D\"))"
   ]
  },
  {
   "cell_type": "markdown",
   "id": "afa7a454-08b6-4b60-8c8a-ce1f2c524ce6",
   "metadata": {},
   "source": [
    "Hlavním rozdílem pro `Timestamp` a `Period` je v rámci jejich zapracování.\n",
    "\n",
    "`Timestamp` pracuje s konkrétním časovým okamžikem.\n",
    "\n",
    "`Period` naopak s časovým intervalem."
   ]
  },
  {
   "cell_type": "markdown",
   "id": "9e31e02e-2547-4dc5-b4ba-de1b00597c61",
   "metadata": {},
   "source": [
    "<br>\n",
    "\n",
    "#### Indexování časem\n",
    "\n",
    "---\n",
    "\n",
    "`DatetimeIndex` obsahuje časové značky (*timestamp*), které jsou uloženy ve formátu `datetime64` s nanosekundovou přesností.\n",
    "\n",
    "Tento objekt umožňuje efektivní práci s časovými řadami a poskytuje mnoho funkcí pro manipulaci s daty a časy.\n",
    "\n",
    "Výhody práce s `DatetimeIndex` objektem:\n",
    "* Časové zóny,\n",
    "* frekvence,\n",
    "* časově závislé selekce,\n",
    "* atributy časových značek,\n",
    "* operace s časem."
   ]
  },
  {
   "cell_type": "code",
   "execution_count": 120,
   "id": "60eeeebc-9171-4e69-813b-22f660d41767",
   "metadata": {
    "tags": []
   },
   "outputs": [],
   "source": [
    "from pandas import DatetimeIndex, Series"
   ]
  },
  {
   "cell_type": "code",
   "execution_count": 121,
   "id": "99a7e6c3-7d28-4902-83d6-bab5c54c0ccc",
   "metadata": {
    "tags": []
   },
   "outputs": [],
   "source": [
    "datumy = [\"2023-04-05\", \"2022-04-05\", \"2021-04-05\", \"2020-04-05\"]"
   ]
  },
  {
   "cell_type": "code",
   "execution_count": 122,
   "id": "1de25773-7754-4c66-8f32-df03bc6b0521",
   "metadata": {
    "tags": []
   },
   "outputs": [],
   "source": [
    "indexy = DatetimeIndex(datumy)"
   ]
  },
  {
   "cell_type": "code",
   "execution_count": 123,
   "id": "f4215e08-b7af-4ec2-9c3a-1bb2705fdf78",
   "metadata": {
    "tags": []
   },
   "outputs": [],
   "source": [
    "hodnoty = [to_datetime(den).strftime(\"%A\") for den in datumy]"
   ]
  },
  {
   "cell_type": "code",
   "execution_count": 124,
   "id": "22cc433c-dad1-4cff-a19d-04b1cbf65de0",
   "metadata": {
    "tags": []
   },
   "outputs": [],
   "source": [
    "df_hodnoty = Series(hodnoty, index=indexy)"
   ]
  },
  {
   "cell_type": "code",
   "execution_count": 125,
   "id": "624a6fd9-07f1-4bac-8a28-25a369ef2119",
   "metadata": {
    "tags": []
   },
   "outputs": [
    {
     "data": {
      "text/plain": [
       "2023-04-05    Wednesday\n",
       "2022-04-05      Tuesday\n",
       "2021-04-05       Monday\n",
       "2020-04-05       Sunday\n",
       "dtype: object"
      ]
     },
     "execution_count": 125,
     "metadata": {},
     "output_type": "execute_result"
    }
   ],
   "source": [
    "df_hodnoty"
   ]
  },
  {
   "cell_type": "code",
   "execution_count": 126,
   "id": "8b7364a9-02ae-4f73-a70e-2a5500b32729",
   "metadata": {
    "tags": []
   },
   "outputs": [
    {
     "data": {
      "text/plain": [
       "pandas.core.indexes.datetimes.DatetimeIndex"
      ]
     },
     "execution_count": 126,
     "metadata": {},
     "output_type": "execute_result"
    }
   ],
   "source": [
    "type(indexy)"
   ]
  },
  {
   "cell_type": "code",
   "execution_count": 127,
   "id": "a70446ce-26e6-4515-8bae-a230a0c0cefe",
   "metadata": {
    "tags": []
   },
   "outputs": [
    {
     "name": "stderr",
     "output_type": "stream",
     "text": [
      "/tmp/ipykernel_7941/3590313258.py:1: FutureWarning: Value based partial slicing on non-monotonic DatetimeIndexes with non-existing keys is deprecated and will raise a KeyError in a future Version.\n",
      "  df_hodnoty[\"2020\": \"2022\"]\n"
     ]
    },
    {
     "data": {
      "text/plain": [
       "2022-04-05    Tuesday\n",
       "2021-04-05     Monday\n",
       "2020-04-05     Sunday\n",
       "dtype: object"
      ]
     },
     "execution_count": 127,
     "metadata": {},
     "output_type": "execute_result"
    }
   ],
   "source": [
    "df_hodnoty[\"2020\": \"2022\"]"
   ]
  },
  {
   "cell_type": "markdown",
   "id": "b1cc5efa-3139-4b95-9ac9-241d4c87199d",
   "metadata": {},
   "source": [
    "<br>\n",
    "\n",
    "### Funkce TO_DATETIME\n",
    "\n",
    "---\n",
    "\n",
    "Nejčastější datové typy, které lze zapsat přímo, ovšem běžnější je pracovat s funkcí `to_datetime`.\n",
    "\n",
    "Funkce `to_datetime` umí parsovat různé stringové formáty."
   ]
  },
  {
   "cell_type": "code",
   "execution_count": 128,
   "id": "adec7acd-20a5-4a56-8140-98171c7f0885",
   "metadata": {
    "tags": []
   },
   "outputs": [],
   "source": [
    "from pandas import to_datetime"
   ]
  },
  {
   "cell_type": "markdown",
   "id": "5a914035-5051-4b6b-9f5e-9b989606c04d",
   "metadata": {},
   "source": [
    "<br>\n",
    "\n",
    "#### Práce s jedním datumem\n",
    "\n",
    "---"
   ]
  },
  {
   "cell_type": "code",
   "execution_count": 129,
   "id": "26fb0d39-b8d8-4df9-9536-1d7dc4a7a26b",
   "metadata": {
    "tags": []
   },
   "outputs": [],
   "source": [
    "datum = to_datetime(\"05/04/2023\")"
   ]
  },
  {
   "cell_type": "code",
   "execution_count": 130,
   "id": "6daacedb-f084-447a-9121-e68aea27fa67",
   "metadata": {
    "tags": []
   },
   "outputs": [
    {
     "data": {
      "text/plain": [
       "Timestamp('2023-05-04 00:00:00')"
      ]
     },
     "execution_count": 130,
     "metadata": {},
     "output_type": "execute_result"
    }
   ],
   "source": [
    "datum"
   ]
  },
  {
   "cell_type": "code",
   "execution_count": 131,
   "id": "a3a71b46-eb51-4f1c-bb01-5bca9b8541bf",
   "metadata": {
    "tags": []
   },
   "outputs": [
    {
     "data": {
      "text/plain": [
       "pandas._libs.tslibs.timestamps.Timestamp"
      ]
     },
     "execution_count": 131,
     "metadata": {},
     "output_type": "execute_result"
    }
   ],
   "source": [
    "type(datum)"
   ]
  },
  {
   "cell_type": "markdown",
   "id": "8ed2c0db-56f2-4650-a488-425d637d7096",
   "metadata": {},
   "source": [
    "Pokud do funkce `to_datetime` vložíš jedinou hodnotu, vrací objekty typu `Timestamp`."
   ]
  },
  {
   "cell_type": "markdown",
   "id": "20d80be0-fb71-4e5a-a870-3405a70991a3",
   "metadata": {},
   "source": [
    "<br>\n",
    "\n",
    "#### Specifický formát\n",
    "\n",
    "---"
   ]
  },
  {
   "cell_type": "markdown",
   "id": "50ca9f50-f80d-45b5-9b2b-377d5dff7775",
   "metadata": {},
   "source": [
    "Pokud se parser ve funkci `to_datetime` ztratí nebo tvoje zadání neodpovídá jeho vyhotovení, můžeš zadat formát explicitně:"
   ]
  },
  {
   "cell_type": "code",
   "execution_count": 133,
   "id": "ef6c013a-f5d1-49f2-97b9-76a199860034",
   "metadata": {
    "tags": []
   },
   "outputs": [],
   "source": [
    "vystup = to_datetime(\"12-11-2010 00:00\", format=\"%d-%m-%Y %H:%M\")"
   ]
  },
  {
   "cell_type": "code",
   "execution_count": 137,
   "id": "313150a9-9e10-4ef5-a48d-4ce7066239aa",
   "metadata": {
    "tags": []
   },
   "outputs": [
    {
     "data": {
      "text/plain": [
       "12"
      ]
     },
     "execution_count": 137,
     "metadata": {},
     "output_type": "execute_result"
    }
   ],
   "source": [
    "vystup.day"
   ]
  },
  {
   "cell_type": "code",
   "execution_count": 135,
   "id": "ff4ec533-72eb-42dc-96d0-2ea174449082",
   "metadata": {
    "tags": []
   },
   "outputs": [
    {
     "data": {
      "text/plain": [
       "11"
      ]
     },
     "execution_count": 135,
     "metadata": {},
     "output_type": "execute_result"
    }
   ],
   "source": [
    "vystup.month"
   ]
  },
  {
   "cell_type": "code",
   "execution_count": 136,
   "id": "4aa75ffa-cc20-4e4f-b1d3-c9c3b756f3a6",
   "metadata": {
    "tags": []
   },
   "outputs": [
    {
     "data": {
      "text/plain": [
       "2010"
      ]
     },
     "execution_count": 136,
     "metadata": {},
     "output_type": "execute_result"
    }
   ],
   "source": [
    "vystup.year"
   ]
  },
  {
   "cell_type": "markdown",
   "id": "2f9e3749-24c8-47a6-999f-6608cbca194d",
   "metadata": {},
   "source": [
    "<br>\n",
    "\n",
    "#### Práce s několika datumy\n",
    "\n",
    "---"
   ]
  },
  {
   "cell_type": "markdown",
   "id": "69ceaf56-7b8f-4e39-bd69-122f48f6ace6",
   "metadata": {},
   "source": [
    "Stejně jak umí funkce *parsovat* jednu hodnotu, umí zpracovat pole časových stringů:"
   ]
  },
  {
   "cell_type": "code",
   "execution_count": 138,
   "id": "0485d2db-fef1-4949-aee4-44621b04c99b",
   "metadata": {
    "tags": []
   },
   "outputs": [],
   "source": [
    "datumy = to_datetime([\n",
    "    datetime(2023, 4, 5), \"5th of April 2023\", \"2023-Apr-5\", \"05-04-2023\", \"20230405\"]\n",
    ")"
   ]
  },
  {
   "cell_type": "code",
   "execution_count": 139,
   "id": "a66f0d07-e6ce-4215-8d27-06b943c9ce03",
   "metadata": {
    "tags": []
   },
   "outputs": [
    {
     "data": {
      "text/plain": [
       "DatetimeIndex(['2023-04-05', '2023-04-05', '2023-04-05', '2023-05-04',\n",
       "               '2023-04-05'],\n",
       "              dtype='datetime64[ns]', freq=None)"
      ]
     },
     "execution_count": 139,
     "metadata": {},
     "output_type": "execute_result"
    }
   ],
   "source": [
    "datumy"
   ]
  },
  {
   "cell_type": "code",
   "execution_count": 140,
   "id": "b09d8517-b186-48e9-90d5-2c0e3c18a42f",
   "metadata": {
    "tags": []
   },
   "outputs": [
    {
     "data": {
      "text/plain": [
       "pandas.core.indexes.datetimes.DatetimeIndex"
      ]
     },
     "execution_count": 140,
     "metadata": {},
     "output_type": "execute_result"
    }
   ],
   "source": [
    "type(datumy)"
   ]
  },
  {
   "cell_type": "markdown",
   "id": "398cdf52-c51b-45cb-b28d-92a8f88450d4",
   "metadata": {},
   "source": [
    "Zatímco pole hodnot s datumy, které funkce `to_datetime` zpracuje vrací objekt typu `DatetimeIndex`."
   ]
  },
  {
   "cell_type": "markdown",
   "id": "1abc3650-44d8-4c81-8008-2b725745d26c",
   "metadata": {},
   "source": [
    "<br>\n",
    "\n",
    "Objekt `DatetimeIndex` potom můžeš konvertovat na `PeriodIndex` pomocí *metody* `to_period`:"
   ]
  },
  {
   "cell_type": "code",
   "execution_count": 141,
   "id": "69fab45e-b3ce-4339-b19e-206094cc772d",
   "metadata": {
    "tags": []
   },
   "outputs": [
    {
     "data": {
      "text/plain": [
       "\u001b[0;31mSignature:\u001b[0m \u001b[0mdatumy\u001b[0m\u001b[0;34m.\u001b[0m\u001b[0mto_period\u001b[0m\u001b[0;34m(\u001b[0m\u001b[0;34m*\u001b[0m\u001b[0margs\u001b[0m\u001b[0;34m,\u001b[0m \u001b[0;34m**\u001b[0m\u001b[0mkwargs\u001b[0m\u001b[0;34m)\u001b[0m\u001b[0;34m\u001b[0m\u001b[0;34m\u001b[0m\u001b[0m\n",
       "\u001b[0;31mDocstring:\u001b[0m\n",
       "Cast to PeriodArray/Index at a particular frequency.\n",
       "\n",
       "Converts DatetimeArray/Index to PeriodArray/Index.\n",
       "\n",
       "Parameters\n",
       "----------\n",
       "freq : str or Offset, optional\n",
       "    One of pandas' :ref:`offset strings <timeseries.offset_aliases>`\n",
       "    or an Offset object. Will be inferred by default.\n",
       "\n",
       "Returns\n",
       "-------\n",
       "PeriodArray/Index\n",
       "\n",
       "Raises\n",
       "------\n",
       "ValueError\n",
       "    When converting a DatetimeArray/Index with non-regular values,\n",
       "    so that a frequency cannot be inferred.\n",
       "\n",
       "See Also\n",
       "--------\n",
       "PeriodIndex: Immutable ndarray holding ordinal values.\n",
       "DatetimeIndex.to_pydatetime: Return DatetimeIndex as object.\n",
       "\n",
       "Examples\n",
       "--------\n",
       ">>> df = pd.DataFrame({\"y\": [1, 2, 3]},\n",
       "...                   index=pd.to_datetime([\"2000-03-31 00:00:00\",\n",
       "...                                         \"2000-05-31 00:00:00\",\n",
       "...                                         \"2000-08-31 00:00:00\"]))\n",
       ">>> df.index.to_period(\"M\")\n",
       "PeriodIndex(['2000-03', '2000-05', '2000-08'],\n",
       "            dtype='period[M]')\n",
       "\n",
       "Infer the daily frequency\n",
       "\n",
       ">>> idx = pd.date_range(\"2017-01-01\", periods=2)\n",
       ">>> idx.to_period()\n",
       "PeriodIndex(['2017-01-01', '2017-01-02'],\n",
       "            dtype='period[D]')\n",
       "\u001b[0;31mFile:\u001b[0m      ~/projects/data-csob-2023/shared/onsite/env/lib/python3.8/site-packages/pandas/core/indexes/extension.py\n",
       "\u001b[0;31mType:\u001b[0m      method"
      ]
     },
     "metadata": {},
     "output_type": "display_data"
    }
   ],
   "source": [
    "datumy.to_period?"
   ]
  },
  {
   "cell_type": "markdown",
   "id": "87f61609-e5ab-4239-9d88-20b88f423e19",
   "metadata": {},
   "source": [
    "<br>\n",
    "\n",
    "Tato metoda je užitečná, pokud chcete převést časové řady **na určité časové období**.\n",
    "\n",
    "Když budeš třeba potřebovat převést hodnoty **z denních dat na měsíční data**."
   ]
  },
  {
   "cell_type": "markdown",
   "id": "1816df76-13e9-466e-9870-db1a78a59d0a",
   "metadata": {},
   "source": [
    "#### Denní data"
   ]
  },
  {
   "cell_type": "code",
   "execution_count": null,
   "id": "1895f60c-e502-4774-beb9-879cc9ce14a7",
   "metadata": {
    "tags": []
   },
   "outputs": [],
   "source": [
    "datumy.to_period(\"D\")"
   ]
  },
  {
   "cell_type": "markdown",
   "id": "c3dc0b4b-39a7-4e98-be9c-79033712c7de",
   "metadata": {},
   "source": [
    "#### Měsíční data"
   ]
  },
  {
   "cell_type": "code",
   "execution_count": null,
   "id": "2e5ad75b-4fd1-4440-9e97-7103071881c0",
   "metadata": {
    "tags": []
   },
   "outputs": [],
   "source": [
    "datumy.to_period(\"M\")"
   ]
  },
  {
   "cell_type": "code",
   "execution_count": null,
   "id": "30185bce-790c-4e54-a875-60ff0235d47f",
   "metadata": {
    "tags": []
   },
   "outputs": [],
   "source": [
    "data = {\n",
    "    'date': pd.date_range(start='2022-01-01', periods=10, freq='D'),\n",
    "    'sales': [100, 102, 105, 107, 110, 112, 115, 117, 120, 122]\n",
    "}"
   ]
  },
  {
   "cell_type": "code",
   "execution_count": null,
   "id": "6ca14750-9cb0-4ec3-a907-8f6f96aa3d1f",
   "metadata": {
    "tags": []
   },
   "outputs": [],
   "source": [
    "df = pd.DataFrame(data)"
   ]
  },
  {
   "cell_type": "code",
   "execution_count": null,
   "id": "02ad7d9b-fb68-4450-b1db-52dbf02b70ec",
   "metadata": {
    "tags": []
   },
   "outputs": [],
   "source": [
    "df.set_index('date', inplace=True)"
   ]
  },
  {
   "cell_type": "code",
   "execution_count": null,
   "id": "6f08f86d-35db-4cc1-901a-a58090cef872",
   "metadata": {
    "tags": []
   },
   "outputs": [],
   "source": [
    "df_period = df.to_period(freq='Y')"
   ]
  },
  {
   "cell_type": "markdown",
   "id": "a7420d65-c466-4073-bb1f-93a9ff82446d",
   "metadata": {
    "tags": []
   },
   "source": [
    "<br>\n",
    "\n",
    "#### Časové zony\n",
    "\n",
    "---\n"
   ]
  },
  {
   "cell_type": "code",
   "execution_count": 101,
   "id": "81cd85c0-a48a-4a48-9b9f-98fddf731c93",
   "metadata": {
    "tags": []
   },
   "outputs": [],
   "source": [
    "tz_datum = datum.tz_localize(\"UTC\")"
   ]
  },
  {
   "cell_type": "code",
   "execution_count": 102,
   "id": "4e4926f3-4926-475b-aa2d-b693e1623546",
   "metadata": {
    "tags": []
   },
   "outputs": [
    {
     "data": {
      "text/plain": [
       "Timestamp('2023-05-04 00:00:00+0000', tz='UTC')"
      ]
     },
     "execution_count": 102,
     "metadata": {},
     "output_type": "execute_result"
    }
   ],
   "source": [
    "tz_datum"
   ]
  },
  {
   "cell_type": "code",
   "execution_count": 103,
   "id": "990b74ed-db71-440b-b739-30613951a2b8",
   "metadata": {
    "tags": []
   },
   "outputs": [],
   "source": [
    "nove_tz_datum = tz_datum.tz_convert(\"US/Pacific\")"
   ]
  },
  {
   "cell_type": "code",
   "execution_count": 104,
   "id": "8981a6ea-4e17-4b13-b07a-9ff428ce2aea",
   "metadata": {
    "tags": []
   },
   "outputs": [
    {
     "data": {
      "text/plain": [
       "Timestamp('2023-05-03 17:00:00-0700', tz='US/Pacific')"
      ]
     },
     "execution_count": 104,
     "metadata": {},
     "output_type": "execute_result"
    }
   ],
   "source": [
    "nove_tz_datum"
   ]
  },
  {
   "cell_type": "markdown",
   "id": "3a81a152-9474-4144-aaea-e636837262e4",
   "metadata": {},
   "source": [
    "<br>\n",
    "\n",
    "### TimedeltaIndex\n",
    "\n",
    "---\n",
    "\n",
    "Jde o rozdíl v jednotkách času.\n",
    "\n",
    "Nejčastěji se s tímto objektem setkáš, pokud potřebuješ získat **rozdíl mezi dvěma datumy**."
   ]
  },
  {
   "cell_type": "code",
   "execution_count": null,
   "id": "5b1fbc8d-03eb-4fcd-bd6d-ebc260757c34",
   "metadata": {
    "tags": []
   },
   "outputs": [],
   "source": [
    "specialni_datumy = to_datetime([\n",
    "    datetime(2022, 4, 5), \"5th of April 2021\", \"2020-Apr-5\", \"05-04-2019\", \"20180405\"]\n",
    ")"
   ]
  },
  {
   "cell_type": "code",
   "execution_count": null,
   "id": "74c7e266-a391-4a0d-935f-f16ed1fdfc78",
   "metadata": {
    "tags": []
   },
   "outputs": [],
   "source": [
    "datumy - specialni_datumy"
   ]
  },
  {
   "cell_type": "markdown",
   "id": "61341cec-4332-4b2d-96c2-80b90412aadb",
   "metadata": {},
   "source": [
    "<br>\n",
    "\n",
    "### Funkce DATE_RANGE\n",
    "\n",
    "---\n",
    "\n",
    "Aby bylo zadání řady (sekvence) dat pohodlnější, vyzkoušej funkci `date_range`.\n",
    "\n",
    "Obdobně potom pracují související funkce:\n",
    "* `date_range`, timestampy,\n",
    "* `period_range`, periody,\n",
    "* `timedelta_range`, pro delty."
   ]
  },
  {
   "cell_type": "code",
   "execution_count": 143,
   "id": "f65dbd82-0557-4426-baf8-8be7eaaa28f9",
   "metadata": {
    "tags": []
   },
   "outputs": [],
   "source": [
    "from pandas import date_range"
   ]
  },
  {
   "cell_type": "markdown",
   "id": "660a2db5-b2e7-4a86-862c-8a7df9601da4",
   "metadata": {
    "tags": []
   },
   "source": [
    "<br>\n",
    "\n",
    "#### Počet period\n",
    "\n",
    "---\n",
    "\n",
    "Nachystá objekt, který vypracuje tolik period, které definuješ pomocí parametru `periods`:"
   ]
  },
  {
   "cell_type": "code",
   "execution_count": 144,
   "id": "ba9c46b2-30e9-4b5d-bc8a-76d5c9265cb4",
   "metadata": {
    "tags": []
   },
   "outputs": [],
   "source": [
    "datumy_ind = date_range(\"01-01-1992\", periods=8)"
   ]
  },
  {
   "cell_type": "code",
   "execution_count": 145,
   "id": "082c41cf-947e-4b1a-892a-86f9ebeb19db",
   "metadata": {
    "tags": []
   },
   "outputs": [
    {
     "data": {
      "text/plain": [
       "DatetimeIndex(['1992-01-01', '1992-01-02', '1992-01-03', '1992-01-04',\n",
       "               '1992-01-05', '1992-01-06', '1992-01-07', '1992-01-08'],\n",
       "              dtype='datetime64[ns]', freq='D')"
      ]
     },
     "execution_count": 145,
     "metadata": {},
     "output_type": "execute_result"
    }
   ],
   "source": [
    "datumy_ind"
   ]
  },
  {
   "cell_type": "markdown",
   "id": "0be34411-4c4b-45ff-b2cf-175d343b903f",
   "metadata": {},
   "source": [
    "<br>\n",
    "\n",
    "#### Frekvence\n",
    "\n",
    "---"
   ]
  },
  {
   "cell_type": "code",
   "execution_count": 146,
   "id": "b67392de-ea40-44d3-83ed-39739ad5a8ec",
   "metadata": {
    "tags": []
   },
   "outputs": [],
   "source": [
    "datumy_mesicne_ind = date_range(\"01-01-1992\", periods=8, freq=\"M\")"
   ]
  },
  {
   "cell_type": "code",
   "execution_count": 147,
   "id": "bbf13f30-b13f-46cf-ab94-648f43e978af",
   "metadata": {
    "tags": []
   },
   "outputs": [
    {
     "data": {
      "text/plain": [
       "DatetimeIndex(['1992-01-31', '1992-02-29', '1992-03-31', '1992-04-30',\n",
       "               '1992-05-31', '1992-06-30', '1992-07-31', '1992-08-31'],\n",
       "              dtype='datetime64[ns]', freq='M')"
      ]
     },
     "execution_count": 147,
     "metadata": {},
     "output_type": "execute_result"
    }
   ],
   "source": [
    "datumy_mesicne_ind"
   ]
  },
  {
   "cell_type": "markdown",
   "id": "62fbb90d-dc45-4935-ad5e-87beaae4cbb4",
   "metadata": {},
   "source": [
    "<br>\n",
    "\n",
    "#### Hodinové periody\n",
    "\n",
    "---"
   ]
  },
  {
   "cell_type": "code",
   "execution_count": 148,
   "id": "e599a9eb-ebff-4b15-81eb-447a56d49f2a",
   "metadata": {
    "tags": []
   },
   "outputs": [],
   "source": [
    "from pandas import timedelta_range"
   ]
  },
  {
   "cell_type": "code",
   "execution_count": 149,
   "id": "23e2cdfa-41a7-46f2-860a-76f473801c66",
   "metadata": {
    "tags": []
   },
   "outputs": [],
   "source": [
    "hodinove_ind = timedelta_range(0, periods=12, freq=\"H\")"
   ]
  },
  {
   "cell_type": "code",
   "execution_count": 150,
   "id": "8ca56f2c-855a-4ac7-acde-c19a5700b3ba",
   "metadata": {
    "tags": []
   },
   "outputs": [
    {
     "data": {
      "text/plain": [
       "TimedeltaIndex(['0 days 00:00:00', '0 days 01:00:00', '0 days 02:00:00',\n",
       "                '0 days 03:00:00', '0 days 04:00:00', '0 days 05:00:00',\n",
       "                '0 days 06:00:00', '0 days 07:00:00', '0 days 08:00:00',\n",
       "                '0 days 09:00:00', '0 days 10:00:00', '0 days 11:00:00'],\n",
       "               dtype='timedelta64[ns]', freq='H')"
      ]
     },
     "execution_count": 150,
     "metadata": {},
     "output_type": "execute_result"
    }
   ],
   "source": [
    "hodinove_ind"
   ]
  },
  {
   "cell_type": "markdown",
   "id": "1f8b2bf6-5315-48c0-8437-18e59eda686d",
   "metadata": {},
   "source": [
    "<br>\n",
    "\n",
    "### Frekvence\n",
    "\n",
    "Časovou paletou frekvencí, kterou framework `pandas` nabízí je tato tabulka:\n",
    "\n",
    "| String | Popisek |\n",
    "| :-: | :- |\n",
    "| `D` | kalendářní den |\n",
    "| `W` | týden |\n",
    "| `M` | konec měsíce |\n",
    "| `Q` | konec čtvrtletí |\n",
    "| `A` | konec roku |\n",
    "| `H` | hodiny |\n",
    "| `T` | minuty |\n",
    "| `S` | vteřiny |\n",
    "| `B` | pracovní den |\n",
    "| `BM` | konec pracovníḧo měsíce |\n",
    "| `BQ` | konec pracovního čtvrtletí |"
   ]
  },
  {
   "cell_type": "markdown",
   "id": "db3d9da8-d3f8-4ae6-8d2f-3edb8574b186",
   "metadata": {},
   "source": [
    "#### Netradiční frekvence\n",
    "\n",
    "---"
   ]
  },
  {
   "cell_type": "code",
   "execution_count": 151,
   "id": "d018ea20-0961-4ebd-a8dd-1e89caba59af",
   "metadata": {
    "tags": []
   },
   "outputs": [
    {
     "data": {
      "text/plain": [
       "TimedeltaIndex(['0 days 00:00:00', '0 days 01:15:00', '0 days 02:30:00',\n",
       "                '0 days 03:45:00', '0 days 05:00:00'],\n",
       "               dtype='timedelta64[ns]', freq='75T')"
      ]
     },
     "execution_count": 151,
     "metadata": {},
     "output_type": "execute_result"
    }
   ],
   "source": [
    "timedelta_range(0, periods=5, freq=\"1H15T\")"
   ]
  },
  {
   "cell_type": "code",
   "execution_count": null,
   "id": "3ef01fc0-0311-4b87-91fc-61e00b1bfc06",
   "metadata": {},
   "outputs": [],
   "source": []
  },
  {
   "cell_type": "markdown",
   "id": "0cb1ee2d-8931-4b29-9ad1-75ef1af72239",
   "metadata": {
    "tags": []
   },
   "source": [
    "<br>\n",
    "\n",
    "### Resampling, snížení frekvence\n",
    "\n",
    "---"
   ]
  },
  {
   "cell_type": "markdown",
   "id": "360e9694-210f-4228-956f-bc0d2cb02943",
   "metadata": {
    "tags": []
   },
   "source": [
    "*Resampling* nebo také *převzorkování* je proces, který upravuje frekvenci časové řady.\n",
    "\n",
    "*Resampling* se obvykle používá **pro snížení frekvence** (z hodinových dat na denní data).\n",
    "\n",
    "*Resampling* zahrnuje *agregaci* dat.\n",
    "\n",
    "V `pandas` se k tomu používá metoda `resample`, která má jako parametr novou frekvenci, na kterou chcete data převést:"
   ]
  },
  {
   "cell_type": "code",
   "execution_count": null,
   "id": "27e30d6c-87bf-4ddf-9437-fb4168cd3f13",
   "metadata": {
    "tags": []
   },
   "outputs": [],
   "source": [
    "import pandas as pd"
   ]
  },
  {
   "cell_type": "code",
   "execution_count": null,
   "id": "8dc6f35e-ef80-4694-96ff-916840acab9b",
   "metadata": {
    "tags": []
   },
   "outputs": [],
   "source": [
    "data = {\n",
    "    'date': pd.date_range(start='2022-01-01', periods=60, freq='D'),\n",
    "    'sales': range(60)\n",
    "}"
   ]
  },
  {
   "cell_type": "code",
   "execution_count": null,
   "id": "e270307f-2ffc-4319-ad9a-3b4f5ed2525d",
   "metadata": {
    "tags": []
   },
   "outputs": [],
   "source": [
    "df = pd.DataFrame(data)"
   ]
  },
  {
   "cell_type": "code",
   "execution_count": null,
   "id": "a1b2d7f8-1f6d-4b2f-a644-b2eee524c1fb",
   "metadata": {
    "tags": []
   },
   "outputs": [],
   "source": [
    "df.set_index('date', inplace=True)"
   ]
  },
  {
   "cell_type": "code",
   "execution_count": null,
   "id": "d7944f7b-e4e2-4a80-95d0-3e7685181d2d",
   "metadata": {
    "tags": []
   },
   "outputs": [],
   "source": [
    "monthly_data = df.resample('M').sum()"
   ]
  },
  {
   "cell_type": "code",
   "execution_count": null,
   "id": "6f1cbd90-9075-42c4-8383-5b5cb62043e1",
   "metadata": {
    "tags": []
   },
   "outputs": [],
   "source": [
    "print(monthly_data)"
   ]
  },
  {
   "cell_type": "markdown",
   "id": "2409459c-abcc-4c21-a35f-a12b4f849f95",
   "metadata": {},
   "source": [
    "<br>\n",
    "\n",
    "### Zpřesňování řady\n",
    "\n",
    "---\n",
    "\n",
    "Zahrnuje **zvýšení frekvence časových řad**.\n",
    "\n",
    "Přičemž se nově vytvořené hodnoty obvykle interpolují nebo doplňují nějakou konstantou.\n",
    "\n",
    "V pandas se k zpřesňování používá metoda `asfreq`, která má jako parametr novou frekvenci, na kterou chcete data převést."
   ]
  },
  {
   "cell_type": "code",
   "execution_count": null,
   "id": "4cf9ca9b-8abe-400f-b5f9-41b9e4e5a011",
   "metadata": {
    "tags": []
   },
   "outputs": [],
   "source": [
    "data = {\n",
    "    'date': pd.date_range(start='2022-01-01', end='2022-03-01', freq='MS'),\n",
    "    'sales': [100, 120, 150]\n",
    "}"
   ]
  },
  {
   "cell_type": "code",
   "execution_count": null,
   "id": "a288549f-7193-4358-b7d2-2214b8142420",
   "metadata": {
    "tags": []
   },
   "outputs": [],
   "source": [
    "df = pd.DataFrame(data)"
   ]
  },
  {
   "cell_type": "code",
   "execution_count": null,
   "id": "eb390e0b-7b8b-4e35-9668-62b623be5fb0",
   "metadata": {
    "tags": []
   },
   "outputs": [],
   "source": [
    "df.head()"
   ]
  },
  {
   "cell_type": "code",
   "execution_count": null,
   "id": "92b5b854-c489-40e9-8fdf-8d0602a98f3f",
   "metadata": {
    "tags": []
   },
   "outputs": [],
   "source": [
    "df.set_index('date', inplace=True)"
   ]
  },
  {
   "cell_type": "code",
   "execution_count": null,
   "id": "f1274a83-335d-4976-becb-67e66190ea7f",
   "metadata": {
    "tags": []
   },
   "outputs": [],
   "source": [
    "daily_data = df.asfreq('D', method='ffill')"
   ]
  },
  {
   "cell_type": "code",
   "execution_count": null,
   "id": "6643a169-475c-4e5f-86f5-138c7de33e7b",
   "metadata": {
    "tags": []
   },
   "outputs": [],
   "source": [
    "daily_data.head(20)"
   ]
  },
  {
   "cell_type": "markdown",
   "id": "81ac6ba8-0520-4be2-ac28-dfd2ab2bd412",
   "metadata": {
    "tags": []
   },
   "source": [
    "Metoda `asfreq` bere jako parametr novou frekvenci, na kterou chceme data převést.\n",
    "\n",
    "V případě výše jde o frekvenci `D`, což znamená **denní data**.\n",
    "\n",
    "Protože při zpřesňování se **vytvoří chybějící hodnoty** (v důsledku zvýšení frekvence), je potřeba zvolit metodu pro jejich doplnění.\n",
    "\n",
    "Výš jde o metodu `forward fill` (parametr `method='ffill'`), která kopíruje předchozí hodnotu pro výplň chybějících hodnot.\n",
    "\n",
    "Další možností je použít metodu `'back fill'` (parametr `method='bfill'`), která kopíruje následující hodnotu pro výplň chybějících hodnot."
   ]
  },
  {
   "cell_type": "markdown",
   "id": "57418c5b-f760-4e3d-9d2c-ce578d2f8ee4",
   "metadata": {},
   "source": [
    "<br>\n",
    "\n",
    "**🧠 CVIČENÍ 🧠, procvič si časové řady**"
   ]
  },
  {
   "cell_type": "markdown",
   "id": "d0255aee-a7b8-42cb-b38b-e781cc708a27",
   "metadata": {},
   "source": [
    "Analyzuj prodeje produktu ve fiktivní společnosti během jednoho roku a zjisti následující:\n",
    "1. Celkový prodej za každý měsíc.\n",
    "2. Průměrný prodej za každý den v týdnu.\n",
    "3. Denní prodej za poslední týden."
   ]
  },
  {
   "cell_type": "code",
   "execution_count": null,
   "id": "3de27864-4e8c-48b4-9b7a-67365cae0780",
   "metadata": {
    "tags": []
   },
   "outputs": [],
   "source": [
    "import pandas as pd\n",
    "import numpy as np\n",
    "\n",
    "denni_datumy = pd.date_range(start='2022-01-01', end='2022-12-31', freq='D')\n",
    "prodeje = np.random.randint(10, 100, size=(len(date_rng),))\n",
    "\n",
    "data = {\n",
    "    'datumy': denni_datumy,\n",
    "    'prodeje': prodeje\n",
    "}\n",
    "\n",
    "df_prodeje = pd.DataFrame(data)\n",
    "df_prodeje.set_index('datumy', inplace=True)"
   ]
  },
  {
   "cell_type": "code",
   "execution_count": null,
   "id": "82b89234-87ac-4060-90a7-ce527ec73cf5",
   "metadata": {
    "tags": []
   },
   "outputs": [],
   "source": [
    "df_prodeje"
   ]
  },
  {
   "cell_type": "code",
   "execution_count": null,
   "id": "7037577c-04b2-4c01-9abc-94c88d4e1cfb",
   "metadata": {
    "tags": []
   },
   "outputs": [],
   "source": []
  },
  {
   "cell_type": "markdown",
   "id": "7154ef39-450f-47ea-bb3f-51f3613b6b1f",
   "metadata": {},
   "source": [
    "### Resampling\n",
    "\n",
    "---"
   ]
  },
  {
   "cell_type": "markdown",
   "id": "144866e7-de13-48c1-9e27-49108965d248",
   "metadata": {},
   "source": [
    "*Resampling* nebo také *převzorkování* je proces, který upravuje frekvenci časové řady.\n",
    "\n",
    "*Resampling* se obvykle používá **pro snížení frekvence** (z hodinových dat na denní data).\n",
    "\n",
    "*Resampling* zahrnuje *agregaci* dat.\n",
    "\n",
    "V `pandas` se k tomu používá metoda `resample`, která má jako parametr novou frekvenci, na kterou chcete data převést:"
   ]
  },
  {
   "cell_type": "code",
   "execution_count": null,
   "id": "783a0792-0546-4641-8b70-1dd2d384f919",
   "metadata": {
    "tags": []
   },
   "outputs": [],
   "source": [
    "import pandas as pd"
   ]
  },
  {
   "cell_type": "code",
   "execution_count": null,
   "id": "a6e3221e-4a66-4585-8433-d931b29eedd3",
   "metadata": {
    "tags": []
   },
   "outputs": [],
   "source": [
    "data = {\n",
    "    'date': pd.date_range(start='2022-01-01', periods=60, freq='D'),\n",
    "    'sales': range(60)\n",
    "}"
   ]
  },
  {
   "cell_type": "code",
   "execution_count": null,
   "id": "90e40d75-86f7-4bbd-b6be-19aaa370cfae",
   "metadata": {
    "tags": []
   },
   "outputs": [],
   "source": [
    "df = pd.DataFrame(data)"
   ]
  },
  {
   "cell_type": "code",
   "execution_count": null,
   "id": "89ae8368-296a-4c78-bddc-9f4058cc38af",
   "metadata": {
    "tags": []
   },
   "outputs": [],
   "source": [
    "df.set_index('date', inplace=True)"
   ]
  },
  {
   "cell_type": "code",
   "execution_count": null,
   "id": "f433910a-60e8-49c4-a495-34defb5e572a",
   "metadata": {
    "tags": []
   },
   "outputs": [],
   "source": [
    "monthly_data = df.resample('M').sum()"
   ]
  },
  {
   "cell_type": "code",
   "execution_count": null,
   "id": "fa2ab3fb-2050-477a-bb65-67ec2c7fb628",
   "metadata": {
    "tags": []
   },
   "outputs": [],
   "source": [
    "print(monthly_data)"
   ]
  },
  {
   "cell_type": "markdown",
   "id": "06c9c436-31c9-4c45-b476-54aee90b667b",
   "metadata": {},
   "source": [
    "<br>\n",
    "\n",
    "### Zpřesňování\n",
    "\n",
    "---\n",
    "\n",
    "Zahrnuje **zvýšení frekvence časových řad**.\n",
    "\n",
    "Přičemž se nově vytvořené hodnoty obvykle interpolují nebo doplňují nějakou konstantou.\n",
    "\n",
    "V pandas se k zpřesňování používá metoda `asfreq`, která má jako parametr novou frekvenci, na kterou chcete data převést."
   ]
  },
  {
   "cell_type": "code",
   "execution_count": null,
   "id": "a360f1ee-1871-42f0-a1c6-017a65c47da0",
   "metadata": {
    "tags": []
   },
   "outputs": [],
   "source": [
    "data = {\n",
    "    'date': pd.date_range(start='2022-01-01', end='2022-03-01', freq='MS'),\n",
    "    'sales': [100, 120, 150]\n",
    "}"
   ]
  },
  {
   "cell_type": "code",
   "execution_count": null,
   "id": "8bb26986-014a-49f6-b162-62e0444fdf1d",
   "metadata": {
    "tags": []
   },
   "outputs": [],
   "source": [
    "df = pd.DataFrame(data)"
   ]
  },
  {
   "cell_type": "code",
   "execution_count": null,
   "id": "b75e046e-03f7-4df8-890b-67567dcf04ac",
   "metadata": {
    "tags": []
   },
   "outputs": [],
   "source": [
    "df.head()"
   ]
  },
  {
   "cell_type": "code",
   "execution_count": null,
   "id": "a0f57b73-df38-4415-b974-fb337bea7349",
   "metadata": {
    "tags": []
   },
   "outputs": [],
   "source": [
    "df.set_index('date', inplace=True)"
   ]
  },
  {
   "cell_type": "code",
   "execution_count": null,
   "id": "fd3cb029-525b-431e-93b0-037522c587ca",
   "metadata": {
    "tags": []
   },
   "outputs": [],
   "source": [
    "daily_data = df.asfreq('D', method='ffill')"
   ]
  },
  {
   "cell_type": "code",
   "execution_count": null,
   "id": "5f21141b-5879-41c6-a872-cc3ddc30cb05",
   "metadata": {
    "tags": []
   },
   "outputs": [],
   "source": [
    "daily_data.head(20)"
   ]
  },
  {
   "cell_type": "markdown",
   "id": "8470d91b-8e95-4eaf-ab74-6d16046f2676",
   "metadata": {},
   "source": [
    "Metoda `asfreq` bere jako parametr novou frekvenci, na kterou chceme data převést.\n",
    "\n",
    "V případě výše jde o frekvenci `D`, což znamená **denní data**.\n",
    "\n",
    "Protože při zpřesňování se **vytvoří chybějící hodnoty** (v důsledku zvýšení frekvence), je potřeba zvolit metodu pro jejich doplnění.\n",
    "\n",
    "Výš jde o metodu `forward fill` (parametr `method='ffill'`), která kopíruje předchozí hodnotu pro výplň chybějících hodnot.\n",
    "\n",
    "Další možností je použít metodu `'back fill'` (parametr `method='bfill'`), která kopíruje následující hodnotu pro výplň chybějících hodnot."
   ]
  },
  {
   "cell_type": "markdown",
   "id": "22e40a97-0dad-46f6-8cb0-746f4a240094",
   "metadata": {},
   "source": [
    "<br>\n",
    "\n",
    "**🧠 CVIČENÍ 🧠, procvič si časové řady**"
   ]
  },
  {
   "cell_type": "markdown",
   "id": "705605d9-b8f4-436a-9352-98b9e0f8680b",
   "metadata": {},
   "source": [
    "Analyzuj prodeje produktu ve fiktivní společnosti během jednoho roku a zjisti následující:\n",
    "1. Celkový prodej za každý měsíc.\n",
    "2. Průměrný prodej za každý den v týdnu.\n",
    "3. Denní prodej za poslední týden."
   ]
  },
  {
   "cell_type": "code",
   "execution_count": 133,
   "id": "917dbcf7-06e1-4957-ab6f-a9b0366b7ce8",
   "metadata": {
    "tags": []
   },
   "outputs": [],
   "source": [
    "from numpy.random import randint\n",
    "from pandas import date_range, DataFrame\n",
    "\n",
    "denni_datumy = date_range(start='2022-01-01', end='2022-12-31', freq='D')\n",
    "prodeje = randint(10, 100, size=(len(denni_datumy),))\n",
    "\n",
    "data = {\n",
    "    'datumy': denni_datumy,\n",
    "    'prodeje': prodeje\n",
    "}\n",
    "\n",
    "df_prodeje = DataFrame(data)\n",
    "df_prodeje.set_index('datumy', inplace=True)"
   ]
  },
  {
   "cell_type": "markdown",
   "id": "b3392c3b-44c4-461d-b0c2-1911679eba2f",
   "metadata": {},
   "source": [
    "<details>\n",
    "    <summary>▶️ Řešení</summary>\n",
    "    \n",
    "    ```python\n",
    "    mesicni_prodej = df_prodeje.resample('M').sum()\n",
    "\n",
    "    df_prodeje['weekday'] = df_prodeje.index.weekday\n",
    "    denni_prumer = df_prodeje.groupby('weekday')['prodeje'].mean()\n",
    "\n",
    "    prodej_posledni_vikend = df_prodeje.loc['2022-12-25':, 'prodeje']\n",
    "    ```\n",
    "</details>"
   ]
  },
  {
   "cell_type": "code",
   "execution_count": null,
   "id": "d1052cb9-7bdc-4fc2-adb1-71919e6d21ed",
   "metadata": {},
   "outputs": [],
   "source": []
  },
  {
   "cell_type": "markdown",
   "id": "0d977140-145d-4ca5-8ff3-d1bccf42457e",
   "metadata": {},
   "source": [
    "* [High performance](),\n",
    "    - [úvodní motivace](),\n",
    "    - [eval](),\n",
    "    - [query](),\n",
    "    - [caveats]()."
   ]
  },
  {
   "cell_type": "markdown",
   "id": "8d6f2fb4-4f9a-4e52-9826-fe5d2db2413b",
   "metadata": {},
   "source": [
    "## Vysoký výkon v PANDAS\n",
    "\n",
    "---\n",
    "\n",
    "<img src=\"https://external-content.duckduckgo.com/iu/?u=https%3A%2F%2Ftse1.mm.bing.net%2Fth%3Fid%3DOIP.riOR-y2_yu_2cGdEN2e6-wAAAA%26pid%3DApi&f=1&ipt=638c4516d155ff9768066e17887a621cbad0de6bce639a40be98f5dedbce67ac&ipo=images\" width=\"160\" style=\"margin-left:auto; margin-right:auto\"/>"
   ]
  },
  {
   "cell_type": "markdown",
   "id": "6fe330bb-362e-4faa-bd19-b1ebb5db78a6",
   "metadata": {},
   "source": [
    "Z předchozích ukázek a popisků (seskupování) tedy můžeš chápat, že skutečný výkon *frameworku* tkví v převedení **základních operací do jazyka C**.\n",
    "\n",
    "Tyto abstrakce jsou účinné a efektivní pro mnoho běžných případů použití.\n",
    "\n",
    "Vytvářejí ale spousty dočasných objektů, což může způsobit nepřiměřenou režii výpočetního času a paměti."
   ]
  },
  {
   "cell_type": "markdown",
   "id": "c559f494-40a6-47f1-9da4-1b6cf4204945",
   "metadata": {},
   "source": [
    "### EVAL a QUERY\n",
    "\n",
    "---\n",
    "\n",
    "Přímý přístup k operacím rychlosti C bez nákladné alokace `pandas` poskytuje funkce `eval` a `query`.\n",
    "\n",
    "Ty spolehájí na funkci `numexpr`."
   ]
  },
  {
   "cell_type": "markdown",
   "id": "c67464b1-a8e4-40f9-8d2e-7a99b5a76065",
   "metadata": {},
   "source": [
    "<br>\n",
    "\n",
    "### funkce EVAL\n",
    "\n",
    "---"
   ]
  },
  {
   "cell_type": "markdown",
   "id": "83f22aee-533f-4d2e-ad74-c3d649cd49b6",
   "metadata": {},
   "source": [
    "Dva důvody, proč používat funkci `eval` místo obyčejného Pythonu:\n",
    "1. velké objekty typu `DataFrame` jsou vyhodnocovány efektivněji,\n",
    "2. aritmetické a logické výrazy projdou naráz základním enginem (pomocí `numexpr`)."
   ]
  },
  {
   "cell_type": "markdown",
   "id": "9f5f15c6-64ad-4bc1-a5fe-c40850d2db1a",
   "metadata": {},
   "source": [
    "**Pozor!** Dobrá obecná pomůcka říká, že není nutné využívat funkci `eval` pro tabulky, které jsou kratší než 10 000 řádků. "
   ]
  },
  {
   "cell_type": "markdown",
   "id": "2c23bf00-e9fb-4241-b4a3-f3df4b89615e",
   "metadata": {},
   "source": [
    "### Použití EVAL\n",
    "\n",
    "---\n",
    "\n"
   ]
  },
  {
   "cell_type": "markdown",
   "id": "745c98c1-0862-4854-b8f9-3f00bbef9fa9",
   "metadata": {},
   "source": [
    "Funkce `eval` slouží k efektivnímu vyhodnocení **aritmetických výrazů** na:\n",
    "* objekty `DataFrame`,\n",
    "* objekty `Series`.\n",
    "\n",
    "Její největší výhodou je **rychlost a efektivita**, která spočívá v minimalizaci paměťové zátěže a zrychlení operací."
   ]
  },
  {
   "cell_type": "markdown",
   "id": "d82db24c-8fb4-4e30-ae5b-82427363c029",
   "metadata": {},
   "source": [
    "Když pracuješ **s velkými datovými sadami**, paměťová zátěž a rychlost se stávají klíčovými faktory.\n",
    "\n",
    "Funkce `eval` optimalizuje výpočetní proces tím, že snižuje množství alokované paměti a zrychluje výpočetní operace.\n",
    "\n",
    "Ukázka použití funkce `eval`:"
   ]
  },
  {
   "cell_type": "markdown",
   "id": "09b1ba30-1a7e-49a4-82f7-da25ddd4ccb1",
   "metadata": {},
   "source": [
    "### Ukázka EVAL\n",
    "\n",
    "---"
   ]
  },
  {
   "cell_type": "markdown",
   "id": "3253ad1d-cc90-4a39-bf6d-66a794d9d2d4",
   "metadata": {},
   "source": [
    "Pro zadaný *dummy dataset* vytvoř **nový sloupeček** `sloupec_D`, podle vzoru:\n",
    "`A + B * C`"
   ]
  },
  {
   "cell_type": "code",
   "execution_count": 1,
   "id": "b3631a72-bb38-4f68-944e-87f4efb8fbea",
   "metadata": {
    "tags": []
   },
   "outputs": [],
   "source": [
    "from pandas import DataFrame, eval"
   ]
  },
  {
   "cell_type": "code",
   "execution_count": 2,
   "id": "45edb37f-9d97-4756-971d-169acfef2506",
   "metadata": {
    "tags": []
   },
   "outputs": [],
   "source": [
    "data = {'A': [1, 2, 3, 4, 5],\n",
    "        'B': [6, 7, 8, 9, 10],\n",
    "        'C': [11, 12, 13, 14, 15]}"
   ]
  },
  {
   "cell_type": "code",
   "execution_count": 3,
   "id": "02c0def6-0592-438d-8c10-4b6d516caf0a",
   "metadata": {
    "tags": []
   },
   "outputs": [],
   "source": [
    "df_data = DataFrame(data)"
   ]
  },
  {
   "cell_type": "code",
   "execution_count": 5,
   "id": "d38138de-83ac-4853-8b8a-5c2f8052471d",
   "metadata": {
    "tags": []
   },
   "outputs": [
    {
     "data": {
      "text/html": [
       "<div>\n",
       "<style scoped>\n",
       "    .dataframe tbody tr th:only-of-type {\n",
       "        vertical-align: middle;\n",
       "    }\n",
       "\n",
       "    .dataframe tbody tr th {\n",
       "        vertical-align: top;\n",
       "    }\n",
       "\n",
       "    .dataframe thead th {\n",
       "        text-align: right;\n",
       "    }\n",
       "</style>\n",
       "<table border=\"1\" class=\"dataframe\">\n",
       "  <thead>\n",
       "    <tr style=\"text-align: right;\">\n",
       "      <th></th>\n",
       "      <th>A</th>\n",
       "      <th>B</th>\n",
       "      <th>C</th>\n",
       "    </tr>\n",
       "  </thead>\n",
       "  <tbody>\n",
       "    <tr>\n",
       "      <th>0</th>\n",
       "      <td>1</td>\n",
       "      <td>6</td>\n",
       "      <td>11</td>\n",
       "    </tr>\n",
       "    <tr>\n",
       "      <th>1</th>\n",
       "      <td>2</td>\n",
       "      <td>7</td>\n",
       "      <td>12</td>\n",
       "    </tr>\n",
       "    <tr>\n",
       "      <th>2</th>\n",
       "      <td>3</td>\n",
       "      <td>8</td>\n",
       "      <td>13</td>\n",
       "    </tr>\n",
       "    <tr>\n",
       "      <th>3</th>\n",
       "      <td>4</td>\n",
       "      <td>9</td>\n",
       "      <td>14</td>\n",
       "    </tr>\n",
       "    <tr>\n",
       "      <th>4</th>\n",
       "      <td>5</td>\n",
       "      <td>10</td>\n",
       "      <td>15</td>\n",
       "    </tr>\n",
       "  </tbody>\n",
       "</table>\n",
       "</div>"
      ],
      "text/plain": [
       "   A   B   C\n",
       "0  1   6  11\n",
       "1  2   7  12\n",
       "2  3   8  13\n",
       "3  4   9  14\n",
       "4  5  10  15"
      ]
     },
     "execution_count": 5,
     "metadata": {},
     "output_type": "execute_result"
    }
   ],
   "source": [
    "df_data"
   ]
  },
  {
   "cell_type": "code",
   "execution_count": 9,
   "id": "23ff44dd-357e-4958-9307-46afaeae4062",
   "metadata": {
    "tags": []
   },
   "outputs": [],
   "source": [
    "df_data['sloupec_D'] = df_data['A'] + df_data['B'] * df_data['C']"
   ]
  },
  {
   "cell_type": "code",
   "execution_count": 10,
   "id": "d2140566-fd55-4d2a-aa93-ea08b1817525",
   "metadata": {
    "tags": []
   },
   "outputs": [
    {
     "data": {
      "text/html": [
       "<div>\n",
       "<style scoped>\n",
       "    .dataframe tbody tr th:only-of-type {\n",
       "        vertical-align: middle;\n",
       "    }\n",
       "\n",
       "    .dataframe tbody tr th {\n",
       "        vertical-align: top;\n",
       "    }\n",
       "\n",
       "    .dataframe thead th {\n",
       "        text-align: right;\n",
       "    }\n",
       "</style>\n",
       "<table border=\"1\" class=\"dataframe\">\n",
       "  <thead>\n",
       "    <tr style=\"text-align: right;\">\n",
       "      <th></th>\n",
       "      <th>A</th>\n",
       "      <th>B</th>\n",
       "      <th>C</th>\n",
       "      <th>sloupec_D</th>\n",
       "    </tr>\n",
       "  </thead>\n",
       "  <tbody>\n",
       "    <tr>\n",
       "      <th>0</th>\n",
       "      <td>1</td>\n",
       "      <td>6</td>\n",
       "      <td>11</td>\n",
       "      <td>67</td>\n",
       "    </tr>\n",
       "    <tr>\n",
       "      <th>1</th>\n",
       "      <td>2</td>\n",
       "      <td>7</td>\n",
       "      <td>12</td>\n",
       "      <td>86</td>\n",
       "    </tr>\n",
       "    <tr>\n",
       "      <th>2</th>\n",
       "      <td>3</td>\n",
       "      <td>8</td>\n",
       "      <td>13</td>\n",
       "      <td>107</td>\n",
       "    </tr>\n",
       "    <tr>\n",
       "      <th>3</th>\n",
       "      <td>4</td>\n",
       "      <td>9</td>\n",
       "      <td>14</td>\n",
       "      <td>130</td>\n",
       "    </tr>\n",
       "    <tr>\n",
       "      <th>4</th>\n",
       "      <td>5</td>\n",
       "      <td>10</td>\n",
       "      <td>15</td>\n",
       "      <td>155</td>\n",
       "    </tr>\n",
       "  </tbody>\n",
       "</table>\n",
       "</div>"
      ],
      "text/plain": [
       "   A   B   C  sloupec_D\n",
       "0  1   6  11         67\n",
       "1  2   7  12         86\n",
       "2  3   8  13        107\n",
       "3  4   9  14        130\n",
       "4  5  10  15        155"
      ]
     },
     "execution_count": 10,
     "metadata": {},
     "output_type": "execute_result"
    }
   ],
   "source": [
    "df_data"
   ]
  },
  {
   "cell_type": "markdown",
   "id": "087090cc-830f-4242-ba79-16da33451c80",
   "metadata": {},
   "source": [
    "<br>\n",
    "\n",
    "*Alternativní způsob*, jak provést stejný výpočet, pokud máš dlouhou tabulku nebo sloupeček, je použití funkce `eval`:"
   ]
  },
  {
   "cell_type": "code",
   "execution_count": 11,
   "id": "3389fe17-6208-46c6-a81e-d675d16739ca",
   "metadata": {
    "tags": []
   },
   "outputs": [],
   "source": [
    "df_data['sloupecek_D'] = df_data.eval('A + B * C')"
   ]
  },
  {
   "cell_type": "markdown",
   "id": "14009a70-52e0-4a0f-b725-bf73255b643f",
   "metadata": {},
   "source": [
    "<br>\n",
    "\n",
    "Funkce `eval` zpracovává zadaný `str` podobně jako built-in funkce `eval`."
   ]
  },
  {
   "cell_type": "code",
   "execution_count": 12,
   "id": "b09bfdd7-397d-49e6-af5e-4eff35f552b5",
   "metadata": {
    "tags": []
   },
   "outputs": [
    {
     "data": {
      "text/html": [
       "<div>\n",
       "<style scoped>\n",
       "    .dataframe tbody tr th:only-of-type {\n",
       "        vertical-align: middle;\n",
       "    }\n",
       "\n",
       "    .dataframe tbody tr th {\n",
       "        vertical-align: top;\n",
       "    }\n",
       "\n",
       "    .dataframe thead th {\n",
       "        text-align: right;\n",
       "    }\n",
       "</style>\n",
       "<table border=\"1\" class=\"dataframe\">\n",
       "  <thead>\n",
       "    <tr style=\"text-align: right;\">\n",
       "      <th></th>\n",
       "      <th>A</th>\n",
       "      <th>B</th>\n",
       "      <th>C</th>\n",
       "      <th>sloupec_D</th>\n",
       "      <th>sloupecek_D</th>\n",
       "    </tr>\n",
       "  </thead>\n",
       "  <tbody>\n",
       "    <tr>\n",
       "      <th>0</th>\n",
       "      <td>1</td>\n",
       "      <td>6</td>\n",
       "      <td>11</td>\n",
       "      <td>67</td>\n",
       "      <td>67</td>\n",
       "    </tr>\n",
       "    <tr>\n",
       "      <th>1</th>\n",
       "      <td>2</td>\n",
       "      <td>7</td>\n",
       "      <td>12</td>\n",
       "      <td>86</td>\n",
       "      <td>86</td>\n",
       "    </tr>\n",
       "    <tr>\n",
       "      <th>2</th>\n",
       "      <td>3</td>\n",
       "      <td>8</td>\n",
       "      <td>13</td>\n",
       "      <td>107</td>\n",
       "      <td>107</td>\n",
       "    </tr>\n",
       "    <tr>\n",
       "      <th>3</th>\n",
       "      <td>4</td>\n",
       "      <td>9</td>\n",
       "      <td>14</td>\n",
       "      <td>130</td>\n",
       "      <td>130</td>\n",
       "    </tr>\n",
       "    <tr>\n",
       "      <th>4</th>\n",
       "      <td>5</td>\n",
       "      <td>10</td>\n",
       "      <td>15</td>\n",
       "      <td>155</td>\n",
       "      <td>155</td>\n",
       "    </tr>\n",
       "  </tbody>\n",
       "</table>\n",
       "</div>"
      ],
      "text/plain": [
       "   A   B   C  sloupec_D  sloupecek_D\n",
       "0  1   6  11         67           67\n",
       "1  2   7  12         86           86\n",
       "2  3   8  13        107          107\n",
       "3  4   9  14        130          130\n",
       "4  5  10  15        155          155"
      ]
     },
     "execution_count": 12,
     "metadata": {},
     "output_type": "execute_result"
    }
   ],
   "source": [
    "df_data"
   ]
  },
  {
   "cell_type": "markdown",
   "id": "6c56106d-2764-4d80-acd2-89c4afe3da9d",
   "metadata": {},
   "source": [
    "Souhrnně lze říci:\n",
    "* funkci `eval` použij tehdy, pokud je dataset dlouhý,\n",
    "* ve všech ostatních scénářích, kde nepotřebuješ šetřit pamět a čas použij klasickou syntaxi."
   ]
  },
  {
   "cell_type": "markdown",
   "id": "dc7f5114-6a19-48d8-98ef-0b3cdc838061",
   "metadata": {},
   "source": [
    "### Výkon EVAL\n",
    "\n",
    "---"
   ]
  },
  {
   "cell_type": "code",
   "execution_count": 22,
   "id": "b36e8d82-f756-4042-9cd6-e39115037a15",
   "metadata": {
    "tags": []
   },
   "outputs": [],
   "source": [
    "import numpy as np\n",
    "import pandas as pd"
   ]
  },
  {
   "cell_type": "code",
   "execution_count": 14,
   "id": "dbe788f7-03e3-4451-9fb8-c7ad9e82fb2d",
   "metadata": {
    "tags": []
   },
   "outputs": [],
   "source": [
    "pocet_radku, pocet_sloupcu = 100_000, 100"
   ]
  },
  {
   "cell_type": "code",
   "execution_count": 15,
   "id": "2586300c-9e13-47fe-adfa-dd1ce2552df6",
   "metadata": {
    "tags": []
   },
   "outputs": [],
   "source": [
    "rng = np.random.RandomState(42)"
   ]
  },
  {
   "cell_type": "code",
   "execution_count": 29,
   "id": "5a15dd54-cca5-443d-b781-3311c4d000cb",
   "metadata": {
    "tags": []
   },
   "outputs": [],
   "source": [
    "dframe_1, dframe_2, dframe_3, dframe_4 = [DataFrame(rng.rand(pocet_radku, pocet_sloupcu)) for _ in range(4)]"
   ]
  },
  {
   "cell_type": "code",
   "execution_count": 30,
   "id": "b8416058-ad47-4cf0-a59e-22870bf30fc9",
   "metadata": {
    "tags": []
   },
   "outputs": [
    {
     "name": "stdout",
     "output_type": "stream",
     "text": [
      "523 ms ± 69.4 ms per loop (mean ± std. dev. of 7 runs, 1 loop each)\n"
     ]
    }
   ],
   "source": [
    "%timeit dframe_1 + dframe_2 + dframe_3 + dframe_4"
   ]
  },
  {
   "cell_type": "code",
   "execution_count": 31,
   "id": "805bdc56-d6fc-45cf-b45c-15d878a0695d",
   "metadata": {
    "tags": []
   },
   "outputs": [
    {
     "name": "stdout",
     "output_type": "stream",
     "text": [
      "354 ms ± 64.8 ms per loop (mean ± std. dev. of 7 runs, 1 loop each)\n"
     ]
    }
   ],
   "source": [
    "%timeit pd.eval(\"dframe_1 + dframe_2 + dframe_3 + dframe_4\")"
   ]
  },
  {
   "cell_type": "markdown",
   "id": "562a5002-5abc-4a0a-9e8b-331b6dc1605d",
   "metadata": {},
   "source": [
    "<br>\n",
    "\n",
    "### Funkce QUERY\n",
    "\n",
    "---"
   ]
  },
  {
   "cell_type": "markdown",
   "id": "a104c705-e309-4354-a682-a84c2c118ddd",
   "metadata": {},
   "source": [
    "Funkce `query` slouží k efektivnímu **filtrování řádků**.\n",
    "\n",
    "Filtrování probíhá na základě **zadané podmínky**.\n",
    "\n",
    "\n",
    "Hlavní výhodou jsou:\n",
    "* **snadná čitelnost**, umožňuje zapisovat podmínky ve snadno čitelné formě, zejména v případě složitějších dotazů,\n",
    "* **rychlost**, může být rychlejší než tradiční metody filtrování,(zejména pro velké datové sady)."
   ]
  },
  {
   "cell_type": "markdown",
   "id": "786cabe4-6b4f-446f-af9c-871eac9a3c96",
   "metadata": {},
   "source": [
    "### Ukázka QUERY\n",
    "\n",
    "---"
   ]
  },
  {
   "cell_type": "markdown",
   "id": "300cc00e-5148-4de1-a554-d7628bb9296f",
   "metadata": {},
   "source": [
    "Pro zadaný *dummy dataset* vyfiltruj takové záznamy, kde:\n",
    "1. Hodnoty ze sloupce A budou **menší než 4**,\n",
    "2. hodnoty ze sloupce B budou **větší než 6**,\n",
    "3. hodnoty ze sloupce C budou **větší než 11**."
   ]
  },
  {
   "cell_type": "code",
   "execution_count": 32,
   "id": "74f8f26f-2c4a-4080-943b-e4c28472d56e",
   "metadata": {
    "tags": []
   },
   "outputs": [],
   "source": [
    "data = {'A': [1, 2, 3, 4, 5],\n",
    "        'B': [6, 7, 8, 9, 10],\n",
    "        'C': [11, 12, 13, 14, 15]}"
   ]
  },
  {
   "cell_type": "code",
   "execution_count": 33,
   "id": "7ac69b33-e176-4189-a0a7-31570aa8295d",
   "metadata": {
    "tags": []
   },
   "outputs": [],
   "source": [
    "df_data = DataFrame(data)"
   ]
  },
  {
   "cell_type": "code",
   "execution_count": 34,
   "id": "665540a6-fd89-4ce5-84f3-0ae995b1a776",
   "metadata": {
    "tags": []
   },
   "outputs": [
    {
     "data": {
      "text/html": [
       "<div>\n",
       "<style scoped>\n",
       "    .dataframe tbody tr th:only-of-type {\n",
       "        vertical-align: middle;\n",
       "    }\n",
       "\n",
       "    .dataframe tbody tr th {\n",
       "        vertical-align: top;\n",
       "    }\n",
       "\n",
       "    .dataframe thead th {\n",
       "        text-align: right;\n",
       "    }\n",
       "</style>\n",
       "<table border=\"1\" class=\"dataframe\">\n",
       "  <thead>\n",
       "    <tr style=\"text-align: right;\">\n",
       "      <th></th>\n",
       "      <th>A</th>\n",
       "      <th>B</th>\n",
       "      <th>C</th>\n",
       "    </tr>\n",
       "  </thead>\n",
       "  <tbody>\n",
       "    <tr>\n",
       "      <th>0</th>\n",
       "      <td>1</td>\n",
       "      <td>6</td>\n",
       "      <td>11</td>\n",
       "    </tr>\n",
       "    <tr>\n",
       "      <th>1</th>\n",
       "      <td>2</td>\n",
       "      <td>7</td>\n",
       "      <td>12</td>\n",
       "    </tr>\n",
       "    <tr>\n",
       "      <th>2</th>\n",
       "      <td>3</td>\n",
       "      <td>8</td>\n",
       "      <td>13</td>\n",
       "    </tr>\n",
       "    <tr>\n",
       "      <th>3</th>\n",
       "      <td>4</td>\n",
       "      <td>9</td>\n",
       "      <td>14</td>\n",
       "    </tr>\n",
       "    <tr>\n",
       "      <th>4</th>\n",
       "      <td>5</td>\n",
       "      <td>10</td>\n",
       "      <td>15</td>\n",
       "    </tr>\n",
       "  </tbody>\n",
       "</table>\n",
       "</div>"
      ],
      "text/plain": [
       "   A   B   C\n",
       "0  1   6  11\n",
       "1  2   7  12\n",
       "2  3   8  13\n",
       "3  4   9  14\n",
       "4  5  10  15"
      ]
     },
     "execution_count": 34,
     "metadata": {},
     "output_type": "execute_result"
    }
   ],
   "source": [
    "df_data"
   ]
  },
  {
   "cell_type": "code",
   "execution_count": 39,
   "id": "2e217495-afd6-4864-898a-6950048d5aa7",
   "metadata": {},
   "outputs": [],
   "source": [
    "df_filtrovane = df_data[(df_data['A'] < 4) & (df_data['B'] > 6) & (df_data['C'] > 11)]"
   ]
  },
  {
   "cell_type": "code",
   "execution_count": 40,
   "id": "25c2242d-6826-4861-94e2-3c9b990cd831",
   "metadata": {
    "tags": []
   },
   "outputs": [
    {
     "data": {
      "text/html": [
       "<div>\n",
       "<style scoped>\n",
       "    .dataframe tbody tr th:only-of-type {\n",
       "        vertical-align: middle;\n",
       "    }\n",
       "\n",
       "    .dataframe tbody tr th {\n",
       "        vertical-align: top;\n",
       "    }\n",
       "\n",
       "    .dataframe thead th {\n",
       "        text-align: right;\n",
       "    }\n",
       "</style>\n",
       "<table border=\"1\" class=\"dataframe\">\n",
       "  <thead>\n",
       "    <tr style=\"text-align: right;\">\n",
       "      <th></th>\n",
       "      <th>A</th>\n",
       "      <th>B</th>\n",
       "      <th>C</th>\n",
       "    </tr>\n",
       "  </thead>\n",
       "  <tbody>\n",
       "    <tr>\n",
       "      <th>1</th>\n",
       "      <td>2</td>\n",
       "      <td>7</td>\n",
       "      <td>12</td>\n",
       "    </tr>\n",
       "    <tr>\n",
       "      <th>2</th>\n",
       "      <td>3</td>\n",
       "      <td>8</td>\n",
       "      <td>13</td>\n",
       "    </tr>\n",
       "  </tbody>\n",
       "</table>\n",
       "</div>"
      ],
      "text/plain": [
       "   A  B   C\n",
       "1  2  7  12\n",
       "2  3  8  13"
      ]
     },
     "execution_count": 40,
     "metadata": {},
     "output_type": "execute_result"
    }
   ],
   "source": [
    "df_filtrovane"
   ]
  },
  {
   "cell_type": "markdown",
   "id": "95277402-2c4d-4535-978e-1a1caa76264b",
   "metadata": {},
   "source": [
    "Zapisování pomocí *boolean indexování* je ovšem náročné jak pro zápis, tak pro čtení.\n",
    "\n",
    "<br>\n",
    "\n",
    "Pomocí funkce `query`:"
   ]
  },
  {
   "cell_type": "code",
   "execution_count": 37,
   "id": "24a8ea27-ba15-404c-b85f-578de7053f0f",
   "metadata": {},
   "outputs": [],
   "source": [
    "df_filtrovane = df_data.query('A < 4 and B > 6 and C > 11')"
   ]
  },
  {
   "cell_type": "code",
   "execution_count": 38,
   "id": "5ff9e717-f412-40ab-bbeb-ddd61867346b",
   "metadata": {},
   "outputs": [
    {
     "data": {
      "text/html": [
       "<div>\n",
       "<style scoped>\n",
       "    .dataframe tbody tr th:only-of-type {\n",
       "        vertical-align: middle;\n",
       "    }\n",
       "\n",
       "    .dataframe tbody tr th {\n",
       "        vertical-align: top;\n",
       "    }\n",
       "\n",
       "    .dataframe thead th {\n",
       "        text-align: right;\n",
       "    }\n",
       "</style>\n",
       "<table border=\"1\" class=\"dataframe\">\n",
       "  <thead>\n",
       "    <tr style=\"text-align: right;\">\n",
       "      <th></th>\n",
       "      <th>A</th>\n",
       "      <th>B</th>\n",
       "      <th>C</th>\n",
       "    </tr>\n",
       "  </thead>\n",
       "  <tbody>\n",
       "    <tr>\n",
       "      <th>1</th>\n",
       "      <td>2</td>\n",
       "      <td>7</td>\n",
       "      <td>12</td>\n",
       "    </tr>\n",
       "    <tr>\n",
       "      <th>2</th>\n",
       "      <td>3</td>\n",
       "      <td>8</td>\n",
       "      <td>13</td>\n",
       "    </tr>\n",
       "  </tbody>\n",
       "</table>\n",
       "</div>"
      ],
      "text/plain": [
       "   A  B   C\n",
       "1  2  7  12\n",
       "2  3  8  13"
      ]
     },
     "execution_count": 38,
     "metadata": {},
     "output_type": "execute_result"
    }
   ],
   "source": [
    "df_filtrovane"
   ]
  },
  {
   "cell_type": "markdown",
   "id": "ed10df8f-96a6-46f1-a01f-4db816624b5e",
   "metadata": {},
   "source": [
    "### Nedostatky QUERY\n",
    "\n",
    "---"
   ]
  },
  {
   "cell_type": "markdown",
   "id": "ad98dafc-10ff-43a7-8bee-8d0a7956db24",
   "metadata": {},
   "source": [
    "1. **Omezená syntaxe**, má omezenější syntaxi ve srovnání s běžným zápisem v Pythonu a nemusí podporovat všechny operace,\n",
    "2. **Názvy sloupců**, pokud názvy sloupců obsahují **mezery nebo znaky**, které nejsou platnými identifikátory Pythonu, musíš je uvést v závorkách a použít symbol `@` pro reference na proměnné mimo `DataFrame`."
   ]
  },
  {
   "cell_type": "code",
   "execution_count": 47,
   "id": "7bb5941b-16b3-41f6-a94e-07d7c2fa9005",
   "metadata": {
    "tags": []
   },
   "outputs": [],
   "source": [
    "df_cisla = pd.DataFrame({'Sloupec 1': [1, 2, 3, 4, 5], 'Sloupec 2': [10, 20, 30, 40, 50]})"
   ]
  },
  {
   "cell_type": "code",
   "execution_count": 48,
   "id": "69de5f13-3824-4ba5-8dd1-3785ad4bfd31",
   "metadata": {
    "tags": []
   },
   "outputs": [
    {
     "ename": "SyntaxError",
     "evalue": "invalid syntax (<unknown>, line 1)",
     "output_type": "error",
     "traceback": [
      "Traceback \u001b[0;36m(most recent call last)\u001b[0m:\n",
      "\u001b[0m  File \u001b[1;32m~/projects/data-csob-2023/shared/onsite/env/lib/python3.8/site-packages/IPython/core/interactiveshell.py:3460\u001b[0m in \u001b[1;35mrun_code\u001b[0m\n    exec(code_obj, self.user_global_ns, self.user_ns)\u001b[0m\n",
      "\u001b[0m  Cell \u001b[1;32mIn[48], line 1\u001b[0m\n    vystup = df_cisla.query('Sloupec 1 < 3')\u001b[0m\n",
      "\u001b[0m  File \u001b[1;32m~/projects/data-csob-2023/shared/onsite/env/lib/python3.8/site-packages/pandas/util/_decorators.py:331\u001b[0m in \u001b[1;35mwrapper\u001b[0m\n    return func(*args, **kwargs)\u001b[0m\n",
      "\u001b[0m  File \u001b[1;32m~/projects/data-csob-2023/shared/onsite/env/lib/python3.8/site-packages/pandas/core/frame.py:4474\u001b[0m in \u001b[1;35mquery\u001b[0m\n    res = self.eval(expr, **kwargs)\u001b[0m\n",
      "\u001b[0m  File \u001b[1;32m~/projects/data-csob-2023/shared/onsite/env/lib/python3.8/site-packages/pandas/util/_decorators.py:331\u001b[0m in \u001b[1;35mwrapper\u001b[0m\n    return func(*args, **kwargs)\u001b[0m\n",
      "\u001b[0m  File \u001b[1;32m~/projects/data-csob-2023/shared/onsite/env/lib/python3.8/site-packages/pandas/core/frame.py:4612\u001b[0m in \u001b[1;35meval\u001b[0m\n    return _eval(expr, inplace=inplace, **kwargs)\u001b[0m\n",
      "\u001b[0m  File \u001b[1;32m~/projects/data-csob-2023/shared/onsite/env/lib/python3.8/site-packages/pandas/core/computation/eval.py:353\u001b[0m in \u001b[1;35meval\u001b[0m\n    parsed_expr = Expr(expr, engine=engine, parser=parser, env=env)\u001b[0m\n",
      "\u001b[0m  File \u001b[1;32m~/projects/data-csob-2023/shared/onsite/env/lib/python3.8/site-packages/pandas/core/computation/expr.py:813\u001b[0m in \u001b[1;35m__init__\u001b[0m\n    self.terms = self.parse()\u001b[0m\n",
      "\u001b[0m  File \u001b[1;32m~/projects/data-csob-2023/shared/onsite/env/lib/python3.8/site-packages/pandas/core/computation/expr.py:832\u001b[0m in \u001b[1;35mparse\u001b[0m\n    return self._visitor.visit(self.expr)\u001b[0m\n",
      "\u001b[0m  File \u001b[1;32m~/projects/data-csob-2023/shared/onsite/env/lib/python3.8/site-packages/pandas/core/computation/expr.py:411\u001b[0m in \u001b[1;35mvisit\u001b[0m\n    raise e\u001b[0m\n",
      "\u001b[0m  File \u001b[1;32m~/projects/data-csob-2023/shared/onsite/env/lib/python3.8/site-packages/pandas/core/computation/expr.py:407\u001b[0m in \u001b[1;35mvisit\u001b[0m\n    node = ast.fix_missing_locations(ast.parse(clean))\u001b[0m\n",
      "\u001b[0;36m  File \u001b[0;32m/usr/lib/python3.8/ast.py:47\u001b[0;36m in \u001b[0;35mparse\u001b[0;36m\n\u001b[0;31m    return compile(source, filename, mode, flags,\u001b[0;36m\n",
      "\u001b[0;36m  File \u001b[0;32m<unknown>:1\u001b[0;36m\u001b[0m\n\u001b[0;31m    Sloupec 1 <3\u001b[0m\n\u001b[0m            ^\u001b[0m\n\u001b[0;31mSyntaxError\u001b[0m\u001b[0;31m:\u001b[0m invalid syntax\n"
     ]
    }
   ],
   "source": [
    "vystup_1 = df_cisla.query('Sloupec 1 < 3')"
   ]
  },
  {
   "cell_type": "code",
   "execution_count": 49,
   "id": "217e64c3-1c1e-48de-88aa-da71a5b449eb",
   "metadata": {
    "tags": []
   },
   "outputs": [],
   "source": [
    "vystup_2 = df_cisla.query('`Sloupec 1` < 3')"
   ]
  },
  {
   "cell_type": "code",
   "execution_count": 50,
   "id": "6073044d-fdb9-4d90-8cb2-7a16f800d2fc",
   "metadata": {
    "tags": []
   },
   "outputs": [
    {
     "data": {
      "text/html": [
       "<div>\n",
       "<style scoped>\n",
       "    .dataframe tbody tr th:only-of-type {\n",
       "        vertical-align: middle;\n",
       "    }\n",
       "\n",
       "    .dataframe tbody tr th {\n",
       "        vertical-align: top;\n",
       "    }\n",
       "\n",
       "    .dataframe thead th {\n",
       "        text-align: right;\n",
       "    }\n",
       "</style>\n",
       "<table border=\"1\" class=\"dataframe\">\n",
       "  <thead>\n",
       "    <tr style=\"text-align: right;\">\n",
       "      <th></th>\n",
       "      <th>Sloupec 1</th>\n",
       "      <th>Sloupec 2</th>\n",
       "    </tr>\n",
       "  </thead>\n",
       "  <tbody>\n",
       "    <tr>\n",
       "      <th>0</th>\n",
       "      <td>1</td>\n",
       "      <td>10</td>\n",
       "    </tr>\n",
       "    <tr>\n",
       "      <th>1</th>\n",
       "      <td>2</td>\n",
       "      <td>20</td>\n",
       "    </tr>\n",
       "  </tbody>\n",
       "</table>\n",
       "</div>"
      ],
      "text/plain": [
       "   Sloupec 1  Sloupec 2\n",
       "0          1         10\n",
       "1          2         20"
      ]
     },
     "execution_count": 50,
     "metadata": {},
     "output_type": "execute_result"
    }
   ],
   "source": [
    "vystup_2"
   ]
  },
  {
   "cell_type": "markdown",
   "id": "e4da62df-091e-4eb8-af04-3c0642c69f51",
   "metadata": {},
   "source": [
    "### Souhrn k EVAL a QUERY\n",
    "\n",
    "---\n",
    "\n",
    "Hlavním účelem těchto funkcí je aplikace na skutečně **velké datové sety**.\n",
    "\n",
    "Rozdíly u drobnějších datasetů **jsou často minimální**.\n",
    "\n",
    "Velký vliv na výstupný čas dělá parametr `engine`, který se snaží pracovat s knihovnou `numexpr`."
   ]
  },
  {
   "cell_type": "markdown",
   "id": "b4f97e9e-2ca1-4d5e-aa07-2242e78e2190",
   "metadata": {},
   "source": [
    "<br>\n",
    "\n",
    "**🧠 CVIČENÍ 🧠, procvič si funkce EVAL a QUERY**"
   ]
  },
  {
   "cell_type": "markdown",
   "id": "3cc63470-fdd1-4f76-bc2f-619f537096fb",
   "metadata": {},
   "source": [
    "Analyzuj prodeje produktu ve fiktivní společnosti během jednoho roku a zjisti následující:\n",
    "1. Vyber studenty s věkem **mezi 20 a 22 lety (včetně)** a email, který obsahuje string **gmail.com**,\n",
    "2. vypočtěte *BMI* (Body Mass Index) pro každého studenta a přidejte ho do nového sloupce (vzorec: *váha[kg] / (výška[m] * výška[m])*)\n",
    "3. vyberte studenty s BMI vyšším než 22 a kteří pochází z měst Brno a Praha."
   ]
  },
  {
   "cell_type": "code",
   "execution_count": 88,
   "id": "49d40e58-8ec6-4d66-91b7-b2367b17d447",
   "metadata": {
    "tags": []
   },
   "outputs": [],
   "source": [
    "uzivatele = {\n",
    "    'Name': ['Alice', 'Bob', 'Charlie', 'David', 'Eve'],\n",
    "    'Age': [19, 20, 21, 22, 23],\n",
    "    'Height_cm': [160, 170, 175, 180, 165],\n",
    "    'Weight_kg': [50, 65, 70, 80, 55],\n",
    "    'Email': [\"alice@gmail.com\", \"bob@tech-users.com\", \"charlie91@mail.com\", \"david_bB@gmail.com\", \"eevee@my_domain.net\"],\n",
    "    'Address': [\n",
    "        \"Vrbová 215/14, 602 00, Brno, Česká republika\",\n",
    "        \"Jilmová 862, 400 11, Ústí nad Labem, Česká republika\",\n",
    "        \"Kamenická 37/2, 170 00, Praha, Česká republika\",\n",
    "        \"Podlipná 1284/6, 460 01, Liberec, Česká republika\",\n",
    "        \"Havlíčkova 1703, 500 02, Hradec Králové, Česká republika\"\n",
    "    ]\n",
    "}"
   ]
  },
  {
   "cell_type": "code",
   "execution_count": 89,
   "id": "18acbd9b-92e3-4595-98a7-5c045fb6365d",
   "metadata": {
    "tags": []
   },
   "outputs": [],
   "source": [
    "df_uzivatele = DataFrame(uzivatele)"
   ]
  },
  {
   "cell_type": "code",
   "execution_count": 90,
   "id": "3be47443-ff71-47e3-a217-2913465f8981",
   "metadata": {
    "tags": []
   },
   "outputs": [
    {
     "data": {
      "text/html": [
       "<div>\n",
       "<style scoped>\n",
       "    .dataframe tbody tr th:only-of-type {\n",
       "        vertical-align: middle;\n",
       "    }\n",
       "\n",
       "    .dataframe tbody tr th {\n",
       "        vertical-align: top;\n",
       "    }\n",
       "\n",
       "    .dataframe thead th {\n",
       "        text-align: right;\n",
       "    }\n",
       "</style>\n",
       "<table border=\"1\" class=\"dataframe\">\n",
       "  <thead>\n",
       "    <tr style=\"text-align: right;\">\n",
       "      <th></th>\n",
       "      <th>Name</th>\n",
       "      <th>Age</th>\n",
       "      <th>Height_cm</th>\n",
       "      <th>Weight_kg</th>\n",
       "      <th>Email</th>\n",
       "      <th>Address</th>\n",
       "    </tr>\n",
       "  </thead>\n",
       "  <tbody>\n",
       "    <tr>\n",
       "      <th>0</th>\n",
       "      <td>Alice</td>\n",
       "      <td>19</td>\n",
       "      <td>160</td>\n",
       "      <td>50</td>\n",
       "      <td>alice@gmail.com</td>\n",
       "      <td>Vrbová 215/14, 602 00, Brno, Česká republika</td>\n",
       "    </tr>\n",
       "    <tr>\n",
       "      <th>1</th>\n",
       "      <td>Bob</td>\n",
       "      <td>20</td>\n",
       "      <td>170</td>\n",
       "      <td>65</td>\n",
       "      <td>bob@tech-users.com</td>\n",
       "      <td>Jilmová 862, 400 11, Ústí nad Labem, Česká rep...</td>\n",
       "    </tr>\n",
       "    <tr>\n",
       "      <th>2</th>\n",
       "      <td>Charlie</td>\n",
       "      <td>21</td>\n",
       "      <td>175</td>\n",
       "      <td>70</td>\n",
       "      <td>charlie91@mail.com</td>\n",
       "      <td>Kamenická 37/2, 170 00, Praha, Česká republika</td>\n",
       "    </tr>\n",
       "    <tr>\n",
       "      <th>3</th>\n",
       "      <td>David</td>\n",
       "      <td>22</td>\n",
       "      <td>180</td>\n",
       "      <td>80</td>\n",
       "      <td>david_bB@gmail.com</td>\n",
       "      <td>Podlipná 1284/6, 460 01, Liberec, Česká republika</td>\n",
       "    </tr>\n",
       "    <tr>\n",
       "      <th>4</th>\n",
       "      <td>Eve</td>\n",
       "      <td>23</td>\n",
       "      <td>165</td>\n",
       "      <td>55</td>\n",
       "      <td>eevee@my_domain.net</td>\n",
       "      <td>Havlíčkova 1703, 500 02, Hradec Králové, Česká...</td>\n",
       "    </tr>\n",
       "  </tbody>\n",
       "</table>\n",
       "</div>"
      ],
      "text/plain": [
       "      Name  Age  Height_cm  Weight_kg                Email  \\\n",
       "0    Alice   19        160         50      alice@gmail.com   \n",
       "1      Bob   20        170         65   bob@tech-users.com   \n",
       "2  Charlie   21        175         70   charlie91@mail.com   \n",
       "3    David   22        180         80   david_bB@gmail.com   \n",
       "4      Eve   23        165         55  eevee@my_domain.net   \n",
       "\n",
       "                                             Address  \n",
       "0       Vrbová 215/14, 602 00, Brno, Česká republika  \n",
       "1  Jilmová 862, 400 11, Ústí nad Labem, Česká rep...  \n",
       "2     Kamenická 37/2, 170 00, Praha, Česká republika  \n",
       "3  Podlipná 1284/6, 460 01, Liberec, Česká republika  \n",
       "4  Havlíčkova 1703, 500 02, Hradec Králové, Česká...  "
      ]
     },
     "execution_count": 90,
     "metadata": {},
     "output_type": "execute_result"
    }
   ],
   "source": [
    "df_uzivatele"
   ]
  },
  {
   "cell_type": "code",
   "execution_count": null,
   "id": "ddad9b4c-372d-4581-91f6-6726be98388b",
   "metadata": {},
   "outputs": [],
   "source": []
  },
  {
   "cell_type": "markdown",
   "id": "883af2ef-8237-4bd6-b65c-04d985ac4365",
   "metadata": {},
   "source": [
    "<details>\n",
    "    <summary>▶️ Řešení</summary>\n",
    "    \n",
    "    ```python\n",
    "    vyber_uzivatel = df_uzivatele.query(\"20 <= Age <= 22 and Email.str.contains('gmail.com')\")\n",
    "\n",
    "    df_uzivatele['Height_m'] = df_uzivatele.eval('Height_cm / 100')\n",
    "    df_uzivatele['BMI'] = df_uzivatele.eval('Weight_kg / (Height_m * Height_m)').round(1)\n",
    "    \n",
    "    df_prodeje['weekday'] = df_prodeje.index.weekday\n",
    "    average_weekday_sales = df_prodeje.groupby('weekday')['prodeje'].mean()\n",
    "    \n",
    "    df_uzivatele[\"City\"] = df_uzivatele[\"Address\"].apply(lambda x: x.split(\",\")[2])\n",
    "    students_with_high_bmi = df_uzivatele.query('BMI > 22 and City in [\"Brno\", \"Praha\"]')\n",
    "    ```\n",
    "</details>"
   ]
  },
  {
   "cell_type": "markdown",
   "id": "a802a9e5-d3ea-483b-acc3-124d3777758d",
   "metadata": {},
   "source": [
    "<br>\n",
    "\n",
    "## Chybějící hodnoty\n",
    "\n",
    "---\n",
    "\n",
    "<img src=\"https://external-content.duckduckgo.com/iu/?u=https%3A%2F%2Ftse1.mm.bing.net%2Fth%3Fid%3DOIP.JJu86kKRph1LHt5M7agODQHaHa%26pid%3DApi&f=1&ipt=5cfb9e9f7b451b3a4f7a3ebdc4eb99177d477f20f8145cd818cc4966143f8b2b&ipo=images\" width=\"160\" style=\"margin-left:auto; margin-right:auto\"/>"
   ]
  },
  {
   "cell_type": "markdown",
   "id": "7c1f9457-e0f1-449e-8039-cddf1d375009",
   "metadata": {},
   "source": [
    "Čištění dat je proces, který patří k samotné práci s daty.\n",
    "\n",
    "Spolu s některými souvisejícími úkony, patří mezi ty více frustrující.\n",
    "\n",
    "Nesmyslné datové typy, zkomolené časové údaje, nefungující transformace."
   ]
  },
  {
   "cell_type": "code",
   "execution_count": 116,
   "id": "a5f8d0b9-4b1f-44ed-9d41-6fe48d6143ab",
   "metadata": {
    "tags": []
   },
   "outputs": [],
   "source": [
    "df_uzivatele = DataFrame({\n",
    "    'Name': ['Alice', 'Bob', 'Charlie', 'David', 'Eve'],\n",
    "    'Age': [None, 20, None, 22, 23],\n",
    "    'Height_cm': [160, 170, 175, None, 165],\n",
    "    'Weight_kg': [50, 65, 70, 80, 55]\n",
    "})"
   ]
  },
  {
   "cell_type": "code",
   "execution_count": 117,
   "id": "0565bb2e-d698-469a-95ad-47dbdf14e11b",
   "metadata": {
    "tags": []
   },
   "outputs": [
    {
     "data": {
      "text/html": [
       "<div>\n",
       "<style scoped>\n",
       "    .dataframe tbody tr th:only-of-type {\n",
       "        vertical-align: middle;\n",
       "    }\n",
       "\n",
       "    .dataframe tbody tr th {\n",
       "        vertical-align: top;\n",
       "    }\n",
       "\n",
       "    .dataframe thead th {\n",
       "        text-align: right;\n",
       "    }\n",
       "</style>\n",
       "<table border=\"1\" class=\"dataframe\">\n",
       "  <thead>\n",
       "    <tr style=\"text-align: right;\">\n",
       "      <th></th>\n",
       "      <th>Name</th>\n",
       "      <th>Age</th>\n",
       "      <th>Height_cm</th>\n",
       "      <th>Weight_kg</th>\n",
       "    </tr>\n",
       "  </thead>\n",
       "  <tbody>\n",
       "    <tr>\n",
       "      <th>0</th>\n",
       "      <td>Alice</td>\n",
       "      <td>NaN</td>\n",
       "      <td>160.0</td>\n",
       "      <td>50</td>\n",
       "    </tr>\n",
       "    <tr>\n",
       "      <th>1</th>\n",
       "      <td>Bob</td>\n",
       "      <td>20.0</td>\n",
       "      <td>170.0</td>\n",
       "      <td>65</td>\n",
       "    </tr>\n",
       "    <tr>\n",
       "      <th>2</th>\n",
       "      <td>Charlie</td>\n",
       "      <td>NaN</td>\n",
       "      <td>175.0</td>\n",
       "      <td>70</td>\n",
       "    </tr>\n",
       "  </tbody>\n",
       "</table>\n",
       "</div>"
      ],
      "text/plain": [
       "      Name   Age  Height_cm  Weight_kg\n",
       "0    Alice   NaN      160.0         50\n",
       "1      Bob  20.0      170.0         65\n",
       "2  Charlie   NaN      175.0         70"
      ]
     },
     "execution_count": 117,
     "metadata": {},
     "output_type": "execute_result"
    }
   ],
   "source": [
    "df_uzivatele.head(3)"
   ]
  },
  {
   "cell_type": "markdown",
   "id": "e3bfc98e-ed69-48e9-8ae1-b6b77bf7cc60",
   "metadata": {},
   "source": [
    "Ihned po načtení je nejlepší data prozkoumat.\n",
    "\n",
    "Nejenom datové typy ale také mít povědomí **o chybějících hodnotách**:"
   ]
  },
  {
   "cell_type": "code",
   "execution_count": 107,
   "id": "0c3475a3-e337-47af-9342-d85422404618",
   "metadata": {
    "tags": []
   },
   "outputs": [
    {
     "name": "stdout",
     "output_type": "stream",
     "text": [
      "<class 'pandas.core.frame.DataFrame'>\n",
      "RangeIndex: 5 entries, 0 to 4\n",
      "Data columns (total 5 columns):\n",
      " #   Column     Non-Null Count  Dtype  \n",
      "---  ------     --------------  -----  \n",
      " 0   Name       5 non-null      object \n",
      " 1   Age        3 non-null      float64\n",
      " 2   Height_cm  4 non-null      float64\n",
      " 3   Weight_kg  5 non-null      int64  \n",
      " 4   Email      4 non-null      object \n",
      "dtypes: float64(2), int64(1), object(2)\n",
      "memory usage: 328.0+ bytes\n"
     ]
    }
   ],
   "source": [
    "df_uzivatele.info()"
   ]
  },
  {
   "cell_type": "markdown",
   "id": "53a318fa-9536-4ba7-80fd-18e208587ab0",
   "metadata": {},
   "source": [
    "<br>\n",
    "\n",
    "Pomocí metody `info` si uděláš aspoň povrchní přehled o hodnotách, datových typech a chybějících hodnotách.\n",
    "\n",
    "<br>\n",
    "\n",
    "### Kolik mi chybí údajů\n",
    "\n",
    "---"
   ]
  },
  {
   "cell_type": "markdown",
   "id": "90d32e53-380d-4614-b71e-abdcd6bcaaa9",
   "metadata": {},
   "source": [
    "Vždycky přistupuj k datům s mírnou skepsí.\n",
    "\n",
    "Otázkou potom není, *JESTLI* mi chybí data, ale *KOLIK* dat mi chybí **a kde**."
   ]
  },
  {
   "cell_type": "code",
   "execution_count": 108,
   "id": "c4d5d338-a870-4448-be2c-bd9e5a5a2286",
   "metadata": {
    "tags": []
   },
   "outputs": [],
   "source": [
    "chybejici_hodnoty = df_uzivatele.isnull()"
   ]
  },
  {
   "cell_type": "code",
   "execution_count": 109,
   "id": "ce82abad-5126-454d-a338-7219dbedf228",
   "metadata": {
    "tags": []
   },
   "outputs": [
    {
     "data": {
      "text/html": [
       "<div>\n",
       "<style scoped>\n",
       "    .dataframe tbody tr th:only-of-type {\n",
       "        vertical-align: middle;\n",
       "    }\n",
       "\n",
       "    .dataframe tbody tr th {\n",
       "        vertical-align: top;\n",
       "    }\n",
       "\n",
       "    .dataframe thead th {\n",
       "        text-align: right;\n",
       "    }\n",
       "</style>\n",
       "<table border=\"1\" class=\"dataframe\">\n",
       "  <thead>\n",
       "    <tr style=\"text-align: right;\">\n",
       "      <th></th>\n",
       "      <th>Name</th>\n",
       "      <th>Age</th>\n",
       "      <th>Height_cm</th>\n",
       "      <th>Weight_kg</th>\n",
       "      <th>Email</th>\n",
       "    </tr>\n",
       "  </thead>\n",
       "  <tbody>\n",
       "    <tr>\n",
       "      <th>0</th>\n",
       "      <td>False</td>\n",
       "      <td>True</td>\n",
       "      <td>False</td>\n",
       "      <td>False</td>\n",
       "      <td>False</td>\n",
       "    </tr>\n",
       "    <tr>\n",
       "      <th>1</th>\n",
       "      <td>False</td>\n",
       "      <td>False</td>\n",
       "      <td>False</td>\n",
       "      <td>False</td>\n",
       "      <td>False</td>\n",
       "    </tr>\n",
       "    <tr>\n",
       "      <th>2</th>\n",
       "      <td>False</td>\n",
       "      <td>True</td>\n",
       "      <td>False</td>\n",
       "      <td>False</td>\n",
       "      <td>False</td>\n",
       "    </tr>\n",
       "    <tr>\n",
       "      <th>3</th>\n",
       "      <td>False</td>\n",
       "      <td>False</td>\n",
       "      <td>True</td>\n",
       "      <td>False</td>\n",
       "      <td>False</td>\n",
       "    </tr>\n",
       "    <tr>\n",
       "      <th>4</th>\n",
       "      <td>False</td>\n",
       "      <td>False</td>\n",
       "      <td>False</td>\n",
       "      <td>False</td>\n",
       "      <td>True</td>\n",
       "    </tr>\n",
       "  </tbody>\n",
       "</table>\n",
       "</div>"
      ],
      "text/plain": [
       "    Name    Age  Height_cm  Weight_kg  Email\n",
       "0  False   True      False      False  False\n",
       "1  False  False      False      False  False\n",
       "2  False   True      False      False  False\n",
       "3  False  False       True      False  False\n",
       "4  False  False      False      False   True"
      ]
     },
     "execution_count": 109,
     "metadata": {},
     "output_type": "execute_result"
    }
   ],
   "source": [
    "chybejici_hodnoty"
   ]
  },
  {
   "cell_type": "markdown",
   "id": "190da638-5798-48e9-89ed-e15439c30b7a",
   "metadata": {
    "tags": []
   },
   "source": [
    "<br>\n",
    "\n",
    "Pomocí metody `isnull` nahradíš všechny chybějící hodnoty v tabulce/sloupcích pomocí `True`.\n",
    "\n",
    "Pokud nechybí, nahradí s `False`."
   ]
  },
  {
   "cell_type": "code",
   "execution_count": 110,
   "id": "1a6d3816-2841-4dbf-879d-5594375b2b5f",
   "metadata": {
    "tags": []
   },
   "outputs": [
    {
     "data": {
      "text/plain": [
       "pandas.core.frame.DataFrame"
      ]
     },
     "execution_count": 110,
     "metadata": {},
     "output_type": "execute_result"
    }
   ],
   "source": [
    "type(chybejici_hodnoty)"
   ]
  },
  {
   "cell_type": "markdown",
   "id": "bd33aab4-de7f-42ff-81cd-17e0324a6f46",
   "metadata": {},
   "source": [
    "Takový výstup ale není zcela reprezentativní.\n",
    "\n",
    "Proto je potřeba, sečíst všechny `True` hodnoty po sloupcích:"
   ]
  },
  {
   "cell_type": "code",
   "execution_count": 112,
   "id": "601d3405-3f01-4b0e-aa90-ffd579cc3745",
   "metadata": {
    "tags": []
   },
   "outputs": [],
   "source": [
    "chybejici_hodnoty = df_uzivatele.isnull().sum()"
   ]
  },
  {
   "cell_type": "code",
   "execution_count": 113,
   "id": "ada2364d-c759-4f92-a726-769ed75cb32b",
   "metadata": {
    "tags": []
   },
   "outputs": [
    {
     "data": {
      "text/plain": [
       "Name         0\n",
       "Age          2\n",
       "Height_cm    1\n",
       "Weight_kg    0\n",
       "Email        1\n",
       "dtype: int64"
      ]
     },
     "execution_count": 113,
     "metadata": {},
     "output_type": "execute_result"
    }
   ],
   "source": [
    "chybejici_hodnoty"
   ]
  },
  {
   "cell_type": "markdown",
   "id": "27fd0e3f-3d9d-4c84-ad13-555a3007d95d",
   "metadata": {},
   "source": [
    "<br>\n",
    "\n",
    "Opět v jednotkách to nemusí zcela prozrazovat chybovost.\n",
    "\n",
    "Nejlepším indikátorem ale bývají procenta z celkového množství hodnot ve sloupci:"
   ]
  },
  {
   "cell_type": "code",
   "execution_count": 122,
   "id": "bcf80d2c-a855-47b0-a0e7-2c33c2f04132",
   "metadata": {
    "tags": []
   },
   "outputs": [],
   "source": [
    "celkem_zaznamu = df_uzivatele.shape[0]  # 0 ... Indexy, 1 ... sloupce"
   ]
  },
  {
   "cell_type": "code",
   "execution_count": 123,
   "id": "32895f74-6da5-4ff5-98f4-ee5d3d0b6302",
   "metadata": {
    "tags": []
   },
   "outputs": [],
   "source": [
    "celkem_chybi = chybejici_hodnoty"
   ]
  },
  {
   "cell_type": "code",
   "execution_count": 124,
   "id": "c3bebb42-02fe-46d7-8548-fe2ccac030d3",
   "metadata": {
    "tags": []
   },
   "outputs": [],
   "source": [
    "v_procentech = round(celkem_chybi / celkem_zaznamu * 100, 1)"
   ]
  },
  {
   "cell_type": "code",
   "execution_count": 125,
   "id": "67f9c86d-317c-49d9-95bd-e14f69c9541e",
   "metadata": {
    "tags": []
   },
   "outputs": [
    {
     "data": {
      "text/plain": [
       "Name          0.0\n",
       "Age          40.0\n",
       "Height_cm    20.0\n",
       "Weight_kg     0.0\n",
       "Email        20.0\n",
       "dtype: float64"
      ]
     },
     "execution_count": 125,
     "metadata": {},
     "output_type": "execute_result"
    }
   ],
   "source": [
    "v_procentech"
   ]
  },
  {
   "cell_type": "markdown",
   "id": "fd4f20a8-15cd-419c-93f8-d36c682c99a5",
   "metadata": {},
   "source": [
    "<br>\n",
    "\n",
    "případně celkové množství záznamů ve všech sloupcích:"
   ]
  },
  {
   "cell_type": "code",
   "execution_count": 126,
   "id": "18d55c4a-96dd-47ee-be53-2adf575c0a94",
   "metadata": {
    "tags": []
   },
   "outputs": [],
   "source": [
    "vsechny_bunky = df_uzivatele.shape[0] * df_uzivatele.shape[1]  # 5 * 4"
   ]
  },
  {
   "cell_type": "code",
   "execution_count": 127,
   "id": "af159bf5-4cd4-46df-a217-33df9b747722",
   "metadata": {
    "tags": []
   },
   "outputs": [],
   "source": [
    "vsechny_chybejici_hodnoty = chybejici_hodnoty.sum()            # 4"
   ]
  },
  {
   "cell_type": "code",
   "execution_count": 128,
   "id": "0f685a6e-356b-4920-b777-cb1c58a09685",
   "metadata": {
    "tags": []
   },
   "outputs": [],
   "source": [
    "celkem_v_procentech = round(vsechny_chybejici_hodnoty / vsechny_bunky * 100, 1)"
   ]
  },
  {
   "cell_type": "code",
   "execution_count": 129,
   "id": "15dc8401-e04c-4957-8cdf-1bcbaed265ed",
   "metadata": {
    "tags": []
   },
   "outputs": [
    {
     "data": {
      "text/plain": [
       "20.0"
      ]
     },
     "execution_count": 129,
     "metadata": {},
     "output_type": "execute_result"
    }
   ],
   "source": [
    "celkem_v_procentech"
   ]
  },
  {
   "cell_type": "markdown",
   "id": "bfbdfaa1-e163-44d3-9912-a76f48011291",
   "metadata": {},
   "source": [
    "<br>\n",
    "\n",
    "V této ukázce tedy chybí 20 % dat a to není málo!"
   ]
  },
  {
   "cell_type": "markdown",
   "id": "094ded0c-63bf-4198-8869-0341be3a9faa",
   "metadata": {},
   "source": [
    "<br>\n",
    "\n",
    "### Co s chybějícími hodnotami\n",
    "\n",
    "---"
   ]
  },
  {
   "cell_type": "markdown",
   "id": "25830900-8a89-4a7a-a1ff-31c0f4d46941",
   "metadata": {},
   "source": [
    "Je důležité vědět, proč máš takové množství chybějících hodnot.\n",
    "\n",
    "Chybí ti data, protože neexistují, nebo protože nejsou součástí záznamů v datasetu.\n",
    "\n",
    "V takových krocích je obvykle nutné, pochopit podstatu údajů (dokumentace, specifikace,..).\n",
    "\n",
    "Nejjednodušší způsoby, jak s chybějícími daty naložit (ale ne efektivní!!):\n",
    "1. Zahodit chybějící hodnoty,\n",
    "2. doplnit chybějící hodnoty."
   ]
  },
  {
   "cell_type": "markdown",
   "id": "0b2499c6-787c-4554-a294-5ebf9e765be1",
   "metadata": {},
   "source": [
    "#### Zahodit chybějící hodnoty"
   ]
  },
  {
   "cell_type": "code",
   "execution_count": 130,
   "id": "6e154fe4-fe48-4249-a776-425d21248b46",
   "metadata": {
    "tags": []
   },
   "outputs": [
    {
     "data": {
      "text/html": [
       "<div>\n",
       "<style scoped>\n",
       "    .dataframe tbody tr th:only-of-type {\n",
       "        vertical-align: middle;\n",
       "    }\n",
       "\n",
       "    .dataframe tbody tr th {\n",
       "        vertical-align: top;\n",
       "    }\n",
       "\n",
       "    .dataframe thead th {\n",
       "        text-align: right;\n",
       "    }\n",
       "</style>\n",
       "<table border=\"1\" class=\"dataframe\">\n",
       "  <thead>\n",
       "    <tr style=\"text-align: right;\">\n",
       "      <th></th>\n",
       "      <th>Name</th>\n",
       "      <th>Age</th>\n",
       "      <th>Height_cm</th>\n",
       "      <th>Weight_kg</th>\n",
       "    </tr>\n",
       "  </thead>\n",
       "  <tbody>\n",
       "    <tr>\n",
       "      <th>1</th>\n",
       "      <td>Bob</td>\n",
       "      <td>20.0</td>\n",
       "      <td>170.0</td>\n",
       "      <td>65</td>\n",
       "    </tr>\n",
       "    <tr>\n",
       "      <th>4</th>\n",
       "      <td>Eve</td>\n",
       "      <td>23.0</td>\n",
       "      <td>165.0</td>\n",
       "      <td>55</td>\n",
       "    </tr>\n",
       "  </tbody>\n",
       "</table>\n",
       "</div>"
      ],
      "text/plain": [
       "  Name   Age  Height_cm  Weight_kg\n",
       "1  Bob  20.0      170.0         65\n",
       "4  Eve  23.0      165.0         55"
      ]
     },
     "execution_count": 130,
     "metadata": {},
     "output_type": "execute_result"
    }
   ],
   "source": [
    "df_uzivatele.dropna()"
   ]
  },
  {
   "cell_type": "markdown",
   "id": "ea526c53-5802-4143-ab32-d42fba3b0727",
   "metadata": {},
   "source": [
    "<br>\n",
    "\n",
    "V tento okamžik si zahodíš všechny záznamy, které **postrádaly nějakou hodnotu**.\n",
    "\n",
    "Někdy je jednodušší zahodit sloupeček, který má chybějící hodnotu:"
   ]
  },
  {
   "cell_type": "code",
   "execution_count": 131,
   "id": "5cae373b-2803-4607-9de5-3ee8ceecb4db",
   "metadata": {
    "tags": []
   },
   "outputs": [
    {
     "data": {
      "text/html": [
       "<div>\n",
       "<style scoped>\n",
       "    .dataframe tbody tr th:only-of-type {\n",
       "        vertical-align: middle;\n",
       "    }\n",
       "\n",
       "    .dataframe tbody tr th {\n",
       "        vertical-align: top;\n",
       "    }\n",
       "\n",
       "    .dataframe thead th {\n",
       "        text-align: right;\n",
       "    }\n",
       "</style>\n",
       "<table border=\"1\" class=\"dataframe\">\n",
       "  <thead>\n",
       "    <tr style=\"text-align: right;\">\n",
       "      <th></th>\n",
       "      <th>Name</th>\n",
       "      <th>Weight_kg</th>\n",
       "    </tr>\n",
       "  </thead>\n",
       "  <tbody>\n",
       "    <tr>\n",
       "      <th>0</th>\n",
       "      <td>Alice</td>\n",
       "      <td>50</td>\n",
       "    </tr>\n",
       "    <tr>\n",
       "      <th>1</th>\n",
       "      <td>Bob</td>\n",
       "      <td>65</td>\n",
       "    </tr>\n",
       "    <tr>\n",
       "      <th>2</th>\n",
       "      <td>Charlie</td>\n",
       "      <td>70</td>\n",
       "    </tr>\n",
       "    <tr>\n",
       "      <th>3</th>\n",
       "      <td>David</td>\n",
       "      <td>80</td>\n",
       "    </tr>\n",
       "    <tr>\n",
       "      <th>4</th>\n",
       "      <td>Eve</td>\n",
       "      <td>55</td>\n",
       "    </tr>\n",
       "  </tbody>\n",
       "</table>\n",
       "</div>"
      ],
      "text/plain": [
       "      Name  Weight_kg\n",
       "0    Alice         50\n",
       "1      Bob         65\n",
       "2  Charlie         70\n",
       "3    David         80\n",
       "4      Eve         55"
      ]
     },
     "execution_count": 131,
     "metadata": {},
     "output_type": "execute_result"
    }
   ],
   "source": [
    "df_uzivatele.dropna(axis=1)"
   ]
  },
  {
   "cell_type": "markdown",
   "id": "b1fac794-0d34-48ec-b6c6-9386f28b1f43",
   "metadata": {},
   "source": [
    "#### Doplnit automaticky hodnoty"
   ]
  },
  {
   "cell_type": "code",
   "execution_count": null,
   "id": "8cc16fb8-1ae9-4b7b-b58d-3ee26a54f62a",
   "metadata": {},
   "outputs": [],
   "source": [
    "df_uzivatele.fillna(0)"
   ]
  },
  {
   "cell_type": "markdown",
   "id": "1d01774e-1e53-4d03-8601-010eb30e6ff5",
   "metadata": {},
   "source": [
    "<br>\n",
    "\n",
    "Pomocí funkce `fillna` můžeš vyplnit místo chybějících hodnot předdefinovanou vlastní hodnotu.\n",
    "\n",
    "Nebo pomocí argumentu pro `method` pracovat s elegantnějším zadáním.\n",
    "\n",
    "Nahradit chybějící hodnoty hodnotou, která následuje bezprostředně za ní ve stejném sloupci (To má velký smysl u souborů dat, kde mají pozorování nějaké logické pořadí.)"
   ]
  },
  {
   "cell_type": "code",
   "execution_count": 144,
   "id": "b4a9f2d8-83a3-4bda-9ea7-5d0afc12c3a1",
   "metadata": {
    "tags": []
   },
   "outputs": [
    {
     "data": {
      "text/html": [
       "<div>\n",
       "<style scoped>\n",
       "    .dataframe tbody tr th:only-of-type {\n",
       "        vertical-align: middle;\n",
       "    }\n",
       "\n",
       "    .dataframe tbody tr th {\n",
       "        vertical-align: top;\n",
       "    }\n",
       "\n",
       "    .dataframe thead th {\n",
       "        text-align: right;\n",
       "    }\n",
       "</style>\n",
       "<table border=\"1\" class=\"dataframe\">\n",
       "  <thead>\n",
       "    <tr style=\"text-align: right;\">\n",
       "      <th></th>\n",
       "      <th>Name</th>\n",
       "      <th>Age</th>\n",
       "      <th>Height_cm</th>\n",
       "      <th>Weight_kg</th>\n",
       "    </tr>\n",
       "  </thead>\n",
       "  <tbody>\n",
       "    <tr>\n",
       "      <th>0</th>\n",
       "      <td>Alice</td>\n",
       "      <td>20.0</td>\n",
       "      <td>160.0</td>\n",
       "      <td>50</td>\n",
       "    </tr>\n",
       "    <tr>\n",
       "      <th>1</th>\n",
       "      <td>Bob</td>\n",
       "      <td>20.0</td>\n",
       "      <td>170.0</td>\n",
       "      <td>65</td>\n",
       "    </tr>\n",
       "    <tr>\n",
       "      <th>2</th>\n",
       "      <td>Charlie</td>\n",
       "      <td>22.0</td>\n",
       "      <td>175.0</td>\n",
       "      <td>70</td>\n",
       "    </tr>\n",
       "    <tr>\n",
       "      <th>3</th>\n",
       "      <td>David</td>\n",
       "      <td>22.0</td>\n",
       "      <td>165.0</td>\n",
       "      <td>80</td>\n",
       "    </tr>\n",
       "    <tr>\n",
       "      <th>4</th>\n",
       "      <td>Eve</td>\n",
       "      <td>23.0</td>\n",
       "      <td>165.0</td>\n",
       "      <td>55</td>\n",
       "    </tr>\n",
       "  </tbody>\n",
       "</table>\n",
       "</div>"
      ],
      "text/plain": [
       "      Name   Age  Height_cm  Weight_kg\n",
       "0    Alice  20.0      160.0         50\n",
       "1      Bob  20.0      170.0         65\n",
       "2  Charlie  22.0      175.0         70\n",
       "3    David  22.0      165.0         80\n",
       "4      Eve  23.0      165.0         55"
      ]
     },
     "execution_count": 144,
     "metadata": {},
     "output_type": "execute_result"
    }
   ],
   "source": [
    "df_uzivatele.fillna(method='bfill', axis=0).fillna(0)"
   ]
  },
  {
   "cell_type": "code",
   "execution_count": null,
   "id": "453930ea-feb3-477e-8556-c29a52e0ea63",
   "metadata": {},
   "outputs": [],
   "source": []
  },
  {
   "cell_type": "markdown",
   "id": "de9c6b90-a9b6-44a5-b419-bf1f680610b9",
   "metadata": {},
   "source": [
    "## Encoding\n",
    "\n",
    "---"
   ]
  },
  {
   "cell_type": "markdown",
   "id": "f05783ce-8e19-4ed6-84b4-feb1d0845bdb",
   "metadata": {},
   "source": [
    "Problémy s kódováním jsou běžné.\n",
    "\n",
    "Jde o proces, který mapuje bajtové stringy (0110101011) na uživatelsky čitelný text (\"ahoj!\").\n",
    "\n",
    "Tento problém nastane, pokud se snažíš načíst zdroj v jiné kódovací sadě, než byl soubor zapsaný.\n",
    "\n",
    "<br>\n",
    "\n",
    "Protože je těchto sad hodně, občas skončíš s escapovanými znaky, nebo s neznámými kliky-háky:"
   ]
  },
  {
   "cell_type": "code",
   "execution_count": null,
   "id": "d6949490-b430-4b66-813e-9f73a7629706",
   "metadata": {},
   "outputs": [],
   "source": [
    "æ–‡å"
   ]
  },
  {
   "cell_type": "markdown",
   "id": "462ebf10-52c1-480b-ac2b-6bcaef2c605e",
   "metadata": {},
   "source": [
    "<br>\n",
    "\n",
    "Případně pokud nelze domapovat znaky:"
   ]
  },
  {
   "cell_type": "markdown",
   "id": "c7d5cca3-edd4-443e-a32d-663beda305c1",
   "metadata": {},
   "source": [
    "��"
   ]
  },
  {
   "cell_type": "markdown",
   "id": "08718372-9db9-4abf-be9f-e3973232a86f",
   "metadata": {},
   "source": [
    "<br>\n",
    "\n",
    "V Pythonu 2 nebylo lehké encoding zajistit.\n",
    "\n",
    "V Pythonu 3 je celý proces o dost jednodušší.\n",
    "\n",
    "Standardem pro práci bývá obyčejně UTF-8. Na to ale zrovna v našich končinách nemůžeš spoléhat."
   ]
  },
  {
   "cell_type": "code",
   "execution_count": 1,
   "id": "452d462d-a7d7-4fc8-9200-a81ad15acd13",
   "metadata": {
    "tags": []
   },
   "outputs": [],
   "source": [
    "veta = \"Matouš zaplatil 100 $\""
   ]
  },
  {
   "cell_type": "code",
   "execution_count": 2,
   "id": "a20ac2ec-a3b9-48fe-803d-a134abcc1b7d",
   "metadata": {
    "tags": []
   },
   "outputs": [
    {
     "data": {
      "text/plain": [
       "\u001b[0;31mType:\u001b[0m        str\n",
       "\u001b[0;31mString form:\u001b[0m Matouš zaplatil 100 $\n",
       "\u001b[0;31mLength:\u001b[0m      21\n",
       "\u001b[0;31mDocstring:\u001b[0m  \n",
       "str(object='') -> str\n",
       "str(bytes_or_buffer[, encoding[, errors]]) -> str\n",
       "\n",
       "Create a new string object from the given object. If encoding or\n",
       "errors is specified, then the object must expose a data buffer\n",
       "that will be decoded using the given encoding and error handler.\n",
       "Otherwise, returns the result of object.__str__() (if defined)\n",
       "or repr(object).\n",
       "encoding defaults to sys.getdefaultencoding().\n",
       "errors defaults to 'strict'."
      ]
     },
     "metadata": {},
     "output_type": "display_data"
    }
   ],
   "source": [
    "veta?"
   ]
  },
  {
   "cell_type": "markdown",
   "id": "009230ce-43c7-4d31-8bd8-20886451ffea",
   "metadata": {},
   "source": [
    "<br>\n",
    "\n",
    "Údaj, který vidíš výš je datový typ `str`."
   ]
  },
  {
   "cell_type": "code",
   "execution_count": 3,
   "id": "3a68564c-caf9-4f8b-a267-371bac571a26",
   "metadata": {
    "tags": []
   },
   "outputs": [],
   "source": [
    "prevedena_veta = veta.encode(\"utf-8\", errors=\"replace\")"
   ]
  },
  {
   "cell_type": "code",
   "execution_count": 4,
   "id": "b4bacb1f-f081-4206-9a26-f826a2d9760c",
   "metadata": {
    "tags": []
   },
   "outputs": [
    {
     "data": {
      "text/plain": [
       "\u001b[0;31mType:\u001b[0m        bytes\n",
       "\u001b[0;31mString form:\u001b[0m b'Matou\\xc5\\xa1 zaplatil 100 $'\n",
       "\u001b[0;31mLength:\u001b[0m      22\n",
       "\u001b[0;31mDocstring:\u001b[0m  \n",
       "bytes(iterable_of_ints) -> bytes\n",
       "bytes(string, encoding[, errors]) -> bytes\n",
       "bytes(bytes_or_buffer) -> immutable copy of bytes_or_buffer\n",
       "bytes(int) -> bytes object of size given by the parameter initialized with null bytes\n",
       "bytes() -> empty bytes object\n",
       "\n",
       "Construct an immutable array of bytes from:\n",
       "  - an iterable yielding integers in range(256)\n",
       "  - a text string encoded using the specified encoding\n",
       "  - any object implementing the buffer API.\n",
       "  - an integer"
      ]
     },
     "metadata": {},
     "output_type": "display_data"
    }
   ],
   "source": [
    "prevedena_veta?"
   ]
  },
  {
   "cell_type": "markdown",
   "id": "534a717a-6a29-4db6-ace1-fcd910775d2f",
   "metadata": {
    "tags": []
   },
   "source": [
    "<br>\n",
    "\n",
    "Dál je možné, převést `str` na `bytes`. Tedy sekvenci čísel.\n",
    "\n",
    "Jak ale teď tato sekvence vypadá:"
   ]
  },
  {
   "cell_type": "code",
   "execution_count": 6,
   "id": "36ed5cc1-da63-44f5-8def-569c877cf3fc",
   "metadata": {
    "tags": []
   },
   "outputs": [
    {
     "data": {
      "text/plain": [
       "b'Matou\\xc5\\xa1 zaplatil 100 $'"
      ]
     },
     "execution_count": 6,
     "metadata": {},
     "output_type": "execute_result"
    }
   ],
   "source": [
    "prevedena_veta"
   ]
  },
  {
   "cell_type": "markdown",
   "id": "c595b014-47b1-426c-aef6-7c40166e98cf",
   "metadata": {},
   "source": [
    "<br>\n",
    "\n",
    "Celou větu můžeš zpátky kódovat pomocí funkce `decode` z `bytes` na `str`:"
   ]
  },
  {
   "cell_type": "code",
   "execution_count": 8,
   "id": "2ce69930-4e6e-4eca-8462-992bb4c8a430",
   "metadata": {
    "tags": []
   },
   "outputs": [
    {
     "name": "stdout",
     "output_type": "stream",
     "text": [
      "Matouš zaplatil 100 $\n"
     ]
    }
   ],
   "source": [
    "print(prevedena_veta.decode(\"utf-8\"))"
   ]
  },
  {
   "cell_type": "markdown",
   "id": "a23ff730-8b9e-4372-9281-1474436e5eb7",
   "metadata": {},
   "source": [
    "<br>\n",
    "\n",
    "Pokud ale zvolíš jinou sadu, nemusíš dostat stejné hodnoty:"
   ]
  },
  {
   "cell_type": "code",
   "execution_count": 10,
   "id": "32c62bcd-e7bd-4c0d-9263-9b700bfc16f0",
   "metadata": {
    "tags": []
   },
   "outputs": [
    {
     "name": "stdout",
     "output_type": "stream",
     "text": [
      "MatouĹˇ zaplatil 100 $\n"
     ]
    }
   ],
   "source": [
    "print(prevedena_veta.decode(\"windows-1250\"))"
   ]
  },
  {
   "cell_type": "code",
   "execution_count": 13,
   "id": "660928bf-e7bd-41de-86d5-bf595b02833c",
   "metadata": {
    "tags": []
   },
   "outputs": [
    {
     "ename": "UnicodeDecodeError",
     "evalue": "'ascii' codec can't decode byte 0xc5 in position 5: ordinal not in range(128)",
     "output_type": "error",
     "traceback": [
      "\u001b[0;31m---------------------------------------------------------------------------\u001b[0m",
      "\u001b[0;31mUnicodeDecodeError\u001b[0m                        Traceback (most recent call last)",
      "Cell \u001b[0;32mIn[13], line 1\u001b[0m\n\u001b[0;32m----> 1\u001b[0m \u001b[38;5;28mprint\u001b[39m(\u001b[43mprevedena_veta\u001b[49m\u001b[38;5;241;43m.\u001b[39;49m\u001b[43mdecode\u001b[49m\u001b[43m(\u001b[49m\u001b[38;5;124;43m\"\u001b[39;49m\u001b[38;5;124;43mascii\u001b[39;49m\u001b[38;5;124;43m\"\u001b[39;49m\u001b[43m)\u001b[49m)\n",
      "\u001b[0;31mUnicodeDecodeError\u001b[0m: 'ascii' codec can't decode byte 0xc5 in position 5: ordinal not in range(128)"
     ]
    }
   ],
   "source": [
    "print(prevedena_veta.decode(\"ascii\"))"
   ]
  },
  {
   "cell_type": "markdown",
   "id": "3fe543f7-bd8e-476a-b1c2-86435345ff05",
   "metadata": {},
   "source": [
    "<br>\n",
    "\n",
    "Toto a další neúspěšné postupy je samozřejmě špatně a ty se tomu chceš určitě vyhnout."
   ]
  },
  {
   "cell_type": "code",
   "execution_count": 11,
   "id": "c437d12b-34cf-4890-954a-59fe982f455d",
   "metadata": {
    "tags": []
   },
   "outputs": [],
   "source": [
    "from pandas import read_csv"
   ]
  },
  {
   "cell_type": "code",
   "execution_count": 20,
   "id": "6f347574-6342-4427-900c-923b50b5c6d8",
   "metadata": {
    "tags": []
   },
   "outputs": [
    {
     "ename": "UnicodeDecodeError",
     "evalue": "'utf-8' codec can't decode byte 0x99 in position 7955: invalid start byte",
     "output_type": "error",
     "traceback": [
      "\u001b[0;31m---------------------------------------------------------------------------\u001b[0m",
      "\u001b[0;31mUnicodeDecodeError\u001b[0m                        Traceback (most recent call last)",
      "Cell \u001b[0;32mIn[20], line 1\u001b[0m\n\u001b[0;32m----> 1\u001b[0m chybna_sada \u001b[38;5;241m=\u001b[39m \u001b[43mread_csv\u001b[49m\u001b[43m(\u001b[49m\u001b[38;5;124;43m\"\u001b[39;49m\u001b[38;5;124;43mneznamy_vzorek.csv\u001b[39;49m\u001b[38;5;124;43m\"\u001b[39;49m\u001b[43m)\u001b[49m\n",
      "File \u001b[0;32m~/projects/data-csob-2023/shared/onsite/env/lib/python3.8/site-packages/pandas/util/_decorators.py:211\u001b[0m, in \u001b[0;36mdeprecate_kwarg.<locals>._deprecate_kwarg.<locals>.wrapper\u001b[0;34m(*args, **kwargs)\u001b[0m\n\u001b[1;32m    209\u001b[0m     \u001b[38;5;28;01melse\u001b[39;00m:\n\u001b[1;32m    210\u001b[0m         kwargs[new_arg_name] \u001b[38;5;241m=\u001b[39m new_arg_value\n\u001b[0;32m--> 211\u001b[0m \u001b[38;5;28;01mreturn\u001b[39;00m \u001b[43mfunc\u001b[49m\u001b[43m(\u001b[49m\u001b[38;5;241;43m*\u001b[39;49m\u001b[43margs\u001b[49m\u001b[43m,\u001b[49m\u001b[43m \u001b[49m\u001b[38;5;241;43m*\u001b[39;49m\u001b[38;5;241;43m*\u001b[39;49m\u001b[43mkwargs\u001b[49m\u001b[43m)\u001b[49m\n",
      "File \u001b[0;32m~/projects/data-csob-2023/shared/onsite/env/lib/python3.8/site-packages/pandas/util/_decorators.py:331\u001b[0m, in \u001b[0;36mdeprecate_nonkeyword_arguments.<locals>.decorate.<locals>.wrapper\u001b[0;34m(*args, **kwargs)\u001b[0m\n\u001b[1;32m    325\u001b[0m \u001b[38;5;28;01mif\u001b[39;00m \u001b[38;5;28mlen\u001b[39m(args) \u001b[38;5;241m>\u001b[39m num_allow_args:\n\u001b[1;32m    326\u001b[0m     warnings\u001b[38;5;241m.\u001b[39mwarn(\n\u001b[1;32m    327\u001b[0m         msg\u001b[38;5;241m.\u001b[39mformat(arguments\u001b[38;5;241m=\u001b[39m_format_argument_list(allow_args)),\n\u001b[1;32m    328\u001b[0m         \u001b[38;5;167;01mFutureWarning\u001b[39;00m,\n\u001b[1;32m    329\u001b[0m         stacklevel\u001b[38;5;241m=\u001b[39mfind_stack_level(),\n\u001b[1;32m    330\u001b[0m     )\n\u001b[0;32m--> 331\u001b[0m \u001b[38;5;28;01mreturn\u001b[39;00m \u001b[43mfunc\u001b[49m\u001b[43m(\u001b[49m\u001b[38;5;241;43m*\u001b[39;49m\u001b[43margs\u001b[49m\u001b[43m,\u001b[49m\u001b[43m \u001b[49m\u001b[38;5;241;43m*\u001b[39;49m\u001b[38;5;241;43m*\u001b[39;49m\u001b[43mkwargs\u001b[49m\u001b[43m)\u001b[49m\n",
      "File \u001b[0;32m~/projects/data-csob-2023/shared/onsite/env/lib/python3.8/site-packages/pandas/io/parsers/readers.py:950\u001b[0m, in \u001b[0;36mread_csv\u001b[0;34m(filepath_or_buffer, sep, delimiter, header, names, index_col, usecols, squeeze, prefix, mangle_dupe_cols, dtype, engine, converters, true_values, false_values, skipinitialspace, skiprows, skipfooter, nrows, na_values, keep_default_na, na_filter, verbose, skip_blank_lines, parse_dates, infer_datetime_format, keep_date_col, date_parser, dayfirst, cache_dates, iterator, chunksize, compression, thousands, decimal, lineterminator, quotechar, quoting, doublequote, escapechar, comment, encoding, encoding_errors, dialect, error_bad_lines, warn_bad_lines, on_bad_lines, delim_whitespace, low_memory, memory_map, float_precision, storage_options)\u001b[0m\n\u001b[1;32m    935\u001b[0m kwds_defaults \u001b[38;5;241m=\u001b[39m _refine_defaults_read(\n\u001b[1;32m    936\u001b[0m     dialect,\n\u001b[1;32m    937\u001b[0m     delimiter,\n\u001b[0;32m   (...)\u001b[0m\n\u001b[1;32m    946\u001b[0m     defaults\u001b[38;5;241m=\u001b[39m{\u001b[38;5;124m\"\u001b[39m\u001b[38;5;124mdelimiter\u001b[39m\u001b[38;5;124m\"\u001b[39m: \u001b[38;5;124m\"\u001b[39m\u001b[38;5;124m,\u001b[39m\u001b[38;5;124m\"\u001b[39m},\n\u001b[1;32m    947\u001b[0m )\n\u001b[1;32m    948\u001b[0m kwds\u001b[38;5;241m.\u001b[39mupdate(kwds_defaults)\n\u001b[0;32m--> 950\u001b[0m \u001b[38;5;28;01mreturn\u001b[39;00m \u001b[43m_read\u001b[49m\u001b[43m(\u001b[49m\u001b[43mfilepath_or_buffer\u001b[49m\u001b[43m,\u001b[49m\u001b[43m \u001b[49m\u001b[43mkwds\u001b[49m\u001b[43m)\u001b[49m\n",
      "File \u001b[0;32m~/projects/data-csob-2023/shared/onsite/env/lib/python3.8/site-packages/pandas/io/parsers/readers.py:605\u001b[0m, in \u001b[0;36m_read\u001b[0;34m(filepath_or_buffer, kwds)\u001b[0m\n\u001b[1;32m    602\u001b[0m _validate_names(kwds\u001b[38;5;241m.\u001b[39mget(\u001b[38;5;124m\"\u001b[39m\u001b[38;5;124mnames\u001b[39m\u001b[38;5;124m\"\u001b[39m, \u001b[38;5;28;01mNone\u001b[39;00m))\n\u001b[1;32m    604\u001b[0m \u001b[38;5;66;03m# Create the parser.\u001b[39;00m\n\u001b[0;32m--> 605\u001b[0m parser \u001b[38;5;241m=\u001b[39m \u001b[43mTextFileReader\u001b[49m\u001b[43m(\u001b[49m\u001b[43mfilepath_or_buffer\u001b[49m\u001b[43m,\u001b[49m\u001b[43m \u001b[49m\u001b[38;5;241;43m*\u001b[39;49m\u001b[38;5;241;43m*\u001b[39;49m\u001b[43mkwds\u001b[49m\u001b[43m)\u001b[49m\n\u001b[1;32m    607\u001b[0m \u001b[38;5;28;01mif\u001b[39;00m chunksize \u001b[38;5;129;01mor\u001b[39;00m iterator:\n\u001b[1;32m    608\u001b[0m     \u001b[38;5;28;01mreturn\u001b[39;00m parser\n",
      "File \u001b[0;32m~/projects/data-csob-2023/shared/onsite/env/lib/python3.8/site-packages/pandas/io/parsers/readers.py:1442\u001b[0m, in \u001b[0;36mTextFileReader.__init__\u001b[0;34m(self, f, engine, **kwds)\u001b[0m\n\u001b[1;32m   1439\u001b[0m     \u001b[38;5;28mself\u001b[39m\u001b[38;5;241m.\u001b[39moptions[\u001b[38;5;124m\"\u001b[39m\u001b[38;5;124mhas_index_names\u001b[39m\u001b[38;5;124m\"\u001b[39m] \u001b[38;5;241m=\u001b[39m kwds[\u001b[38;5;124m\"\u001b[39m\u001b[38;5;124mhas_index_names\u001b[39m\u001b[38;5;124m\"\u001b[39m]\n\u001b[1;32m   1441\u001b[0m \u001b[38;5;28mself\u001b[39m\u001b[38;5;241m.\u001b[39mhandles: IOHandles \u001b[38;5;241m|\u001b[39m \u001b[38;5;28;01mNone\u001b[39;00m \u001b[38;5;241m=\u001b[39m \u001b[38;5;28;01mNone\u001b[39;00m\n\u001b[0;32m-> 1442\u001b[0m \u001b[38;5;28mself\u001b[39m\u001b[38;5;241m.\u001b[39m_engine \u001b[38;5;241m=\u001b[39m \u001b[38;5;28;43mself\u001b[39;49m\u001b[38;5;241;43m.\u001b[39;49m\u001b[43m_make_engine\u001b[49m\u001b[43m(\u001b[49m\u001b[43mf\u001b[49m\u001b[43m,\u001b[49m\u001b[43m \u001b[49m\u001b[38;5;28;43mself\u001b[39;49m\u001b[38;5;241;43m.\u001b[39;49m\u001b[43mengine\u001b[49m\u001b[43m)\u001b[49m\n",
      "File \u001b[0;32m~/projects/data-csob-2023/shared/onsite/env/lib/python3.8/site-packages/pandas/io/parsers/readers.py:1753\u001b[0m, in \u001b[0;36mTextFileReader._make_engine\u001b[0;34m(self, f, engine)\u001b[0m\n\u001b[1;32m   1750\u001b[0m     \u001b[38;5;28;01mraise\u001b[39;00m \u001b[38;5;167;01mValueError\u001b[39;00m(msg)\n\u001b[1;32m   1752\u001b[0m \u001b[38;5;28;01mtry\u001b[39;00m:\n\u001b[0;32m-> 1753\u001b[0m     \u001b[38;5;28;01mreturn\u001b[39;00m \u001b[43mmapping\u001b[49m\u001b[43m[\u001b[49m\u001b[43mengine\u001b[49m\u001b[43m]\u001b[49m\u001b[43m(\u001b[49m\u001b[43mf\u001b[49m\u001b[43m,\u001b[49m\u001b[43m \u001b[49m\u001b[38;5;241;43m*\u001b[39;49m\u001b[38;5;241;43m*\u001b[39;49m\u001b[38;5;28;43mself\u001b[39;49m\u001b[38;5;241;43m.\u001b[39;49m\u001b[43moptions\u001b[49m\u001b[43m)\u001b[49m\n\u001b[1;32m   1754\u001b[0m \u001b[38;5;28;01mexcept\u001b[39;00m \u001b[38;5;167;01mException\u001b[39;00m:\n\u001b[1;32m   1755\u001b[0m     \u001b[38;5;28;01mif\u001b[39;00m \u001b[38;5;28mself\u001b[39m\u001b[38;5;241m.\u001b[39mhandles \u001b[38;5;129;01mis\u001b[39;00m \u001b[38;5;129;01mnot\u001b[39;00m \u001b[38;5;28;01mNone\u001b[39;00m:\n",
      "File \u001b[0;32m~/projects/data-csob-2023/shared/onsite/env/lib/python3.8/site-packages/pandas/io/parsers/c_parser_wrapper.py:79\u001b[0m, in \u001b[0;36mCParserWrapper.__init__\u001b[0;34m(self, src, **kwds)\u001b[0m\n\u001b[1;32m     76\u001b[0m     kwds\u001b[38;5;241m.\u001b[39mpop(key, \u001b[38;5;28;01mNone\u001b[39;00m)\n\u001b[1;32m     78\u001b[0m kwds[\u001b[38;5;124m\"\u001b[39m\u001b[38;5;124mdtype\u001b[39m\u001b[38;5;124m\"\u001b[39m] \u001b[38;5;241m=\u001b[39m ensure_dtype_objs(kwds\u001b[38;5;241m.\u001b[39mget(\u001b[38;5;124m\"\u001b[39m\u001b[38;5;124mdtype\u001b[39m\u001b[38;5;124m\"\u001b[39m, \u001b[38;5;28;01mNone\u001b[39;00m))\n\u001b[0;32m---> 79\u001b[0m \u001b[38;5;28mself\u001b[39m\u001b[38;5;241m.\u001b[39m_reader \u001b[38;5;241m=\u001b[39m \u001b[43mparsers\u001b[49m\u001b[38;5;241;43m.\u001b[39;49m\u001b[43mTextReader\u001b[49m\u001b[43m(\u001b[49m\u001b[43msrc\u001b[49m\u001b[43m,\u001b[49m\u001b[43m \u001b[49m\u001b[38;5;241;43m*\u001b[39;49m\u001b[38;5;241;43m*\u001b[39;49m\u001b[43mkwds\u001b[49m\u001b[43m)\u001b[49m\n\u001b[1;32m     81\u001b[0m \u001b[38;5;28mself\u001b[39m\u001b[38;5;241m.\u001b[39munnamed_cols \u001b[38;5;241m=\u001b[39m \u001b[38;5;28mself\u001b[39m\u001b[38;5;241m.\u001b[39m_reader\u001b[38;5;241m.\u001b[39munnamed_cols\n\u001b[1;32m     83\u001b[0m \u001b[38;5;66;03m# error: Cannot determine type of 'names'\u001b[39;00m\n",
      "File \u001b[0;32m~/projects/data-csob-2023/shared/onsite/env/lib/python3.8/site-packages/pandas/_libs/parsers.pyx:547\u001b[0m, in \u001b[0;36mpandas._libs.parsers.TextReader.__cinit__\u001b[0;34m()\u001b[0m\n",
      "File \u001b[0;32m~/projects/data-csob-2023/shared/onsite/env/lib/python3.8/site-packages/pandas/_libs/parsers.pyx:636\u001b[0m, in \u001b[0;36mpandas._libs.parsers.TextReader._get_header\u001b[0;34m()\u001b[0m\n",
      "File \u001b[0;32m~/projects/data-csob-2023/shared/onsite/env/lib/python3.8/site-packages/pandas/_libs/parsers.pyx:852\u001b[0m, in \u001b[0;36mpandas._libs.parsers.TextReader._tokenize_rows\u001b[0;34m()\u001b[0m\n",
      "File \u001b[0;32m~/projects/data-csob-2023/shared/onsite/env/lib/python3.8/site-packages/pandas/_libs/parsers.pyx:1965\u001b[0m, in \u001b[0;36mpandas._libs.parsers.raise_parser_error\u001b[0;34m()\u001b[0m\n",
      "\u001b[0;31mUnicodeDecodeError\u001b[0m: 'utf-8' codec can't decode byte 0x99 in position 7955: invalid start byte"
     ]
    }
   ],
   "source": [
    "chybna_sada = read_csv(\"neznamy_vzorek.csv\")"
   ]
  },
  {
   "cell_type": "markdown",
   "id": "c839c4f4-e84d-4596-ae74-2ee680cc0ee2",
   "metadata": {},
   "source": [
    "<br>\n",
    "\n",
    "Ne vždy je možné, defaultně pracovat se znakovou sadou UTF-8.\n",
    "\n",
    "Ve výstupu je vidět, že jde o směs několika sad a ty musíš vyzkoušet, jaká bude fungovat."
   ]
  },
  {
   "cell_type": "code",
   "execution_count": 14,
   "id": "d8a6b2d2-7d62-4dd1-98eb-6905b8070b79",
   "metadata": {
    "tags": []
   },
   "outputs": [],
   "source": [
    "import sys"
   ]
  },
  {
   "cell_type": "code",
   "execution_count": 15,
   "id": "2a843d23-12c3-4ca3-b7fd-d2f0de7bb064",
   "metadata": {
    "tags": []
   },
   "outputs": [
    {
     "data": {
      "text/plain": [
       "'utf-8'"
      ]
     },
     "execution_count": 15,
     "metadata": {},
     "output_type": "execute_result"
    }
   ],
   "source": [
    "sys.getdefaultencoding()"
   ]
  },
  {
   "cell_type": "code",
   "execution_count": 41,
   "id": "dd4fc6c7-1e1f-48b2-87cd-861d07f47b56",
   "metadata": {
    "tags": []
   },
   "outputs": [
    {
     "name": "stdout",
     "output_type": "stream",
     "text": [
      "Collecting chardet\n",
      "  Downloading chardet-5.1.0-py3-none-any.whl (199 kB)\n",
      "\u001b[K     |████████████████████████████████| 199 kB 1.8 MB/s eta 0:00:01\n",
      "\u001b[?25hInstalling collected packages: chardet\n",
      "Successfully installed chardet-5.1.0\n"
     ]
    }
   ],
   "source": [
    "!pip install chardet"
   ]
  },
  {
   "cell_type": "code",
   "execution_count": 42,
   "id": "4cabca50-b529-4a91-8383-7659e0920b02",
   "metadata": {
    "tags": []
   },
   "outputs": [],
   "source": [
    "from chardet.universaldetector import UniversalDetector"
   ]
  },
  {
   "cell_type": "code",
   "execution_count": 43,
   "id": "2aefe731-3ad4-46fb-a3a2-d957a3394752",
   "metadata": {
    "tags": []
   },
   "outputs": [],
   "source": [
    "detector = UniversalDetector()"
   ]
  },
  {
   "cell_type": "code",
   "execution_count": 45,
   "id": "aed18a4e-516f-4e46-930d-e1d195732fe3",
   "metadata": {
    "tags": []
   },
   "outputs": [
    {
     "name": "stdout",
     "output_type": "stream",
     "text": [
      "{'encoding': 'Windows-1252', 'confidence': 0.7299788775910958, 'language': ''}\n"
     ]
    }
   ],
   "source": [
    "for line in open(\"neznamy_vzorek.csv\", 'rb'):\n",
    "    detector.feed(line)\n",
    "    if detector.done:\n",
    "        break\n",
    "\n",
    "detector.close()\n",
    "print(detector.result)"
   ]
  },
  {
   "cell_type": "markdown",
   "id": "8cac610b-39f2-4fde-8669-9d4ac4d8d3d1",
   "metadata": {},
   "source": [
    "<br>\n",
    "\n",
    "Pomocí knihovny `chardet` / `charset_normalizer` identifikuješ, o jaké znakové sady jde:"
   ]
  },
  {
   "cell_type": "markdown",
   "id": "fbe15a45-df94-4360-8d73-0cc602bb7961",
   "metadata": {},
   "source": [
    "Nyní máš lepší představu o tom, jakou znakovou sadu soubor používá.\n",
    "\n",
    "Opatrně na délku `str`, který detekuješ.\n",
    "\n",
    "Pokud je příliš krátký, může to ovlivnit výsledek.\n",
    "\n",
    "Naopak pokud je příliš dlouhý, může trvat jeho načtení."
   ]
  },
  {
   "cell_type": "code",
   "execution_count": 46,
   "id": "1f5b2f04-7b11-4db9-9337-dc6fab94056c",
   "metadata": {
    "tags": []
   },
   "outputs": [
    {
     "name": "stderr",
     "output_type": "stream",
     "text": [
      "/tmp/ipykernel_7941/3584548271.py:1: DtypeWarning: Columns (13,14,15) have mixed types. Specify dtype option on import or set low_memory=False.\n",
      "  spravna_sada = read_csv(\"neznamy_vzorek.csv\", encoding=\"Windows-1252\")\n"
     ]
    }
   ],
   "source": [
    "spravna_sada = read_csv(\"neznamy_vzorek.csv\", encoding=\"Windows-1252\")"
   ]
  },
  {
   "cell_type": "code",
   "execution_count": 47,
   "id": "4fcf7642-fff0-42be-8ffe-110a59471798",
   "metadata": {
    "tags": []
   },
   "outputs": [
    {
     "data": {
      "text/html": [
       "<div>\n",
       "<style scoped>\n",
       "    .dataframe tbody tr th:only-of-type {\n",
       "        vertical-align: middle;\n",
       "    }\n",
       "\n",
       "    .dataframe tbody tr th {\n",
       "        vertical-align: top;\n",
       "    }\n",
       "\n",
       "    .dataframe thead th {\n",
       "        text-align: right;\n",
       "    }\n",
       "</style>\n",
       "<table border=\"1\" class=\"dataframe\">\n",
       "  <thead>\n",
       "    <tr style=\"text-align: right;\">\n",
       "      <th></th>\n",
       "      <th>ID</th>\n",
       "      <th>name</th>\n",
       "      <th>category</th>\n",
       "      <th>main_category</th>\n",
       "      <th>currency</th>\n",
       "      <th>deadline</th>\n",
       "      <th>goal</th>\n",
       "      <th>launched</th>\n",
       "      <th>pledged</th>\n",
       "      <th>state</th>\n",
       "      <th>backers</th>\n",
       "      <th>country</th>\n",
       "      <th>usd pledged</th>\n",
       "      <th>Unnamed: 13</th>\n",
       "      <th>Unnamed: 14</th>\n",
       "      <th>Unnamed: 15</th>\n",
       "      <th>Unnamed: 16</th>\n",
       "    </tr>\n",
       "  </thead>\n",
       "  <tbody>\n",
       "    <tr>\n",
       "      <th>0</th>\n",
       "      <td>1000002330</td>\n",
       "      <td>The Songs of Adelaide &amp; Abullah</td>\n",
       "      <td>Poetry</td>\n",
       "      <td>Publishing</td>\n",
       "      <td>GBP</td>\n",
       "      <td>2015-10-09 11:36:00</td>\n",
       "      <td>1000</td>\n",
       "      <td>2015-08-11 12:12:28</td>\n",
       "      <td>0</td>\n",
       "      <td>failed</td>\n",
       "      <td>0</td>\n",
       "      <td>GB</td>\n",
       "      <td>0</td>\n",
       "      <td>NaN</td>\n",
       "      <td>NaN</td>\n",
       "      <td>NaN</td>\n",
       "      <td>NaN</td>\n",
       "    </tr>\n",
       "    <tr>\n",
       "      <th>1</th>\n",
       "      <td>1000004038</td>\n",
       "      <td>Where is Hank?</td>\n",
       "      <td>Narrative Film</td>\n",
       "      <td>Film &amp; Video</td>\n",
       "      <td>USD</td>\n",
       "      <td>2013-02-26 00:20:50</td>\n",
       "      <td>45000</td>\n",
       "      <td>2013-01-12 00:20:50</td>\n",
       "      <td>220</td>\n",
       "      <td>failed</td>\n",
       "      <td>3</td>\n",
       "      <td>US</td>\n",
       "      <td>220</td>\n",
       "      <td>NaN</td>\n",
       "      <td>NaN</td>\n",
       "      <td>NaN</td>\n",
       "      <td>NaN</td>\n",
       "    </tr>\n",
       "    <tr>\n",
       "      <th>2</th>\n",
       "      <td>1000007540</td>\n",
       "      <td>ToshiCapital Rekordz Needs Help to Complete Album</td>\n",
       "      <td>Music</td>\n",
       "      <td>Music</td>\n",
       "      <td>USD</td>\n",
       "      <td>2012-04-16 04:24:11</td>\n",
       "      <td>5000</td>\n",
       "      <td>2012-03-17 03:24:11</td>\n",
       "      <td>1</td>\n",
       "      <td>failed</td>\n",
       "      <td>1</td>\n",
       "      <td>US</td>\n",
       "      <td>1</td>\n",
       "      <td>NaN</td>\n",
       "      <td>NaN</td>\n",
       "      <td>NaN</td>\n",
       "      <td>NaN</td>\n",
       "    </tr>\n",
       "    <tr>\n",
       "      <th>3</th>\n",
       "      <td>1000011046</td>\n",
       "      <td>Community Film Project: The Art of Neighborhoo...</td>\n",
       "      <td>Film &amp; Video</td>\n",
       "      <td>Film &amp; Video</td>\n",
       "      <td>USD</td>\n",
       "      <td>2015-08-29 01:00:00</td>\n",
       "      <td>19500</td>\n",
       "      <td>2015-07-04 08:35:03</td>\n",
       "      <td>1283</td>\n",
       "      <td>canceled</td>\n",
       "      <td>14</td>\n",
       "      <td>US</td>\n",
       "      <td>1283</td>\n",
       "      <td>NaN</td>\n",
       "      <td>NaN</td>\n",
       "      <td>NaN</td>\n",
       "      <td>NaN</td>\n",
       "    </tr>\n",
       "    <tr>\n",
       "      <th>4</th>\n",
       "      <td>1000014025</td>\n",
       "      <td>Monarch Espresso Bar</td>\n",
       "      <td>Restaurants</td>\n",
       "      <td>Food</td>\n",
       "      <td>USD</td>\n",
       "      <td>2016-04-01 13:38:27</td>\n",
       "      <td>50000</td>\n",
       "      <td>2016-02-26 13:38:27</td>\n",
       "      <td>52375</td>\n",
       "      <td>successful</td>\n",
       "      <td>224</td>\n",
       "      <td>US</td>\n",
       "      <td>52375</td>\n",
       "      <td>NaN</td>\n",
       "      <td>NaN</td>\n",
       "      <td>NaN</td>\n",
       "      <td>NaN</td>\n",
       "    </tr>\n",
       "  </tbody>\n",
       "</table>\n",
       "</div>"
      ],
      "text/plain": [
       "          ID                                               name   \\\n",
       "0  1000002330                    The Songs of Adelaide & Abullah   \n",
       "1  1000004038                                     Where is Hank?   \n",
       "2  1000007540  ToshiCapital Rekordz Needs Help to Complete Album   \n",
       "3  1000011046  Community Film Project: The Art of Neighborhoo...   \n",
       "4  1000014025                               Monarch Espresso Bar   \n",
       "\n",
       "        category  main_category  currency             deadline   goal   \\\n",
       "0          Poetry     Publishing       GBP  2015-10-09 11:36:00   1000   \n",
       "1  Narrative Film   Film & Video       USD  2013-02-26 00:20:50  45000   \n",
       "2           Music          Music       USD  2012-04-16 04:24:11   5000   \n",
       "3    Film & Video   Film & Video       USD  2015-08-29 01:00:00  19500   \n",
       "4     Restaurants           Food       USD  2016-04-01 13:38:27  50000   \n",
       "\n",
       "             launched  pledged       state  backers  country  usd pledged   \\\n",
       "0  2015-08-11 12:12:28        0      failed        0       GB            0   \n",
       "1  2013-01-12 00:20:50      220      failed        3       US          220   \n",
       "2  2012-03-17 03:24:11        1      failed        1       US            1   \n",
       "3  2015-07-04 08:35:03     1283    canceled       14       US         1283   \n",
       "4  2016-02-26 13:38:27    52375  successful      224       US        52375   \n",
       "\n",
       "  Unnamed: 13 Unnamed: 14 Unnamed: 15  Unnamed: 16  \n",
       "0         NaN         NaN         NaN          NaN  \n",
       "1         NaN         NaN         NaN          NaN  \n",
       "2         NaN         NaN         NaN          NaN  \n",
       "3         NaN         NaN         NaN          NaN  \n",
       "4         NaN         NaN         NaN          NaN  "
      ]
     },
     "execution_count": 47,
     "metadata": {},
     "output_type": "execute_result"
    }
   ],
   "source": [
    "spravna_sada.head()"
   ]
  },
  {
   "cell_type": "code",
   "execution_count": 48,
   "id": "55cc2bbb-6128-474b-acc4-3b33b4674419",
   "metadata": {
    "tags": []
   },
   "outputs": [
    {
     "name": "stdout",
     "output_type": "stream",
     "text": [
      "<class 'pandas.core.frame.DataFrame'>\n",
      "RangeIndex: 323750 entries, 0 to 323749\n",
      "Data columns (total 17 columns):\n",
      " #   Column          Non-Null Count   Dtype  \n",
      "---  ------          --------------   -----  \n",
      " 0   ID              323750 non-null  int64  \n",
      " 1   name            323746 non-null  object \n",
      " 2   category        323745 non-null  object \n",
      " 3   main_category   323750 non-null  object \n",
      " 4   currency        323750 non-null  object \n",
      " 5   deadline        323750 non-null  object \n",
      " 6   goal            323750 non-null  object \n",
      " 7   launched        323750 non-null  object \n",
      " 8   pledged         323750 non-null  object \n",
      " 9   state           323750 non-null  object \n",
      " 10  backers         323750 non-null  object \n",
      " 11  country         323750 non-null  object \n",
      " 12  usd pledged     319960 non-null  object \n",
      " 13  Unnamed: 13     625 non-null     object \n",
      " 14  Unnamed: 14     12 non-null      object \n",
      " 15  Unnamed: 15     4 non-null       object \n",
      " 16  Unnamed: 16     1 non-null       float64\n",
      "dtypes: float64(1), int64(1), object(15)\n",
      "memory usage: 42.0+ MB\n"
     ]
    }
   ],
   "source": [
    "spravna_sada.info()"
   ]
  },
  {
   "cell_type": "markdown",
   "id": "12ac864a-0514-4468-91bb-5ede17f1942f",
   "metadata": {},
   "source": [
    "<br>\n",
    "\n",
    "Tentokrát soubor otevřeš pouze s varováním.\n",
    "\n",
    "Pro příště je určitě výhodou vytvořit kopii takového souboru, kterou uložíš v ideálním kódování:"
   ]
  },
  {
   "cell_type": "code",
   "execution_count": 49,
   "id": "de6500ef-e7f1-4cdc-99ee-a0320676605b",
   "metadata": {
    "tags": []
   },
   "outputs": [],
   "source": [
    "spravna_sada.to_csv(\"kopie_sada_utf8.csv\", encoding=\"utf-8\")"
   ]
  },
  {
   "cell_type": "code",
   "execution_count": 51,
   "id": "fffd5eb3-a6c8-4cc4-9f89-2895406c3ba3",
   "metadata": {
    "tags": []
   },
   "outputs": [
    {
     "ename": "UnicodeDecodeError",
     "evalue": "'utf-8' codec can't decode byte 0xe9 in position 5: invalid continuation byte",
     "output_type": "error",
     "traceback": [
      "\u001b[0;31m---------------------------------------------------------------------------\u001b[0m",
      "\u001b[0;31mUnicodeDecodeError\u001b[0m                        Traceback (most recent call last)",
      "Cell \u001b[0;32mIn[51], line 1\u001b[0m\n\u001b[0;32m----> 1\u001b[0m pokus \u001b[38;5;241m=\u001b[39m \u001b[43mread_csv\u001b[49m\u001b[43m(\u001b[49m\u001b[38;5;124;43m\"\u001b[39;49m\u001b[38;5;124;43mvzorek_2.csv\u001b[39;49m\u001b[38;5;124;43m\"\u001b[39;49m\u001b[43m)\u001b[49m\n",
      "File \u001b[0;32m~/projects/data-csob-2023/shared/onsite/env/lib/python3.8/site-packages/pandas/util/_decorators.py:211\u001b[0m, in \u001b[0;36mdeprecate_kwarg.<locals>._deprecate_kwarg.<locals>.wrapper\u001b[0;34m(*args, **kwargs)\u001b[0m\n\u001b[1;32m    209\u001b[0m     \u001b[38;5;28;01melse\u001b[39;00m:\n\u001b[1;32m    210\u001b[0m         kwargs[new_arg_name] \u001b[38;5;241m=\u001b[39m new_arg_value\n\u001b[0;32m--> 211\u001b[0m \u001b[38;5;28;01mreturn\u001b[39;00m \u001b[43mfunc\u001b[49m\u001b[43m(\u001b[49m\u001b[38;5;241;43m*\u001b[39;49m\u001b[43margs\u001b[49m\u001b[43m,\u001b[49m\u001b[43m \u001b[49m\u001b[38;5;241;43m*\u001b[39;49m\u001b[38;5;241;43m*\u001b[39;49m\u001b[43mkwargs\u001b[49m\u001b[43m)\u001b[49m\n",
      "File \u001b[0;32m~/projects/data-csob-2023/shared/onsite/env/lib/python3.8/site-packages/pandas/util/_decorators.py:331\u001b[0m, in \u001b[0;36mdeprecate_nonkeyword_arguments.<locals>.decorate.<locals>.wrapper\u001b[0;34m(*args, **kwargs)\u001b[0m\n\u001b[1;32m    325\u001b[0m \u001b[38;5;28;01mif\u001b[39;00m \u001b[38;5;28mlen\u001b[39m(args) \u001b[38;5;241m>\u001b[39m num_allow_args:\n\u001b[1;32m    326\u001b[0m     warnings\u001b[38;5;241m.\u001b[39mwarn(\n\u001b[1;32m    327\u001b[0m         msg\u001b[38;5;241m.\u001b[39mformat(arguments\u001b[38;5;241m=\u001b[39m_format_argument_list(allow_args)),\n\u001b[1;32m    328\u001b[0m         \u001b[38;5;167;01mFutureWarning\u001b[39;00m,\n\u001b[1;32m    329\u001b[0m         stacklevel\u001b[38;5;241m=\u001b[39mfind_stack_level(),\n\u001b[1;32m    330\u001b[0m     )\n\u001b[0;32m--> 331\u001b[0m \u001b[38;5;28;01mreturn\u001b[39;00m \u001b[43mfunc\u001b[49m\u001b[43m(\u001b[49m\u001b[38;5;241;43m*\u001b[39;49m\u001b[43margs\u001b[49m\u001b[43m,\u001b[49m\u001b[43m \u001b[49m\u001b[38;5;241;43m*\u001b[39;49m\u001b[38;5;241;43m*\u001b[39;49m\u001b[43mkwargs\u001b[49m\u001b[43m)\u001b[49m\n",
      "File \u001b[0;32m~/projects/data-csob-2023/shared/onsite/env/lib/python3.8/site-packages/pandas/io/parsers/readers.py:950\u001b[0m, in \u001b[0;36mread_csv\u001b[0;34m(filepath_or_buffer, sep, delimiter, header, names, index_col, usecols, squeeze, prefix, mangle_dupe_cols, dtype, engine, converters, true_values, false_values, skipinitialspace, skiprows, skipfooter, nrows, na_values, keep_default_na, na_filter, verbose, skip_blank_lines, parse_dates, infer_datetime_format, keep_date_col, date_parser, dayfirst, cache_dates, iterator, chunksize, compression, thousands, decimal, lineterminator, quotechar, quoting, doublequote, escapechar, comment, encoding, encoding_errors, dialect, error_bad_lines, warn_bad_lines, on_bad_lines, delim_whitespace, low_memory, memory_map, float_precision, storage_options)\u001b[0m\n\u001b[1;32m    935\u001b[0m kwds_defaults \u001b[38;5;241m=\u001b[39m _refine_defaults_read(\n\u001b[1;32m    936\u001b[0m     dialect,\n\u001b[1;32m    937\u001b[0m     delimiter,\n\u001b[0;32m   (...)\u001b[0m\n\u001b[1;32m    946\u001b[0m     defaults\u001b[38;5;241m=\u001b[39m{\u001b[38;5;124m\"\u001b[39m\u001b[38;5;124mdelimiter\u001b[39m\u001b[38;5;124m\"\u001b[39m: \u001b[38;5;124m\"\u001b[39m\u001b[38;5;124m,\u001b[39m\u001b[38;5;124m\"\u001b[39m},\n\u001b[1;32m    947\u001b[0m )\n\u001b[1;32m    948\u001b[0m kwds\u001b[38;5;241m.\u001b[39mupdate(kwds_defaults)\n\u001b[0;32m--> 950\u001b[0m \u001b[38;5;28;01mreturn\u001b[39;00m \u001b[43m_read\u001b[49m\u001b[43m(\u001b[49m\u001b[43mfilepath_or_buffer\u001b[49m\u001b[43m,\u001b[49m\u001b[43m \u001b[49m\u001b[43mkwds\u001b[49m\u001b[43m)\u001b[49m\n",
      "File \u001b[0;32m~/projects/data-csob-2023/shared/onsite/env/lib/python3.8/site-packages/pandas/io/parsers/readers.py:605\u001b[0m, in \u001b[0;36m_read\u001b[0;34m(filepath_or_buffer, kwds)\u001b[0m\n\u001b[1;32m    602\u001b[0m _validate_names(kwds\u001b[38;5;241m.\u001b[39mget(\u001b[38;5;124m\"\u001b[39m\u001b[38;5;124mnames\u001b[39m\u001b[38;5;124m\"\u001b[39m, \u001b[38;5;28;01mNone\u001b[39;00m))\n\u001b[1;32m    604\u001b[0m \u001b[38;5;66;03m# Create the parser.\u001b[39;00m\n\u001b[0;32m--> 605\u001b[0m parser \u001b[38;5;241m=\u001b[39m \u001b[43mTextFileReader\u001b[49m\u001b[43m(\u001b[49m\u001b[43mfilepath_or_buffer\u001b[49m\u001b[43m,\u001b[49m\u001b[43m \u001b[49m\u001b[38;5;241;43m*\u001b[39;49m\u001b[38;5;241;43m*\u001b[39;49m\u001b[43mkwds\u001b[49m\u001b[43m)\u001b[49m\n\u001b[1;32m    607\u001b[0m \u001b[38;5;28;01mif\u001b[39;00m chunksize \u001b[38;5;129;01mor\u001b[39;00m iterator:\n\u001b[1;32m    608\u001b[0m     \u001b[38;5;28;01mreturn\u001b[39;00m parser\n",
      "File \u001b[0;32m~/projects/data-csob-2023/shared/onsite/env/lib/python3.8/site-packages/pandas/io/parsers/readers.py:1442\u001b[0m, in \u001b[0;36mTextFileReader.__init__\u001b[0;34m(self, f, engine, **kwds)\u001b[0m\n\u001b[1;32m   1439\u001b[0m     \u001b[38;5;28mself\u001b[39m\u001b[38;5;241m.\u001b[39moptions[\u001b[38;5;124m\"\u001b[39m\u001b[38;5;124mhas_index_names\u001b[39m\u001b[38;5;124m\"\u001b[39m] \u001b[38;5;241m=\u001b[39m kwds[\u001b[38;5;124m\"\u001b[39m\u001b[38;5;124mhas_index_names\u001b[39m\u001b[38;5;124m\"\u001b[39m]\n\u001b[1;32m   1441\u001b[0m \u001b[38;5;28mself\u001b[39m\u001b[38;5;241m.\u001b[39mhandles: IOHandles \u001b[38;5;241m|\u001b[39m \u001b[38;5;28;01mNone\u001b[39;00m \u001b[38;5;241m=\u001b[39m \u001b[38;5;28;01mNone\u001b[39;00m\n\u001b[0;32m-> 1442\u001b[0m \u001b[38;5;28mself\u001b[39m\u001b[38;5;241m.\u001b[39m_engine \u001b[38;5;241m=\u001b[39m \u001b[38;5;28;43mself\u001b[39;49m\u001b[38;5;241;43m.\u001b[39;49m\u001b[43m_make_engine\u001b[49m\u001b[43m(\u001b[49m\u001b[43mf\u001b[49m\u001b[43m,\u001b[49m\u001b[43m \u001b[49m\u001b[38;5;28;43mself\u001b[39;49m\u001b[38;5;241;43m.\u001b[39;49m\u001b[43mengine\u001b[49m\u001b[43m)\u001b[49m\n",
      "File \u001b[0;32m~/projects/data-csob-2023/shared/onsite/env/lib/python3.8/site-packages/pandas/io/parsers/readers.py:1753\u001b[0m, in \u001b[0;36mTextFileReader._make_engine\u001b[0;34m(self, f, engine)\u001b[0m\n\u001b[1;32m   1750\u001b[0m     \u001b[38;5;28;01mraise\u001b[39;00m \u001b[38;5;167;01mValueError\u001b[39;00m(msg)\n\u001b[1;32m   1752\u001b[0m \u001b[38;5;28;01mtry\u001b[39;00m:\n\u001b[0;32m-> 1753\u001b[0m     \u001b[38;5;28;01mreturn\u001b[39;00m \u001b[43mmapping\u001b[49m\u001b[43m[\u001b[49m\u001b[43mengine\u001b[49m\u001b[43m]\u001b[49m\u001b[43m(\u001b[49m\u001b[43mf\u001b[49m\u001b[43m,\u001b[49m\u001b[43m \u001b[49m\u001b[38;5;241;43m*\u001b[39;49m\u001b[38;5;241;43m*\u001b[39;49m\u001b[38;5;28;43mself\u001b[39;49m\u001b[38;5;241;43m.\u001b[39;49m\u001b[43moptions\u001b[49m\u001b[43m)\u001b[49m\n\u001b[1;32m   1754\u001b[0m \u001b[38;5;28;01mexcept\u001b[39;00m \u001b[38;5;167;01mException\u001b[39;00m:\n\u001b[1;32m   1755\u001b[0m     \u001b[38;5;28;01mif\u001b[39;00m \u001b[38;5;28mself\u001b[39m\u001b[38;5;241m.\u001b[39mhandles \u001b[38;5;129;01mis\u001b[39;00m \u001b[38;5;129;01mnot\u001b[39;00m \u001b[38;5;28;01mNone\u001b[39;00m:\n",
      "File \u001b[0;32m~/projects/data-csob-2023/shared/onsite/env/lib/python3.8/site-packages/pandas/io/parsers/c_parser_wrapper.py:79\u001b[0m, in \u001b[0;36mCParserWrapper.__init__\u001b[0;34m(self, src, **kwds)\u001b[0m\n\u001b[1;32m     76\u001b[0m     kwds\u001b[38;5;241m.\u001b[39mpop(key, \u001b[38;5;28;01mNone\u001b[39;00m)\n\u001b[1;32m     78\u001b[0m kwds[\u001b[38;5;124m\"\u001b[39m\u001b[38;5;124mdtype\u001b[39m\u001b[38;5;124m\"\u001b[39m] \u001b[38;5;241m=\u001b[39m ensure_dtype_objs(kwds\u001b[38;5;241m.\u001b[39mget(\u001b[38;5;124m\"\u001b[39m\u001b[38;5;124mdtype\u001b[39m\u001b[38;5;124m\"\u001b[39m, \u001b[38;5;28;01mNone\u001b[39;00m))\n\u001b[0;32m---> 79\u001b[0m \u001b[38;5;28mself\u001b[39m\u001b[38;5;241m.\u001b[39m_reader \u001b[38;5;241m=\u001b[39m \u001b[43mparsers\u001b[49m\u001b[38;5;241;43m.\u001b[39;49m\u001b[43mTextReader\u001b[49m\u001b[43m(\u001b[49m\u001b[43msrc\u001b[49m\u001b[43m,\u001b[49m\u001b[43m \u001b[49m\u001b[38;5;241;43m*\u001b[39;49m\u001b[38;5;241;43m*\u001b[39;49m\u001b[43mkwds\u001b[49m\u001b[43m)\u001b[49m\n\u001b[1;32m     81\u001b[0m \u001b[38;5;28mself\u001b[39m\u001b[38;5;241m.\u001b[39munnamed_cols \u001b[38;5;241m=\u001b[39m \u001b[38;5;28mself\u001b[39m\u001b[38;5;241m.\u001b[39m_reader\u001b[38;5;241m.\u001b[39munnamed_cols\n\u001b[1;32m     83\u001b[0m \u001b[38;5;66;03m# error: Cannot determine type of 'names'\u001b[39;00m\n",
      "File \u001b[0;32m~/projects/data-csob-2023/shared/onsite/env/lib/python3.8/site-packages/pandas/_libs/parsers.pyx:547\u001b[0m, in \u001b[0;36mpandas._libs.parsers.TextReader.__cinit__\u001b[0;34m()\u001b[0m\n",
      "File \u001b[0;32m~/projects/data-csob-2023/shared/onsite/env/lib/python3.8/site-packages/pandas/_libs/parsers.pyx:636\u001b[0m, in \u001b[0;36mpandas._libs.parsers.TextReader._get_header\u001b[0;34m()\u001b[0m\n",
      "File \u001b[0;32m~/projects/data-csob-2023/shared/onsite/env/lib/python3.8/site-packages/pandas/_libs/parsers.pyx:852\u001b[0m, in \u001b[0;36mpandas._libs.parsers.TextReader._tokenize_rows\u001b[0;34m()\u001b[0m\n",
      "File \u001b[0;32m~/projects/data-csob-2023/shared/onsite/env/lib/python3.8/site-packages/pandas/_libs/parsers.pyx:1965\u001b[0m, in \u001b[0;36mpandas._libs.parsers.raise_parser_error\u001b[0;34m()\u001b[0m\n",
      "\u001b[0;31mUnicodeDecodeError\u001b[0m: 'utf-8' codec can't decode byte 0xe9 in position 5: invalid continuation byte"
     ]
    }
   ],
   "source": [
    "pokus = read_csv(\"vzorek_2.csv\")"
   ]
  },
  {
   "cell_type": "code",
   "execution_count": 50,
   "id": "3d2df3e8-503a-48ba-8808-f02fc5d72a22",
   "metadata": {
    "tags": []
   },
   "outputs": [
    {
     "name": "stdout",
     "output_type": "stream",
     "text": [
      "{'encoding': 'Windows-1252', 'confidence': 0.7299788775910958, 'language': ''}\n"
     ]
    }
   ],
   "source": [
    "for line in open(\"vzorek_2.csv\", 'rb'):\n",
    "    detector.feed(line)\n",
    "    if detector.done:\n",
    "        break\n",
    "\n",
    "detector.close()\n",
    "print(detector.result)"
   ]
  },
  {
   "cell_type": "code",
   "execution_count": 58,
   "id": "9854f9de-3dec-4c13-aafe-d581df756993",
   "metadata": {
    "tags": []
   },
   "outputs": [],
   "source": [
    "pokus_2 = read_csv(\"vzorek_2.csv\", encoding=\"Windows-1252\", delimiter=\";\")"
   ]
  },
  {
   "cell_type": "code",
   "execution_count": 60,
   "id": "49e754d0-a544-4980-aa97-a95701f91454",
   "metadata": {
    "tags": []
   },
   "outputs": [
    {
     "data": {
      "text/html": [
       "<div>\n",
       "<style scoped>\n",
       "    .dataframe tbody tr th:only-of-type {\n",
       "        vertical-align: middle;\n",
       "    }\n",
       "\n",
       "    .dataframe tbody tr th {\n",
       "        vertical-align: top;\n",
       "    }\n",
       "\n",
       "    .dataframe thead th {\n",
       "        text-align: right;\n",
       "    }\n",
       "</style>\n",
       "<table border=\"1\" class=\"dataframe\">\n",
       "  <thead>\n",
       "    <tr style=\"text-align: right;\">\n",
       "      <th></th>\n",
       "      <th>ID</th>\n",
       "      <th>Jmeno</th>\n",
       "      <th>Prijmeni</th>\n",
       "      <th>Vek</th>\n",
       "    </tr>\n",
       "  </thead>\n",
       "  <tbody>\n",
       "    <tr>\n",
       "      <th>0</th>\n",
       "      <td>123124.0</td>\n",
       "      <td>Matouš</td>\n",
       "      <td>Polek</td>\n",
       "      <td>24</td>\n",
       "    </tr>\n",
       "    <tr>\n",
       "      <th>1</th>\n",
       "      <td>123125.0</td>\n",
       "      <td>Marek</td>\n",
       "      <td>Lolek</td>\n",
       "      <td>33</td>\n",
       "    </tr>\n",
       "    <tr>\n",
       "      <th>2</th>\n",
       "      <td>123126.0</td>\n",
       "      <td>Petr</td>\n",
       "      <td>Dolek</td>\n",
       "      <td>90</td>\n",
       "    </tr>\n",
       "    <tr>\n",
       "      <th>3</th>\n",
       "      <td>123127.0</td>\n",
       "      <td>Filip</td>\n",
       "      <td>Vdolek</td>\n",
       "      <td>11</td>\n",
       "    </tr>\n",
       "    <tr>\n",
       "      <th>4</th>\n",
       "      <td>123128.0</td>\n",
       "      <td>Marcel</td>\n",
       "      <td>Trolek</td>\n",
       "      <td>27</td>\n",
       "    </tr>\n",
       "    <tr>\n",
       "      <th>5</th>\n",
       "      <td>123129.0</td>\n",
       "      <td>Lukáš</td>\n",
       "      <td>Colek</td>\n",
       "      <td>17</td>\n",
       "    </tr>\n",
       "  </tbody>\n",
       "</table>\n",
       "</div>"
      ],
      "text/plain": [
       "         ID   Jmeno Prijmeni  Vek\n",
       "0  123124.0  Matouš    Polek   24\n",
       "1  123125.0   Marek    Lolek   33\n",
       "2  123126.0    Petr    Dolek   90\n",
       "3  123127.0   Filip   Vdolek   11\n",
       "4  123128.0  Marcel   Trolek   27\n",
       "5  123129.0   Lukáš    Colek   17"
      ]
     },
     "execution_count": 60,
     "metadata": {},
     "output_type": "execute_result"
    }
   ],
   "source": [
    "pokus_2.head(6)"
   ]
  },
  {
   "cell_type": "markdown",
   "id": "fa4c9f93-7d08-45e8-b1c4-22e478998342",
   "metadata": {
    "tags": []
   },
   "source": [
    "<br>\n",
    "\n",
    "## Nekonzistentní data\n",
    "\n",
    "---"
   ]
  },
  {
   "cell_type": "markdown",
   "id": "6542fd12-2b4f-4d4a-86ff-33fb4596bb38",
   "metadata": {},
   "source": [
    "Pokud ti data nechybí, ještě neznamená, že musí být nutně v pořádku:"
   ]
  },
  {
   "cell_type": "code",
   "execution_count": 64,
   "id": "9718bd4b-bb4a-40bb-9593-2ff21c75deb4",
   "metadata": {
    "tags": []
   },
   "outputs": [],
   "source": [
    "from pandas import DataFrame"
   ]
  },
  {
   "cell_type": "code",
   "execution_count": 69,
   "id": "86caa08e-086e-4317-9307-a0baa37ad45d",
   "metadata": {
    "tags": []
   },
   "outputs": [],
   "source": [
    "chybny_dataset = {\n",
    "    \"id\": [111, 112, 113, 114, 115, 116],\n",
    "    \"jmeno\": [\"Matous\", \"Marek\", \"Petr\", \"Filip\", \"Jan\", \"Lukas\"],\n",
    "    \"vek\": [22, 29, 31, 55, 43, 61],\n",
    "    \"zeme\": [\"Ceska republika\", \"Slovensko\", \"Nemecko\", \"Ceskarepublika\", \"Ceska republika\", \"Rakouskou\"]\n",
    "}"
   ]
  },
  {
   "cell_type": "code",
   "execution_count": 70,
   "id": "2f82d0b1-88bf-49e8-a7c2-b28259f5b3f3",
   "metadata": {
    "tags": []
   },
   "outputs": [],
   "source": [
    "df_zamestnanci = DataFrame(chybny_dataset)"
   ]
  },
  {
   "cell_type": "code",
   "execution_count": 71,
   "id": "3e2d3e1e-1226-4d77-a8e5-9970ca5b372d",
   "metadata": {
    "tags": []
   },
   "outputs": [
    {
     "data": {
      "text/html": [
       "<div>\n",
       "<style scoped>\n",
       "    .dataframe tbody tr th:only-of-type {\n",
       "        vertical-align: middle;\n",
       "    }\n",
       "\n",
       "    .dataframe tbody tr th {\n",
       "        vertical-align: top;\n",
       "    }\n",
       "\n",
       "    .dataframe thead th {\n",
       "        text-align: right;\n",
       "    }\n",
       "</style>\n",
       "<table border=\"1\" class=\"dataframe\">\n",
       "  <thead>\n",
       "    <tr style=\"text-align: right;\">\n",
       "      <th></th>\n",
       "      <th>id</th>\n",
       "      <th>jmeno</th>\n",
       "      <th>vek</th>\n",
       "      <th>zeme</th>\n",
       "    </tr>\n",
       "  </thead>\n",
       "  <tbody>\n",
       "    <tr>\n",
       "      <th>0</th>\n",
       "      <td>111</td>\n",
       "      <td>Matous</td>\n",
       "      <td>22</td>\n",
       "      <td>Ceska republika</td>\n",
       "    </tr>\n",
       "    <tr>\n",
       "      <th>1</th>\n",
       "      <td>112</td>\n",
       "      <td>Marek</td>\n",
       "      <td>29</td>\n",
       "      <td>Slovensko</td>\n",
       "    </tr>\n",
       "    <tr>\n",
       "      <th>2</th>\n",
       "      <td>113</td>\n",
       "      <td>Petr</td>\n",
       "      <td>31</td>\n",
       "      <td>Nemecko</td>\n",
       "    </tr>\n",
       "    <tr>\n",
       "      <th>3</th>\n",
       "      <td>114</td>\n",
       "      <td>Filip</td>\n",
       "      <td>55</td>\n",
       "      <td>Ceskarepublika</td>\n",
       "    </tr>\n",
       "    <tr>\n",
       "      <th>4</th>\n",
       "      <td>115</td>\n",
       "      <td>Jan</td>\n",
       "      <td>43</td>\n",
       "      <td>Ceska republika</td>\n",
       "    </tr>\n",
       "  </tbody>\n",
       "</table>\n",
       "</div>"
      ],
      "text/plain": [
       "    id   jmeno  vek             zeme\n",
       "0  111  Matous   22  Ceska republika\n",
       "1  112   Marek   29        Slovensko\n",
       "2  113    Petr   31          Nemecko\n",
       "3  114   Filip   55   Ceskarepublika\n",
       "4  115     Jan   43  Ceska republika"
      ]
     },
     "execution_count": 71,
     "metadata": {},
     "output_type": "execute_result"
    }
   ],
   "source": [
    "df_zamestnanci.head()"
   ]
  },
  {
   "cell_type": "markdown",
   "id": "b5ee1ae7-7332-43e8-a1a2-06958dc68dfc",
   "metadata": {},
   "source": [
    "Různé zdroje, správci můžou způsobit nejednotný zápis a dopustit se *nekonzistence*."
   ]
  },
  {
   "cell_type": "code",
   "execution_count": 68,
   "id": "f6868cbe-cc6d-4e1b-93f4-ffa4b0453b2d",
   "metadata": {
    "tags": []
   },
   "outputs": [
    {
     "data": {
      "text/plain": [
       "array(['Ceska republika', 'Slovensko', 'Nemecko', 'ceskarepublika',\n",
       "       'Rakouskou'], dtype=object)"
      ]
     },
     "execution_count": 68,
     "metadata": {},
     "output_type": "execute_result"
    }
   ],
   "source": [
    "df_zamestnanci[\"zeme\"].unique()"
   ]
  },
  {
   "cell_type": "markdown",
   "id": "9166d33d-7f61-4fd2-95d4-b52d6955342a",
   "metadata": {},
   "source": [
    "<br>\n",
    "\n",
    "To můžou být jak malá velká písmena, tak různé znaky, chybějící mezery apod.\n",
    "\n",
    "Odstranit je není náročné.\n",
    "\n",
    "Náročné může být opět rozpoznání, takové komplikace."
   ]
  },
  {
   "cell_type": "code",
   "execution_count": 72,
   "id": "69f93841-b899-4a7f-a939-2c2e18548058",
   "metadata": {
    "tags": []
   },
   "outputs": [
    {
     "data": {
      "text/plain": [
       "0    ceska republika\n",
       "1          slovensko\n",
       "2            nemecko\n",
       "3     ceskarepublika\n",
       "4    ceska republika\n",
       "5          rakouskou\n",
       "Name: zeme, dtype: object"
      ]
     },
     "execution_count": 72,
     "metadata": {},
     "output_type": "execute_result"
    }
   ],
   "source": [
    "df_zamestnanci[\"zeme\"].str.lower()"
   ]
  },
  {
   "cell_type": "markdown",
   "id": "583fd726-2e31-44dc-8c65-1ccd52aeb218",
   "metadata": {},
   "source": [
    "<br>\n",
    "\n",
    "Některé chyby, ale můžou způsobit paseku. Třeba chybějící mezery.\n",
    "\n",
    "Tady je nejlepší, pomoci si vhodným nástrojem `fuzzywuzzy`."
   ]
  },
  {
   "cell_type": "code",
   "execution_count": 73,
   "id": "dcdef953-fb71-44c9-aa66-cf42da2e84d9",
   "metadata": {
    "tags": []
   },
   "outputs": [
    {
     "name": "stdout",
     "output_type": "stream",
     "text": [
      "Collecting fuzzywuzzy\n",
      "  Downloading fuzzywuzzy-0.18.0-py2.py3-none-any.whl (18 kB)\n",
      "Installing collected packages: fuzzywuzzy\n",
      "Successfully installed fuzzywuzzy-0.18.0\n"
     ]
    }
   ],
   "source": [
    "!pip install fuzzywuzzy"
   ]
  },
  {
   "cell_type": "code",
   "execution_count": 77,
   "id": "fe38c2f0-c672-4b31-9fda-c1144559e007",
   "metadata": {
    "tags": []
   },
   "outputs": [
    {
     "name": "stderr",
     "output_type": "stream",
     "text": [
      "/home/matous/projects/data-csob-2023/shared/onsite/env/lib/python3.8/site-packages/fuzzywuzzy/fuzz.py:11: UserWarning: Using slow pure-python SequenceMatcher. Install python-Levenshtein to remove this warning\n",
      "  warnings.warn('Using slow pure-python SequenceMatcher. Install python-Levenshtein to remove this warning')\n"
     ]
    }
   ],
   "source": [
    "import fuzzywuzzy\n",
    "from fuzzywuzzy import process"
   ]
  },
  {
   "cell_type": "markdown",
   "id": "7df96790-5617-4161-b620-17dad29468b8",
   "metadata": {},
   "source": [
    "Pro menší datasety s chybějícími mezerami aj., může tato knihovna pracovat prakticky sama.\n",
    "\n",
    "Účel této knihovny je rozpoznat podobné řetězce, jaké"
   ]
  },
  {
   "cell_type": "code",
   "execution_count": 78,
   "id": "616c0fb0-ebd3-451e-a838-eef1e83d5ea3",
   "metadata": {
    "tags": []
   },
   "outputs": [],
   "source": [
    "shodne = fuzzywuzzy.process.extract(\n",
    "    \"Ceska republika\",\n",
    "    df_zamestnanci[\"zeme\"],\n",
    "    limit=5,\n",
    "    scorer=fuzzywuzzy.fuzz.token_sort_ratio\n",
    ")"
   ]
  },
  {
   "cell_type": "code",
   "execution_count": 79,
   "id": "b5302f5b-9709-479c-b65e-3ff18e883234",
   "metadata": {
    "tags": []
   },
   "outputs": [
    {
     "data": {
      "text/plain": [
       "[('Ceska republika', 100, 0),\n",
       " ('Ceska republika', 100, 4),\n",
       " ('Ceskarepublika', 97, 3),\n",
       " ('Slovensko', 25, 1),\n",
       " ('Rakouskou', 25, 5)]"
      ]
     },
     "execution_count": 79,
     "metadata": {},
     "output_type": "execute_result"
    }
   ],
   "source": [
    "shodne"
   ]
  },
  {
   "cell_type": "markdown",
   "id": "787338f0-fc8d-4983-b008-87777e469c62",
   "metadata": {},
   "source": [
    "Nyní můžeš vidět shodné `str` se zvoleným zadáním, jak to vidí `fuzzywuzzy`.\n",
    "\n",
    "Pro nahrazení je optimální nachystat vhodnou uživatelskou funkci:"
   ]
  },
  {
   "cell_type": "code",
   "execution_count": 84,
   "id": "1134d0a2-6498-4b55-b8d0-48f2297345d1",
   "metadata": {
    "tags": []
   },
   "outputs": [],
   "source": [
    "def nahrad_shody_stringem(dframe, sloupec, vzor, min_shoda=60):\n",
    "    vsechny_stringy = dframe[sloupec].unique()\n",
    "    \n",
    "    shody = fuzzywuzzy.process.extract(vzor, vsechny_stringy, limit=5,\n",
    "                                       scorer=fuzzywuzzy.fuzz.token_sort_ratio)\n",
    "    \n",
    "    nejblizsi_shoda = [shoda [0] for shoda in shody if shoda[1] >= min_shoda]\n",
    "    \n",
    "    shodujici_zaznam = dframe[sloupec].isin(nejblizsi_shoda)\n",
    "    dframe.loc[shodujici_zaznam, sloupec] = vzor"
   ]
  },
  {
   "cell_type": "code",
   "execution_count": 85,
   "id": "a1996a49-d0f0-4150-a06f-88657b40f05b",
   "metadata": {
    "tags": []
   },
   "outputs": [],
   "source": [
    "nahrad_shody_stringem(dframe=df_zamestnanci, sloupec=\"zeme\", vzor=\"Ceska republika\")"
   ]
  },
  {
   "cell_type": "code",
   "execution_count": 86,
   "id": "ee6dfae2-63b0-4d35-8ccb-4079cb176178",
   "metadata": {
    "tags": []
   },
   "outputs": [
    {
     "data": {
      "text/html": [
       "<div>\n",
       "<style scoped>\n",
       "    .dataframe tbody tr th:only-of-type {\n",
       "        vertical-align: middle;\n",
       "    }\n",
       "\n",
       "    .dataframe tbody tr th {\n",
       "        vertical-align: top;\n",
       "    }\n",
       "\n",
       "    .dataframe thead th {\n",
       "        text-align: right;\n",
       "    }\n",
       "</style>\n",
       "<table border=\"1\" class=\"dataframe\">\n",
       "  <thead>\n",
       "    <tr style=\"text-align: right;\">\n",
       "      <th></th>\n",
       "      <th>id</th>\n",
       "      <th>jmeno</th>\n",
       "      <th>vek</th>\n",
       "      <th>zeme</th>\n",
       "    </tr>\n",
       "  </thead>\n",
       "  <tbody>\n",
       "    <tr>\n",
       "      <th>0</th>\n",
       "      <td>111</td>\n",
       "      <td>Matous</td>\n",
       "      <td>22</td>\n",
       "      <td>Ceska republika</td>\n",
       "    </tr>\n",
       "    <tr>\n",
       "      <th>1</th>\n",
       "      <td>112</td>\n",
       "      <td>Marek</td>\n",
       "      <td>29</td>\n",
       "      <td>Slovensko</td>\n",
       "    </tr>\n",
       "    <tr>\n",
       "      <th>2</th>\n",
       "      <td>113</td>\n",
       "      <td>Petr</td>\n",
       "      <td>31</td>\n",
       "      <td>Nemecko</td>\n",
       "    </tr>\n",
       "    <tr>\n",
       "      <th>3</th>\n",
       "      <td>114</td>\n",
       "      <td>Filip</td>\n",
       "      <td>55</td>\n",
       "      <td>Ceska republika</td>\n",
       "    </tr>\n",
       "    <tr>\n",
       "      <th>4</th>\n",
       "      <td>115</td>\n",
       "      <td>Jan</td>\n",
       "      <td>43</td>\n",
       "      <td>Ceska republika</td>\n",
       "    </tr>\n",
       "    <tr>\n",
       "      <th>5</th>\n",
       "      <td>116</td>\n",
       "      <td>Lukas</td>\n",
       "      <td>61</td>\n",
       "      <td>Rakouskou</td>\n",
       "    </tr>\n",
       "  </tbody>\n",
       "</table>\n",
       "</div>"
      ],
      "text/plain": [
       "    id   jmeno  vek             zeme\n",
       "0  111  Matous   22  Ceska republika\n",
       "1  112   Marek   29        Slovensko\n",
       "2  113    Petr   31          Nemecko\n",
       "3  114   Filip   55  Ceska republika\n",
       "4  115     Jan   43  Ceska republika\n",
       "5  116   Lukas   61        Rakouskou"
      ]
     },
     "execution_count": 86,
     "metadata": {},
     "output_type": "execute_result"
    }
   ],
   "source": [
    "df_zamestnanci"
   ]
  },
  {
   "cell_type": "code",
   "execution_count": null,
   "id": "e124c1e3-6e59-4a75-a1c9-d62e4f86bf65",
   "metadata": {},
   "outputs": [],
   "source": []
  },
  {
   "cell_type": "markdown",
   "id": "8b23dd89-62ee-446a-8de8-d3be043aec81",
   "metadata": {},
   "source": [
    "<br>\n",
    "\n",
    "**🧠 CVIČENÍ 🧠, procvič si práci s chybným datasetem**"
   ]
  },
  {
   "cell_type": "markdown",
   "id": "fca2282e-5370-4524-9f2e-c75f7a728162",
   "metadata": {},
   "source": [
    "Analyzuj prodeje produktu ve fiktivní společnosti během jednoho roku a zjisti následující:\n",
    "1. Nahraj soubor do `DataFrame`, jméno souboru `cviceni_3.csv` (správný encoding, správné rozdělení),\n",
    "2. projdi sloupce, zkontroluj, kde je problém s daty,\n",
    "3. vypiš všechny záznamy, které mají ve sloupci `mesto` hodnotu `Praha`."
   ]
  },
  {
   "cell_type": "markdown",
   "id": "43487b1b-91ee-4308-9c39-672290741eab",
   "metadata": {},
   "source": [
    "<details>\n",
    "    <summary>▶️ Řešení</summary>\n",
    "    \n",
    "    ```python\n",
    "    df_ukazka = read_csv(\"cviceni_3.csv\", encoding=\"Windows-1250\", delimiter=\";\")\n",
    "\n",
    "    def nahrad_shody_stringem(df, vzor, vyber, min_shoda=85):\n",
    "        shody = fuzzywuzzy.process.extract(vzor, vyber, limit=20,\n",
    "                                           scorer=fuzzywuzzy.fuzz.token_sort_ratio)\n",
    "\n",
    "        nejblizsi_shoda = [shoda[0] for shoda in shody if shoda[1] >= min_shoda]\n",
    "\n",
    "        shodujici_zaznam = vyber.isin(nejblizsi_shoda)\n",
    "        df.loc[shodujici_zaznam, \"mesto\"] = vzor\n",
    "        \n",
    "    nahrad_shody_stringem(df_ukazka, \"Praha\", df_ukazka[\"mesto\"])\n",
    "    vystup = df_ukazka[df_ukazka[\"mesto\"] == \"Praha\"]\n",
    "    ```\n",
    "</details>"
   ]
  },
  {
   "cell_type": "markdown",
   "id": "09459713-4521-4110-b322-028aef4d5602",
   "metadata": {},
   "source": [
    "---"
   ]
  }
 ],
 "metadata": {
  "kernelspec": {
   "display_name": "Python 3 (ipykernel)",
   "language": "python",
   "name": "python3"
  },
  "language_info": {
   "codemirror_mode": {
    "name": "ipython",
    "version": 3
   },
   "file_extension": ".py",
   "mimetype": "text/x-python",
   "name": "python",
   "nbconvert_exporter": "python",
   "pygments_lexer": "ipython3",
   "version": "3.8.10"
  }
 },
 "nbformat": 4,
 "nbformat_minor": 5
}

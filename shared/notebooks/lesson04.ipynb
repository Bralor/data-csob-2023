{
 "cells": [
  {
   "cell_type": "markdown",
   "id": "considerable-pharmacy",
   "metadata": {},
   "source": [
    "### čtvrtá lekce\n",
    "\n",
    "2. `pandas` II.,\n",
    "    - file io, encoding, chybějící data,\n",
    "    - kombinace datasetů, concat, append, merge, join,\n",
    "    - časové řady, možná?\n",
    "    - eval() a query() jako high-perf operace."
   ]
  },
  {
   "cell_type": "code",
   "execution_count": null,
   "id": "seventh-slope",
   "metadata": {},
   "outputs": [],
   "source": []
  },
  {
   "cell_type": "markdown",
   "id": "74d216f1-a8c0-4c0a-b5a3-f5493d358b3a",
   "metadata": {},
   "source": [
    "### třetí lekce\n",
    "\n",
    "2. `pandas` I.,\n",
    "    - Úvod do frameworku, proč je dobré jej ovládat, kde s ním pracovat?\n",
    "    - jaké jsou základní datové typy? (Dframe, series, časové řady)\n",
    "    - základní orientace, indexování,"
   ]
  },
  {
   "cell_type": "markdown",
   "id": "bc531598-e255-40ca-b850-88082a3c13a9",
   "metadata": {},
   "source": [
    "## Druhá lekce, kaggle\n",
    "* reading and writting DFs,\n",
    "* indexing, selecting rows & columns, conditional selection,\n",
    "* functions, map and lambdas,\n",
    "* groupby, multiindex, sorting values,\n",
    "* data types or Dtypes, convert data types,\n",
    "* missing values, fillna, replace,\n",
    "* rename, merge, join, concat.\n",
    "* missing data points, the reason why are the data missing, drop missing values, filling missing vals,\n",
    "* scaling: changing the range, normalization: changing shape,\n",
    "* parsing dates, selecting days,\n",
    "* encoding: what are encodings, encode, decode, identifying and saving examples,\n",
    "* inconsistency: fuzzywuzzy"
   ]
  },
  {
   "cell_type": "markdown",
   "id": "96dad93f-5286-4623-acb6-0f62df970e44",
   "metadata": {
    "jp-MarkdownHeadingCollapsed": true,
    "tags": []
   },
   "source": [
    "## Druhá lekce, kniha\n",
    "* pandas objects: DFs, Series, Index,\n",
    "* indexing and selection: series, DFs,\n",
    "* operating: w/ numpy (hard to implement without numpy),\n",
    "* handling missing data: Nan and None in pandas,detecting, droping, filling null values,\n",
    "* indexing: single index, multiple indexes(bad and good example), indexing and slicing multiindex,\n",
    "* concat, append, merge, join,\n",
    "* agregation: count, first, last, mean, median, min, max,\n",
    "* groupBy: split, apply, combine,\n",
    "* pivot table, methods similar to python methods, regex finding,slice & other miscellaneous methods,\n",
    "* Time series, to_datetime, data structures of time series, date_range, period_range, timedelta_range,\n",
    "* frenquencies & offsets, resampling, time shifting,\n",
    "* eval and query, comparing eval and without eval,\n"
   ]
  },
  {
   "cell_type": "markdown",
   "id": "99248570-90cd-4f93-bacf-c9f14c77d0d8",
   "metadata": {},
   "source": [
    "## Druhá lekce, Honza\n",
    "* manipulace, úvod, instalace,\n",
    "* DataFrame,\n",
    "* Series,\n",
    "* Načítání dat,\n",
    "* selekce dat,\n",
    "* indexování, loc a iloc,\n",
    "* přejmenování, přidávání, odstraňování sloupců,\n",
    "* Nan, null, nahrazování,\n",
    "* concat, merge, drop_duplicates, sort_values,\n",
    "* unique, apply,\n",
    "* kopie a práce s kopiemi,\n",
    "* statistika,\n",
    "* čtení dat online,"
   ]
  },
  {
   "cell_type": "markdown",
   "id": "0d977140-145d-4ca5-8ff3-d1bccf42457e",
   "metadata": {},
   "source": [
    "* [High performance](),\n",
    "    - [úvodní motivace](),\n",
    "    - [eval](),\n",
    "    - [query](),\n",
    "    - [caveats]()."
   ]
  },
  {
   "cell_type": "markdown",
   "id": "c67464b1-a8e4-40f9-8d2e-7a99b5a76065",
   "metadata": {},
   "source": [
    "## funkce EVAL"
   ]
  },
  {
   "cell_type": "markdown",
   "id": "519553b4-f81c-44bc-bb23-5509ededa043",
   "metadata": {},
   "source": [
    "Funkce eval() v knihovně pandas slouží k efektivnímu vyhodnocení aritmetických výrazů na pandas DataFrame nebo Series objektech. Její největší výhodou je rychlost a efektivita, která spočívá v minimalizaci paměťové zátěže a zrychlení operací.\n",
    "\n",
    "Když pracujete s velkými datovými sadami, paměťová zátěž a rychlost se stávají klíčovými faktory. Funkce eval() optimalizuje výpočetní proces tím, že snižuje množství alokované paměti a zrychluje výpočetní operace.\n",
    "\n",
    "Ukázka použití funkce eval() v pandas:"
   ]
  },
  {
   "cell_type": "code",
   "execution_count": null,
   "id": "ddc7b5ae-19b4-45f2-84f1-518f6ea801d9",
   "metadata": {},
   "outputs": [],
   "source": [
    "import pandas as pd\n",
    "\n",
    "# Vytvoření vzorového DataFrame\n",
    "data = {'A': [1, 2, 3, 4, 5],\n",
    "        'B': [6, 7, 8, 9, 10],\n",
    "        'C': [11, 12, 13, 14, 15]}\n",
    "\n",
    "df = pd.DataFrame(data)\n",
    "\n",
    "# Výpočet nového sloupce 'D' pomocí funkce eval()\n",
    "df['D'] = df.eval('A + B * C')\n",
    "print(df)\n"
   ]
  },
  {
   "cell_type": "code",
   "execution_count": null,
   "id": "5e503b82-d213-426b-b8e1-217a0cbc435a",
   "metadata": {},
   "outputs": [],
   "source": [
    "Alternativní způsob, jak provést stejný výpočet bez použití funkce eval(), je následující:"
   ]
  },
  {
   "cell_type": "code",
   "execution_count": null,
   "id": "23ff44dd-357e-4958-9307-46afaeae4062",
   "metadata": {},
   "outputs": [],
   "source": [
    "df['D'] = df['A'] + df['B'] * df['C']\n"
   ]
  },
  {
   "cell_type": "code",
   "execution_count": null,
   "id": "e55bf94b-d31c-48f4-aeb8-5576b4da188a",
   "metadata": {},
   "outputs": [],
   "source": [
    "Avšak v případě velkých datových sad nebo složitějších výrazů může být použití funkce eval() výhodnější z hlediska rychlosti a paměťové efektivity."
   ]
  },
  {
   "cell_type": "code",
   "execution_count": null,
   "id": "a63a99f4-f630-4453-8e15-a4ad6e6adc1b",
   "metadata": {},
   "outputs": [],
   "source": []
  },
  {
   "cell_type": "code",
   "execution_count": null,
   "id": "e85cb979-65cc-4e27-a9ae-355abdda7eeb",
   "metadata": {},
   "outputs": [],
   "source": []
  },
  {
   "cell_type": "code",
   "execution_count": null,
   "id": "b36e8d82-f756-4042-9cd6-e39115037a15",
   "metadata": {},
   "outputs": [],
   "source": []
  },
  {
   "cell_type": "code",
   "execution_count": null,
   "id": "dbe788f7-03e3-4451-9fb8-c7ad9e82fb2d",
   "metadata": {},
   "outputs": [],
   "source": []
  },
  {
   "cell_type": "code",
   "execution_count": null,
   "id": "2586300c-9e13-47fe-adfa-dd1ce2552df6",
   "metadata": {},
   "outputs": [],
   "source": []
  },
  {
   "cell_type": "code",
   "execution_count": null,
   "id": "5a15dd54-cca5-443d-b781-3311c4d000cb",
   "metadata": {},
   "outputs": [],
   "source": []
  }
 ],
 "metadata": {
  "kernelspec": {
   "display_name": "Python 3 (ipykernel)",
   "language": "python",
   "name": "python3"
  },
  "language_info": {
   "codemirror_mode": {
    "name": "ipython",
    "version": 3
   },
   "file_extension": ".py",
   "mimetype": "text/x-python",
   "name": "python",
   "nbconvert_exporter": "python",
   "pygments_lexer": "ipython3",
   "version": "3.8.10"
  }
 },
 "nbformat": 4,
 "nbformat_minor": 5
}

{
 "cells": [
  {
   "cell_type": "markdown",
   "id": "considerable-pharmacy",
   "metadata": {},
   "source": [
    "### čtvrtá lekce\n",
    "\n",
    "2. `pandas` II.,\n",
    "    - file io, encoding, chybějící data,\n",
    "    - kombinace datasetů, concat, append, merge, join,\n",
    "    - časové řady, možná?\n",
    "    - eval() a query() jako high-perf operace."
   ]
  },
  {
   "cell_type": "code",
   "execution_count": null,
   "id": "seventh-slope",
   "metadata": {},
   "outputs": [],
   "source": []
  },
  {
   "cell_type": "markdown",
   "id": "74d216f1-a8c0-4c0a-b5a3-f5493d358b3a",
   "metadata": {},
   "source": [
    "### třetí lekce\n",
    "\n",
    "2. `pandas` I.,\n",
    "    - Úvod do frameworku, proč je dobré jej ovládat, kde s ním pracovat?\n",
    "    - jaké jsou základní datové typy? (Dframe, series, časové řady)\n",
    "    - základní orientace, indexování,"
   ]
  },
  {
   "cell_type": "markdown",
   "id": "bc531598-e255-40ca-b850-88082a3c13a9",
   "metadata": {},
   "source": [
    "## Druhá lekce, kaggle\n",
    "* reading and writting DFs,\n",
    "* indexing, selecting rows & columns, conditional selection,\n",
    "* functions, map and lambdas,\n",
    "* groupby, multiindex, sorting values,\n",
    "* data types or Dtypes, convert data types,\n",
    "* missing values, fillna, replace,\n",
    "* rename, merge, join, concat.\n",
    "* missing data points, the reason why are the data missing, drop missing values, filling missing vals,\n",
    "* scaling: changing the range, normalization: changing shape,\n",
    "* parsing dates, selecting days,\n",
    "* encoding: what are encodings, encode, decode, identifying and saving examples,\n",
    "* inconsistency: fuzzywuzzy"
   ]
  },
  {
   "cell_type": "markdown",
   "id": "96dad93f-5286-4623-acb6-0f62df970e44",
   "metadata": {
    "jp-MarkdownHeadingCollapsed": true,
    "tags": []
   },
   "source": [
    "## Druhá lekce, kniha\n",
    "* pandas objects: DFs, Series, Index,\n",
    "* indexing and selection: series, DFs,\n",
    "* operating: w/ numpy (hard to implement without numpy),\n",
    "* handling missing data: Nan and None in pandas,detecting, droping, filling null values,\n",
    "* indexing: single index, multiple indexes(bad and good example), indexing and slicing multiindex,\n",
    "* concat, append, merge, join,\n",
    "* agregation: count, first, last, mean, median, min, max,\n",
    "* groupBy: split, apply, combine,\n",
    "* pivot table, methods similar to python methods, regex finding,slice & other miscellaneous methods,\n",
    "* Time series, to_datetime, data structures of time series, date_range, period_range, timedelta_range,\n",
    "* frenquencies & offsets, resampling, time shifting,\n",
    "* eval and query, comparing eval and without eval,\n"
   ]
  },
  {
   "cell_type": "markdown",
   "id": "99248570-90cd-4f93-bacf-c9f14c77d0d8",
   "metadata": {},
   "source": [
    "## Druhá lekce, Honza\n",
    "* manipulace, úvod, instalace,\n",
    "* DataFrame,\n",
    "* Series,\n",
    "* Načítání dat,\n",
    "* selekce dat,\n",
    "* indexování, loc a iloc,\n",
    "* přejmenování, přidávání, odstraňování sloupců,\n",
    "* Nan, null, nahrazování,\n",
    "* concat, merge, drop_duplicates, sort_values,\n",
    "* unique, apply,\n",
    "* kopie a práce s kopiemi,\n",
    "* statistika,\n",
    "* čtení dat online,"
   ]
  },
  {
   "cell_type": "code",
   "execution_count": null,
   "id": "f6c89fd8-7448-47ee-86e2-7b193b876255",
   "metadata": {},
   "outputs": [],
   "source": []
  },
  {
   "cell_type": "markdown",
   "id": "3ac6884d-bca7-45c4-8351-4131f2f48572",
   "metadata": {},
   "source": [
    "<br>\n",
    "\n",
    "## Časové řady\n",
    "\n",
    "---\n",
    "\n",
    "<img src=\"https://external-content.duckduckgo.com/iu/?u=https%3A%2F%2Ftse1.mm.bing.net%2Fth%3Fid%3DOIP.odqbr-09dxxBQjF7x7NyBAHaII%26pid%3DApi&f=1&ipt=5b4a03c1dd38b52108237102ebb350595a5d6ea6a50572f5897ca89fbf5b5445&ipo=images\" width=\"160\" style=\"margin-left:auto; margin-right:auto\"/>"
   ]
  },
  {
   "cell_type": "markdown",
   "id": "eeb7bf9c-d886-491f-a38b-954ea9ef4c17",
   "metadata": {
    "tags": []
   },
   "source": [
    "Část *frameworku* byla vyvinuta za účelem **finančního modelování**.\n",
    "\n",
    "Proto je více než dobře vybavena sadou nástrojů, které umí pracovat **s daty, časem a časovými objekty**.\n",
    "\n",
    "<br>\n",
    "\n",
    "Uplatnění:\n",
    "* **Analýza a predikce**: Časové řady umožňují analyzovat vývoj hodnot v čase a předpovídat budoucí trendy nebo sezónní změny. To je klíčové v oblastech jako finance, ekonomika, prodej, počasí a mnoho dalších.\n",
    "\n",
    "* **Efektivní manipulace s časem**: Pandas poskytuje nástroje pro efektivní práci s časovými řadami, což zjednodušuje úkoly, jako je agregace, interpolace nebo časové posuny. Díky integrovaným funkcím můžete snadno pracovat s daty různých časových frekvencí a konvertovat mezi nimi.\n",
    "\n",
    "* **Časově závislé analýzy**: Časové řady umožňují provádět časově závislé analýzy, jako je detekce změn v trendech, identifikace sezónních vlivů nebo identifikace časových závislostí mezi proměnnými.\n",
    "\n",
    "* **Flexibilní indexace**: Pandas podporuje flexibilní indexaci časových řad, což usnadňuje filtrování, řazení a výběr dat na základě časových značek nebo rozsahů.\n",
    "\n",
    "* **Kompatibilita s dalšími knihovnami**: Pandas je kompatibilní s mnoha dalšími knihovnami pro analýzu časových řad, jako je statsmodels nebo scikit-learn. To usnadňuje integraci a rozšíření vašich analýz s pokročilejšími metodami a algoritmy.\n",
    "    \n",
    "<br>\n",
    "\n",
    "Jde například o údaje typu:\n",
    "* *timestampy*, údaj odkazující na konkrétní časový okamžik (např. `4. července 2015 v 7:00 hod.`),\n",
    "* *časové intervaly*, tedy období odkazují na délku času mezi konkrétním začátkem a koncem (např. intervaly ze dne na den),\n",
    "* *time delta* objekty, tedy přesné délky času (např. 22,22 sekundy)."
   ]
  },
  {
   "cell_type": "markdown",
   "id": "f9542756-cb5d-462e-a667-e2c0313db6ba",
   "metadata": {},
   "source": [
    "#### Data a čas v Pythonu\n",
    "\n",
    "---"
   ]
  },
  {
   "cell_type": "markdown",
   "id": "8f89d05f-af3a-49c8-9072-2a7f527cf4de",
   "metadata": {},
   "source": [
    "Standardní výbavou Pythonu jsou knihovny `datetime`:"
   ]
  },
  {
   "cell_type": "code",
   "execution_count": null,
   "id": "d0a194fe-fac0-42ae-a6c5-4770aa439395",
   "metadata": {
    "tags": []
   },
   "outputs": [],
   "source": [
    "from datetime import datetime"
   ]
  },
  {
   "cell_type": "code",
   "execution_count": null,
   "id": "ade4d2d7-0b0b-4151-af65-70951feaf8ce",
   "metadata": {
    "tags": []
   },
   "outputs": [],
   "source": [
    "datetime(year=2023, month=4, day=5)"
   ]
  },
  {
   "cell_type": "markdown",
   "id": "1ea4fa9f-987f-423b-85c3-b5e42d6aaa2b",
   "metadata": {},
   "source": [
    "<br>\n",
    "\n",
    "Nebo knihovna `dateutil` pro parsování datových typů z různých stringových zadání:"
   ]
  },
  {
   "cell_type": "code",
   "execution_count": null,
   "id": "cf54882c-2d33-4c82-bef2-459ed78b8df9",
   "metadata": {
    "tags": []
   },
   "outputs": [],
   "source": [
    "from dateutil import parser"
   ]
  },
  {
   "cell_type": "code",
   "execution_count": null,
   "id": "452e9eec-a77a-4d7f-9e1c-886c1152fd11",
   "metadata": {
    "tags": []
   },
   "outputs": [],
   "source": [
    "date = parser.parse(\"5th of april, 2023\")"
   ]
  },
  {
   "cell_type": "code",
   "execution_count": null,
   "id": "22c01da0-e255-4338-b5b7-394bfa866883",
   "metadata": {
    "tags": []
   },
   "outputs": [],
   "source": [
    "date"
   ]
  },
  {
   "cell_type": "markdown",
   "id": "658dc0e1-86e6-4042-b2db-2d2d3b48bb44",
   "metadata": {},
   "source": [
    "Kde pomocí metody `strftime` můžeš vypsat den:"
   ]
  },
  {
   "cell_type": "code",
   "execution_count": null,
   "id": "d28e3912-30c2-4b38-818e-afd8b36aa6ad",
   "metadata": {
    "tags": []
   },
   "outputs": [],
   "source": [
    "date.strftime(\"%A\")"
   ]
  },
  {
   "cell_type": "markdown",
   "id": "fb75c6fb-9757-4b53-a611-9bfd67b899e8",
   "metadata": {},
   "source": [
    "#### Data a čas v numpy\n",
    "\n",
    "---"
   ]
  },
  {
   "cell_type": "markdown",
   "id": "6bd35fe3-af1f-4c54-b206-158c3a3691f2",
   "metadata": {},
   "source": [
    "Některé nedostatky uvnitř knihoven `datetime` a `dateutil` vedli ke vzniku sady nástrojů.\n",
    "\n",
    "Tyto doplňky vznikly pod hlavičkou knihovny `numpy`."
   ]
  },
  {
   "cell_type": "code",
   "execution_count": null,
   "id": "951d10ff-5615-4fdd-b776-d07be4e8fbed",
   "metadata": {
    "tags": []
   },
   "outputs": [],
   "source": [
    "from numpy import array, arange"
   ]
  },
  {
   "cell_type": "code",
   "execution_count": null,
   "id": "ace452d7-3323-4d8c-a289-1b9d3bde2906",
   "metadata": {
    "tags": []
   },
   "outputs": [],
   "source": [
    "date = array('2023-04-05', dtype=np.datetime64)"
   ]
  },
  {
   "cell_type": "code",
   "execution_count": null,
   "id": "29f0009b-bfc0-45d5-93db-a4f2544e000a",
   "metadata": {
    "tags": []
   },
   "outputs": [],
   "source": [
    "date"
   ]
  },
  {
   "cell_type": "markdown",
   "id": "02f3b981-0e8a-460b-aa4e-1e736149ffdb",
   "metadata": {},
   "source": [
    "<br>\n",
    "\n",
    "Pokud potřebuješ pole následujících 7 dní:"
   ]
  },
  {
   "cell_type": "code",
   "execution_count": null,
   "id": "6e41ecfd-cca7-4cc9-b3c5-e890b7a41eea",
   "metadata": {
    "tags": []
   },
   "outputs": [],
   "source": [
    "date + arange(7)"
   ]
  },
  {
   "cell_type": "markdown",
   "id": "684eaa2a-abb4-4a0a-8463-2ddea8cd96b3",
   "metadata": {
    "tags": []
   },
   "source": [
    "<br>\n",
    "\n",
    "Vzhledem k jednotnému datovu typu v poli pro **numpy** `datetime64` může tento typ operace\n",
    "provádět mnohem rychleji, než přímo v Pythonu `datetime` objekty, zejména když objekty nabývají na velikosti."
   ]
  },
  {
   "cell_type": "markdown",
   "id": "f948c02f-728a-4a62-85d5-6d4f16cf91f7",
   "metadata": {},
   "source": [
    "#### Data a čas v pandách\n",
    "\n",
    "---"
   ]
  },
  {
   "cell_type": "markdown",
   "id": "7f86fbaf-813e-44ac-8917-235ea2966fee",
   "metadata": {
    "tags": []
   },
   "source": [
    "Jde o kombinace objektů z obou předchozích podkapitol.\n",
    "\n",
    "Ty dávají dohromady to nejlepší prostředky pro zacházení s časem."
   ]
  },
  {
   "cell_type": "code",
   "execution_count": null,
   "id": "7d095458-75e4-44fb-baf1-06d379db7736",
   "metadata": {
    "tags": []
   },
   "outputs": [],
   "source": [
    "from pandas import to_datetime"
   ]
  },
  {
   "cell_type": "code",
   "execution_count": null,
   "id": "3cd1aaf4-eca0-4f2b-8bd8-5a52fbfd4637",
   "metadata": {
    "tags": []
   },
   "outputs": [],
   "source": [
    "date = to_datetime(\"5th of April, 2023\")"
   ]
  },
  {
   "cell_type": "code",
   "execution_count": null,
   "id": "ec88920f-7144-447a-aef4-85e6842b43f7",
   "metadata": {
    "tags": []
   },
   "outputs": [],
   "source": [
    "date"
   ]
  },
  {
   "cell_type": "code",
   "execution_count": null,
   "id": "30f7fff2-9795-46af-b97a-06cd4ff4962a",
   "metadata": {
    "tags": []
   },
   "outputs": [],
   "source": [
    "date.strftime(\"%A\")"
   ]
  },
  {
   "cell_type": "markdown",
   "id": "046bc9ce-237a-4dda-a865-e5f4fe34e752",
   "metadata": {},
   "source": [
    "<br>\n",
    "\n",
    "### Časové řady\n",
    "\n",
    "---"
   ]
  },
  {
   "cell_type": "markdown",
   "id": "9b41d767-bb42-4b56-b559-17f50a40e78c",
   "metadata": {},
   "source": [
    "V podstatě jde o hlavní nástroj, který tato knihovna dovede nabídnout.\n",
    "\n",
    "#### Indexovní časem\n",
    "`DatetimeIndex` obsahuje časové značky (*timestamp*), které jsou uloženy ve formátu `datetime64` s nanosekundovou přesností.\n",
    "\n",
    "Tento objekt umožňuje efektivní práci s časovými řadami a poskytuje mnoho funkcí pro manipulaci s daty a časy.\n",
    "\n",
    "Výhody práce s `DatetimeIndex` objektem:\n",
    "* Časové zóny,\n",
    "* frekvence,\n",
    "* časově závislé selekce,\n",
    "* atributy časových značek,\n",
    "* operace s časem."
   ]
  },
  {
   "cell_type": "code",
   "execution_count": null,
   "id": "60eeeebc-9171-4e69-813b-22f660d41767",
   "metadata": {
    "tags": []
   },
   "outputs": [],
   "source": [
    "from pandas import DatetimeIndex, Series"
   ]
  },
  {
   "cell_type": "code",
   "execution_count": null,
   "id": "99a7e6c3-7d28-4902-83d6-bab5c54c0ccc",
   "metadata": {
    "tags": []
   },
   "outputs": [],
   "source": [
    "datumy = [\"2023-04-05\", \"2022-04-05\", \"2021-04-05\", \"2020-04-05\"]"
   ]
  },
  {
   "cell_type": "code",
   "execution_count": null,
   "id": "1de25773-7754-4c66-8f32-df03bc6b0521",
   "metadata": {
    "tags": []
   },
   "outputs": [],
   "source": [
    "indexy = DatetimeIndex(datumy)"
   ]
  },
  {
   "cell_type": "code",
   "execution_count": null,
   "id": "f4215e08-b7af-4ec2-9c3a-1bb2705fdf78",
   "metadata": {
    "tags": []
   },
   "outputs": [],
   "source": [
    "hodnoty = [to_datetime(den).strftime(\"%A\") for den in datumy]"
   ]
  },
  {
   "cell_type": "code",
   "execution_count": null,
   "id": "22cc433c-dad1-4cff-a19d-04b1cbf65de0",
   "metadata": {
    "tags": []
   },
   "outputs": [],
   "source": [
    "df_hodnoty = Series(hodnoty, index=indexy)"
   ]
  },
  {
   "cell_type": "code",
   "execution_count": null,
   "id": "624a6fd9-07f1-4bac-8a28-25a369ef2119",
   "metadata": {
    "tags": []
   },
   "outputs": [],
   "source": [
    "df_hodnoty"
   ]
  },
  {
   "cell_type": "code",
   "execution_count": null,
   "id": "8b7364a9-02ae-4f73-a70e-2a5500b32729",
   "metadata": {
    "tags": []
   },
   "outputs": [],
   "source": [
    "type(indexy)"
   ]
  },
  {
   "cell_type": "code",
   "execution_count": null,
   "id": "a70446ce-26e6-4515-8bae-a230a0c0cefe",
   "metadata": {
    "tags": []
   },
   "outputs": [],
   "source": [
    "df_hodnoty[\"2020\": \"2022\"]"
   ]
  },
  {
   "cell_type": "markdown",
   "id": "c5b6856b-0bc8-4141-8cbc-8a9b7311eb9e",
   "metadata": {},
   "source": [
    "<br>\n",
    "\n",
    "### Základní objekty\n",
    "\n",
    "---\n",
    "\n",
    "Mezi základní objekty pro práci s časem patří:\n",
    "* `Timestamp` typ (související struktura Indexu `DatetimeIndex`,\n",
    "* `Period` typ (.. `PeriodIndex`),\n",
    "* `Timedelta` typ (.. `TimedeltaIndex`)."
   ]
  },
  {
   "cell_type": "markdown",
   "id": "b1cc5efa-3139-4b95-9ac9-241d4c87199d",
   "metadata": {},
   "source": [
    "#### Timestamp & DatetimeIndex\n",
    "\n",
    "Nejčastější datové typy, které lze vyvolat přímo, ovšem běžnější je pracovat s funkcí `to_datetime`.\n",
    "\n",
    "Funkce `to_datetime` umí parsovat různé stringové formáty."
   ]
  },
  {
   "cell_type": "code",
   "execution_count": null,
   "id": "adec7acd-20a5-4a56-8140-98171c7f0885",
   "metadata": {
    "tags": []
   },
   "outputs": [],
   "source": [
    "from pandas import to_datetime"
   ]
  },
  {
   "cell_type": "markdown",
   "id": "5a914035-5051-4b6b-9f5e-9b989606c04d",
   "metadata": {},
   "source": [
    "#### Práce s jedním datumem"
   ]
  },
  {
   "cell_type": "code",
   "execution_count": null,
   "id": "26fb0d39-b8d8-4df9-9536-1d7dc4a7a26b",
   "metadata": {
    "tags": []
   },
   "outputs": [],
   "source": [
    "datum = to_datetime(\"05/04/2023\")"
   ]
  },
  {
   "cell_type": "code",
   "execution_count": null,
   "id": "6daacedb-f084-447a-9121-e68aea27fa67",
   "metadata": {
    "tags": []
   },
   "outputs": [],
   "source": [
    "datum"
   ]
  },
  {
   "cell_type": "code",
   "execution_count": null,
   "id": "a3a71b46-eb51-4f1c-bb01-5bca9b8541bf",
   "metadata": {
    "tags": []
   },
   "outputs": [],
   "source": [
    "type(datum)"
   ]
  },
  {
   "cell_type": "markdown",
   "id": "8ed2c0db-56f2-4650-a488-425d637d7096",
   "metadata": {},
   "source": [
    "Pokud do funkce `to_datetime` vložíš jedinou hodnotu, vrací objekty typu `Timestamp`."
   ]
  },
  {
   "cell_type": "markdown",
   "id": "20d80be0-fb71-4e5a-a870-3405a70991a3",
   "metadata": {},
   "source": [
    "<br>\n",
    "\n",
    "#### Specifický formát"
   ]
  },
  {
   "cell_type": "markdown",
   "id": "50ca9f50-f80d-45b5-9b2b-377d5dff7775",
   "metadata": {},
   "source": [
    "Pokud se parser ztratí nebo tvoje zadání neodpovídá jeho vyhotovení:"
   ]
  },
  {
   "cell_type": "code",
   "execution_count": null,
   "id": "ef6c013a-f5d1-49f2-97b9-76a199860034",
   "metadata": {
    "tags": []
   },
   "outputs": [],
   "source": [
    "pd.to_datetime(\"12-11-2010 00:00\", format=\"%d-%m-%Y %H:%M\")"
   ]
  },
  {
   "cell_type": "markdown",
   "id": "2f9e3749-24c8-47a6-999f-6608cbca194d",
   "metadata": {},
   "source": [
    "<br>\n",
    "\n",
    "#### Práce s několika datumy"
   ]
  },
  {
   "cell_type": "code",
   "execution_count": null,
   "id": "0485d2db-fef1-4949-aee4-44621b04c99b",
   "metadata": {
    "tags": []
   },
   "outputs": [],
   "source": [
    "datumy = to_datetime([\n",
    "    datetime(2023, 4, 5), \"5th of April 2023\", \"2023-Apr-5\", \"05-04-2023\", \"20230405\"]\n",
    ")"
   ]
  },
  {
   "cell_type": "code",
   "execution_count": null,
   "id": "a66f0d07-e6ce-4215-8d27-06b943c9ce03",
   "metadata": {
    "tags": []
   },
   "outputs": [],
   "source": [
    "datumy"
   ]
  },
  {
   "cell_type": "code",
   "execution_count": null,
   "id": "b09d8517-b186-48e9-90d5-2c0e3c18a42f",
   "metadata": {
    "tags": []
   },
   "outputs": [],
   "source": [
    "type(datumy)"
   ]
  },
  {
   "cell_type": "markdown",
   "id": "398cdf52-c51b-45cb-b28d-92a8f88450d4",
   "metadata": {},
   "source": [
    "Zatímco pole hodnot s datumy, které funkce `to_datetime` zpracuje vrací objekt typu `DatetimeIndex`."
   ]
  },
  {
   "cell_type": "markdown",
   "id": "1abc3650-44d8-4c81-8008-2b725745d26c",
   "metadata": {},
   "source": [
    "<br>\n",
    "\n",
    "Objekt `DatetimeIndex` potom můžeš konvertovat na `PeriodIndex` pomocí *metody* `to_period`:"
   ]
  },
  {
   "cell_type": "code",
   "execution_count": null,
   "id": "69fab45e-b3ce-4339-b19e-206094cc772d",
   "metadata": {
    "tags": []
   },
   "outputs": [],
   "source": [
    "datumy.to_period?"
   ]
  },
  {
   "cell_type": "markdown",
   "id": "87f61609-e5ab-4239-9d88-20b88f423e19",
   "metadata": {},
   "source": [
    "<br>\n",
    "\n",
    "Tato metoda je užitečná, pokud chcete převést časové řady **na určité časové období**.\n",
    "\n",
    "Když budeš třeba potřebovat převést hodnoty **z denních dat na měsíční data**."
   ]
  },
  {
   "cell_type": "markdown",
   "id": "1816df76-13e9-466e-9870-db1a78a59d0a",
   "metadata": {},
   "source": [
    "#### Denní data"
   ]
  },
  {
   "cell_type": "code",
   "execution_count": null,
   "id": "1895f60c-e502-4774-beb9-879cc9ce14a7",
   "metadata": {
    "tags": []
   },
   "outputs": [],
   "source": [
    "datumy.to_period(\"D\")"
   ]
  },
  {
   "cell_type": "markdown",
   "id": "c3dc0b4b-39a7-4e98-be9c-79033712c7de",
   "metadata": {},
   "source": [
    "#### Měsíční data"
   ]
  },
  {
   "cell_type": "code",
   "execution_count": null,
   "id": "2e5ad75b-4fd1-4440-9e97-7103071881c0",
   "metadata": {
    "tags": []
   },
   "outputs": [],
   "source": [
    "datumy.to_period(\"M\")"
   ]
  },
  {
   "cell_type": "code",
   "execution_count": null,
   "id": "30185bce-790c-4e54-a875-60ff0235d47f",
   "metadata": {
    "tags": []
   },
   "outputs": [],
   "source": [
    "data = {\n",
    "    'date': pd.date_range(start='2022-01-01', periods=10, freq='D'),\n",
    "    'sales': [100, 102, 105, 107, 110, 112, 115, 117, 120, 122]\n",
    "}"
   ]
  },
  {
   "cell_type": "code",
   "execution_count": null,
   "id": "6ca14750-9cb0-4ec3-a907-8f6f96aa3d1f",
   "metadata": {
    "tags": []
   },
   "outputs": [],
   "source": [
    "df = pd.DataFrame(data)"
   ]
  },
  {
   "cell_type": "code",
   "execution_count": null,
   "id": "02ad7d9b-fb68-4450-b1db-52dbf02b70ec",
   "metadata": {
    "tags": []
   },
   "outputs": [],
   "source": [
    "df.set_index('date', inplace=True)"
   ]
  },
  {
   "cell_type": "code",
   "execution_count": null,
   "id": "6f08f86d-35db-4cc1-901a-a58090cef872",
   "metadata": {
    "tags": []
   },
   "outputs": [],
   "source": [
    "df_period = df.to_period(freq='Y')"
   ]
  },
  {
   "cell_type": "markdown",
   "id": "3a81a152-9474-4144-aaea-e636837262e4",
   "metadata": {},
   "source": [
    "<br>\n",
    "\n",
    "### TimedeltaIndex\n",
    "\n",
    "---\n",
    "\n",
    "Jde o rozdíl v jednotkách času.\n",
    "\n",
    "Nejčastěji se s tímto objektem setkáš, pokud potřebuješ získat **rozdíl mezi dvěma datumy**."
   ]
  },
  {
   "cell_type": "code",
   "execution_count": null,
   "id": "5b1fbc8d-03eb-4fcd-bd6d-ebc260757c34",
   "metadata": {
    "tags": []
   },
   "outputs": [],
   "source": [
    "specialni_datumy = to_datetime([\n",
    "    datetime(2022, 4, 5), \"5th of April 2021\", \"2020-Apr-5\", \"05-04-2019\", \"20180405\"]\n",
    ")"
   ]
  },
  {
   "cell_type": "code",
   "execution_count": null,
   "id": "74c7e266-a391-4a0d-935f-f16ed1fdfc78",
   "metadata": {
    "tags": []
   },
   "outputs": [],
   "source": [
    "datumy - specialni_datumy"
   ]
  },
  {
   "cell_type": "markdown",
   "id": "61341cec-4332-4b2d-96c2-80b90412aadb",
   "metadata": {},
   "source": [
    "<br>\n",
    "\n",
    "### Funkce `date_range`\n",
    "\n",
    "---\n",
    "\n",
    "Aby bylo zadání řady (sekvence) dat pohodlnější, vyzkoušej funkci `date_range`.\n",
    "\n",
    "Obdobně potom pracují související funkce:\n",
    "* `date_range`, timestampy,\n",
    "* `period_range`, periody,\n",
    "* `timedelta_range`, pro delty."
   ]
  },
  {
   "cell_type": "code",
   "execution_count": null,
   "id": "f65dbd82-0557-4426-baf8-8be7eaaa28f9",
   "metadata": {
    "tags": []
   },
   "outputs": [],
   "source": [
    "from pandas import date_range"
   ]
  },
  {
   "cell_type": "markdown",
   "id": "660a2db5-b2e7-4a86-862c-8a7df9601da4",
   "metadata": {},
   "source": [
    "<br>\n",
    "\n",
    "#### Počet period"
   ]
  },
  {
   "cell_type": "code",
   "execution_count": null,
   "id": "ba9c46b2-30e9-4b5d-bc8a-76d5c9265cb4",
   "metadata": {
    "tags": []
   },
   "outputs": [],
   "source": [
    "datumy_ind = date_range(\"01-01-1992\", periods=8)"
   ]
  },
  {
   "cell_type": "code",
   "execution_count": null,
   "id": "082c41cf-947e-4b1a-892a-86f9ebeb19db",
   "metadata": {
    "tags": []
   },
   "outputs": [],
   "source": [
    "datumy_ind"
   ]
  },
  {
   "cell_type": "markdown",
   "id": "0be34411-4c4b-45ff-b2cf-175d343b903f",
   "metadata": {},
   "source": [
    "<br>\n",
    "\n",
    "#### Frekvence"
   ]
  },
  {
   "cell_type": "code",
   "execution_count": null,
   "id": "b67392de-ea40-44d3-83ed-39739ad5a8ec",
   "metadata": {
    "tags": []
   },
   "outputs": [],
   "source": [
    "datumy_mesicne_ind = date_range(\"01-01-1992\", periods=8, freq=\"M\")"
   ]
  },
  {
   "cell_type": "code",
   "execution_count": null,
   "id": "bbf13f30-b13f-46cf-ab94-648f43e978af",
   "metadata": {
    "tags": []
   },
   "outputs": [],
   "source": [
    "datumy_mesicne_ind"
   ]
  },
  {
   "cell_type": "markdown",
   "id": "62fbb90d-dc45-4935-ad5e-87beaae4cbb4",
   "metadata": {},
   "source": [
    "<br>\n",
    "\n",
    "#### Hodinové periody"
   ]
  },
  {
   "cell_type": "code",
   "execution_count": null,
   "id": "e599a9eb-ebff-4b15-81eb-447a56d49f2a",
   "metadata": {
    "tags": []
   },
   "outputs": [],
   "source": [
    "from pandas import timedelta_range"
   ]
  },
  {
   "cell_type": "code",
   "execution_count": null,
   "id": "23e2cdfa-41a7-46f2-860a-76f473801c66",
   "metadata": {
    "tags": []
   },
   "outputs": [],
   "source": [
    "hodinove_ind = timedelta_range(0, periods=12, freq=\"H\")"
   ]
  },
  {
   "cell_type": "code",
   "execution_count": null,
   "id": "8ca56f2c-855a-4ac7-acde-c19a5700b3ba",
   "metadata": {
    "tags": []
   },
   "outputs": [],
   "source": [
    "hodinove_ind"
   ]
  },
  {
   "cell_type": "markdown",
   "id": "1f8b2bf6-5315-48c0-8437-18e59eda686d",
   "metadata": {},
   "source": [
    "<br>\n",
    "\n",
    "### Frekvence\n",
    "\n",
    "Časovou paletou frekvencí, kterou framework `pandas` nabízí je tato tabulka:\n",
    "\n",
    "| String | Popisek |\n",
    "| :-: | :- |\n",
    "| `D` | kalendářní den |\n",
    "| `W` | týden |\n",
    "| `M` | konec měsíce |\n",
    "| `Q` | konec čtvrtletí |\n",
    "| `A` | konec roku |\n",
    "| `H` | hodiny |\n",
    "| `T` | minuty |\n",
    "| `S` | vteřiny |\n",
    "| `B` | pracovní den |\n",
    "| `BM` | konec pracovníḧo měsíce |\n",
    "| `BQ` | konec pracovního čtvrtletí |"
   ]
  },
  {
   "cell_type": "markdown",
   "id": "db3d9da8-d3f8-4ae6-8d2f-3edb8574b186",
   "metadata": {},
   "source": [
    "#### Netradiční frekvence"
   ]
  },
  {
   "cell_type": "code",
   "execution_count": null,
   "id": "d018ea20-0961-4ebd-a8dd-1e89caba59af",
   "metadata": {
    "tags": []
   },
   "outputs": [],
   "source": [
    "timedelta_range(0, periods=5, freq=\"1H15T\")"
   ]
  },
  {
   "cell_type": "code",
   "execution_count": null,
   "id": "3ef01fc0-0311-4b87-91fc-61e00b1bfc06",
   "metadata": {},
   "outputs": [],
   "source": []
  },
  {
   "cell_type": "markdown",
   "id": "7154ef39-450f-47ea-bb3f-51f3613b6b1f",
   "metadata": {},
   "source": [
    "### Resampling\n",
    "\n",
    "---"
   ]
  },
  {
   "cell_type": "markdown",
   "id": "144866e7-de13-48c1-9e27-49108965d248",
   "metadata": {},
   "source": [
    "*Resampling* nebo také *převzorkování* je proces, který upravuje frekvenci časové řady.\n",
    "\n",
    "*Resampling* se obvykle používá **pro snížení frekvence** (z hodinových dat na denní data).\n",
    "\n",
    "*Resampling* zahrnuje *agregaci* dat.\n",
    "\n",
    "V `pandas` se k tomu používá metoda `resample`, která má jako parametr novou frekvenci, na kterou chcete data převést:"
   ]
  },
  {
   "cell_type": "code",
   "execution_count": null,
   "id": "783a0792-0546-4641-8b70-1dd2d384f919",
   "metadata": {
    "tags": []
   },
   "outputs": [],
   "source": [
    "import pandas as pd"
   ]
  },
  {
   "cell_type": "code",
   "execution_count": null,
   "id": "a6e3221e-4a66-4585-8433-d931b29eedd3",
   "metadata": {
    "tags": []
   },
   "outputs": [],
   "source": [
    "data = {\n",
    "    'date': pd.date_range(start='2022-01-01', periods=60, freq='D'),\n",
    "    'sales': range(60)\n",
    "}"
   ]
  },
  {
   "cell_type": "code",
   "execution_count": null,
   "id": "90e40d75-86f7-4bbd-b6be-19aaa370cfae",
   "metadata": {
    "tags": []
   },
   "outputs": [],
   "source": [
    "df = pd.DataFrame(data)"
   ]
  },
  {
   "cell_type": "code",
   "execution_count": null,
   "id": "89ae8368-296a-4c78-bddc-9f4058cc38af",
   "metadata": {
    "tags": []
   },
   "outputs": [],
   "source": [
    "df.set_index('date', inplace=True)"
   ]
  },
  {
   "cell_type": "code",
   "execution_count": null,
   "id": "f433910a-60e8-49c4-a495-34defb5e572a",
   "metadata": {
    "tags": []
   },
   "outputs": [],
   "source": [
    "monthly_data = df.resample('M').sum()"
   ]
  },
  {
   "cell_type": "code",
   "execution_count": null,
   "id": "fa2ab3fb-2050-477a-bb65-67ec2c7fb628",
   "metadata": {
    "tags": []
   },
   "outputs": [],
   "source": [
    "print(monthly_data)"
   ]
  },
  {
   "cell_type": "markdown",
   "id": "06c9c436-31c9-4c45-b476-54aee90b667b",
   "metadata": {},
   "source": [
    "<br>\n",
    "\n",
    "### Zpřesňování\n",
    "\n",
    "---\n",
    "\n",
    "Zahrnuje **zvýšení frekvence časových řad**.\n",
    "\n",
    "Přičemž se nově vytvořené hodnoty obvykle interpolují nebo doplňují nějakou konstantou.\n",
    "\n",
    "V pandas se k zpřesňování používá metoda `asfreq`, která má jako parametr novou frekvenci, na kterou chcete data převést."
   ]
  },
  {
   "cell_type": "code",
   "execution_count": null,
   "id": "a360f1ee-1871-42f0-a1c6-017a65c47da0",
   "metadata": {
    "tags": []
   },
   "outputs": [],
   "source": [
    "data = {\n",
    "    'date': pd.date_range(start='2022-01-01', end='2022-03-01', freq='MS'),\n",
    "    'sales': [100, 120, 150]\n",
    "}"
   ]
  },
  {
   "cell_type": "code",
   "execution_count": null,
   "id": "8bb26986-014a-49f6-b162-62e0444fdf1d",
   "metadata": {
    "tags": []
   },
   "outputs": [],
   "source": [
    "df = pd.DataFrame(data)"
   ]
  },
  {
   "cell_type": "code",
   "execution_count": null,
   "id": "b75e046e-03f7-4df8-890b-67567dcf04ac",
   "metadata": {
    "tags": []
   },
   "outputs": [],
   "source": [
    "df.head()"
   ]
  },
  {
   "cell_type": "code",
   "execution_count": null,
   "id": "a0f57b73-df38-4415-b974-fb337bea7349",
   "metadata": {
    "tags": []
   },
   "outputs": [],
   "source": [
    "df.set_index('date', inplace=True)"
   ]
  },
  {
   "cell_type": "code",
   "execution_count": null,
   "id": "fd3cb029-525b-431e-93b0-037522c587ca",
   "metadata": {
    "tags": []
   },
   "outputs": [],
   "source": [
    "daily_data = df.asfreq('D', method='ffill')"
   ]
  },
  {
   "cell_type": "code",
   "execution_count": null,
   "id": "5f21141b-5879-41c6-a872-cc3ddc30cb05",
   "metadata": {
    "tags": []
   },
   "outputs": [],
   "source": [
    "daily_data.head(20)"
   ]
  },
  {
   "cell_type": "markdown",
   "id": "8470d91b-8e95-4eaf-ab74-6d16046f2676",
   "metadata": {},
   "source": [
    "Metoda `asfreq` bere jako parametr novou frekvenci, na kterou chceme data převést.\n",
    "\n",
    "V případě výše jde o frekvenci `D`, což znamená **denní data**.\n",
    "\n",
    "Protože při zpřesňování se **vytvoří chybějící hodnoty** (v důsledku zvýšení frekvence), je potřeba zvolit metodu pro jejich doplnění.\n",
    "\n",
    "Výš jde o metodu `forward fill` (parametr `method='ffill'`), která kopíruje předchozí hodnotu pro výplň chybějících hodnot.\n",
    "\n",
    "Další možností je použít metodu `'back fill'` (parametr `method='bfill'`), která kopíruje následující hodnotu pro výplň chybějících hodnot."
   ]
  },
  {
   "cell_type": "markdown",
   "id": "22e40a97-0dad-46f6-8cb0-746f4a240094",
   "metadata": {},
   "source": [
    "<br>\n",
    "\n",
    "**🧠 CVIČENÍ 🧠, procvič si časové řady**"
   ]
  },
  {
   "cell_type": "markdown",
   "id": "705605d9-b8f4-436a-9352-98b9e0f8680b",
   "metadata": {},
   "source": [
    "Analyzuj prodeje produktu ve fiktivní společnosti během jednoho roku a zjisti následující:\n",
    "1. Celkový prodej za každý měsíc.\n",
    "2. Průměrný prodej za každý den v týdnu.\n",
    "3. Denní prodej za poslední týden."
   ]
  },
  {
   "cell_type": "code",
   "execution_count": 133,
   "id": "917dbcf7-06e1-4957-ab6f-a9b0366b7ce8",
   "metadata": {
    "tags": []
   },
   "outputs": [],
   "source": [
    "from numpy.random import randint\n",
    "from pandas import date_range, DataFrame\n",
    "\n",
    "denni_datumy = date_range(start='2022-01-01', end='2022-12-31', freq='D')\n",
    "prodeje = randint(10, 100, size=(len(denni_datumy),))\n",
    "\n",
    "data = {\n",
    "    'datumy': denni_datumy,\n",
    "    'prodeje': prodeje\n",
    "}\n",
    "\n",
    "df_prodeje = DataFrame(data)\n",
    "df_prodeje.set_index('datumy', inplace=True)"
   ]
  },
  {
   "cell_type": "markdown",
   "id": "b3392c3b-44c4-461d-b0c2-1911679eba2f",
   "metadata": {},
   "source": [
    "<details>\n",
    "    <summary>▶️ Řešení</summary>\n",
    "    \n",
    "    ```python\n",
    "    mesicni_prodej = df_prodeje.resample('M').sum()\n",
    "\n",
    "    df_prodeje['weekday'] = df_prodeje.index.weekday\n",
    "    denni_prumer = df_prodeje.groupby('weekday')['prodeje'].mean()\n",
    "\n",
    "    prodej_posledni_vikend = df_prodeje.loc['2022-12-25':, 'prodeje']\n",
    "    ```\n",
    "</details>"
   ]
  },
  {
   "cell_type": "code",
   "execution_count": null,
   "id": "d1052cb9-7bdc-4fc2-adb1-71919e6d21ed",
   "metadata": {},
   "outputs": [],
   "source": []
  },
  {
   "cell_type": "markdown",
   "id": "0d977140-145d-4ca5-8ff3-d1bccf42457e",
   "metadata": {},
   "source": [
    "* [High performance](),\n",
    "    - [úvodní motivace](),\n",
    "    - [eval](),\n",
    "    - [query](),\n",
    "    - [caveats]()."
   ]
  },
  {
   "cell_type": "markdown",
   "id": "8d6f2fb4-4f9a-4e52-9826-fe5d2db2413b",
   "metadata": {},
   "source": [
    "## Vysoký výkon v PANDAS\n",
    "\n",
    "---\n",
    "\n",
    "<img src=\"https://external-content.duckduckgo.com/iu/?u=https%3A%2F%2Ftse1.mm.bing.net%2Fth%3Fid%3DOIP.riOR-y2_yu_2cGdEN2e6-wAAAA%26pid%3DApi&f=1&ipt=638c4516d155ff9768066e17887a621cbad0de6bce639a40be98f5dedbce67ac&ipo=images\" width=\"160\" style=\"margin-left:auto; margin-right:auto\"/>"
   ]
  },
  {
   "cell_type": "markdown",
   "id": "6fe330bb-362e-4faa-bd19-b1ebb5db78a6",
   "metadata": {},
   "source": [
    "Z předchozích ukázek a popisků (seskupování) tedy můžeš chápat, že skutečný výkon *frameworku* tkví v převedení **základních operací do jazyka C**.\n",
    "\n",
    "Tyto abstrakce jsou účinné a efektivní pro mnoho běžných případů použití.\n",
    "\n",
    "Vytvářejí ale spousty dočasných objektů, což může způsobit nepřiměřenou režii výpočetního času a paměti."
   ]
  },
  {
   "cell_type": "markdown",
   "id": "c559f494-40a6-47f1-9da4-1b6cf4204945",
   "metadata": {},
   "source": [
    "### EVAL a QUERY\n",
    "\n",
    "---\n",
    "\n",
    "Přímý přístup k operacím rychlosti C bez nákladné alokace `pandas` poskytuje funkce `eval` a `query`.\n",
    "\n",
    "Ty spolehájí na funkci `numexpr`."
   ]
  },
  {
   "cell_type": "markdown",
   "id": "c67464b1-a8e4-40f9-8d2e-7a99b5a76065",
   "metadata": {},
   "source": [
    "<br>\n",
    "\n",
    "### funkce EVAL\n",
    "\n",
    "---"
   ]
  },
  {
   "cell_type": "markdown",
   "id": "83f22aee-533f-4d2e-ad74-c3d649cd49b6",
   "metadata": {},
   "source": [
    "Dva důvody, proč používat funkci `eval` místo obyčejného Pythonu:\n",
    "1. velké objekty typu `DataFrame` jsou vyhodnocovány efektivněji,\n",
    "2. aritmetické a logické výrazy projdou naráz základním enginem (pomocí `numexpr`)."
   ]
  },
  {
   "cell_type": "markdown",
   "id": "9f5f15c6-64ad-4bc1-a5fe-c40850d2db1a",
   "metadata": {},
   "source": [
    "**Pozor!** Dobrá obecná pomůcka říká, že není nutné využívat funkci `eval` pro tabulky, které jsou kratší než 10 000 řádků. "
   ]
  },
  {
   "cell_type": "markdown",
   "id": "2c23bf00-e9fb-4241-b4a3-f3df4b89615e",
   "metadata": {},
   "source": [
    "### Použití EVAL\n",
    "\n",
    "---\n",
    "\n"
   ]
  },
  {
   "cell_type": "markdown",
   "id": "745c98c1-0862-4854-b8f9-3f00bbef9fa9",
   "metadata": {},
   "source": [
    "Funkce `eval` slouží k efektivnímu vyhodnocení **aritmetických výrazů** na:\n",
    "* objekty `DataFrame`,\n",
    "* objekty `Series`.\n",
    "\n",
    "Její největší výhodou je **rychlost a efektivita**, která spočívá v minimalizaci paměťové zátěže a zrychlení operací."
   ]
  },
  {
   "cell_type": "markdown",
   "id": "d82db24c-8fb4-4e30-ae5b-82427363c029",
   "metadata": {},
   "source": [
    "Když pracuješ **s velkými datovými sadami**, paměťová zátěž a rychlost se stávají klíčovými faktory.\n",
    "\n",
    "Funkce `eval` optimalizuje výpočetní proces tím, že snižuje množství alokované paměti a zrychluje výpočetní operace.\n",
    "\n",
    "Ukázka použití funkce `eval`:"
   ]
  },
  {
   "cell_type": "markdown",
   "id": "09b1ba30-1a7e-49a4-82f7-da25ddd4ccb1",
   "metadata": {},
   "source": [
    "### Ukázka EVAL\n",
    "\n",
    "---"
   ]
  },
  {
   "cell_type": "markdown",
   "id": "3253ad1d-cc90-4a39-bf6d-66a794d9d2d4",
   "metadata": {},
   "source": [
    "Pro zadaný *dummy dataset* vytvoř **nový sloupeček** `sloupec_D`, podle vzoru:\n",
    "`A + B * C`"
   ]
  },
  {
   "cell_type": "code",
   "execution_count": 1,
   "id": "b3631a72-bb38-4f68-944e-87f4efb8fbea",
   "metadata": {
    "tags": []
   },
   "outputs": [],
   "source": [
    "from pandas import DataFrame, eval"
   ]
  },
  {
   "cell_type": "code",
   "execution_count": 2,
   "id": "45edb37f-9d97-4756-971d-169acfef2506",
   "metadata": {
    "tags": []
   },
   "outputs": [],
   "source": [
    "data = {'A': [1, 2, 3, 4, 5],\n",
    "        'B': [6, 7, 8, 9, 10],\n",
    "        'C': [11, 12, 13, 14, 15]}"
   ]
  },
  {
   "cell_type": "code",
   "execution_count": 3,
   "id": "02c0def6-0592-438d-8c10-4b6d516caf0a",
   "metadata": {
    "tags": []
   },
   "outputs": [],
   "source": [
    "df_data = DataFrame(data)"
   ]
  },
  {
   "cell_type": "code",
   "execution_count": 5,
   "id": "d38138de-83ac-4853-8b8a-5c2f8052471d",
   "metadata": {
    "tags": []
   },
   "outputs": [
    {
     "data": {
      "text/html": [
       "<div>\n",
       "<style scoped>\n",
       "    .dataframe tbody tr th:only-of-type {\n",
       "        vertical-align: middle;\n",
       "    }\n",
       "\n",
       "    .dataframe tbody tr th {\n",
       "        vertical-align: top;\n",
       "    }\n",
       "\n",
       "    .dataframe thead th {\n",
       "        text-align: right;\n",
       "    }\n",
       "</style>\n",
       "<table border=\"1\" class=\"dataframe\">\n",
       "  <thead>\n",
       "    <tr style=\"text-align: right;\">\n",
       "      <th></th>\n",
       "      <th>A</th>\n",
       "      <th>B</th>\n",
       "      <th>C</th>\n",
       "    </tr>\n",
       "  </thead>\n",
       "  <tbody>\n",
       "    <tr>\n",
       "      <th>0</th>\n",
       "      <td>1</td>\n",
       "      <td>6</td>\n",
       "      <td>11</td>\n",
       "    </tr>\n",
       "    <tr>\n",
       "      <th>1</th>\n",
       "      <td>2</td>\n",
       "      <td>7</td>\n",
       "      <td>12</td>\n",
       "    </tr>\n",
       "    <tr>\n",
       "      <th>2</th>\n",
       "      <td>3</td>\n",
       "      <td>8</td>\n",
       "      <td>13</td>\n",
       "    </tr>\n",
       "    <tr>\n",
       "      <th>3</th>\n",
       "      <td>4</td>\n",
       "      <td>9</td>\n",
       "      <td>14</td>\n",
       "    </tr>\n",
       "    <tr>\n",
       "      <th>4</th>\n",
       "      <td>5</td>\n",
       "      <td>10</td>\n",
       "      <td>15</td>\n",
       "    </tr>\n",
       "  </tbody>\n",
       "</table>\n",
       "</div>"
      ],
      "text/plain": [
       "   A   B   C\n",
       "0  1   6  11\n",
       "1  2   7  12\n",
       "2  3   8  13\n",
       "3  4   9  14\n",
       "4  5  10  15"
      ]
     },
     "execution_count": 5,
     "metadata": {},
     "output_type": "execute_result"
    }
   ],
   "source": [
    "df_data"
   ]
  },
  {
   "cell_type": "code",
   "execution_count": 9,
   "id": "23ff44dd-357e-4958-9307-46afaeae4062",
   "metadata": {
    "tags": []
   },
   "outputs": [],
   "source": [
    "df_data['sloupec_D'] = df_data['A'] + df_data['B'] * df_data['C']"
   ]
  },
  {
   "cell_type": "code",
   "execution_count": 10,
   "id": "d2140566-fd55-4d2a-aa93-ea08b1817525",
   "metadata": {
    "tags": []
   },
   "outputs": [
    {
     "data": {
      "text/html": [
       "<div>\n",
       "<style scoped>\n",
       "    .dataframe tbody tr th:only-of-type {\n",
       "        vertical-align: middle;\n",
       "    }\n",
       "\n",
       "    .dataframe tbody tr th {\n",
       "        vertical-align: top;\n",
       "    }\n",
       "\n",
       "    .dataframe thead th {\n",
       "        text-align: right;\n",
       "    }\n",
       "</style>\n",
       "<table border=\"1\" class=\"dataframe\">\n",
       "  <thead>\n",
       "    <tr style=\"text-align: right;\">\n",
       "      <th></th>\n",
       "      <th>A</th>\n",
       "      <th>B</th>\n",
       "      <th>C</th>\n",
       "      <th>sloupec_D</th>\n",
       "    </tr>\n",
       "  </thead>\n",
       "  <tbody>\n",
       "    <tr>\n",
       "      <th>0</th>\n",
       "      <td>1</td>\n",
       "      <td>6</td>\n",
       "      <td>11</td>\n",
       "      <td>67</td>\n",
       "    </tr>\n",
       "    <tr>\n",
       "      <th>1</th>\n",
       "      <td>2</td>\n",
       "      <td>7</td>\n",
       "      <td>12</td>\n",
       "      <td>86</td>\n",
       "    </tr>\n",
       "    <tr>\n",
       "      <th>2</th>\n",
       "      <td>3</td>\n",
       "      <td>8</td>\n",
       "      <td>13</td>\n",
       "      <td>107</td>\n",
       "    </tr>\n",
       "    <tr>\n",
       "      <th>3</th>\n",
       "      <td>4</td>\n",
       "      <td>9</td>\n",
       "      <td>14</td>\n",
       "      <td>130</td>\n",
       "    </tr>\n",
       "    <tr>\n",
       "      <th>4</th>\n",
       "      <td>5</td>\n",
       "      <td>10</td>\n",
       "      <td>15</td>\n",
       "      <td>155</td>\n",
       "    </tr>\n",
       "  </tbody>\n",
       "</table>\n",
       "</div>"
      ],
      "text/plain": [
       "   A   B   C  sloupec_D\n",
       "0  1   6  11         67\n",
       "1  2   7  12         86\n",
       "2  3   8  13        107\n",
       "3  4   9  14        130\n",
       "4  5  10  15        155"
      ]
     },
     "execution_count": 10,
     "metadata": {},
     "output_type": "execute_result"
    }
   ],
   "source": [
    "df_data"
   ]
  },
  {
   "cell_type": "markdown",
   "id": "087090cc-830f-4242-ba79-16da33451c80",
   "metadata": {},
   "source": [
    "<br>\n",
    "\n",
    "*Alternativní způsob*, jak provést stejný výpočet, pokud máš dlouhou tabulku nebo sloupeček, je použití funkce `eval`:"
   ]
  },
  {
   "cell_type": "code",
   "execution_count": 11,
   "id": "3389fe17-6208-46c6-a81e-d675d16739ca",
   "metadata": {
    "tags": []
   },
   "outputs": [],
   "source": [
    "df_data['sloupecek_D'] = df_data.eval('A + B * C')"
   ]
  },
  {
   "cell_type": "markdown",
   "id": "14009a70-52e0-4a0f-b725-bf73255b643f",
   "metadata": {},
   "source": [
    "<br>\n",
    "\n",
    "Funkce `eval` zpracovává zadaný `str` podobně jako built-in funkce `eval`."
   ]
  },
  {
   "cell_type": "code",
   "execution_count": 12,
   "id": "b09bfdd7-397d-49e6-af5e-4eff35f552b5",
   "metadata": {
    "tags": []
   },
   "outputs": [
    {
     "data": {
      "text/html": [
       "<div>\n",
       "<style scoped>\n",
       "    .dataframe tbody tr th:only-of-type {\n",
       "        vertical-align: middle;\n",
       "    }\n",
       "\n",
       "    .dataframe tbody tr th {\n",
       "        vertical-align: top;\n",
       "    }\n",
       "\n",
       "    .dataframe thead th {\n",
       "        text-align: right;\n",
       "    }\n",
       "</style>\n",
       "<table border=\"1\" class=\"dataframe\">\n",
       "  <thead>\n",
       "    <tr style=\"text-align: right;\">\n",
       "      <th></th>\n",
       "      <th>A</th>\n",
       "      <th>B</th>\n",
       "      <th>C</th>\n",
       "      <th>sloupec_D</th>\n",
       "      <th>sloupecek_D</th>\n",
       "    </tr>\n",
       "  </thead>\n",
       "  <tbody>\n",
       "    <tr>\n",
       "      <th>0</th>\n",
       "      <td>1</td>\n",
       "      <td>6</td>\n",
       "      <td>11</td>\n",
       "      <td>67</td>\n",
       "      <td>67</td>\n",
       "    </tr>\n",
       "    <tr>\n",
       "      <th>1</th>\n",
       "      <td>2</td>\n",
       "      <td>7</td>\n",
       "      <td>12</td>\n",
       "      <td>86</td>\n",
       "      <td>86</td>\n",
       "    </tr>\n",
       "    <tr>\n",
       "      <th>2</th>\n",
       "      <td>3</td>\n",
       "      <td>8</td>\n",
       "      <td>13</td>\n",
       "      <td>107</td>\n",
       "      <td>107</td>\n",
       "    </tr>\n",
       "    <tr>\n",
       "      <th>3</th>\n",
       "      <td>4</td>\n",
       "      <td>9</td>\n",
       "      <td>14</td>\n",
       "      <td>130</td>\n",
       "      <td>130</td>\n",
       "    </tr>\n",
       "    <tr>\n",
       "      <th>4</th>\n",
       "      <td>5</td>\n",
       "      <td>10</td>\n",
       "      <td>15</td>\n",
       "      <td>155</td>\n",
       "      <td>155</td>\n",
       "    </tr>\n",
       "  </tbody>\n",
       "</table>\n",
       "</div>"
      ],
      "text/plain": [
       "   A   B   C  sloupec_D  sloupecek_D\n",
       "0  1   6  11         67           67\n",
       "1  2   7  12         86           86\n",
       "2  3   8  13        107          107\n",
       "3  4   9  14        130          130\n",
       "4  5  10  15        155          155"
      ]
     },
     "execution_count": 12,
     "metadata": {},
     "output_type": "execute_result"
    }
   ],
   "source": [
    "df_data"
   ]
  },
  {
   "cell_type": "markdown",
   "id": "6c56106d-2764-4d80-acd2-89c4afe3da9d",
   "metadata": {},
   "source": [
    "Souhrnně lze říci:\n",
    "* funkci `eval` použij tehdy, pokud je dataset dlouhý,\n",
    "* ve všech ostatních scénářích, kde nepotřebuješ šetřit pamět a čas použij klasickou syntaxi."
   ]
  },
  {
   "cell_type": "markdown",
   "id": "dc7f5114-6a19-48d8-98ef-0b3cdc838061",
   "metadata": {},
   "source": [
    "### Výkon EVAL\n",
    "\n",
    "---"
   ]
  },
  {
   "cell_type": "code",
   "execution_count": 22,
   "id": "b36e8d82-f756-4042-9cd6-e39115037a15",
   "metadata": {
    "tags": []
   },
   "outputs": [],
   "source": [
    "import numpy as np\n",
    "import pandas as pd"
   ]
  },
  {
   "cell_type": "code",
   "execution_count": 14,
   "id": "dbe788f7-03e3-4451-9fb8-c7ad9e82fb2d",
   "metadata": {
    "tags": []
   },
   "outputs": [],
   "source": [
    "pocet_radku, pocet_sloupcu = 100_000, 100"
   ]
  },
  {
   "cell_type": "code",
   "execution_count": 15,
   "id": "2586300c-9e13-47fe-adfa-dd1ce2552df6",
   "metadata": {
    "tags": []
   },
   "outputs": [],
   "source": [
    "rng = np.random.RandomState(42)"
   ]
  },
  {
   "cell_type": "code",
   "execution_count": 29,
   "id": "5a15dd54-cca5-443d-b781-3311c4d000cb",
   "metadata": {
    "tags": []
   },
   "outputs": [],
   "source": [
    "dframe_1, dframe_2, dframe_3, dframe_4 = [DataFrame(rng.rand(pocet_radku, pocet_sloupcu)) for _ in range(4)]"
   ]
  },
  {
   "cell_type": "code",
   "execution_count": 30,
   "id": "b8416058-ad47-4cf0-a59e-22870bf30fc9",
   "metadata": {
    "tags": []
   },
   "outputs": [
    {
     "name": "stdout",
     "output_type": "stream",
     "text": [
      "523 ms ± 69.4 ms per loop (mean ± std. dev. of 7 runs, 1 loop each)\n"
     ]
    }
   ],
   "source": [
    "%timeit dframe_1 + dframe_2 + dframe_3 + dframe_4"
   ]
  },
  {
   "cell_type": "code",
   "execution_count": 31,
   "id": "805bdc56-d6fc-45cf-b45c-15d878a0695d",
   "metadata": {
    "tags": []
   },
   "outputs": [
    {
     "name": "stdout",
     "output_type": "stream",
     "text": [
      "354 ms ± 64.8 ms per loop (mean ± std. dev. of 7 runs, 1 loop each)\n"
     ]
    }
   ],
   "source": [
    "%timeit pd.eval(\"dframe_1 + dframe_2 + dframe_3 + dframe_4\")"
   ]
  },
  {
   "cell_type": "markdown",
   "id": "562a5002-5abc-4a0a-9e8b-331b6dc1605d",
   "metadata": {},
   "source": [
    "<br>\n",
    "\n",
    "### Funkce QUERY\n",
    "\n",
    "---"
   ]
  },
  {
   "cell_type": "markdown",
   "id": "a104c705-e309-4354-a682-a84c2c118ddd",
   "metadata": {},
   "source": [
    "Funkce `query` slouží k efektivnímu **filtrování řádků**.\n",
    "\n",
    "Filtrování probíhá na základě **zadané podmínky**.\n",
    "\n",
    "\n",
    "Hlavní výhodou jsou:\n",
    "* **snadná čitelnost**, umožňuje zapisovat podmínky ve snadno čitelné formě, zejména v případě složitějších dotazů,\n",
    "* **rychlost**, může být rychlejší než tradiční metody filtrování,(zejména pro velké datové sady)."
   ]
  },
  {
   "cell_type": "markdown",
   "id": "786cabe4-6b4f-446f-af9c-871eac9a3c96",
   "metadata": {},
   "source": [
    "### Ukázka QUERY\n",
    "\n",
    "---"
   ]
  },
  {
   "cell_type": "markdown",
   "id": "300cc00e-5148-4de1-a554-d7628bb9296f",
   "metadata": {},
   "source": [
    "Pro zadaný *dummy dataset* vyfiltruj takové záznamy, kde:\n",
    "1. Hodnoty ze sloupce A budou **menší než 4**,\n",
    "2. hodnoty ze sloupce B budou **větší než 6**,\n",
    "3. hodnoty ze sloupce C budou **větší než 11**."
   ]
  },
  {
   "cell_type": "code",
   "execution_count": 32,
   "id": "74f8f26f-2c4a-4080-943b-e4c28472d56e",
   "metadata": {
    "tags": []
   },
   "outputs": [],
   "source": [
    "data = {'A': [1, 2, 3, 4, 5],\n",
    "        'B': [6, 7, 8, 9, 10],\n",
    "        'C': [11, 12, 13, 14, 15]}"
   ]
  },
  {
   "cell_type": "code",
   "execution_count": 33,
   "id": "7ac69b33-e176-4189-a0a7-31570aa8295d",
   "metadata": {
    "tags": []
   },
   "outputs": [],
   "source": [
    "df_data = DataFrame(data)"
   ]
  },
  {
   "cell_type": "code",
   "execution_count": 34,
   "id": "665540a6-fd89-4ce5-84f3-0ae995b1a776",
   "metadata": {
    "tags": []
   },
   "outputs": [
    {
     "data": {
      "text/html": [
       "<div>\n",
       "<style scoped>\n",
       "    .dataframe tbody tr th:only-of-type {\n",
       "        vertical-align: middle;\n",
       "    }\n",
       "\n",
       "    .dataframe tbody tr th {\n",
       "        vertical-align: top;\n",
       "    }\n",
       "\n",
       "    .dataframe thead th {\n",
       "        text-align: right;\n",
       "    }\n",
       "</style>\n",
       "<table border=\"1\" class=\"dataframe\">\n",
       "  <thead>\n",
       "    <tr style=\"text-align: right;\">\n",
       "      <th></th>\n",
       "      <th>A</th>\n",
       "      <th>B</th>\n",
       "      <th>C</th>\n",
       "    </tr>\n",
       "  </thead>\n",
       "  <tbody>\n",
       "    <tr>\n",
       "      <th>0</th>\n",
       "      <td>1</td>\n",
       "      <td>6</td>\n",
       "      <td>11</td>\n",
       "    </tr>\n",
       "    <tr>\n",
       "      <th>1</th>\n",
       "      <td>2</td>\n",
       "      <td>7</td>\n",
       "      <td>12</td>\n",
       "    </tr>\n",
       "    <tr>\n",
       "      <th>2</th>\n",
       "      <td>3</td>\n",
       "      <td>8</td>\n",
       "      <td>13</td>\n",
       "    </tr>\n",
       "    <tr>\n",
       "      <th>3</th>\n",
       "      <td>4</td>\n",
       "      <td>9</td>\n",
       "      <td>14</td>\n",
       "    </tr>\n",
       "    <tr>\n",
       "      <th>4</th>\n",
       "      <td>5</td>\n",
       "      <td>10</td>\n",
       "      <td>15</td>\n",
       "    </tr>\n",
       "  </tbody>\n",
       "</table>\n",
       "</div>"
      ],
      "text/plain": [
       "   A   B   C\n",
       "0  1   6  11\n",
       "1  2   7  12\n",
       "2  3   8  13\n",
       "3  4   9  14\n",
       "4  5  10  15"
      ]
     },
     "execution_count": 34,
     "metadata": {},
     "output_type": "execute_result"
    }
   ],
   "source": [
    "df_data"
   ]
  },
  {
   "cell_type": "code",
   "execution_count": 39,
   "id": "2e217495-afd6-4864-898a-6950048d5aa7",
   "metadata": {},
   "outputs": [],
   "source": [
    "df_filtrovane = df_data[(df_data['A'] < 4) & (df_data['B'] > 6) & (df_data['C'] > 11)]"
   ]
  },
  {
   "cell_type": "code",
   "execution_count": 40,
   "id": "25c2242d-6826-4861-94e2-3c9b990cd831",
   "metadata": {
    "tags": []
   },
   "outputs": [
    {
     "data": {
      "text/html": [
       "<div>\n",
       "<style scoped>\n",
       "    .dataframe tbody tr th:only-of-type {\n",
       "        vertical-align: middle;\n",
       "    }\n",
       "\n",
       "    .dataframe tbody tr th {\n",
       "        vertical-align: top;\n",
       "    }\n",
       "\n",
       "    .dataframe thead th {\n",
       "        text-align: right;\n",
       "    }\n",
       "</style>\n",
       "<table border=\"1\" class=\"dataframe\">\n",
       "  <thead>\n",
       "    <tr style=\"text-align: right;\">\n",
       "      <th></th>\n",
       "      <th>A</th>\n",
       "      <th>B</th>\n",
       "      <th>C</th>\n",
       "    </tr>\n",
       "  </thead>\n",
       "  <tbody>\n",
       "    <tr>\n",
       "      <th>1</th>\n",
       "      <td>2</td>\n",
       "      <td>7</td>\n",
       "      <td>12</td>\n",
       "    </tr>\n",
       "    <tr>\n",
       "      <th>2</th>\n",
       "      <td>3</td>\n",
       "      <td>8</td>\n",
       "      <td>13</td>\n",
       "    </tr>\n",
       "  </tbody>\n",
       "</table>\n",
       "</div>"
      ],
      "text/plain": [
       "   A  B   C\n",
       "1  2  7  12\n",
       "2  3  8  13"
      ]
     },
     "execution_count": 40,
     "metadata": {},
     "output_type": "execute_result"
    }
   ],
   "source": [
    "df_filtrovane"
   ]
  },
  {
   "cell_type": "markdown",
   "id": "95277402-2c4d-4535-978e-1a1caa76264b",
   "metadata": {},
   "source": [
    "Zapisování pomocí *boolean indexování* je ovšem náročné jak pro zápis, tak pro čtení.\n",
    "\n",
    "<br>\n",
    "\n",
    "Pomocí funkce `query`:"
   ]
  },
  {
   "cell_type": "code",
   "execution_count": 37,
   "id": "24a8ea27-ba15-404c-b85f-578de7053f0f",
   "metadata": {},
   "outputs": [],
   "source": [
    "df_filtrovane = df_data.query('A < 4 and B > 6 and C > 11')"
   ]
  },
  {
   "cell_type": "code",
   "execution_count": 38,
   "id": "5ff9e717-f412-40ab-bbeb-ddd61867346b",
   "metadata": {},
   "outputs": [
    {
     "data": {
      "text/html": [
       "<div>\n",
       "<style scoped>\n",
       "    .dataframe tbody tr th:only-of-type {\n",
       "        vertical-align: middle;\n",
       "    }\n",
       "\n",
       "    .dataframe tbody tr th {\n",
       "        vertical-align: top;\n",
       "    }\n",
       "\n",
       "    .dataframe thead th {\n",
       "        text-align: right;\n",
       "    }\n",
       "</style>\n",
       "<table border=\"1\" class=\"dataframe\">\n",
       "  <thead>\n",
       "    <tr style=\"text-align: right;\">\n",
       "      <th></th>\n",
       "      <th>A</th>\n",
       "      <th>B</th>\n",
       "      <th>C</th>\n",
       "    </tr>\n",
       "  </thead>\n",
       "  <tbody>\n",
       "    <tr>\n",
       "      <th>1</th>\n",
       "      <td>2</td>\n",
       "      <td>7</td>\n",
       "      <td>12</td>\n",
       "    </tr>\n",
       "    <tr>\n",
       "      <th>2</th>\n",
       "      <td>3</td>\n",
       "      <td>8</td>\n",
       "      <td>13</td>\n",
       "    </tr>\n",
       "  </tbody>\n",
       "</table>\n",
       "</div>"
      ],
      "text/plain": [
       "   A  B   C\n",
       "1  2  7  12\n",
       "2  3  8  13"
      ]
     },
     "execution_count": 38,
     "metadata": {},
     "output_type": "execute_result"
    }
   ],
   "source": [
    "df_filtrovane"
   ]
  },
  {
   "cell_type": "markdown",
   "id": "ed10df8f-96a6-46f1-a01f-4db816624b5e",
   "metadata": {},
   "source": [
    "### Nedostatky QUERY\n",
    "\n",
    "---"
   ]
  },
  {
   "cell_type": "markdown",
   "id": "ad98dafc-10ff-43a7-8bee-8d0a7956db24",
   "metadata": {},
   "source": [
    "1. **Omezená syntaxe**, má omezenější syntaxi ve srovnání s běžným zápisem v Pythonu a nemusí podporovat všechny operace,\n",
    "2. **Názvy sloupců**, pokud názvy sloupců obsahují **mezery nebo znaky**, které nejsou platnými identifikátory Pythonu, musíš je uvést v závorkách a použít symbol `@` pro reference na proměnné mimo `DataFrame`."
   ]
  },
  {
   "cell_type": "code",
   "execution_count": 47,
   "id": "7bb5941b-16b3-41f6-a94e-07d7c2fa9005",
   "metadata": {
    "tags": []
   },
   "outputs": [],
   "source": [
    "df_cisla = pd.DataFrame({'Sloupec 1': [1, 2, 3, 4, 5], 'Sloupec 2': [10, 20, 30, 40, 50]})"
   ]
  },
  {
   "cell_type": "code",
   "execution_count": 48,
   "id": "69de5f13-3824-4ba5-8dd1-3785ad4bfd31",
   "metadata": {
    "tags": []
   },
   "outputs": [
    {
     "ename": "SyntaxError",
     "evalue": "invalid syntax (<unknown>, line 1)",
     "output_type": "error",
     "traceback": [
      "Traceback \u001b[0;36m(most recent call last)\u001b[0m:\n",
      "\u001b[0m  File \u001b[1;32m~/projects/data-csob-2023/shared/onsite/env/lib/python3.8/site-packages/IPython/core/interactiveshell.py:3460\u001b[0m in \u001b[1;35mrun_code\u001b[0m\n    exec(code_obj, self.user_global_ns, self.user_ns)\u001b[0m\n",
      "\u001b[0m  Cell \u001b[1;32mIn[48], line 1\u001b[0m\n    vystup = df_cisla.query('Sloupec 1 < 3')\u001b[0m\n",
      "\u001b[0m  File \u001b[1;32m~/projects/data-csob-2023/shared/onsite/env/lib/python3.8/site-packages/pandas/util/_decorators.py:331\u001b[0m in \u001b[1;35mwrapper\u001b[0m\n    return func(*args, **kwargs)\u001b[0m\n",
      "\u001b[0m  File \u001b[1;32m~/projects/data-csob-2023/shared/onsite/env/lib/python3.8/site-packages/pandas/core/frame.py:4474\u001b[0m in \u001b[1;35mquery\u001b[0m\n    res = self.eval(expr, **kwargs)\u001b[0m\n",
      "\u001b[0m  File \u001b[1;32m~/projects/data-csob-2023/shared/onsite/env/lib/python3.8/site-packages/pandas/util/_decorators.py:331\u001b[0m in \u001b[1;35mwrapper\u001b[0m\n    return func(*args, **kwargs)\u001b[0m\n",
      "\u001b[0m  File \u001b[1;32m~/projects/data-csob-2023/shared/onsite/env/lib/python3.8/site-packages/pandas/core/frame.py:4612\u001b[0m in \u001b[1;35meval\u001b[0m\n    return _eval(expr, inplace=inplace, **kwargs)\u001b[0m\n",
      "\u001b[0m  File \u001b[1;32m~/projects/data-csob-2023/shared/onsite/env/lib/python3.8/site-packages/pandas/core/computation/eval.py:353\u001b[0m in \u001b[1;35meval\u001b[0m\n    parsed_expr = Expr(expr, engine=engine, parser=parser, env=env)\u001b[0m\n",
      "\u001b[0m  File \u001b[1;32m~/projects/data-csob-2023/shared/onsite/env/lib/python3.8/site-packages/pandas/core/computation/expr.py:813\u001b[0m in \u001b[1;35m__init__\u001b[0m\n    self.terms = self.parse()\u001b[0m\n",
      "\u001b[0m  File \u001b[1;32m~/projects/data-csob-2023/shared/onsite/env/lib/python3.8/site-packages/pandas/core/computation/expr.py:832\u001b[0m in \u001b[1;35mparse\u001b[0m\n    return self._visitor.visit(self.expr)\u001b[0m\n",
      "\u001b[0m  File \u001b[1;32m~/projects/data-csob-2023/shared/onsite/env/lib/python3.8/site-packages/pandas/core/computation/expr.py:411\u001b[0m in \u001b[1;35mvisit\u001b[0m\n    raise e\u001b[0m\n",
      "\u001b[0m  File \u001b[1;32m~/projects/data-csob-2023/shared/onsite/env/lib/python3.8/site-packages/pandas/core/computation/expr.py:407\u001b[0m in \u001b[1;35mvisit\u001b[0m\n    node = ast.fix_missing_locations(ast.parse(clean))\u001b[0m\n",
      "\u001b[0;36m  File \u001b[0;32m/usr/lib/python3.8/ast.py:47\u001b[0;36m in \u001b[0;35mparse\u001b[0;36m\n\u001b[0;31m    return compile(source, filename, mode, flags,\u001b[0;36m\n",
      "\u001b[0;36m  File \u001b[0;32m<unknown>:1\u001b[0;36m\u001b[0m\n\u001b[0;31m    Sloupec 1 <3\u001b[0m\n\u001b[0m            ^\u001b[0m\n\u001b[0;31mSyntaxError\u001b[0m\u001b[0;31m:\u001b[0m invalid syntax\n"
     ]
    }
   ],
   "source": [
    "vystup_1 = df_cisla.query('Sloupec 1 < 3')"
   ]
  },
  {
   "cell_type": "code",
   "execution_count": 49,
   "id": "217e64c3-1c1e-48de-88aa-da71a5b449eb",
   "metadata": {
    "tags": []
   },
   "outputs": [],
   "source": [
    "vystup_2 = df_cisla.query('`Sloupec 1` < 3')"
   ]
  },
  {
   "cell_type": "code",
   "execution_count": 50,
   "id": "6073044d-fdb9-4d90-8cb2-7a16f800d2fc",
   "metadata": {
    "tags": []
   },
   "outputs": [
    {
     "data": {
      "text/html": [
       "<div>\n",
       "<style scoped>\n",
       "    .dataframe tbody tr th:only-of-type {\n",
       "        vertical-align: middle;\n",
       "    }\n",
       "\n",
       "    .dataframe tbody tr th {\n",
       "        vertical-align: top;\n",
       "    }\n",
       "\n",
       "    .dataframe thead th {\n",
       "        text-align: right;\n",
       "    }\n",
       "</style>\n",
       "<table border=\"1\" class=\"dataframe\">\n",
       "  <thead>\n",
       "    <tr style=\"text-align: right;\">\n",
       "      <th></th>\n",
       "      <th>Sloupec 1</th>\n",
       "      <th>Sloupec 2</th>\n",
       "    </tr>\n",
       "  </thead>\n",
       "  <tbody>\n",
       "    <tr>\n",
       "      <th>0</th>\n",
       "      <td>1</td>\n",
       "      <td>10</td>\n",
       "    </tr>\n",
       "    <tr>\n",
       "      <th>1</th>\n",
       "      <td>2</td>\n",
       "      <td>20</td>\n",
       "    </tr>\n",
       "  </tbody>\n",
       "</table>\n",
       "</div>"
      ],
      "text/plain": [
       "   Sloupec 1  Sloupec 2\n",
       "0          1         10\n",
       "1          2         20"
      ]
     },
     "execution_count": 50,
     "metadata": {},
     "output_type": "execute_result"
    }
   ],
   "source": [
    "vystup_2"
   ]
  },
  {
   "cell_type": "markdown",
   "id": "e4da62df-091e-4eb8-af04-3c0642c69f51",
   "metadata": {},
   "source": [
    "### Souhrn k EVAL a QUERY\n",
    "\n",
    "---\n",
    "\n",
    "Hlavním účelem těchto funkcí je aplikace na skutečně **velké datové sety**.\n",
    "\n",
    "Rozdíly u drobnějších datasetů **jsou často minimální**.\n",
    "\n",
    "Velký vliv na výstupný čas dělá parametr `engine`, který se snaží pracovat s knihovnou `numexpr`."
   ]
  },
  {
   "cell_type": "markdown",
   "id": "b4f97e9e-2ca1-4d5e-aa07-2242e78e2190",
   "metadata": {},
   "source": [
    "<br>\n",
    "\n",
    "**🧠 CVIČENÍ 🧠, procvič si funkce EVAL a QUERY**"
   ]
  },
  {
   "cell_type": "markdown",
   "id": "3cc63470-fdd1-4f76-bc2f-619f537096fb",
   "metadata": {},
   "source": [
    "Analyzuj prodeje produktu ve fiktivní společnosti během jednoho roku a zjisti následující:\n",
    "1. Vyber studenty s věkem **mezi 20 a 22 lety (včetně)**,\n",
    "2. vypočtěte *BMI* (Body Mass Index) pro každého studenta a přidejte ho do nového sloupce (vzorec: *váha[kg] / (výška[m] * výška[m])*)\n",
    "3. vyberte studenty s BMI vyšším než 22."
   ]
  },
  {
   "cell_type": "code",
   "execution_count": 88,
   "id": "49d40e58-8ec6-4d66-91b7-b2367b17d447",
   "metadata": {
    "tags": []
   },
   "outputs": [],
   "source": [
    "uzivatele = {\n",
    "    'Name': ['Alice', 'Bob', 'Charlie', 'David', 'Eve'],\n",
    "    'Age': [19, 20, 21, 22, 23],\n",
    "    'Height_cm': [160, 170, 175, 180, 165],\n",
    "    'Weight_kg': [50, 65, 70, 80, 55],\n",
    "    'Email': [\"alice@gmail.com\", \"bob@tech-users.com\", \"charlie91@mail.com\", \"david_bB@gmail.com\", \"eevee@my_domain.net\"],\n",
    "    'Address': [\n",
    "        \"Vrbová 215/14, 602 00, Brno, Česká republika\",\n",
    "        \"Jilmová 862, 400 11, Ústí nad Labem, Česká republika\",\n",
    "        \"Kamenická 37/2, 170 00, Praha, Česká republika\",\n",
    "        \"Podlipná 1284/6, 460 01, Liberec, Česká republika\",\n",
    "        \"Havlíčkova 1703, 500 02, Hradec Králové, Česká republika\"\n",
    "    ]\n",
    "}"
   ]
  },
  {
   "cell_type": "code",
   "execution_count": 89,
   "id": "18acbd9b-92e3-4595-98a7-5c045fb6365d",
   "metadata": {
    "tags": []
   },
   "outputs": [],
   "source": [
    "df_uzivatele = DataFrame(uzivatele)"
   ]
  },
  {
   "cell_type": "code",
   "execution_count": 90,
   "id": "3be47443-ff71-47e3-a217-2913465f8981",
   "metadata": {
    "tags": []
   },
   "outputs": [
    {
     "data": {
      "text/html": [
       "<div>\n",
       "<style scoped>\n",
       "    .dataframe tbody tr th:only-of-type {\n",
       "        vertical-align: middle;\n",
       "    }\n",
       "\n",
       "    .dataframe tbody tr th {\n",
       "        vertical-align: top;\n",
       "    }\n",
       "\n",
       "    .dataframe thead th {\n",
       "        text-align: right;\n",
       "    }\n",
       "</style>\n",
       "<table border=\"1\" class=\"dataframe\">\n",
       "  <thead>\n",
       "    <tr style=\"text-align: right;\">\n",
       "      <th></th>\n",
       "      <th>Name</th>\n",
       "      <th>Age</th>\n",
       "      <th>Height_cm</th>\n",
       "      <th>Weight_kg</th>\n",
       "      <th>Email</th>\n",
       "      <th>Address</th>\n",
       "    </tr>\n",
       "  </thead>\n",
       "  <tbody>\n",
       "    <tr>\n",
       "      <th>0</th>\n",
       "      <td>Alice</td>\n",
       "      <td>19</td>\n",
       "      <td>160</td>\n",
       "      <td>50</td>\n",
       "      <td>alice@gmail.com</td>\n",
       "      <td>Vrbová 215/14, 602 00, Brno, Česká republika</td>\n",
       "    </tr>\n",
       "    <tr>\n",
       "      <th>1</th>\n",
       "      <td>Bob</td>\n",
       "      <td>20</td>\n",
       "      <td>170</td>\n",
       "      <td>65</td>\n",
       "      <td>bob@tech-users.com</td>\n",
       "      <td>Jilmová 862, 400 11, Ústí nad Labem, Česká rep...</td>\n",
       "    </tr>\n",
       "    <tr>\n",
       "      <th>2</th>\n",
       "      <td>Charlie</td>\n",
       "      <td>21</td>\n",
       "      <td>175</td>\n",
       "      <td>70</td>\n",
       "      <td>charlie91@mail.com</td>\n",
       "      <td>Kamenická 37/2, 170 00, Praha, Česká republika</td>\n",
       "    </tr>\n",
       "    <tr>\n",
       "      <th>3</th>\n",
       "      <td>David</td>\n",
       "      <td>22</td>\n",
       "      <td>180</td>\n",
       "      <td>80</td>\n",
       "      <td>david_bB@gmail.com</td>\n",
       "      <td>Podlipná 1284/6, 460 01, Liberec, Česká republika</td>\n",
       "    </tr>\n",
       "    <tr>\n",
       "      <th>4</th>\n",
       "      <td>Eve</td>\n",
       "      <td>23</td>\n",
       "      <td>165</td>\n",
       "      <td>55</td>\n",
       "      <td>eevee@my_domain.net</td>\n",
       "      <td>Havlíčkova 1703, 500 02, Hradec Králové, Česká...</td>\n",
       "    </tr>\n",
       "  </tbody>\n",
       "</table>\n",
       "</div>"
      ],
      "text/plain": [
       "      Name  Age  Height_cm  Weight_kg                Email  \\\n",
       "0    Alice   19        160         50      alice@gmail.com   \n",
       "1      Bob   20        170         65   bob@tech-users.com   \n",
       "2  Charlie   21        175         70   charlie91@mail.com   \n",
       "3    David   22        180         80   david_bB@gmail.com   \n",
       "4      Eve   23        165         55  eevee@my_domain.net   \n",
       "\n",
       "                                             Address  \n",
       "0       Vrbová 215/14, 602 00, Brno, Česká republika  \n",
       "1  Jilmová 862, 400 11, Ústí nad Labem, Česká rep...  \n",
       "2     Kamenická 37/2, 170 00, Praha, Česká republika  \n",
       "3  Podlipná 1284/6, 460 01, Liberec, Česká republika  \n",
       "4  Havlíčkova 1703, 500 02, Hradec Králové, Česká...  "
      ]
     },
     "execution_count": 90,
     "metadata": {},
     "output_type": "execute_result"
    }
   ],
   "source": [
    "df_uzivatele"
   ]
  },
  {
   "cell_type": "code",
   "execution_count": 68,
   "id": "d19f7165-fd56-4d83-adf3-1a2b144e284c",
   "metadata": {
    "tags": []
   },
   "outputs": [],
   "source": [
    "vyber_uzivatel = df_uzivatele.query(\"20 <= Age <= 22 and Email.str.contains('gmail.com')\")"
   ]
  },
  {
   "cell_type": "code",
   "execution_count": 69,
   "id": "7601131a-13f4-4c2d-884f-1be0ff2fa8aa",
   "metadata": {
    "tags": []
   },
   "outputs": [
    {
     "data": {
      "text/html": [
       "<div>\n",
       "<style scoped>\n",
       "    .dataframe tbody tr th:only-of-type {\n",
       "        vertical-align: middle;\n",
       "    }\n",
       "\n",
       "    .dataframe tbody tr th {\n",
       "        vertical-align: top;\n",
       "    }\n",
       "\n",
       "    .dataframe thead th {\n",
       "        text-align: right;\n",
       "    }\n",
       "</style>\n",
       "<table border=\"1\" class=\"dataframe\">\n",
       "  <thead>\n",
       "    <tr style=\"text-align: right;\">\n",
       "      <th></th>\n",
       "      <th>Name</th>\n",
       "      <th>Age</th>\n",
       "      <th>Height_m</th>\n",
       "      <th>Weight_kg</th>\n",
       "      <th>Email</th>\n",
       "    </tr>\n",
       "  </thead>\n",
       "  <tbody>\n",
       "    <tr>\n",
       "      <th>3</th>\n",
       "      <td>David</td>\n",
       "      <td>22</td>\n",
       "      <td>180</td>\n",
       "      <td>80</td>\n",
       "      <td>david_bB@gmail.com</td>\n",
       "    </tr>\n",
       "  </tbody>\n",
       "</table>\n",
       "</div>"
      ],
      "text/plain": [
       "    Name  Age  Height_m  Weight_kg               Email\n",
       "3  David   22       180         80  david_bB@gmail.com"
      ]
     },
     "execution_count": 69,
     "metadata": {},
     "output_type": "execute_result"
    }
   ],
   "source": [
    "vyber_uzivatel"
   ]
  },
  {
   "cell_type": "code",
   "execution_count": 96,
   "id": "103cf3cf-7b90-4791-a2a4-d5543d757ff7",
   "metadata": {
    "tags": []
   },
   "outputs": [],
   "source": [
    "df_uzivatele['Height_m'] = df_uzivatele.eval('Height_cm / 100')"
   ]
  },
  {
   "cell_type": "code",
   "execution_count": 97,
   "id": "1a79b44b-f211-473f-935e-18513a425241",
   "metadata": {
    "tags": []
   },
   "outputs": [],
   "source": [
    "df_uzivatele['BMI'] = df_uzivatele.eval('Weight_kg / (Height_m * Height_m)').round(1)"
   ]
  },
  {
   "cell_type": "code",
   "execution_count": 98,
   "id": "5fbc498a-aa04-4c9d-ae4e-12521d7fb34a",
   "metadata": {
    "tags": []
   },
   "outputs": [
    {
     "data": {
      "text/html": [
       "<div>\n",
       "<style scoped>\n",
       "    .dataframe tbody tr th:only-of-type {\n",
       "        vertical-align: middle;\n",
       "    }\n",
       "\n",
       "    .dataframe tbody tr th {\n",
       "        vertical-align: top;\n",
       "    }\n",
       "\n",
       "    .dataframe thead th {\n",
       "        text-align: right;\n",
       "    }\n",
       "</style>\n",
       "<table border=\"1\" class=\"dataframe\">\n",
       "  <thead>\n",
       "    <tr style=\"text-align: right;\">\n",
       "      <th></th>\n",
       "      <th>Name</th>\n",
       "      <th>Age</th>\n",
       "      <th>Height_cm</th>\n",
       "      <th>Weight_kg</th>\n",
       "      <th>Email</th>\n",
       "      <th>Address</th>\n",
       "      <th>City</th>\n",
       "      <th>Height_m</th>\n",
       "      <th>BMI</th>\n",
       "    </tr>\n",
       "  </thead>\n",
       "  <tbody>\n",
       "    <tr>\n",
       "      <th>0</th>\n",
       "      <td>Alice</td>\n",
       "      <td>19</td>\n",
       "      <td>160</td>\n",
       "      <td>50</td>\n",
       "      <td>alice@gmail.com</td>\n",
       "      <td>Vrbová 215/14, 602 00, Brno, Česká republika</td>\n",
       "      <td>Brno</td>\n",
       "      <td>1.60</td>\n",
       "      <td>19.5</td>\n",
       "    </tr>\n",
       "    <tr>\n",
       "      <th>1</th>\n",
       "      <td>Bob</td>\n",
       "      <td>20</td>\n",
       "      <td>170</td>\n",
       "      <td>65</td>\n",
       "      <td>bob@tech-users.com</td>\n",
       "      <td>Jilmová 862, 400 11, Ústí nad Labem, Česká rep...</td>\n",
       "      <td>Ústí nad Labem</td>\n",
       "      <td>1.70</td>\n",
       "      <td>22.5</td>\n",
       "    </tr>\n",
       "    <tr>\n",
       "      <th>2</th>\n",
       "      <td>Charlie</td>\n",
       "      <td>21</td>\n",
       "      <td>175</td>\n",
       "      <td>70</td>\n",
       "      <td>charlie91@mail.com</td>\n",
       "      <td>Kamenická 37/2, 170 00, Praha, Česká republika</td>\n",
       "      <td>Praha</td>\n",
       "      <td>1.75</td>\n",
       "      <td>22.9</td>\n",
       "    </tr>\n",
       "    <tr>\n",
       "      <th>3</th>\n",
       "      <td>David</td>\n",
       "      <td>22</td>\n",
       "      <td>180</td>\n",
       "      <td>80</td>\n",
       "      <td>david_bB@gmail.com</td>\n",
       "      <td>Podlipná 1284/6, 460 01, Liberec, Česká republika</td>\n",
       "      <td>Liberec</td>\n",
       "      <td>1.80</td>\n",
       "      <td>24.7</td>\n",
       "    </tr>\n",
       "    <tr>\n",
       "      <th>4</th>\n",
       "      <td>Eve</td>\n",
       "      <td>23</td>\n",
       "      <td>165</td>\n",
       "      <td>55</td>\n",
       "      <td>eevee@my_domain.net</td>\n",
       "      <td>Havlíčkova 1703, 500 02, Hradec Králové, Česká...</td>\n",
       "      <td>Hradec Králové</td>\n",
       "      <td>1.65</td>\n",
       "      <td>20.2</td>\n",
       "    </tr>\n",
       "  </tbody>\n",
       "</table>\n",
       "</div>"
      ],
      "text/plain": [
       "      Name  Age  Height_cm  Weight_kg                Email  \\\n",
       "0    Alice   19        160         50      alice@gmail.com   \n",
       "1      Bob   20        170         65   bob@tech-users.com   \n",
       "2  Charlie   21        175         70   charlie91@mail.com   \n",
       "3    David   22        180         80   david_bB@gmail.com   \n",
       "4      Eve   23        165         55  eevee@my_domain.net   \n",
       "\n",
       "                                             Address             City  \\\n",
       "0       Vrbová 215/14, 602 00, Brno, Česká republika             Brno   \n",
       "1  Jilmová 862, 400 11, Ústí nad Labem, Česká rep...   Ústí nad Labem   \n",
       "2     Kamenická 37/2, 170 00, Praha, Česká republika            Praha   \n",
       "3  Podlipná 1284/6, 460 01, Liberec, Česká republika          Liberec   \n",
       "4  Havlíčkova 1703, 500 02, Hradec Králové, Česká...   Hradec Králové   \n",
       "\n",
       "   Height_m   BMI  \n",
       "0      1.60  19.5  \n",
       "1      1.70  22.5  \n",
       "2      1.75  22.9  \n",
       "3      1.80  24.7  \n",
       "4      1.65  20.2  "
      ]
     },
     "execution_count": 98,
     "metadata": {},
     "output_type": "execute_result"
    }
   ],
   "source": [
    "df_uzivatele"
   ]
  },
  {
   "cell_type": "code",
   "execution_count": null,
   "id": "8fc31d6a-5f55-4275-8b82-0e9dc3020adb",
   "metadata": {},
   "outputs": [],
   "source": []
  },
  {
   "cell_type": "code",
   "execution_count": 91,
   "id": "bc71ed55-1df8-4c32-a42e-66d5d1085d69",
   "metadata": {
    "tags": []
   },
   "outputs": [],
   "source": [
    "df_uzivatele[\"City\"] = df_uzivatele[\"Address\"].apply(lambda x: x.split(\",\")[2])"
   ]
  },
  {
   "cell_type": "code",
   "execution_count": 92,
   "id": "5d4359ec-e30d-4fef-8da6-5aeb749b229d",
   "metadata": {
    "tags": []
   },
   "outputs": [
    {
     "data": {
      "text/html": [
       "<div>\n",
       "<style scoped>\n",
       "    .dataframe tbody tr th:only-of-type {\n",
       "        vertical-align: middle;\n",
       "    }\n",
       "\n",
       "    .dataframe tbody tr th {\n",
       "        vertical-align: top;\n",
       "    }\n",
       "\n",
       "    .dataframe thead th {\n",
       "        text-align: right;\n",
       "    }\n",
       "</style>\n",
       "<table border=\"1\" class=\"dataframe\">\n",
       "  <thead>\n",
       "    <tr style=\"text-align: right;\">\n",
       "      <th></th>\n",
       "      <th>Name</th>\n",
       "      <th>Age</th>\n",
       "      <th>Height_cm</th>\n",
       "      <th>Weight_kg</th>\n",
       "      <th>Email</th>\n",
       "      <th>Address</th>\n",
       "      <th>City</th>\n",
       "    </tr>\n",
       "  </thead>\n",
       "  <tbody>\n",
       "    <tr>\n",
       "      <th>0</th>\n",
       "      <td>Alice</td>\n",
       "      <td>19</td>\n",
       "      <td>160</td>\n",
       "      <td>50</td>\n",
       "      <td>alice@gmail.com</td>\n",
       "      <td>Vrbová 215/14, 602 00, Brno, Česká republika</td>\n",
       "      <td>Brno</td>\n",
       "    </tr>\n",
       "    <tr>\n",
       "      <th>1</th>\n",
       "      <td>Bob</td>\n",
       "      <td>20</td>\n",
       "      <td>170</td>\n",
       "      <td>65</td>\n",
       "      <td>bob@tech-users.com</td>\n",
       "      <td>Jilmová 862, 400 11, Ústí nad Labem, Česká rep...</td>\n",
       "      <td>Ústí nad Labem</td>\n",
       "    </tr>\n",
       "    <tr>\n",
       "      <th>2</th>\n",
       "      <td>Charlie</td>\n",
       "      <td>21</td>\n",
       "      <td>175</td>\n",
       "      <td>70</td>\n",
       "      <td>charlie91@mail.com</td>\n",
       "      <td>Kamenická 37/2, 170 00, Praha, Česká republika</td>\n",
       "      <td>Praha</td>\n",
       "    </tr>\n",
       "    <tr>\n",
       "      <th>3</th>\n",
       "      <td>David</td>\n",
       "      <td>22</td>\n",
       "      <td>180</td>\n",
       "      <td>80</td>\n",
       "      <td>david_bB@gmail.com</td>\n",
       "      <td>Podlipná 1284/6, 460 01, Liberec, Česká republika</td>\n",
       "      <td>Liberec</td>\n",
       "    </tr>\n",
       "    <tr>\n",
       "      <th>4</th>\n",
       "      <td>Eve</td>\n",
       "      <td>23</td>\n",
       "      <td>165</td>\n",
       "      <td>55</td>\n",
       "      <td>eevee@my_domain.net</td>\n",
       "      <td>Havlíčkova 1703, 500 02, Hradec Králové, Česká...</td>\n",
       "      <td>Hradec Králové</td>\n",
       "    </tr>\n",
       "  </tbody>\n",
       "</table>\n",
       "</div>"
      ],
      "text/plain": [
       "      Name  Age  Height_cm  Weight_kg                Email  \\\n",
       "0    Alice   19        160         50      alice@gmail.com   \n",
       "1      Bob   20        170         65   bob@tech-users.com   \n",
       "2  Charlie   21        175         70   charlie91@mail.com   \n",
       "3    David   22        180         80   david_bB@gmail.com   \n",
       "4      Eve   23        165         55  eevee@my_domain.net   \n",
       "\n",
       "                                             Address             City  \n",
       "0       Vrbová 215/14, 602 00, Brno, Česká republika             Brno  \n",
       "1  Jilmová 862, 400 11, Ústí nad Labem, Česká rep...   Ústí nad Labem  \n",
       "2     Kamenická 37/2, 170 00, Praha, Česká republika            Praha  \n",
       "3  Podlipná 1284/6, 460 01, Liberec, Česká republika          Liberec  \n",
       "4  Havlíčkova 1703, 500 02, Hradec Králové, Česká...   Hradec Králové  "
      ]
     },
     "execution_count": 92,
     "metadata": {},
     "output_type": "execute_result"
    }
   ],
   "source": [
    "df_uzivatele"
   ]
  },
  {
   "cell_type": "code",
   "execution_count": 99,
   "id": "71df40a9-0a19-476f-97c9-1568dc9b2fb8",
   "metadata": {
    "tags": []
   },
   "outputs": [],
   "source": [
    "students_with_high_bmi = df_uzivatele.query('BMI > 22 and City in [\"Brno\", \"Praha\"]')"
   ]
  },
  {
   "cell_type": "code",
   "execution_count": 100,
   "id": "0abbd264-7fcc-405b-a0d6-febf7f20aa21",
   "metadata": {
    "tags": []
   },
   "outputs": [
    {
     "data": {
      "text/html": [
       "<div>\n",
       "<style scoped>\n",
       "    .dataframe tbody tr th:only-of-type {\n",
       "        vertical-align: middle;\n",
       "    }\n",
       "\n",
       "    .dataframe tbody tr th {\n",
       "        vertical-align: top;\n",
       "    }\n",
       "\n",
       "    .dataframe thead th {\n",
       "        text-align: right;\n",
       "    }\n",
       "</style>\n",
       "<table border=\"1\" class=\"dataframe\">\n",
       "  <thead>\n",
       "    <tr style=\"text-align: right;\">\n",
       "      <th></th>\n",
       "      <th>Name</th>\n",
       "      <th>Age</th>\n",
       "      <th>Height_cm</th>\n",
       "      <th>Weight_kg</th>\n",
       "      <th>Email</th>\n",
       "      <th>Address</th>\n",
       "      <th>City</th>\n",
       "      <th>Height_m</th>\n",
       "      <th>BMI</th>\n",
       "    </tr>\n",
       "  </thead>\n",
       "  <tbody>\n",
       "  </tbody>\n",
       "</table>\n",
       "</div>"
      ],
      "text/plain": [
       "Empty DataFrame\n",
       "Columns: [Name, Age, Height_cm, Weight_kg, Email, Address, City, Height_m, BMI]\n",
       "Index: []"
      ]
     },
     "execution_count": 100,
     "metadata": {},
     "output_type": "execute_result"
    }
   ],
   "source": [
    "students_with_high_bmi"
   ]
  },
  {
   "cell_type": "code",
   "execution_count": null,
   "id": "3b2cbdc8-36bf-4239-849b-f9dc2ccd2b9e",
   "metadata": {},
   "outputs": [],
   "source": []
  },
  {
   "cell_type": "code",
   "execution_count": null,
   "id": "ddad9b4c-372d-4581-91f6-6726be98388b",
   "metadata": {},
   "outputs": [],
   "source": []
  },
  {
   "cell_type": "markdown",
   "id": "883af2ef-8237-4bd6-b65c-04d985ac4365",
   "metadata": {},
   "source": [
    "<details>\n",
    "    <summary>▶️ Řešení</summary>\n",
    "    \n",
    "    ```python\n",
    "    monthly_sales = df.resample('M').sum()\n",
    "    print(\"Celkový prodej za každý měsíc:\")\n",
    "    print(monthly_sales)\n",
    "\n",
    "    df_prodeje['weekday'] = df_prodeje.index.weekday\n",
    "    average_weekday_sales = df_prodeje.groupby('weekday')['prodeje'].mean()\n",
    "    print(\"\\nPrůměrný prodej za každý den v týdnu:\")\n",
    "    print(average_weekday_sales)\n",
    "\n",
    "    last_week_sales = df.loc['2022-12-25':, 'sales']\n",
    "    print(\"\\nDenní prodej za poslední týden:\")\n",
    "    print(last_week_sales)\n",
    "    ```\n",
    "</details>"
   ]
  },
  {
   "cell_type": "markdown",
   "id": "a802a9e5-d3ea-483b-acc3-124d3777758d",
   "metadata": {},
   "source": [
    "<br>\n",
    "\n",
    "## Chybějící hodnoty\n",
    "\n",
    "---"
   ]
  },
  {
   "cell_type": "markdown",
   "id": "ed677727-82ac-4db5-8b97-7d0528284dd7",
   "metadata": {},
   "source": [
    "https://external-content.duckduckgo.com/iu/?u=https%3A%2F%2Ftse1.mm.bing.net%2Fth%3Fid%3DOIP.JJu86kKRph1LHt5M7agODQHaHa%26pid%3DApi&f=1&ipt=5cfb9e9f7b451b3a4f7a3ebdc4eb99177d477f20f8145cd818cc4966143f8b2b&ipo=images"
   ]
  },
  {
   "cell_type": "markdown",
   "id": "7c1f9457-e0f1-449e-8039-cddf1d375009",
   "metadata": {},
   "source": [
    "Čištění dat je proces, který patří k samotné práci s daty.\n",
    "\n",
    "Spolu s některými souvisejícími úkony, patří mezi ty více frustrující.\n",
    "\n",
    "Nesmyslné datové typy, zkomolené časové údaje, nefungující transformace."
   ]
  },
  {
   "cell_type": "code",
   "execution_count": 116,
   "id": "a5f8d0b9-4b1f-44ed-9d41-6fe48d6143ab",
   "metadata": {
    "tags": []
   },
   "outputs": [],
   "source": [
    "df_uzivatele = DataFrame({\n",
    "    'Name': ['Alice', 'Bob', 'Charlie', 'David', 'Eve'],\n",
    "    'Age': [None, 20, None, 22, 23],\n",
    "    'Height_cm': [160, 170, 175, None, 165],\n",
    "    'Weight_kg': [50, 65, 70, 80, 55]\n",
    "})"
   ]
  },
  {
   "cell_type": "code",
   "execution_count": 117,
   "id": "0565bb2e-d698-469a-95ad-47dbdf14e11b",
   "metadata": {
    "tags": []
   },
   "outputs": [
    {
     "data": {
      "text/html": [
       "<div>\n",
       "<style scoped>\n",
       "    .dataframe tbody tr th:only-of-type {\n",
       "        vertical-align: middle;\n",
       "    }\n",
       "\n",
       "    .dataframe tbody tr th {\n",
       "        vertical-align: top;\n",
       "    }\n",
       "\n",
       "    .dataframe thead th {\n",
       "        text-align: right;\n",
       "    }\n",
       "</style>\n",
       "<table border=\"1\" class=\"dataframe\">\n",
       "  <thead>\n",
       "    <tr style=\"text-align: right;\">\n",
       "      <th></th>\n",
       "      <th>Name</th>\n",
       "      <th>Age</th>\n",
       "      <th>Height_cm</th>\n",
       "      <th>Weight_kg</th>\n",
       "    </tr>\n",
       "  </thead>\n",
       "  <tbody>\n",
       "    <tr>\n",
       "      <th>0</th>\n",
       "      <td>Alice</td>\n",
       "      <td>NaN</td>\n",
       "      <td>160.0</td>\n",
       "      <td>50</td>\n",
       "    </tr>\n",
       "    <tr>\n",
       "      <th>1</th>\n",
       "      <td>Bob</td>\n",
       "      <td>20.0</td>\n",
       "      <td>170.0</td>\n",
       "      <td>65</td>\n",
       "    </tr>\n",
       "    <tr>\n",
       "      <th>2</th>\n",
       "      <td>Charlie</td>\n",
       "      <td>NaN</td>\n",
       "      <td>175.0</td>\n",
       "      <td>70</td>\n",
       "    </tr>\n",
       "  </tbody>\n",
       "</table>\n",
       "</div>"
      ],
      "text/plain": [
       "      Name   Age  Height_cm  Weight_kg\n",
       "0    Alice   NaN      160.0         50\n",
       "1      Bob  20.0      170.0         65\n",
       "2  Charlie   NaN      175.0         70"
      ]
     },
     "execution_count": 117,
     "metadata": {},
     "output_type": "execute_result"
    }
   ],
   "source": [
    "df_uzivatele.head(3)"
   ]
  },
  {
   "cell_type": "markdown",
   "id": "e3bfc98e-ed69-48e9-8ae1-b6b77bf7cc60",
   "metadata": {},
   "source": [
    "Ihned po načtení je nejlepší data prozkoumat.\n",
    "\n",
    "Nejenom datové typy ale také mít povědomí **o chybějících hodnotách**:"
   ]
  },
  {
   "cell_type": "code",
   "execution_count": 107,
   "id": "0c3475a3-e337-47af-9342-d85422404618",
   "metadata": {
    "tags": []
   },
   "outputs": [
    {
     "name": "stdout",
     "output_type": "stream",
     "text": [
      "<class 'pandas.core.frame.DataFrame'>\n",
      "RangeIndex: 5 entries, 0 to 4\n",
      "Data columns (total 5 columns):\n",
      " #   Column     Non-Null Count  Dtype  \n",
      "---  ------     --------------  -----  \n",
      " 0   Name       5 non-null      object \n",
      " 1   Age        3 non-null      float64\n",
      " 2   Height_cm  4 non-null      float64\n",
      " 3   Weight_kg  5 non-null      int64  \n",
      " 4   Email      4 non-null      object \n",
      "dtypes: float64(2), int64(1), object(2)\n",
      "memory usage: 328.0+ bytes\n"
     ]
    }
   ],
   "source": [
    "df_uzivatele.info()"
   ]
  },
  {
   "cell_type": "markdown",
   "id": "53a318fa-9536-4ba7-80fd-18e208587ab0",
   "metadata": {},
   "source": [
    "<br>\n",
    "\n",
    "Pomocí metody `info` si uděláš aspoň povrchní přehled o hodnotách, datových typech a chybějících hodnotách.\n",
    "\n",
    "<br>\n",
    "\n",
    "### Kolik mi chybí údajů\n",
    "\n",
    "---"
   ]
  },
  {
   "cell_type": "markdown",
   "id": "90d32e53-380d-4614-b71e-abdcd6bcaaa9",
   "metadata": {},
   "source": [
    "Vždycky přistupuj k datům s mírnou skepsí.\n",
    "\n",
    "Otázkou potom není, *JESTLI* mi chybí data, ale *KOLIK* dat mi chybí **a kde**."
   ]
  },
  {
   "cell_type": "code",
   "execution_count": 108,
   "id": "c4d5d338-a870-4448-be2c-bd9e5a5a2286",
   "metadata": {
    "tags": []
   },
   "outputs": [],
   "source": [
    "chybejici_hodnoty = df_uzivatele.isnull()"
   ]
  },
  {
   "cell_type": "code",
   "execution_count": 109,
   "id": "ce82abad-5126-454d-a338-7219dbedf228",
   "metadata": {
    "tags": []
   },
   "outputs": [
    {
     "data": {
      "text/html": [
       "<div>\n",
       "<style scoped>\n",
       "    .dataframe tbody tr th:only-of-type {\n",
       "        vertical-align: middle;\n",
       "    }\n",
       "\n",
       "    .dataframe tbody tr th {\n",
       "        vertical-align: top;\n",
       "    }\n",
       "\n",
       "    .dataframe thead th {\n",
       "        text-align: right;\n",
       "    }\n",
       "</style>\n",
       "<table border=\"1\" class=\"dataframe\">\n",
       "  <thead>\n",
       "    <tr style=\"text-align: right;\">\n",
       "      <th></th>\n",
       "      <th>Name</th>\n",
       "      <th>Age</th>\n",
       "      <th>Height_cm</th>\n",
       "      <th>Weight_kg</th>\n",
       "      <th>Email</th>\n",
       "    </tr>\n",
       "  </thead>\n",
       "  <tbody>\n",
       "    <tr>\n",
       "      <th>0</th>\n",
       "      <td>False</td>\n",
       "      <td>True</td>\n",
       "      <td>False</td>\n",
       "      <td>False</td>\n",
       "      <td>False</td>\n",
       "    </tr>\n",
       "    <tr>\n",
       "      <th>1</th>\n",
       "      <td>False</td>\n",
       "      <td>False</td>\n",
       "      <td>False</td>\n",
       "      <td>False</td>\n",
       "      <td>False</td>\n",
       "    </tr>\n",
       "    <tr>\n",
       "      <th>2</th>\n",
       "      <td>False</td>\n",
       "      <td>True</td>\n",
       "      <td>False</td>\n",
       "      <td>False</td>\n",
       "      <td>False</td>\n",
       "    </tr>\n",
       "    <tr>\n",
       "      <th>3</th>\n",
       "      <td>False</td>\n",
       "      <td>False</td>\n",
       "      <td>True</td>\n",
       "      <td>False</td>\n",
       "      <td>False</td>\n",
       "    </tr>\n",
       "    <tr>\n",
       "      <th>4</th>\n",
       "      <td>False</td>\n",
       "      <td>False</td>\n",
       "      <td>False</td>\n",
       "      <td>False</td>\n",
       "      <td>True</td>\n",
       "    </tr>\n",
       "  </tbody>\n",
       "</table>\n",
       "</div>"
      ],
      "text/plain": [
       "    Name    Age  Height_cm  Weight_kg  Email\n",
       "0  False   True      False      False  False\n",
       "1  False  False      False      False  False\n",
       "2  False   True      False      False  False\n",
       "3  False  False       True      False  False\n",
       "4  False  False      False      False   True"
      ]
     },
     "execution_count": 109,
     "metadata": {},
     "output_type": "execute_result"
    }
   ],
   "source": [
    "chybejici_hodnoty"
   ]
  },
  {
   "cell_type": "markdown",
   "id": "190da638-5798-48e9-89ed-e15439c30b7a",
   "metadata": {
    "tags": []
   },
   "source": [
    "<br>\n",
    "\n",
    "Pomocí metody `isnull` nahradíš všechny chybějící hodnoty v tabulce/sloupcích pomocí `True`.\n",
    "\n",
    "Pokud nechybí, nahradí s `False`."
   ]
  },
  {
   "cell_type": "code",
   "execution_count": 110,
   "id": "1a6d3816-2841-4dbf-879d-5594375b2b5f",
   "metadata": {
    "tags": []
   },
   "outputs": [
    {
     "data": {
      "text/plain": [
       "pandas.core.frame.DataFrame"
      ]
     },
     "execution_count": 110,
     "metadata": {},
     "output_type": "execute_result"
    }
   ],
   "source": [
    "type(chybejici_hodnoty)"
   ]
  },
  {
   "cell_type": "markdown",
   "id": "bd33aab4-de7f-42ff-81cd-17e0324a6f46",
   "metadata": {},
   "source": [
    "Takový výstup ale není zcela reprezentativní.\n",
    "\n",
    "Proto je potřeba, sečíst všechny `True` hodnoty po sloupcích:"
   ]
  },
  {
   "cell_type": "code",
   "execution_count": 112,
   "id": "601d3405-3f01-4b0e-aa90-ffd579cc3745",
   "metadata": {
    "tags": []
   },
   "outputs": [],
   "source": [
    "chybejici_hodnoty = df_uzivatele.isnull().sum()"
   ]
  },
  {
   "cell_type": "code",
   "execution_count": 113,
   "id": "ada2364d-c759-4f92-a726-769ed75cb32b",
   "metadata": {
    "tags": []
   },
   "outputs": [
    {
     "data": {
      "text/plain": [
       "Name         0\n",
       "Age          2\n",
       "Height_cm    1\n",
       "Weight_kg    0\n",
       "Email        1\n",
       "dtype: int64"
      ]
     },
     "execution_count": 113,
     "metadata": {},
     "output_type": "execute_result"
    }
   ],
   "source": [
    "chybejici_hodnoty"
   ]
  },
  {
   "cell_type": "markdown",
   "id": "27fd0e3f-3d9d-4c84-ad13-555a3007d95d",
   "metadata": {},
   "source": [
    "<br>\n",
    "\n",
    "Opět v jednotkách to nemusí zcela prozrazovat chybovost.\n",
    "\n",
    "Nejlepším indikátorem ale bývají procenta z celkového množství hodnot ve sloupci:"
   ]
  },
  {
   "cell_type": "code",
   "execution_count": 122,
   "id": "bcf80d2c-a855-47b0-a0e7-2c33c2f04132",
   "metadata": {
    "tags": []
   },
   "outputs": [],
   "source": [
    "celkem_zaznamu = df_uzivatele.shape[0]  # 0 ... Indexy, 1 ... sloupce"
   ]
  },
  {
   "cell_type": "code",
   "execution_count": 123,
   "id": "32895f74-6da5-4ff5-98f4-ee5d3d0b6302",
   "metadata": {
    "tags": []
   },
   "outputs": [],
   "source": [
    "celkem_chybi = chybejici_hodnoty"
   ]
  },
  {
   "cell_type": "code",
   "execution_count": 124,
   "id": "c3bebb42-02fe-46d7-8548-fe2ccac030d3",
   "metadata": {
    "tags": []
   },
   "outputs": [],
   "source": [
    "v_procentech = round(celkem_chybi / celkem_zaznamu * 100, 1)"
   ]
  },
  {
   "cell_type": "code",
   "execution_count": 125,
   "id": "67f9c86d-317c-49d9-95bd-e14f69c9541e",
   "metadata": {
    "tags": []
   },
   "outputs": [
    {
     "data": {
      "text/plain": [
       "Name          0.0\n",
       "Age          40.0\n",
       "Height_cm    20.0\n",
       "Weight_kg     0.0\n",
       "Email        20.0\n",
       "dtype: float64"
      ]
     },
     "execution_count": 125,
     "metadata": {},
     "output_type": "execute_result"
    }
   ],
   "source": [
    "v_procentech"
   ]
  },
  {
   "cell_type": "markdown",
   "id": "fd4f20a8-15cd-419c-93f8-d36c682c99a5",
   "metadata": {},
   "source": [
    "<br>\n",
    "\n",
    "případně celkové množství záznamů ve všech sloupcích:"
   ]
  },
  {
   "cell_type": "code",
   "execution_count": 126,
   "id": "18d55c4a-96dd-47ee-be53-2adf575c0a94",
   "metadata": {
    "tags": []
   },
   "outputs": [],
   "source": [
    "vsechny_bunky = df_uzivatele.shape[0] * df_uzivatele.shape[1]  # 5 * 4"
   ]
  },
  {
   "cell_type": "code",
   "execution_count": 127,
   "id": "af159bf5-4cd4-46df-a217-33df9b747722",
   "metadata": {
    "tags": []
   },
   "outputs": [],
   "source": [
    "vsechny_chybejici_hodnoty = chybejici_hodnoty.sum()            # 4"
   ]
  },
  {
   "cell_type": "code",
   "execution_count": 128,
   "id": "0f685a6e-356b-4920-b777-cb1c58a09685",
   "metadata": {
    "tags": []
   },
   "outputs": [],
   "source": [
    "celkem_v_procentech = round(vsechny_chybejici_hodnoty / vsechny_bunky * 100, 1)"
   ]
  },
  {
   "cell_type": "code",
   "execution_count": 129,
   "id": "15dc8401-e04c-4957-8cdf-1bcbaed265ed",
   "metadata": {
    "tags": []
   },
   "outputs": [
    {
     "data": {
      "text/plain": [
       "20.0"
      ]
     },
     "execution_count": 129,
     "metadata": {},
     "output_type": "execute_result"
    }
   ],
   "source": [
    "celkem_v_procentech"
   ]
  },
  {
   "cell_type": "markdown",
   "id": "bfbdfaa1-e163-44d3-9912-a76f48011291",
   "metadata": {},
   "source": [
    "<br>\n",
    "\n",
    "V této ukázce tedy chybí 20 % dat a to není málo!"
   ]
  },
  {
   "cell_type": "markdown",
   "id": "094ded0c-63bf-4198-8869-0341be3a9faa",
   "metadata": {},
   "source": [
    "<br>\n",
    "\n",
    "### Co s chybějícími hodnotami\n",
    "\n",
    "---"
   ]
  },
  {
   "cell_type": "markdown",
   "id": "25830900-8a89-4a7a-a1ff-31c0f4d46941",
   "metadata": {},
   "source": [
    "Je důležité vědět, proč máš takové množství chybějících hodnot.\n",
    "\n",
    "Chybí ti data, protože neexistují, nebo protože nejsou součástí záznamů v datasetu.\n",
    "\n",
    "V takových krocích je obvykle nutné, pochopit podstatu údajů (dokumentace, specifikace,..).\n",
    "\n",
    "Nejjednodušší způsoby, jak s chybějícími daty naložit (ale ne efektivní!!):\n",
    "1. Zahodit chybějící hodnoty,\n",
    "2. doplnit chybějící hodnoty."
   ]
  },
  {
   "cell_type": "markdown",
   "id": "0b2499c6-787c-4554-a294-5ebf9e765be1",
   "metadata": {},
   "source": [
    "#### Zahodit chybějící hodnoty"
   ]
  },
  {
   "cell_type": "code",
   "execution_count": 130,
   "id": "6e154fe4-fe48-4249-a776-425d21248b46",
   "metadata": {
    "tags": []
   },
   "outputs": [
    {
     "data": {
      "text/html": [
       "<div>\n",
       "<style scoped>\n",
       "    .dataframe tbody tr th:only-of-type {\n",
       "        vertical-align: middle;\n",
       "    }\n",
       "\n",
       "    .dataframe tbody tr th {\n",
       "        vertical-align: top;\n",
       "    }\n",
       "\n",
       "    .dataframe thead th {\n",
       "        text-align: right;\n",
       "    }\n",
       "</style>\n",
       "<table border=\"1\" class=\"dataframe\">\n",
       "  <thead>\n",
       "    <tr style=\"text-align: right;\">\n",
       "      <th></th>\n",
       "      <th>Name</th>\n",
       "      <th>Age</th>\n",
       "      <th>Height_cm</th>\n",
       "      <th>Weight_kg</th>\n",
       "    </tr>\n",
       "  </thead>\n",
       "  <tbody>\n",
       "    <tr>\n",
       "      <th>1</th>\n",
       "      <td>Bob</td>\n",
       "      <td>20.0</td>\n",
       "      <td>170.0</td>\n",
       "      <td>65</td>\n",
       "    </tr>\n",
       "    <tr>\n",
       "      <th>4</th>\n",
       "      <td>Eve</td>\n",
       "      <td>23.0</td>\n",
       "      <td>165.0</td>\n",
       "      <td>55</td>\n",
       "    </tr>\n",
       "  </tbody>\n",
       "</table>\n",
       "</div>"
      ],
      "text/plain": [
       "  Name   Age  Height_cm  Weight_kg\n",
       "1  Bob  20.0      170.0         65\n",
       "4  Eve  23.0      165.0         55"
      ]
     },
     "execution_count": 130,
     "metadata": {},
     "output_type": "execute_result"
    }
   ],
   "source": [
    "df_uzivatele.dropna()"
   ]
  },
  {
   "cell_type": "markdown",
   "id": "ea526c53-5802-4143-ab32-d42fba3b0727",
   "metadata": {},
   "source": [
    "<br>\n",
    "\n",
    "V tento okamžik si zahodíš všechny záznamy, které **postrádaly nějakou hodnotu**.\n",
    "\n",
    "Někdy je jednodušší zahodit sloupeček, který má chybějící hodnotu:"
   ]
  },
  {
   "cell_type": "code",
   "execution_count": 131,
   "id": "5cae373b-2803-4607-9de5-3ee8ceecb4db",
   "metadata": {
    "tags": []
   },
   "outputs": [
    {
     "data": {
      "text/html": [
       "<div>\n",
       "<style scoped>\n",
       "    .dataframe tbody tr th:only-of-type {\n",
       "        vertical-align: middle;\n",
       "    }\n",
       "\n",
       "    .dataframe tbody tr th {\n",
       "        vertical-align: top;\n",
       "    }\n",
       "\n",
       "    .dataframe thead th {\n",
       "        text-align: right;\n",
       "    }\n",
       "</style>\n",
       "<table border=\"1\" class=\"dataframe\">\n",
       "  <thead>\n",
       "    <tr style=\"text-align: right;\">\n",
       "      <th></th>\n",
       "      <th>Name</th>\n",
       "      <th>Weight_kg</th>\n",
       "    </tr>\n",
       "  </thead>\n",
       "  <tbody>\n",
       "    <tr>\n",
       "      <th>0</th>\n",
       "      <td>Alice</td>\n",
       "      <td>50</td>\n",
       "    </tr>\n",
       "    <tr>\n",
       "      <th>1</th>\n",
       "      <td>Bob</td>\n",
       "      <td>65</td>\n",
       "    </tr>\n",
       "    <tr>\n",
       "      <th>2</th>\n",
       "      <td>Charlie</td>\n",
       "      <td>70</td>\n",
       "    </tr>\n",
       "    <tr>\n",
       "      <th>3</th>\n",
       "      <td>David</td>\n",
       "      <td>80</td>\n",
       "    </tr>\n",
       "    <tr>\n",
       "      <th>4</th>\n",
       "      <td>Eve</td>\n",
       "      <td>55</td>\n",
       "    </tr>\n",
       "  </tbody>\n",
       "</table>\n",
       "</div>"
      ],
      "text/plain": [
       "      Name  Weight_kg\n",
       "0    Alice         50\n",
       "1      Bob         65\n",
       "2  Charlie         70\n",
       "3    David         80\n",
       "4      Eve         55"
      ]
     },
     "execution_count": 131,
     "metadata": {},
     "output_type": "execute_result"
    }
   ],
   "source": [
    "df_uzivatele.dropna(axis=1)"
   ]
  },
  {
   "cell_type": "markdown",
   "id": "b1fac794-0d34-48ec-b6c6-9386f28b1f43",
   "metadata": {},
   "source": [
    "#### Doplnit automaticky hodnoty"
   ]
  },
  {
   "cell_type": "code",
   "execution_count": null,
   "id": "8cc16fb8-1ae9-4b7b-b58d-3ee26a54f62a",
   "metadata": {},
   "outputs": [],
   "source": [
    "df_uzivatele.fillna(0)"
   ]
  },
  {
   "cell_type": "markdown",
   "id": "1d01774e-1e53-4d03-8601-010eb30e6ff5",
   "metadata": {},
   "source": [
    "<br>\n",
    "\n",
    "Pomocí funkce `fillna` můžeš vyplnit místo chybějících hodnot předdefinovanou vlastní hodnotu.\n",
    "\n",
    "Nebo pomocí argumentu pro `method` pracovat s elegantnějším zadáním.\n",
    "\n",
    "Nahradit chybějící hodnoty hodnotou, která následuje bezprostředně za ní ve stejném sloupci (To má velký smysl u souborů dat, kde mají pozorování nějaké logické pořadí.)"
   ]
  },
  {
   "cell_type": "code",
   "execution_count": 144,
   "id": "b4a9f2d8-83a3-4bda-9ea7-5d0afc12c3a1",
   "metadata": {
    "tags": []
   },
   "outputs": [
    {
     "data": {
      "text/html": [
       "<div>\n",
       "<style scoped>\n",
       "    .dataframe tbody tr th:only-of-type {\n",
       "        vertical-align: middle;\n",
       "    }\n",
       "\n",
       "    .dataframe tbody tr th {\n",
       "        vertical-align: top;\n",
       "    }\n",
       "\n",
       "    .dataframe thead th {\n",
       "        text-align: right;\n",
       "    }\n",
       "</style>\n",
       "<table border=\"1\" class=\"dataframe\">\n",
       "  <thead>\n",
       "    <tr style=\"text-align: right;\">\n",
       "      <th></th>\n",
       "      <th>Name</th>\n",
       "      <th>Age</th>\n",
       "      <th>Height_cm</th>\n",
       "      <th>Weight_kg</th>\n",
       "    </tr>\n",
       "  </thead>\n",
       "  <tbody>\n",
       "    <tr>\n",
       "      <th>0</th>\n",
       "      <td>Alice</td>\n",
       "      <td>20.0</td>\n",
       "      <td>160.0</td>\n",
       "      <td>50</td>\n",
       "    </tr>\n",
       "    <tr>\n",
       "      <th>1</th>\n",
       "      <td>Bob</td>\n",
       "      <td>20.0</td>\n",
       "      <td>170.0</td>\n",
       "      <td>65</td>\n",
       "    </tr>\n",
       "    <tr>\n",
       "      <th>2</th>\n",
       "      <td>Charlie</td>\n",
       "      <td>22.0</td>\n",
       "      <td>175.0</td>\n",
       "      <td>70</td>\n",
       "    </tr>\n",
       "    <tr>\n",
       "      <th>3</th>\n",
       "      <td>David</td>\n",
       "      <td>22.0</td>\n",
       "      <td>165.0</td>\n",
       "      <td>80</td>\n",
       "    </tr>\n",
       "    <tr>\n",
       "      <th>4</th>\n",
       "      <td>Eve</td>\n",
       "      <td>23.0</td>\n",
       "      <td>165.0</td>\n",
       "      <td>55</td>\n",
       "    </tr>\n",
       "  </tbody>\n",
       "</table>\n",
       "</div>"
      ],
      "text/plain": [
       "      Name   Age  Height_cm  Weight_kg\n",
       "0    Alice  20.0      160.0         50\n",
       "1      Bob  20.0      170.0         65\n",
       "2  Charlie  22.0      175.0         70\n",
       "3    David  22.0      165.0         80\n",
       "4      Eve  23.0      165.0         55"
      ]
     },
     "execution_count": 144,
     "metadata": {},
     "output_type": "execute_result"
    }
   ],
   "source": [
    "df_uzivatele.fillna(method='bfill', axis=0).fillna(0)"
   ]
  },
  {
   "cell_type": "code",
   "execution_count": null,
   "id": "453930ea-feb3-477e-8556-c29a52e0ea63",
   "metadata": {},
   "outputs": [],
   "source": []
  }
 ],
 "metadata": {
  "kernelspec": {
   "display_name": "Python 3 (ipykernel)",
   "language": "python",
   "name": "python3"
  },
  "language_info": {
   "codemirror_mode": {
    "name": "ipython",
    "version": 3
   },
   "file_extension": ".py",
   "mimetype": "text/x-python",
   "name": "python",
   "nbconvert_exporter": "python",
   "pygments_lexer": "ipython3",
   "version": "3.8.10"
  }
 },
 "nbformat": 4,
 "nbformat_minor": 5
}

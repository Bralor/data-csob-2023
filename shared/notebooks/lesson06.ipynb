{
 "cells": [
  {
   "cell_type": "markdown",
   "id": "72008c88-ffa4-4373-8cbc-50c98f67dc78",
   "metadata": {},
   "source": [
    "# Datová akademie, ČSOB, 2023\n",
    "\n",
    "---"
   ]
  },
  {
   "cell_type": "markdown",
   "id": "84a460cd-21de-4558-b438-000008e8ab83",
   "metadata": {},
   "source": [
    "* [Agregace v NUMPY](#Agregace-v-NUMPY),\n",
    "    - vypočítej sumu,\n",
    "    - další způsoby agregace,\n",
    "    - minimum & maximum,\n",
    "\n",
    "    - cvičení.\n",
    "\n",
    "* [Broadcasting v NUMPY](#Broadcasting-v-NUMPY),\n",
    "* [Indexování v NUMPY](#Indexování-v-NUMPY),\n",
    "* [Třídění v NUMPY](#Třídění-v-NUMPY),\n",
    "* [Strukturovaná pole v NUMPY](#Strukturovaná-pole-v-NUMPY)."
   ]
  },
  {
   "cell_type": "code",
   "execution_count": null,
   "id": "0624a526-0a8d-4883-8ee5-e33b4d333faa",
   "metadata": {},
   "outputs": [],
   "source": []
  },
  {
   "cell_type": "markdown",
   "id": "cadd9064-50b3-435d-a9b2-10727a88508a",
   "metadata": {},
   "source": [
    "## Agregace v NUMPY\n",
    "\n",
    "---\n",
    "\n",
    "<img src=\"https://external-content.duckduckgo.com/iu/?u=https%3A%2F%2Ftse1.mm.bing.net%2Fth%3Fid%3DOIP.QQOtOJPya2YEO6IkVBnYjQHaDV%26pid%3DApi&f=1&ipt=245c27df971ff24527ca317988f6feda8b14851ef0a889fda7d5a10d114dc5e6&ipo=images\" width=\"300\" style=\"margin-left:auto; margin-right:auto\"/>"
   ]
  },
  {
   "cell_type": "markdown",
   "id": "d8b9a37f-689a-478d-b66b-9c1916af1c85",
   "metadata": {},
   "source": [
    "Pro velké množství dat bývá prvním krokem jednoduchá analýza.\n",
    "\n",
    "Tedy průměr, směrodatná odchylka. Ty ti umožní lépe pochopit jednotlivé hodnoty.\n",
    "\n",
    "Jsou dostupné i další pomocné souhrnné statistiky (minimum, maximum, suma, ..).\n",
    "\n",
    "Takové řešení ti `numpy` nabízí také."
   ]
  },
  {
   "cell_type": "markdown",
   "id": "2785d0bb-345f-4625-aa90-f2368f020edd",
   "metadata": {},
   "source": [
    "### Vypočítej sumu pomocí NUMPY\n",
    "\n",
    "---"
   ]
  },
  {
   "cell_type": "markdown",
   "id": "d6d6e6f2-dc59-41a4-8a05-bdadccfb11f8",
   "metadata": {},
   "source": [
    "Pokud potřebuješ vypočítat nyní *sumu* pomocí standardní knihovny funkcí v Pythonu, vystačíš si s funkcí `sum`:"
   ]
  },
  {
   "cell_type": "code",
   "execution_count": 1,
   "id": "6580f4fa-3b0c-4625-ac2b-b3dba2f57455",
   "metadata": {
    "tags": []
   },
   "outputs": [],
   "source": [
    "import numpy"
   ]
  },
  {
   "cell_type": "code",
   "execution_count": 3,
   "id": "92fa581b-6e98-48b7-b97e-cc9a7a504090",
   "metadata": {
    "tags": []
   },
   "outputs": [],
   "source": [
    "velke_1D_pole = numpy.random.rand(100_000_000)"
   ]
  },
  {
   "cell_type": "code",
   "execution_count": 4,
   "id": "76cc3d3a-35f8-4f72-bf04-a4d8ba293d6f",
   "metadata": {
    "tags": []
   },
   "outputs": [
    {
     "data": {
      "text/plain": [
       "array([0.38180835, 0.2567083 , 0.17459066, ..., 0.14681604, 0.53909871,\n",
       "       0.24938471])"
      ]
     },
     "execution_count": 4,
     "metadata": {},
     "output_type": "execute_result"
    }
   ],
   "source": [
    "velke_1D_pole"
   ]
  },
  {
   "cell_type": "code",
   "execution_count": 5,
   "id": "1ea195a4-a198-4498-af90-1aa59bcd39a7",
   "metadata": {
    "tags": []
   },
   "outputs": [
    {
     "data": {
      "text/plain": [
       "49997600.570065096"
      ]
     },
     "execution_count": 5,
     "metadata": {},
     "output_type": "execute_result"
    }
   ],
   "source": [
    "sum(velke_1D_pole)"
   ]
  },
  {
   "cell_type": "markdown",
   "id": "d3493b73-765c-4f47-bc20-44bae0660f3d",
   "metadata": {},
   "source": [
    "<br>\n",
    "\n",
    "Knihovna `numpy` ti také nabízí řešení pomocí `numpy.sum`:"
   ]
  },
  {
   "cell_type": "code",
   "execution_count": 6,
   "id": "e8e05b13-062a-4d72-aef5-8c682c64a332",
   "metadata": {
    "tags": []
   },
   "outputs": [
    {
     "data": {
      "text/plain": [
       "function"
      ]
     },
     "execution_count": 6,
     "metadata": {},
     "output_type": "execute_result"
    }
   ],
   "source": [
    "type(numpy.sum)"
   ]
  },
  {
   "cell_type": "code",
   "execution_count": 8,
   "id": "317fdfaa-1b6a-4af2-97e5-11cbb1a4cb4e",
   "metadata": {
    "tags": []
   },
   "outputs": [
    {
     "data": {
      "text/plain": [
       "49997600.57004201"
      ]
     },
     "execution_count": 8,
     "metadata": {},
     "output_type": "execute_result"
    }
   ],
   "source": [
    "numpy.sum(velke_1D_pole)"
   ]
  },
  {
   "cell_type": "markdown",
   "id": "fdd836e2-4352-40d0-b2bc-271fb1088dd8",
   "metadata": {},
   "source": [
    "<br>\n",
    "\n",
    "Klíčový rozdíl v aplikaci hraje výsledný čas obou průběhů:"
   ]
  },
  {
   "cell_type": "code",
   "execution_count": 9,
   "id": "0984310a-a006-49d1-b329-2f125eb3724f",
   "metadata": {
    "tags": []
   },
   "outputs": [
    {
     "name": "stdout",
     "output_type": "stream",
     "text": [
      "7.45 s ± 1.19 s per loop (mean ± std. dev. of 7 runs, 1 loop each)\n"
     ]
    }
   ],
   "source": [
    "%timeit sum(velke_1D_pole)"
   ]
  },
  {
   "cell_type": "code",
   "execution_count": 10,
   "id": "7050ae56-1874-4db9-a83b-80e8b511f47c",
   "metadata": {
    "tags": []
   },
   "outputs": [
    {
     "name": "stdout",
     "output_type": "stream",
     "text": [
      "67.7 ms ± 8.8 ms per loop (mean ± std. dev. of 7 runs, 10 loops each)\n"
     ]
    }
   ],
   "source": [
    "%timeit numpy.sum(velke_1D_pole)"
   ]
  },
  {
   "cell_type": "markdown",
   "id": "badfd0a2-434f-4ddf-a64d-035a3df98dfb",
   "metadata": {},
   "source": [
    "<br>\n",
    "\n",
    "Kde výsledkem zamíchá řešení v již zkompilovaném kódu knihovny `numpy`.\n",
    "\n",
    "Dalším rozdílem jsou možnosti pro funkce `sum` a `numpy.sum`.\n",
    "\n",
    "Obě knihovny mají totiž různé argumenty a `numpy.sum` bere v potaz více dimenzí."
   ]
  },
  {
   "cell_type": "markdown",
   "id": "2e731418-4a15-4e7e-960d-e419b0da7f4f",
   "metadata": {},
   "source": [
    "### Dostupné agregační funkce v NUMPY\n",
    "\n",
    "---"
   ]
  },
  {
   "cell_type": "markdown",
   "id": "1941a1a3-0699-4bc8-88e6-58e7a30b23f1",
   "metadata": {
    "tags": []
   },
   "source": [
    "Knihovna samozřejmě nabízí velké množství funkcí. Nejen *sumu*.\n",
    "\n",
    "V některých starších verzích bohužel opatření proti agregaci chybějících (`NaN`) hodnot."
   ]
  },
  {
   "cell_type": "markdown",
   "id": "300be103-02ca-45de-abfb-700ff3ef4472",
   "metadata": {},
   "source": [
    "| Funkce | NaN-safe varianta | Popis |\n",
    "| :- | :- | :- |\n",
    "| `np.sum` | `np.nansum` | vypočítá sumu prvků |\n",
    "| `np.mean` | `np.nanmean` | vypočítá medián zadaných prvků |\n",
    "| `np.std` | `np.nanstd` | vypočítá odchylku prvků |\n",
    "| `np.min` | `np.nanmin` | najde **minimální** hodnotu |\n",
    "| `np.max` | `np.nanmax` | najde **maximální** hodnotu |\n",
    "| `np.argmin` | `np.nanargmin` | najde index **minimální** hodnoty |\n",
    "| `np.argmax` | `np.nanargmax` | najde index **maximální** hodnoty |\n",
    "| `np.any` | `N/A` | vyhodnotí, jestli je **alespoň nějaký** prvek pravdivý |\n",
    "| `np.all` | `N/A` | vyhodnotí, jestli je **každý prvek** pravdivý |"
   ]
  },
  {
   "cell_type": "markdown",
   "id": "58cc437b-6661-4824-a17f-7b21cbebe480",
   "metadata": {},
   "source": [
    "### Najdi minimum a maximum\n",
    "\n",
    "---"
   ]
  },
  {
   "cell_type": "markdown",
   "id": "d605b801-dfeb-418f-88bd-8d4991dbd5ec",
   "metadata": {},
   "source": [
    "Obdobně jako u funkce `sum` existují i pro funkce `min` a `max` alternativy.\n",
    "\n",
    "Stejně jako pro předchozí varianty je i v tomto ohledu `numpy` výkonnější:"
   ]
  },
  {
   "cell_type": "code",
   "execution_count": 12,
   "id": "3d2bc3c0-dbef-4404-ae03-3a286353f748",
   "metadata": {
    "tags": []
   },
   "outputs": [
    {
     "name": "stdout",
     "output_type": "stream",
     "text": [
      "4.53 s ± 85.9 ms per loop (mean ± std. dev. of 7 runs, 1 loop each)\n"
     ]
    }
   ],
   "source": [
    "%timeit max(velke_1D_pole)"
   ]
  },
  {
   "cell_type": "code",
   "execution_count": 13,
   "id": "000894a9-0668-4fb4-ade0-b142d94d1c6a",
   "metadata": {
    "tags": []
   },
   "outputs": [
    {
     "name": "stdout",
     "output_type": "stream",
     "text": [
      "66.3 ms ± 3.09 ms per loop (mean ± std. dev. of 7 runs, 10 loops each)\n"
     ]
    }
   ],
   "source": [
    "%timeit numpy.max(velke_1D_pole)"
   ]
  },
  {
   "cell_type": "markdown",
   "id": "2c8a7034-f82d-4391-8715-3a4c595b42ec",
   "metadata": {},
   "source": [
    "<br>\n",
    "\n",
    "Některé agregační funkce podporují zápis ve formátu *metody*:"
   ]
  },
  {
   "cell_type": "code",
   "execution_count": 14,
   "id": "e6f8196f-2cb9-4aa7-8032-0cd7cb62f3f2",
   "metadata": {
    "tags": []
   },
   "outputs": [
    {
     "data": {
      "text/plain": [
       "2.8388918660304796e-08"
      ]
     },
     "execution_count": 14,
     "metadata": {},
     "output_type": "execute_result"
    }
   ],
   "source": [
    "velke_1D_pole.min()"
   ]
  },
  {
   "cell_type": "code",
   "execution_count": 15,
   "id": "5e96259f-f3fb-4f89-a38d-42b9723e9c1b",
   "metadata": {
    "tags": []
   },
   "outputs": [
    {
     "data": {
      "text/plain": [
       "0.9999999864020268"
      ]
     },
     "execution_count": 15,
     "metadata": {},
     "output_type": "execute_result"
    }
   ],
   "source": [
    "velke_1D_pole.max()"
   ]
  },
  {
   "cell_type": "markdown",
   "id": "af83a9d6-b971-4754-a8dc-734bbf5943a6",
   "metadata": {},
   "source": [
    "### Agragace na více dimenzí\n",
    "\n",
    "---"
   ]
  },
  {
   "cell_type": "markdown",
   "id": "ded732d7-4a25-4d93-9c40-b1d5755b8afb",
   "metadata": {},
   "source": [
    "Pokud provádíš defaultně agregace, funkce agreguje přes celé pole:"
   ]
  },
  {
   "cell_type": "code",
   "execution_count": 16,
   "id": "aa0070ac-d5eb-4ade-98c0-f9c2d6d47235",
   "metadata": {
    "tags": []
   },
   "outputs": [],
   "source": [
    "matice = numpy.random.randint(1, 11, size=(3, 3))"
   ]
  },
  {
   "cell_type": "code",
   "execution_count": 17,
   "id": "9776805b-8d84-4dd6-9fe3-6d772e2f0cc9",
   "metadata": {
    "tags": []
   },
   "outputs": [
    {
     "data": {
      "text/plain": [
       "array([[ 5,  7,  6],\n",
       "       [ 1, 10,  3],\n",
       "       [ 2, 10,  7]])"
      ]
     },
     "execution_count": 17,
     "metadata": {},
     "output_type": "execute_result"
    }
   ],
   "source": [
    "matice"
   ]
  },
  {
   "cell_type": "code",
   "execution_count": 18,
   "id": "9b1c5132-6e8e-4534-acd3-d12d2bd243af",
   "metadata": {
    "tags": []
   },
   "outputs": [
    {
     "data": {
      "text/plain": [
       "51"
      ]
     },
     "execution_count": 18,
     "metadata": {},
     "output_type": "execute_result"
    }
   ],
   "source": [
    "matice.sum()"
   ]
  },
  {
   "cell_type": "markdown",
   "id": "6169ac07-ee6e-4a16-be6c-30d4330ed7e9",
   "metadata": {},
   "source": [
    "<br>\n",
    "\n",
    "Agregační funkce mají k dispozici parametr `axis`, pomocí kterého můžeš defaultní počítání upravit:\n",
    "1. Agregace **po řádcích**,\n",
    "2. agregace **po sloupcích**,"
   ]
  },
  {
   "cell_type": "code",
   "execution_count": 19,
   "id": "c300a0cc-5d99-45bd-a61e-a8215a96afee",
   "metadata": {
    "tags": []
   },
   "outputs": [
    {
     "data": {
      "text/plain": [
       "array([18, 14, 19])"
      ]
     },
     "execution_count": 19,
     "metadata": {},
     "output_type": "execute_result"
    }
   ],
   "source": [
    "matice.sum(axis=1)  # suma po řádcích"
   ]
  },
  {
   "cell_type": "code",
   "execution_count": 20,
   "id": "8235c9a9-e57d-4886-b6b1-bca3425f6157",
   "metadata": {
    "tags": []
   },
   "outputs": [
    {
     "data": {
      "text/plain": [
       "array([ 8, 27, 16])"
      ]
     },
     "execution_count": 20,
     "metadata": {},
     "output_type": "execute_result"
    }
   ],
   "source": [
    "matice.sum(axis=0)  # suma po sloupcích"
   ]
  },
  {
   "cell_type": "markdown",
   "id": "bb5f56bc-50a6-4f74-bc6b-140135c94866",
   "metadata": {},
   "source": [
    "<br>\n",
    "\n",
    "Dávej pozor na chybějící hodnoty. Pokud se v poli vyskytují, můžou ovlivnit výsledek:"
   ]
  },
  {
   "cell_type": "code",
   "execution_count": 33,
   "id": "57d605a2-4184-474f-8769-4daf83c0bec0",
   "metadata": {
    "tags": []
   },
   "outputs": [],
   "source": [
    "chybejici_hodnoty = numpy.array(\n",
    "    [[1, 2, 3], [4, 5, numpy.nan], [numpy.nan, 7, 8]]\n",
    ")"
   ]
  },
  {
   "cell_type": "code",
   "execution_count": 34,
   "id": "7f6a3bd1-7c2e-4762-8acd-195172cc79fa",
   "metadata": {
    "tags": []
   },
   "outputs": [
    {
     "data": {
      "text/plain": [
       "array([[ 1.,  2.,  3.],\n",
       "       [ 4.,  5., nan],\n",
       "       [nan,  7.,  8.]])"
      ]
     },
     "execution_count": 34,
     "metadata": {},
     "output_type": "execute_result"
    }
   ],
   "source": [
    "chybejici_hodnoty"
   ]
  },
  {
   "cell_type": "code",
   "execution_count": 38,
   "id": "de23f0b2-a024-4d34-9323-e36b978caf42",
   "metadata": {
    "tags": []
   },
   "outputs": [
    {
     "data": {
      "text/plain": [
       "array([ 6., nan, nan])"
      ]
     },
     "execution_count": 38,
     "metadata": {},
     "output_type": "execute_result"
    }
   ],
   "source": [
    "chybejici_hodnoty.sum(axis=1)"
   ]
  },
  {
   "cell_type": "markdown",
   "id": "9835e1fe-268d-4046-b0cb-a9204e5cf7d3",
   "metadata": {
    "tags": []
   },
   "source": [
    "<br>\n",
    "\n",
    "Pokud víš, že pole, která hodláš zpracovávat takové hodnoty obsahují, použij alternativní metody:"
   ]
  },
  {
   "cell_type": "code",
   "execution_count": 37,
   "id": "8a1b6f40-b688-4523-a180-f39ca402c3ef",
   "metadata": {
    "tags": []
   },
   "outputs": [
    {
     "data": {
      "text/plain": [
       "array([ 6.,  9., 15.])"
      ]
     },
     "execution_count": 37,
     "metadata": {},
     "output_type": "execute_result"
    }
   ],
   "source": [
    "numpy.nansum(chybejici_hodnoty, axis=1)"
   ]
  },
  {
   "cell_type": "markdown",
   "id": "e1c6ed0b-a59d-475e-8218-648c319ab82d",
   "metadata": {},
   "source": [
    "<br>\n",
    "\n",
    "Formulace pomocí metod nebude pracovat:"
   ]
  },
  {
   "cell_type": "code",
   "execution_count": 39,
   "id": "c8163694-8f52-49f1-9e14-d5b388bd6298",
   "metadata": {
    "tags": []
   },
   "outputs": [
    {
     "ename": "AttributeError",
     "evalue": "'numpy.ndarray' object has no attribute 'nansum'",
     "output_type": "error",
     "traceback": [
      "\u001b[0;31m---------------------------------------------------------------------------\u001b[0m",
      "\u001b[0;31mAttributeError\u001b[0m                            Traceback (most recent call last)",
      "Cell \u001b[0;32mIn[39], line 1\u001b[0m\n\u001b[0;32m----> 1\u001b[0m \u001b[43mchybejici_hodnoty\u001b[49m\u001b[38;5;241;43m.\u001b[39;49m\u001b[43mnansum\u001b[49m(axis\u001b[38;5;241m=\u001b[39m\u001b[38;5;241m1\u001b[39m)\n",
      "\u001b[0;31mAttributeError\u001b[0m: 'numpy.ndarray' object has no attribute 'nansum'"
     ]
    }
   ],
   "source": [
    "chybejici_hodnoty.nansum(axis=1)"
   ]
  },
  {
   "cell_type": "code",
   "execution_count": null,
   "id": "39c62005-968a-484c-b2ea-7e49926d3c36",
   "metadata": {},
   "outputs": [],
   "source": []
  },
  {
   "cell_type": "code",
   "execution_count": 23,
   "id": "f2e55772-6162-4190-aa64-f4ca96ddd25f",
   "metadata": {
    "tags": []
   },
   "outputs": [
    {
     "name": "stdout",
     "output_type": "stream",
     "text": [
      "Help on function amin in module numpy:\n",
      "\n",
      "amin(a, axis=None, out=None, keepdims=<no value>, initial=<no value>, where=<no value>)\n",
      "    Return the minimum of an array or minimum along an axis.\n",
      "    \n",
      "    Parameters\n",
      "    ----------\n",
      "    a : array_like\n",
      "        Input data.\n",
      "    axis : None or int or tuple of ints, optional\n",
      "        Axis or axes along which to operate.  By default, flattened input is\n",
      "        used.\n",
      "    \n",
      "        .. versionadded:: 1.7.0\n",
      "    \n",
      "        If this is a tuple of ints, the minimum is selected over multiple axes,\n",
      "        instead of a single axis or all the axes as before.\n",
      "    out : ndarray, optional\n",
      "        Alternative output array in which to place the result.  Must\n",
      "        be of the same shape and buffer length as the expected output.\n",
      "        See :ref:`ufuncs-output-type` for more details.\n",
      "    \n",
      "    keepdims : bool, optional\n",
      "        If this is set to True, the axes which are reduced are left\n",
      "        in the result as dimensions with size one. With this option,\n",
      "        the result will broadcast correctly against the input array.\n",
      "    \n",
      "        If the default value is passed, then `keepdims` will not be\n",
      "        passed through to the `amin` method of sub-classes of\n",
      "        `ndarray`, however any non-default value will be.  If the\n",
      "        sub-class' method does not implement `keepdims` any\n",
      "        exceptions will be raised.\n",
      "    \n",
      "    initial : scalar, optional\n",
      "        The maximum value of an output element. Must be present to allow\n",
      "        computation on empty slice. See `~numpy.ufunc.reduce` for details.\n",
      "    \n",
      "        .. versionadded:: 1.15.0\n",
      "    \n",
      "    where : array_like of bool, optional\n",
      "        Elements to compare for the minimum. See `~numpy.ufunc.reduce`\n",
      "        for details.\n",
      "    \n",
      "        .. versionadded:: 1.17.0\n",
      "    \n",
      "    Returns\n",
      "    -------\n",
      "    amin : ndarray or scalar\n",
      "        Minimum of `a`. If `axis` is None, the result is a scalar value.\n",
      "        If `axis` is an int, the result is an array of dimension\n",
      "        ``a.ndim - 1``.  If `axis` is a tuple, the result is an array of \n",
      "        dimension ``a.ndim - len(axis)``.\n",
      "    \n",
      "    See Also\n",
      "    --------\n",
      "    amax :\n",
      "        The maximum value of an array along a given axis, propagating any NaNs.\n",
      "    nanmin :\n",
      "        The minimum value of an array along a given axis, ignoring any NaNs.\n",
      "    minimum :\n",
      "        Element-wise minimum of two arrays, propagating any NaNs.\n",
      "    fmin :\n",
      "        Element-wise minimum of two arrays, ignoring any NaNs.\n",
      "    argmin :\n",
      "        Return the indices of the minimum values.\n",
      "    \n",
      "    nanmax, maximum, fmax\n",
      "    \n",
      "    Notes\n",
      "    -----\n",
      "    NaN values are propagated, that is if at least one item is NaN, the\n",
      "    corresponding min value will be NaN as well. To ignore NaN values\n",
      "    (MATLAB behavior), please use nanmin.\n",
      "    \n",
      "    Don't use `amin` for element-wise comparison of 2 arrays; when\n",
      "    ``a.shape[0]`` is 2, ``minimum(a[0], a[1])`` is faster than\n",
      "    ``amin(a, axis=0)``.\n",
      "    \n",
      "    Examples\n",
      "    --------\n",
      "    >>> a = np.arange(4).reshape((2,2))\n",
      "    >>> a\n",
      "    array([[0, 1],\n",
      "           [2, 3]])\n",
      "    >>> np.amin(a)           # Minimum of the flattened array\n",
      "    0\n",
      "    >>> np.amin(a, axis=0)   # Minima along the first axis\n",
      "    array([0, 1])\n",
      "    >>> np.amin(a, axis=1)   # Minima along the second axis\n",
      "    array([0, 2])\n",
      "    >>> np.amin(a, where=[False, True], initial=10, axis=0)\n",
      "    array([10,  1])\n",
      "    \n",
      "    >>> b = np.arange(5, dtype=float)\n",
      "    >>> b[2] = np.NaN\n",
      "    >>> np.amin(b)\n",
      "    nan\n",
      "    >>> np.amin(b, where=~np.isnan(b), initial=10)\n",
      "    0.0\n",
      "    >>> np.nanmin(b)\n",
      "    0.0\n",
      "    \n",
      "    >>> np.amin([[-50], [10]], axis=-1, initial=0)\n",
      "    array([-50,   0])\n",
      "    \n",
      "    Notice that the initial value is used as one of the elements for which the\n",
      "    minimum is determined, unlike for the default argument Python's max\n",
      "    function, which is only used for empty iterables.\n",
      "    \n",
      "    Notice that this isn't the same as Python's ``default`` argument.\n",
      "    \n",
      "    >>> np.amin([6], initial=5)\n",
      "    5\n",
      "    >>> min([6], default=5)\n",
      "    6\n",
      "\n"
     ]
    }
   ],
   "source": [
    "import numpy as np\n",
    "\n",
    "# 1. Načtěte dataset ze souboru do numpy pole.\n",
    "chybejici_hodnoty = numpy.array(\n",
    "    [[1, 2, 3], [4, 5, numpy.nan], [numpy.nan, 7, 8]]\n",
    ")\n",
    "\n",
    "# 2. Zjistěte rozměry matice a její celkový počet prvků.\n",
    "# rows, cols = data.shape\n",
    "# total_elements = data.size\n",
    "\n",
    "# 3. Nahraďte všechny chybějící hodnoty NaN nulou.\n",
    "# data[np.isnan(data)] = 0\n",
    "\n",
    "# 4. Pro každý řádek a sloupec vypočtěte součet, průměr, minimum a maximum.\n",
    "# row_sums = data.sum(axis=1)\n",
    "# row_means = data.mean(axis=1)\n",
    "# row_mins = data.min(axis=1)\n",
    "# row_maxs = data.max(axis=1)\n",
    "\n",
    "# col_sums = data.sum(axis=0)\n",
    "# col_means = data.mean(axis=0)\n",
    "# col_mins = data.min(axis=0)\n",
    "# col_maxs = data.max(axis=0)\n",
    "\n",
    "# 5. Rozdělte matici na dvě části podle prvního sloupce.\n",
    "# first_col = data[:, 0:1]\n",
    "# remaining_matrix = data[:, 1:]\n",
    "\n",
    "# 6. Spojujte matice z kroku 5 tak, aby druhá část matice byla nalevo od první části matice.\n",
    "# result_matrix = np.concatenate((remaining_matrix, first_col), axis=1)\n",
    "\n",
    "# print(result_matrix)\n"
   ]
  },
  {
   "cell_type": "markdown",
   "id": "12713fb0-ea33-4fa5-80b2-6e6bc1849397",
   "metadata": {},
   "source": [
    "## Broadcasting v NUMPY\n",
    "\n",
    "---\n",
    "\n",
    "<img src=\"https://external-content.duckduckgo.com/iu/?u=https%3A%2F%2Ftse1.mm.bing.net%2Fth%3Fid%3DOIP.QQOtOJPya2YEO6IkVBnYjQHaDV%26pid%3DApi&f=1&ipt=245c27df971ff24527ca317988f6feda8b14851ef0a889fda7d5a10d114dc5e6&ipo=images\" width=\"300\" style=\"margin-left:auto; margin-right:auto\"/>"
   ]
  },
  {
   "cell_type": "markdown",
   "id": "236a6402-749a-41cb-baf6-6d8237d0d1a4",
   "metadata": {},
   "source": [
    "## Třídění v NUMPY\n",
    "\n",
    "---\n",
    "\n",
    "<img src=\"https://external-content.duckduckgo.com/iu/?u=https%3A%2F%2Ftse1.mm.bing.net%2Fth%3Fid%3DOIP.QQOtOJPya2YEO6IkVBnYjQHaDV%26pid%3DApi&f=1&ipt=245c27df971ff24527ca317988f6feda8b14851ef0a889fda7d5a10d114dc5e6&ipo=images\" width=\"300\" style=\"margin-left:auto; margin-right:auto\"/>"
   ]
  },
  {
   "cell_type": "markdown",
   "id": "b2a6edca-f851-4d94-9975-d7641896b35f",
   "metadata": {},
   "source": [
    "## Strukturovaná pole v NUMPY\n",
    "\n",
    "---\n",
    "\n",
    "<img src=\"https://external-content.duckduckgo.com/iu/?u=https%3A%2F%2Ftse1.mm.bing.net%2Fth%3Fid%3DOIP.QQOtOJPya2YEO6IkVBnYjQHaDV%26pid%3DApi&f=1&ipt=245c27df971ff24527ca317988f6feda8b14851ef0a889fda7d5a10d114dc5e6&ipo=images\" width=\"300\" style=\"margin-left:auto; margin-right:auto\"/>"
   ]
  },
  {
   "cell_type": "markdown",
   "id": "f04e1213-9c59-4089-aedc-554364880b1b",
   "metadata": {},
   "source": [
    "---"
   ]
  }
 ],
 "metadata": {
  "kernelspec": {
   "display_name": "Python 3 (ipykernel)",
   "language": "python",
   "name": "python3"
  },
  "language_info": {
   "codemirror_mode": {
    "name": "ipython",
    "version": 3
   },
   "file_extension": ".py",
   "mimetype": "text/x-python",
   "name": "python",
   "nbconvert_exporter": "python",
   "pygments_lexer": "ipython3",
   "version": "3.8.10"
  }
 },
 "nbformat": 4,
 "nbformat_minor": 5
}

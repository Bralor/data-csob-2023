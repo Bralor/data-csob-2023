{
 "cells": [
  {
   "cell_type": "markdown",
   "id": "72008c88-ffa4-4373-8cbc-50c98f67dc78",
   "metadata": {},
   "source": [
    "# Datová akademie, ČSOB, 2023\n",
    "\n",
    "---"
   ]
  },
  {
   "cell_type": "markdown",
   "id": "84a460cd-21de-4558-b438-000008e8ab83",
   "metadata": {},
   "source": [
    "* [Agregace v NUMPY](#Agregace-v-NUMPY),\n",
    "* [Broadcasting v NUMPY](#Broadcasting-v-NUMPY),\n",
    "* [Třídění v NUMPY](#Třídění-v-NUMPY),\n",
    "* [Strukturovaná pole v NUMPY](#Strukturovaná-pole-v-NUMPY)."
   ]
  },
  {
   "cell_type": "markdown",
   "id": "cadd9064-50b3-435d-a9b2-10727a88508a",
   "metadata": {},
   "source": [
    "## Agregace v NUMPY\n",
    "\n",
    "---\n",
    "\n",
    "<img src=\"https://external-content.duckduckgo.com/iu/?u=https%3A%2F%2Ftse1.mm.bing.net%2Fth%3Fid%3DOIP.QQOtOJPya2YEO6IkVBnYjQHaDV%26pid%3DApi&f=1&ipt=245c27df971ff24527ca317988f6feda8b14851ef0a889fda7d5a10d114dc5e6&ipo=images\" width=\"300\" style=\"margin-left:auto; margin-right:auto\"/>"
   ]
  },
  {
   "cell_type": "markdown",
   "id": "d8b9a37f-689a-478d-b66b-9c1916af1c85",
   "metadata": {},
   "source": [
    "Pro velké množství dat bývá prvním krokem jednoduchá analýza.\n",
    "\n",
    "Tedy průměr, směrodatná odchylka. Ty ti umožní lépe pochopit jednotlivé hodnoty.\n",
    "\n",
    "Jsou dostupné i další pomocné souhrnné statistiky (minimum, maximum, suma, ..).\n",
    "\n",
    "Takové řešení ti `numpy` nabízí také."
   ]
  },
  {
   "cell_type": "markdown",
   "id": "2785d0bb-345f-4625-aa90-f2368f020edd",
   "metadata": {},
   "source": [
    "### Vypočítej sumu pomocí NUMPY\n",
    "\n",
    "---"
   ]
  },
  {
   "cell_type": "markdown",
   "id": "d6d6e6f2-dc59-41a4-8a05-bdadccfb11f8",
   "metadata": {},
   "source": [
    "Pokud potřebuješ vypočítat nyní *sumu* pomocí standardní knihovny funkcí v Pythonu, vystačíš si s funkcí `sum`:"
   ]
  },
  {
   "cell_type": "code",
   "execution_count": 1,
   "id": "6580f4fa-3b0c-4625-ac2b-b3dba2f57455",
   "metadata": {
    "tags": []
   },
   "outputs": [],
   "source": [
    "import numpy"
   ]
  },
  {
   "cell_type": "code",
   "execution_count": 3,
   "id": "92fa581b-6e98-48b7-b97e-cc9a7a504090",
   "metadata": {
    "tags": []
   },
   "outputs": [],
   "source": [
    "velke_1D_pole = numpy.random.rand(100_000_000)"
   ]
  },
  {
   "cell_type": "code",
   "execution_count": 4,
   "id": "76cc3d3a-35f8-4f72-bf04-a4d8ba293d6f",
   "metadata": {
    "tags": []
   },
   "outputs": [
    {
     "data": {
      "text/plain": [
       "array([0.38180835, 0.2567083 , 0.17459066, ..., 0.14681604, 0.53909871,\n",
       "       0.24938471])"
      ]
     },
     "execution_count": 4,
     "metadata": {},
     "output_type": "execute_result"
    }
   ],
   "source": [
    "velke_1D_pole"
   ]
  },
  {
   "cell_type": "code",
   "execution_count": 5,
   "id": "1ea195a4-a198-4498-af90-1aa59bcd39a7",
   "metadata": {
    "tags": []
   },
   "outputs": [
    {
     "data": {
      "text/plain": [
       "49997600.570065096"
      ]
     },
     "execution_count": 5,
     "metadata": {},
     "output_type": "execute_result"
    }
   ],
   "source": [
    "sum(velke_1D_pole)"
   ]
  },
  {
   "cell_type": "markdown",
   "id": "d3493b73-765c-4f47-bc20-44bae0660f3d",
   "metadata": {},
   "source": [
    "<br>\n",
    "\n",
    "Knihovna `numpy` ti také nabízí řešení pomocí `numpy.sum`:"
   ]
  },
  {
   "cell_type": "code",
   "execution_count": 6,
   "id": "e8e05b13-062a-4d72-aef5-8c682c64a332",
   "metadata": {
    "tags": []
   },
   "outputs": [
    {
     "data": {
      "text/plain": [
       "function"
      ]
     },
     "execution_count": 6,
     "metadata": {},
     "output_type": "execute_result"
    }
   ],
   "source": [
    "type(numpy.sum)"
   ]
  },
  {
   "cell_type": "code",
   "execution_count": 8,
   "id": "317fdfaa-1b6a-4af2-97e5-11cbb1a4cb4e",
   "metadata": {
    "tags": []
   },
   "outputs": [
    {
     "data": {
      "text/plain": [
       "49997600.57004201"
      ]
     },
     "execution_count": 8,
     "metadata": {},
     "output_type": "execute_result"
    }
   ],
   "source": [
    "numpy.sum(velke_1D_pole)"
   ]
  },
  {
   "cell_type": "markdown",
   "id": "fdd836e2-4352-40d0-b2bc-271fb1088dd8",
   "metadata": {},
   "source": [
    "<br>\n",
    "\n",
    "Klíčový rozdíl v aplikaci hraje výsledný čas obou průběhů:"
   ]
  },
  {
   "cell_type": "code",
   "execution_count": 9,
   "id": "0984310a-a006-49d1-b329-2f125eb3724f",
   "metadata": {
    "tags": []
   },
   "outputs": [
    {
     "name": "stdout",
     "output_type": "stream",
     "text": [
      "7.45 s ± 1.19 s per loop (mean ± std. dev. of 7 runs, 1 loop each)\n"
     ]
    }
   ],
   "source": [
    "%timeit sum(velke_1D_pole)"
   ]
  },
  {
   "cell_type": "code",
   "execution_count": 10,
   "id": "7050ae56-1874-4db9-a83b-80e8b511f47c",
   "metadata": {
    "tags": []
   },
   "outputs": [
    {
     "name": "stdout",
     "output_type": "stream",
     "text": [
      "67.7 ms ± 8.8 ms per loop (mean ± std. dev. of 7 runs, 10 loops each)\n"
     ]
    }
   ],
   "source": [
    "%timeit numpy.sum(velke_1D_pole)"
   ]
  },
  {
   "cell_type": "markdown",
   "id": "badfd0a2-434f-4ddf-a64d-035a3df98dfb",
   "metadata": {},
   "source": [
    "<br>\n",
    "\n",
    "Kde výsledkem zamíchá řešení v již zkompilovaném kódu knihovny `numpy`.\n",
    "\n",
    "Dalším rozdílem jsou možnosti pro funkce `sum` a `numpy.sum`.\n",
    "\n",
    "Obě knihovny mají totiž různé argumenty a `numpy.sum` bere v potaz více dimenzí."
   ]
  },
  {
   "cell_type": "markdown",
   "id": "2e731418-4a15-4e7e-960d-e419b0da7f4f",
   "metadata": {},
   "source": [
    "### Dostupné agregační funkce v NUMPY\n",
    "\n",
    "---"
   ]
  },
  {
   "cell_type": "markdown",
   "id": "1941a1a3-0699-4bc8-88e6-58e7a30b23f1",
   "metadata": {
    "tags": []
   },
   "source": [
    "Knihovna samozřejmě nabízí velké množství funkcí. Nejen *sumu*.\n",
    "\n",
    "V některých starších verzích bohužel opatření proti agregaci chybějících (`NaN`) hodnot."
   ]
  },
  {
   "cell_type": "markdown",
   "id": "300be103-02ca-45de-abfb-700ff3ef4472",
   "metadata": {},
   "source": [
    "| Funkce | NaN-safe varianta | Popis |\n",
    "| :- | :- | :- |\n",
    "| `np.sum` | `np.nansum` | vypočítá sumu prvků |\n",
    "| `np.mean` | `np.nanmean` | vypočítá medián zadaných prvků |\n",
    "| `np.std` | `np.nanstd` | vypočítá odchylku prvků |\n",
    "| `np.min` | `np.nanmin` | najde **minimální** hodnotu |\n",
    "| `np.max` | `np.nanmax` | najde **maximální** hodnotu |\n",
    "| `np.argmin` | `np.nanargmin` | najde index **minimální** hodnoty |\n",
    "| `np.argmax` | `np.nanargmax` | najde index **maximální** hodnoty |\n",
    "| `np.any` | `N/A` | vyhodnotí, jestli je **alespoň nějaký** prvek pravdivý |\n",
    "| `np.all` | `N/A` | vyhodnotí, jestli je **každý prvek** pravdivý |"
   ]
  },
  {
   "cell_type": "markdown",
   "id": "58cc437b-6661-4824-a17f-7b21cbebe480",
   "metadata": {},
   "source": [
    "### Najdi minimum a maximum\n",
    "\n",
    "---"
   ]
  },
  {
   "cell_type": "markdown",
   "id": "d605b801-dfeb-418f-88bd-8d4991dbd5ec",
   "metadata": {},
   "source": [
    "Obdobně jako u funkce `sum` existují i pro funkce `min` a `max` alternativy.\n",
    "\n",
    "Stejně jako pro předchozí varianty je i v tomto ohledu `numpy` výkonnější:"
   ]
  },
  {
   "cell_type": "code",
   "execution_count": 12,
   "id": "3d2bc3c0-dbef-4404-ae03-3a286353f748",
   "metadata": {
    "tags": []
   },
   "outputs": [
    {
     "name": "stdout",
     "output_type": "stream",
     "text": [
      "4.53 s ± 85.9 ms per loop (mean ± std. dev. of 7 runs, 1 loop each)\n"
     ]
    }
   ],
   "source": [
    "%timeit max(velke_1D_pole)"
   ]
  },
  {
   "cell_type": "code",
   "execution_count": 13,
   "id": "000894a9-0668-4fb4-ade0-b142d94d1c6a",
   "metadata": {
    "tags": []
   },
   "outputs": [
    {
     "name": "stdout",
     "output_type": "stream",
     "text": [
      "66.3 ms ± 3.09 ms per loop (mean ± std. dev. of 7 runs, 10 loops each)\n"
     ]
    }
   ],
   "source": [
    "%timeit numpy.max(velke_1D_pole)"
   ]
  },
  {
   "cell_type": "markdown",
   "id": "2c8a7034-f82d-4391-8715-3a4c595b42ec",
   "metadata": {},
   "source": [
    "<br>\n",
    "\n",
    "Některé agregační funkce podporují zápis ve formátu *metody*:"
   ]
  },
  {
   "cell_type": "code",
   "execution_count": 14,
   "id": "e6f8196f-2cb9-4aa7-8032-0cd7cb62f3f2",
   "metadata": {
    "tags": []
   },
   "outputs": [
    {
     "data": {
      "text/plain": [
       "2.8388918660304796e-08"
      ]
     },
     "execution_count": 14,
     "metadata": {},
     "output_type": "execute_result"
    }
   ],
   "source": [
    "velke_1D_pole.min()"
   ]
  },
  {
   "cell_type": "code",
   "execution_count": 15,
   "id": "5e96259f-f3fb-4f89-a38d-42b9723e9c1b",
   "metadata": {
    "tags": []
   },
   "outputs": [
    {
     "data": {
      "text/plain": [
       "0.9999999864020268"
      ]
     },
     "execution_count": 15,
     "metadata": {},
     "output_type": "execute_result"
    }
   ],
   "source": [
    "velke_1D_pole.max()"
   ]
  },
  {
   "cell_type": "markdown",
   "id": "af83a9d6-b971-4754-a8dc-734bbf5943a6",
   "metadata": {},
   "source": [
    "### Agragace na více dimenzí\n",
    "\n",
    "---"
   ]
  },
  {
   "cell_type": "markdown",
   "id": "ded732d7-4a25-4d93-9c40-b1d5755b8afb",
   "metadata": {},
   "source": [
    "Pokud provádíš defaultně agregace, funkce agreguje přes celé pole:"
   ]
  },
  {
   "cell_type": "code",
   "execution_count": 16,
   "id": "aa0070ac-d5eb-4ade-98c0-f9c2d6d47235",
   "metadata": {
    "tags": []
   },
   "outputs": [],
   "source": [
    "matice = numpy.random.randint(1, 11, size=(3, 3))"
   ]
  },
  {
   "cell_type": "code",
   "execution_count": 17,
   "id": "9776805b-8d84-4dd6-9fe3-6d772e2f0cc9",
   "metadata": {
    "tags": []
   },
   "outputs": [
    {
     "data": {
      "text/plain": [
       "array([[ 5,  7,  6],\n",
       "       [ 1, 10,  3],\n",
       "       [ 2, 10,  7]])"
      ]
     },
     "execution_count": 17,
     "metadata": {},
     "output_type": "execute_result"
    }
   ],
   "source": [
    "matice"
   ]
  },
  {
   "cell_type": "code",
   "execution_count": 18,
   "id": "9b1c5132-6e8e-4534-acd3-d12d2bd243af",
   "metadata": {
    "tags": []
   },
   "outputs": [
    {
     "data": {
      "text/plain": [
       "51"
      ]
     },
     "execution_count": 18,
     "metadata": {},
     "output_type": "execute_result"
    }
   ],
   "source": [
    "matice.sum()"
   ]
  },
  {
   "cell_type": "markdown",
   "id": "6169ac07-ee6e-4a16-be6c-30d4330ed7e9",
   "metadata": {},
   "source": [
    "<br>\n",
    "\n",
    "Agregační funkce mají k dispozici parametr `axis`, pomocí kterého můžeš defaultní počítání upravit:\n",
    "1. Agregace **po řádcích**,\n",
    "2. agregace **po sloupcích**,"
   ]
  },
  {
   "cell_type": "code",
   "execution_count": 19,
   "id": "c300a0cc-5d99-45bd-a61e-a8215a96afee",
   "metadata": {
    "tags": []
   },
   "outputs": [
    {
     "data": {
      "text/plain": [
       "array([18, 14, 19])"
      ]
     },
     "execution_count": 19,
     "metadata": {},
     "output_type": "execute_result"
    }
   ],
   "source": [
    "matice.sum(axis=1)  # suma po řádcích"
   ]
  },
  {
   "cell_type": "code",
   "execution_count": 20,
   "id": "8235c9a9-e57d-4886-b6b1-bca3425f6157",
   "metadata": {
    "tags": []
   },
   "outputs": [
    {
     "data": {
      "text/plain": [
       "array([ 8, 27, 16])"
      ]
     },
     "execution_count": 20,
     "metadata": {},
     "output_type": "execute_result"
    }
   ],
   "source": [
    "matice.sum(axis=0)  # suma po sloupcích"
   ]
  },
  {
   "cell_type": "markdown",
   "id": "bb5f56bc-50a6-4f74-bc6b-140135c94866",
   "metadata": {},
   "source": [
    "<br>\n",
    "\n",
    "Dávej pozor na chybějící hodnoty. Pokud se v poli vyskytují, můžou ovlivnit výsledek:"
   ]
  },
  {
   "cell_type": "code",
   "execution_count": 33,
   "id": "57d605a2-4184-474f-8769-4daf83c0bec0",
   "metadata": {
    "tags": []
   },
   "outputs": [],
   "source": [
    "chybejici_hodnoty = numpy.array(\n",
    "    [[1, 2, 3], [4, 5, numpy.nan], [numpy.nan, 7, 8]]\n",
    ")"
   ]
  },
  {
   "cell_type": "code",
   "execution_count": 34,
   "id": "7f6a3bd1-7c2e-4762-8acd-195172cc79fa",
   "metadata": {
    "tags": []
   },
   "outputs": [
    {
     "data": {
      "text/plain": [
       "array([[ 1.,  2.,  3.],\n",
       "       [ 4.,  5., nan],\n",
       "       [nan,  7.,  8.]])"
      ]
     },
     "execution_count": 34,
     "metadata": {},
     "output_type": "execute_result"
    }
   ],
   "source": [
    "chybejici_hodnoty"
   ]
  },
  {
   "cell_type": "code",
   "execution_count": 38,
   "id": "de23f0b2-a024-4d34-9323-e36b978caf42",
   "metadata": {
    "tags": []
   },
   "outputs": [
    {
     "data": {
      "text/plain": [
       "array([ 6., nan, nan])"
      ]
     },
     "execution_count": 38,
     "metadata": {},
     "output_type": "execute_result"
    }
   ],
   "source": [
    "chybejici_hodnoty.sum(axis=1)"
   ]
  },
  {
   "cell_type": "markdown",
   "id": "9835e1fe-268d-4046-b0cb-a9204e5cf7d3",
   "metadata": {
    "tags": []
   },
   "source": [
    "<br>\n",
    "\n",
    "Pokud víš, že pole, která hodláš zpracovávat takové hodnoty obsahují, použij alternativní metody:"
   ]
  },
  {
   "cell_type": "code",
   "execution_count": 37,
   "id": "8a1b6f40-b688-4523-a180-f39ca402c3ef",
   "metadata": {
    "tags": []
   },
   "outputs": [
    {
     "data": {
      "text/plain": [
       "array([ 6.,  9., 15.])"
      ]
     },
     "execution_count": 37,
     "metadata": {},
     "output_type": "execute_result"
    }
   ],
   "source": [
    "numpy.nansum(chybejici_hodnoty, axis=1)"
   ]
  },
  {
   "cell_type": "markdown",
   "id": "e1c6ed0b-a59d-475e-8218-648c319ab82d",
   "metadata": {},
   "source": [
    "<br>\n",
    "\n",
    "Formulace pomocí metod nebude pracovat:"
   ]
  },
  {
   "cell_type": "code",
   "execution_count": 39,
   "id": "c8163694-8f52-49f1-9e14-d5b388bd6298",
   "metadata": {
    "tags": []
   },
   "outputs": [
    {
     "ename": "AttributeError",
     "evalue": "'numpy.ndarray' object has no attribute 'nansum'",
     "output_type": "error",
     "traceback": [
      "\u001b[0;31m---------------------------------------------------------------------------\u001b[0m",
      "\u001b[0;31mAttributeError\u001b[0m                            Traceback (most recent call last)",
      "Cell \u001b[0;32mIn[39], line 1\u001b[0m\n\u001b[0;32m----> 1\u001b[0m \u001b[43mchybejici_hodnoty\u001b[49m\u001b[38;5;241;43m.\u001b[39;49m\u001b[43mnansum\u001b[49m(axis\u001b[38;5;241m=\u001b[39m\u001b[38;5;241m1\u001b[39m)\n",
      "\u001b[0;31mAttributeError\u001b[0m: 'numpy.ndarray' object has no attribute 'nansum'"
     ]
    }
   ],
   "source": [
    "chybejici_hodnoty.nansum(axis=1)"
   ]
  },
  {
   "cell_type": "markdown",
   "id": "8dafb0af-79cd-4be1-a8fb-f54584b61930",
   "metadata": {},
   "source": [
    "<br>\n",
    "\n",
    "##### **🧠 CVIČENÍ 🧠, procvič si agregace v NUMPY**"
   ]
  },
  {
   "cell_type": "markdown",
   "id": "98e20879-3ee8-4459-ab0c-d2df87210a88",
   "metadata": {},
   "source": [
    "Z naměřeného množství přenesených dat pro tyto přenosy proveď:\n",
    "1. Z nachystaných hodnot udělej 1D pole,\n",
    "2. změň tvar polí na **2D matice**, podle zadání níže,\n",
    "3. zjisti **hodinové maxima** pro **jednotlivé přenosy**,\n",
    "4. spoj matice a zjisti **hodinové maxima** pro **všechny přenosy**."
   ]
  },
  {
   "cell_type": "code",
   "execution_count": 16,
   "id": "06d09dc9-058b-430c-b59b-498f287f241d",
   "metadata": {
    "tags": []
   },
   "outputs": [],
   "source": [
    "prenos_1 = [ 599, 1045,  658,  376,  419,  457,  622,  311,  493,  291,  685,\n",
    "        494,  925,  285,  593,  616,  728,  471,  644,  578,  498,  275,\n",
    "        795,  254,  553,  207,  792,  633,  657,  502,  746,  486,  889,\n",
    "        920,  237,  798,  415,  598,  289,  940,  977,  408,  952,  574,\n",
    "        713, 1017,  519,  444,  745,  550,  489,  607,  669,  975,  958,\n",
    "        743,  705,  708,  324,  808,  887,  631,  655, 1025,  975,  911,\n",
    "        473,  238, 1036,  898,  785,  255,  793,  446,  356,  244,  633,\n",
    "        448,  702,  966,  670,  756,  339,  920, 1034,  298,  860,  463,\n",
    "        778,  734, 1009,  633,  492,  806,  275,  683]\n",
    "\n",
    "prenos_2 =  [769,  889,  342,  874,  263,  390,  948,  248,  626,  541,  450,\n",
    "        264,  942,  991,  971,  226,  832,  219,  941,  551,  342,  913,\n",
    "        989,  204,  590,  713,  301,  770,  559,  860,  935,  380,  907,\n",
    "        846,  909,  788,  829,  846,  951,  727,  225,  689,  432,  652,\n",
    "        428,  548,  902,  709,  748,  939,  858,  860,  469,  233,  323,\n",
    "        798,  729, 1013,  263, 1042,  836,  993,  255,  653,  744,  920,\n",
    "        959,  356,  801,  663,  433,  502,  721, 1021,  739,  518,  655,\n",
    "        810,  909,  675,  212,  261,  235, 1012,  756, 1036,  768,  226,\n",
    "       1049,  948,  931,  376, 1037,  739, 1045,  920]\n",
    "\n",
    "prenos_3 = [ 405,  473,  206,  807,  704,  477,  810,  226,  501,  657,  412,\n",
    "        288,  482,  646,  917,  638,  739,  879,  979,  599,  372,  937,\n",
    "        719,  562, 1032,  512,  861,  540,  653,  521,  426,  262,  402,\n",
    "        871,  435,  871,  615,  720,  246,  297,  241,  923,  492,  627,\n",
    "        496,  808,  807,  341,  819,  893, 1009,  509,  215,  821,  501,\n",
    "        789,  748,  901,  822,  265,  366,  387,  886, 1009,  363,  781,\n",
    "        620,  713,  875,  369,  532,  580,  452,  618,  404,  298,  503,\n",
    "        325,  820,  994,  661,  881,  219,  869,  893,  796,  299,  404,\n",
    "        920,  262,  772, 1030,  944,  328,  361,  753]"
   ]
  },
  {
   "cell_type": "code",
   "execution_count": 18,
   "id": "39c62005-968a-484c-b2ea-7e49926d3c36",
   "metadata": {},
   "outputs": [],
   "source": [
    "import numpy\n",
    "\n",
    "# 1. Načti dataset z listu do numpy pole."
   ]
  },
  {
   "cell_type": "code",
   "execution_count": 19,
   "id": "144379e5-8a12-4c72-b5d6-d71ba669dd16",
   "metadata": {
    "tags": []
   },
   "outputs": [],
   "source": [
    "# 2. Změň dimenze každého pole na 2D matici (24 řadek, 4 sloupce)"
   ]
  },
  {
   "cell_type": "code",
   "execution_count": 20,
   "id": "3b3fca44-4b88-4f97-8c90-fcbfd17b59a7",
   "metadata": {
    "tags": []
   },
   "outputs": [],
   "source": [
    "# 3. Zjisti hodinové maxima pro jednotlivé přenosy"
   ]
  },
  {
   "cell_type": "code",
   "execution_count": 21,
   "id": "09293cc6-e37e-4fa0-a1d4-5747003e4989",
   "metadata": {
    "tags": []
   },
   "outputs": [],
   "source": [
    "# 4. Spoj matice a zjisti hodinové maxima pro všechny přenosy"
   ]
  },
  {
   "cell_type": "markdown",
   "id": "bcec130c-f89b-404b-b24e-c55c1c8d9e53",
   "metadata": {},
   "source": [
    "<details>\n",
    "    <summary>▶️ Řešení</summary>\n",
    "    \n",
    "    ```python\n",
    "    import numpy\n",
    "\n",
    "    # 1. Načti dataset z listu do numpy pole.\n",
    "    offload_dat_1 = numpy.array(prenos_1)\n",
    "    offload_dat_2 = numpy.array(prenos_2)\n",
    "    offload_dat_3 = numpy.array(prenos_3)\n",
    "    \n",
    "    # 2. Změň dimenze každého pole na 2D matici (24 řadek, 4 sloupce)\n",
    "    offload_dat_1_2D = offload_dat_1.reshape(24, 4)\n",
    "    offload_dat_2_2D = offload_dat_2.reshape(24, 4)\n",
    "    offload_dat_3_2D = offload_dat_3.reshape(24, 4)\n",
    "    \n",
    "    # 3. Zjisti hodinové maxima pro jednotlivé přenosy\n",
    "    hodinove_maxima_1 = offload_dat_1_2D.max(axis=1)\n",
    "    # ...\n",
    "    \n",
    "    # 4. Spoj matice a zjisti hodinové maxima pro všechny přenosy\n",
    "    hodinove_maxima_spol = numpy.nanmax(numpy.concatenate([offload_dat_1_2D, offload_dat_2_2D, offload_dat_3_2D], axis=1), axis=1)\n",
    "    ```\n",
    "</details>"
   ]
  },
  {
   "cell_type": "markdown",
   "id": "12713fb0-ea33-4fa5-80b2-6e6bc1849397",
   "metadata": {},
   "source": [
    "## Broadcasting v NUMPY\n",
    "\n",
    "---\n",
    "\n",
    "<img src=\"https://external-content.duckduckgo.com/iu/?u=https%3A%2F%2Ftse1.mm.bing.net%2Fth%3Fid%3DOIP.QQOtOJPya2YEO6IkVBnYjQHaDV%26pid%3DApi&f=1&ipt=245c27df971ff24527ca317988f6feda8b14851ef0a889fda7d5a10d114dc5e6&ipo=images\" width=\"300\" style=\"margin-left:auto; margin-right:auto\"/>"
   ]
  },
  {
   "cell_type": "markdown",
   "id": "9cb3bc1c-9854-4890-b79e-d12948811e10",
   "metadata": {},
   "source": [
    "Jde o soubor pravidel pro aplikaci univerzálních funkcí na pole různých rozměrů."
   ]
  },
  {
   "cell_type": "code",
   "execution_count": 25,
   "id": "830266b9-066e-49b4-80c9-ec975189e444",
   "metadata": {
    "tags": []
   },
   "outputs": [],
   "source": [
    "pole_a = numpy.array([2, 4, 5])\n",
    "pole_b = numpy.array([3, 3, 3])"
   ]
  },
  {
   "cell_type": "code",
   "execution_count": 26,
   "id": "7c707b67-004b-4fdf-a153-99457d94fd9c",
   "metadata": {
    "tags": []
   },
   "outputs": [
    {
     "data": {
      "text/plain": [
       "array([5, 7, 8])"
      ]
     },
     "execution_count": 26,
     "metadata": {},
     "output_type": "execute_result"
    }
   ],
   "source": [
    "pole_a + pole_b"
   ]
  },
  {
   "cell_type": "markdown",
   "id": "598537e4-3fb2-4912-a7d8-694baf8d882b",
   "metadata": {},
   "source": [
    "<br>\n",
    "\n",
    "Pro pole stejných rozměrů, je aplikace binárních operací prováděná po jednotlivých hodntách (indexech).\n",
    "\n",
    "*Broadcasting* ti dovolí tyto operace aplikovat na různě velké pole:"
   ]
  },
  {
   "cell_type": "code",
   "execution_count": 27,
   "id": "c652ef79-d632-4a2e-872d-6b587ba87c95",
   "metadata": {
    "tags": []
   },
   "outputs": [
    {
     "data": {
      "text/plain": [
       "array([6, 8, 9])"
      ]
     },
     "execution_count": 27,
     "metadata": {},
     "output_type": "execute_result"
    }
   ],
   "source": [
    "pole_a + 4"
   ]
  },
  {
   "cell_type": "markdown",
   "id": "cdea2b92-e0f0-4708-ae7a-146cc384fdc8",
   "metadata": {},
   "source": [
    "<br>\n",
    "\n",
    "Koncepčně si můžeš takový proces představit jako roztáhnutí hodnoty `4` do pole `[4, 4, 4]`.\n",
    "\n",
    "Výhodou je, že k duplikaci hodnot ve skutečnosti nedochází, ale je to užitečná vizualizace."
   ]
  },
  {
   "cell_type": "markdown",
   "id": "9a3dfc23-2dab-4be3-84f0-be66c0776940",
   "metadata": {},
   "source": [
    "Stejný proces potom můžeš aplikovat na pole vyšších dimenzí:"
   ]
  },
  {
   "cell_type": "code",
   "execution_count": 31,
   "id": "bbb59e1e-ed2c-4a09-8712-a1a4f16fe10a",
   "metadata": {
    "tags": []
   },
   "outputs": [],
   "source": [
    "matice_a = numpy.ones((4, 3))"
   ]
  },
  {
   "cell_type": "code",
   "execution_count": 32,
   "id": "1e708b4a-adef-434c-ac03-3c380353a3ef",
   "metadata": {
    "tags": []
   },
   "outputs": [
    {
     "data": {
      "text/plain": [
       "array([[1., 1., 1.],\n",
       "       [1., 1., 1.],\n",
       "       [1., 1., 1.],\n",
       "       [1., 1., 1.]])"
      ]
     },
     "execution_count": 32,
     "metadata": {},
     "output_type": "execute_result"
    }
   ],
   "source": [
    "matice_a"
   ]
  },
  {
   "cell_type": "code",
   "execution_count": 34,
   "id": "2ccc79da-b9cb-4370-a84d-8e3a6e82a6e9",
   "metadata": {
    "tags": []
   },
   "outputs": [
    {
     "data": {
      "text/plain": [
       "array([[3., 5., 6.],\n",
       "       [3., 5., 6.],\n",
       "       [3., 5., 6.],\n",
       "       [3., 5., 6.]])"
      ]
     },
     "execution_count": 34,
     "metadata": {},
     "output_type": "execute_result"
    }
   ],
   "source": [
    "matice_a + pole_a"
   ]
  },
  {
   "cell_type": "markdown",
   "id": "a3057216-fbc1-48dd-92d1-773043357e20",
   "metadata": {},
   "source": [
    "<br>\n",
    "\n",
    "V této ukázce vezmeš `pole_a` a to protáhneš, ~*broadcastuješ* přes další dimenzi, až dosáhneš stejného rozměru jako pro `matice_a`."
   ]
  },
  {
   "cell_type": "markdown",
   "id": "54c2b89d-e8d5-4e72-ae9b-8a9c7615a139",
   "metadata": {},
   "source": [
    "<br>\n",
    "\n",
    "Zatím jde o situace, které lze pěkně vysvětlit.\n",
    "\n",
    "Podobně můžeš ale pracovat pro pole se složitějšími rozměry:"
   ]
  },
  {
   "cell_type": "code",
   "execution_count": 35,
   "id": "aae66bab-c31d-4298-97e6-3a46ed90428e",
   "metadata": {
    "tags": []
   },
   "outputs": [
    {
     "data": {
      "text/plain": [
       "array([2, 4, 5])"
      ]
     },
     "execution_count": 35,
     "metadata": {},
     "output_type": "execute_result"
    }
   ],
   "source": [
    "pole_a"
   ]
  },
  {
   "cell_type": "code",
   "execution_count": 36,
   "id": "b7961637-e4bc-49df-a19d-86af7e183512",
   "metadata": {
    "tags": []
   },
   "outputs": [],
   "source": [
    "matice_b = numpy.arange(3)[:, numpy.newaxis]"
   ]
  },
  {
   "cell_type": "code",
   "execution_count": 37,
   "id": "05f1390b-fb5a-4969-b57e-d64ec2ea9f51",
   "metadata": {
    "tags": []
   },
   "outputs": [
    {
     "data": {
      "text/plain": [
       "array([[0],\n",
       "       [1],\n",
       "       [2]])"
      ]
     },
     "execution_count": 37,
     "metadata": {},
     "output_type": "execute_result"
    }
   ],
   "source": [
    "matice_b"
   ]
  },
  {
   "cell_type": "code",
   "execution_count": 38,
   "id": "06e87d86-14ab-4048-9fbd-92402304f099",
   "metadata": {
    "tags": []
   },
   "outputs": [
    {
     "data": {
      "text/plain": [
       "array([[2, 4, 5],\n",
       "       [3, 5, 6],\n",
       "       [4, 6, 7]])"
      ]
     },
     "execution_count": 38,
     "metadata": {},
     "output_type": "execute_result"
    }
   ],
   "source": [
    "pole_a + matice_b"
   ]
  },
  {
   "cell_type": "markdown",
   "id": "997534b7-bf67-4d54-8017-4a5d6863c320",
   "metadata": {
    "tags": []
   },
   "source": [
    "V této ukázce je potřeba *broadcastovat* obě pole až než dosáhnout stejných rozměrů a teprve potom provést univerzální funkce:\n",
    "```\n",
    "[[2, 4, 5],      [[0, 0, 0],\n",
    " [2, 4, 5],  +    [1, 1, 1],\n",
    " [2, 4, 5]]       [2, 2, 2]]\n",
    "```"
   ]
  },
  {
   "cell_type": "markdown",
   "id": "49f12d91-a13c-4af9-a188-1511a3617531",
   "metadata": {},
   "source": [
    "### Pravidla broadcastování\n",
    "\n",
    "---"
   ]
  },
  {
   "cell_type": "markdown",
   "id": "f8299205-10e0-4f35-a1ad-8dacb70c6385",
   "metadata": {},
   "source": [
    "#### První pravidlo"
   ]
  },
  {
   "cell_type": "code",
   "execution_count": 41,
   "id": "311968cb-a6ba-4eff-b99a-4566b89571fc",
   "metadata": {
    "tags": []
   },
   "outputs": [],
   "source": [
    "pole_1 = numpy.arange(4)"
   ]
  },
  {
   "cell_type": "code",
   "execution_count": 42,
   "id": "265ef76c-6ce5-4e0b-8a43-36b8576736ef",
   "metadata": {
    "tags": []
   },
   "outputs": [],
   "source": [
    "matice_1 = numpy.ones((3, 4))"
   ]
  },
  {
   "cell_type": "code",
   "execution_count": 43,
   "id": "b032431a-c7aa-4bba-ad23-62eca3d3e906",
   "metadata": {
    "tags": []
   },
   "outputs": [
    {
     "data": {
      "text/plain": [
       "array([[1., 1., 1., 1.],\n",
       "       [1., 1., 1., 1.],\n",
       "       [1., 1., 1., 1.]])"
      ]
     },
     "execution_count": 43,
     "metadata": {},
     "output_type": "execute_result"
    }
   ],
   "source": [
    "matice_1"
   ]
  },
  {
   "cell_type": "code",
   "execution_count": 44,
   "id": "cd3d0d6a-1796-4e89-900b-b84526323954",
   "metadata": {
    "tags": []
   },
   "outputs": [
    {
     "data": {
      "text/plain": [
       "array([0, 1, 2, 3])"
      ]
     },
     "execution_count": 44,
     "metadata": {},
     "output_type": "execute_result"
    }
   ],
   "source": [
    "pole_1"
   ]
  },
  {
   "cell_type": "code",
   "execution_count": 45,
   "id": "751243c2-f1ea-4223-9c17-6a63262afba6",
   "metadata": {
    "tags": []
   },
   "outputs": [
    {
     "data": {
      "text/plain": [
       "(4,)"
      ]
     },
     "execution_count": 45,
     "metadata": {},
     "output_type": "execute_result"
    }
   ],
   "source": [
    "pole_1.shape"
   ]
  },
  {
   "cell_type": "code",
   "execution_count": 46,
   "id": "25c280ca-d08f-4d9e-acaf-fdc311ae3fc1",
   "metadata": {
    "tags": []
   },
   "outputs": [
    {
     "data": {
      "text/plain": [
       "(3, 4)"
      ]
     },
     "execution_count": 46,
     "metadata": {},
     "output_type": "execute_result"
    }
   ],
   "source": [
    "matice_1.shape"
   ]
  },
  {
   "cell_type": "markdown",
   "id": "ba46cb39-a690-43f2-93c1-8cc5069b3bc9",
   "metadata": {},
   "source": [
    "Pro *broadcastování* dojde tak, že pole s menším rozměrem vloží nalevo jedničku (pomysleně):\n",
    "```\n",
    ">>> pole_1.shape\n",
    "(4,) # tedy (1, 4)\n",
    "```"
   ]
  },
  {
   "cell_type": "markdown",
   "id": "429893b9-f01e-4ace-ae34-5b8048667ae2",
   "metadata": {
    "tags": []
   },
   "source": [
    "První pravidlo tedy obecně říká, že pokud se dvě pole liší počtem rozměrů, tvar pole\n",
    "s menším počtem rozměrů je na své přední (levé) straně doplněn jedničkou nebo jedničkami"
   ]
  },
  {
   "cell_type": "markdown",
   "id": "8ac89509-86e9-45b6-bc52-31b5d560f458",
   "metadata": {},
   "source": [
    "<br>\n",
    "\n",
    "#### Druhé pravidlo\n",
    "\n",
    "---"
   ]
  },
  {
   "cell_type": "markdown",
   "id": "b7832251-fbce-4264-becc-28362788616f",
   "metadata": {},
   "source": [
    "Nyní máš obě pole, která potřebují *broadcastovat*:"
   ]
  },
  {
   "cell_type": "code",
   "execution_count": 48,
   "id": "a5061b9a-c518-4bb8-8464-d525026055ec",
   "metadata": {
    "tags": []
   },
   "outputs": [],
   "source": [
    "pole_2 = numpy.arange(4)\n",
    "matice_2 = numpy.arange(4).reshape((4, 1))"
   ]
  },
  {
   "cell_type": "code",
   "execution_count": 49,
   "id": "6d530820-7f05-4e47-b8f2-973d9b6acfc4",
   "metadata": {
    "tags": []
   },
   "outputs": [
    {
     "data": {
      "text/plain": [
       "array([0, 1, 2, 3])"
      ]
     },
     "execution_count": 49,
     "metadata": {},
     "output_type": "execute_result"
    }
   ],
   "source": [
    "pole_2"
   ]
  },
  {
   "cell_type": "code",
   "execution_count": 50,
   "id": "c4c63e00-524c-4ac3-9b97-4e908c088b1d",
   "metadata": {
    "tags": []
   },
   "outputs": [
    {
     "data": {
      "text/plain": [
       "array([[0],\n",
       "       [1],\n",
       "       [2],\n",
       "       [3]])"
      ]
     },
     "execution_count": 50,
     "metadata": {},
     "output_type": "execute_result"
    }
   ],
   "source": [
    "matice_2"
   ]
  },
  {
   "cell_type": "markdown",
   "id": "5c9e0664-c21a-4ee2-a273-a2127e0bae8b",
   "metadata": {},
   "source": [
    "<br>\n",
    "\n",
    "Podle pravidla #1:"
   ]
  },
  {
   "cell_type": "code",
   "execution_count": 51,
   "id": "1bae6f8c-0b13-4a6b-9a68-7211446359f3",
   "metadata": {
    "tags": []
   },
   "outputs": [
    {
     "data": {
      "text/plain": [
       "(4,)"
      ]
     },
     "execution_count": 51,
     "metadata": {},
     "output_type": "execute_result"
    }
   ],
   "source": [
    "pole_2.shape  # (1, 4)"
   ]
  },
  {
   "cell_type": "code",
   "execution_count": 52,
   "id": "b073f520-b849-4771-83f2-2454637ebe21",
   "metadata": {
    "tags": []
   },
   "outputs": [
    {
     "data": {
      "text/plain": [
       "(4, 1)"
      ]
     },
     "execution_count": 52,
     "metadata": {},
     "output_type": "execute_result"
    }
   ],
   "source": [
    "matice_2.shape"
   ]
  },
  {
   "cell_type": "code",
   "execution_count": 53,
   "id": "45dc493f-06de-426c-8e05-9f120ebee8bf",
   "metadata": {
    "tags": []
   },
   "outputs": [
    {
     "data": {
      "text/plain": [
       "array([[0, 1, 2, 3],\n",
       "       [1, 2, 3, 4],\n",
       "       [2, 3, 4, 5],\n",
       "       [3, 4, 5, 6]])"
      ]
     },
     "execution_count": 53,
     "metadata": {},
     "output_type": "execute_result"
    }
   ],
   "source": [
    "pole_2 + matice_2"
   ]
  },
  {
   "cell_type": "markdown",
   "id": "b6b37119-d3c6-497a-99a3-8745d7835012",
   "metadata": {},
   "source": [
    "<br>\n",
    "\n",
    "Druhé pravidlo tedy říká, že pokud se tvar obou polí neshoduje v žádném rozměru, pole\n",
    "s tvarem rovným 1 v tomto rozměru je roztaženo tak, aby odpovídalo tvaru druhého pole."
   ]
  },
  {
   "cell_type": "markdown",
   "id": "6f9fc115-8ea1-40e8-ad22-74751ddfbddd",
   "metadata": {},
   "source": [
    "<br>\n",
    "\n",
    "#### Třetí pravidlo\n",
    "---\n"
   ]
  },
  {
   "cell_type": "code",
   "execution_count": 57,
   "id": "cfe2351a-c737-4b99-97d7-2d6819113424",
   "metadata": {
    "tags": []
   },
   "outputs": [],
   "source": [
    "pole_3 = numpy.arange(4)\n",
    "matice_3 = numpy.ones((4, 2))"
   ]
  },
  {
   "cell_type": "code",
   "execution_count": 58,
   "id": "be7c657d-6190-43f9-a374-95780bcf1611",
   "metadata": {
    "tags": []
   },
   "outputs": [
    {
     "data": {
      "text/plain": [
       "array([0, 1, 2, 3])"
      ]
     },
     "execution_count": 58,
     "metadata": {},
     "output_type": "execute_result"
    }
   ],
   "source": [
    "pole_3"
   ]
  },
  {
   "cell_type": "code",
   "execution_count": 59,
   "id": "c67bb73d-271a-403d-a1b7-7b02c1ca9e30",
   "metadata": {
    "tags": []
   },
   "outputs": [
    {
     "data": {
      "text/plain": [
       "array([[1., 1.],\n",
       "       [1., 1.],\n",
       "       [1., 1.],\n",
       "       [1., 1.]])"
      ]
     },
     "execution_count": 59,
     "metadata": {},
     "output_type": "execute_result"
    }
   ],
   "source": [
    "matice_3"
   ]
  },
  {
   "cell_type": "markdown",
   "id": "01484fb6-f248-4cb6-a605-10901a1d4741",
   "metadata": {},
   "source": [
    "<br>\n",
    "\n",
    "Rozměry v tomto příkladu jsou:"
   ]
  },
  {
   "cell_type": "code",
   "execution_count": 60,
   "id": "f26d460c-d2ba-4027-889d-568c3c4965dd",
   "metadata": {
    "tags": []
   },
   "outputs": [
    {
     "data": {
      "text/plain": [
       "(4,)"
      ]
     },
     "execution_count": 60,
     "metadata": {},
     "output_type": "execute_result"
    }
   ],
   "source": [
    "pole_3.shape"
   ]
  },
  {
   "cell_type": "code",
   "execution_count": 61,
   "id": "a4d8c8a0-bff6-47d8-8dd1-ecce09405dce",
   "metadata": {
    "tags": []
   },
   "outputs": [
    {
     "data": {
      "text/plain": [
       "(4, 2)"
      ]
     },
     "execution_count": 61,
     "metadata": {},
     "output_type": "execute_result"
    }
   ],
   "source": [
    "matice_3.shape"
   ]
  },
  {
   "cell_type": "markdown",
   "id": "7527ed48-7fb9-4ddb-a29f-2b91f10ccce1",
   "metadata": {
    "tags": []
   },
   "source": [
    "<br>\n",
    "\n",
    "Pomocí prvního pravidla doplníš jedničku:\n",
    "```\n",
    "pole_3:   (1, 4)\n",
    "matice_3: (4, 2)\n",
    "```"
   ]
  },
  {
   "cell_type": "markdown",
   "id": "105e2042-3d9c-4523-aaf9-2df2589a7bb6",
   "metadata": {},
   "source": [
    "<br>\n",
    "\n",
    "Pomocí druhého pravidla:\n",
    "```\n",
    "pole_3:   (4, 4)\n",
    "matice_3: (4, 2)\n",
    "```"
   ]
  },
  {
   "cell_type": "markdown",
   "id": "1f006738-e3a6-4d50-9f5c-928893cdf71b",
   "metadata": {},
   "source": [
    "<br>\n",
    "\n",
    "A nyní dojde k aplikaci třetího pravidla.\n",
    "\n",
    "Pokud se v některém velikost rozměry neshodují a ani jeden z nich není roven 1, dojde k chybě."
   ]
  },
  {
   "cell_type": "code",
   "execution_count": 63,
   "id": "94088060-bb89-413a-abcd-d40d4e71a40f",
   "metadata": {
    "tags": []
   },
   "outputs": [
    {
     "ename": "ValueError",
     "evalue": "operands could not be broadcast together with shapes (4,) (4,2) ",
     "output_type": "error",
     "traceback": [
      "\u001b[0;31m---------------------------------------------------------------------------\u001b[0m",
      "\u001b[0;31mValueError\u001b[0m                                Traceback (most recent call last)",
      "Cell \u001b[0;32mIn[63], line 1\u001b[0m\n\u001b[0;32m----> 1\u001b[0m \u001b[43mpole_3\u001b[49m\u001b[43m \u001b[49m\u001b[38;5;241;43m+\u001b[39;49m\u001b[43m \u001b[49m\u001b[43mmatice_3\u001b[49m\n",
      "\u001b[0;31mValueError\u001b[0m: operands could not be broadcast together with shapes (4,) (4,2) "
     ]
    }
   ],
   "source": [
    "pole_3 + matice_3"
   ]
  },
  {
   "cell_type": "markdown",
   "id": "3eab53ec-3666-401b-a677-23caab54b4a9",
   "metadata": {
    "tags": []
   },
   "source": [
    "### Ukázka\n",
    "\n",
    "---"
   ]
  },
  {
   "cell_type": "markdown",
   "id": "6619cb00-f740-4690-b211-473802d89546",
   "metadata": {},
   "source": [
    "Jedna z aplikací *broadcastovní* je zobrazený dvourozměrných funkcí.\n",
    "\n",
    "Když budeš potřebovat definovat funkci **z = f(x, y)**, lze *broadcasting* použít k výpočtu funkce v celé mřížce:"
   ]
  },
  {
   "cell_type": "code",
   "execution_count": 64,
   "id": "700c2ad7-f4cb-4a24-8817-ab2e7169a735",
   "metadata": {
    "tags": []
   },
   "outputs": [],
   "source": [
    "pole_x = numpy.linspace(0, 5, 50)\n",
    "pole_y = numpy.linspace(0, 5, 50)[:, numpy.newaxis]"
   ]
  },
  {
   "cell_type": "code",
   "execution_count": 67,
   "id": "6a784ced-84f3-40b4-a914-5d49af8a0e0e",
   "metadata": {
    "tags": []
   },
   "outputs": [],
   "source": [
    "# pole_x"
   ]
  },
  {
   "cell_type": "code",
   "execution_count": 68,
   "id": "67b61a1b-2b8a-45ee-8402-3bbc583e1e57",
   "metadata": {
    "tags": []
   },
   "outputs": [],
   "source": [
    "# pole_y"
   ]
  },
  {
   "cell_type": "code",
   "execution_count": 69,
   "id": "fc1ed7ba-dd59-4a09-9479-43a304a7876c",
   "metadata": {
    "tags": []
   },
   "outputs": [],
   "source": [
    "z = numpy.sin(pole_x) ** 10 + numpy.cos(10 + pole_y * pole_x) * numpy.cos(pole_x)"
   ]
  },
  {
   "cell_type": "code",
   "execution_count": 72,
   "id": "b1c4c5dc-ff27-4662-8eef-ec114986a9e4",
   "metadata": {
    "tags": []
   },
   "outputs": [
    {
     "data": {
      "text/plain": [
       "(50, 50)"
      ]
     },
     "execution_count": 72,
     "metadata": {},
     "output_type": "execute_result"
    }
   ],
   "source": [
    "z.shape"
   ]
  },
  {
   "cell_type": "code",
   "execution_count": null,
   "id": "08065835-42eb-46fe-a223-74336cf5c53f",
   "metadata": {},
   "outputs": [],
   "source": [
    "z.ndim"
   ]
  },
  {
   "cell_type": "code",
   "execution_count": null,
   "id": "7ecc84fb-26f3-43e2-b30f-389fbecf9d4c",
   "metadata": {},
   "outputs": [],
   "source": [
    "z"
   ]
  },
  {
   "cell_type": "markdown",
   "id": "32c2d42c-154d-4c47-bece-eaf6083a9a8c",
   "metadata": {},
   "source": [
    "<br>\n",
    "\n",
    "Zobrazení pomocí knihovny `matplotlib`:"
   ]
  },
  {
   "cell_type": "code",
   "execution_count": 74,
   "id": "1132cdc7-b46a-4c3c-8dca-30e7348ed89f",
   "metadata": {
    "tags": []
   },
   "outputs": [],
   "source": [
    "%matplotlib inline\n",
    "import matplotlib.pyplot as plt"
   ]
  },
  {
   "cell_type": "code",
   "execution_count": 75,
   "id": "6b1df869-585c-4b5a-bb3b-0bf7439a450c",
   "metadata": {
    "tags": []
   },
   "outputs": [
    {
     "data": {
      "text/plain": [
       "<matplotlib.colorbar.Colorbar at 0x7f0905a9f520>"
      ]
     },
     "execution_count": 75,
     "metadata": {},
     "output_type": "execute_result"
    },
    {
     "data": {
      "image/png": "[encoded data removed]",
      "text/plain": [
       "<Figure size 640x480 with 2 Axes>"
      ]
     },
     "metadata": {},
     "output_type": "display_data"
    }
   ],
   "source": [
    "plt.imshow(  # pohopíš v lekci s vizualizací\n",
    "    z,\n",
    "    origin=\"lower\",\n",
    "    extent=[0, 5, 0, 5],\n",
    "    cmap=\"viridis\"\n",
    ")\n",
    "plt.colorbar()"
   ]
  },
  {
   "cell_type": "markdown",
   "id": "8154517b-7099-49d7-8857-f797b5463b6c",
   "metadata": {},
   "source": [
    "<br>\n",
    "\n",
    "##### **🧠 CVIČENÍ 🧠, procvič si BROADCASTING v NUMPY**"
   ]
  },
  {
   "cell_type": "markdown",
   "id": "07b96bb3-11dc-457b-ac09-354e09aaab0d",
   "metadata": {},
   "source": [
    "Máš zadaný počet prodeje produktu:\n",
    "\n",
    "1. Převeď počet produktů na ceny (cena 1ks = 1_000) pomocí broadcastingu\n",
    "2. vytvoř vektor o délce 4, který obsahuje procentuální marži každého produktu 10, 15, 20 a 25 %,\n",
    "3. vypočti prodejní ceny produktů v tisících jednotek pomocí broadcastingu (zkontroluj rozměr)\n",
    "4. spočítej celkové tržby pro každou marži pomocí broadcastingu."
   ]
  },
  {
   "cell_type": "code",
   "execution_count": 128,
   "id": "45090f46-ea53-4e99-ab17-23bb8cd9d89b",
   "metadata": {
    "tags": []
   },
   "outputs": [],
   "source": [
    "pocet_prodeje_konkr_produktu = numpy.random.randint(10, 100, 50)"
   ]
  },
  {
   "cell_type": "code",
   "execution_count": 129,
   "id": "f9d2e751-26c2-49f4-93e5-8f3e1b635e29",
   "metadata": {
    "tags": []
   },
   "outputs": [],
   "source": [
    "# 1. Převeď počet produktů na ceny (cena 1ks = 1_000) pomocí broadcastingu"
   ]
  },
  {
   "cell_type": "code",
   "execution_count": 131,
   "id": "ab3cf5b1-442e-4a5b-9797-50f07ff44b10",
   "metadata": {
    "tags": []
   },
   "outputs": [],
   "source": [
    "# 2. Vytvoř vektor o délce 4, který obsahuje procentuální marži..\n",
    "#    ..každého produktu 10, 15, 20 a 25 procent"
   ]
  },
  {
   "cell_type": "code",
   "execution_count": 141,
   "id": "62ea149a-25ee-4fef-bcb9-5c07eb37c73b",
   "metadata": {
    "tags": []
   },
   "outputs": [],
   "source": [
    "# 3. Vypočti prodejní ceny produktů v tisících jednotek pomocí broadcastingu (zkontroluj rozměr)"
   ]
  },
  {
   "cell_type": "code",
   "execution_count": 139,
   "id": "9f583907-ef98-47a3-8f20-001de6960c19",
   "metadata": {
    "tags": []
   },
   "outputs": [],
   "source": [
    "# 4. Spočítej celkové tržby pro každou marži pomocí broadcastingu"
   ]
  },
  {
   "cell_type": "markdown",
   "id": "441f89f5-8d0f-4729-911e-f058219e94bc",
   "metadata": {},
   "source": [
    "<details>\n",
    "    <summary>▶️ Řešení</summary>\n",
    "    \n",
    "    ```python\n",
    "    import numpy\n",
    "\n",
    "    pocet_prodeje_konkr_produktu = numpy.random.randint(10, 100, 50)\n",
    "    \n",
    "    # 1. Převeď počet produktů na ceny (cena 1ks = 1_000) pomocí broadcastingu\n",
    "    cena_prodeje_konkr_produktu_ *= 1000\n",
    "    \n",
    "    # 2. Vytvoř vektor o délce 4, který obsahuje procentuální marži..\n",
    "    #    ..každého produktu 10, 15, 20 a 25 procent\n",
    "    marze = numpy.array([0.1, 0.15, 0.2, 0.25])\n",
    "    \n",
    "    # 3. Vypočti prodejní ceny produktů v tisících jednotek pomocí broadcastingu (zkontroluj rozměr)\n",
    "    prodeje_reshaped = pocet_prodeje_konkr_produktu_tisice.reshape(-1, 1)\n",
    "    marze_reshaped = marze.reshape(1, -1)\n",
    "    prodejni_ceny = prodeje_reshaped * (1 + marze_reshaped)\n",
    "    \n",
    "    # 4. Spočítej celkové tržby pro každou marži pomocí broadcastingu\n",
    "    celkove_trzby = numpy.sum(prodejni_ceny, axis=0)\n",
    "    ```\n",
    "</details>"
   ]
  },
  {
   "cell_type": "markdown",
   "id": "236a6402-749a-41cb-baf6-6d8237d0d1a4",
   "metadata": {},
   "source": [
    "## Třídění v NUMPY\n",
    "\n",
    "---\n",
    "\n",
    "<img src=\"https://external-content.duckduckgo.com/iu/?u=https%3A%2F%2Ftse1.mm.bing.net%2Fth%3Fid%3DOIP.QQOtOJPya2YEO6IkVBnYjQHaDV%26pid%3DApi&f=1&ipt=245c27df971ff24527ca317988f6feda8b14851ef0a889fda7d5a10d114dc5e6&ipo=images\" width=\"300\" style=\"margin-left:auto; margin-right:auto\"/>"
   ]
  },
  {
   "cell_type": "markdown",
   "id": "e2ee9588-db5e-4cb5-8e0f-8e86485b42d2",
   "metadata": {},
   "source": [
    "Třídit hodnoty v rámci sekvence opět můžeš provést pomocí built-in funkce `sum`:"
   ]
  },
  {
   "cell_type": "code",
   "execution_count": 169,
   "id": "24e92bbd-6567-4b46-8a30-4f99cb2aebfd",
   "metadata": {
    "tags": []
   },
   "outputs": [],
   "source": [
    "nesetridene_pole = numpy.random.randint(1, 10, 7)"
   ]
  },
  {
   "cell_type": "code",
   "execution_count": 170,
   "id": "1747096a-1af6-40c8-809d-5de9f08d9dd4",
   "metadata": {
    "tags": []
   },
   "outputs": [
    {
     "data": {
      "text/plain": [
       "array([4, 6, 9, 4, 7, 7, 8])"
      ]
     },
     "execution_count": 170,
     "metadata": {},
     "output_type": "execute_result"
    }
   ],
   "source": [
    "nesetridene_pole"
   ]
  },
  {
   "cell_type": "code",
   "execution_count": 172,
   "id": "de118984-7de5-4373-8b73-10ff5f80b685",
   "metadata": {
    "tags": []
   },
   "outputs": [
    {
     "data": {
      "text/plain": [
       "[4, 4, 6, 7, 7, 8, 9]"
      ]
     },
     "execution_count": 172,
     "metadata": {},
     "output_type": "execute_result"
    }
   ],
   "source": [
    "sorted(nesetridene_pole)"
   ]
  },
  {
   "cell_type": "markdown",
   "id": "38578228-eb52-42a0-bcc6-ed6a5b9cfbe3",
   "metadata": {},
   "source": [
    "<br>\n",
    "\n",
    "Pomocí funkce `numpy.sort` ale aplikuješ takové procesy, které poskytují efektivnější třídící algoritmus:"
   ]
  },
  {
   "cell_type": "code",
   "execution_count": 186,
   "id": "66d02a3a-a0c2-4f53-bee7-d89259eb00b4",
   "metadata": {
    "tags": []
   },
   "outputs": [],
   "source": [
    "nesetridene_pole = numpy.array([2, 1, 3, 5, 4])"
   ]
  },
  {
   "cell_type": "code",
   "execution_count": 187,
   "id": "70737918-dec8-408a-9e50-c79eb6b6f8de",
   "metadata": {
    "tags": []
   },
   "outputs": [
    {
     "data": {
      "text/plain": [
       "array([2, 1, 3, 5, 4])"
      ]
     },
     "execution_count": 187,
     "metadata": {},
     "output_type": "execute_result"
    }
   ],
   "source": [
    "nesetridene_pole"
   ]
  },
  {
   "cell_type": "code",
   "execution_count": 188,
   "id": "b8677ef5-2a04-4b9b-ab56-0f1e2687d9d8",
   "metadata": {
    "tags": []
   },
   "outputs": [
    {
     "data": {
      "text/plain": [
       "array([1, 2, 3, 4, 5])"
      ]
     },
     "execution_count": 188,
     "metadata": {},
     "output_type": "execute_result"
    }
   ],
   "source": [
    "numpy.sort(nesetridene_pole)"
   ]
  },
  {
   "cell_type": "code",
   "execution_count": 185,
   "id": "3e03d380-8ced-4947-bb34-982cdd2fd4da",
   "metadata": {
    "tags": []
   },
   "outputs": [],
   "source": [
    "# help(numpy.sort)"
   ]
  },
  {
   "cell_type": "markdown",
   "id": "b3f27fcb-d63e-4fd1-9625-a3b421ce18dc",
   "metadata": {},
   "source": [
    "<br>\n",
    "\n",
    "Takto získáš pouze view, které nezmění původní zadávané a neseřazené hodnoty:"
   ]
  },
  {
   "cell_type": "code",
   "execution_count": 189,
   "id": "d257275d-92c1-483f-89f4-a3b2acbbc35c",
   "metadata": {
    "tags": []
   },
   "outputs": [
    {
     "data": {
      "text/plain": [
       "array([2, 1, 3, 5, 4])"
      ]
     },
     "execution_count": 189,
     "metadata": {},
     "output_type": "execute_result"
    }
   ],
   "source": [
    "nesetridene_pole"
   ]
  },
  {
   "cell_type": "markdown",
   "id": "d123f35a-2a0d-49f6-9d6f-368bb66068ee",
   "metadata": {},
   "source": [
    "<br>\n",
    "\n",
    "Pokud ale je tvým účelem, setřídit zadané hodnoty, můžeš provést *in-place* seřazení, pomocí metody `sort`:"
   ]
  },
  {
   "cell_type": "code",
   "execution_count": 190,
   "id": "146e4fb0-aacf-4358-8d30-3cc281af7a50",
   "metadata": {
    "tags": []
   },
   "outputs": [],
   "source": [
    "nesetridene_pole.sort()"
   ]
  },
  {
   "cell_type": "code",
   "execution_count": 191,
   "id": "609bb931-1881-4a10-80dd-a3d833d176ef",
   "metadata": {
    "tags": []
   },
   "outputs": [
    {
     "data": {
      "text/plain": [
       "array([1, 2, 3, 4, 5])"
      ]
     },
     "execution_count": 191,
     "metadata": {},
     "output_type": "execute_result"
    }
   ],
   "source": [
    "nesetridene_pole"
   ]
  },
  {
   "cell_type": "markdown",
   "id": "19fcad3d-7d80-4f87-9a9c-6e00409c7645",
   "metadata": {},
   "source": [
    "### Seřazené indexy\n",
    "\n",
    "---\n",
    "\n",
    "Pokud nepotřebuješ seřadit hodnoty, ale pouze získat pořadí podle indexů, můžeš vyzkoušet funkci `argsort`:"
   ]
  },
  {
   "cell_type": "code",
   "execution_count": 193,
   "id": "b935ee09-b896-4672-835b-54b9c111d88e",
   "metadata": {
    "tags": []
   },
   "outputs": [],
   "source": [
    "nesetridene_pole = numpy.array([2, 1, 3, 5, 4])"
   ]
  },
  {
   "cell_type": "code",
   "execution_count": 194,
   "id": "fa5c0c68-ee80-4e20-82b9-33ead8cf9b72",
   "metadata": {
    "tags": []
   },
   "outputs": [],
   "source": [
    "poradi_indexu = numpy.argsort(nesetridene_pole)"
   ]
  },
  {
   "cell_type": "code",
   "execution_count": 195,
   "id": "629bc658-cf49-4872-9dd8-00ff42d1f8f3",
   "metadata": {
    "tags": []
   },
   "outputs": [
    {
     "data": {
      "text/plain": [
       "array([1, 0, 2, 4, 3])"
      ]
     },
     "execution_count": 195,
     "metadata": {},
     "output_type": "execute_result"
    }
   ],
   "source": [
    "poradi_indexu"
   ]
  },
  {
   "cell_type": "markdown",
   "id": "413efb72-3b9b-4786-818b-2468c9d0ff2e",
   "metadata": {},
   "source": [
    "<br>\n",
    "\n",
    "Pomocí takového mezivýsledku můžeš následně přepsat pořadí pole:"
   ]
  },
  {
   "cell_type": "code",
   "execution_count": 196,
   "id": "a7bdc423-0da9-4c01-b8bd-c68e97c6f384",
   "metadata": {
    "tags": []
   },
   "outputs": [
    {
     "data": {
      "text/plain": [
       "array([2, 1, 3, 5, 4])"
      ]
     },
     "execution_count": 196,
     "metadata": {},
     "output_type": "execute_result"
    }
   ],
   "source": [
    "nesetridene_pole"
   ]
  },
  {
   "cell_type": "code",
   "execution_count": 197,
   "id": "e82534fa-34cc-4733-80ef-d84a6931e0e6",
   "metadata": {
    "tags": []
   },
   "outputs": [
    {
     "data": {
      "text/plain": [
       "array([1, 2, 3, 4, 5])"
      ]
     },
     "execution_count": 197,
     "metadata": {},
     "output_type": "execute_result"
    }
   ],
   "source": [
    "nesetridene_pole[poradi_indexu]"
   ]
  },
  {
   "cell_type": "markdown",
   "id": "fb4c4f51-a03b-4f82-bfae-5f29ebd971fb",
   "metadata": {},
   "source": [
    "<br>\n",
    "\n",
    "### Seřazení podle osy\n",
    "\n",
    "---"
   ]
  },
  {
   "cell_type": "code",
   "execution_count": 198,
   "id": "a3244b9e-13db-4f92-95ed-ac683d606e8f",
   "metadata": {
    "tags": []
   },
   "outputs": [],
   "source": [
    "matice_neserazena = numpy.random.randint(1, 10, size=(5, 5))"
   ]
  },
  {
   "cell_type": "code",
   "execution_count": 199,
   "id": "4ae949ef-984d-4420-abf2-94b8dadccd22",
   "metadata": {
    "tags": []
   },
   "outputs": [
    {
     "data": {
      "text/plain": [
       "array([[2, 9, 1, 6, 3],\n",
       "       [1, 3, 6, 1, 6],\n",
       "       [9, 5, 3, 9, 4],\n",
       "       [9, 3, 3, 7, 8],\n",
       "       [1, 8, 4, 4, 4]])"
      ]
     },
     "execution_count": 199,
     "metadata": {},
     "output_type": "execute_result"
    }
   ],
   "source": [
    "matice_neserazena"
   ]
  },
  {
   "cell_type": "markdown",
   "id": "1e3ec8e2-9710-4a20-a180-29dde269f275",
   "metadata": {},
   "source": [
    "<br>\n",
    "\n",
    "Seřazení v závislosti na osách provádíš pomocí parametru `axis`:"
   ]
  },
  {
   "cell_type": "code",
   "execution_count": 200,
   "id": "7eb87405-9c3c-42a5-802f-055bd488f0d8",
   "metadata": {
    "tags": []
   },
   "outputs": [
    {
     "data": {
      "text/plain": [
       "array([[1, 3, 1, 1, 3],\n",
       "       [1, 3, 3, 4, 4],\n",
       "       [2, 5, 3, 6, 4],\n",
       "       [9, 8, 4, 7, 6],\n",
       "       [9, 9, 6, 9, 8]])"
      ]
     },
     "execution_count": 200,
     "metadata": {},
     "output_type": "execute_result"
    }
   ],
   "source": [
    "numpy.sort(matice_neserazena, axis=0)  # Sloupcové řazení"
   ]
  },
  {
   "cell_type": "code",
   "execution_count": 201,
   "id": "0c95ed8d-f495-42fc-bdf7-cac77083c0c5",
   "metadata": {
    "tags": []
   },
   "outputs": [
    {
     "data": {
      "text/plain": [
       "array([[1, 2, 3, 6, 9],\n",
       "       [1, 1, 3, 6, 6],\n",
       "       [3, 4, 5, 9, 9],\n",
       "       [3, 3, 7, 8, 9],\n",
       "       [1, 4, 4, 4, 8]])"
      ]
     },
     "execution_count": 201,
     "metadata": {},
     "output_type": "execute_result"
    }
   ],
   "source": [
    "numpy.sort(matice_neserazena, axis=1)  # řádkové řazení"
   ]
  },
  {
   "cell_type": "markdown",
   "id": "289f1629-7ffb-4a5a-acd1-a6b88c3de857",
   "metadata": {},
   "source": [
    "<br>\n",
    "\n",
    "Dávej si pozor, protože v takovém případě interpret uchopí každý sloupec nebo řádek jako oddělené pole.\n",
    "\n",
    "Všechny související vztahy budou takovou úpravou ztracené."
   ]
  },
  {
   "cell_type": "markdown",
   "id": "bfaec527-a76a-43ae-b5e8-53976efe09cc",
   "metadata": {},
   "source": [
    "<br>\n",
    "\n",
    "### Partitionování\n",
    "\n",
    "---"
   ]
  },
  {
   "cell_type": "markdown",
   "id": "c42d96fa-3c1d-4a73-b611-b2dfdc54ffdb",
   "metadata": {},
   "source": [
    "Někdy není záhodno třídit celé pole.\n",
    "\n",
    "Stačí, pokud najdeš K nejmenších hodnot v poli.\n",
    "\n",
    "K takovému účelu slouží funkce `numpy.partition`."
   ]
  },
  {
   "cell_type": "code",
   "execution_count": 202,
   "id": "0159c2f5-b808-4266-a7e5-539e1936019a",
   "metadata": {
    "tags": []
   },
   "outputs": [],
   "source": [
    "pole_neserazene = numpy.array([7, 6, 4, 1, 3, 2, 5])"
   ]
  },
  {
   "cell_type": "code",
   "execution_count": 203,
   "id": "87081043-7369-439d-beba-57f198e49d30",
   "metadata": {
    "tags": []
   },
   "outputs": [
    {
     "data": {
      "text/plain": [
       "array([7, 6, 4, 1, 3, 2, 5])"
      ]
     },
     "execution_count": 203,
     "metadata": {},
     "output_type": "execute_result"
    }
   ],
   "source": [
    "pole_neserazene"
   ]
  },
  {
   "cell_type": "code",
   "execution_count": 207,
   "id": "8a0370ce-e6eb-42a6-8458-4c42767865af",
   "metadata": {
    "tags": []
   },
   "outputs": [
    {
     "data": {
      "text/plain": [
       "array([1, 2, 3, 4, 5, 6, 7])"
      ]
     },
     "execution_count": 207,
     "metadata": {},
     "output_type": "execute_result"
    }
   ],
   "source": [
    "numpy.partition(pole_neserazene, 3)"
   ]
  },
  {
   "cell_type": "code",
   "execution_count": 206,
   "id": "5277a7bb-e334-4401-a031-3edb4d485b24",
   "metadata": {
    "tags": []
   },
   "outputs": [],
   "source": [
    "# help(numpy.partition)"
   ]
  },
  {
   "cell_type": "markdown",
   "id": "b2a6edca-f851-4d94-9975-d7641896b35f",
   "metadata": {},
   "source": [
    "## Strukturovaná pole v NUMPY\n",
    "\n",
    "---\n",
    "\n",
    "<img src=\"https://external-content.duckduckgo.com/iu/?u=https%3A%2F%2Ftse1.mm.bing.net%2Fth%3Fid%3DOIP.QQOtOJPya2YEO6IkVBnYjQHaDV%26pid%3DApi&f=1&ipt=245c27df971ff24527ca317988f6feda8b14851ef0a889fda7d5a10d114dc5e6&ipo=images\" width=\"300\" style=\"margin-left:auto; margin-right:auto\"/>"
   ]
  },
  {
   "cell_type": "markdown",
   "id": "d37d0c9c-594f-4894-91ae-37251fd88996",
   "metadata": {},
   "source": [
    "Zatím jsi pracoval s homogenními poli.\n",
    "\n",
    "Ne vždycky je tomu tak.\n",
    "\n",
    "Pokud narazíš na heterogenní pole, můžeš často použít framework `pandas` a jeho `DataFrame`."
   ]
  },
  {
   "cell_type": "markdown",
   "id": "7f002b53-36d6-4468-b085-4ba8f6f237ae",
   "metadata": {},
   "source": [
    "<br>\n",
    "\n",
    "Máš třeba k dispozici několik kategorií údajů o řadě osob (řekněme jméno,\n",
    "věk a hmotnost).\n",
    "\n",
    "To lze uložit do tří samostatných polí:"
   ]
  },
  {
   "cell_type": "code",
   "execution_count": 80,
   "id": "101c315f-4a26-4355-a78c-a8ee5216eaa2",
   "metadata": {
    "tags": []
   },
   "outputs": [],
   "source": [
    "jmeno = [\"Marek\", \"Matouš\", \"Lukáš\", \"Jan\"]\n",
    "vek = [25, 35, 44, 17]\n",
    "vaha = [65.5, 71.0, 75.0, 81.3]"
   ]
  },
  {
   "cell_type": "markdown",
   "id": "6a977925-8606-4ca4-bc86-ffa3682bbeea",
   "metadata": {},
   "source": [
    "Toto ale není úplně šťastná.\n",
    "\n",
    "Nic v tomto zadání nenaznačuje, že hodnoty spolu jakkoliv souvisejí.\n",
    "\n",
    "Proto bývá elegantním řešením použít strukturované pole:"
   ]
  },
  {
   "cell_type": "code",
   "execution_count": 76,
   "id": "2a9af310-d246-412e-b767-6d44c39ebf47",
   "metadata": {
    "tags": []
   },
   "outputs": [],
   "source": [
    "data_osoby = numpy.zeros(\n",
    "    4, dtype={\n",
    "        \"names\": (\"jmeno\", \"vek\", \"vaha\"),\n",
    "        \"formats\": (\"U10\", \"i4\", \"f8\")\n",
    "    }\n",
    ")"
   ]
  },
  {
   "cell_type": "markdown",
   "id": "fbf5c1d6-6ba7-4939-bf82-e76365c8e0c7",
   "metadata": {},
   "source": [
    "<br>\n",
    "\n",
    "Je možné používat i datové typy pro `numpy` (nebo kombinovat):"
   ]
  },
  {
   "cell_type": "code",
   "execution_count": 143,
   "id": "3db954d8-51ff-4e82-b929-9a3243b74aad",
   "metadata": {
    "tags": []
   },
   "outputs": [],
   "source": [
    "data_osoby = numpy.zeros(\n",
    "    4, dtype={\n",
    "        \"names\": (\"jmeno\", \"vek\", \"vaha\"),\n",
    "        \"formats\": ((numpy.str_,10), int, numpy.float32)\n",
    "    }\n",
    ")"
   ]
  },
  {
   "cell_type": "code",
   "execution_count": 144,
   "id": "cc6f2c21-1702-42aa-b51a-d000da96153b",
   "metadata": {
    "tags": []
   },
   "outputs": [
    {
     "data": {
      "text/plain": [
       "dtype([('jmeno', '<U10'), ('vek', '<i8'), ('vaha', '<f4')])"
      ]
     },
     "execution_count": 144,
     "metadata": {},
     "output_type": "execute_result"
    }
   ],
   "source": [
    "data_osoby.dtype"
   ]
  },
  {
   "cell_type": "markdown",
   "id": "09669809-4f78-4938-b4a9-d16127480e48",
   "metadata": {},
   "source": [
    "<br>\n",
    "\n",
    "Případně nastavit samotné typy jako string oddělený čárkami:"
   ]
  },
  {
   "cell_type": "code",
   "execution_count": 146,
   "id": "52a7cceb-2d58-43a2-9ec0-7600bbe88963",
   "metadata": {
    "tags": []
   },
   "outputs": [
    {
     "data": {
      "text/plain": [
       "dtype([('f0', 'S10'), ('f1', '<i4'), ('f2', '<f8')])"
      ]
     },
     "execution_count": 146,
     "metadata": {},
     "output_type": "execute_result"
    }
   ],
   "source": [
    "numpy.dtype(\"S10, i4, f8\")"
   ]
  },
  {
   "cell_type": "code",
   "execution_count": 78,
   "id": "3d250957-a6ad-41fa-a7a3-052d8fdebfed",
   "metadata": {
    "tags": []
   },
   "outputs": [
    {
     "data": {
      "text/plain": [
       "dtype([('jmeno', '<U10'), ('vek', '<i4'), ('vaha', '<f8')])"
      ]
     },
     "execution_count": 78,
     "metadata": {},
     "output_type": "execute_result"
    }
   ],
   "source": [
    "data_osoby.dtype"
   ]
  },
  {
   "cell_type": "markdown",
   "id": "2062a97a-6b4d-4b65-9046-658fd450ba94",
   "metadata": {},
   "source": [
    "<br>\n",
    "\n",
    "Zde platí:\n",
    "- `U10` znamená *řetězec* *Unicode* **o maximální délce 10**\",\n",
    "- `i4` znamená  *4bajtové* (tj. 32bitové) **celé číslo**,\n",
    "- `f8` znamená *8bajtový* (tj. 64bitový) **float**.\n",
    "\n",
    "Nyní máš nachystané objekty a můžeš je naplnit hodnotami:"
   ]
  },
  {
   "cell_type": "code",
   "execution_count": 81,
   "id": "3aba1e2c-3a66-4b66-830b-6ab02317fb3d",
   "metadata": {
    "tags": []
   },
   "outputs": [],
   "source": [
    "data_osoby[\"jmeno\"] = jmeno\n",
    "data_osoby[\"vek\"] = vek\n",
    "data_osoby[\"vaha\"] = vaha"
   ]
  },
  {
   "cell_type": "code",
   "execution_count": 85,
   "id": "fdab4c48-ea8b-4185-ac61-a0c868f47fac",
   "metadata": {
    "tags": []
   },
   "outputs": [
    {
     "data": {
      "text/plain": [
       "array([('Marek', 25, 65.5), ('Matouš', 35, 71. ), ('Lukáš', 44, 75. ),\n",
       "       ('Jan', 17, 81.3)],\n",
       "      dtype=[('jmeno', '<U10'), ('vek', '<i4'), ('vaha', '<f8')])"
      ]
     },
     "execution_count": 85,
     "metadata": {},
     "output_type": "execute_result"
    }
   ],
   "source": [
    "data_osoby"
   ]
  },
  {
   "cell_type": "markdown",
   "id": "9741a380-88ef-4d49-9c95-249028517b5a",
   "metadata": {},
   "source": [
    "<br>\n",
    "\n",
    "Tento proces má za následek, že data držíš konzistentně na jednom místě v paměti.\n",
    "\n",
    "Dále k nim můžeš přistupovat několika způsoby:\n",
    "1. pomocí **jména**,\n",
    "2. pomocí **indexu**."
   ]
  },
  {
   "cell_type": "markdown",
   "id": "cf612899-d8b0-4920-8172-f586ba77077e",
   "metadata": {},
   "source": [
    "#### Pomocí jména"
   ]
  },
  {
   "cell_type": "code",
   "execution_count": 90,
   "id": "0a324b11-5506-4048-9eef-1aeb85fd9592",
   "metadata": {
    "tags": []
   },
   "outputs": [
    {
     "data": {
      "text/plain": [
       "array(['Marek', 'Matouš', 'Lukáš', 'Jan'], dtype='<U10')"
      ]
     },
     "execution_count": 90,
     "metadata": {},
     "output_type": "execute_result"
    }
   ],
   "source": [
    "data_osoby[\"jmeno\"]"
   ]
  },
  {
   "cell_type": "markdown",
   "id": "fb520d51-a3f8-4d6b-82f5-b7e2ad2f1de5",
   "metadata": {},
   "source": [
    "#### Pomocí indexu"
   ]
  },
  {
   "cell_type": "code",
   "execution_count": 86,
   "id": "f951f443-a9c4-4a6e-af44-ccc00b6e6131",
   "metadata": {
    "tags": []
   },
   "outputs": [
    {
     "data": {
      "text/plain": [
       "('Marek', 25, 65.5)"
      ]
     },
     "execution_count": 86,
     "metadata": {},
     "output_type": "execute_result"
    }
   ],
   "source": [
    "data_osoby[0]"
   ]
  },
  {
   "cell_type": "code",
   "execution_count": 87,
   "id": "3496fe5a-2b8f-404d-8084-c90e0c734c41",
   "metadata": {
    "tags": []
   },
   "outputs": [
    {
     "data": {
      "text/plain": [
       "('Jan', 17, 81.3)"
      ]
     },
     "execution_count": 87,
     "metadata": {},
     "output_type": "execute_result"
    }
   ],
   "source": [
    "data_osoby[-1]"
   ]
  },
  {
   "cell_type": "markdown",
   "id": "1f3aacc5-3544-4f54-b245-f4f27fda12ad",
   "metadata": {},
   "source": [
    "### Použití boolean dotazování\n",
    "\n",
    "---"
   ]
  },
  {
   "cell_type": "markdown",
   "id": "d05b0e10-65e5-40e1-8170-75900754157e",
   "metadata": {},
   "source": [
    "Celý proces znáš z `pandas`:"
   ]
  },
  {
   "cell_type": "markdown",
   "id": "af5a70b3-9168-4765-99b0-e421dbda079e",
   "metadata": {},
   "source": [
    "##### Vyfiltruj mi osoby mladší 40 let"
   ]
  },
  {
   "cell_type": "code",
   "execution_count": 91,
   "id": "aeb1553b-2192-4f6a-9db8-a12b4c6c3e34",
   "metadata": {
    "tags": []
   },
   "outputs": [
    {
     "data": {
      "text/plain": [
       "array([('Marek', 25, 65.5), ('Matouš', 35, 71. ), ('Jan', 17, 81.3)],\n",
       "      dtype=[('jmeno', '<U10'), ('vek', '<i4'), ('vaha', '<f8')])"
      ]
     },
     "execution_count": 91,
     "metadata": {},
     "output_type": "execute_result"
    }
   ],
   "source": [
    "data_osoby[data_osoby[\"vek\"] < 40]"
   ]
  },
  {
   "cell_type": "markdown",
   "id": "cbd5c818-7846-469d-8c1f-f29c215995dd",
   "metadata": {},
   "source": [
    "<br>\n",
    "\n",
    "##### Vyfiltruj mi osoby mladší 40 let a vrať pouze jejich jména"
   ]
  },
  {
   "cell_type": "code",
   "execution_count": 92,
   "id": "cd83e83f-94fb-430b-998f-2a3e5f7ee23a",
   "metadata": {
    "tags": []
   },
   "outputs": [
    {
     "data": {
      "text/plain": [
       "array(['Marek', 'Matouš', 'Jan'], dtype='<U10')"
      ]
     },
     "execution_count": 92,
     "metadata": {},
     "output_type": "execute_result"
    }
   ],
   "source": [
    "data_osoby[data_osoby[\"vek\"] < 40][\"jmeno\"]"
   ]
  },
  {
   "cell_type": "markdown",
   "id": "16f462d4-9c76-4008-a32d-d7d4a33e9a09",
   "metadata": {},
   "source": [
    "<br>\n",
    "\n",
    "Pokud bude ale náročnost operací vzrůstat, je lepší, použít `pandas`."
   ]
  },
  {
   "cell_type": "markdown",
   "id": "8cdc6897-0f06-42f8-87f5-365fbfb3b444",
   "metadata": {},
   "source": [
    "<br>\n",
    "\n",
    "##### **🧠 CVIČENÍ 🧠, procvič si BROADCASTING v NUMPY**"
   ]
  },
  {
   "cell_type": "markdown",
   "id": "867a1bc6-d5cb-48ed-99e1-8b293feb8323",
   "metadata": {},
   "source": [
    "Máš data z e-shopu, která obsahují informace o objednávkách ve formě seznamu se slovníky.\n",
    "\n",
    "Tvým úkolem je převést tato data do strukturovaného numpy pole a provést několik analýz:\n",
    "\n",
    "1. Vytvoř ze zada'ného listu pole (opatrně na datový typ),\n",
    "2. výpočet průměrné ceny objednávky a celkového počtu prodaných položek,\n",
    "3. vyhledej index s největší cenou a vrať celé pole pomocí indexu,\n",
    "4. vytvoření nového pole seřazeného podle nejvyššího počtu prodaných položek."
   ]
  },
  {
   "cell_type": "code",
   "execution_count": 148,
   "id": "a92538fc-c670-4038-babe-17e42b8cbcc6",
   "metadata": {
    "tags": []
   },
   "outputs": [],
   "source": [
    "objednavky = [\n",
    "    {\"id\": 1, \"customer\": \"Jan Novák\", \"price\": 1200, \"items\": 3},\n",
    "    {\"id\": 2, \"customer\": \"Petr Vondráček\", \"price\": 650, \"items\": 1},\n",
    "    {\"id\": 3, \"customer\": \"Jana Dvořáková\", \"price\": 1050, \"items\": 4},\n",
    "    {\"id\": 4, \"customer\": \"Lucie Macháčková\", \"price\": 950, \"items\": 2},\n",
    "    {\"id\": 5, \"customer\": \"Tomáš Kučera\", \"price\": 1800, \"items\": 6},\n",
    "]"
   ]
  },
  {
   "cell_type": "code",
   "execution_count": 152,
   "id": "ce041b63-2848-45b3-b4d0-382e872331cc",
   "metadata": {
    "tags": []
   },
   "outputs": [],
   "source": [
    "# 1. Vytvoř ze zadaného listu pole (opatrně na datový typ)"
   ]
  },
  {
   "cell_type": "code",
   "execution_count": 160,
   "id": "68665116-259b-42b9-b60e-f8db39384432",
   "metadata": {
    "tags": []
   },
   "outputs": [],
   "source": [
    "# 2. Výpočet průměrné ceny objednávky a celkového počtu prodaných položek"
   ]
  },
  {
   "cell_type": "code",
   "execution_count": 163,
   "id": "e2336f9a-be7c-4a98-9ba8-8f4cdac51ba7",
   "metadata": {
    "tags": []
   },
   "outputs": [],
   "source": [
    "# 3. Vyhledej index s největší cenou a vrať celé pole pomocí indexu"
   ]
  },
  {
   "cell_type": "code",
   "execution_count": 168,
   "id": "854ec29a-9b9d-443e-852a-778dc126f241",
   "metadata": {
    "tags": []
   },
   "outputs": [],
   "source": [
    "# 4. Vytvoření nového pole seřazeného podle nejvyššího počtu prodaných položek"
   ]
  },
  {
   "cell_type": "markdown",
   "id": "6deddc78-26a0-494e-b81f-21a80d4d0d34",
   "metadata": {},
   "source": [
    "<details>\n",
    "    <summary>▶️ Řešení</summary>\n",
    "    \n",
    "    ```python\n",
    "    import numpy\n",
    "\n",
    "    objednavky = [\n",
    "    {\"id\": 1, \"customer\": \"Jan Novák\", \"price\": 1200, \"items\": 3},\n",
    "    {\"id\": 2, \"customer\": \"Petr Vondráček\", \"price\": 650, \"items\": 1},\n",
    "    {\"id\": 3, \"customer\": \"Jana Dvořáková\", \"price\": 1050, \"items\": 4},\n",
    "    {\"id\": 4, \"customer\": \"Lucie Macháčková\", \"price\": 950, \"items\": 2},\n",
    "    {\"id\": 5, \"customer\": \"Tomáš Kučera\", \"price\": 1800, \"items\": 6},\n",
    "    ]\n",
    "    \n",
    "    # 1. Vytvoř ze zadaného listu pole (opatrně na datový typ)\n",
    "\n",
    "    # Definice datového typu pro strukturované pole\n",
    "    dtype = [(\"id\", \"int32\"), (\"customer\", \"U20\"), (\"price\", \"float32\"), (\"items\", \"int32\")]\n",
    "\n",
    "    # Převod seznamu slovníků na strukturované pole\n",
    "    # Převod seznamu slovníků na seznam n-tic\n",
    "    ntuples = [(o[\"id\"], o[\"customer\"], o[\"price\"], o[\"items\"]) for o in objednavky]\n",
    "\n",
    "    # Převod seznamu n-tic na strukturované pole\n",
    "    pole_objednavek = np.array(ntuples, dtype=dtype)\n",
    "    \n",
    "    # 2. Výpočet průměrné ceny objednávky a celkového počtu prodaných položek\n",
    "    prumer_cena = numpy.mean(pole_objednavek[\"price\"])\n",
    "    celkem_prodano = numpy.sum(pole_objednavek[\"items\"])\n",
    "    \n",
    "    # 3. Vyhledej index s největší cenou a vrať celé pole pomocí indexu\n",
    "    max_index = numpy.argmax(pole_objednavek[\"price\"])\n",
    "    max_cena = pole_objednavek[max_index]\n",
    "    \n",
    "    # 4. Vytvoření nového pole seřazeného podle nejvyššího počtu prodaných položek\n",
    "    serazene_objednavky = numpy.sort(pole_objednavek, order=\"items\")[::-1]\n",
    "    ```\n",
    "</details>"
   ]
  },
  {
   "cell_type": "markdown",
   "id": "f04e1213-9c59-4089-aedc-554364880b1b",
   "metadata": {},
   "source": [
    "---"
   ]
  }
 ],
 "metadata": {
  "kernelspec": {
   "display_name": "Python 3 (ipykernel)",
   "language": "python",
   "name": "python3"
  },
  "language_info": {
   "codemirror_mode": {
    "name": "ipython",
    "version": 3
   },
   "file_extension": ".py",
   "mimetype": "text/x-python",
   "name": "python",
   "nbconvert_exporter": "python",
   "pygments_lexer": "ipython3",
   "version": "3.8.10"
  }
 },
 "nbformat": 4,
 "nbformat_minor": 5
}

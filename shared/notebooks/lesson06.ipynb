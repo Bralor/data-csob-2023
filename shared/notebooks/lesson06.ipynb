{
 "cells": [
  {
   "cell_type": "markdown",
   "id": "72008c88-ffa4-4373-8cbc-50c98f67dc78",
   "metadata": {},
   "source": [
    "# Datová akademie, ČSOB, 2023\n",
    "\n",
    "---"
   ]
  },
  {
   "cell_type": "markdown",
   "id": "84a460cd-21de-4558-b438-000008e8ab83",
   "metadata": {},
   "source": [
    "* [Agregace v NUMPY](#Agregace-v-NUMPY),\n",
    "* [Broadcasting v NUMPY](#Broadcasting-v-NUMPY),\n",
    "* [Indexování v NUMPY](#Indexování-v-NUMPY),\n",
    "* [Třídění v NUMPY](#Třídění-v-NUMPY),\n",
    "* [Strukturovaná pole v NUMPY](#Strukturovaná-pole-v-NUMPY)."
   ]
  },
  {
   "cell_type": "code",
   "execution_count": null,
   "id": "0624a526-0a8d-4883-8ee5-e33b4d333faa",
   "metadata": {},
   "outputs": [],
   "source": []
  },
  {
   "cell_type": "markdown",
   "id": "cadd9064-50b3-435d-a9b2-10727a88508a",
   "metadata": {},
   "source": [
    "## Agregace v NUMPY\n",
    "\n",
    "---\n",
    "\n",
    "<img src=\"https://external-content.duckduckgo.com/iu/?u=https%3A%2F%2Ftse1.mm.bing.net%2Fth%3Fid%3DOIP.QQOtOJPya2YEO6IkVBnYjQHaDV%26pid%3DApi&f=1&ipt=245c27df971ff24527ca317988f6feda8b14851ef0a889fda7d5a10d114dc5e6&ipo=images\" width=\"300\" style=\"margin-left:auto; margin-right:auto\"/>"
   ]
  },
  {
   "cell_type": "markdown",
   "id": "d8b9a37f-689a-478d-b66b-9c1916af1c85",
   "metadata": {},
   "source": [
    "Pro velké množství dat bývá prvním krokem jednoduchá analýza.\n",
    "\n",
    "Tedy průměr, směrodatná odchylka. Ty ti umožní lépe pochopit jednotlivé hodnoty.\n",
    "\n",
    "Jsou dostupné i další pomocné souhrnné statistiky (minimum, maximum, suma, ..).\n",
    "\n",
    "Takové řešení ti `numpy` nabízí také."
   ]
  },
  {
   "cell_type": "markdown",
   "id": "12713fb0-ea33-4fa5-80b2-6e6bc1849397",
   "metadata": {},
   "source": [
    "## Broadcasting v NUMPY\n",
    "\n",
    "---\n",
    "\n",
    "<img src=\"https://external-content.duckduckgo.com/iu/?u=https%3A%2F%2Ftse1.mm.bing.net%2Fth%3Fid%3DOIP.QQOtOJPya2YEO6IkVBnYjQHaDV%26pid%3DApi&f=1&ipt=245c27df971ff24527ca317988f6feda8b14851ef0a889fda7d5a10d114dc5e6&ipo=images\" width=\"300\" style=\"margin-left:auto; margin-right:auto\"/>"
   ]
  },
  {
   "cell_type": "markdown",
   "id": "236a6402-749a-41cb-baf6-6d8237d0d1a4",
   "metadata": {},
   "source": [
    "## Třídění v NUMPY\n",
    "\n",
    "---\n",
    "\n",
    "<img src=\"https://external-content.duckduckgo.com/iu/?u=https%3A%2F%2Ftse1.mm.bing.net%2Fth%3Fid%3DOIP.QQOtOJPya2YEO6IkVBnYjQHaDV%26pid%3DApi&f=1&ipt=245c27df971ff24527ca317988f6feda8b14851ef0a889fda7d5a10d114dc5e6&ipo=images\" width=\"300\" style=\"margin-left:auto; margin-right:auto\"/>"
   ]
  },
  {
   "cell_type": "markdown",
   "id": "b2a6edca-f851-4d94-9975-d7641896b35f",
   "metadata": {},
   "source": [
    "## Strukturovaná pole v NUMPY\n",
    "\n",
    "---\n",
    "\n",
    "<img src=\"https://external-content.duckduckgo.com/iu/?u=https%3A%2F%2Ftse1.mm.bing.net%2Fth%3Fid%3DOIP.QQOtOJPya2YEO6IkVBnYjQHaDV%26pid%3DApi&f=1&ipt=245c27df971ff24527ca317988f6feda8b14851ef0a889fda7d5a10d114dc5e6&ipo=images\" width=\"300\" style=\"margin-left:auto; margin-right:auto\"/>"
   ]
  },
  {
   "cell_type": "markdown",
   "id": "f04e1213-9c59-4089-aedc-554364880b1b",
   "metadata": {},
   "source": [
    "---"
   ]
  }
 ],
 "metadata": {
  "kernelspec": {
   "display_name": "Python 3 (ipykernel)",
   "language": "python",
   "name": "python3"
  },
  "language_info": {
   "codemirror_mode": {
    "name": "ipython",
    "version": 3
   },
   "file_extension": ".py",
   "mimetype": "text/x-python",
   "name": "python",
   "nbconvert_exporter": "python",
   "pygments_lexer": "ipython3",
   "version": "3.8.10"
  }
 },
 "nbformat": 4,
 "nbformat_minor": 5
}

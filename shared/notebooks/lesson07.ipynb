{
 "cells": [
  {
   "cell_type": "markdown",
   "id": "a948c1b4-4605-4ac2-a87e-720004be3da5",
   "metadata": {},
   "source": [
    "# Datová akademie, ČSOB, 2023\n",
    "\n",
    "---"
   ]
  },
  {
   "cell_type": "markdown",
   "id": "b856f735-557f-4c7c-bde1-dcca4b4323c6",
   "metadata": {},
   "source": [
    "* [Agregace v NUMPY](#Agregace-v-NUMPY),\n",
    "* [Broadcasting v NUMPY](#Broadcasting-v-NUMPY),\n",
    "* [Třídění v NUMPY](#Třídění-v-NUMPY),\n",
    "* [Strukturovaná pole v NUMPY](#Strukturovaná-pole-v-NUMPY)."
   ]
  },
  {
   "cell_type": "markdown",
   "id": "8efaf7f1-476f-4680-abf8-a98df40d695d",
   "metadata": {},
   "source": [
    "## Úvod do vizualizace\n",
    "\n",
    "---\n",
    "\n",
    "<img src=\"https://external-content.duckduckgo.com/iu/?u=https%3A%2F%2Ftse1.mm.bing.net%2Fth%3Fid%3DOIP.H_WRmBCikhDmXrUWIaxpEwHaHa%26pid%3DApi&f=1&ipt=3f78b32ee63fdfec4a0a9349494c56b7fa187873223a2c6f748f965ba29117b2&ipo=images\" width=\"250\" style=\"margin-left:auto; margin-right:auto\"/>"
   ]
  },
  {
   "cell_type": "markdown",
   "id": "33003781-dda1-4619-a6da-730b52aea9a9",
   "metadata": {},
   "source": [
    "Jedním, z dnes již poněkud starších knihoven, sloužící pro vizualizaci výstupů, patří `matplotlib`.\n",
    "\n",
    "V roce 2002 byla knihovna původně navržená tak, abych podporovala interaktivní matlabovské grafy v rámci *IPythonu*.\n",
    "\n",
    "Ačkoliv se jedná v mnoha ohledech o starší knihovnu, přesto nelze popřít jeho důslednost a cross-platformní grafický engine."
   ]
  },
  {
   "cell_type": "markdown",
   "id": "a42c43b0-3c14-4262-a062-caaf3628c09f",
   "metadata": {},
   "source": [
    "### Instalace knihovny\n",
    "\n",
    "---"
   ]
  },
  {
   "cell_type": "code",
   "execution_count": null,
   "id": "36a4372f-a327-442d-9b86-b8773a09be0a",
   "metadata": {},
   "outputs": [],
   "source": [
    "Instalaci proveď v rámci virtuálního prostředí:"
   ]
  },
  {
   "cell_type": "code",
   "execution_count": null,
   "id": "b31b75c0-1e38-4ece-ad49-9edca6291829",
   "metadata": {},
   "outputs": [],
   "source": [
    "!pip install matplotlib"
   ]
  },
  {
   "cell_type": "code",
   "execution_count": null,
   "id": "e5677081-b9f0-4990-873c-3d8e5b35fbe1",
   "metadata": {},
   "outputs": [],
   "source": [
    "... následná kontrola verze knihovny.\n",
    "\n",
    "<br>\n",
    "\n",
    "Ohlášení pro použití knihovny v rámci skriptu:"
   ]
  },
  {
   "cell_type": "code",
   "execution_count": null,
   "id": "8f964d3e-1b3a-4a3b-919d-62311d807aed",
   "metadata": {},
   "outputs": [],
   "source": [
    "import matplotlib"
   ]
  },
  {
   "cell_type": "code",
   "execution_count": null,
   "id": "4cb12c01-20ee-4bf6-a721-48358f9d3fcd",
   "metadata": {},
   "outputs": [],
   "source": [
    "Alias pro snadnější práci:"
   ]
  },
  {
   "cell_type": "code",
   "execution_count": null,
   "id": "93eef5a7-1348-4eb6-ab01-d3eda41e23ce",
   "metadata": {},
   "outputs": [],
   "source": [
    "import matplotlib as mpl"
   ]
  },
  {
   "cell_type": "code",
   "execution_count": null,
   "id": "ee7fc235-5b74-4fad-8404-2aef276a58c9",
   "metadata": {},
   "outputs": [],
   "source": [
    "Použití nejčastějšího objektu v rámci celé knihovny:"
   ]
  },
  {
   "cell_type": "code",
   "execution_count": null,
   "id": "8c50b1a5-069a-4089-bc65-60dba4dc5a0b",
   "metadata": {},
   "outputs": [],
   "source": [
    "import matplotllib.pyplot as plt"
   ]
  },
  {
   "cell_type": "markdown",
   "id": "7e62dd74-6979-4c3c-aa12-348264ba6d75",
   "metadata": {},
   "source": [
    "### Použití v rámci Jupyteru\n",
    "\n",
    "---"
   ]
  },
  {
   "cell_type": "code",
   "execution_count": null,
   "id": "1a4e241a-9978-4ae5-a2c8-28b8a6c04711",
   "metadata": {},
   "outputs": [],
   "source": [
    "Pro využití potenciálu knihovny `matplotlib` musíš umožnit práci v jejím režimu pomocí magického příkazu:"
   ]
  },
  {
   "cell_type": "code",
   "execution_count": 2,
   "id": "5c8f8fe3-8909-4cd2-a88c-8f1c03f03d87",
   "metadata": {
    "tags": []
   },
   "outputs": [],
   "source": [
    "%matplotlib notebook"
   ]
  },
  {
   "cell_type": "markdown",
   "id": "fa385424-653f-44c4-b7d8-47630ea9ec86",
   "metadata": {},
   "source": [
    "Tento magický příkaz umožňuje interaktivní zobrazení grafů přímo v Jupyter notebooku.\n",
    "\n",
    "Po spuštění buňky s kódem pro vykreslení grafu se zobrazí interaktivní graf pod buňkou s možností přiblížení, oddálení, posunutí a uložení grafu.\n",
    "\n",
    "Tento způsob je vhodný, pokud potřebujete prozkoumat detaily grafu nebo interagovat s ním."
   ]
  },
  {
   "cell_type": "code",
   "execution_count": 3,
   "id": "7ba162eb-c2a6-4628-af47-02a71f477195",
   "metadata": {
    "tags": []
   },
   "outputs": [],
   "source": [
    "%matplotlib inline"
   ]
  },
  {
   "cell_type": "markdown",
   "id": "235bb2a1-b1f3-4913-b228-db84ac9fe749",
   "metadata": {},
   "source": [
    "Tento magický příkaz nastaví, aby se grafy zobrazovaly přímo v Jupyter notebooku, jako statické obrázky.\n",
    "\n",
    "Po spuštění buňky s kódem pro vykreslení grafu se graf zobrazí pod buňkou ve formátu PNG.\n",
    "\n",
    "Tento způsob je nejčastěji používaný pro zobrazování grafů v Jupyter notebooku, protože je jednoduchý a efektivní."
   ]
  },
  {
   "cell_type": "code",
   "execution_count": null,
   "id": "cf805440-cb16-4263-a847-a2c8d8ff26c4",
   "metadata": {},
   "outputs": [],
   "source": [
    "Pro účely jednotlivých ukázek a cvičení budeš potřebovat klasické, statické zobrazení, tedy `inline`."
   ]
  },
  {
   "cell_type": "markdown",
   "id": "14ed66d3-b267-43f9-910e-ae95503476ec",
   "metadata": {},
   "source": [
    "### Ukázka\n",
    "\n",
    "---"
   ]
  },
  {
   "cell_type": "code",
   "execution_count": null,
   "id": "a5a6f25b-6c37-4378-83d9-3b5ddccf36d3",
   "metadata": {},
   "outputs": [],
   "source": [
    "Na začátek krátká ukázka aplikace knihovny samotné. Nejprve tedy magická funkce:"
   ]
  },
  {
   "cell_type": "code",
   "execution_count": 17,
   "id": "6dd9582c-7fa2-45fd-bb00-b4ced3d40d1f",
   "metadata": {
    "tags": []
   },
   "outputs": [],
   "source": [
    "%matplotlib inline"
   ]
  },
  {
   "cell_type": "code",
   "execution_count": null,
   "id": "2b7561b3-fcae-479e-a56d-91f854ed250d",
   "metadata": {},
   "outputs": [],
   "source": [
    "<br>\n",
    "\n",
    "Ohlášení o náhrátí knihovny:"
   ]
  },
  {
   "cell_type": "code",
   "execution_count": 18,
   "id": "c75b089b-c191-42b8-9c99-4e60bde55d9b",
   "metadata": {
    "tags": []
   },
   "outputs": [],
   "source": [
    "import matplotlib.pyplot as plt"
   ]
  },
  {
   "cell_type": "markdown",
   "id": "f95074ad-2016-425c-837c-9cf17b209a42",
   "metadata": {},
   "source": [
    "<br>\n",
    "\n",
    "Definuješ hodnoty, se kterými chceš vizualizaci provést a použiješ funkci `plot`:"
   ]
  },
  {
   "cell_type": "code",
   "execution_count": 19,
   "id": "e875ab41-77dc-4f17-90fa-75f5678f5d2a",
   "metadata": {
    "tags": []
   },
   "outputs": [
    {
     "data": {
      "text/plain": [
       "[<matplotlib.lines.Line2D at 0x7f32a8be0a90>]"
      ]
     },
     "execution_count": 19,
     "metadata": {},
     "output_type": "execute_result"
    },
    {
     "data": {
      "image/png": "[encoded data removed]",
      "text/plain": [
       "<Figure size 640x480 with 1 Axes>"
      ]
     },
     "metadata": {},
     "output_type": "display_data"
    }
   ],
   "source": [
    "pole_x = [1, 2, 3]\n",
    "pole_y = [2, 2.5, 2.7]\n",
    "\n",
    "plt.plot(pole_x, pole_y, '-')"
   ]
  },
  {
   "cell_type": "code",
   "execution_count": null,
   "id": "00bc60dd-30d1-4873-9861-ae059de967df",
   "metadata": {},
   "outputs": [],
   "source": [
    "Pokud nechceš s grafy pracovat v rámci notebooků a potřebuješ výstup ukládat, vytvoř objekt `figure`:"
   ]
  },
  {
   "cell_type": "code",
   "execution_count": 20,
   "id": "5b0e2aa2-551c-423c-aa3a-52a87258d7f3",
   "metadata": {
    "tags": []
   },
   "outputs": [
    {
     "data": {
      "image/png": "[encoded data removed]",
      "text/plain": [
       "<Figure size 640x480 with 1 Axes>"
      ]
     },
     "metadata": {},
     "output_type": "display_data"
    }
   ],
   "source": [
    "obr = plt.figure()\n",
    "\n",
    "pole_x = [1, 2, 3]\n",
    "pole_y = [2, 2.5, 2.7]\n",
    "\n",
    "plt.plot(pole_x, pole_y, '-')\n",
    "obr.savefig('prvni_ukazka.png')"
   ]
  },
  {
   "cell_type": "code",
   "execution_count": null,
   "id": "3e4d8d90-3948-4324-9a00-27223830ea4a",
   "metadata": {},
   "outputs": [],
   "source": [
    "Další podporované suffixy:"
   ]
  },
  {
   "cell_type": "code",
   "execution_count": 28,
   "id": "781af288-079e-4de9-b51b-9e391cbb0cf1",
   "metadata": {
    "tags": []
   },
   "outputs": [
    {
     "data": {
      "text/plain": [
       "{'eps': 'Encapsulated Postscript',\n",
       " 'jpg': 'Joint Photographic Experts Group',\n",
       " 'jpeg': 'Joint Photographic Experts Group',\n",
       " 'pdf': 'Portable Document Format',\n",
       " 'pgf': 'PGF code for LaTeX',\n",
       " 'png': 'Portable Network Graphics',\n",
       " 'ps': 'Postscript',\n",
       " 'raw': 'Raw RGBA bitmap',\n",
       " 'rgba': 'Raw RGBA bitmap',\n",
       " 'svg': 'Scalable Vector Graphics',\n",
       " 'svgz': 'Scalable Vector Graphics',\n",
       " 'tif': 'Tagged Image File Format',\n",
       " 'tiff': 'Tagged Image File Format',\n",
       " 'webp': 'WebP Image Format'}"
      ]
     },
     "execution_count": 28,
     "metadata": {},
     "output_type": "execute_result"
    }
   ],
   "source": [
    "obr.canvas.get_supported_filetypes()"
   ]
  },
  {
   "cell_type": "code",
   "execution_count": null,
   "id": "34b15b00-593c-4072-bbfc-c8117fa9fd68",
   "metadata": {},
   "outputs": [],
   "source": [
    "V aktuálním adresáři potom najdeš obrázek stejného jména:"
   ]
  },
  {
   "cell_type": "code",
   "execution_count": 22,
   "id": "8d851c19-f969-4c33-81d6-199f56a3f86f",
   "metadata": {
    "tags": []
   },
   "outputs": [
    {
     "name": "stdout",
     "output_type": "stream",
     "text": [
      "-rw-rw-r-- 1 matous matous    19236 kvě  2 08:11 prvni_ukazka.png\n"
     ]
    }
   ],
   "source": [
    "!ls -l | grep \".png$\""
   ]
  },
  {
   "cell_type": "markdown",
   "id": "d5da4322-283e-412a-81a2-35031c02f9d8",
   "metadata": {},
   "source": [
    "<br>\n",
    "\n",
    "Nachystané obrázky potom můžeš otevírat pomocí třídy `Image`:"
   ]
  },
  {
   "cell_type": "code",
   "execution_count": 27,
   "id": "f670b9b5-3dbb-425d-a639-52d4c28997b2",
   "metadata": {
    "tags": []
   },
   "outputs": [],
   "source": [
    "# help(Image)"
   ]
  },
  {
   "cell_type": "code",
   "execution_count": 24,
   "id": "4cb45c01-138b-41f8-8922-be8604a84aa4",
   "metadata": {
    "tags": []
   },
   "outputs": [
    {
     "data": {
      "image/png": "[encoded data removed]",
      "text/plain": [
       "<IPython.core.display.Image object>"
      ]
     },
     "execution_count": 24,
     "metadata": {},
     "output_type": "execute_result"
    }
   ],
   "source": [
    "from IPython.display import Image\n",
    "Image('prvni_ukazka.png')"
   ]
  },
  {
   "cell_type": "code",
   "execution_count": null,
   "id": "062b717c-e1de-4724-8b41-8ab14b2fb80e",
   "metadata": {},
   "outputs": [],
   "source": [
    "## Jednoduché čárové grafy\n",
    "\n",
    "---"
   ]
  }
 ],
 "metadata": {
  "kernelspec": {
   "display_name": "Python 3 (ipykernel)",
   "language": "python",
   "name": "python3"
  },
  "language_info": {
   "codemirror_mode": {
    "name": "ipython",
    "version": 3
   },
   "file_extension": ".py",
   "mimetype": "text/x-python",
   "name": "python",
   "nbconvert_exporter": "python",
   "pygments_lexer": "ipython3",
   "version": "3.8.10"
  }
 },
 "nbformat": 4,
 "nbformat_minor": 5
}

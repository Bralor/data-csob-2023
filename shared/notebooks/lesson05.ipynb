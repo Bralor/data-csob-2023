{
 "cells": [
  {
   "cell_type": "markdown",
   "id": "5bf9c76b-d367-4d8c-b2c3-637743a839b6",
   "metadata": {
    "tags": []
   },
   "source": [
    "## Pátá lekce, návrh\n",
    "1. `numpy`,\n",
    "    - intro ke knihovně, jak s ní pracovat, kde, verze,\n",
    "    - rozdíl datových typů, list a integer,\n",
    "    - datové typy v Numpy,\n",
    "    - array v Pythonu, array v numpy, základy,jejich atributy,\n",
    "    - operace s maticemi, array,\n",
    "    - Ufunks,\n",
    "    - agregace.\n",
    "    \n",
    "2. Knihovna `numpy`.\n",
    "    - Co je to za knihovnu, proč ji mám znát?\n",
    "    - Základní datové typy, numpy array, co jsou zač, kde je jich potřeba?\n",
    "    - Performance rozdíly. Agregace, výpočty, srovnávání."
   ]
  },
  {
   "cell_type": "code",
   "execution_count": null,
   "id": "bbd25bb2-a5e4-4f58-a695-7960d97f1c41",
   "metadata": {},
   "outputs": [],
   "source": []
  },
  {
   "cell_type": "code",
   "execution_count": null,
   "id": "62bd06d0-d494-4bba-99f9-8a140b5927b2",
   "metadata": {},
   "outputs": [],
   "source": []
  },
  {
   "cell_type": "markdown",
   "id": "b75ebf7f-2db8-4932-a425-ad2d687cd231",
   "metadata": {},
   "source": [
    "Lekce 1: Úvod do NumPy (3 hodiny)\n",
    "Úvod a motivace (20 minut)\n",
    "Proč používat NumPy?\n",
    "Přehled funkcí a výhod NumPy\n",
    "Instalace a import NumPy\n",
    "Základní datové struktury (50 minut)\n",
    "NumPy pole (ndarray)\n",
    "Vytváření NumPy polí (ručně, z Python seznamu, pomocí funkcí)\n",
    "Atributy ndarray (tvar, velikost, dimenze)\n",
    "Indexování a výběr dat (40 minut)\n",
    "Přístup k prvku pomocí indexu\n",
    "Řezání (slicing) a extrakce částí pole\n",
    "Boolovské indexování a filtrování\n",
    "Operace s NumPy poli (40 minut)\n",
    "Aritmetické operace a broadcasting\n",
    "Lineární algebra (skalární součin, maticový součin)\n",
    "Agregační funkce (min, max, sum, mean)\n",
    "Praktický příklad a cvičení (30 minut)\n",
    "Demonstrační příklad: zpracování reálných dat pomocí NumPy\n",
    "Individuální práce účastníků na cvičeních\n"
   ]
  },
  {
   "cell_type": "markdown",
   "id": "87f800a1-991a-44ad-b0b4-23def4e9e5a8",
   "metadata": {},
   "source": [
    "## Úvod do NUMPY\n",
    "\n",
    "---\n",
    "\n",
    "<img src=\"https://external-content.duckduckgo.com/iu/?u=https%3A%2F%2Ftse1.mm.bing.net%2Fth%3Fid%3DOIP.QQOtOJPya2YEO6IkVBnYjQHaDV%26pid%3DApi&f=1&ipt=245c27df971ff24527ca317988f6feda8b14851ef0a889fda7d5a10d114dc5e6&ipo=images\" width=\"300\" style=\"margin-left:auto; margin-right:auto\"/>"
   ]
  },
  {
   "cell_type": "markdown",
   "id": "a03c4e2b-21d8-4aff-a79b-bb1d02a08650",
   "metadata": {},
   "source": [
    "### Proč umět NUMPY\n",
    "\n",
    "---"
   ]
  },
  {
   "cell_type": "markdown",
   "id": "10a79337-1343-404a-bf8e-e6f6d6ac86d7",
   "metadata": {},
   "source": [
    "Je to univerzální knihovna pro práci **s numerickými daty** v jazyce Python.\n",
    "\n",
    "Funkcionalita této knihovny je využívána (skrze API) v jiných knihovnách jako *Pandas&, *SciPy*, *Matplotlib*, *scikit-learn*, *scikit-image*.\n",
    "\n",
    "Nabízí efektivní nástroje pro práci **s většími datovými strukturami**.\n",
    "\n",
    "Usnadńuje práci se vícerozměrnými poli a maticovými datovými strukturami."
   ]
  },
  {
   "cell_type": "markdown",
   "id": "9180b17d-7eca-4eec-b35c-5152f039c531",
   "metadata": {},
   "source": [
    "### Kde zjistit více informací\n",
    "\n",
    "---\n",
    "\n",
    "Dokumentaci najdeš [zde](https://numpy.org/doc/stable/index.html#).\n",
    "\n",
    "Zdrojový kód najdeš [zde](https://github.com/numpy/numpy)."
   ]
  },
  {
   "cell_type": "markdown",
   "id": "797453fd-9e6b-46ba-bacc-d9b4e8a7504d",
   "metadata": {},
   "source": [
    "### Jak jej nainstaluji\n",
    "\n",
    "---\n",
    "\n",
    "Instalace knihovny obecně (doporučeno v rámci virtuálního prostředí):"
   ]
  },
  {
   "cell_type": "code",
   "execution_count": null,
   "id": "5cc669ad-4f89-4402-9493-736d93afa24e",
   "metadata": {},
   "outputs": [],
   "source": [
    "!pip install numpy"
   ]
  },
  {
   "cell_type": "markdown",
   "id": "21f710be-0934-467d-bf8c-1948bf718229",
   "metadata": {},
   "source": [
    "...nebo:"
   ]
  },
  {
   "cell_type": "code",
   "execution_count": null,
   "id": "0f1359ba-1457-433e-92a3-6d7732178a0c",
   "metadata": {},
   "outputs": [],
   "source": [
    "!conda install numpy"
   ]
  },
  {
   "cell_type": "markdown",
   "id": "3da6af60-4096-4548-a68c-3f4d8aab4841",
   "metadata": {},
   "source": [
    "<br>\n",
    "\n",
    "Nahrávání knihovny:"
   ]
  },
  {
   "cell_type": "code",
   "execution_count": 1,
   "id": "60f81350-021d-4201-81d8-1ec70f325be3",
   "metadata": {
    "tags": []
   },
   "outputs": [],
   "source": [
    "import numpy"
   ]
  },
  {
   "cell_type": "code",
   "execution_count": null,
   "id": "b0a2a324-5024-402d-b011-0de99804fed6",
   "metadata": {},
   "outputs": [],
   "source": [
    "import numpy as np"
   ]
  },
  {
   "cell_type": "code",
   "execution_count": null,
   "id": "d4316ec0-64db-4a00-8939-74e54c12d590",
   "metadata": {},
   "outputs": [],
   "source": [
    "from numpy import array"
   ]
  },
  {
   "cell_type": "markdown",
   "id": "6c06c732-1862-474e-a411-52940c4f0129",
   "metadata": {},
   "source": [
    "<br>\n",
    "\n",
    "Používaná verze knihovny:"
   ]
  },
  {
   "cell_type": "code",
   "execution_count": 2,
   "id": "1259cdc6-196a-4f04-8eb3-7afe185cef68",
   "metadata": {
    "tags": []
   },
   "outputs": [
    {
     "data": {
      "text/plain": [
       "'1.24.2'"
      ]
     },
     "execution_count": 2,
     "metadata": {},
     "output_type": "execute_result"
    }
   ],
   "source": [
    "numpy.__version__"
   ]
  },
  {
   "cell_type": "markdown",
   "id": "228d1d39-8293-4478-b836-17d64ec6ebcc",
   "metadata": {},
   "source": [
    "### Srovnání datových typů s a bez\n",
    "\n",
    "---"
   ]
  },
  {
   "cell_type": "markdown",
   "id": "c027e5a2-173a-40b7-b3a5-e45194b4e804",
   "metadata": {},
   "source": [
    "Efektivní práce s daty si zakládá na tom, jak jsou data uložená.\n",
    "\n",
    "Proto je zásadní tušit jak objekty zpracovává **klasický Python** a `numpy`."
   ]
  },
  {
   "cell_type": "code",
   "execution_count": 3,
   "id": "889de9e2-1e74-46f8-ad91-573b9d4f7c8b",
   "metadata": {
    "tags": []
   },
   "outputs": [],
   "source": [
    "x = 10\n",
    "x = 10.0\n",
    "x = \"deset\""
   ]
  },
  {
   "cell_type": "markdown",
   "id": "6b3d4d5a-7007-40f6-9490-8e544ef2b8e9",
   "metadata": {},
   "source": [
    "*Dynamické typování* v Pythonu vypadá jako dobrý nápad.\n",
    "\n",
    "Přináší jistou flexibilitu a jednodušší používání.\n",
    "\n",
    "Také s sebou ovšem nese jisté povinnosti, které by obyčejná proměnná **neměla normálně zpracovávat**.\n",
    "\n",
    "V ukázce neukládáš pouze hodnoty, ale další doprovodné informace:\n",
    "* **počet referencí**, kvůli alokaci/dealokaci paměti,\n",
    "* **typ kódovací sady**,\n",
    "* **velikost** následujících dat."
   ]
  },
  {
   "cell_type": "markdown",
   "id": "8402bdfd-3b5b-4d72-bb24-f8805f630af4",
   "metadata": {},
   "source": [
    "#### LIST v Pythonu\n",
    "\n",
    "---"
   ]
  },
  {
   "cell_type": "code",
   "execution_count": 4,
   "id": "7fcf303c-44cb-4a09-b67c-4a1a0ba98025",
   "metadata": {
    "tags": []
   },
   "outputs": [],
   "source": [
    "muj_list = [10, 10.0, \"deset\"]"
   ]
  },
  {
   "cell_type": "code",
   "execution_count": 5,
   "id": "e1b28dcc-6b2e-48c7-bca0-567b597e08ee",
   "metadata": {
    "tags": []
   },
   "outputs": [],
   "source": [
    "datove_typy_listu = [type(hodnota) for hodnota in muj_list]"
   ]
  },
  {
   "cell_type": "code",
   "execution_count": 6,
   "id": "349d44cd-5515-4e32-9511-bb10215dace1",
   "metadata": {
    "tags": []
   },
   "outputs": [
    {
     "data": {
      "text/plain": [
       "[int, float, str]"
      ]
     },
     "execution_count": 6,
     "metadata": {},
     "output_type": "execute_result"
    }
   ],
   "source": [
    "datove_typy_listu"
   ]
  },
  {
   "cell_type": "markdown",
   "id": "373b248f-7258-4811-b5a0-7e98d43f8132",
   "metadata": {},
   "source": [
    "<br>\n",
    "\n",
    "Je jasné, že tento \"komfort\" sebou nese i svoji cenu.\n",
    "\n",
    "Protože toho každá hodnota s sebou nese další doplňující informace (datový typ, kódování, ...).\n",
    "\n",
    "I kdyby byly hodnoty stejného datové typu, přesto s sebou přenášejí řadu balastu.\n",
    "\n",
    "Tomu se snaží knihovna `numpy` pomáhat."
   ]
  },
  {
   "cell_type": "code",
   "execution_count": 7,
   "id": "59cf5c2d-4c04-49c0-8a2e-f6cc36eb5fd1",
   "metadata": {
    "tags": []
   },
   "outputs": [],
   "source": [
    "from numpy import array"
   ]
  },
  {
   "cell_type": "code",
   "execution_count": 17,
   "id": "b99aec33-731a-4261-86ad-18908957e51c",
   "metadata": {
    "tags": []
   },
   "outputs": [],
   "source": [
    "ciselne_pole = array(range(5))"
   ]
  },
  {
   "cell_type": "code",
   "execution_count": 23,
   "id": "997d6a37-a681-4f42-ac09-df9ad8623ae4",
   "metadata": {
    "tags": []
   },
   "outputs": [
    {
     "data": {
      "text/plain": [
       "array([0, 1, 2, 3, 4])"
      ]
     },
     "execution_count": 23,
     "metadata": {},
     "output_type": "execute_result"
    }
   ],
   "source": [
    "ciselne_pole"
   ]
  },
  {
   "cell_type": "code",
   "execution_count": 24,
   "id": "cca478fa-5220-4e01-94f4-308babd1df49",
   "metadata": {
    "tags": []
   },
   "outputs": [
    {
     "data": {
      "text/plain": [
       "dtype('int64')"
      ]
     },
     "execution_count": 24,
     "metadata": {},
     "output_type": "execute_result"
    }
   ],
   "source": [
    "ciselne_pole.dtype"
   ]
  },
  {
   "cell_type": "code",
   "execution_count": 25,
   "id": "1334e11e-39f3-4b03-816d-7ebcc218bced",
   "metadata": {
    "tags": []
   },
   "outputs": [
    {
     "data": {
      "text/plain": [
       "numpy.ndarray"
      ]
     },
     "execution_count": 25,
     "metadata": {},
     "output_type": "execute_result"
    }
   ],
   "source": [
    "type(ciselne_pole)"
   ]
  },
  {
   "cell_type": "markdown",
   "id": "024c53a4-1283-4ca0-b9ba-372e7e5dd107",
   "metadata": {
    "tags": []
   },
   "source": [
    "<br>\n",
    "\n",
    "Na rozdíl od datového typu`list` v jazyce Python, pole v `numpy` obsahují stejný datový typ.\n",
    "\n",
    "Pokud tomu tak není, `numpy` provede *upcast* (představ si datovou konverzi):"
   ]
  },
  {
   "cell_type": "code",
   "execution_count": 27,
   "id": "8e57d42a-7036-4093-a684-ed8be4d83dd9",
   "metadata": {
    "tags": []
   },
   "outputs": [],
   "source": [
    "mix_desetinne_cele_hodnoty = array((1, 2, 3, 3.1416))"
   ]
  },
  {
   "cell_type": "code",
   "execution_count": 28,
   "id": "30f4ede6-adaf-4e1f-a475-63b4735c7174",
   "metadata": {
    "tags": []
   },
   "outputs": [
    {
     "data": {
      "text/plain": [
       "array([1.    , 2.    , 3.    , 3.1416])"
      ]
     },
     "execution_count": 28,
     "metadata": {},
     "output_type": "execute_result"
    }
   ],
   "source": [
    "mix_desetinne_cele_hodnoty"
   ]
  },
  {
   "cell_type": "code",
   "execution_count": 29,
   "id": "2048a43f-3165-48ae-b9b9-567aa343353b",
   "metadata": {
    "tags": []
   },
   "outputs": [
    {
     "data": {
      "text/plain": [
       "dtype('float64')"
      ]
     },
     "execution_count": 29,
     "metadata": {},
     "output_type": "execute_result"
    }
   ],
   "source": [
    "mix_desetinne_cele_hodnoty.dtype"
   ]
  },
  {
   "cell_type": "markdown",
   "id": "0787c40a-cc78-4ce4-bb61-5b1e3c0219f8",
   "metadata": {
    "tags": []
   },
   "source": [
    "<br>\n",
    "\n",
    "Pokud potřebuješ dodržet konkrétní datový typ, použij explicitně *parametr* `dtype`:"
   ]
  },
  {
   "cell_type": "code",
   "execution_count": 33,
   "id": "6d3cdd43-186a-499b-abe8-b08d838a31e7",
   "metadata": {
    "tags": []
   },
   "outputs": [],
   "source": [
    "jen_desetinne = array((1, 2, 3, 3.1416), dtype=\"int64\")"
   ]
  },
  {
   "cell_type": "code",
   "execution_count": 34,
   "id": "eed15388-90e0-43c8-8c1f-e3b8a17048da",
   "metadata": {
    "tags": []
   },
   "outputs": [
    {
     "data": {
      "text/plain": [
       "array([1, 2, 3, 3])"
      ]
     },
     "execution_count": 34,
     "metadata": {},
     "output_type": "execute_result"
    }
   ],
   "source": [
    "jen_desetinne"
   ]
  },
  {
   "cell_type": "markdown",
   "id": "4b36c87f-c737-4150-a921-ab0ba64d5cf0",
   "metadata": {},
   "source": [
    "<br>\n",
    "\n",
    "`numpy` nabízí obrovskou škálu rychlých a efektivních způsobů vytváření polí a manipulace s číselnými daty v nich.\n",
    "\n",
    "Pracuje s homogenními sekvenčnímy objekty."
   ]
  },
  {
   "cell_type": "markdown",
   "id": "c92f1fbf-1315-4bda-93b0-5a776b5c5595",
   "metadata": {},
   "source": [
    "#### Proč používat NUMPY\n",
    "\n",
    "---\n",
    "\n",
    "Pole v `numpy` jsou rychlejší a kompaktnější než `list` v Pythonu.\n",
    "\n",
    "Pole spotřebovává **méně paměti a pohodlně se používá** (určení datových typů,..)."
   ]
  },
  {
   "cell_type": "markdown",
   "id": "3b0e3525-e7cd-4d0d-aa13-4d5ed79450b9",
   "metadata": {},
   "source": [
    "<br>\n",
    "\n",
    "## Základy NUMPY\n",
    "\n",
    "---"
   ]
  },
  {
   "cell_type": "markdown",
   "id": "c43c485f-b747-4855-86cc-c3ab9c3b5c69",
   "metadata": {},
   "source": [
    "Protože je `numpy` postaven na jazyku C, přebírá také podobné datové typy."
   ]
  },
  {
   "cell_type": "markdown",
   "id": "4ed5400e-9f41-4833-9b7e-943193792d30",
   "metadata": {},
   "source": [
    "Některé datové typy:\n",
    "    \n",
    "| Datový typ v `numpy` | Popis |\n",
    "| :- | :- |\n",
    "| `bool_` | boolean `True`, `False` |\n",
    "| `int16` | celá čísla (bajty od -32768 do 32767) |\n",
    "| `int32` | celá čísla (bajty od -2147483648 do 2147483647)) |\n",
    "| `int64` | celá čísla (bajty od -9223372036854775808 to 9223372036854775807) |\n",
    "| `float64` | desetinné čísla |\n",
    "| `complex64` | komplexní čísla, reprezentovaná dvěma 64-bitovými dese. čísly |"
   ]
  },
  {
   "cell_type": "markdown",
   "id": "25ceb501-37c4-4d98-b806-f37c1cfa79db",
   "metadata": {},
   "source": [
    "<br>\n",
    "\n",
    "Dále `numpy` poskytuje `array` objekty.\n",
    "\n",
    "Ty slouží jako prostředky pro elegantní manipulaci s daty (znáš z `pandas`).\n",
    "\n",
    "Základní operace pro `array`:\n",
    "* **atributy**,\n",
    "* **indexování**,\n",
    "* **řezání**,\n",
    "* **RESHAPE**,\n",
    "* **JOIN** a **MERGE**."
   ]
  },
  {
   "cell_type": "markdown",
   "id": "e1fc6f7c-a6c1-46ae-971b-17a3be80db8c",
   "metadata": {},
   "source": [
    "### Vytvoření ARRAY\n",
    "\n",
    "---"
   ]
  },
  {
   "cell_type": "code",
   "execution_count": 35,
   "id": "ac47c679-35fc-4f99-9175-e51270d40ad0",
   "metadata": {
    "tags": []
   },
   "outputs": [],
   "source": [
    "import numpy as np"
   ]
  },
  {
   "cell_type": "markdown",
   "id": "a74d0883-f39a-40c9-ac97-93dc70b68be3",
   "metadata": {},
   "source": [
    "<br>\n",
    "\n",
    "##### Pomocí built-in sekvencí"
   ]
  },
  {
   "cell_type": "code",
   "execution_count": 54,
   "id": "4966f05e-27aa-498c-876c-33cf8effb066",
   "metadata": {
    "tags": []
   },
   "outputs": [],
   "source": [
    "muj_range = range(3)\n",
    "muj_list = [3, 4, 5]\n",
    "muj_tuple = (6, 7, 8)"
   ]
  },
  {
   "cell_type": "code",
   "execution_count": 55,
   "id": "b7d9ebc6-7fd0-46a5-8183-29e1180a7a84",
   "metadata": {
    "tags": []
   },
   "outputs": [],
   "source": [
    "muj_list_arr = np.array(muj_list)\n",
    "muj_tuple_arr = np.array(muj_tuple)\n",
    "muj_range_arr = np.array(muj_range)"
   ]
  },
  {
   "cell_type": "code",
   "execution_count": 56,
   "id": "7eb4f4bf-deec-4c96-b53a-760bb7344382",
   "metadata": {
    "tags": []
   },
   "outputs": [
    {
     "data": {
      "text/plain": [
       "array([0, 1, 2])"
      ]
     },
     "execution_count": 56,
     "metadata": {},
     "output_type": "execute_result"
    }
   ],
   "source": [
    "muj_range_arr"
   ]
  },
  {
   "cell_type": "code",
   "execution_count": 57,
   "id": "835530d7-51b3-4eef-b299-f9b61b348e5c",
   "metadata": {
    "tags": []
   },
   "outputs": [
    {
     "data": {
      "text/plain": [
       "array([3, 4, 5])"
      ]
     },
     "execution_count": 57,
     "metadata": {},
     "output_type": "execute_result"
    }
   ],
   "source": [
    "muj_list_arr"
   ]
  },
  {
   "cell_type": "code",
   "execution_count": 58,
   "id": "ed01744c-3be9-43c3-b949-c37a4aa98cb4",
   "metadata": {
    "tags": []
   },
   "outputs": [
    {
     "data": {
      "text/plain": [
       "array([6, 7, 8])"
      ]
     },
     "execution_count": 58,
     "metadata": {},
     "output_type": "execute_result"
    }
   ],
   "source": [
    "muj_tuple_arr"
   ]
  },
  {
   "cell_type": "markdown",
   "id": "98b5530f-8948-4ab5-ad8d-3b8fd4606186",
   "metadata": {},
   "source": [
    "<br>\n",
    "\n",
    "##### Pomocí nul"
   ]
  },
  {
   "cell_type": "code",
   "execution_count": 63,
   "id": "ece16619-6b78-4b0c-96b9-b58f71f9be52",
   "metadata": {
    "tags": []
   },
   "outputs": [],
   "source": [
    "jen_nuly = np.zeros(5)"
   ]
  },
  {
   "cell_type": "code",
   "execution_count": 64,
   "id": "c89b1ca1-9bb7-4517-8554-5f6c72c6fe62",
   "metadata": {
    "tags": []
   },
   "outputs": [
    {
     "data": {
      "text/plain": [
       "array([0., 0., 0., 0., 0.])"
      ]
     },
     "execution_count": 64,
     "metadata": {},
     "output_type": "execute_result"
    }
   ],
   "source": [
    "jen_nuly"
   ]
  },
  {
   "cell_type": "markdown",
   "id": "6bbb5c10-f4fd-4ee0-b6f9-cf13acf4068c",
   "metadata": {},
   "source": [
    "<br>\n",
    "\n",
    "##### Pomocí jedniček"
   ]
  },
  {
   "cell_type": "code",
   "execution_count": 68,
   "id": "56879585-d91d-40bf-9c52-fbe471991acb",
   "metadata": {
    "tags": []
   },
   "outputs": [],
   "source": [
    "jen_jednicky = np.ones(shape=(2, 3))"
   ]
  },
  {
   "cell_type": "code",
   "execution_count": 70,
   "id": "5b0b2a9b-37bf-4e8a-90f3-18f15bc6e95c",
   "metadata": {
    "tags": []
   },
   "outputs": [],
   "source": [
    "# np.ones?"
   ]
  },
  {
   "cell_type": "code",
   "execution_count": 69,
   "id": "ffd9b284-0cc1-43e7-bc0c-7c7bc0c39700",
   "metadata": {
    "tags": []
   },
   "outputs": [
    {
     "data": {
      "text/plain": [
       "array([[1., 1., 1.],\n",
       "       [1., 1., 1.]])"
      ]
     },
     "execution_count": 69,
     "metadata": {},
     "output_type": "execute_result"
    }
   ],
   "source": [
    "jen_jednicky"
   ]
  },
  {
   "cell_type": "markdown",
   "id": "8d0b9884-1465-4a80-9c8f-50d2308ff57f",
   "metadata": {},
   "source": [
    "<br>\n",
    "\n",
    "##### Pomocí defaultní výplňové hodnoty"
   ]
  },
  {
   "cell_type": "code",
   "execution_count": 73,
   "id": "644e1a29-9a68-4f82-a976-1f9016089791",
   "metadata": {
    "tags": []
   },
   "outputs": [],
   "source": [
    "from math import pi"
   ]
  },
  {
   "cell_type": "code",
   "execution_count": 73,
   "id": "dd91576c-a24c-4927-9ec1-f745436bdf1a",
   "metadata": {
    "tags": []
   },
   "outputs": [],
   "source": [
    "jen_pi = np.full(shape=(2, 2), fill_value=pi)"
   ]
  },
  {
   "cell_type": "code",
   "execution_count": 74,
   "id": "76338ae5-7a7a-43ce-b3a2-c608d104bf61",
   "metadata": {
    "tags": []
   },
   "outputs": [
    {
     "data": {
      "text/plain": [
       "array([[3.14159265, 3.14159265],\n",
       "       [3.14159265, 3.14159265]])"
      ]
     },
     "execution_count": 74,
     "metadata": {},
     "output_type": "execute_result"
    }
   ],
   "source": [
    "jen_pi"
   ]
  },
  {
   "cell_type": "markdown",
   "id": "2bc1efb8-43bf-425c-a478-73e2e3926378",
   "metadata": {},
   "source": [
    "<br>\n",
    "\n",
    "##### Pomocí rozsahů"
   ]
  },
  {
   "cell_type": "code",
   "execution_count": 76,
   "id": "12799a04-1bb1-48e3-b5a4-0a7d85c1e714",
   "metadata": {
    "tags": []
   },
   "outputs": [],
   "source": [
    "interval_arr = np.arange(start=0, stop=10, step=2)"
   ]
  },
  {
   "cell_type": "code",
   "execution_count": 77,
   "id": "15554662-36af-4efe-972f-27c546ce37e2",
   "metadata": {
    "tags": []
   },
   "outputs": [
    {
     "data": {
      "text/plain": [
       "array([0, 2, 4, 6, 8])"
      ]
     },
     "execution_count": 77,
     "metadata": {},
     "output_type": "execute_result"
    }
   ],
   "source": [
    "interval_arr"
   ]
  },
  {
   "cell_type": "markdown",
   "id": "cacccbcc-151f-4b11-8243-70ba48ffdce3",
   "metadata": {},
   "source": [
    "<br>\n",
    "\n",
    "##### Pomocí náhodných celých čísel"
   ]
  },
  {
   "cell_type": "code",
   "execution_count": 83,
   "id": "1cde9e06-0b90-4734-94f1-1e37e4ecaaf6",
   "metadata": {
    "tags": []
   },
   "outputs": [],
   "source": [
    "random_hodnoty = np.random.randint(low=0, high=6, size=(3, 3))"
   ]
  },
  {
   "cell_type": "code",
   "execution_count": 84,
   "id": "e2689bf5-fa54-4a4e-b4be-713b4a2f83bf",
   "metadata": {
    "tags": []
   },
   "outputs": [
    {
     "data": {
      "text/plain": [
       "array([[4, 0, 5],\n",
       "       [1, 1, 3],\n",
       "       [0, 1, 4]])"
      ]
     },
     "execution_count": 84,
     "metadata": {},
     "output_type": "execute_result"
    }
   ],
   "source": [
    "random_hodnoty"
   ]
  },
  {
   "cell_type": "markdown",
   "id": "fbe8f7f4-e536-4b5e-948d-6d3ba6853291",
   "metadata": {},
   "source": [
    "<br>\n",
    "\n",
    "##### Jednodimenzionální"
   ]
  },
  {
   "cell_type": "code",
   "execution_count": 38,
   "id": "028d3727-49b5-4158-923f-fa11cf656949",
   "metadata": {
    "tags": []
   },
   "outputs": [],
   "source": [
    "m1 = np.random.randint(10, size=6)"
   ]
  },
  {
   "cell_type": "code",
   "execution_count": 39,
   "id": "65c6a5a0-ebda-4c14-a7a7-e0b6a36893a6",
   "metadata": {
    "tags": []
   },
   "outputs": [
    {
     "data": {
      "text/plain": [
       "array([9, 2, 3, 2, 5, 8])"
      ]
     },
     "execution_count": 39,
     "metadata": {},
     "output_type": "execute_result"
    }
   ],
   "source": [
    "m1"
   ]
  },
  {
   "cell_type": "markdown",
   "id": "4abea888-71a7-4967-9086-6c343fa53f2d",
   "metadata": {},
   "source": [
    "<br>\n",
    "\n",
    "Tedy prakticky jednoduché pole, které se na první pohled neliší tolik od `list`."
   ]
  },
  {
   "cell_type": "markdown",
   "id": "b41162fd-213a-437f-afba-8e9f376f3372",
   "metadata": {
    "tags": []
   },
   "source": [
    "##### Dvoudimenzionální"
   ]
  },
  {
   "cell_type": "code",
   "execution_count": 42,
   "id": "ae337020-3866-4356-89bb-e063283a3f19",
   "metadata": {
    "tags": []
   },
   "outputs": [],
   "source": [
    "m2 = np.random.randint(10, size=(2, 3))"
   ]
  },
  {
   "cell_type": "code",
   "execution_count": 43,
   "id": "fe181acd-5503-405f-9ce3-49f0c1e78aec",
   "metadata": {
    "tags": []
   },
   "outputs": [
    {
     "data": {
      "text/plain": [
       "array([[3, 2, 9],\n",
       "       [5, 4, 3]])"
      ]
     },
     "execution_count": 43,
     "metadata": {},
     "output_type": "execute_result"
    }
   ],
   "source": [
    "m2"
   ]
  },
  {
   "cell_type": "markdown",
   "id": "ba3bce62-303c-44ac-b083-544dcb6f8a57",
   "metadata": {},
   "source": [
    "<br>\n",
    "\n",
    "Definicí oznamuješ:\n",
    "1. `10`, vyber náhodné celé čísla z intervalu `0-9`,\n",
    "2. vytvoř **2 řádky**,\n",
    "3. .. o **3 sloupcích**."
   ]
  },
  {
   "cell_type": "markdown",
   "id": "50617b42-f6d7-4f46-93b6-f29669a14476",
   "metadata": {
    "tags": []
   },
   "source": [
    "##### Třídimenzionální"
   ]
  },
  {
   "cell_type": "code",
   "execution_count": 44,
   "id": "fee8115a-c379-48dd-86e5-591441801904",
   "metadata": {
    "tags": []
   },
   "outputs": [],
   "source": [
    "m3 = np.random.randint(10, size=(2, 3, 4))"
   ]
  },
  {
   "cell_type": "code",
   "execution_count": 45,
   "id": "64ec9beb-c137-4bf1-9267-5f46fbfadcd6",
   "metadata": {
    "tags": []
   },
   "outputs": [
    {
     "data": {
      "text/plain": [
       "array([[[0, 8, 9, 2],\n",
       "        [7, 8, 6, 6],\n",
       "        [1, 9, 0, 6]],\n",
       "\n",
       "       [[2, 2, 8, 9],\n",
       "        [6, 1, 3, 5],\n",
       "        [0, 8, 6, 3]]])"
      ]
     },
     "execution_count": 45,
     "metadata": {},
     "output_type": "execute_result"
    }
   ],
   "source": [
    "m3"
   ]
  },
  {
   "cell_type": "markdown",
   "id": "9aa46537-c457-43c5-990d-f7367adc737a",
   "metadata": {},
   "source": [
    "<br>\n",
    "\n",
    "Definicí oznamuješ:\n",
    "1. `10`, vyber náhodné celé čísla z intervalu `0-9`,\n",
    "2. vytvoř **2 matice**,\n",
    "3. .. o **3 řádcích**,\n",
    "4. .. a **4 sloupcích**."
   ]
  },
  {
   "cell_type": "markdown",
   "id": "98baf75b-7133-49b3-a6de-a6b49f54674d",
   "metadata": {},
   "source": [
    "<br>\n",
    "\n",
    "### Atributy pro ARRAY\n",
    "\n",
    "---\n",
    "\n"
   ]
  },
  {
   "cell_type": "markdown",
   "id": "fbe914ea-0473-48b9-81cc-09c57ad0286d",
   "metadata": {},
   "source": [
    "Pokud budeš potřebovat prozkoumat existující `array`, můžeš vyzkoušet tyto atributy a metody:\n",
    "1. **Dimenze**,\n",
    "2. **tvar**,\n",
    "3. **velikost**,\n",
    "4. **datové typy**,\n",
    "5. **bajtová velikost**."
   ]
  },
  {
   "cell_type": "markdown",
   "id": "88acdfef-0ce5-4a06-86ab-0dfe96245970",
   "metadata": {},
   "source": [
    "##### Dimenze matice"
   ]
  },
  {
   "cell_type": "code",
   "execution_count": 92,
   "id": "eace91e6-bd40-4ebf-a7d7-d872bcdf9b13",
   "metadata": {
    "tags": []
   },
   "outputs": [
    {
     "data": {
      "text/plain": [
       "3"
      ]
     },
     "execution_count": 92,
     "metadata": {},
     "output_type": "execute_result"
    }
   ],
   "source": [
    "m3.ndim"
   ]
  },
  {
   "cell_type": "markdown",
   "id": "ef2658d0-f36e-488c-89aa-6fea5ee53d21",
   "metadata": {},
   "source": [
    "<br>\n",
    "\n",
    "##### Tvar matice"
   ]
  },
  {
   "cell_type": "code",
   "execution_count": 86,
   "id": "4ff953d9-8275-4a7e-b9d4-525da790c058",
   "metadata": {
    "tags": []
   },
   "outputs": [
    {
     "data": {
      "text/plain": [
       "(2, 3, 4)"
      ]
     },
     "execution_count": 86,
     "metadata": {},
     "output_type": "execute_result"
    }
   ],
   "source": [
    "m3.shape"
   ]
  },
  {
   "cell_type": "markdown",
   "id": "7baa93da-6f15-4f89-89b7-aec3b329e604",
   "metadata": {},
   "source": [
    "<br>\n",
    "\n",
    "##### Velikost matice"
   ]
  },
  {
   "cell_type": "code",
   "execution_count": 87,
   "id": "819b137e-696a-4f33-a30b-7a58fb8df450",
   "metadata": {
    "tags": []
   },
   "outputs": [
    {
     "data": {
      "text/plain": [
       "24"
      ]
     },
     "execution_count": 87,
     "metadata": {},
     "output_type": "execute_result"
    }
   ],
   "source": [
    "m3.size"
   ]
  },
  {
   "cell_type": "markdown",
   "id": "36e828a7-775d-495a-b399-b2ec7a915795",
   "metadata": {},
   "source": [
    "<br>\n",
    "\n",
    "##### Datový typ"
   ]
  },
  {
   "cell_type": "code",
   "execution_count": 93,
   "id": "61453d44-7475-4615-a9ca-23e3f7d218fe",
   "metadata": {
    "tags": []
   },
   "outputs": [
    {
     "data": {
      "text/plain": [
       "dtype('int64')"
      ]
     },
     "execution_count": 93,
     "metadata": {},
     "output_type": "execute_result"
    }
   ],
   "source": [
    "m3.dtype"
   ]
  },
  {
   "cell_type": "markdown",
   "id": "bd255979-9bbb-41c1-a0b9-715ef2d00d14",
   "metadata": {},
   "source": [
    "<br>\n",
    "\n",
    "##### Velikost v bajtech"
   ]
  },
  {
   "cell_type": "code",
   "execution_count": 99,
   "id": "f8861b88-64b9-461d-b052-eb1767a7d944",
   "metadata": {
    "tags": []
   },
   "outputs": [
    {
     "data": {
      "text/plain": [
       "192"
      ]
     },
     "execution_count": 99,
     "metadata": {},
     "output_type": "execute_result"
    }
   ],
   "source": [
    "m3.nbytes"
   ]
  },
  {
   "cell_type": "markdown",
   "id": "df070749-9502-487c-a895-873b8fbbcdb4",
   "metadata": {},
   "source": [
    "<br>\n",
    "\n",
    "Jde o součin atributů **size** * **itemsize**."
   ]
  },
  {
   "cell_type": "markdown",
   "id": "1cf3cd73-0852-41fd-af4e-7ad2b63ab2f2",
   "metadata": {},
   "source": [
    "<br>\n",
    "\n",
    "### Indexování ARRAY\n",
    "\n",
    "---\n",
    "\n"
   ]
  },
  {
   "cell_type": "markdown",
   "id": "aa376451-ccf4-4bef-85ff-aa4b85ac6588",
   "metadata": {},
   "source": [
    "Postup vypadá podobně jako pro sekvenční datové typy v Pythonu.\n",
    "\n",
    "Pomocí hranaté závorky a celého čísla, můžeš zpřístupnit konkrétní hodnotu/ hodnoty."
   ]
  },
  {
   "cell_type": "markdown",
   "id": "6b4c7594-1c9f-4dde-bcfa-9f1d2e5b0854",
   "metadata": {},
   "source": [
    "<br>\n",
    "\n",
    "##### Jednodimenzionální"
   ]
  },
  {
   "cell_type": "code",
   "execution_count": 101,
   "id": "c13585e4-4204-4fef-a41d-f42ddb6e9be8",
   "metadata": {
    "tags": []
   },
   "outputs": [
    {
     "data": {
      "text/plain": [
       "array([9, 2, 3, 2, 5, 8])"
      ]
     },
     "execution_count": 101,
     "metadata": {},
     "output_type": "execute_result"
    }
   ],
   "source": [
    "m1"
   ]
  },
  {
   "cell_type": "code",
   "execution_count": 102,
   "id": "31516677-d6db-4075-99e2-c20fe102eb18",
   "metadata": {
    "tags": []
   },
   "outputs": [
    {
     "data": {
      "text/plain": [
       "9"
      ]
     },
     "execution_count": 102,
     "metadata": {},
     "output_type": "execute_result"
    }
   ],
   "source": [
    "m1[0]"
   ]
  },
  {
   "cell_type": "code",
   "execution_count": 103,
   "id": "dc89440c-a552-49df-b8ec-07629b2a5d4e",
   "metadata": {
    "tags": []
   },
   "outputs": [
    {
     "data": {
      "text/plain": [
       "2"
      ]
     },
     "execution_count": 103,
     "metadata": {},
     "output_type": "execute_result"
    }
   ],
   "source": [
    "m1[1]"
   ]
  },
  {
   "cell_type": "code",
   "execution_count": 104,
   "id": "53fb2abe-1dd3-4ad6-a0ae-a37dcfa681c1",
   "metadata": {
    "tags": []
   },
   "outputs": [
    {
     "data": {
      "text/plain": [
       "8"
      ]
     },
     "execution_count": 104,
     "metadata": {},
     "output_type": "execute_result"
    }
   ],
   "source": [
    "m1[-1]"
   ]
  },
  {
   "cell_type": "markdown",
   "id": "cfb303f3-3df2-48c3-9088-05d371f28964",
   "metadata": {},
   "source": [
    "<br>\n",
    "\n",
    "##### Dvoudimenzionální"
   ]
  },
  {
   "cell_type": "code",
   "execution_count": 106,
   "id": "2a0bbdfd-7738-4165-9d84-1e96e59d71c5",
   "metadata": {
    "tags": []
   },
   "outputs": [
    {
     "data": {
      "text/plain": [
       "array([[3, 2, 9],\n",
       "       [5, 4, 3]])"
      ]
     },
     "execution_count": 106,
     "metadata": {},
     "output_type": "execute_result"
    }
   ],
   "source": [
    "m2"
   ]
  },
  {
   "cell_type": "code",
   "execution_count": 105,
   "id": "255eb512-bcd6-4885-b261-3807afaf3c9d",
   "metadata": {
    "tags": []
   },
   "outputs": [
    {
     "data": {
      "text/plain": [
       "array([3, 2, 9])"
      ]
     },
     "execution_count": 105,
     "metadata": {},
     "output_type": "execute_result"
    }
   ],
   "source": [
    "m2[0]"
   ]
  },
  {
   "cell_type": "code",
   "execution_count": 108,
   "id": "f6c8e12c-40c8-4ad5-8d82-453aa5522273",
   "metadata": {
    "tags": []
   },
   "outputs": [
    {
     "data": {
      "text/plain": [
       "3"
      ]
     },
     "execution_count": 108,
     "metadata": {},
     "output_type": "execute_result"
    }
   ],
   "source": [
    "m2[0][0]"
   ]
  },
  {
   "cell_type": "code",
   "execution_count": 109,
   "id": "50a14692-f7d2-437f-8a68-32a7efc6d8c8",
   "metadata": {
    "tags": []
   },
   "outputs": [
    {
     "data": {
      "text/plain": [
       "3"
      ]
     },
     "execution_count": 109,
     "metadata": {},
     "output_type": "execute_result"
    }
   ],
   "source": [
    "m2[0, 0]"
   ]
  },
  {
   "cell_type": "markdown",
   "id": "8b93d058-5266-4329-9fc7-e749dce45c56",
   "metadata": {},
   "source": [
    "<br>\n",
    "\n",
    "Pomocí indexů zpřístupníš hodnotu na konkrétní pozici a můžeš ji modifikovat:"
   ]
  },
  {
   "cell_type": "code",
   "execution_count": 110,
   "id": "441633bf-9a75-4f72-8db2-dfd02eb2fc33",
   "metadata": {
    "tags": []
   },
   "outputs": [],
   "source": [
    "m2[0, 0] = 11"
   ]
  },
  {
   "cell_type": "code",
   "execution_count": 111,
   "id": "38633021-274a-45c9-bc65-156ed1db62d4",
   "metadata": {
    "tags": []
   },
   "outputs": [
    {
     "data": {
      "text/plain": [
       "array([[11,  2,  9],\n",
       "       [ 5,  4,  3]])"
      ]
     },
     "execution_count": 111,
     "metadata": {},
     "output_type": "execute_result"
    }
   ],
   "source": [
    "m2"
   ]
  },
  {
   "cell_type": "markdown",
   "id": "dfdc5455-d57f-44a6-ab1c-0ba176161849",
   "metadata": {},
   "source": [
    "<br>\n",
    "\n",
    "Dávej pozor na datové typy. Pokud budeš chtít přidat jiný datový typ:"
   ]
  },
  {
   "cell_type": "code",
   "execution_count": 112,
   "id": "3f21ab0a-35c1-452b-8e30-9ec59f93b318",
   "metadata": {
    "tags": []
   },
   "outputs": [],
   "source": [
    "m2[0, 0] = 11.11"
   ]
  },
  {
   "cell_type": "code",
   "execution_count": 113,
   "id": "37196afb-99ce-452b-8874-85ffc467518f",
   "metadata": {
    "tags": []
   },
   "outputs": [
    {
     "data": {
      "text/plain": [
       "array([[11,  2,  9],\n",
       "       [ 5,  4,  3]])"
      ]
     },
     "execution_count": 113,
     "metadata": {},
     "output_type": "execute_result"
    }
   ],
   "source": [
    "m2"
   ]
  },
  {
   "cell_type": "markdown",
   "id": "a96124d0-f9f0-441a-a7a8-77c4bb3e5164",
   "metadata": {},
   "source": [
    "Výsledek bude na pozadí *truncatovaný*."
   ]
  },
  {
   "cell_type": "code",
   "execution_count": 115,
   "id": "b6a80f30-c80e-46ef-a59d-f670109e9181",
   "metadata": {
    "tags": []
   },
   "outputs": [
    {
     "ename": "ValueError",
     "evalue": "invalid literal for int() with base 10: 'jedenct'",
     "output_type": "error",
     "traceback": [
      "\u001b[0;31m---------------------------------------------------------------------------\u001b[0m",
      "\u001b[0;31mValueError\u001b[0m                                Traceback (most recent call last)",
      "Cell \u001b[0;32mIn[115], line 1\u001b[0m\n\u001b[0;32m----> 1\u001b[0m \u001b[43mm2\u001b[49m\u001b[43m[\u001b[49m\u001b[38;5;241;43m0\u001b[39;49m\u001b[43m,\u001b[49m\u001b[43m \u001b[49m\u001b[38;5;241;43m0\u001b[39;49m\u001b[43m]\u001b[49m \u001b[38;5;241m=\u001b[39m \u001b[38;5;124m\"\u001b[39m\u001b[38;5;124mjedenct\u001b[39m\u001b[38;5;124m\"\u001b[39m\n",
      "\u001b[0;31mValueError\u001b[0m: invalid literal for int() with base 10: 'jedenct'"
     ]
    }
   ],
   "source": [
    "m2[0, 0] = \"jedenct\""
   ]
  },
  {
   "cell_type": "code",
   "execution_count": null,
   "id": "d889fa04-8f98-4dd4-a206-9b1ed15d82cf",
   "metadata": {},
   "outputs": [],
   "source": []
  },
  {
   "cell_type": "code",
   "execution_count": 10,
   "id": "b77cfdb2-16a8-41e8-8401-4fe24b6a1509",
   "metadata": {
    "tags": []
   },
   "outputs": [],
   "source": [
    "import numpy as np\n",
    "from pandas import DataFrame"
   ]
  },
  {
   "cell_type": "code",
   "execution_count": 11,
   "id": "36ff3246-3f86-42b0-a922-524a1c6e54ae",
   "metadata": {
    "tags": []
   },
   "outputs": [],
   "source": [
    "zeme_df = DataFrame(\n",
    "    data=[[11, 79], [66, 243], [196, 924]],\n",
    "    index=[\"CZE\", \"UK\", \"Nigeria\"],\n",
    "    columns=[\"population\", \"surface_area\"]\n",
    ")"
   ]
  },
  {
   "cell_type": "code",
   "execution_count": 12,
   "id": "63f6615c-065f-423a-baa8-f842623123d4",
   "metadata": {
    "tags": []
   },
   "outputs": [
    {
     "data": {
      "text/html": [
       "<div>\n",
       "<style scoped>\n",
       "    .dataframe tbody tr th:only-of-type {\n",
       "        vertical-align: middle;\n",
       "    }\n",
       "\n",
       "    .dataframe tbody tr th {\n",
       "        vertical-align: top;\n",
       "    }\n",
       "\n",
       "    .dataframe thead th {\n",
       "        text-align: right;\n",
       "    }\n",
       "</style>\n",
       "<table border=\"1\" class=\"dataframe\">\n",
       "  <thead>\n",
       "    <tr style=\"text-align: right;\">\n",
       "      <th></th>\n",
       "      <th>population</th>\n",
       "      <th>surface_area</th>\n",
       "    </tr>\n",
       "  </thead>\n",
       "  <tbody>\n",
       "    <tr>\n",
       "      <th>CZE</th>\n",
       "      <td>11</td>\n",
       "      <td>79</td>\n",
       "    </tr>\n",
       "    <tr>\n",
       "      <th>UK</th>\n",
       "      <td>66</td>\n",
       "      <td>243</td>\n",
       "    </tr>\n",
       "    <tr>\n",
       "      <th>Nigeria</th>\n",
       "      <td>196</td>\n",
       "      <td>924</td>\n",
       "    </tr>\n",
       "  </tbody>\n",
       "</table>\n",
       "</div>"
      ],
      "text/plain": [
       "         population  surface_area\n",
       "CZE              11            79\n",
       "UK               66           243\n",
       "Nigeria         196           924"
      ]
     },
     "execution_count": 12,
     "metadata": {},
     "output_type": "execute_result"
    }
   ],
   "source": [
    "zeme_df"
   ]
  },
  {
   "cell_type": "code",
   "execution_count": 13,
   "id": "a75f1fe5-d933-4a80-a5a9-9eb4e0788bae",
   "metadata": {
    "tags": []
   },
   "outputs": [],
   "source": [
    "zeme_arr = np.array(zeme_df)"
   ]
  },
  {
   "cell_type": "code",
   "execution_count": 14,
   "id": "527846f4-7738-4831-a192-db6a6e0ddef9",
   "metadata": {
    "tags": []
   },
   "outputs": [
    {
     "data": {
      "text/plain": [
       "array([[ 11,  79],\n",
       "       [ 66, 243],\n",
       "       [196, 924]])"
      ]
     },
     "execution_count": 14,
     "metadata": {},
     "output_type": "execute_result"
    }
   ],
   "source": [
    "zeme_arr"
   ]
  },
  {
   "cell_type": "markdown",
   "id": "416e803a-329b-4da1-84ff-224b550515b4",
   "metadata": {},
   "source": [
    "<br>\n",
    "\n",
    "### Slicing ARRAY\n",
    "\n",
    "---\n",
    "\n"
   ]
  },
  {
   "cell_type": "markdown",
   "id": "0879559b-e45e-4226-ab3c-4c395e7f2619",
   "metadata": {},
   "source": [
    "Podobně jako u zpřístupňování jednotlivých hodnot, můžeš tvořit *subarrays*.\n",
    "\n",
    "Postup je opět velmi podobný pro *slicing* u sekvenčních hodnot."
   ]
  },
  {
   "cell_type": "markdown",
   "id": "1770ef55-a20a-484a-94b0-fd9045040bd1",
   "metadata": {},
   "source": [
    "Je doporučené udávat všechny argumenty, protože implicitní dosazování defaultních hodnot může mást uživatele."
   ]
  },
  {
   "cell_type": "code",
   "execution_count": 127,
   "id": "0329c7bd-2e8d-49ee-9665-8c7c30ee1bd6",
   "metadata": {
    "tags": []
   },
   "outputs": [
    {
     "data": {
      "text/plain": [
       "array([[ 11,  79],\n",
       "       [ 66, 243],\n",
       "       [196, 924]])"
      ]
     },
     "execution_count": 127,
     "metadata": {},
     "output_type": "execute_result"
    }
   ],
   "source": [
    "zeme_arr"
   ]
  },
  {
   "cell_type": "code",
   "execution_count": 130,
   "id": "a938e821-4a87-4031-a37b-10b0ae786a2d",
   "metadata": {
    "tags": []
   },
   "outputs": [
    {
     "data": {
      "text/plain": [
       "array([[ 11,  79],\n",
       "       [ 66, 243]])"
      ]
     },
     "execution_count": 130,
     "metadata": {},
     "output_type": "execute_result"
    }
   ],
   "source": [
    "zeme_arr[0:2]"
   ]
  },
  {
   "cell_type": "code",
   "execution_count": 135,
   "id": "dcf5436d-7789-402d-95e5-09457597434f",
   "metadata": {
    "tags": []
   },
   "outputs": [
    {
     "data": {
      "text/plain": [
       "array([[ 66, 243],\n",
       "       [196, 924]])"
      ]
     },
     "execution_count": 135,
     "metadata": {},
     "output_type": "execute_result"
    }
   ],
   "source": [
    "zeme_arr[-2:]"
   ]
  },
  {
   "cell_type": "markdown",
   "id": "d35b1d77-d54b-47f0-bcac-a26c684a563e",
   "metadata": {},
   "source": [
    "<br>\n",
    "\n",
    "Pro více dimenzí, dva řádky a jeden sloupec:"
   ]
  },
  {
   "cell_type": "code",
   "execution_count": 15,
   "id": "1df07173-3038-4628-a7e1-0c90196a73d1",
   "metadata": {
    "tags": []
   },
   "outputs": [],
   "source": [
    "dva_radky_jeden_sloupec = zeme_arr[:2, :1]"
   ]
  },
  {
   "cell_type": "code",
   "execution_count": 16,
   "id": "fb1f20c4-9c41-45e9-9d64-a20ad0ea5a4b",
   "metadata": {
    "tags": []
   },
   "outputs": [
    {
     "data": {
      "text/plain": [
       "array([[11],\n",
       "       [66]])"
      ]
     },
     "execution_count": 16,
     "metadata": {},
     "output_type": "execute_result"
    }
   ],
   "source": [
    "dva_radky_jeden_sloupec"
   ]
  },
  {
   "cell_type": "code",
   "execution_count": 138,
   "id": "0ccc32e6-84fe-49f4-a4ba-f5ef523eddea",
   "metadata": {
    "tags": []
   },
   "outputs": [],
   "source": [
    "dva_radky_jeden_sloupec = zeme_arr[::2, :1]"
   ]
  },
  {
   "cell_type": "code",
   "execution_count": 139,
   "id": "cbed3652-802a-4629-83e2-7ed444633189",
   "metadata": {
    "tags": []
   },
   "outputs": [
    {
     "data": {
      "text/plain": [
       "array([[ 11],\n",
       "       [196]])"
      ]
     },
     "execution_count": 139,
     "metadata": {},
     "output_type": "execute_result"
    }
   ],
   "source": [
    "dva_radky_jeden_sloupec"
   ]
  },
  {
   "cell_type": "markdown",
   "id": "0fae416a-5d58-4bab-b002-40e20fa4a222",
   "metadata": {},
   "source": [
    "<br>\n",
    "\n",
    "Pokud pracuješ se *subarrays*, používáš pohledy originální hodnoty.\n",
    "\n",
    "V Pythonu to byla většinou kopie, původního objektu:"
   ]
  },
  {
   "cell_type": "code",
   "execution_count": 17,
   "id": "cd2aaa5a-35f1-4346-a2ee-5875da2d8881",
   "metadata": {
    "tags": []
   },
   "outputs": [
    {
     "data": {
      "text/plain": [
       "array([[11],\n",
       "       [66]])"
      ]
     },
     "execution_count": 17,
     "metadata": {},
     "output_type": "execute_result"
    }
   ],
   "source": [
    "dva_radky_jeden_sloupec"
   ]
  },
  {
   "cell_type": "code",
   "execution_count": 20,
   "id": "c7e9516b-91b9-4c5e-8fe1-c140f2c86cf2",
   "metadata": {
    "tags": []
   },
   "outputs": [],
   "source": [
    "dva_radky_jeden_sloupec[0, 0] = 13"
   ]
  },
  {
   "cell_type": "code",
   "execution_count": 21,
   "id": "30e98451-8ac7-4c7d-8464-56404c6b1480",
   "metadata": {
    "tags": []
   },
   "outputs": [
    {
     "data": {
      "text/plain": [
       "array([[13],\n",
       "       [66]])"
      ]
     },
     "execution_count": 21,
     "metadata": {},
     "output_type": "execute_result"
    }
   ],
   "source": [
    "dva_radky_jeden_sloupec"
   ]
  },
  {
   "cell_type": "code",
   "execution_count": 22,
   "id": "ef6fb1c7-4b30-46a7-976f-912912326896",
   "metadata": {
    "tags": []
   },
   "outputs": [
    {
     "data": {
      "text/plain": [
       "array([[ 13,  79],\n",
       "       [ 66, 243],\n",
       "       [196, 924]])"
      ]
     },
     "execution_count": 22,
     "metadata": {},
     "output_type": "execute_result"
    }
   ],
   "source": [
    "zeme_arr"
   ]
  },
  {
   "cell_type": "markdown",
   "id": "682c2b21-860f-4356-8528-f01194844934",
   "metadata": {},
   "source": [
    "<br>\n",
    "\n",
    "Pokud potřebuješ přesto nachystat kopii a ponechat původní hodnoty nezměněné, vyzkoušej metodu `copy`:"
   ]
  },
  {
   "cell_type": "code",
   "execution_count": 23,
   "id": "8115a375-88fd-443f-a671-3e0d3ebac7de",
   "metadata": {
    "tags": []
   },
   "outputs": [],
   "source": [
    "kopie_dva_radky_jeden_sloupec = zeme_arr[:2, :1].copy()"
   ]
  },
  {
   "cell_type": "code",
   "execution_count": null,
   "id": "582ea2b1-86e5-4aa9-8f0c-0e9ec25eb716",
   "metadata": {},
   "outputs": [],
   "source": [
    "kopie_dva_radky_jeden_sloupec[0, 0] = 22"
   ]
  },
  {
   "cell_type": "code",
   "execution_count": null,
   "id": "ca059456-96cd-47f6-83bc-26b6b6a828b0",
   "metadata": {},
   "outputs": [
    {
     "data": {
      "text/plain": [
       "array([[22],\n",
       "       [66]])"
      ]
     },
     "execution_count": 26,
     "metadata": {},
     "output_type": "execute_result"
    }
   ],
   "source": [
    "kopie_dva_radky_jeden_sloupec"
   ]
  },
  {
   "cell_type": "code",
   "execution_count": 27,
   "id": "ef2dc885-e50d-4938-9867-471154975697",
   "metadata": {
    "tags": []
   },
   "outputs": [
    {
     "data": {
      "text/plain": [
       "array([[ 13,  79],\n",
       "       [ 66, 243],\n",
       "       [196, 924]])"
      ]
     },
     "execution_count": 27,
     "metadata": {},
     "output_type": "execute_result"
    }
   ],
   "source": [
    "zeme_arr"
   ]
  },
  {
   "cell_type": "markdown",
   "id": "9542bcb7-56e2-433d-8eb3-cac474f57000",
   "metadata": {},
   "source": [
    "<br>\n",
    "\n",
    "### Přetváření ARRAY\n",
    "\n",
    "---\n",
    "\n"
   ]
  },
  {
   "cell_type": "markdown",
   "id": "530f9edf-63f0-4fd0-80eb-390cad3a9df9",
   "metadata": {},
   "source": [
    "Jestli budeš potřebovat změnit tvar pole nebo matice, vyzkoušej metodu `reshape`:"
   ]
  },
  {
   "cell_type": "code",
   "execution_count": 31,
   "id": "980be446-2c73-4fb0-8d96-25748a1d6045",
   "metadata": {
    "tags": []
   },
   "outputs": [
    {
     "data": {
      "text/html": [
       "<div>\n",
       "<style scoped>\n",
       "    .dataframe tbody tr th:only-of-type {\n",
       "        vertical-align: middle;\n",
       "    }\n",
       "\n",
       "    .dataframe tbody tr th {\n",
       "        vertical-align: top;\n",
       "    }\n",
       "\n",
       "    .dataframe thead th {\n",
       "        text-align: right;\n",
       "    }\n",
       "</style>\n",
       "<table border=\"1\" class=\"dataframe\">\n",
       "  <thead>\n",
       "    <tr style=\"text-align: right;\">\n",
       "      <th></th>\n",
       "      <th>population</th>\n",
       "      <th>surface_area</th>\n",
       "    </tr>\n",
       "  </thead>\n",
       "  <tbody>\n",
       "    <tr>\n",
       "      <th>CZE</th>\n",
       "      <td>11</td>\n",
       "      <td>79</td>\n",
       "    </tr>\n",
       "    <tr>\n",
       "      <th>UK</th>\n",
       "      <td>66</td>\n",
       "      <td>243</td>\n",
       "    </tr>\n",
       "    <tr>\n",
       "      <th>Nigeria</th>\n",
       "      <td>196</td>\n",
       "      <td>924</td>\n",
       "    </tr>\n",
       "  </tbody>\n",
       "</table>\n",
       "</div>"
      ],
      "text/plain": [
       "         population  surface_area\n",
       "CZE              11            79\n",
       "UK               66           243\n",
       "Nigeria         196           924"
      ]
     },
     "execution_count": 31,
     "metadata": {},
     "output_type": "execute_result"
    }
   ],
   "source": [
    "zeme_df"
   ]
  },
  {
   "cell_type": "code",
   "execution_count": 29,
   "id": "5d77fc94-0f93-42d0-b465-927f4930fb7a",
   "metadata": {
    "tags": []
   },
   "outputs": [],
   "source": [
    "zeme_arr[0, 0] = 11"
   ]
  },
  {
   "cell_type": "code",
   "execution_count": 30,
   "id": "321db73c-91c3-4644-81d0-6326ba91e160",
   "metadata": {
    "tags": []
   },
   "outputs": [
    {
     "data": {
      "text/plain": [
       "array([[ 11,  79],\n",
       "       [ 66, 243],\n",
       "       [196, 924]])"
      ]
     },
     "execution_count": 30,
     "metadata": {},
     "output_type": "execute_result"
    }
   ],
   "source": [
    "zeme_arr"
   ]
  },
  {
   "cell_type": "markdown",
   "id": "4935d824-34a5-45c8-a915-56b20b7de1bb",
   "metadata": {},
   "source": [
    "Vytvoříš si jednodimenzionální pole s pomocí funkce `arange`:"
   ]
  },
  {
   "cell_type": "code",
   "execution_count": 32,
   "id": "3b2769cf-f894-41c4-b664-ee2894633ebb",
   "metadata": {
    "tags": []
   },
   "outputs": [],
   "source": [
    "pole = np.arange(1, 10)"
   ]
  },
  {
   "cell_type": "code",
   "execution_count": 34,
   "id": "04f5eb3c-49fd-439a-829e-a3783c994ca6",
   "metadata": {
    "tags": []
   },
   "outputs": [
    {
     "data": {
      "text/plain": [
       "array([1, 2, 3, 4, 5, 6, 7, 8, 9])"
      ]
     },
     "execution_count": 34,
     "metadata": {},
     "output_type": "execute_result"
    }
   ],
   "source": [
    "pole"
   ]
  },
  {
   "cell_type": "markdown",
   "id": "3bc3ed4e-3a57-45cf-9512-fc5aa50450ce",
   "metadata": {},
   "source": [
    "<br>\n",
    "\n",
    "Nachystám 2D pole, matici, pomocí metody `reshape`:"
   ]
  },
  {
   "cell_type": "code",
   "execution_count": 35,
   "id": "db345708-5a50-4069-a91f-5c7a3e492132",
   "metadata": {
    "tags": []
   },
   "outputs": [
    {
     "data": {
      "text/plain": [
       "array([[1, 2, 3],\n",
       "       [4, 5, 6],\n",
       "       [7, 8, 9]])"
      ]
     },
     "execution_count": 35,
     "metadata": {},
     "output_type": "execute_result"
    }
   ],
   "source": [
    "pole.reshape(3, 3)"
   ]
  },
  {
   "cell_type": "markdown",
   "id": "529208c9-7336-4f53-a73e-302d978deaac",
   "metadata": {},
   "source": [
    "<br>\n",
    "\n",
    "Pomocí metody `reshape` můžeš také měnit **řádkový vektor za sloupcový**:"
   ]
  },
  {
   "cell_type": "code",
   "execution_count": 40,
   "id": "b2f7fe5b-1b86-4a9c-839d-7cadac5b6238",
   "metadata": {
    "tags": []
   },
   "outputs": [],
   "source": [
    "radkovy_vektor = np.array((11, 22, 33, 44))"
   ]
  },
  {
   "cell_type": "code",
   "execution_count": 46,
   "id": "704ece22-59bb-4033-9a13-be58d43cfa98",
   "metadata": {
    "tags": []
   },
   "outputs": [
    {
     "data": {
      "text/plain": [
       "array([11, 22, 33, 44])"
      ]
     },
     "execution_count": 46,
     "metadata": {},
     "output_type": "execute_result"
    }
   ],
   "source": [
    "radkovy_vektor"
   ]
  },
  {
   "cell_type": "code",
   "execution_count": 42,
   "id": "4c513ae7-bfed-4e1e-a72a-a925081b57a6",
   "metadata": {
    "tags": []
   },
   "outputs": [
    {
     "data": {
      "text/plain": [
       "array([[11, 22, 33, 44]])"
      ]
     },
     "execution_count": 42,
     "metadata": {},
     "output_type": "execute_result"
    }
   ],
   "source": [
    "radkovy_vektor[np.newaxis, :]"
   ]
  },
  {
   "cell_type": "code",
   "execution_count": 43,
   "id": "9275201f-7e48-4ea7-aceb-9258beec5d1e",
   "metadata": {
    "tags": []
   },
   "outputs": [
    {
     "data": {
      "text/plain": [
       "array([[11],\n",
       "       [22],\n",
       "       [33],\n",
       "       [44]])"
      ]
     },
     "execution_count": 43,
     "metadata": {},
     "output_type": "execute_result"
    }
   ],
   "source": [
    "radkovy_vektor[:, np.newaxis]"
   ]
  },
  {
   "cell_type": "code",
   "execution_count": 44,
   "id": "3e1617bf-3a63-4fe6-8159-fb44bcedd894",
   "metadata": {
    "tags": []
   },
   "outputs": [],
   "source": [
    "x = np.expand_dims(radkovy_vektor, axis=1)"
   ]
  },
  {
   "cell_type": "code",
   "execution_count": 45,
   "id": "6056ba71-4fb2-4476-b346-d6dd676674eb",
   "metadata": {
    "tags": []
   },
   "outputs": [
    {
     "data": {
      "text/plain": [
       "array([[11],\n",
       "       [22],\n",
       "       [33],\n",
       "       [44]])"
      ]
     },
     "execution_count": 45,
     "metadata": {},
     "output_type": "execute_result"
    }
   ],
   "source": [
    "x"
   ]
  },
  {
   "cell_type": "markdown",
   "id": "581539a5-2413-4b03-a323-c570ecb378f9",
   "metadata": {},
   "source": [
    "##### Ukázka"
   ]
  },
  {
   "cell_type": "markdown",
   "id": "03dd7666-2629-4af1-ab37-c25739648da9",
   "metadata": {},
   "source": [
    "Potřebuješ převést 1D pole na 2D matici, kde budeš mít 7 hodnot na řádek."
   ]
  },
  {
   "cell_type": "code",
   "execution_count": 54,
   "id": "17bf9a6f-004f-452c-967b-4940fb53e28a",
   "metadata": {
    "tags": []
   },
   "outputs": [],
   "source": [
    "np.random.seed(42)  # Nastavte seed pro reprodukovatelnost výsledků\n",
    "temp_data = np.random.uniform(15, 35, size=30*7)"
   ]
  },
  {
   "cell_type": "code",
   "execution_count": 55,
   "id": "3c48c540-7b85-4b84-9606-06d332e08dc1",
   "metadata": {
    "tags": []
   },
   "outputs": [
    {
     "data": {
      "text/plain": [
       "array([22.49080238, 34.01428613, 29.63987884, 26.97316968, 18.12037281,\n",
       "       18.11989041, 16.16167224, 32.32352292, 27.02230023, 29.16145156,\n",
       "       15.41168989, 34.39819704, 31.64885282, 19.24678221, 18.63649934,\n",
       "       18.6680902 , 21.08484486, 25.49512863, 23.63890037, 20.8245828 ,\n",
       "       27.23705789, 17.78987721, 20.84289297, 22.32723687, 24.12139968,\n",
       "       30.70351923, 18.99347564, 25.28468877, 26.84829138, 15.92900825,\n",
       "       27.15089704, 18.41048247, 16.30103186, 33.97771075, 34.31264066,\n",
       "       31.16794696, 21.09227538, 16.95344228, 28.68466053, 23.80304987,\n",
       "       17.4407647 , 24.9035382 , 15.68777042, 33.18640804, 20.17559963,\n",
       "       28.25044569, 21.23422152, 25.40136042, 25.93420559, 18.69708911,\n",
       "       34.39169256, 30.50265647, 33.78997883, 32.89654701, 26.95799958,\n",
       "       33.4374847 , 16.76985004, 18.91965725, 15.90454578, 21.50660662,\n",
       "       22.77354579, 20.42698064, 31.57475018, 22.13506653, 20.61869019,\n",
       "       25.85392166, 17.8184845 , 31.04393962, 16.49101287, 34.73773873,\n",
       "       30.44489539, 18.97431363, 15.11044234, 31.30922857, 29.13714688,\n",
       "       29.58014336, 30.42540693, 16.48089303, 22.16931457, 17.31738119,\n",
       "       32.26206852, 27.46596254, 21.6179605 , 16.27116701, 21.21964643,\n",
       "       21.50366644, 29.59212357, 27.75114943, 32.74425485, 24.4442985 ,\n",
       "       17.39188492, 29.26489574, 30.21570097, 26.22554395, 30.4193436 ,\n",
       "       24.87591193, 25.45465659, 23.55082037, 15.50838253, 17.15782854,\n",
       "       15.62858371, 27.72820823, 21.28711962, 25.17141382, 33.15132948,\n",
       "       19.98584458, 23.20765846, 30.11102277, 19.57596331, 16.5395982 ,\n",
       "       20.79502906, 18.22442575, 33.59395305, 31.16240759, 27.66807513,\n",
       "       32.4292118 , 31.07344154, 18.73140118, 32.85117997, 25.78684484,\n",
       "       31.1488031 , 32.921826  , 21.3600695 , 17.20103849, 19.55870325,\n",
       "       23.54215577, 31.36029532, 32.21461167, 15.13904261, 25.21494605,\n",
       "       23.34822006, 19.44215621, 17.39730735, 21.75230343, 33.85819408,\n",
       "       21.46405864, 25.37581243, 29.06037918, 22.27259205, 34.43564165,\n",
       "       34.2489459 , 20.03564592, 24.94497012, 21.0175662 , 20.69680989,\n",
       "       15.73773895, 27.19128668, 25.05358046, 16.02957502, 20.57292928,\n",
       "       33.16531772, 19.79123781, 17.89789744, 24.78905521, 34.71300908,\n",
       "       19.84110543, 28.44271095, 30.23239231, 19.75275088, 29.56432697,\n",
       "       22.35566265, 27.64611661, 27.67059422, 25.71549368, 16.8057954 ,\n",
       "       31.70604991, 21.4156013 , 18.73037021, 15.81550283, 26.81785886,\n",
       "       28.55128724, 15.33175658, 25.24186117, 19.5299155 , 27.90345581,\n",
       "       18.48732858, 28.81875476, 22.73470693, 33.73459977, 17.75041888,\n",
       "       21.82132702, 17.26947042, 33.49387237, 32.54678707, 20.15883255,\n",
       "       28.19968092, 31.344444  , 26.10401623, 25.59301157, 19.83704582,\n",
       "       16.86205536, 32.94431516, 33.00836114, 27.66202915, 21.78059582,\n",
       "       21.98419149, 29.51911358, 32.9422052 , 32.74172849, 30.59751092,\n",
       "       27.84063292, 16.6827993 , 18.23257428, 32.97108377, 27.12858119,\n",
       "       15.18394103, 17.02943086, 28.27003538, 15.10123168, 18.21616103])"
      ]
     },
     "execution_count": 55,
     "metadata": {},
     "output_type": "execute_result"
    }
   ],
   "source": [
    "temp_data"
   ]
  },
  {
   "cell_type": "code",
   "execution_count": 56,
   "id": "a8fbd158-7bc1-4d7c-848f-a618f30a662f",
   "metadata": {
    "tags": []
   },
   "outputs": [
    {
     "data": {
      "text/plain": [
       "(210,)"
      ]
     },
     "execution_count": 56,
     "metadata": {},
     "output_type": "execute_result"
    }
   ],
   "source": [
    "temp_data.shape"
   ]
  },
  {
   "cell_type": "code",
   "execution_count": 57,
   "id": "c3ae78d0-87b4-451f-b0b0-46c375637233",
   "metadata": {
    "tags": []
   },
   "outputs": [
    {
     "data": {
      "text/plain": [
       "1"
      ]
     },
     "execution_count": 57,
     "metadata": {},
     "output_type": "execute_result"
    }
   ],
   "source": [
    "temp_data.ndim"
   ]
  },
  {
   "cell_type": "code",
   "execution_count": 58,
   "id": "bd922ee2-a37c-43bb-b047-a8691d221564",
   "metadata": {
    "tags": []
   },
   "outputs": [],
   "source": [
    "tydenni_temp_data = temp_data.reshape(-1, 7)"
   ]
  },
  {
   "cell_type": "code",
   "execution_count": 59,
   "id": "ad93863d-ea5b-4ca5-b4b1-b903df40d1d1",
   "metadata": {
    "tags": []
   },
   "outputs": [
    {
     "data": {
      "text/plain": [
       "array([[22.49080238, 34.01428613, 29.63987884, 26.97316968, 18.12037281,\n",
       "        18.11989041, 16.16167224],\n",
       "       [32.32352292, 27.02230023, 29.16145156, 15.41168989, 34.39819704,\n",
       "        31.64885282, 19.24678221],\n",
       "       [18.63649934, 18.6680902 , 21.08484486, 25.49512863, 23.63890037,\n",
       "        20.8245828 , 27.23705789],\n",
       "       [17.78987721, 20.84289297, 22.32723687, 24.12139968, 30.70351923,\n",
       "        18.99347564, 25.28468877],\n",
       "       [26.84829138, 15.92900825, 27.15089704, 18.41048247, 16.30103186,\n",
       "        33.97771075, 34.31264066],\n",
       "       [31.16794696, 21.09227538, 16.95344228, 28.68466053, 23.80304987,\n",
       "        17.4407647 , 24.9035382 ],\n",
       "       [15.68777042, 33.18640804, 20.17559963, 28.25044569, 21.23422152,\n",
       "        25.40136042, 25.93420559],\n",
       "       [18.69708911, 34.39169256, 30.50265647, 33.78997883, 32.89654701,\n",
       "        26.95799958, 33.4374847 ],\n",
       "       [16.76985004, 18.91965725, 15.90454578, 21.50660662, 22.77354579,\n",
       "        20.42698064, 31.57475018],\n",
       "       [22.13506653, 20.61869019, 25.85392166, 17.8184845 , 31.04393962,\n",
       "        16.49101287, 34.73773873],\n",
       "       [30.44489539, 18.97431363, 15.11044234, 31.30922857, 29.13714688,\n",
       "        29.58014336, 30.42540693],\n",
       "       [16.48089303, 22.16931457, 17.31738119, 32.26206852, 27.46596254,\n",
       "        21.6179605 , 16.27116701],\n",
       "       [21.21964643, 21.50366644, 29.59212357, 27.75114943, 32.74425485,\n",
       "        24.4442985 , 17.39188492],\n",
       "       [29.26489574, 30.21570097, 26.22554395, 30.4193436 , 24.87591193,\n",
       "        25.45465659, 23.55082037],\n",
       "       [15.50838253, 17.15782854, 15.62858371, 27.72820823, 21.28711962,\n",
       "        25.17141382, 33.15132948],\n",
       "       [19.98584458, 23.20765846, 30.11102277, 19.57596331, 16.5395982 ,\n",
       "        20.79502906, 18.22442575],\n",
       "       [33.59395305, 31.16240759, 27.66807513, 32.4292118 , 31.07344154,\n",
       "        18.73140118, 32.85117997],\n",
       "       [25.78684484, 31.1488031 , 32.921826  , 21.3600695 , 17.20103849,\n",
       "        19.55870325, 23.54215577],\n",
       "       [31.36029532, 32.21461167, 15.13904261, 25.21494605, 23.34822006,\n",
       "        19.44215621, 17.39730735],\n",
       "       [21.75230343, 33.85819408, 21.46405864, 25.37581243, 29.06037918,\n",
       "        22.27259205, 34.43564165],\n",
       "       [34.2489459 , 20.03564592, 24.94497012, 21.0175662 , 20.69680989,\n",
       "        15.73773895, 27.19128668],\n",
       "       [25.05358046, 16.02957502, 20.57292928, 33.16531772, 19.79123781,\n",
       "        17.89789744, 24.78905521],\n",
       "       [34.71300908, 19.84110543, 28.44271095, 30.23239231, 19.75275088,\n",
       "        29.56432697, 22.35566265],\n",
       "       [27.64611661, 27.67059422, 25.71549368, 16.8057954 , 31.70604991,\n",
       "        21.4156013 , 18.73037021],\n",
       "       [15.81550283, 26.81785886, 28.55128724, 15.33175658, 25.24186117,\n",
       "        19.5299155 , 27.90345581],\n",
       "       [18.48732858, 28.81875476, 22.73470693, 33.73459977, 17.75041888,\n",
       "        21.82132702, 17.26947042],\n",
       "       [33.49387237, 32.54678707, 20.15883255, 28.19968092, 31.344444  ,\n",
       "        26.10401623, 25.59301157],\n",
       "       [19.83704582, 16.86205536, 32.94431516, 33.00836114, 27.66202915,\n",
       "        21.78059582, 21.98419149],\n",
       "       [29.51911358, 32.9422052 , 32.74172849, 30.59751092, 27.84063292,\n",
       "        16.6827993 , 18.23257428],\n",
       "       [32.97108377, 27.12858119, 15.18394103, 17.02943086, 28.27003538,\n",
       "        15.10123168, 18.21616103]])"
      ]
     },
     "execution_count": 59,
     "metadata": {},
     "output_type": "execute_result"
    }
   ],
   "source": [
    "tydenni_temp_data"
   ]
  },
  {
   "cell_type": "markdown",
   "id": "37f08283-1304-4d6d-ad80-47ac5c064ea8",
   "metadata": {},
   "source": [
    "<br>\n",
    "\n",
    "### Spojování a rozdělování\n",
    "\n",
    "---\n",
    "\n"
   ]
  },
  {
   "cell_type": "markdown",
   "id": "f84e80a9-9206-4b9f-9cdf-74589d5e81b4",
   "metadata": {},
   "source": [
    "Předchozí ukázky se vztahovaly pouze k jednomu poli, k jedné matici.\n",
    "\n",
    "Teď uvidíš, jak můžeš kombinovat několik těchto typů objektu."
   ]
  },
  {
   "cell_type": "markdown",
   "id": "ae931faa-8a5c-4d74-ae52-45948c70b448",
   "metadata": {},
   "source": [
    "#### Spojování"
   ]
  },
  {
   "cell_type": "markdown",
   "id": "760e892c-17d5-4221-9ea2-4d495509ea24",
   "metadata": {},
   "source": [
    "Pomocí metody `concatenate` spojíš dvě pole nebo dvě matice nebo více objektů:"
   ]
  },
  {
   "cell_type": "code",
   "execution_count": 64,
   "id": "3642d8ec-678e-4ec4-a26d-541858d2d9c8",
   "metadata": {
    "tags": []
   },
   "outputs": [],
   "source": [
    "pole_1 = np.arange(1, 6)\n",
    "pole_2 = np.array((6, 7, 8))"
   ]
  },
  {
   "cell_type": "code",
   "execution_count": 66,
   "id": "2fd92a6f-d137-4a6e-b767-1febb96081a2",
   "metadata": {
    "tags": []
   },
   "outputs": [
    {
     "data": {
      "text/plain": [
       "array([1, 2, 3, 4, 5])"
      ]
     },
     "execution_count": 66,
     "metadata": {},
     "output_type": "execute_result"
    }
   ],
   "source": [
    "pole_1"
   ]
  },
  {
   "cell_type": "code",
   "execution_count": 67,
   "id": "16267817-52fa-4e27-a040-97e398ac8942",
   "metadata": {
    "tags": []
   },
   "outputs": [
    {
     "data": {
      "text/plain": [
       "array([6, 7, 8])"
      ]
     },
     "execution_count": 67,
     "metadata": {},
     "output_type": "execute_result"
    }
   ],
   "source": [
    "pole_2"
   ]
  },
  {
   "cell_type": "code",
   "execution_count": 69,
   "id": "176ab279-a19f-48ac-893b-e64d70ac9186",
   "metadata": {
    "tags": []
   },
   "outputs": [],
   "source": [
    "spojene_pole = np.concatenate([pole_1, pole_2])"
   ]
  },
  {
   "cell_type": "code",
   "execution_count": 70,
   "id": "b6b7c4c7-dadc-4cd7-a6b8-490139d6f391",
   "metadata": {
    "tags": []
   },
   "outputs": [
    {
     "data": {
      "text/plain": [
       "array([1, 2, 3, 4, 5, 6, 7, 8])"
      ]
     },
     "execution_count": 70,
     "metadata": {},
     "output_type": "execute_result"
    }
   ],
   "source": [
    "spojene_pole"
   ]
  },
  {
   "cell_type": "code",
   "execution_count": 72,
   "id": "e273907f-d542-45fb-8f9d-c3ef54d8ded5",
   "metadata": {
    "tags": []
   },
   "outputs": [],
   "source": [
    "pole_2D_1 = np.random.randint(low=-15, high=15, size=(3, 2))"
   ]
  },
  {
   "cell_type": "code",
   "execution_count": 73,
   "id": "942b032c-0425-4f19-87a5-d24b94f4a35f",
   "metadata": {
    "tags": []
   },
   "outputs": [
    {
     "data": {
      "text/plain": [
       "array([[  2, -14],\n",
       "       [  6, -13],\n",
       "       [  0,  13]])"
      ]
     },
     "execution_count": 73,
     "metadata": {},
     "output_type": "execute_result"
    }
   ],
   "source": [
    "pole_2D_1"
   ]
  },
  {
   "cell_type": "code",
   "execution_count": 74,
   "id": "e2599f09-60d8-4542-8465-6b6845a52088",
   "metadata": {
    "tags": []
   },
   "outputs": [],
   "source": [
    "pole_2D_2 = np.random.randint(low=-15, high=15, size=(5, 2))"
   ]
  },
  {
   "cell_type": "code",
   "execution_count": 75,
   "id": "eefa59b9-053e-493b-86e6-558b35ce7c40",
   "metadata": {
    "tags": []
   },
   "outputs": [
    {
     "data": {
      "text/plain": [
       "array([[ -7, -12],\n",
       "       [-15, -12],\n",
       "       [-15,  -2],\n",
       "       [  5,   0],\n",
       "       [  4,   8]])"
      ]
     },
     "execution_count": 75,
     "metadata": {},
     "output_type": "execute_result"
    }
   ],
   "source": [
    "pole_2D_2"
   ]
  },
  {
   "cell_type": "code",
   "execution_count": 81,
   "id": "93be2346-c454-45cc-99d1-194cb00603de",
   "metadata": {
    "tags": []
   },
   "outputs": [],
   "source": [
    "pole_2D_3 = np.random.randint(low=-15, high=15, size=(3, 2))"
   ]
  },
  {
   "cell_type": "code",
   "execution_count": 83,
   "id": "cc014742-2f8c-419f-b1e0-1bf917cf0785",
   "metadata": {
    "tags": []
   },
   "outputs": [],
   "source": [
    "spojene_matice = np.concatenate([pole_2D_1, pole_2D_3], axis=1)"
   ]
  },
  {
   "cell_type": "code",
   "execution_count": 84,
   "id": "468d109a-d97e-44bd-9396-2a537b8f7710",
   "metadata": {
    "tags": []
   },
   "outputs": [
    {
     "data": {
      "text/plain": [
       "array([[  2, -14,  -8,  -9],\n",
       "       [  6, -13, -13,   1],\n",
       "       [  0,  13, -15,   0]])"
      ]
     },
     "execution_count": 84,
     "metadata": {},
     "output_type": "execute_result"
    }
   ],
   "source": [
    "spojene_matice"
   ]
  },
  {
   "cell_type": "markdown",
   "id": "97eaeb5c-bd26-425a-9259-0657fd05bc59",
   "metadata": {},
   "source": [
    "<br>\n",
    "\n",
    "Pokud nemáš pole nebo matice stejného rozměru, je lepší pracovat s funkcemi:\n",
    "1. `vstack`, vertikální napojení,\n",
    "2. `hstack`, horizontální napojení,"
   ]
  },
  {
   "cell_type": "code",
   "execution_count": 85,
   "id": "2d43ccc5-f2b3-41bd-9fc5-23b293997aca",
   "metadata": {
    "tags": []
   },
   "outputs": [
    {
     "data": {
      "text/plain": [
       "array([1, 2, 3, 4, 5])"
      ]
     },
     "execution_count": 85,
     "metadata": {},
     "output_type": "execute_result"
    }
   ],
   "source": [
    "pole_1"
   ]
  },
  {
   "cell_type": "code",
   "execution_count": 86,
   "id": "9a666fc6-25a5-4c3f-ad8e-99ef0501726a",
   "metadata": {
    "tags": []
   },
   "outputs": [
    {
     "data": {
      "text/plain": [
       "array([[  2, -14],\n",
       "       [  6, -13],\n",
       "       [  0,  13]])"
      ]
     },
     "execution_count": 86,
     "metadata": {},
     "output_type": "execute_result"
    }
   ],
   "source": [
    "pole_2D_1"
   ]
  },
  {
   "cell_type": "code",
   "execution_count": 88,
   "id": "faea80d6-702e-4693-8cb5-52bae25dece7",
   "metadata": {
    "tags": []
   },
   "outputs": [
    {
     "ename": "ValueError",
     "evalue": "all the input array dimensions except for the concatenation axis must match exactly, but along dimension 1, the array at index 0 has size 5 and the array at index 1 has size 2",
     "output_type": "error",
     "traceback": [
      "\u001b[0;31m---------------------------------------------------------------------------\u001b[0m",
      "\u001b[0;31mValueError\u001b[0m                                Traceback (most recent call last)",
      "Cell \u001b[0;32mIn[88], line 1\u001b[0m\n\u001b[0;32m----> 1\u001b[0m rozsirene_2D \u001b[38;5;241m=\u001b[39m \u001b[43mnp\u001b[49m\u001b[38;5;241;43m.\u001b[39;49m\u001b[43mvstack\u001b[49m\u001b[43m(\u001b[49m\u001b[43m[\u001b[49m\u001b[43mpole_1\u001b[49m\u001b[43m,\u001b[49m\u001b[43m \u001b[49m\u001b[43mpole_2D_1\u001b[49m\u001b[43m]\u001b[49m\u001b[43m)\u001b[49m\n",
      "File \u001b[0;32m<__array_function__ internals>:200\u001b[0m, in \u001b[0;36mvstack\u001b[0;34m(*args, **kwargs)\u001b[0m\n",
      "File \u001b[0;32m~/projects/data-csob-2023/shared/onsite/env/lib/python3.8/site-packages/numpy/core/shape_base.py:296\u001b[0m, in \u001b[0;36mvstack\u001b[0;34m(tup, dtype, casting)\u001b[0m\n\u001b[1;32m    294\u001b[0m \u001b[38;5;28;01mif\u001b[39;00m \u001b[38;5;129;01mnot\u001b[39;00m \u001b[38;5;28misinstance\u001b[39m(arrs, \u001b[38;5;28mlist\u001b[39m):\n\u001b[1;32m    295\u001b[0m     arrs \u001b[38;5;241m=\u001b[39m [arrs]\n\u001b[0;32m--> 296\u001b[0m \u001b[38;5;28;01mreturn\u001b[39;00m \u001b[43m_nx\u001b[49m\u001b[38;5;241;43m.\u001b[39;49m\u001b[43mconcatenate\u001b[49m\u001b[43m(\u001b[49m\u001b[43marrs\u001b[49m\u001b[43m,\u001b[49m\u001b[43m \u001b[49m\u001b[38;5;241;43m0\u001b[39;49m\u001b[43m,\u001b[49m\u001b[43m \u001b[49m\u001b[43mdtype\u001b[49m\u001b[38;5;241;43m=\u001b[39;49m\u001b[43mdtype\u001b[49m\u001b[43m,\u001b[49m\u001b[43m \u001b[49m\u001b[43mcasting\u001b[49m\u001b[38;5;241;43m=\u001b[39;49m\u001b[43mcasting\u001b[49m\u001b[43m)\u001b[49m\n",
      "File \u001b[0;32m<__array_function__ internals>:200\u001b[0m, in \u001b[0;36mconcatenate\u001b[0;34m(*args, **kwargs)\u001b[0m\n",
      "\u001b[0;31mValueError\u001b[0m: all the input array dimensions except for the concatenation axis must match exactly, but along dimension 1, the array at index 0 has size 5 and the array at index 1 has size 2"
     ]
    }
   ],
   "source": [
    "rozsirene_2D = np.vstack([pole_1, pole_2D_1])"
   ]
  },
  {
   "cell_type": "code",
   "execution_count": 89,
   "id": "d7f14513-3594-464f-8e5d-6551f1e42479",
   "metadata": {
    "tags": []
   },
   "outputs": [],
   "source": [
    "rozsirene_2D = np.vstack([pole_1[:2], pole_2D_1])"
   ]
  },
  {
   "cell_type": "code",
   "execution_count": 90,
   "id": "a8b93580-0dae-4b90-94fc-d359a5d8c8bf",
   "metadata": {
    "tags": []
   },
   "outputs": [
    {
     "data": {
      "text/plain": [
       "array([[  1,   2],\n",
       "       [  2, -14],\n",
       "       [  6, -13],\n",
       "       [  0,  13]])"
      ]
     },
     "execution_count": 90,
     "metadata": {},
     "output_type": "execute_result"
    }
   ],
   "source": [
    "rozsirene_2D"
   ]
  },
  {
   "cell_type": "markdown",
   "id": "6c1fd144-85e9-4a6b-a53f-707940897701",
   "metadata": {},
   "source": [
    "#### Rozdělování\n",
    "\n",
    "Opakem spojování polí a matic je rozdělování, které je možné provést pomocí funkcí:\n",
    "1. `split`,\n",
    "2. `hsplit`,\n",
    "3. `vsplit`"
   ]
  },
  {
   "cell_type": "code",
   "execution_count": 107,
   "id": "e8e74c1b-1805-4926-87d4-2b3ae884974e",
   "metadata": {
    "tags": []
   },
   "outputs": [],
   "source": [
    "rada_arr = np.random.randint(low=100, high=200, size=(12))"
   ]
  },
  {
   "cell_type": "code",
   "execution_count": 108,
   "id": "0772f311-4184-4817-831f-59995c4d3980",
   "metadata": {
    "tags": []
   },
   "outputs": [
    {
     "data": {
      "text/plain": [
       "array([196, 127, 163, 196, 168, 160, 147, 118, 103, 134, 163, 148])"
      ]
     },
     "execution_count": 108,
     "metadata": {},
     "output_type": "execute_result"
    }
   ],
   "source": [
    "rada_arr"
   ]
  },
  {
   "cell_type": "code",
   "execution_count": 115,
   "id": "3991a31c-fe01-4ca7-938d-ad205698bad5",
   "metadata": {
    "tags": []
   },
   "outputs": [],
   "source": [
    "r1, r2, r3 = np.split(rada_arr, [3, 7])"
   ]
  },
  {
   "cell_type": "code",
   "execution_count": 116,
   "id": "2161c891-e079-4532-ac3e-81dc99d1e65a",
   "metadata": {
    "tags": []
   },
   "outputs": [
    {
     "data": {
      "text/plain": [
       "(array([196, 127, 163]),\n",
       " array([196, 168, 160, 147]),\n",
       " array([118, 103, 134, 163, 148]))"
      ]
     },
     "execution_count": 116,
     "metadata": {},
     "output_type": "execute_result"
    }
   ],
   "source": [
    "r1, r2, r3"
   ]
  },
  {
   "cell_type": "markdown",
   "id": "a4a2d2b1-9f0f-4488-ad0a-d2ea84606d48",
   "metadata": {},
   "source": [
    "Takže dělení probíhá pomocí dělících indexů.\n",
    "\n",
    "Tedy máš vždy N indexů a N + 1 polí."
   ]
  },
  {
   "cell_type": "code",
   "execution_count": 119,
   "id": "f95b986d-5eb0-40f0-8289-e39f1a6c7a84",
   "metadata": {
    "tags": []
   },
   "outputs": [],
   "source": [
    "matice = rada_arr.reshape(3, 4)"
   ]
  },
  {
   "cell_type": "code",
   "execution_count": 120,
   "id": "515871fe-3824-4746-bcc9-a1a40ee81517",
   "metadata": {
    "tags": []
   },
   "outputs": [
    {
     "data": {
      "text/plain": [
       "array([[196, 127, 163, 196],\n",
       "       [168, 160, 147, 118],\n",
       "       [103, 134, 163, 148]])"
      ]
     },
     "execution_count": 120,
     "metadata": {},
     "output_type": "execute_result"
    }
   ],
   "source": [
    "matice"
   ]
  },
  {
   "cell_type": "code",
   "execution_count": 124,
   "id": "8572c4d5-b2de-42ff-bc52-ddf960ee3fdd",
   "metadata": {
    "tags": []
   },
   "outputs": [],
   "source": [
    "leve_sl, prave_sl = np.hsplit(matice, [2])"
   ]
  },
  {
   "cell_type": "code",
   "execution_count": 125,
   "id": "2ecdc919-be0d-45a1-b3ef-b880d93ef945",
   "metadata": {
    "tags": []
   },
   "outputs": [
    {
     "data": {
      "text/plain": [
       "array([[196, 127],\n",
       "       [168, 160],\n",
       "       [103, 134]])"
      ]
     },
     "execution_count": 125,
     "metadata": {},
     "output_type": "execute_result"
    }
   ],
   "source": [
    "leve_sl"
   ]
  },
  {
   "cell_type": "code",
   "execution_count": 126,
   "id": "22f73ce1-ff5f-4973-bd64-58daa26f794e",
   "metadata": {
    "tags": []
   },
   "outputs": [
    {
     "data": {
      "text/plain": [
       "array([[163, 196],\n",
       "       [147, 118],\n",
       "       [163, 148]])"
      ]
     },
     "execution_count": 126,
     "metadata": {},
     "output_type": "execute_result"
    }
   ],
   "source": [
    "prave_sl"
   ]
  },
  {
   "cell_type": "markdown",
   "id": "d72b1aff-299c-4255-9ce4-255396b205c9",
   "metadata": {},
   "source": [
    "<br>\n",
    "\n",
    "##### **🧠 CVIČENÍ 🧠,"
   ]
  },
  {
   "cell_type": "code",
   "execution_count": null,
   "id": "dde9f4ca-f533-41f2-8149-285f77ceeaa9",
   "metadata": {},
   "outputs": [],
   "source": []
  },
  {
   "cell_type": "code",
   "execution_count": null,
   "id": "f9c9562d-1560-498b-8e66-f3125aa985e9",
   "metadata": {},
   "outputs": [],
   "source": []
  }
 ],
 "metadata": {
  "kernelspec": {
   "display_name": "Python 3 (ipykernel)",
   "language": "python",
   "name": "python3"
  },
  "language_info": {
   "codemirror_mode": {
    "name": "ipython",
    "version": 3
   },
   "file_extension": ".py",
   "mimetype": "text/x-python",
   "name": "python",
   "nbconvert_exporter": "python",
   "pygments_lexer": "ipython3",
   "version": "3.8.10"
  }
 },
 "nbformat": 4,
 "nbformat_minor": 5
}

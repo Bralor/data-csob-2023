{
 "cells": [
  {
   "cell_type": "markdown",
   "id": "5bf9c76b-d367-4d8c-b2c3-637743a839b6",
   "metadata": {
    "tags": []
   },
   "source": [
    "## Pátá lekce, návrh\n",
    "1. `numpy`,\n",
    "    - intro ke knihovně, jak s ní pracovat, kde, verze,\n",
    "    - rozdíl datových typů, list a integer,\n",
    "    - datové typy v Numpy,\n",
    "    - array v Pythonu, array v numpy, základy,jejich atributy,\n",
    "    - operace s maticemi, array,\n",
    "    - Ufunks,\n",
    "    - agregace.\n",
    "    \n",
    "2. Knihovna `numpy`.\n",
    "    - Co je to za knihovnu, proč ji mám znát?\n",
    "    - Základní datové typy, numpy array, co jsou zač, kde je jich potřeba?\n",
    "    - Performance rozdíly. Agregace, výpočty, srovnávání."
   ]
  },
  {
   "cell_type": "code",
   "execution_count": null,
   "id": "bbd25bb2-a5e4-4f58-a695-7960d97f1c41",
   "metadata": {},
   "outputs": [],
   "source": []
  },
  {
   "cell_type": "markdown",
   "id": "5afeae97-c579-49cc-95c4-4fe00e837cb6",
   "metadata": {
    "jp-MarkdownHeadingCollapsed": true,
    "tags": []
   },
   "source": [
    "### čtvrtá lekce\n",
    "\n",
    "2. `pandas` II.,\n",
    "    - file io, encoding, chybějící data,\n",
    "    - kombinace datasetů, concat, append, merge, join,\n",
    "    - časové řady, možná?\n",
    "    - eval() a query() jako high-perf operace."
   ]
  },
  {
   "cell_type": "code",
   "execution_count": null,
   "id": "62bd06d0-d494-4bba-99f9-8a140b5927b2",
   "metadata": {},
   "outputs": [],
   "source": []
  },
  {
   "cell_type": "markdown",
   "id": "c6ccdd4b-cd13-4e49-911e-cf2f0b14126e",
   "metadata": {},
   "source": [
    "### třetí lekce\n",
    "\n",
    "2. `pandas` I.,\n",
    "    - Úvod do frameworku, proč je dobré jej ovládat, kde s ním pracovat?\n",
    "    - jaké jsou základní datové typy? (Dframe, series, časové řady)\n",
    "    - základní orientace, indexování,"
   ]
  },
  {
   "cell_type": "markdown",
   "id": "b75ebf7f-2db8-4932-a425-ad2d687cd231",
   "metadata": {},
   "source": [
    "Lekce 1: Úvod do NumPy (3 hodiny)\n",
    "Úvod a motivace (20 minut)\n",
    "Proč používat NumPy?\n",
    "Přehled funkcí a výhod NumPy\n",
    "Instalace a import NumPy\n",
    "Základní datové struktury (50 minut)\n",
    "NumPy pole (ndarray)\n",
    "Vytváření NumPy polí (ručně, z Python seznamu, pomocí funkcí)\n",
    "Atributy ndarray (tvar, velikost, dimenze)\n",
    "Indexování a výběr dat (40 minut)\n",
    "Přístup k prvku pomocí indexu\n",
    "Řezání (slicing) a extrakce částí pole\n",
    "Boolovské indexování a filtrování\n",
    "Operace s NumPy poli (40 minut)\n",
    "Aritmetické operace a broadcasting\n",
    "Lineární algebra (skalární součin, maticový součin)\n",
    "Agregační funkce (min, max, sum, mean)\n",
    "Praktický příklad a cvičení (30 minut)\n",
    "Demonstrační příklad: zpracování reálných dat pomocí NumPy\n",
    "Individuální práce účastníků na cvičeních\n"
   ]
  },
  {
   "cell_type": "markdown",
   "id": "87f800a1-991a-44ad-b0b4-23def4e9e5a8",
   "metadata": {},
   "source": [
    "## Úvod do NUMPY\n",
    "\n",
    "---\n",
    "\n",
    "<img src=\"https://external-content.duckduckgo.com/iu/?u=https%3A%2F%2Ftse1.mm.bing.net%2Fth%3Fid%3DOIP.QQOtOJPya2YEO6IkVBnYjQHaDV%26pid%3DApi&f=1&ipt=245c27df971ff24527ca317988f6feda8b14851ef0a889fda7d5a10d114dc5e6&ipo=images\" width=\"300\" style=\"margin-left:auto; margin-right:auto\"/>"
   ]
  },
  {
   "cell_type": "markdown",
   "id": "a03c4e2b-21d8-4aff-a79b-bb1d02a08650",
   "metadata": {},
   "source": [
    "### Proč umět NUMPY\n",
    "\n",
    "---"
   ]
  },
  {
   "cell_type": "markdown",
   "id": "10a79337-1343-404a-bf8e-e6f6d6ac86d7",
   "metadata": {},
   "source": [
    "Je to univerzální knihovna pro práci **s numerickými daty** v jazyce Python.\n",
    "\n",
    "Funkcionalita této knihovny je využívána (skrze API) v jiných knihovnách jako *Pandas&, *SciPy*, *Matplotlib*, *scikit-learn*, *scikit-image*.\n",
    "\n",
    "Nabízí efektivní nástroje pro práci **s většími datovými strukturami**.\n",
    "\n",
    "Usnadńuje práci se vícerozměrnými poli a maticovými datovými strukturami."
   ]
  },
  {
   "cell_type": "markdown",
   "id": "9180b17d-7eca-4eec-b35c-5152f039c531",
   "metadata": {},
   "source": [
    "### Kde zjistit více informací\n",
    "\n",
    "---\n",
    "\n",
    "Dokumentaci najdeš [zde](https://numpy.org/doc/stable/index.html#).\n",
    "\n",
    "Zdrojový kód najdeš [zde](https://github.com/numpy/numpy)."
   ]
  },
  {
   "cell_type": "markdown",
   "id": "797453fd-9e6b-46ba-bacc-d9b4e8a7504d",
   "metadata": {},
   "source": [
    "### Jak jej nainstaluji\n",
    "\n",
    "---\n",
    "\n",
    "Instalace knihovny obecně (doporučeno v rámci virtuálního prostředí):"
   ]
  },
  {
   "cell_type": "code",
   "execution_count": null,
   "id": "5cc669ad-4f89-4402-9493-736d93afa24e",
   "metadata": {},
   "outputs": [],
   "source": [
    "!pip install numpy"
   ]
  },
  {
   "cell_type": "markdown",
   "id": "21f710be-0934-467d-bf8c-1948bf718229",
   "metadata": {},
   "source": [
    "...nebo:"
   ]
  },
  {
   "cell_type": "code",
   "execution_count": null,
   "id": "0f1359ba-1457-433e-92a3-6d7732178a0c",
   "metadata": {},
   "outputs": [],
   "source": [
    "!conda install numpy"
   ]
  },
  {
   "cell_type": "markdown",
   "id": "3da6af60-4096-4548-a68c-3f4d8aab4841",
   "metadata": {},
   "source": [
    "<br>\n",
    "\n",
    "Nahrávání knihovny:"
   ]
  },
  {
   "cell_type": "code",
   "execution_count": 1,
   "id": "60f81350-021d-4201-81d8-1ec70f325be3",
   "metadata": {
    "tags": []
   },
   "outputs": [],
   "source": [
    "import numpy"
   ]
  },
  {
   "cell_type": "code",
   "execution_count": null,
   "id": "b0a2a324-5024-402d-b011-0de99804fed6",
   "metadata": {},
   "outputs": [],
   "source": [
    "import numpy as np"
   ]
  },
  {
   "cell_type": "code",
   "execution_count": null,
   "id": "d4316ec0-64db-4a00-8939-74e54c12d590",
   "metadata": {},
   "outputs": [],
   "source": [
    "from numpy import array"
   ]
  },
  {
   "cell_type": "markdown",
   "id": "6c06c732-1862-474e-a411-52940c4f0129",
   "metadata": {},
   "source": [
    "<br>\n",
    "\n",
    "Používaná verze knihovny:"
   ]
  },
  {
   "cell_type": "code",
   "execution_count": 2,
   "id": "1259cdc6-196a-4f04-8eb3-7afe185cef68",
   "metadata": {
    "tags": []
   },
   "outputs": [
    {
     "data": {
      "text/plain": [
       "'1.24.2'"
      ]
     },
     "execution_count": 2,
     "metadata": {},
     "output_type": "execute_result"
    }
   ],
   "source": [
    "numpy.__version__"
   ]
  },
  {
   "cell_type": "markdown",
   "id": "228d1d39-8293-4478-b836-17d64ec6ebcc",
   "metadata": {},
   "source": [
    "### Srovnání datových typů s a bez\n",
    "\n",
    "---"
   ]
  },
  {
   "cell_type": "markdown",
   "id": "c027e5a2-173a-40b7-b3a5-e45194b4e804",
   "metadata": {},
   "source": [
    "Efektivní práce s daty si zakládá na tom, jak jsou data uložená.\n",
    "\n",
    "Proto je zásadní tušit jak objekty zpracovává **klasický Python** a `numpy`."
   ]
  },
  {
   "cell_type": "code",
   "execution_count": 3,
   "id": "889de9e2-1e74-46f8-ad91-573b9d4f7c8b",
   "metadata": {
    "tags": []
   },
   "outputs": [],
   "source": [
    "x = 10\n",
    "x = 10.0\n",
    "x = \"deset\""
   ]
  },
  {
   "cell_type": "markdown",
   "id": "6b3d4d5a-7007-40f6-9490-8e544ef2b8e9",
   "metadata": {},
   "source": [
    "*Dynamické typování* v Pythonu vypadá jako dobrý nápad.\n",
    "\n",
    "Přináší jistou flexibilitu a jednodušší používání.\n",
    "\n",
    "Také s sebou ovšem nese jisté povinnosti, které by obyčejná proměnná **neměla normálně zpracovávat**.\n",
    "\n",
    "V ukázce neukládáš pouze hodnoty, ale další doprovodné informace:\n",
    "* **počet referencí**, kvůli alokaci/dealokaci paměti,\n",
    "* **typ kódovací sady**,\n",
    "* **velikost** následujících dat."
   ]
  },
  {
   "cell_type": "markdown",
   "id": "8402bdfd-3b5b-4d72-bb24-f8805f630af4",
   "metadata": {},
   "source": [
    "#### LIST v Pythonu\n",
    "\n",
    "---"
   ]
  },
  {
   "cell_type": "code",
   "execution_count": 4,
   "id": "7fcf303c-44cb-4a09-b67c-4a1a0ba98025",
   "metadata": {
    "tags": []
   },
   "outputs": [],
   "source": [
    "muj_list = [10, 10.0, \"deset\"]"
   ]
  },
  {
   "cell_type": "code",
   "execution_count": 5,
   "id": "e1b28dcc-6b2e-48c7-bca0-567b597e08ee",
   "metadata": {
    "tags": []
   },
   "outputs": [],
   "source": [
    "datove_typy_listu = [type(hodnota) for hodnota in muj_list]"
   ]
  },
  {
   "cell_type": "code",
   "execution_count": 6,
   "id": "349d44cd-5515-4e32-9511-bb10215dace1",
   "metadata": {
    "tags": []
   },
   "outputs": [
    {
     "data": {
      "text/plain": [
       "[int, float, str]"
      ]
     },
     "execution_count": 6,
     "metadata": {},
     "output_type": "execute_result"
    }
   ],
   "source": [
    "datove_typy_listu"
   ]
  },
  {
   "cell_type": "markdown",
   "id": "373b248f-7258-4811-b5a0-7e98d43f8132",
   "metadata": {},
   "source": [
    "<br>\n",
    "\n",
    "Je jasné, že tento \"komfort\" sebou nese i svoji cenu.\n",
    "\n",
    "Protože toho každá hodnota s sebou nese další doplňující informace (datový typ, kódování, ...).\n",
    "\n",
    "I kdyby byly hodnoty stejného datové typu, přesto s sebou přenášejí řadu balastu.\n",
    "\n",
    "Tomu se snaží knihovna `numpy` pomáhat."
   ]
  },
  {
   "cell_type": "code",
   "execution_count": 7,
   "id": "59cf5c2d-4c04-49c0-8a2e-f6cc36eb5fd1",
   "metadata": {
    "tags": []
   },
   "outputs": [],
   "source": [
    "from numpy import array"
   ]
  },
  {
   "cell_type": "code",
   "execution_count": 17,
   "id": "b99aec33-731a-4261-86ad-18908957e51c",
   "metadata": {
    "tags": []
   },
   "outputs": [],
   "source": [
    "ciselne_pole = array(range(5))"
   ]
  },
  {
   "cell_type": "code",
   "execution_count": 23,
   "id": "997d6a37-a681-4f42-ac09-df9ad8623ae4",
   "metadata": {
    "tags": []
   },
   "outputs": [
    {
     "data": {
      "text/plain": [
       "array([0, 1, 2, 3, 4])"
      ]
     },
     "execution_count": 23,
     "metadata": {},
     "output_type": "execute_result"
    }
   ],
   "source": [
    "ciselne_pole"
   ]
  },
  {
   "cell_type": "code",
   "execution_count": 24,
   "id": "cca478fa-5220-4e01-94f4-308babd1df49",
   "metadata": {
    "tags": []
   },
   "outputs": [
    {
     "data": {
      "text/plain": [
       "dtype('int64')"
      ]
     },
     "execution_count": 24,
     "metadata": {},
     "output_type": "execute_result"
    }
   ],
   "source": [
    "ciselne_pole.dtype"
   ]
  },
  {
   "cell_type": "code",
   "execution_count": 25,
   "id": "1334e11e-39f3-4b03-816d-7ebcc218bced",
   "metadata": {
    "tags": []
   },
   "outputs": [
    {
     "data": {
      "text/plain": [
       "numpy.ndarray"
      ]
     },
     "execution_count": 25,
     "metadata": {},
     "output_type": "execute_result"
    }
   ],
   "source": [
    "type(ciselne_pole)"
   ]
  },
  {
   "cell_type": "markdown",
   "id": "024c53a4-1283-4ca0-b9ba-372e7e5dd107",
   "metadata": {
    "tags": []
   },
   "source": [
    "<br>\n",
    "\n",
    "Na rozdíl od datového typu`list` v jazyce Python, pole v `numpy` obsahují stejný datový typ.\n",
    "\n",
    "Pokud tomu tak není, `numpy` provede *upcast* (představ si datovou konverzi):"
   ]
  },
  {
   "cell_type": "code",
   "execution_count": 27,
   "id": "8e57d42a-7036-4093-a684-ed8be4d83dd9",
   "metadata": {
    "tags": []
   },
   "outputs": [],
   "source": [
    "mix_desetinne_cele_hodnoty = array((1, 2, 3, 3.1416))"
   ]
  },
  {
   "cell_type": "code",
   "execution_count": 28,
   "id": "30f4ede6-adaf-4e1f-a475-63b4735c7174",
   "metadata": {
    "tags": []
   },
   "outputs": [
    {
     "data": {
      "text/plain": [
       "array([1.    , 2.    , 3.    , 3.1416])"
      ]
     },
     "execution_count": 28,
     "metadata": {},
     "output_type": "execute_result"
    }
   ],
   "source": [
    "mix_desetinne_cele_hodnoty"
   ]
  },
  {
   "cell_type": "code",
   "execution_count": 29,
   "id": "2048a43f-3165-48ae-b9b9-567aa343353b",
   "metadata": {
    "tags": []
   },
   "outputs": [
    {
     "data": {
      "text/plain": [
       "dtype('float64')"
      ]
     },
     "execution_count": 29,
     "metadata": {},
     "output_type": "execute_result"
    }
   ],
   "source": [
    "mix_desetinne_cele_hodnoty.dtype"
   ]
  },
  {
   "cell_type": "markdown",
   "id": "0787c40a-cc78-4ce4-bb61-5b1e3c0219f8",
   "metadata": {
    "tags": []
   },
   "source": [
    "<br>\n",
    "\n",
    "Pokud potřebuješ dodržet konkrétní datový typ, použij explicitně *parametr* `dtype`:"
   ]
  },
  {
   "cell_type": "code",
   "execution_count": 33,
   "id": "6d3cdd43-186a-499b-abe8-b08d838a31e7",
   "metadata": {
    "tags": []
   },
   "outputs": [],
   "source": [
    "jen_desetinne = array((1, 2, 3, 3.1416), dtype=\"int64\")"
   ]
  },
  {
   "cell_type": "code",
   "execution_count": 34,
   "id": "eed15388-90e0-43c8-8c1f-e3b8a17048da",
   "metadata": {
    "tags": []
   },
   "outputs": [
    {
     "data": {
      "text/plain": [
       "array([1, 2, 3, 3])"
      ]
     },
     "execution_count": 34,
     "metadata": {},
     "output_type": "execute_result"
    }
   ],
   "source": [
    "jen_desetinne"
   ]
  },
  {
   "cell_type": "markdown",
   "id": "4b36c87f-c737-4150-a921-ab0ba64d5cf0",
   "metadata": {},
   "source": [
    "<br>\n",
    "\n",
    "`numpy` nabízí obrovskou škálu rychlých a efektivních způsobů vytváření polí a manipulace s číselnými daty v nich.\n",
    "\n",
    "Pracuje s homogenními sekvenčnímy objekty."
   ]
  },
  {
   "cell_type": "markdown",
   "id": "c92f1fbf-1315-4bda-93b0-5a776b5c5595",
   "metadata": {},
   "source": [
    "#### Proč používat NUMPY\n",
    "\n",
    "---\n",
    "\n",
    "Pole v `numpy` jsou rychlejší a kompaktnější než `list` v Pythonu.\n",
    "\n",
    "Pole spotřebovává **méně paměti a pohodlně se používá** (určení datových typů,..)."
   ]
  },
  {
   "cell_type": "markdown",
   "id": "3b0e3525-e7cd-4d0d-aa13-4d5ed79450b9",
   "metadata": {},
   "source": [
    "<br>\n",
    "\n",
    "## Základy NUMPY\n",
    "\n",
    "---"
   ]
  },
  {
   "cell_type": "markdown",
   "id": "c43c485f-b747-4855-86cc-c3ab9c3b5c69",
   "metadata": {},
   "source": [
    "Protože je `numpy` postaven na jazyku C, přebírá také podobné datové typy."
   ]
  },
  {
   "cell_type": "markdown",
   "id": "4ed5400e-9f41-4833-9b7e-943193792d30",
   "metadata": {},
   "source": [
    "Některé datové typy:\n",
    "    \n",
    "| Datový typ v `numpy` | Popis |\n",
    "| :- | :- |\n",
    "| `bool_` | boolean `True`, `False` |\n",
    "| `int16` | celá čísla (bajty od -32768 do 32767) |\n",
    "| `int32` | celá čísla (bajty od -2147483648 do 2147483647)) |\n",
    "| `int64` | celá čísla (bajty od -9223372036854775808 to 9223372036854775807) |\n",
    "| `float64` | desetinné čísla |\n",
    "| `complex64` | komplexní čísla, reprezentovaná dvěma 64-bitovými dese. čísly |"
   ]
  },
  {
   "cell_type": "markdown",
   "id": "25ceb501-37c4-4d98-b806-f37c1cfa79db",
   "metadata": {},
   "source": [
    "<br>\n",
    "\n",
    "Dále `numpy` poskytuje `array` objekty.\n",
    "\n",
    "Ty slouží jako prostředky pro elegantní manipulaci s daty (znáš z `pandas`).\n",
    "\n",
    "Základní operace pro `array`:\n",
    "* **atributy**,\n",
    "* **indexování**,\n",
    "* **řezání**,\n",
    "* **RESHAPE**,\n",
    "* **JOIN** a **MERGE**."
   ]
  },
  {
   "cell_type": "markdown",
   "id": "e1fc6f7c-a6c1-46ae-971b-17a3be80db8c",
   "metadata": {},
   "source": [
    "### Vytvoření ARRAY\n",
    "\n",
    "---"
   ]
  },
  {
   "cell_type": "code",
   "execution_count": 35,
   "id": "ac47c679-35fc-4f99-9175-e51270d40ad0",
   "metadata": {
    "tags": []
   },
   "outputs": [],
   "source": [
    "import numpy as np"
   ]
  },
  {
   "cell_type": "markdown",
   "id": "a74d0883-f39a-40c9-ac97-93dc70b68be3",
   "metadata": {},
   "source": [
    "<br>\n",
    "\n",
    "##### Pomocí built-in sekvencí"
   ]
  },
  {
   "cell_type": "code",
   "execution_count": 54,
   "id": "4966f05e-27aa-498c-876c-33cf8effb066",
   "metadata": {
    "tags": []
   },
   "outputs": [],
   "source": [
    "muj_range = range(3)\n",
    "muj_list = [3, 4, 5]\n",
    "muj_tuple = (6, 7, 8)"
   ]
  },
  {
   "cell_type": "code",
   "execution_count": 55,
   "id": "b7d9ebc6-7fd0-46a5-8183-29e1180a7a84",
   "metadata": {
    "tags": []
   },
   "outputs": [],
   "source": [
    "muj_list_arr = np.array(muj_list)\n",
    "muj_tuple_arr = np.array(muj_tuple)\n",
    "muj_range_arr = np.array(muj_range)"
   ]
  },
  {
   "cell_type": "code",
   "execution_count": 56,
   "id": "7eb4f4bf-deec-4c96-b53a-760bb7344382",
   "metadata": {
    "tags": []
   },
   "outputs": [
    {
     "data": {
      "text/plain": [
       "array([0, 1, 2])"
      ]
     },
     "execution_count": 56,
     "metadata": {},
     "output_type": "execute_result"
    }
   ],
   "source": [
    "muj_range_arr"
   ]
  },
  {
   "cell_type": "code",
   "execution_count": 57,
   "id": "835530d7-51b3-4eef-b299-f9b61b348e5c",
   "metadata": {
    "tags": []
   },
   "outputs": [
    {
     "data": {
      "text/plain": [
       "array([3, 4, 5])"
      ]
     },
     "execution_count": 57,
     "metadata": {},
     "output_type": "execute_result"
    }
   ],
   "source": [
    "muj_list_arr"
   ]
  },
  {
   "cell_type": "code",
   "execution_count": 58,
   "id": "ed01744c-3be9-43c3-b949-c37a4aa98cb4",
   "metadata": {
    "tags": []
   },
   "outputs": [
    {
     "data": {
      "text/plain": [
       "array([6, 7, 8])"
      ]
     },
     "execution_count": 58,
     "metadata": {},
     "output_type": "execute_result"
    }
   ],
   "source": [
    "muj_tuple_arr"
   ]
  },
  {
   "cell_type": "markdown",
   "id": "98b5530f-8948-4ab5-ad8d-3b8fd4606186",
   "metadata": {},
   "source": [
    "<br>\n",
    "\n",
    "##### Pomocí nul"
   ]
  },
  {
   "cell_type": "code",
   "execution_count": 63,
   "id": "ece16619-6b78-4b0c-96b9-b58f71f9be52",
   "metadata": {
    "tags": []
   },
   "outputs": [],
   "source": [
    "jen_nuly = np.zeros(5)"
   ]
  },
  {
   "cell_type": "code",
   "execution_count": 64,
   "id": "c89b1ca1-9bb7-4517-8554-5f6c72c6fe62",
   "metadata": {
    "tags": []
   },
   "outputs": [
    {
     "data": {
      "text/plain": [
       "array([0., 0., 0., 0., 0.])"
      ]
     },
     "execution_count": 64,
     "metadata": {},
     "output_type": "execute_result"
    }
   ],
   "source": [
    "jen_nuly"
   ]
  },
  {
   "cell_type": "markdown",
   "id": "6bbb5c10-f4fd-4ee0-b6f9-cf13acf4068c",
   "metadata": {},
   "source": [
    "<br>\n",
    "\n",
    "##### Pomocí jedniček"
   ]
  },
  {
   "cell_type": "code",
   "execution_count": 68,
   "id": "56879585-d91d-40bf-9c52-fbe471991acb",
   "metadata": {
    "tags": []
   },
   "outputs": [],
   "source": [
    "jen_jednicky = np.ones(shape=(2, 3))"
   ]
  },
  {
   "cell_type": "code",
   "execution_count": 70,
   "id": "5b0b2a9b-37bf-4e8a-90f3-18f15bc6e95c",
   "metadata": {
    "tags": []
   },
   "outputs": [],
   "source": [
    "# np.ones?"
   ]
  },
  {
   "cell_type": "code",
   "execution_count": 69,
   "id": "ffd9b284-0cc1-43e7-bc0c-7c7bc0c39700",
   "metadata": {
    "tags": []
   },
   "outputs": [
    {
     "data": {
      "text/plain": [
       "array([[1., 1., 1.],\n",
       "       [1., 1., 1.]])"
      ]
     },
     "execution_count": 69,
     "metadata": {},
     "output_type": "execute_result"
    }
   ],
   "source": [
    "jen_jednicky"
   ]
  },
  {
   "cell_type": "markdown",
   "id": "8d0b9884-1465-4a80-9c8f-50d2308ff57f",
   "metadata": {},
   "source": [
    "<br>\n",
    "\n",
    "##### Pomocí defaultní výplňové hodnoty"
   ]
  },
  {
   "cell_type": "code",
   "execution_count": 73,
   "id": "644e1a29-9a68-4f82-a976-1f9016089791",
   "metadata": {
    "tags": []
   },
   "outputs": [],
   "source": [
    "from math import pi"
   ]
  },
  {
   "cell_type": "code",
   "execution_count": 73,
   "id": "dd91576c-a24c-4927-9ec1-f745436bdf1a",
   "metadata": {
    "tags": []
   },
   "outputs": [],
   "source": [
    "jen_pi = np.full(shape=(2, 2), fill_value=pi)"
   ]
  },
  {
   "cell_type": "code",
   "execution_count": 74,
   "id": "76338ae5-7a7a-43ce-b3a2-c608d104bf61",
   "metadata": {
    "tags": []
   },
   "outputs": [
    {
     "data": {
      "text/plain": [
       "array([[3.14159265, 3.14159265],\n",
       "       [3.14159265, 3.14159265]])"
      ]
     },
     "execution_count": 74,
     "metadata": {},
     "output_type": "execute_result"
    }
   ],
   "source": [
    "jen_pi"
   ]
  },
  {
   "cell_type": "markdown",
   "id": "2bc1efb8-43bf-425c-a478-73e2e3926378",
   "metadata": {},
   "source": [
    "<br>\n",
    "\n",
    "##### Pomocí rozsahů"
   ]
  },
  {
   "cell_type": "code",
   "execution_count": 76,
   "id": "12799a04-1bb1-48e3-b5a4-0a7d85c1e714",
   "metadata": {
    "tags": []
   },
   "outputs": [],
   "source": [
    "interval_arr = np.arange(start=0, stop=10, step=2)"
   ]
  },
  {
   "cell_type": "code",
   "execution_count": 77,
   "id": "15554662-36af-4efe-972f-27c546ce37e2",
   "metadata": {
    "tags": []
   },
   "outputs": [
    {
     "data": {
      "text/plain": [
       "array([0, 2, 4, 6, 8])"
      ]
     },
     "execution_count": 77,
     "metadata": {},
     "output_type": "execute_result"
    }
   ],
   "source": [
    "interval_arr"
   ]
  },
  {
   "cell_type": "markdown",
   "id": "cacccbcc-151f-4b11-8243-70ba48ffdce3",
   "metadata": {},
   "source": [
    "<br>\n",
    "\n",
    "##### Pomocí náhodných celých čísel"
   ]
  },
  {
   "cell_type": "code",
   "execution_count": 83,
   "id": "1cde9e06-0b90-4734-94f1-1e37e4ecaaf6",
   "metadata": {
    "tags": []
   },
   "outputs": [],
   "source": [
    "random_hodnoty = np.random.randint(low=0, high=6, size=(3, 3))"
   ]
  },
  {
   "cell_type": "code",
   "execution_count": 84,
   "id": "e2689bf5-fa54-4a4e-b4be-713b4a2f83bf",
   "metadata": {
    "tags": []
   },
   "outputs": [
    {
     "data": {
      "text/plain": [
       "array([[4, 0, 5],\n",
       "       [1, 1, 3],\n",
       "       [0, 1, 4]])"
      ]
     },
     "execution_count": 84,
     "metadata": {},
     "output_type": "execute_result"
    }
   ],
   "source": [
    "random_hodnoty"
   ]
  },
  {
   "cell_type": "markdown",
   "id": "fbe8f7f4-e536-4b5e-948d-6d3ba6853291",
   "metadata": {},
   "source": [
    "<br>\n",
    "\n",
    "##### Jednodimenzionální"
   ]
  },
  {
   "cell_type": "code",
   "execution_count": 38,
   "id": "028d3727-49b5-4158-923f-fa11cf656949",
   "metadata": {
    "tags": []
   },
   "outputs": [],
   "source": [
    "m1 = np.random.randint(10, size=6)"
   ]
  },
  {
   "cell_type": "code",
   "execution_count": 39,
   "id": "65c6a5a0-ebda-4c14-a7a7-e0b6a36893a6",
   "metadata": {
    "tags": []
   },
   "outputs": [
    {
     "data": {
      "text/plain": [
       "array([9, 2, 3, 2, 5, 8])"
      ]
     },
     "execution_count": 39,
     "metadata": {},
     "output_type": "execute_result"
    }
   ],
   "source": [
    "m1"
   ]
  },
  {
   "cell_type": "markdown",
   "id": "4abea888-71a7-4967-9086-6c343fa53f2d",
   "metadata": {},
   "source": [
    "<br>\n",
    "\n",
    "Tedy prakticky jednoduché pole, které se na první pohled neliší tolik od `list`."
   ]
  },
  {
   "cell_type": "markdown",
   "id": "b41162fd-213a-437f-afba-8e9f376f3372",
   "metadata": {
    "tags": []
   },
   "source": [
    "##### Dvoudimenzionální"
   ]
  },
  {
   "cell_type": "code",
   "execution_count": 42,
   "id": "ae337020-3866-4356-89bb-e063283a3f19",
   "metadata": {
    "tags": []
   },
   "outputs": [],
   "source": [
    "m2 = np.random.randint(10, size=(2, 3))"
   ]
  },
  {
   "cell_type": "code",
   "execution_count": 43,
   "id": "fe181acd-5503-405f-9ce3-49f0c1e78aec",
   "metadata": {
    "tags": []
   },
   "outputs": [
    {
     "data": {
      "text/plain": [
       "array([[3, 2, 9],\n",
       "       [5, 4, 3]])"
      ]
     },
     "execution_count": 43,
     "metadata": {},
     "output_type": "execute_result"
    }
   ],
   "source": [
    "m2"
   ]
  },
  {
   "cell_type": "markdown",
   "id": "ba3bce62-303c-44ac-b083-544dcb6f8a57",
   "metadata": {},
   "source": [
    "<br>\n",
    "\n",
    "Definicí oznamuješ:\n",
    "1. `10`, vyber náhodné celé čísla z intervalu `0-9`,\n",
    "2. vytvoř **2 řádky**,\n",
    "3. .. o **3 sloupcích**."
   ]
  },
  {
   "cell_type": "markdown",
   "id": "50617b42-f6d7-4f46-93b6-f29669a14476",
   "metadata": {
    "tags": []
   },
   "source": [
    "##### Třídimenzionální"
   ]
  },
  {
   "cell_type": "code",
   "execution_count": 44,
   "id": "fee8115a-c379-48dd-86e5-591441801904",
   "metadata": {
    "tags": []
   },
   "outputs": [],
   "source": [
    "m3 = np.random.randint(10, size=(2, 3, 4))"
   ]
  },
  {
   "cell_type": "code",
   "execution_count": 45,
   "id": "64ec9beb-c137-4bf1-9267-5f46fbfadcd6",
   "metadata": {
    "tags": []
   },
   "outputs": [
    {
     "data": {
      "text/plain": [
       "array([[[0, 8, 9, 2],\n",
       "        [7, 8, 6, 6],\n",
       "        [1, 9, 0, 6]],\n",
       "\n",
       "       [[2, 2, 8, 9],\n",
       "        [6, 1, 3, 5],\n",
       "        [0, 8, 6, 3]]])"
      ]
     },
     "execution_count": 45,
     "metadata": {},
     "output_type": "execute_result"
    }
   ],
   "source": [
    "m3"
   ]
  },
  {
   "cell_type": "markdown",
   "id": "9aa46537-c457-43c5-990d-f7367adc737a",
   "metadata": {},
   "source": [
    "<br>\n",
    "\n",
    "Definicí oznamuješ:\n",
    "1. `10`, vyber náhodné celé čísla z intervalu `0-9`,\n",
    "2. vytvoř **2 matice**,\n",
    "3. .. o **3 řádcích**,\n",
    "4. .. a **4 sloupcích**."
   ]
  },
  {
   "cell_type": "markdown",
   "id": "98baf75b-7133-49b3-a6de-a6b49f54674d",
   "metadata": {},
   "source": [
    "<br>\n",
    "\n",
    "### Atributy pro ARRAY\n",
    "\n",
    "---\n",
    "\n"
   ]
  },
  {
   "cell_type": "markdown",
   "id": "fbe914ea-0473-48b9-81cc-09c57ad0286d",
   "metadata": {},
   "source": [
    "Pokud budeš potřebovat prozkoumat existující `array`, můžeš vyzkoušet tyto atributy a metody:\n",
    "1. **Dimenze**,\n",
    "2. **tvar**,\n",
    "3. **velikost**,\n",
    "4. **datové typy**,\n",
    "5. **bajtová velikost**."
   ]
  },
  {
   "cell_type": "markdown",
   "id": "88acdfef-0ce5-4a06-86ab-0dfe96245970",
   "metadata": {},
   "source": [
    "##### Dimenze matice"
   ]
  },
  {
   "cell_type": "code",
   "execution_count": 92,
   "id": "eace91e6-bd40-4ebf-a7d7-d872bcdf9b13",
   "metadata": {
    "tags": []
   },
   "outputs": [
    {
     "data": {
      "text/plain": [
       "3"
      ]
     },
     "execution_count": 92,
     "metadata": {},
     "output_type": "execute_result"
    }
   ],
   "source": [
    "m3.ndim"
   ]
  },
  {
   "cell_type": "markdown",
   "id": "ef2658d0-f36e-488c-89aa-6fea5ee53d21",
   "metadata": {},
   "source": [
    "<br>\n",
    "\n",
    "##### Tvar matice"
   ]
  },
  {
   "cell_type": "code",
   "execution_count": 86,
   "id": "4ff953d9-8275-4a7e-b9d4-525da790c058",
   "metadata": {
    "tags": []
   },
   "outputs": [
    {
     "data": {
      "text/plain": [
       "(2, 3, 4)"
      ]
     },
     "execution_count": 86,
     "metadata": {},
     "output_type": "execute_result"
    }
   ],
   "source": [
    "m3.shape"
   ]
  },
  {
   "cell_type": "markdown",
   "id": "7baa93da-6f15-4f89-89b7-aec3b329e604",
   "metadata": {},
   "source": [
    "<br>\n",
    "\n",
    "##### Velikost matice"
   ]
  },
  {
   "cell_type": "code",
   "execution_count": 87,
   "id": "819b137e-696a-4f33-a30b-7a58fb8df450",
   "metadata": {
    "tags": []
   },
   "outputs": [
    {
     "data": {
      "text/plain": [
       "24"
      ]
     },
     "execution_count": 87,
     "metadata": {},
     "output_type": "execute_result"
    }
   ],
   "source": [
    "m3.size"
   ]
  },
  {
   "cell_type": "markdown",
   "id": "36e828a7-775d-495a-b399-b2ec7a915795",
   "metadata": {},
   "source": [
    "<br>\n",
    "\n",
    "##### Datový typ"
   ]
  },
  {
   "cell_type": "code",
   "execution_count": 93,
   "id": "61453d44-7475-4615-a9ca-23e3f7d218fe",
   "metadata": {
    "tags": []
   },
   "outputs": [
    {
     "data": {
      "text/plain": [
       "dtype('int64')"
      ]
     },
     "execution_count": 93,
     "metadata": {},
     "output_type": "execute_result"
    }
   ],
   "source": [
    "m3.dtype"
   ]
  },
  {
   "cell_type": "markdown",
   "id": "bd255979-9bbb-41c1-a0b9-715ef2d00d14",
   "metadata": {},
   "source": [
    "<br>\n",
    "\n",
    "##### Velikost v bajtech"
   ]
  },
  {
   "cell_type": "code",
   "execution_count": 99,
   "id": "f8861b88-64b9-461d-b052-eb1767a7d944",
   "metadata": {
    "tags": []
   },
   "outputs": [
    {
     "data": {
      "text/plain": [
       "192"
      ]
     },
     "execution_count": 99,
     "metadata": {},
     "output_type": "execute_result"
    }
   ],
   "source": [
    "m3.nbytes"
   ]
  },
  {
   "cell_type": "markdown",
   "id": "df070749-9502-487c-a895-873b8fbbcdb4",
   "metadata": {},
   "source": [
    "<br>\n",
    "\n",
    "Jde o součin atributů **size** * **itemsize**."
   ]
  },
  {
   "cell_type": "markdown",
   "id": "1cf3cd73-0852-41fd-af4e-7ad2b63ab2f2",
   "metadata": {},
   "source": [
    "<br>\n",
    "\n",
    "### Indexování ARRAY\n",
    "\n",
    "---\n",
    "\n"
   ]
  },
  {
   "cell_type": "markdown",
   "id": "aa376451-ccf4-4bef-85ff-aa4b85ac6588",
   "metadata": {},
   "source": [
    "Postup vypadá podobně jako pro sekvenční datové typy v Pythonu.\n",
    "\n",
    "Pomocí hranaté závorky a celého čísla, můžeš zpřístupnit konkrétní hodnotu/ hodnoty."
   ]
  },
  {
   "cell_type": "markdown",
   "id": "6b4c7594-1c9f-4dde-bcfa-9f1d2e5b0854",
   "metadata": {},
   "source": [
    "<br>\n",
    "\n",
    "##### Jednodimenzionální"
   ]
  },
  {
   "cell_type": "code",
   "execution_count": 101,
   "id": "c13585e4-4204-4fef-a41d-f42ddb6e9be8",
   "metadata": {
    "tags": []
   },
   "outputs": [
    {
     "data": {
      "text/plain": [
       "array([9, 2, 3, 2, 5, 8])"
      ]
     },
     "execution_count": 101,
     "metadata": {},
     "output_type": "execute_result"
    }
   ],
   "source": [
    "m1"
   ]
  },
  {
   "cell_type": "code",
   "execution_count": 102,
   "id": "31516677-d6db-4075-99e2-c20fe102eb18",
   "metadata": {
    "tags": []
   },
   "outputs": [
    {
     "data": {
      "text/plain": [
       "9"
      ]
     },
     "execution_count": 102,
     "metadata": {},
     "output_type": "execute_result"
    }
   ],
   "source": [
    "m1[0]"
   ]
  },
  {
   "cell_type": "code",
   "execution_count": 103,
   "id": "dc89440c-a552-49df-b8ec-07629b2a5d4e",
   "metadata": {
    "tags": []
   },
   "outputs": [
    {
     "data": {
      "text/plain": [
       "2"
      ]
     },
     "execution_count": 103,
     "metadata": {},
     "output_type": "execute_result"
    }
   ],
   "source": [
    "m1[1]"
   ]
  },
  {
   "cell_type": "code",
   "execution_count": 104,
   "id": "53fb2abe-1dd3-4ad6-a0ae-a37dcfa681c1",
   "metadata": {
    "tags": []
   },
   "outputs": [
    {
     "data": {
      "text/plain": [
       "8"
      ]
     },
     "execution_count": 104,
     "metadata": {},
     "output_type": "execute_result"
    }
   ],
   "source": [
    "m1[-1]"
   ]
  },
  {
   "cell_type": "markdown",
   "id": "cfb303f3-3df2-48c3-9088-05d371f28964",
   "metadata": {},
   "source": [
    "<br>\n",
    "\n",
    "##### Dvoudimenzionální"
   ]
  },
  {
   "cell_type": "code",
   "execution_count": 106,
   "id": "2a0bbdfd-7738-4165-9d84-1e96e59d71c5",
   "metadata": {
    "tags": []
   },
   "outputs": [
    {
     "data": {
      "text/plain": [
       "array([[3, 2, 9],\n",
       "       [5, 4, 3]])"
      ]
     },
     "execution_count": 106,
     "metadata": {},
     "output_type": "execute_result"
    }
   ],
   "source": [
    "m2"
   ]
  },
  {
   "cell_type": "code",
   "execution_count": 105,
   "id": "255eb512-bcd6-4885-b261-3807afaf3c9d",
   "metadata": {
    "tags": []
   },
   "outputs": [
    {
     "data": {
      "text/plain": [
       "array([3, 2, 9])"
      ]
     },
     "execution_count": 105,
     "metadata": {},
     "output_type": "execute_result"
    }
   ],
   "source": [
    "m2[0]"
   ]
  },
  {
   "cell_type": "code",
   "execution_count": 108,
   "id": "f6c8e12c-40c8-4ad5-8d82-453aa5522273",
   "metadata": {
    "tags": []
   },
   "outputs": [
    {
     "data": {
      "text/plain": [
       "3"
      ]
     },
     "execution_count": 108,
     "metadata": {},
     "output_type": "execute_result"
    }
   ],
   "source": [
    "m2[0][0]"
   ]
  },
  {
   "cell_type": "code",
   "execution_count": 109,
   "id": "50a14692-f7d2-437f-8a68-32a7efc6d8c8",
   "metadata": {
    "tags": []
   },
   "outputs": [
    {
     "data": {
      "text/plain": [
       "3"
      ]
     },
     "execution_count": 109,
     "metadata": {},
     "output_type": "execute_result"
    }
   ],
   "source": [
    "m2[0, 0]"
   ]
  },
  {
   "cell_type": "markdown",
   "id": "8b93d058-5266-4329-9fc7-e749dce45c56",
   "metadata": {},
   "source": [
    "<br>\n",
    "\n",
    "Pomocí indexů zpřístupníš hodnotu na konkrétní pozici a můžeš ji modifikovat:"
   ]
  },
  {
   "cell_type": "code",
   "execution_count": 110,
   "id": "441633bf-9a75-4f72-8db2-dfd02eb2fc33",
   "metadata": {
    "tags": []
   },
   "outputs": [],
   "source": [
    "m2[0, 0] = 11"
   ]
  },
  {
   "cell_type": "code",
   "execution_count": 111,
   "id": "38633021-274a-45c9-bc65-156ed1db62d4",
   "metadata": {
    "tags": []
   },
   "outputs": [
    {
     "data": {
      "text/plain": [
       "array([[11,  2,  9],\n",
       "       [ 5,  4,  3]])"
      ]
     },
     "execution_count": 111,
     "metadata": {},
     "output_type": "execute_result"
    }
   ],
   "source": [
    "m2"
   ]
  },
  {
   "cell_type": "markdown",
   "id": "dfdc5455-d57f-44a6-ab1c-0ba176161849",
   "metadata": {},
   "source": [
    "<br>\n",
    "\n",
    "Dávej pozor na datové typy. Pokud budeš chtít přidat jiný datový typ:"
   ]
  },
  {
   "cell_type": "code",
   "execution_count": 112,
   "id": "3f21ab0a-35c1-452b-8e30-9ec59f93b318",
   "metadata": {
    "tags": []
   },
   "outputs": [],
   "source": [
    "m2[0, 0] = 11.11"
   ]
  },
  {
   "cell_type": "code",
   "execution_count": 113,
   "id": "37196afb-99ce-452b-8874-85ffc467518f",
   "metadata": {
    "tags": []
   },
   "outputs": [
    {
     "data": {
      "text/plain": [
       "array([[11,  2,  9],\n",
       "       [ 5,  4,  3]])"
      ]
     },
     "execution_count": 113,
     "metadata": {},
     "output_type": "execute_result"
    }
   ],
   "source": [
    "m2"
   ]
  },
  {
   "cell_type": "markdown",
   "id": "a96124d0-f9f0-441a-a7a8-77c4bb3e5164",
   "metadata": {},
   "source": [
    "Výsledek bude na pozadí *truncatovaný*."
   ]
  },
  {
   "cell_type": "code",
   "execution_count": 115,
   "id": "b6a80f30-c80e-46ef-a59d-f670109e9181",
   "metadata": {
    "tags": []
   },
   "outputs": [
    {
     "ename": "ValueError",
     "evalue": "invalid literal for int() with base 10: 'jedenct'",
     "output_type": "error",
     "traceback": [
      "\u001b[0;31m---------------------------------------------------------------------------\u001b[0m",
      "\u001b[0;31mValueError\u001b[0m                                Traceback (most recent call last)",
      "Cell \u001b[0;32mIn[115], line 1\u001b[0m\n\u001b[0;32m----> 1\u001b[0m \u001b[43mm2\u001b[49m\u001b[43m[\u001b[49m\u001b[38;5;241;43m0\u001b[39;49m\u001b[43m,\u001b[49m\u001b[43m \u001b[49m\u001b[38;5;241;43m0\u001b[39;49m\u001b[43m]\u001b[49m \u001b[38;5;241m=\u001b[39m \u001b[38;5;124m\"\u001b[39m\u001b[38;5;124mjedenct\u001b[39m\u001b[38;5;124m\"\u001b[39m\n",
      "\u001b[0;31mValueError\u001b[0m: invalid literal for int() with base 10: 'jedenct'"
     ]
    }
   ],
   "source": [
    "m2[0, 0] = \"jedenct\""
   ]
  },
  {
   "cell_type": "code",
   "execution_count": null,
   "id": "d889fa04-8f98-4dd4-a206-9b1ed15d82cf",
   "metadata": {},
   "outputs": [],
   "source": []
  },
  {
   "cell_type": "code",
   "execution_count": 116,
   "id": "b77cfdb2-16a8-41e8-8401-4fe24b6a1509",
   "metadata": {
    "tags": []
   },
   "outputs": [],
   "source": [
    "from pandas import DataFrame"
   ]
  },
  {
   "cell_type": "code",
   "execution_count": 123,
   "id": "36ff3246-3f86-42b0-a922-524a1c6e54ae",
   "metadata": {
    "tags": []
   },
   "outputs": [],
   "source": [
    "zeme_df = DataFrame(\n",
    "    data=[[11, 79], [66, 243], [196, 924]],\n",
    "    index=[\"CZE\", \"UK\", \"Nigeria\"],\n",
    "    columns=[\"population\", \"surface_area\"]\n",
    ")"
   ]
  },
  {
   "cell_type": "code",
   "execution_count": 124,
   "id": "63f6615c-065f-423a-baa8-f842623123d4",
   "metadata": {
    "tags": []
   },
   "outputs": [
    {
     "data": {
      "text/html": [
       "<div>\n",
       "<style scoped>\n",
       "    .dataframe tbody tr th:only-of-type {\n",
       "        vertical-align: middle;\n",
       "    }\n",
       "\n",
       "    .dataframe tbody tr th {\n",
       "        vertical-align: top;\n",
       "    }\n",
       "\n",
       "    .dataframe thead th {\n",
       "        text-align: right;\n",
       "    }\n",
       "</style>\n",
       "<table border=\"1\" class=\"dataframe\">\n",
       "  <thead>\n",
       "    <tr style=\"text-align: right;\">\n",
       "      <th></th>\n",
       "      <th>population</th>\n",
       "      <th>surface_area</th>\n",
       "    </tr>\n",
       "  </thead>\n",
       "  <tbody>\n",
       "    <tr>\n",
       "      <th>CZE</th>\n",
       "      <td>11</td>\n",
       "      <td>79</td>\n",
       "    </tr>\n",
       "    <tr>\n",
       "      <th>UK</th>\n",
       "      <td>66</td>\n",
       "      <td>243</td>\n",
       "    </tr>\n",
       "    <tr>\n",
       "      <th>Nigeria</th>\n",
       "      <td>196</td>\n",
       "      <td>924</td>\n",
       "    </tr>\n",
       "  </tbody>\n",
       "</table>\n",
       "</div>"
      ],
      "text/plain": [
       "         population  surface_area\n",
       "CZE              11            79\n",
       "UK               66           243\n",
       "Nigeria         196           924"
      ]
     },
     "execution_count": 124,
     "metadata": {},
     "output_type": "execute_result"
    }
   ],
   "source": [
    "zeme_df"
   ]
  },
  {
   "cell_type": "code",
   "execution_count": 125,
   "id": "a75f1fe5-d933-4a80-a5a9-9eb4e0788bae",
   "metadata": {
    "tags": []
   },
   "outputs": [],
   "source": [
    "zeme_arr = np.array(zeme_df)"
   ]
  },
  {
   "cell_type": "code",
   "execution_count": 126,
   "id": "527846f4-7738-4831-a192-db6a6e0ddef9",
   "metadata": {
    "tags": []
   },
   "outputs": [
    {
     "data": {
      "text/plain": [
       "array([[ 11,  79],\n",
       "       [ 66, 243],\n",
       "       [196, 924]])"
      ]
     },
     "execution_count": 126,
     "metadata": {},
     "output_type": "execute_result"
    }
   ],
   "source": [
    "zeme_arr"
   ]
  },
  {
   "cell_type": "code",
   "execution_count": null,
   "id": "2d83580b-9651-4444-afb6-2747bc70eac3",
   "metadata": {},
   "outputs": [],
   "source": []
  },
  {
   "cell_type": "markdown",
   "id": "416e803a-329b-4da1-84ff-224b550515b4",
   "metadata": {},
   "source": [
    "<br>\n",
    "\n",
    "### Slicing ARRAY\n",
    "\n",
    "---\n",
    "\n"
   ]
  },
  {
   "cell_type": "markdown",
   "id": "0879559b-e45e-4226-ab3c-4c395e7f2619",
   "metadata": {},
   "source": [
    "Podobně jako u zpřístupňování jednotlivých hodnot, můžeš tvořit *subarrays*.\n",
    "\n",
    "Postup je opět velmi podobný pro *slicing* u sekvenčních hodnot."
   ]
  },
  {
   "cell_type": "markdown",
   "id": "1770ef55-a20a-484a-94b0-fd9045040bd1",
   "metadata": {},
   "source": [
    "Je doporučené udávat všechny argumenty, protože implicitní dosazování defaultních hodnot může mást uživatele."
   ]
  },
  {
   "cell_type": "code",
   "execution_count": 127,
   "id": "0329c7bd-2e8d-49ee-9665-8c7c30ee1bd6",
   "metadata": {
    "tags": []
   },
   "outputs": [
    {
     "data": {
      "text/plain": [
       "array([[ 11,  79],\n",
       "       [ 66, 243],\n",
       "       [196, 924]])"
      ]
     },
     "execution_count": 127,
     "metadata": {},
     "output_type": "execute_result"
    }
   ],
   "source": [
    "zeme_arr"
   ]
  },
  {
   "cell_type": "code",
   "execution_count": 130,
   "id": "a938e821-4a87-4031-a37b-10b0ae786a2d",
   "metadata": {
    "tags": []
   },
   "outputs": [
    {
     "data": {
      "text/plain": [
       "array([[ 11,  79],\n",
       "       [ 66, 243]])"
      ]
     },
     "execution_count": 130,
     "metadata": {},
     "output_type": "execute_result"
    }
   ],
   "source": [
    "zeme_arr[0:2]"
   ]
  },
  {
   "cell_type": "code",
   "execution_count": 135,
   "id": "dcf5436d-7789-402d-95e5-09457597434f",
   "metadata": {
    "tags": []
   },
   "outputs": [
    {
     "data": {
      "text/plain": [
       "array([[ 66, 243],\n",
       "       [196, 924]])"
      ]
     },
     "execution_count": 135,
     "metadata": {},
     "output_type": "execute_result"
    }
   ],
   "source": [
    "zeme_arr[-2:]"
   ]
  },
  {
   "cell_type": "markdown",
   "id": "d35b1d77-d54b-47f0-bcac-a26c684a563e",
   "metadata": {},
   "source": [
    "<br>\n",
    "\n",
    "Pro více dimenzí, dva řádky a jeden sloupec:"
   ]
  },
  {
   "cell_type": "code",
   "execution_count": 136,
   "id": "1df07173-3038-4628-a7e1-0c90196a73d1",
   "metadata": {
    "tags": []
   },
   "outputs": [],
   "source": [
    "dva_radky_jeden_sloupec = zeme_arr[:2, :1]"
   ]
  },
  {
   "cell_type": "code",
   "execution_count": 137,
   "id": "fb1f20c4-9c41-45e9-9d64-a20ad0ea5a4b",
   "metadata": {
    "tags": []
   },
   "outputs": [
    {
     "data": {
      "text/plain": [
       "array([[11],\n",
       "       [66]])"
      ]
     },
     "execution_count": 137,
     "metadata": {},
     "output_type": "execute_result"
    }
   ],
   "source": [
    "dva_radky_jeden_sloupec"
   ]
  },
  {
   "cell_type": "code",
   "execution_count": 138,
   "id": "0ccc32e6-84fe-49f4-a4ba-f5ef523eddea",
   "metadata": {
    "tags": []
   },
   "outputs": [],
   "source": [
    "dva_radky_jeden_sloupec = zeme_arr[::2, :1]"
   ]
  },
  {
   "cell_type": "code",
   "execution_count": 139,
   "id": "cbed3652-802a-4629-83e2-7ed444633189",
   "metadata": {
    "tags": []
   },
   "outputs": [
    {
     "data": {
      "text/plain": [
       "array([[ 11],\n",
       "       [196]])"
      ]
     },
     "execution_count": 139,
     "metadata": {},
     "output_type": "execute_result"
    }
   ],
   "source": [
    "dva_radky_jeden_sloupec"
   ]
  },
  {
   "cell_type": "markdown",
   "id": "d72b1aff-299c-4255-9ce4-255396b205c9",
   "metadata": {},
   "source": [
    "<br>\n",
    "\n",
    "##### **🧠 CVIČENÍ 🧠,"
   ]
  },
  {
   "cell_type": "code",
   "execution_count": null,
   "id": "f9c9562d-1560-498b-8e66-f3125aa985e9",
   "metadata": {},
   "outputs": [],
   "source": []
  }
 ],
 "metadata": {
  "kernelspec": {
   "display_name": "Python 3 (ipykernel)",
   "language": "python",
   "name": "python3"
  },
  "language_info": {
   "codemirror_mode": {
    "name": "ipython",
    "version": 3
   },
   "file_extension": ".py",
   "mimetype": "text/x-python",
   "name": "python",
   "nbconvert_exporter": "python",
   "pygments_lexer": "ipython3",
   "version": "3.8.10"
  }
 },
 "nbformat": 4,
 "nbformat_minor": 5
}

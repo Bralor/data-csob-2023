{
 "cells": [
  {
   "cell_type": "markdown",
   "id": "primary-press",
   "metadata": {},
   "source": [
    "# Datová akademie, ČSOB, 2023\n",
    "\n",
    "---"
   ]
  },
  {
   "cell_type": "markdown",
   "id": "lightweight-ontario",
   "metadata": {},
   "source": [
    "* [Úvod k datům](#Úvod-k-datům),\n",
    "* [pracovní prostředí](#Pracovní-prostředí),\n",
    "* [notebooky feat. SQL](),\n",
    "* [spojovací objekty Python s DB]().\n",
    "\n",
    "<br>"
   ]
  },
  {
   "cell_type": "markdown",
   "id": "fossil-alliance",
   "metadata": {},
   "source": [
    "## Úvod k datům\n",
    "\n",
    "---"
   ]
  },
  {
   "cell_type": "markdown",
   "id": "ignored-presence",
   "metadata": {},
   "source": [
    "(doplnit-intro-data)"
   ]
  },
  {
   "cell_type": "markdown",
   "id": "found-horse",
   "metadata": {},
   "source": [
    "---"
   ]
  },
  {
   "cell_type": "markdown",
   "id": "fifteen-connection",
   "metadata": {},
   "source": [
    "Cílem toho kurzu **není** udělat z vás bezchybné a profesionální **datové analytiky** nebo **datové inženýry**.\n",
    "\n",
    "<br>\n",
    "\n",
    "Cílem je obohatit tvůj stack, nebo portfolio nástrojů, které ti umožní:\n",
    "* rozmýšlet, jaká **pracovní prostředí** máš k dispozici a kdy je použít,\n",
    "* uchopit **efektivnější datové typy**, kde je získat a jak je používat,\n",
    "* manipulovat lépe **s různými zdroji dat**,\n",
    "* **načítání, validování** a procházení dat,\n",
    "* **vizualizovat data**."
   ]
  },
  {
   "cell_type": "markdown",
   "id": "narrow-elimination",
   "metadata": {},
   "source": [
    "Než se ale vůbec začneš nástroje, bude vhodné, seznámit tě **s prostředími**, kde budeš moct posléze pracovat."
   ]
  },
  {
   "cell_type": "markdown",
   "id": "broke-architecture",
   "metadata": {},
   "source": [
    "<img src=\"https://external-content.duckduckgo.com/iu/?u=https%3A%2F%2Ftse3.mm.bing.net%2Fth%3Fid%3DOIP.H2BkU9bqGfzRSMZ3S3Sx0QHaHa%26pid%3DApi&f=1&ipt=4cf9116d27fba72ce0224dba99b4ff36a1867aa0351c892e1c8ede5793e267e7&ipo=images\" width=\"100\"/>"
   ]
  },
  {
   "cell_type": "markdown",
   "id": "convertible-flower",
   "metadata": {},
   "source": [
    "## Pracovní prostředí\n",
    "\n",
    "---"
   ]
  },
  {
   "cell_type": "markdown",
   "id": "coastal-pricing",
   "metadata": {},
   "source": [
    "Konkrétních variant je spousta, ale jako dobrý základ můžeš použít následující:\n",
    "\n",
    "* Interpret, interaktivní interpret,\n",
    "* editor/IDE,\n",
    "* Hub/Notebooky,\n",
    "* (pokročilé) docker kontejnery."
   ]
  },
  {
   "cell_type": "markdown",
   "id": "fatty-stewart",
   "metadata": {},
   "source": [
    "<img src=\"https://external-content.duckduckgo.com/iu/?u=https%3A%2F%2Ftse1.mm.bing.net%2Fth%3Fid%3DOIP.tzfIjIrb-x4w5Rr-6GQKZQHaGn%26pid%3DApi&f=1&ipt=c295ddf9634cf8a936cad9d98a3e7d6cb131bce35f810e3f6e8930739b98ffdd&ipo=images\" width=\"100\"/>"
   ]
  },
  {
   "cell_type": "markdown",
   "id": "complex-sailing",
   "metadata": {},
   "source": [
    "## Konzole, příkazový řádek\n",
    "\n",
    "---\n",
    "\n",
    "Klasický *Pythonní interpret* a *interaktivní interpret* jsou jednoduchá, přesto všestranná pracovní prostředí.\n",
    "\n",
    "Jejich hlavní síla spočívá **v přenositelnosti**.\n",
    "\n",
    "<br>\n",
    "\n",
    "Ne všude budeš mít k dispozici nějaké grafické prostředí (GUI). Přesto se ti může hodit pomocník, které ti dovede lehké debugování nebo ověřování usnadnit."
   ]
  },
  {
   "cell_type": "markdown",
   "id": "pregnant-victoria",
   "metadata": {},
   "source": [
    "Instalaci *interaktivního interpreta* IPythonu je možné provést pomocí příkazu:"
   ]
  },
  {
   "cell_type": "code",
   "execution_count": null,
   "id": "elegant-knight",
   "metadata": {},
   "outputs": [],
   "source": [
    "!pip install ipython"
   ]
  },
  {
   "cell_type": "markdown",
   "id": "efficient-belgium",
   "metadata": {},
   "source": [
    "..s následnou kontrolou pomocí výpisu verze **IPythonu**:"
   ]
  },
  {
   "cell_type": "code",
   "execution_count": null,
   "id": "logical-upset",
   "metadata": {},
   "outputs": [],
   "source": [
    "!ipython --version"
   ]
  },
  {
   "cell_type": "markdown",
   "id": "proved-vision",
   "metadata": {},
   "source": [
    "Pokud chceš používat přímo *Hub* nebo Notebooky, stačí nainstalovat ty a **IPython** nainstaluješ jako jejich součást."
   ]
  },
  {
   "cell_type": "markdown",
   "id": "governing-attraction",
   "metadata": {},
   "source": [
    "### Základní nástroje, vypiš mi nápovědu\n",
    "\n",
    "V rámci *interpreta* můžeš pracovat s nápovědou pomocí funkce `help()`:"
   ]
  },
  {
   "cell_type": "code",
   "execution_count": null,
   "id": "organic-convention",
   "metadata": {},
   "outputs": [],
   "source": [
    "help(list.copy)"
   ]
  },
  {
   "cell_type": "markdown",
   "id": "express-craft",
   "metadata": {},
   "source": [
    "U *interaktivního interpreta* můžeš používat nápovědů také a daleko elegantněji:"
   ]
  },
  {
   "cell_type": "code",
   "execution_count": null,
   "id": "varying-ethiopia",
   "metadata": {},
   "outputs": [],
   "source": [
    "list.copy?"
   ]
  },
  {
   "cell_type": "markdown",
   "id": "engaged-crisis",
   "metadata": {},
   "source": [
    "K tomu ti postačí za libovolný výraz dopsat otazník `?`.\n",
    "\n",
    "Výsledek bude praktický stejný s tím, že podle verze IPythonu se místo textového výstupu objeví **vyskakovací okno**."
   ]
  },
  {
   "cell_type": "code",
   "execution_count": null,
   "id": "nutritional-bahrain",
   "metadata": {},
   "outputs": [],
   "source": [
    "len?"
   ]
  },
  {
   "cell_type": "code",
   "execution_count": null,
   "id": "occasional-temperature",
   "metadata": {},
   "outputs": [],
   "source": [
    "jmena = [\"Matouš\", \"Lukáš\", \"Marek\"]\n",
    "jmena.append?"
   ]
  },
  {
   "cell_type": "markdown",
   "id": "banned-plumbing",
   "metadata": {},
   "source": [
    "Stejně jako funkce `help` můžeš nápovědu používat pro *uživ. funkce*:"
   ]
  },
  {
   "cell_type": "code",
   "execution_count": null,
   "id": "collective-twenty",
   "metadata": {},
   "outputs": [],
   "source": [
    "import datetime"
   ]
  },
  {
   "cell_type": "code",
   "execution_count": null,
   "id": "august-cross",
   "metadata": {},
   "outputs": [],
   "source": [
    "def vypis_zpravu_s_casem(cas: str, zprava: str) -> str:\n",
    "    \"\"\"\n",
    "    Vrať výstup jako naformátovanou zprávu s aktuálním časem.\n",
    "    \n",
    "    :param cas: údaj s časem.\n",
    "    :type cas: str\n",
    "    :param zprava: zadaný text.\n",
    "    :type zprava: str\n",
    "    \n",
    "    :Example:\n",
    "    >>> import datetime\n",
    "    >>> vypis_zpravu(\n",
    "    ...     \"18:43:15\",\n",
    "    ...     \"Ahoj na první lekci\"\n",
    "    ... )\n",
    "    18:43:15, Ahoj na první lekci\n",
    "    \"\"\"\n",
    "    return f\"{cas}, {zprava}\""
   ]
  },
  {
   "cell_type": "code",
   "execution_count": null,
   "id": "jewish-congress",
   "metadata": {},
   "outputs": [],
   "source": [
    "vypis_zpravu_s_casem(\n",
    "    datetime.datetime.now().strftime(\"%H:%M:%S\"),\n",
    "    \"Ahoj na první lekci\"\n",
    ")"
   ]
  },
  {
   "cell_type": "code",
   "execution_count": null,
   "id": "presidential-terrorism",
   "metadata": {},
   "outputs": [],
   "source": [
    "vypis_zpravu_s_casem?"
   ]
  },
  {
   "cell_type": "markdown",
   "id": "broadband-testing",
   "metadata": {},
   "source": [
    "Takže směle do psaní *docstringů* a zobrazování dokumentace.\n",
    "\n",
    "Pokud budeš mít zájem dohledat nejen popis, ale i podobu objektu.."
   ]
  },
  {
   "cell_type": "markdown",
   "id": "inclusive-sweden",
   "metadata": {},
   "source": [
    "### Základní nápověda, zobraz zdrojový kód"
   ]
  },
  {
   "cell_type": "markdown",
   "id": "third-matter",
   "metadata": {},
   "source": [
    "Někdy může být nápomocné, získat kromě popisku také náhled na objekt samotný:"
   ]
  },
  {
   "cell_type": "code",
   "execution_count": null,
   "id": "lined-gilbert",
   "metadata": {},
   "outputs": [],
   "source": [
    "vypis_zpravu_s_casem??"
   ]
  },
  {
   "cell_type": "markdown",
   "id": "economic-ethnic",
   "metadata": {},
   "source": [
    "U takových jednoduchých uživ. funkcí je zdroj poměrně přímočarý.\n",
    "\n",
    "U jiných knihoven může být naopak trochu upovídaný:"
   ]
  },
  {
   "cell_type": "code",
   "execution_count": null,
   "id": "appreciated-right",
   "metadata": {},
   "outputs": [],
   "source": [
    "import pandas"
   ]
  },
  {
   "cell_type": "code",
   "execution_count": null,
   "id": "medical-samba",
   "metadata": {},
   "outputs": [],
   "source": [
    "pandas.read_csv??"
   ]
  },
  {
   "cell_type": "markdown",
   "id": "prepared-powder",
   "metadata": {},
   "source": [
    "A někdy nápověda pomocí `??` nezobrazí vůbec nic.\n",
    "\n",
    "Obecně řečeno je to zapříčiněné tím, že objekt, na který chceš vidět nápovědu není v Pythonu zavedený (implementovaný), ale je používaný objekt z jiného jazyku (v případě tohoto *interpreta* v C)."
   ]
  },
  {
   "cell_type": "code",
   "execution_count": null,
   "id": "dense-snapshot",
   "metadata": {},
   "outputs": [],
   "source": [
    "len??"
   ]
  },
  {
   "cell_type": "markdown",
   "id": "literary-carroll",
   "metadata": {},
   "source": [
    "### Základní nápověda, našeptávání\n",
    "\n",
    "Pokud se ti občas stane, že si nepamatuješ jméno různých objektů, můžeš vyzkoušet nápovědu.\n",
    "\n",
    "Občas ti vypadne jméno známého datového typu:"
   ]
  },
  {
   "cell_type": "code",
   "execution_count": null,
   "id": "radical-valley",
   "metadata": {},
   "outputs": [],
   "source": [
    "prijmeni = list()"
   ]
  },
  {
   "cell_type": "code",
   "execution_count": null,
   "id": "exact-browse",
   "metadata": {},
   "outputs": [],
   "source": [
    "prijmeni."
   ]
  },
  {
   "cell_type": "code",
   "execution_count": null,
   "id": "fourth-september",
   "metadata": {},
   "outputs": [],
   "source": [
    "prijmeni.c"
   ]
  },
  {
   "cell_type": "markdown",
   "id": "colonial-prayer",
   "metadata": {},
   "source": [
    "Stačí napsat jméno objektu, `prijmeni` a tečku.\n",
    "\n",
    "Následně stačí stisknout klávesu `TAB` a IPython ti zobrazovazí skrollovací nabídku."
   ]
  },
  {
   "cell_type": "markdown",
   "id": "inappropriate-convention",
   "metadata": {},
   "source": [
    "<br>\n",
    "\n",
    "Někdy je potřeba doplnit **méně patrnou metodu** nebo **konstantu** *z knihoven třetích stran*:"
   ]
  },
  {
   "cell_type": "code",
   "execution_count": null,
   "id": "aboriginal-commitment",
   "metadata": {},
   "outputs": [],
   "source": [
    "from collections import OrderedDict"
   ]
  },
  {
   "cell_type": "code",
   "execution_count": null,
   "id": "polar-toolbox",
   "metadata": {},
   "outputs": [],
   "source": [
    "mesta = OrderedDict()"
   ]
  },
  {
   "cell_type": "code",
   "execution_count": null,
   "id": "specific-township",
   "metadata": {},
   "outputs": [],
   "source": [
    "mesta."
   ]
  },
  {
   "cell_type": "markdown",
   "id": "sudden-jumping",
   "metadata": {},
   "source": [
    "Další pomůckou může být doplňování při nahrávání jak knihoven, tak konkrétních modulů:"
   ]
  },
  {
   "cell_type": "code",
   "execution_count": null,
   "id": "healthy-library",
   "metadata": {},
   "outputs": [],
   "source": [
    "from itertools import "
   ]
  },
  {
   "cell_type": "code",
   "execution_count": null,
   "id": "external-planning",
   "metadata": {},
   "outputs": [],
   "source": [
    "from typing import "
   ]
  },
  {
   "cell_type": "markdown",
   "id": "czech-client",
   "metadata": {},
   "source": [
    "##### Demo, importování v IPythonu"
   ]
  },
  {
   "cell_type": "markdown",
   "id": "rental-lewis",
   "metadata": {},
   "source": [
    "## Magické příkazy"
   ]
  },
  {
   "cell_type": "markdown",
   "id": "worse-pierce",
   "metadata": {},
   "source": [
    "Mimo klíčové prvky samotného **IPythonu**, můžeš svému pracovnímu nasazení pomocí tzv. *magických příkazů*.\n",
    "\n",
    "Magický příkaz zajišťuje dodatečnou logiku.\n",
    "\n",
    "Magický příkaz poznáš pomocí operátoru `%` nebo `%%`, ihned na začátku buňky:"
   ]
  },
  {
   "cell_type": "code",
   "execution_count": null,
   "id": "respective-powell",
   "metadata": {},
   "outputs": [],
   "source": [
    "%run"
   ]
  },
  {
   "cell_type": "markdown",
   "id": "funded-transaction",
   "metadata": {},
   "source": [
    "Základní rozdíl mezi `%` a `%%`:\n",
    "* `%`, **jednořádkový** příkaz (původně *~line magics*),\n",
    "* `%%`, **víceřádkový** příkaz (původně *~cell magics*)."
   ]
  },
  {
   "cell_type": "markdown",
   "id": "subjective-quality",
   "metadata": {},
   "source": [
    "### Spusť mi skript"
   ]
  },
  {
   "cell_type": "markdown",
   "id": "sustainable-logging",
   "metadata": {},
   "source": [
    "Časem začneš více experimentovat jak v prostředí skriptu, tak s prostředím notebooku.\n",
    "\n",
    "Obzvlášť později se budeš snažit separovat logiku skriptu mimo notebook."
   ]
  },
  {
   "cell_type": "code",
   "execution_count": 11,
   "id": "miniature-mobile",
   "metadata": {},
   "outputs": [
    {
     "name": "stdout",
     "output_type": "stream",
     "text": [
      "lesson01\r\n"
     ]
    }
   ],
   "source": [
    "!ls ../onsite/"
   ]
  },
  {
   "cell_type": "markdown",
   "id": "abandoned-liechtenstein",
   "metadata": {},
   "source": [
    "Pokud budeš chtít **z aktivního notebooku spustit skript**, můžeš použít jednořádkový příkaz `%run`."
   ]
  },
  {
   "cell_type": "code",
   "execution_count": 9,
   "id": "armed-scanning",
   "metadata": {},
   "outputs": [
    {
     "name": "stdout",
     "output_type": "stream",
     "text": [
      "A\n",
      "B\n",
      "C\n",
      "D\n"
     ]
    }
   ],
   "source": [
    "%run ../onsite/lesson01/magic_run.py"
   ]
  },
  {
   "cell_type": "markdown",
   "id": "earlier-gender",
   "metadata": {},
   "source": [
    "Pokud potřebuješ doladit spuštění souboru, můžeš mrknout na dokumentaci a popis rozšiřujících možností [zde](https://ipython.readthedocs.io/en/stable/interactive/magics.html#magic-run)."
   ]
  },
  {
   "cell_type": "markdown",
   "id": "excess-pleasure",
   "metadata": {},
   "source": [
    "### Stopovat průběh"
   ]
  },
  {
   "cell_type": "markdown",
   "id": "absent-thirty",
   "metadata": {},
   "source": [
    "Dalším užitečným příkazem je `%timeit`.\n",
    "\n",
    "Ten se ti bude hodit, pokud budeš potřebat určit délku běhu jednořádkového příkazu:"
   ]
  },
  {
   "cell_type": "code",
   "execution_count": 12,
   "id": "becoming-kuwait",
   "metadata": {},
   "outputs": [
    {
     "name": "stdout",
     "output_type": "stream",
     "text": [
      "21.6 µs ± 436 ns per loop (mean ± std. dev. of 7 runs, 10000 loops each)\n"
     ]
    }
   ],
   "source": [
    "%timeit umocnene_hodnoty = [cislo ** 2 for cislo in range(100)]"
   ]
  },
  {
   "cell_type": "markdown",
   "id": "pursuant-scheme",
   "metadata": {},
   "source": [
    "Výhodou tohoto jednořádkového magického příkazu je, že pro krátké příkazy automaticky spouští několik běhů.\n",
    "\n",
    "Tím zajistí větší množství výsledků a z nich stanoví průměr, odchylky."
   ]
  },
  {
   "cell_type": "markdown",
   "id": "sitting-copying",
   "metadata": {},
   "source": [
    "<br>\n",
    "\n",
    "Pokud zadáš víceřádkový magický příkaz, můžeš napočítat průběh na delší zápis.\n",
    "\n",
    "Třeba pro iteraci bez *list comprehensions*.\n",
    "\n",
    "Zde můžeš vidět patrný rozdíl mezi iterací s a bez komprehence."
   ]
  },
  {
   "cell_type": "code",
   "execution_count": 14,
   "id": "oriented-bicycle",
   "metadata": {},
   "outputs": [
    {
     "name": "stdout",
     "output_type": "stream",
     "text": [
      "26.5 µs ± 400 ns per loop (mean ± std. dev. of 7 runs, 10000 loops each)\n"
     ]
    }
   ],
   "source": [
    "%%timeit\n",
    "umocnene_hodnoty = list()\n",
    "\n",
    "for cislo in range(100):\n",
    "    umocnene_hodnoty.append(cislo ** 2)"
   ]
  },
  {
   "cell_type": "markdown",
   "id": "another-employer",
   "metadata": {},
   "source": [
    "Oba tyto příkaz se hodí, pokud spouštíš **sérii ohlášení**.\n",
    "\n",
    "Pokud ale nechceš ovlivnit krátký průběh nesouvisejícími procesy, opožděním v rámci OS, použitím cachevaných hodnot, zkus `%time`:"
   ]
  },
  {
   "cell_type": "code",
   "execution_count": 50,
   "id": "married-generic",
   "metadata": {},
   "outputs": [],
   "source": [
    "from random import choices"
   ]
  },
  {
   "cell_type": "code",
   "execution_count": 51,
   "id": "similar-cycling",
   "metadata": {},
   "outputs": [],
   "source": [
    "cisla = [choice((1, 2, 3, 4, 5)) for cislo in range(10000)]"
   ]
  },
  {
   "cell_type": "code",
   "execution_count": 52,
   "id": "bulgarian-thermal",
   "metadata": {
    "scrolled": true
   },
   "outputs": [
    {
     "name": "stdout",
     "output_type": "stream",
     "text": [
      "42.5 µs ± 4.78 µs per loop (mean ± std. dev. of 7 runs, 10000 loops each)\n"
     ]
    }
   ],
   "source": [
    "%timeit cisla.sort()"
   ]
  },
  {
   "cell_type": "markdown",
   "id": "pursuant-landscape",
   "metadata": {},
   "source": [
    "Problémem v tomto případě je opětovné použití zatřídění:"
   ]
  },
  {
   "cell_type": "code",
   "execution_count": 53,
   "id": "civil-senegal",
   "metadata": {},
   "outputs": [
    {
     "name": "stdout",
     "output_type": "stream",
     "text": [
      "CPU times: user 1.18 ms, sys: 0 ns, total: 1.18 ms\n",
      "Wall time: 1.16 ms\n"
     ]
    }
   ],
   "source": [
    "dalsi_cisla = [choice((1, 2, 3, 4, 5)) for cislo in range(10000)]\n",
    "%time dalsi_cisla.sort()"
   ]
  },
  {
   "cell_type": "code",
   "execution_count": 54,
   "id": "normal-throat",
   "metadata": {},
   "outputs": [
    {
     "name": "stdout",
     "output_type": "stream",
     "text": [
      "CPU times: user 103 µs, sys: 0 ns, total: 103 µs\n",
      "Wall time: 108 µs\n"
     ]
    }
   ],
   "source": [
    "%time dalsi_cisla.sort()"
   ]
  },
  {
   "cell_type": "markdown",
   "id": "present-humidity",
   "metadata": {},
   "source": [
    "Proto podává v prvním případě příkaz `%timeit` o tolik odlišný výsledek.\n",
    "\n",
    "Pod kapotou totiž provádí několik optimalizací, které zabraňují nadměrnému ovlivňování stopování (třeba mazání nevyužívaných objektů pomocí *garbage collectoru*)."
   ]
  },
  {
   "cell_type": "markdown",
   "id": "extreme-holder",
   "metadata": {},
   "source": [
    "### Debugování v notebooku"
   ]
  },
  {
   "cell_type": "markdown",
   "id": "ordered-hollywood",
   "metadata": {},
   "source": [
    "Odstraňovat chybný zápis můžeš také v prostředí IPythonu a Notebooků.\n",
    "\n",
    "Stačí použít jednořádkový příkaz `%debug`:"
   ]
  },
  {
   "cell_type": "code",
   "execution_count": 32,
   "id": "stylish-aaron",
   "metadata": {},
   "outputs": [],
   "source": [
    "def del_dvema(*args, delitel: int = 2) -> None:\n",
    "    for hodnota in args:\n",
    "        print(vydel_hodnotu_delitelem(hodnota, delitel))\n",
    "        \n",
    "def vydel_hodnotu_delitelem(hodnota: float, delitel: int) -> float:\n",
    "    return hodnota / delitel"
   ]
  },
  {
   "cell_type": "code",
   "execution_count": 37,
   "id": "portuguese-polish",
   "metadata": {},
   "outputs": [
    {
     "name": "stdout",
     "output_type": "stream",
     "text": [
      "1.0\n",
      "1.5\n",
      "2.0\n",
      "2.5\n",
      "3.0\n"
     ]
    }
   ],
   "source": [
    "del_dvema(2, 3, 4, 5, 6)"
   ]
  },
  {
   "cell_type": "markdown",
   "id": "postal-kinase",
   "metadata": {},
   "source": [
    "Příkaz `%debug` spustí debugger až *post mortem*.\n",
    "\n",
    "Je pořád interaktivní, nicméně **ve finální fázi** *tracebacku*:"
   ]
  },
  {
   "cell_type": "code",
   "execution_count": 36,
   "id": "religious-nevada",
   "metadata": {},
   "outputs": [
    {
     "name": "stdout",
     "output_type": "stream",
     "text": [
      "> \u001b[0;32m<ipython-input-32-852a5701828e>\u001b[0m(6)\u001b[0;36mvydel_hodnotu_delitelem\u001b[0;34m()\u001b[0m\n",
      "\u001b[0;32m      2 \u001b[0;31m    \u001b[0;32mfor\u001b[0m \u001b[0mhodnota\u001b[0m \u001b[0;32min\u001b[0m \u001b[0margs\u001b[0m\u001b[0;34m:\u001b[0m\u001b[0;34m\u001b[0m\u001b[0;34m\u001b[0m\u001b[0m\n",
      "\u001b[0m\u001b[0;32m      3 \u001b[0;31m        \u001b[0mprint\u001b[0m\u001b[0;34m(\u001b[0m\u001b[0mvydel_hodnotu_delitelem\u001b[0m\u001b[0;34m(\u001b[0m\u001b[0mhodnota\u001b[0m\u001b[0;34m,\u001b[0m \u001b[0mdelitel\u001b[0m\u001b[0;34m)\u001b[0m\u001b[0;34m)\u001b[0m\u001b[0;34m\u001b[0m\u001b[0;34m\u001b[0m\u001b[0m\n",
      "\u001b[0m\u001b[0;32m      4 \u001b[0;31m\u001b[0;34m\u001b[0m\u001b[0m\n",
      "\u001b[0m\u001b[0;32m      5 \u001b[0;31m\u001b[0;32mdef\u001b[0m \u001b[0mvydel_hodnotu_delitelem\u001b[0m\u001b[0;34m(\u001b[0m\u001b[0mhodnota\u001b[0m\u001b[0;34m:\u001b[0m \u001b[0mfloat\u001b[0m\u001b[0;34m,\u001b[0m \u001b[0mdelitel\u001b[0m\u001b[0;34m:\u001b[0m \u001b[0mint\u001b[0m\u001b[0;34m)\u001b[0m \u001b[0;34m->\u001b[0m \u001b[0mfloat\u001b[0m\u001b[0;34m:\u001b[0m\u001b[0;34m\u001b[0m\u001b[0;34m\u001b[0m\u001b[0m\n",
      "\u001b[0m\u001b[0;32m----> 6 \u001b[0;31m    \u001b[0;32mreturn\u001b[0m \u001b[0mhodnota\u001b[0m \u001b[0;34m/\u001b[0m \u001b[0mdelitel\u001b[0m\u001b[0;34m\u001b[0m\u001b[0;34m\u001b[0m\u001b[0m\n",
      "\u001b[0m\n",
      "ipdb> print(hodnota)\n",
      "a\n",
      "ipdb> print(delitel)\n",
      "2\n",
      "ipdb> ?\n",
      "\n",
      "Documented commands (type help <topic>):\n",
      "========================================\n",
      "EOF    cl         disable  interact  next    psource  rv           undisplay\n",
      "a      clear      display  j         p       q        s            unt      \n",
      "alias  commands   down     jump      pdef    quit     skip_hidden  until    \n",
      "args   condition  enable   l         pdoc    r        source       up       \n",
      "b      cont       exit     list      pfile   restart  step         w        \n",
      "break  continue   h        ll        pinfo   return   tbreak       whatis   \n",
      "bt     d          help     longlist  pinfo2  retval   u            where    \n",
      "c      debug      ignore   n         pp      run      unalias    \n",
      "\n",
      "Miscellaneous help topics:\n",
      "==========================\n",
      "exec  pdb\n",
      "\n",
      "ipdb> b\n",
      "ipdb> print(\"a\"/2)\n",
      "*** TypeError: unsupported operand type(s) for /: 'str' and 'int'\n",
      "ipdb> exit\n"
     ]
    }
   ],
   "source": [
    "%debug"
   ]
  },
  {
   "cell_type": "markdown",
   "id": "confirmed-brook",
   "metadata": {},
   "source": [
    "Pokud potřebuješ nastavit *breakpoint* v průběhu, můžeš doplnit možnost `--breakpoint SOUBOR: ŘÁDEK`.\n",
    "\n",
    "Následně si organizuješ průběh stejně jako v prostředí knihovny `pdb`."
   ]
  },
  {
   "cell_type": "markdown",
   "id": "configured-riverside",
   "metadata": {},
   "source": [
    "### Seznam magických příkazů"
   ]
  },
  {
   "cell_type": "markdown",
   "id": "caroline-brooklyn",
   "metadata": {},
   "source": [
    "Pokud je to na tebe moc příkazů naráz, vůbec nezoufej.\n",
    "\n",
    "Pomocí nápovědy `%lsmagic`, si můžeš nechat vypsat seznam všech příkazů:"
   ]
  },
  {
   "cell_type": "code",
   "execution_count": 55,
   "id": "interpreted-rover",
   "metadata": {},
   "outputs": [
    {
     "data": {
      "application/json": {
       "cell": {
        "!": "OSMagics",
        "HTML": "Other",
        "SVG": "Other",
        "bash": "Other",
        "capture": "ExecutionMagics",
        "debug": "ExecutionMagics",
        "file": "Other",
        "html": "DisplayMagics",
        "javascript": "DisplayMagics",
        "js": "DisplayMagics",
        "latex": "DisplayMagics",
        "markdown": "DisplayMagics",
        "perl": "Other",
        "prun": "ExecutionMagics",
        "pypy": "Other",
        "python": "Other",
        "python2": "Other",
        "python3": "Other",
        "ruby": "Other",
        "script": "ScriptMagics",
        "sh": "Other",
        "svg": "DisplayMagics",
        "sx": "OSMagics",
        "system": "OSMagics",
        "time": "ExecutionMagics",
        "timeit": "ExecutionMagics",
        "writefile": "OSMagics"
       },
       "line": {
        "alias": "OSMagics",
        "alias_magic": "BasicMagics",
        "autoawait": "AsyncMagics",
        "autocall": "AutoMagics",
        "automagic": "AutoMagics",
        "autosave": "KernelMagics",
        "bookmark": "OSMagics",
        "cat": "Other",
        "cd": "OSMagics",
        "clear": "KernelMagics",
        "colors": "BasicMagics",
        "conda": "PackagingMagics",
        "config": "ConfigMagics",
        "connect_info": "KernelMagics",
        "cp": "Other",
        "debug": "ExecutionMagics",
        "dhist": "OSMagics",
        "dirs": "OSMagics",
        "doctest_mode": "BasicMagics",
        "ed": "Other",
        "edit": "KernelMagics",
        "env": "OSMagics",
        "gui": "BasicMagics",
        "hist": "Other",
        "history": "HistoryMagics",
        "killbgscripts": "ScriptMagics",
        "ldir": "Other",
        "less": "KernelMagics",
        "lf": "Other",
        "lk": "Other",
        "ll": "Other",
        "load": "CodeMagics",
        "load_ext": "ExtensionMagics",
        "loadpy": "CodeMagics",
        "logoff": "LoggingMagics",
        "logon": "LoggingMagics",
        "logstart": "LoggingMagics",
        "logstate": "LoggingMagics",
        "logstop": "LoggingMagics",
        "ls": "Other",
        "lsmagic": "BasicMagics",
        "lx": "Other",
        "macro": "ExecutionMagics",
        "magic": "BasicMagics",
        "man": "KernelMagics",
        "matplotlib": "PylabMagics",
        "mkdir": "Other",
        "more": "KernelMagics",
        "mv": "Other",
        "notebook": "BasicMagics",
        "page": "BasicMagics",
        "pastebin": "CodeMagics",
        "pdb": "ExecutionMagics",
        "pdef": "NamespaceMagics",
        "pdoc": "NamespaceMagics",
        "pfile": "NamespaceMagics",
        "pinfo": "NamespaceMagics",
        "pinfo2": "NamespaceMagics",
        "pip": "PackagingMagics",
        "popd": "OSMagics",
        "pprint": "BasicMagics",
        "precision": "BasicMagics",
        "prun": "ExecutionMagics",
        "psearch": "NamespaceMagics",
        "psource": "NamespaceMagics",
        "pushd": "OSMagics",
        "pwd": "OSMagics",
        "pycat": "OSMagics",
        "pylab": "PylabMagics",
        "qtconsole": "KernelMagics",
        "quickref": "BasicMagics",
        "recall": "HistoryMagics",
        "rehashx": "OSMagics",
        "reload_ext": "ExtensionMagics",
        "rep": "Other",
        "rerun": "HistoryMagics",
        "reset": "NamespaceMagics",
        "reset_selective": "NamespaceMagics",
        "rm": "Other",
        "rmdir": "Other",
        "run": "ExecutionMagics",
        "save": "CodeMagics",
        "sc": "OSMagics",
        "set_env": "OSMagics",
        "store": "StoreMagics",
        "sx": "OSMagics",
        "system": "OSMagics",
        "tb": "ExecutionMagics",
        "time": "ExecutionMagics",
        "timeit": "ExecutionMagics",
        "unalias": "OSMagics",
        "unload_ext": "ExtensionMagics",
        "who": "NamespaceMagics",
        "who_ls": "NamespaceMagics",
        "whos": "NamespaceMagics",
        "xdel": "NamespaceMagics",
        "xmode": "BasicMagics"
       }
      },
      "text/plain": [
       "Available line magics:\n",
       "%alias  %alias_magic  %autoawait  %autocall  %automagic  %autosave  %bookmark  %cat  %cd  %clear  %colors  %conda  %config  %connect_info  %cp  %debug  %dhist  %dirs  %doctest_mode  %ed  %edit  %env  %gui  %hist  %history  %killbgscripts  %ldir  %less  %lf  %lk  %ll  %load  %load_ext  %loadpy  %logoff  %logon  %logstart  %logstate  %logstop  %ls  %lsmagic  %lx  %macro  %magic  %man  %matplotlib  %mkdir  %more  %mv  %notebook  %page  %pastebin  %pdb  %pdef  %pdoc  %pfile  %pinfo  %pinfo2  %pip  %popd  %pprint  %precision  %prun  %psearch  %psource  %pushd  %pwd  %pycat  %pylab  %qtconsole  %quickref  %recall  %rehashx  %reload_ext  %rep  %rerun  %reset  %reset_selective  %rm  %rmdir  %run  %save  %sc  %set_env  %store  %sx  %system  %tb  %time  %timeit  %unalias  %unload_ext  %who  %who_ls  %whos  %xdel  %xmode\n",
       "\n",
       "Available cell magics:\n",
       "%%!  %%HTML  %%SVG  %%bash  %%capture  %%debug  %%file  %%html  %%javascript  %%js  %%latex  %%markdown  %%perl  %%prun  %%pypy  %%python  %%python2  %%python3  %%ruby  %%script  %%sh  %%svg  %%sx  %%system  %%time  %%timeit  %%writefile\n",
       "\n",
       "Automagic is ON, % prefix IS NOT needed for line magics."
      ]
     },
     "execution_count": 55,
     "metadata": {},
     "output_type": "execute_result"
    }
   ],
   "source": [
    "%lsmagic"
   ]
  },
  {
   "cell_type": "markdown",
   "id": "oriental-withdrawal",
   "metadata": {},
   "source": [
    "Pracuje velice podobně jako zabudovaná funkce `dir()` v rámci *interpreta*.\n",
    "\n",
    "Pokud potřebuješ detailnější nápovědu, vyzkoušej spíše `%magic`:"
   ]
  },
  {
   "cell_type": "code",
   "execution_count": 56,
   "id": "turned-bahamas",
   "metadata": {},
   "outputs": [],
   "source": [
    "%magic"
   ]
  },
  {
   "cell_type": "markdown",
   "id": "fewer-badge",
   "metadata": {},
   "source": [
    "### Profilování"
   ]
  },
  {
   "cell_type": "markdown",
   "id": "ecological-mailing",
   "metadata": {},
   "source": [
    "Každý skript nebo program je různě dlouhý.\n",
    "\n",
    "Obsahuje tedy různé množství výrazů a ohlášení.\n",
    "\n",
    "Někdy můžeš ocenit více časy jednotlivých sekcí, než výstupu jako celku."
   ]
  },
  {
   "cell_type": "code",
   "execution_count": 78,
   "id": "local-defendant",
   "metadata": {},
   "outputs": [],
   "source": [
    "from math import pi"
   ]
  },
  {
   "cell_type": "code",
   "execution_count": 79,
   "id": "streaming-token",
   "metadata": {},
   "outputs": [],
   "source": [
    "def plocha_kruhu(polomer: int) -> int:\n",
    "    return pi * (polomer ** 2)"
   ]
  },
  {
   "cell_type": "code",
   "execution_count": 80,
   "id": "downtown-cover",
   "metadata": {},
   "outputs": [],
   "source": [
    "def secti_vsechny_plochy(args) -> int:\n",
    "    suma_ploch = 0\n",
    "    for polomer in args:\n",
    "        suma_ploch += plocha_kruhu(polomer)\n",
    "    \n",
    "    return suma_ploch"
   ]
  },
  {
   "cell_type": "code",
   "execution_count": 82,
   "id": "racial-accountability",
   "metadata": {},
   "outputs": [
    {
     "name": "stdout",
     "output_type": "stream",
     "text": [
      " "
     ]
    }
   ],
   "source": [
    "%prun secti_vsechny_plochy([1.1, 2.2, 3.3, 4.4])"
   ]
  },
  {
   "cell_type": "code",
   "execution_count": 82,
   "id": "elect-three",
   "metadata": {},
   "outputs": [
    {
     "name": "stdout",
     "output_type": "stream",
     "text": [
      " "
     ]
    }
   ],
   "source": [
    "%prun secti_vsechny_plochy(choices(range(1, 100), k=1000000))"
   ]
  },
  {
   "cell_type": "markdown",
   "id": "respiratory-lithuania",
   "metadata": {},
   "source": [
    "Takové chování může být přínosné, ale programátor více ocení pochopitelnější, názornější výstup pomocí řádků.\n",
    "\n",
    "Bohužel jak Python, tak IPython standardně nepodporují takové chování.\n",
    "\n",
    "Musíš si nainstalovat ručně knihovnu `line_profiler`:"
   ]
  },
  {
   "cell_type": "code",
   "execution_count": 88,
   "id": "convinced-habitat",
   "metadata": {},
   "outputs": [
    {
     "name": "stdout",
     "output_type": "stream",
     "text": [
      "Collecting line_profiler\n",
      "  Downloading line_profiler-4.0.2-cp38-cp38-manylinux_2_17_x86_64.manylinux2014_x86_64.whl (673 kB)\n",
      "\u001b[K     |████████████████████████████████| 673 kB 1.9 MB/s eta 0:00:01\n",
      "\u001b[?25hInstalling collected packages: line-profiler\n",
      "Successfully installed line-profiler-4.0.2\n"
     ]
    }
   ],
   "source": [
    "!pip install line_profiler"
   ]
  },
  {
   "cell_type": "markdown",
   "id": "prompt-arcade",
   "metadata": {},
   "source": [
    "..následně musíš načíst rozšíření v rámci notebooku:"
   ]
  },
  {
   "cell_type": "code",
   "execution_count": 90,
   "id": "shaped-prize",
   "metadata": {},
   "outputs": [],
   "source": [
    "%load_ext line_profiler"
   ]
  },
  {
   "cell_type": "markdown",
   "id": "disabled-state",
   "metadata": {},
   "source": [
    "..a nakonec spustíš knihovnu pro jméno funkce a následně konkrétní ohlášení:"
   ]
  },
  {
   "cell_type": "code",
   "execution_count": 93,
   "id": "solid-commander",
   "metadata": {},
   "outputs": [],
   "source": [
    "%lprun -f secti_vsechny_plochy secti_vsechny_plochy(choices(range(1, 100), k=1000000))"
   ]
  },
  {
   "cell_type": "markdown",
   "id": "straight-sheet",
   "metadata": {},
   "source": [
    "### Využití paměti"
   ]
  },
  {
   "cell_type": "code",
   "execution_count": null,
   "id": "silent-transparency",
   "metadata": {},
   "outputs": [],
   "source": [
    "%mem"
   ]
  },
  {
   "cell_type": "code",
   "execution_count": 100,
   "id": "appointed-cross",
   "metadata": {},
   "outputs": [],
   "source": [
    "import sqlite3\n",
    "\n",
    "import pandas\n",
    "\n",
    "conn = sqlite3.connect(\"../onsite/lesson01/testing.db\")\n",
    "df = pandas.DataFrame({'jmeno' : ['Matouš', 'Marek', 'Lukáš', 'Jan'], \"prijmeni\": [\"H.\", \"B.\", \"R.\", \"O\"], \"vek\": [11, 12, 13, 14]})"
   ]
  },
  {
   "cell_type": "code",
   "execution_count": 101,
   "id": "upset-vatican",
   "metadata": {},
   "outputs": [],
   "source": [
    "df.to_sql('uzivatele', con=conn, if_exists='append')"
   ]
  },
  {
   "cell_type": "code",
   "execution_count": 102,
   "id": "incomplete-lucas",
   "metadata": {},
   "outputs": [],
   "source": [
    "conn.close()"
   ]
  },
  {
   "cell_type": "markdown",
   "id": "toxic-beginning",
   "metadata": {},
   "source": [
    "<img src=\"https://external-content.duckduckgo.com/iu/?u=https%3A%2F%2Ftse4.mm.bing.net%2Fth%3Fid%3DOIP.W2N7dQ3O6Ap5P9j5ySALFgHaHa%26pid%3DApi&f=1&ipt=7281764d1fc68c062b10965458a6f0ba9c4c28b1cebcd949afa0d57907cd2bbe&ipo=images\" width=\"200\"/>"
   ]
  },
  {
   "cell_type": "markdown",
   "id": "thirty-soccer",
   "metadata": {},
   "source": [
    "## Integrace SQL v rámci notebooků\n",
    "\n",
    "---"
   ]
  },
  {
   "cell_type": "markdown",
   "id": "fossil-sigma",
   "metadata": {},
   "source": [
    "Pokud chceš jednoduše pracovat s databázovými systémy pohodlně a **z prostředí notebooků**, musíš si nejprve nainstalovat pomocnou knihovnu `ipython-sql`([zdroj](https://pypi.org/project/ipython-sql/)):"
   ]
  },
  {
   "cell_type": "code",
   "execution_count": 3,
   "id": "hidden-sandwich",
   "metadata": {},
   "outputs": [],
   "source": [
    "!pip install ipython-sql"
   ]
  },
  {
   "cell_type": "markdown",
   "id": "finite-bahamas",
   "metadata": {},
   "source": [
    "<br>\n",
    "\n",
    "Jakmile je knihovna nainstalovaná, stačí načíst pomocí dalšího [magického tlačítka](#Magické-příkazy) `%load_ext sql`:"
   ]
  },
  {
   "cell_type": "code",
   "execution_count": 103,
   "id": "recognized-bones",
   "metadata": {},
   "outputs": [],
   "source": [
    "%load_ext sql"
   ]
  },
  {
   "cell_type": "markdown",
   "id": "romantic-integrity",
   "metadata": {},
   "source": [
    "<br>\n",
    "\n",
    "Nyní můžeš vyzkoušet knihovnu na existující databázi `<name>`:"
   ]
  },
  {
   "cell_type": "code",
   "execution_count": 107,
   "id": "insured-margin",
   "metadata": {},
   "outputs": [],
   "source": [
    "%sql sqlite:///../onsite/lesson01/testing.db"
   ]
  },
  {
   "cell_type": "code",
   "execution_count": 108,
   "id": "resistant-second",
   "metadata": {},
   "outputs": [
    {
     "name": "stdout",
     "output_type": "stream",
     "text": [
      "   sqlite://\n",
      " * sqlite:///../onsite/lesson01/testing.db\n",
      "Done.\n"
     ]
    },
    {
     "data": {
      "text/html": [
       "<table>\n",
       "    <tr>\n",
       "        <th>index</th>\n",
       "        <th>jmeno</th>\n",
       "        <th>prijmeni</th>\n",
       "        <th>vek</th>\n",
       "    </tr>\n",
       "    <tr>\n",
       "        <td>0</td>\n",
       "        <td>Matouš</td>\n",
       "        <td>H.</td>\n",
       "        <td>11</td>\n",
       "    </tr>\n",
       "    <tr>\n",
       "        <td>1</td>\n",
       "        <td>Marek</td>\n",
       "        <td>B.</td>\n",
       "        <td>12</td>\n",
       "    </tr>\n",
       "    <tr>\n",
       "        <td>2</td>\n",
       "        <td>Lukáš</td>\n",
       "        <td>R.</td>\n",
       "        <td>13</td>\n",
       "    </tr>\n",
       "    <tr>\n",
       "        <td>3</td>\n",
       "        <td>Jan</td>\n",
       "        <td>O</td>\n",
       "        <td>14</td>\n",
       "    </tr>\n",
       "</table>"
      ],
      "text/plain": [
       "[(0, 'Matouš', 'H.', 11),\n",
       " (1, 'Marek', 'B.', 12),\n",
       " (2, 'Lukáš', 'R.', 13),\n",
       " (3, 'Jan', 'O', 14)]"
      ]
     },
     "execution_count": 108,
     "metadata": {},
     "output_type": "execute_result"
    }
   ],
   "source": [
    "%sql SELECT * FROM uzivatele;"
   ]
  },
  {
   "cell_type": "code",
   "execution_count": 109,
   "id": "square-waste",
   "metadata": {},
   "outputs": [
    {
     "name": "stdout",
     "output_type": "stream",
     "text": [
      "   sqlite://\n",
      " * sqlite:///../onsite/lesson01/testing.db\n",
      "1 rows affected.\n"
     ]
    },
    {
     "data": {
      "text/plain": [
       "[]"
      ]
     },
     "execution_count": 109,
     "metadata": {},
     "output_type": "execute_result"
    }
   ],
   "source": [
    "%sql INSERT INTO uzivatele VALUES(4,'Tom','Hrom', 15);"
   ]
  },
  {
   "cell_type": "code",
   "execution_count": 110,
   "id": "ideal-german",
   "metadata": {},
   "outputs": [
    {
     "name": "stdout",
     "output_type": "stream",
     "text": [
      "   sqlite://\n",
      " * sqlite:///../onsite/lesson01/testing.db\n",
      "Done.\n"
     ]
    },
    {
     "data": {
      "text/html": [
       "<table>\n",
       "    <tr>\n",
       "        <th>index</th>\n",
       "        <th>jmeno</th>\n",
       "        <th>prijmeni</th>\n",
       "        <th>vek</th>\n",
       "    </tr>\n",
       "    <tr>\n",
       "        <td>0</td>\n",
       "        <td>Matouš</td>\n",
       "        <td>H.</td>\n",
       "        <td>11</td>\n",
       "    </tr>\n",
       "    <tr>\n",
       "        <td>1</td>\n",
       "        <td>Marek</td>\n",
       "        <td>B.</td>\n",
       "        <td>12</td>\n",
       "    </tr>\n",
       "    <tr>\n",
       "        <td>2</td>\n",
       "        <td>Lukáš</td>\n",
       "        <td>R.</td>\n",
       "        <td>13</td>\n",
       "    </tr>\n",
       "    <tr>\n",
       "        <td>3</td>\n",
       "        <td>Jan</td>\n",
       "        <td>O</td>\n",
       "        <td>14</td>\n",
       "    </tr>\n",
       "    <tr>\n",
       "        <td>4</td>\n",
       "        <td>Tom</td>\n",
       "        <td>Hrom</td>\n",
       "        <td>15</td>\n",
       "    </tr>\n",
       "</table>"
      ],
      "text/plain": [
       "[(0, 'Matouš', 'H.', 11),\n",
       " (1, 'Marek', 'B.', 12),\n",
       " (2, 'Lukáš', 'R.', 13),\n",
       " (3, 'Jan', 'O', 14),\n",
       " (4, 'Tom', 'Hrom', 15)]"
      ]
     },
     "execution_count": 110,
     "metadata": {},
     "output_type": "execute_result"
    }
   ],
   "source": [
    "%sql SELECT * FROM uzivatele;"
   ]
  },
  {
   "cell_type": "markdown",
   "id": "nonprofit-password",
   "metadata": {},
   "source": [
    "## Chystání connection v rámci Pythonu\n",
    "\n",
    "---"
   ]
  },
  {
   "cell_type": "markdown",
   "id": "periodic-tours",
   "metadata": {},
   "source": [
    "mssql, resp. pyodbc, obecně"
   ]
  },
  {
   "cell_type": "markdown",
   "id": "plastic-andorra",
   "metadata": {},
   "source": [
    "Chystání [connection objektů](https://realpython.com/python-sql-libraries/#sqlite) pro Python,\n",
    "    - Creating Tables,\n",
    "    - Inserting Records,\n",
    "    - Selecting Records,\n",
    "    - Updating Table Records,\n",
    "    - Deleting Table Records."
   ]
  },
  {
   "cell_type": "markdown",
   "id": "quarterly-philippines",
   "metadata": {},
   "source": [
    "v rámci kontextového manažeru"
   ]
  },
  {
   "cell_type": "markdown",
   "id": "affected-combination",
   "metadata": {},
   "source": [
    "v rámci knihovny pand"
   ]
  },
  {
   "cell_type": "code",
   "execution_count": null,
   "id": "adjustable-storage",
   "metadata": {},
   "outputs": [],
   "source": []
  },
  {
   "cell_type": "markdown",
   "id": "grave-internship",
   "metadata": {},
   "source": [
    "### Druhá lekce\n",
    "1. `numpy`,\n",
    "    - intro ke knihovně, jak s ní pracovat, kde, verze,\n",
    "    - rozdíl datových typů, list a integer,\n",
    "    - datové typy v Numpy,\n",
    "    - array v Pythonu, array v numpy, základy,jejich atributy,\n",
    "    - operace s maticemi, array,\n",
    "    - Ufunks,\n",
    "    - agregace.\n",
    "    \n",
    "2. Knihovna `numpy`.\n",
    "    - Co je to za knihovnu, proč ji mám znát?\n",
    "    - Základní datové typy, numpy array, co jsou zač, kde je jich potřeba?\n",
    "    - Performance rozdíly. Agregace, výpočty, srovnávání."
   ]
  },
  {
   "cell_type": "markdown",
   "id": "assisted-cabin",
   "metadata": {},
   "source": [
    "### třetí lekce\n",
    "\n",
    "2. `pandas` I.,\n",
    "    - Úvod do frameworku, proč je dobré jej ovládat, kde s ním pracovat?\n",
    "    - jaké jsou základní datové typy? (Dframe, series, časové řady)\n",
    "    - základní orientace, indexování,"
   ]
  },
  {
   "cell_type": "markdown",
   "id": "united-shoot",
   "metadata": {},
   "source": [
    "### čtvrtá lekce\n",
    "\n",
    "2. `pandas` II.,\n",
    "    - file io, encoding, chybějící data,\n",
    "    - kombinace datasetů, concat, append, merge, join,\n",
    "    - časové řady, možná?\n",
    "    - eval() a query() jako high-perf operace."
   ]
  },
  {
   "cell_type": "markdown",
   "id": "laden-column",
   "metadata": {},
   "source": [
    "### pátá lekce\n",
    "\n",
    "3. `matplotlib` a `seaborn`.\n",
    "    - Úvod do knihovny, její výhody a kdy ji potřebuji?\n",
    "    - jednoduché grafy, nastavení, stdout,\n",
    "    - scatter grafy, nastavení, stdout,\n",
    "    - customizace výstupů, rozvržení, organizace."
   ]
  },
  {
   "cell_type": "code",
   "execution_count": null,
   "id": "empirical-breakdown",
   "metadata": {},
   "outputs": [],
   "source": []
  }
 ],
 "metadata": {
  "kernelspec": {
   "display_name": "Python 3",
   "language": "python",
   "name": "python3"
  },
  "language_info": {
   "codemirror_mode": {
    "name": "ipython",
    "version": 3
   },
   "file_extension": ".py",
   "mimetype": "text/x-python",
   "name": "python",
   "nbconvert_exporter": "python",
   "pygments_lexer": "ipython3",
   "version": "3.8.6"
  }
 },
 "nbformat": 4,
 "nbformat_minor": 5
}

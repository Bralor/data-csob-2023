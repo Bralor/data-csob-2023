{
 "cells": [
  {
   "cell_type": "markdown",
   "id": "primary-press",
   "metadata": {},
   "source": [
    "# Datová akademie, ČSOB, 2023\n",
    "\n",
    "---"
   ]
  },
  {
   "cell_type": "markdown",
   "id": "lightweight-ontario",
   "metadata": {},
   "source": [
    "* [Úvod k datům](#Úvod-k-datům),\n",
    "* [pracovní prostředí](#Pracovní-prostředí),\n",
    "* [notebooky feat. SQL](),\n",
    "* [spojovací objekty Python s DB]().\n",
    "\n",
    "<br>"
   ]
  },
  {
   "cell_type": "markdown",
   "id": "fossil-alliance",
   "metadata": {},
   "source": [
    "## Úvod k datům\n",
    "\n",
    "---"
   ]
  },
  {
   "cell_type": "markdown",
   "id": "ignored-presence",
   "metadata": {},
   "source": [
    "(doplnit-intro-data)"
   ]
  },
  {
   "cell_type": "markdown",
   "id": "found-horse",
   "metadata": {},
   "source": [
    "---"
   ]
  },
  {
   "cell_type": "markdown",
   "id": "fifteen-connection",
   "metadata": {},
   "source": [
    "Cílem toho kurzu **není** udělat z vás bezchybné a profesionální **datové analytiky** nebo **datové inženýry**.\n",
    "\n",
    "<br>\n",
    "\n",
    "Cílem je obohatit tvůj stack, nebo portfolio nástrojů, které ti umožní:\n",
    "* rozmýšlet, jaká **pracovní prostředí** máš k dispozici a kdy je použít,\n",
    "* uchopit **efektivnější datové typy**, kde je získat a jak je používat,\n",
    "* manipulovat lépe **s různými zdroji dat**,\n",
    "* **načítání, validování** a procházení dat,\n",
    "* **vizualizovat data**."
   ]
  },
  {
   "cell_type": "markdown",
   "id": "narrow-elimination",
   "metadata": {},
   "source": [
    "Než se ale vůbec začneš nástroje, bude vhodné, seznámit tě **s prostředími**, kde budeš moct posléze pracovat."
   ]
  },
  {
   "cell_type": "markdown",
   "id": "broke-architecture",
   "metadata": {},
   "source": [
    "<img src=\"https://external-content.duckduckgo.com/iu/?u=https%3A%2F%2Ftse3.mm.bing.net%2Fth%3Fid%3DOIP.H2BkU9bqGfzRSMZ3S3Sx0QHaHa%26pid%3DApi&f=1&ipt=4cf9116d27fba72ce0224dba99b4ff36a1867aa0351c892e1c8ede5793e267e7&ipo=images\" width=\"100\"/>"
   ]
  },
  {
   "cell_type": "markdown",
   "id": "convertible-flower",
   "metadata": {},
   "source": [
    "## Pracovní prostředí\n",
    "\n",
    "---"
   ]
  },
  {
   "cell_type": "markdown",
   "id": "coastal-pricing",
   "metadata": {},
   "source": [
    "Konkrétních variant je spousta, ale jako dobrý základ můžeš použít následující:\n",
    "\n",
    "* Interpret, interaktivní interpret,\n",
    "* editor/IDE,\n",
    "* Hub/Notebooky,\n",
    "* (pokročilé) docker kontejnery."
   ]
  },
  {
   "cell_type": "markdown",
   "id": "fatty-stewart",
   "metadata": {},
   "source": [
    "<img src=\"https://external-content.duckduckgo.com/iu/?u=https%3A%2F%2Ftse1.mm.bing.net%2Fth%3Fid%3DOIP.tzfIjIrb-x4w5Rr-6GQKZQHaGn%26pid%3DApi&f=1&ipt=c295ddf9634cf8a936cad9d98a3e7d6cb131bce35f810e3f6e8930739b98ffdd&ipo=images\" width=\"100\"/>"
   ]
  },
  {
   "cell_type": "markdown",
   "id": "complex-sailing",
   "metadata": {},
   "source": [
    "## Konzole, příkazový řádek\n",
    "\n",
    "---\n",
    "\n",
    "Klasický *Pythonní interpret* a *interaktivní interpret* jsou jednoduchá, přesto všestranná pracovní prostředí.\n",
    "\n",
    "Jejich hlavní síla spočívá **v přenositelnosti**.\n",
    "\n",
    "<br>\n",
    "\n",
    "Ne všude budeš mít k dispozici nějaké grafické prostředí (GUI). Přesto se ti může hodit pomocník, které ti dovede lehké debugování nebo ověřování usnadnit."
   ]
  },
  {
   "cell_type": "markdown",
   "id": "pregnant-victoria",
   "metadata": {},
   "source": [
    "Instalaci *interaktivního interpreta* IPythonu je možné provést pomocí příkazu:"
   ]
  },
  {
   "cell_type": "code",
   "execution_count": null,
   "id": "elegant-knight",
   "metadata": {},
   "outputs": [],
   "source": [
    "!pip install ipython"
   ]
  },
  {
   "cell_type": "markdown",
   "id": "efficient-belgium",
   "metadata": {},
   "source": [
    "..s následnou kontrolou pomocí výpisu verze **IPythonu**:"
   ]
  },
  {
   "cell_type": "code",
   "execution_count": null,
   "id": "logical-upset",
   "metadata": {},
   "outputs": [],
   "source": [
    "!ipython --version"
   ]
  },
  {
   "cell_type": "markdown",
   "id": "proved-vision",
   "metadata": {},
   "source": [
    "Pokud chceš používat přímo *Hub* nebo Notebooky, stačí nainstalovat ty a **IPython** nainstaluješ jako jejich součást."
   ]
  },
  {
   "cell_type": "markdown",
   "id": "governing-attraction",
   "metadata": {},
   "source": [
    "### Základní nástroje, vypiš mi nápovědu\n",
    "\n",
    "V rámci *interpreta* můžeš pracovat s nápovědou pomocí funkce `help()`:"
   ]
  },
  {
   "cell_type": "code",
   "execution_count": null,
   "id": "organic-convention",
   "metadata": {},
   "outputs": [],
   "source": [
    "help(list.copy)"
   ]
  },
  {
   "cell_type": "markdown",
   "id": "express-craft",
   "metadata": {},
   "source": [
    "U *interaktivního interpreta* můžeš používat nápovědů také a daleko elegantněji:"
   ]
  },
  {
   "cell_type": "code",
   "execution_count": null,
   "id": "varying-ethiopia",
   "metadata": {},
   "outputs": [],
   "source": [
    "list.copy?"
   ]
  },
  {
   "cell_type": "markdown",
   "id": "engaged-crisis",
   "metadata": {},
   "source": [
    "K tomu ti postačí za libovolný výraz dopsat otazník `?`.\n",
    "\n",
    "Výsledek bude praktický stejný s tím, že podle verze IPythonu se místo textového výstupu objeví **vyskakovací okno**."
   ]
  },
  {
   "cell_type": "code",
   "execution_count": null,
   "id": "nutritional-bahrain",
   "metadata": {},
   "outputs": [],
   "source": [
    "len?"
   ]
  },
  {
   "cell_type": "code",
   "execution_count": null,
   "id": "occasional-temperature",
   "metadata": {},
   "outputs": [],
   "source": [
    "jmena = [\"Matouš\", \"Lukáš\", \"Marek\"]\n",
    "jmena.append?"
   ]
  },
  {
   "cell_type": "markdown",
   "id": "banned-plumbing",
   "metadata": {},
   "source": [
    "Stejně jako funkce `help` můžeš nápovědu používat pro *uživ. funkce*:"
   ]
  },
  {
   "cell_type": "code",
   "execution_count": null,
   "id": "collective-twenty",
   "metadata": {},
   "outputs": [],
   "source": [
    "import datetime"
   ]
  },
  {
   "cell_type": "code",
   "execution_count": null,
   "id": "august-cross",
   "metadata": {},
   "outputs": [],
   "source": [
    "def vypis_zpravu_s_casem(cas: str, zprava: str) -> str:\n",
    "    \"\"\"\n",
    "    Vrať výstup jako naformátovanou zprávu s aktuálním časem.\n",
    "    \n",
    "    :param cas: údaj s časem.\n",
    "    :type cas: str\n",
    "    :param zprava: zadaný text.\n",
    "    :type zprava: str\n",
    "    \n",
    "    :Example:\n",
    "    >>> import datetime\n",
    "    >>> vypis_zpravu(\n",
    "    ...     \"18:43:15\",\n",
    "    ...     \"Ahoj na první lekci\"\n",
    "    ... )\n",
    "    18:43:15, Ahoj na první lekci\n",
    "    \"\"\"\n",
    "    return f\"{cas}, {zprava}\""
   ]
  },
  {
   "cell_type": "code",
   "execution_count": null,
   "id": "jewish-congress",
   "metadata": {},
   "outputs": [],
   "source": [
    "vypis_zpravu_s_casem(\n",
    "    datetime.datetime.now().strftime(\"%H:%M:%S\"),\n",
    "    \"Ahoj na první lekci\"\n",
    ")"
   ]
  },
  {
   "cell_type": "code",
   "execution_count": null,
   "id": "presidential-terrorism",
   "metadata": {},
   "outputs": [],
   "source": [
    "vypis_zpravu_s_casem?"
   ]
  },
  {
   "cell_type": "markdown",
   "id": "broadband-testing",
   "metadata": {},
   "source": [
    "Takže směle do psaní *docstringů* a zobrazování dokumentace.\n",
    "\n",
    "Pokud budeš mít zájem dohledat nejen popis, ale i podobu objektu.."
   ]
  },
  {
   "cell_type": "markdown",
   "id": "inclusive-sweden",
   "metadata": {},
   "source": [
    "### Základní nápověda, zobraz zdrojový kód"
   ]
  },
  {
   "cell_type": "markdown",
   "id": "third-matter",
   "metadata": {},
   "source": [
    "Někdy může být nápomocné, získat kromě popisku také náhled na objekt samotný:"
   ]
  },
  {
   "cell_type": "code",
   "execution_count": null,
   "id": "lined-gilbert",
   "metadata": {},
   "outputs": [],
   "source": [
    "vypis_zpravu_s_casem??"
   ]
  },
  {
   "cell_type": "markdown",
   "id": "economic-ethnic",
   "metadata": {},
   "source": [
    "U takových jednoduchých uživ. funkcí je zdroj poměrně přímočarý.\n",
    "\n",
    "U jiných knihoven může být naopak trochu upovídaný:"
   ]
  },
  {
   "cell_type": "code",
   "execution_count": null,
   "id": "appreciated-right",
   "metadata": {},
   "outputs": [],
   "source": [
    "import pandas"
   ]
  },
  {
   "cell_type": "code",
   "execution_count": null,
   "id": "medical-samba",
   "metadata": {},
   "outputs": [],
   "source": [
    "pandas.read_csv??"
   ]
  },
  {
   "cell_type": "markdown",
   "id": "prepared-powder",
   "metadata": {},
   "source": [
    "A někdy nápověda pomocí `??` nezobrazí vůbec nic.\n",
    "\n",
    "Obecně řečeno je to zapříčiněné tím, že objekt, na který chceš vidět nápovědu není v Pythonu zavedený (implementovaný), ale je používaný objekt z jiného jazyku (v případě tohoto *interpreta* v C)."
   ]
  },
  {
   "cell_type": "code",
   "execution_count": null,
   "id": "dense-snapshot",
   "metadata": {},
   "outputs": [],
   "source": [
    "len??"
   ]
  },
  {
   "cell_type": "markdown",
   "id": "literary-carroll",
   "metadata": {},
   "source": [
    "### Základní nápověda, našeptávání\n",
    "\n",
    "Pokud se ti občas stane, že si nepamatuješ jméno různých objektů, můžeš vyzkoušet nápovědu.\n",
    "\n",
    "Občas ti vypadne jméno známého datového typu:"
   ]
  },
  {
   "cell_type": "code",
   "execution_count": null,
   "id": "radical-valley",
   "metadata": {},
   "outputs": [],
   "source": [
    "prijmeni = list()"
   ]
  },
  {
   "cell_type": "code",
   "execution_count": null,
   "id": "exact-browse",
   "metadata": {},
   "outputs": [],
   "source": [
    "prijmeni."
   ]
  },
  {
   "cell_type": "code",
   "execution_count": null,
   "id": "fourth-september",
   "metadata": {},
   "outputs": [],
   "source": [
    "prijmeni.c"
   ]
  },
  {
   "cell_type": "markdown",
   "id": "colonial-prayer",
   "metadata": {},
   "source": [
    "Stačí napsat jméno objektu, `prijmeni` a tečku.\n",
    "\n",
    "Následně stačí stisknout klávesu `TAB` a IPython ti zobrazovazí skrollovací nabídku."
   ]
  },
  {
   "cell_type": "markdown",
   "id": "inappropriate-convention",
   "metadata": {},
   "source": [
    "<br>\n",
    "\n",
    "Někdy je potřeba doplnit **méně patrnou metodu** nebo **konstantu** *z knihoven třetích stran*:"
   ]
  },
  {
   "cell_type": "code",
   "execution_count": null,
   "id": "aboriginal-commitment",
   "metadata": {},
   "outputs": [],
   "source": [
    "from collections import OrderedDict"
   ]
  },
  {
   "cell_type": "code",
   "execution_count": null,
   "id": "polar-toolbox",
   "metadata": {},
   "outputs": [],
   "source": [
    "mesta = OrderedDict()"
   ]
  },
  {
   "cell_type": "code",
   "execution_count": null,
   "id": "specific-township",
   "metadata": {},
   "outputs": [],
   "source": [
    "mesta."
   ]
  },
  {
   "cell_type": "markdown",
   "id": "sudden-jumping",
   "metadata": {},
   "source": [
    "Další pomůckou může být doplňování při nahrávání jak knihoven, tak konkrétních modulů:"
   ]
  },
  {
   "cell_type": "code",
   "execution_count": null,
   "id": "healthy-library",
   "metadata": {},
   "outputs": [],
   "source": [
    "from itertools import "
   ]
  },
  {
   "cell_type": "code",
   "execution_count": null,
   "id": "external-planning",
   "metadata": {},
   "outputs": [],
   "source": [
    "from typing import "
   ]
  },
  {
   "cell_type": "markdown",
   "id": "czech-client",
   "metadata": {},
   "source": [
    "##### Demo, importování v IPythonu"
   ]
  },
  {
   "cell_type": "markdown",
   "id": "rental-lewis",
   "metadata": {},
   "source": [
    "## Magické příkazy"
   ]
  },
  {
   "cell_type": "markdown",
   "id": "suspended-failure",
   "metadata": {},
   "source": [
    "%paste and %cpaste"
   ]
  },
  {
   "cell_type": "markdown",
   "id": "initial-merit",
   "metadata": {},
   "source": [
    "%run"
   ]
  },
  {
   "cell_type": "markdown",
   "id": "removed-oakland",
   "metadata": {},
   "source": [
    "%timeit"
   ]
  },
  {
   "cell_type": "markdown",
   "id": "dependent-johns",
   "metadata": {},
   "source": [
    "%lsmagic"
   ]
  },
  {
   "cell_type": "markdown",
   "id": "oriental-seller",
   "metadata": {},
   "source": [
    "%history"
   ]
  },
  {
   "cell_type": "markdown",
   "id": "moderate-chambers",
   "metadata": {},
   "source": [
    "%prun"
   ]
  },
  {
   "cell_type": "markdown",
   "id": "toxic-beginning",
   "metadata": {},
   "source": [
    "<img src=\"https://external-content.duckduckgo.com/iu/?u=https%3A%2F%2Ftse4.mm.bing.net%2Fth%3Fid%3DOIP.W2N7dQ3O6Ap5P9j5ySALFgHaHa%26pid%3DApi&f=1&ipt=7281764d1fc68c062b10965458a6f0ba9c4c28b1cebcd949afa0d57907cd2bbe&ipo=images\" width=\"200\"/>"
   ]
  },
  {
   "cell_type": "markdown",
   "id": "thirty-soccer",
   "metadata": {},
   "source": [
    "## Integrace SQL v rámci notebooků\n",
    "\n",
    "---"
   ]
  },
  {
   "cell_type": "markdown",
   "id": "fossil-sigma",
   "metadata": {},
   "source": [
    "Pokud chceš jednoduše pracovat s databázovými systémy pohodlně a **z prostředí notebooků**, musíš si nejprve nainstalovat pomocnou knihovnu `ipython-sql`([zdroj](https://pypi.org/project/ipython-sql/)):"
   ]
  },
  {
   "cell_type": "code",
   "execution_count": 3,
   "id": "hidden-sandwich",
   "metadata": {},
   "outputs": [],
   "source": [
    "!pip install ipython-sql"
   ]
  },
  {
   "cell_type": "markdown",
   "id": "finite-bahamas",
   "metadata": {},
   "source": [
    "<br>\n",
    "\n",
    "Jakmile je knihovna nainstalovaná, stačí načíst pomocí dalšího [magického tlačítka](#Magické-příkazy) `%load_ext sql`:"
   ]
  },
  {
   "cell_type": "code",
   "execution_count": 1,
   "id": "recognized-bones",
   "metadata": {},
   "outputs": [],
   "source": [
    "%load_ext sql"
   ]
  },
  {
   "cell_type": "markdown",
   "id": "romantic-integrity",
   "metadata": {},
   "source": [
    "<br>\n",
    "\n",
    "Nyní můžeš vyzkoušet knihovnu na existující databázi `<name>`:"
   ]
  },
  {
   "cell_type": "code",
   "execution_count": 2,
   "id": "insured-margin",
   "metadata": {},
   "outputs": [],
   "source": [
    "%sql sqlite://"
   ]
  },
  {
   "cell_type": "code",
   "execution_count": null,
   "id": "resistant-second",
   "metadata": {},
   "outputs": [],
   "source": []
  },
  {
   "cell_type": "markdown",
   "id": "nonprofit-password",
   "metadata": {},
   "source": [
    "## Chystání connection v rámci Pythonu\n",
    "\n",
    "---"
   ]
  },
  {
   "cell_type": "markdown",
   "id": "periodic-tours",
   "metadata": {},
   "source": [
    "mssql, resp. pyodbc, obecně"
   ]
  },
  {
   "cell_type": "markdown",
   "id": "plastic-andorra",
   "metadata": {},
   "source": [
    "Chystání [connection objektů](https://realpython.com/python-sql-libraries/#sqlite) pro Python,\n",
    "    - Creating Tables,\n",
    "    - Inserting Records,\n",
    "    - Selecting Records,\n",
    "    - Updating Table Records,\n",
    "    - Deleting Table Records."
   ]
  },
  {
   "cell_type": "markdown",
   "id": "quarterly-philippines",
   "metadata": {},
   "source": [
    "v rámci kontextového manažeru"
   ]
  },
  {
   "cell_type": "markdown",
   "id": "affected-combination",
   "metadata": {},
   "source": [
    "v rámci knihovny pand"
   ]
  },
  {
   "cell_type": "code",
   "execution_count": null,
   "id": "adjustable-storage",
   "metadata": {},
   "outputs": [],
   "source": []
  },
  {
   "cell_type": "markdown",
   "id": "grave-internship",
   "metadata": {},
   "source": [
    "### Druhá lekce\n",
    "1. `numpy`,\n",
    "    - intro ke knihovně, jak s ní pracovat, kde, verze,\n",
    "    - rozdíl datových typů, list a integer,\n",
    "    - datové typy v Numpy,\n",
    "    - array v Pythonu, array v numpy, základy,jejich atributy,\n",
    "    - operace s maticemi, array,\n",
    "    - Ufunks,\n",
    "    - agregace.\n",
    "    \n",
    "2. Knihovna `numpy`.\n",
    "    - Co je to za knihovnu, proč ji mám znát?\n",
    "    - Základní datové typy, numpy array, co jsou zač, kde je jich potřeba?\n",
    "    - Performance rozdíly. Agregace, výpočty, srovnávání."
   ]
  },
  {
   "cell_type": "markdown",
   "id": "assisted-cabin",
   "metadata": {},
   "source": [
    "### třetí lekce\n",
    "\n",
    "2. `pandas` I.,\n",
    "    - Úvod do frameworku, proč je dobré jej ovládat, kde s ním pracovat?\n",
    "    - jaké jsou základní datové typy? (Dframe, series, časové řady)\n",
    "    - základní orientace, indexování,"
   ]
  },
  {
   "cell_type": "markdown",
   "id": "united-shoot",
   "metadata": {},
   "source": [
    "### čtvrtá lekce\n",
    "\n",
    "2. `pandas` II.,\n",
    "    - file io, encoding, chybějící data,\n",
    "    - kombinace datasetů, concat, append, merge, join,\n",
    "    - časové řady, možná?\n",
    "    - eval() a query() jako high-perf operace."
   ]
  },
  {
   "cell_type": "markdown",
   "id": "laden-column",
   "metadata": {},
   "source": [
    "### pátá lekce\n",
    "\n",
    "3. `matplotlib` a `seaborn`.\n",
    "    - Úvod do knihovny, její výhody a kdy ji potřebuji?\n",
    "    - jednoduché grafy, nastavení, stdout,\n",
    "    - scatter grafy, nastavení, stdout,\n",
    "    - customizace výstupů, rozvržení, organizace."
   ]
  },
  {
   "cell_type": "code",
   "execution_count": null,
   "id": "empirical-breakdown",
   "metadata": {},
   "outputs": [],
   "source": []
  }
 ],
 "metadata": {
  "kernelspec": {
   "display_name": "Python 3",
   "language": "python",
   "name": "python3"
  },
  "language_info": {
   "codemirror_mode": {
    "name": "ipython",
    "version": 3
   },
   "file_extension": ".py",
   "mimetype": "text/x-python",
   "name": "python",
   "nbconvert_exporter": "python",
   "pygments_lexer": "ipython3",
   "version": "3.8.6"
  }
 },
 "nbformat": 4,
 "nbformat_minor": 5
}

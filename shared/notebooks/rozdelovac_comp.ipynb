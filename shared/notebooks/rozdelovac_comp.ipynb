{
 "cells": [
  {
   "cell_type": "markdown",
   "id": "prompt-remove",
   "metadata": {},
   "source": [
    "## KN, projekt"
   ]
  },
  {
   "cell_type": "markdown",
   "id": "neutral-theta",
   "metadata": {},
   "source": [
    "#### Init"
   ]
  },
  {
   "cell_type": "code",
   "execution_count": 64,
   "id": "administrative-sherman",
   "metadata": {},
   "outputs": [],
   "source": [
    "import os\n",
    "from pathlib import PurePath"
   ]
  },
  {
   "cell_type": "code",
   "execution_count": 65,
   "id": "nervous-resistance",
   "metadata": {},
   "outputs": [],
   "source": [
    "import pandas"
   ]
  },
  {
   "cell_type": "code",
   "execution_count": 2,
   "id": "statewide-interpretation",
   "metadata": {},
   "outputs": [
    {
     "name": "stdout",
     "output_type": "stream",
     "text": [
      "total 884\r\n",
      "-rw-rw-r-- 1 jovyan 1000 903253 Feb 28 06:48 sraz_vse_bu.csv\r\n"
     ]
    }
   ],
   "source": [
    "!ls -l ../onsite/tata"
   ]
  },
  {
   "cell_type": "code",
   "execution_count": 25,
   "id": "alleged-permission",
   "metadata": {},
   "outputs": [],
   "source": [
    "csv_file = pandas.read_csv(\"../onsite/tata/sraz_vse_bu.csv\")"
   ]
  },
  {
   "cell_type": "markdown",
   "id": "greater-tanzania",
   "metadata": {},
   "source": [
    "### Je soubor CSV"
   ]
  },
  {
   "cell_type": "code",
   "execution_count": 68,
   "id": "experienced-fusion",
   "metadata": {},
   "outputs": [],
   "source": [
    "filename = \"../onsite/tata/sraz_vse_bu.pdf\""
   ]
  },
  {
   "cell_type": "code",
   "execution_count": 69,
   "id": "handed-immigration",
   "metadata": {},
   "outputs": [],
   "source": [
    "def is_file_valid(filename: str, valid: tuple = (\".csv\")) -> bool:\n",
    "    return PurePath(filename).suffix in valid"
   ]
  },
  {
   "cell_type": "code",
   "execution_count": 70,
   "id": "metallic-playback",
   "metadata": {},
   "outputs": [
    {
     "data": {
      "text/plain": [
       "False"
      ]
     },
     "execution_count": 70,
     "metadata": {},
     "output_type": "execute_result"
    }
   ],
   "source": [
    "is_file_valid(filename)"
   ]
  },
  {
   "cell_type": "code",
   "execution_count": 59,
   "id": "numerical-proxy",
   "metadata": {},
   "outputs": [
    {
     "data": {
      "text/plain": [
       "'.csv'"
      ]
     },
     "execution_count": 59,
     "metadata": {},
     "output_type": "execute_result"
    }
   ],
   "source": [
    "pathlib.PurePath(filename).suffix"
   ]
  },
  {
   "cell_type": "code",
   "execution_count": 26,
   "id": "professional-scenario",
   "metadata": {},
   "outputs": [
    {
     "data": {
      "text/plain": [
       "pandas.core.frame.DataFrame"
      ]
     },
     "execution_count": 26,
     "metadata": {},
     "output_type": "execute_result"
    }
   ],
   "source": [
    "type(csv_file)"
   ]
  },
  {
   "cell_type": "code",
   "execution_count": 4,
   "id": "artificial-mistake",
   "metadata": {},
   "outputs": [
    {
     "name": "stdout",
     "output_type": "stream",
     "text": [
      "<class 'pandas.core.frame.DataFrame'>\n",
      "RangeIndex: 1455 entries, 0 to 1454\n",
      "Data columns (total 19 columns):\n",
      " #   Column              Non-Null Count  Dtype  \n",
      "---  ------              --------------  -----  \n",
      " 0   IČ                  1455 non-null   object \n",
      " 1   RČ                  1455 non-null   object \n",
      " 2   Název               1455 non-null   object \n",
      " 3   Příjmení            1455 non-null   object \n",
      " 4   Jméno               1455 non-null   object \n",
      " 5   Titul               1455 non-null   object \n",
      " 6   TitulZ              1455 non-null   object \n",
      " 7   LV                  1455 non-null   int64  \n",
      " 8   Podíl               1455 non-null   object \n",
      " 9   ULICE               1454 non-null   object \n",
      " 10  OBEC                1455 non-null   object \n",
      " 11  PSC                 1450 non-null   float64\n",
      " 12  DRUH_CISLOVANI_PAR  1455 non-null   object \n",
      " 13  Parcela             1455 non-null   object \n",
      " 14  Datum               1455 non-null   object \n",
      " 15  CAS                 1455 non-null   float64\n",
      " 16  KATUZE_KOD          1455 non-null   object \n",
      " 17  sraz                1455 non-null   object \n",
      " 18  Unnamed: 18         377 non-null    object \n",
      "dtypes: float64(2), int64(1), object(16)\n",
      "memory usage: 216.1+ KB\n"
     ]
    }
   ],
   "source": [
    "csv_file.info()"
   ]
  },
  {
   "cell_type": "code",
   "execution_count": 27,
   "id": "consistent-piece",
   "metadata": {},
   "outputs": [
    {
     "data": {
      "text/html": [
       "<div>\n",
       "<style scoped>\n",
       "    .dataframe tbody tr th:only-of-type {\n",
       "        vertical-align: middle;\n",
       "    }\n",
       "\n",
       "    .dataframe tbody tr th {\n",
       "        vertical-align: top;\n",
       "    }\n",
       "\n",
       "    .dataframe thead th {\n",
       "        text-align: right;\n",
       "    }\n",
       "</style>\n",
       "<table border=\"1\" class=\"dataframe\">\n",
       "  <thead>\n",
       "    <tr style=\"text-align: right;\">\n",
       "      <th></th>\n",
       "      <th>IČ</th>\n",
       "      <th>RČ</th>\n",
       "      <th>Název</th>\n",
       "      <th>Příjmení</th>\n",
       "      <th>Jméno</th>\n",
       "      <th>Titul</th>\n",
       "      <th>TitulZ</th>\n",
       "      <th>LV</th>\n",
       "      <th>Podíl</th>\n",
       "      <th>ULICE</th>\n",
       "      <th>OBEC</th>\n",
       "      <th>PSC</th>\n",
       "      <th>DRUH_CISLOVANI_PAR</th>\n",
       "      <th>Parcela</th>\n",
       "      <th>Datum</th>\n",
       "      <th>CAS</th>\n",
       "      <th>KATUZE_KOD</th>\n",
       "      <th>sraz</th>\n",
       "      <th>Unnamed: 18</th>\n",
       "    </tr>\n",
       "  </thead>\n",
       "  <tbody>\n",
       "    <tr>\n",
       "      <th>0</th>\n",
       "      <td>28561325</td>\n",
       "      <td></td>\n",
       "      <td>ADRAS REALITY s.r.o.                          ...</td>\n",
       "      <td>...</td>\n",
       "      <td>...</td>\n",
       "      <td></td>\n",
       "      <td></td>\n",
       "      <td>239</td>\n",
       "      <td>1/3</td>\n",
       "      <td>Sokolská 21 č.p.576</td>\n",
       "      <td>Olomouc</td>\n",
       "      <td>77900.0</td>\n",
       "      <td>2</td>\n",
       "      <td>KN 696</td>\n",
       "      <td>5.12.2022</td>\n",
       "      <td>10.0</td>\n",
       "      <td>Lhotka u Kroměříže</td>\n",
       "      <td>sraz 2</td>\n",
       "      <td>NaN</td>\n",
       "    </tr>\n",
       "    <tr>\n",
       "      <th>1</th>\n",
       "      <td>28561325</td>\n",
       "      <td></td>\n",
       "      <td>ADRAS REALITY s.r.o.                          ...</td>\n",
       "      <td>...</td>\n",
       "      <td>...</td>\n",
       "      <td></td>\n",
       "      <td></td>\n",
       "      <td>239</td>\n",
       "      <td>1/3</td>\n",
       "      <td>Sokolská 21 č.p.576</td>\n",
       "      <td>Olomouc</td>\n",
       "      <td>77900.0</td>\n",
       "      <td>st.</td>\n",
       "      <td>KN 43</td>\n",
       "      <td>5.12.2022</td>\n",
       "      <td>10.0</td>\n",
       "      <td>Lhotka u Kroměříže</td>\n",
       "      <td>sraz 2</td>\n",
       "      <td>x</td>\n",
       "    </tr>\n",
       "    <tr>\n",
       "      <th>2</th>\n",
       "      <td>48399345</td>\n",
       "      <td></td>\n",
       "      <td>AGROPOS s.r.o.                                ...</td>\n",
       "      <td>...</td>\n",
       "      <td>...</td>\n",
       "      <td></td>\n",
       "      <td></td>\n",
       "      <td>648</td>\n",
       "      <td>1/1</td>\n",
       "      <td>Křenovská č.p.1051</td>\n",
       "      <td>Kojetín, Kojetín I-Město</td>\n",
       "      <td>75201.0</td>\n",
       "      <td>2</td>\n",
       "      <td>KN 167</td>\n",
       "      <td>6.12.2022</td>\n",
       "      <td>10.0</td>\n",
       "      <td>Újezdsko</td>\n",
       "      <td>sraz 6</td>\n",
       "      <td>NaN</td>\n",
       "    </tr>\n",
       "    <tr>\n",
       "      <th>3</th>\n",
       "      <td>48399345</td>\n",
       "      <td></td>\n",
       "      <td>AGROPOS s.r.o.                                ...</td>\n",
       "      <td>...</td>\n",
       "      <td>...</td>\n",
       "      <td></td>\n",
       "      <td></td>\n",
       "      <td>462</td>\n",
       "      <td>1/1</td>\n",
       "      <td>Křenovská č.p.1051</td>\n",
       "      <td>Kojetín, Kojetín I-Město</td>\n",
       "      <td>75201.0</td>\n",
       "      <td>2</td>\n",
       "      <td>KN 729/2</td>\n",
       "      <td>7.12.2022</td>\n",
       "      <td>9.3</td>\n",
       "      <td>Kostelany</td>\n",
       "      <td>sraz 10</td>\n",
       "      <td>NaN</td>\n",
       "    </tr>\n",
       "    <tr>\n",
       "      <th>4</th>\n",
       "      <td>48399345</td>\n",
       "      <td></td>\n",
       "      <td>AGROPOS s.r.o.                                ...</td>\n",
       "      <td>...</td>\n",
       "      <td>...</td>\n",
       "      <td></td>\n",
       "      <td></td>\n",
       "      <td>648</td>\n",
       "      <td>1/1</td>\n",
       "      <td>Křenovská č.p.1051</td>\n",
       "      <td>Kojetín, Kojetín I-Město</td>\n",
       "      <td>75201.0</td>\n",
       "      <td>2</td>\n",
       "      <td>KN 149/33</td>\n",
       "      <td>14.12.2022</td>\n",
       "      <td>10.3</td>\n",
       "      <td>Újezdsko</td>\n",
       "      <td>sraz 24</td>\n",
       "      <td>NaN</td>\n",
       "    </tr>\n",
       "  </tbody>\n",
       "</table>\n",
       "</div>"
      ],
      "text/plain": [
       "         IČ          RČ                                              Název  \\\n",
       "0  28561325              ADRAS REALITY s.r.o.                          ...   \n",
       "1  28561325              ADRAS REALITY s.r.o.                          ...   \n",
       "2  48399345              AGROPOS s.r.o.                                ...   \n",
       "3  48399345              AGROPOS s.r.o.                                ...   \n",
       "4  48399345              AGROPOS s.r.o.                                ...   \n",
       "\n",
       "                                            Příjmení  \\\n",
       "0                                                ...   \n",
       "1                                                ...   \n",
       "2                                                ...   \n",
       "3                                                ...   \n",
       "4                                                ...   \n",
       "\n",
       "                                               Jméno  \\\n",
       "0                                                ...   \n",
       "1                                                ...   \n",
       "2                                                ...   \n",
       "3                                                ...   \n",
       "4                                                ...   \n",
       "\n",
       "                                 Titul      TitulZ   LV Podíl  \\\n",
       "0                                                   239   1/3   \n",
       "1                                                   239   1/3   \n",
       "2                                                   648   1/1   \n",
       "3                                                   462   1/1   \n",
       "4                                                   648   1/1   \n",
       "\n",
       "                 ULICE                      OBEC      PSC DRUH_CISLOVANI_PAR  \\\n",
       "0  Sokolská 21 č.p.576                   Olomouc  77900.0                  2   \n",
       "1  Sokolská 21 č.p.576                   Olomouc  77900.0                st.   \n",
       "2   Křenovská č.p.1051  Kojetín, Kojetín I-Město  75201.0                  2   \n",
       "3   Křenovská č.p.1051  Kojetín, Kojetín I-Město  75201.0                  2   \n",
       "4   Křenovská č.p.1051  Kojetín, Kojetín I-Město  75201.0                  2   \n",
       "\n",
       "     Parcela       Datum   CAS          KATUZE_KOD     sraz Unnamed: 18  \n",
       "0     KN 696   5.12.2022  10.0  Lhotka u Kroměříže   sraz 2         NaN  \n",
       "1      KN 43   5.12.2022  10.0  Lhotka u Kroměříže   sraz 2           x  \n",
       "2     KN 167   6.12.2022  10.0            Újezdsko   sraz 6         NaN  \n",
       "3   KN 729/2   7.12.2022   9.3           Kostelany  sraz 10         NaN  \n",
       "4  KN 149/33  14.12.2022  10.3            Újezdsko  sraz 24         NaN  "
      ]
     },
     "execution_count": 27,
     "metadata": {},
     "output_type": "execute_result"
    }
   ],
   "source": [
    "csv_file.head()"
   ]
  },
  {
   "cell_type": "code",
   "execution_count": 16,
   "id": "current-pleasure",
   "metadata": {},
   "outputs": [],
   "source": [
    "columns = csv_file.columns.to_list()"
   ]
  },
  {
   "cell_type": "markdown",
   "id": "accompanied-clearing",
   "metadata": {},
   "source": [
    "### Preprocessing"
   ]
  },
  {
   "cell_type": "code",
   "execution_count": null,
   "id": "dying-shipping",
   "metadata": {},
   "outputs": [],
   "source": [
    "max_"
   ]
  },
  {
   "cell_type": "code",
   "execution_count": 17,
   "id": "excessive-photographer",
   "metadata": {},
   "outputs": [
    {
     "data": {
      "text/plain": [
       "['IČ',\n",
       " 'RČ',\n",
       " 'Název',\n",
       " 'Příjmení',\n",
       " 'Jméno',\n",
       " 'Titul',\n",
       " 'TitulZ',\n",
       " 'LV',\n",
       " 'Podíl',\n",
       " 'ULICE',\n",
       " 'OBEC',\n",
       " 'PSC',\n",
       " 'DRUH_CISLOVANI_PAR',\n",
       " 'Parcela',\n",
       " 'Datum',\n",
       " 'CAS',\n",
       " 'KATUZE_KOD',\n",
       " 'sraz',\n",
       " 'Unnamed: 18']"
      ]
     },
     "execution_count": 17,
     "metadata": {},
     "output_type": "execute_result"
    }
   ],
   "source": [
    "columns"
   ]
  },
  {
   "cell_type": "code",
   "execution_count": 5,
   "id": "sealed-protest",
   "metadata": {},
   "outputs": [],
   "source": [
    "csv_file[\"PSC\"] = csv_file[\"PSC\"].astype(str)"
   ]
  },
  {
   "cell_type": "code",
   "execution_count": 6,
   "id": "spread-activity",
   "metadata": {},
   "outputs": [
    {
     "name": "stdout",
     "output_type": "stream",
     "text": [
      "<class 'pandas.core.frame.DataFrame'>\n",
      "RangeIndex: 1455 entries, 0 to 1454\n",
      "Data columns (total 19 columns):\n",
      " #   Column              Non-Null Count  Dtype  \n",
      "---  ------              --------------  -----  \n",
      " 0   IČ                  1455 non-null   object \n",
      " 1   RČ                  1455 non-null   object \n",
      " 2   Název               1455 non-null   object \n",
      " 3   Příjmení            1455 non-null   object \n",
      " 4   Jméno               1455 non-null   object \n",
      " 5   Titul               1455 non-null   object \n",
      " 6   TitulZ              1455 non-null   object \n",
      " 7   LV                  1455 non-null   int64  \n",
      " 8   Podíl               1455 non-null   object \n",
      " 9   ULICE               1454 non-null   object \n",
      " 10  OBEC                1455 non-null   object \n",
      " 11  PSC                 1455 non-null   object \n",
      " 12  DRUH_CISLOVANI_PAR  1455 non-null   object \n",
      " 13  Parcela             1455 non-null   object \n",
      " 14  Datum               1455 non-null   object \n",
      " 15  CAS                 1455 non-null   float64\n",
      " 16  KATUZE_KOD          1455 non-null   object \n",
      " 17  sraz                1455 non-null   object \n",
      " 18  Unnamed: 18         377 non-null    object \n",
      "dtypes: float64(1), int64(1), object(17)\n",
      "memory usage: 216.1+ KB\n"
     ]
    }
   ],
   "source": [
    "csv_file.info()"
   ]
  },
  {
   "cell_type": "markdown",
   "id": "french-nepal",
   "metadata": {},
   "source": [
    "### Kontrola dat"
   ]
  },
  {
   "cell_type": "code",
   "execution_count": 13,
   "id": "danish-backing",
   "metadata": {},
   "outputs": [],
   "source": [
    "missing_ids = csv_file[\"IČ\"].isnull().values.any()\n",
    "missing_years = csv_file[\"RČ\"].isnull().values.any()\n",
    "missing_names = csv_file[\"Název\"].isnull().values.any()"
   ]
  },
  {
   "cell_type": "markdown",
   "id": "unexpected-vessel",
   "metadata": {},
   "source": [
    "##### Chybí mi nějaká hodnota ve sloupcích jméno, ič, rč?"
   ]
  },
  {
   "cell_type": "code",
   "execution_count": 14,
   "id": "homeless-messaging",
   "metadata": {},
   "outputs": [],
   "source": [
    "missing_values = (csv_file[\"IČ\"].isnull().values.any(),\n",
    "                 csv_file[\"RČ\"].isnull().values.any(),\n",
    "                 csv_file[\"Název\"].isnull().values.any()\n",
    "                 )"
   ]
  },
  {
   "cell_type": "code",
   "execution_count": 15,
   "id": "alpha-evaluation",
   "metadata": {},
   "outputs": [
    {
     "data": {
      "text/plain": [
       "False"
      ]
     },
     "execution_count": 15,
     "metadata": {},
     "output_type": "execute_result"
    }
   ],
   "source": [
    "any(missing_values)"
   ]
  },
  {
   "cell_type": "code",
   "execution_count": null,
   "id": "referenced-creation",
   "metadata": {},
   "outputs": [],
   "source": [
    "any_missing = True\n",
    "\n",
    "if not any_missing:\n",
    "    create_row_entity()\n",
    "else:\n",
    "    select_primary_column(df, *args)"
   ]
  },
  {
   "cell_type": "code",
   "execution_count": 33,
   "id": "occupational-circular",
   "metadata": {},
   "outputs": [],
   "source": [
    "def check_every_column(df, *args):\n",
    "    results = dict()\n",
    "    \n",
    "    for arg in args:\n",
    "        if arg in df.columns:\n",
    "            results[arg] = df[arg].isnull().values.any()\n",
    "\n",
    "    else:\n",
    "        return results"
   ]
  },
  {
   "cell_type": "code",
   "execution_count": 35,
   "id": "judicial-police",
   "metadata": {},
   "outputs": [],
   "source": [
    "test_d = select_primary_column(csv_file, \"IČ\", \"RČ\", \"Název\")"
   ]
  },
  {
   "cell_type": "code",
   "execution_count": 39,
   "id": "fatal-detail",
   "metadata": {},
   "outputs": [],
   "source": [
    "for key, val in test_d.items():\n",
    "    if val:\n",
    "        continue\n",
    "    else:\n",
    "        primary_column = key"
   ]
  },
  {
   "cell_type": "code",
   "execution_count": 78,
   "id": "pressed-guide",
   "metadata": {},
   "outputs": [],
   "source": [
    "unique_vals = type(csv_file[primary_column].unique())"
   ]
  },
  {
   "cell_type": "code",
   "execution_count": 85,
   "id": "emerging-pharmacy",
   "metadata": {},
   "outputs": [
    {
     "name": "stdout",
     "output_type": "stream",
     "text": [
      "['KN 696', 'KN 43']\n",
      "['KN 167', 'KN 729/2', 'KN 149/33', 'KN 294/1']\n"
     ]
    }
   ],
   "source": [
    "for index, row in enumerate(csv_file[primary_column].unique()):\n",
    "        if index == 2:\n",
    "            break\n",
    "        else:\n",
    "            selected_rows = csv_file[csv_file[\"Název\"] == row]\n",
    "            territories = selected_rows[\"Parcela\"].to_list()\n",
    "            print(territories)"
   ]
  },
  {
   "cell_type": "code",
   "execution_count": 71,
   "id": "weighted-question",
   "metadata": {},
   "outputs": [
    {
     "data": {
      "text/plain": [
       "0       ADRAS REALITY s.r.o.                          ...\n",
       "1       ADRAS REALITY s.r.o.                          ...\n",
       "2       AGROPOS s.r.o.                                ...\n",
       "3       AGROPOS s.r.o.                                ...\n",
       "4       AGROPOS s.r.o.                                ...\n",
       "                              ...                        \n",
       "1450                                                  ...\n",
       "1451                                                  ...\n",
       "1452                                                  ...\n",
       "1453                                                  ...\n",
       "1454                                                  ...\n",
       "Name: Název, Length: 1455, dtype: object"
      ]
     },
     "execution_count": 71,
     "metadata": {},
     "output_type": "execute_result"
    }
   ],
   "source": [
    "csv_file[\"Název\"]"
   ]
  },
  {
   "cell_type": "code",
   "execution_count": 52,
   "id": "known-landing",
   "metadata": {},
   "outputs": [
    {
     "data": {
      "text/html": [
       "<div>\n",
       "<style scoped>\n",
       "    .dataframe tbody tr th:only-of-type {\n",
       "        vertical-align: middle;\n",
       "    }\n",
       "\n",
       "    .dataframe tbody tr th {\n",
       "        vertical-align: top;\n",
       "    }\n",
       "\n",
       "    .dataframe thead th {\n",
       "        text-align: right;\n",
       "    }\n",
       "</style>\n",
       "<table border=\"1\" class=\"dataframe\">\n",
       "  <thead>\n",
       "    <tr style=\"text-align: right;\">\n",
       "      <th></th>\n",
       "      <th>IČ</th>\n",
       "      <th>RČ</th>\n",
       "      <th>Název</th>\n",
       "      <th>Příjmení</th>\n",
       "      <th>Jméno</th>\n",
       "      <th>Titul</th>\n",
       "      <th>TitulZ</th>\n",
       "      <th>LV</th>\n",
       "      <th>Podíl</th>\n",
       "      <th>ULICE</th>\n",
       "      <th>OBEC</th>\n",
       "      <th>PSC</th>\n",
       "      <th>DRUH_CISLOVANI_PAR</th>\n",
       "      <th>Parcela</th>\n",
       "      <th>Datum</th>\n",
       "      <th>CAS</th>\n",
       "      <th>KATUZE_KOD</th>\n",
       "      <th>sraz</th>\n",
       "      <th>Unnamed: 18</th>\n",
       "    </tr>\n",
       "  </thead>\n",
       "  <tbody>\n",
       "    <tr>\n",
       "      <th>0</th>\n",
       "      <td>28561325</td>\n",
       "      <td></td>\n",
       "      <td>ADRAS REALITY s.r.o.                          ...</td>\n",
       "      <td>...</td>\n",
       "      <td>...</td>\n",
       "      <td></td>\n",
       "      <td></td>\n",
       "      <td>239</td>\n",
       "      <td>1/3</td>\n",
       "      <td>Sokolská 21 č.p.576</td>\n",
       "      <td>Olomouc</td>\n",
       "      <td>77900.0</td>\n",
       "      <td>2</td>\n",
       "      <td>KN 696</td>\n",
       "      <td>5.12.2022</td>\n",
       "      <td>10.0</td>\n",
       "      <td>Lhotka u Kroměříže</td>\n",
       "      <td>sraz 2</td>\n",
       "      <td>NaN</td>\n",
       "    </tr>\n",
       "    <tr>\n",
       "      <th>1</th>\n",
       "      <td>28561325</td>\n",
       "      <td></td>\n",
       "      <td>ADRAS REALITY s.r.o.                          ...</td>\n",
       "      <td>...</td>\n",
       "      <td>...</td>\n",
       "      <td></td>\n",
       "      <td></td>\n",
       "      <td>239</td>\n",
       "      <td>1/3</td>\n",
       "      <td>Sokolská 21 č.p.576</td>\n",
       "      <td>Olomouc</td>\n",
       "      <td>77900.0</td>\n",
       "      <td>st.</td>\n",
       "      <td>KN 43</td>\n",
       "      <td>5.12.2022</td>\n",
       "      <td>10.0</td>\n",
       "      <td>Lhotka u Kroměříže</td>\n",
       "      <td>sraz 2</td>\n",
       "      <td>x</td>\n",
       "    </tr>\n",
       "  </tbody>\n",
       "</table>\n",
       "</div>"
      ],
      "text/plain": [
       "         IČ          RČ                                              Název  \\\n",
       "0  28561325              ADRAS REALITY s.r.o.                          ...   \n",
       "1  28561325              ADRAS REALITY s.r.o.                          ...   \n",
       "\n",
       "                                            Příjmení  \\\n",
       "0                                                ...   \n",
       "1                                                ...   \n",
       "\n",
       "                                               Jméno  \\\n",
       "0                                                ...   \n",
       "1                                                ...   \n",
       "\n",
       "                                 Titul      TitulZ   LV Podíl  \\\n",
       "0                                                   239   1/3   \n",
       "1                                                   239   1/3   \n",
       "\n",
       "                 ULICE     OBEC      PSC DRUH_CISLOVANI_PAR Parcela  \\\n",
       "0  Sokolská 21 č.p.576  Olomouc  77900.0                  2  KN 696   \n",
       "1  Sokolská 21 č.p.576  Olomouc  77900.0                st.   KN 43   \n",
       "\n",
       "       Datum   CAS          KATUZE_KOD    sraz Unnamed: 18  \n",
       "0  5.12.2022  10.0  Lhotka u Kroměříže  sraz 2         NaN  \n",
       "1  5.12.2022  10.0  Lhotka u Kroměříže  sraz 2           x  "
      ]
     },
     "execution_count": 52,
     "metadata": {},
     "output_type": "execute_result"
    }
   ],
   "source": [
    "csv_file[csv_file[\"Název\"] == csv_file[\"Název\"][0]]"
   ]
  },
  {
   "cell_type": "markdown",
   "id": "forbidden-consciousness",
   "metadata": {},
   "source": [
    "### Rozdělovač dat uživ."
   ]
  },
  {
   "cell_type": "code",
   "execution_count": 8,
   "id": "humanitarian-subject",
   "metadata": {},
   "outputs": [],
   "source": [
    "row_count = len(csv_file.index)"
   ]
  },
  {
   "cell_type": "code",
   "execution_count": 9,
   "id": "destroyed-convention",
   "metadata": {},
   "outputs": [],
   "source": [
    "for num in range(row_count):\n",
    "    entity = csv_file.iloc[0]\n",
    "    break"
   ]
  },
  {
   "cell_type": "code",
   "execution_count": 11,
   "id": "speaking-bloom",
   "metadata": {},
   "outputs": [
    {
     "data": {
      "text/html": [
       "<div>\n",
       "<style scoped>\n",
       "    .dataframe tbody tr th:only-of-type {\n",
       "        vertical-align: middle;\n",
       "    }\n",
       "\n",
       "    .dataframe tbody tr th {\n",
       "        vertical-align: top;\n",
       "    }\n",
       "\n",
       "    .dataframe thead th {\n",
       "        text-align: right;\n",
       "    }\n",
       "</style>\n",
       "<table border=\"1\" class=\"dataframe\">\n",
       "  <thead>\n",
       "    <tr style=\"text-align: right;\">\n",
       "      <th></th>\n",
       "      <th>IČ</th>\n",
       "      <th>RČ</th>\n",
       "      <th>Název</th>\n",
       "      <th>Příjmení</th>\n",
       "      <th>Jméno</th>\n",
       "      <th>Titul</th>\n",
       "      <th>TitulZ</th>\n",
       "      <th>LV</th>\n",
       "      <th>Podíl</th>\n",
       "      <th>ULICE</th>\n",
       "      <th>OBEC</th>\n",
       "      <th>PSC</th>\n",
       "      <th>DRUH_CISLOVANI_PAR</th>\n",
       "      <th>Parcela</th>\n",
       "      <th>Datum</th>\n",
       "      <th>CAS</th>\n",
       "      <th>KATUZE_KOD</th>\n",
       "      <th>sraz</th>\n",
       "      <th>Unnamed: 18</th>\n",
       "    </tr>\n",
       "  </thead>\n",
       "  <tbody>\n",
       "    <tr>\n",
       "      <th>0</th>\n",
       "      <td>28561325</td>\n",
       "      <td></td>\n",
       "      <td>ADRAS REALITY s.r.o.                          ...</td>\n",
       "      <td>...</td>\n",
       "      <td>...</td>\n",
       "      <td></td>\n",
       "      <td></td>\n",
       "      <td>239</td>\n",
       "      <td>1/3</td>\n",
       "      <td>Sokolská 21 č.p.576</td>\n",
       "      <td>Olomouc</td>\n",
       "      <td>77900.0</td>\n",
       "      <td>2</td>\n",
       "      <td>KN 696</td>\n",
       "      <td>5.12.2022</td>\n",
       "      <td>10.0</td>\n",
       "      <td>Lhotka u Kroměříže</td>\n",
       "      <td>sraz 2</td>\n",
       "      <td>NaN</td>\n",
       "    </tr>\n",
       "    <tr>\n",
       "      <th>1</th>\n",
       "      <td>28561325</td>\n",
       "      <td></td>\n",
       "      <td>ADRAS REALITY s.r.o.                          ...</td>\n",
       "      <td>...</td>\n",
       "      <td>...</td>\n",
       "      <td></td>\n",
       "      <td></td>\n",
       "      <td>239</td>\n",
       "      <td>1/3</td>\n",
       "      <td>Sokolská 21 č.p.576</td>\n",
       "      <td>Olomouc</td>\n",
       "      <td>77900.0</td>\n",
       "      <td>st.</td>\n",
       "      <td>KN 43</td>\n",
       "      <td>5.12.2022</td>\n",
       "      <td>10.0</td>\n",
       "      <td>Lhotka u Kroměříže</td>\n",
       "      <td>sraz 2</td>\n",
       "      <td>x</td>\n",
       "    </tr>\n",
       "    <tr>\n",
       "      <th>2</th>\n",
       "      <td>48399345</td>\n",
       "      <td></td>\n",
       "      <td>AGROPOS s.r.o.                                ...</td>\n",
       "      <td>...</td>\n",
       "      <td>...</td>\n",
       "      <td></td>\n",
       "      <td></td>\n",
       "      <td>648</td>\n",
       "      <td>1/1</td>\n",
       "      <td>Křenovská č.p.1051</td>\n",
       "      <td>Kojetín, Kojetín I-Město</td>\n",
       "      <td>75201.0</td>\n",
       "      <td>2</td>\n",
       "      <td>KN 167</td>\n",
       "      <td>6.12.2022</td>\n",
       "      <td>10.0</td>\n",
       "      <td>Újezdsko</td>\n",
       "      <td>sraz 6</td>\n",
       "      <td>NaN</td>\n",
       "    </tr>\n",
       "    <tr>\n",
       "      <th>3</th>\n",
       "      <td>48399345</td>\n",
       "      <td></td>\n",
       "      <td>AGROPOS s.r.o.                                ...</td>\n",
       "      <td>...</td>\n",
       "      <td>...</td>\n",
       "      <td></td>\n",
       "      <td></td>\n",
       "      <td>462</td>\n",
       "      <td>1/1</td>\n",
       "      <td>Křenovská č.p.1051</td>\n",
       "      <td>Kojetín, Kojetín I-Město</td>\n",
       "      <td>75201.0</td>\n",
       "      <td>2</td>\n",
       "      <td>KN 729/2</td>\n",
       "      <td>7.12.2022</td>\n",
       "      <td>9.3</td>\n",
       "      <td>Kostelany</td>\n",
       "      <td>sraz 10</td>\n",
       "      <td>NaN</td>\n",
       "    </tr>\n",
       "    <tr>\n",
       "      <th>4</th>\n",
       "      <td>48399345</td>\n",
       "      <td></td>\n",
       "      <td>AGROPOS s.r.o.                                ...</td>\n",
       "      <td>...</td>\n",
       "      <td>...</td>\n",
       "      <td></td>\n",
       "      <td></td>\n",
       "      <td>648</td>\n",
       "      <td>1/1</td>\n",
       "      <td>Křenovská č.p.1051</td>\n",
       "      <td>Kojetín, Kojetín I-Město</td>\n",
       "      <td>75201.0</td>\n",
       "      <td>2</td>\n",
       "      <td>KN 149/33</td>\n",
       "      <td>14.12.2022</td>\n",
       "      <td>10.3</td>\n",
       "      <td>Újezdsko</td>\n",
       "      <td>sraz 24</td>\n",
       "      <td>NaN</td>\n",
       "    </tr>\n",
       "  </tbody>\n",
       "</table>\n",
       "</div>"
      ],
      "text/plain": [
       "         IČ          RČ                                              Název  \\\n",
       "0  28561325              ADRAS REALITY s.r.o.                          ...   \n",
       "1  28561325              ADRAS REALITY s.r.o.                          ...   \n",
       "2  48399345              AGROPOS s.r.o.                                ...   \n",
       "3  48399345              AGROPOS s.r.o.                                ...   \n",
       "4  48399345              AGROPOS s.r.o.                                ...   \n",
       "\n",
       "                                            Příjmení  \\\n",
       "0                                                ...   \n",
       "1                                                ...   \n",
       "2                                                ...   \n",
       "3                                                ...   \n",
       "4                                                ...   \n",
       "\n",
       "                                               Jméno  \\\n",
       "0                                                ...   \n",
       "1                                                ...   \n",
       "2                                                ...   \n",
       "3                                                ...   \n",
       "4                                                ...   \n",
       "\n",
       "                                 Titul      TitulZ   LV Podíl  \\\n",
       "0                                                   239   1/3   \n",
       "1                                                   239   1/3   \n",
       "2                                                   648   1/1   \n",
       "3                                                   462   1/1   \n",
       "4                                                   648   1/1   \n",
       "\n",
       "                 ULICE                      OBEC      PSC DRUH_CISLOVANI_PAR  \\\n",
       "0  Sokolská 21 č.p.576                   Olomouc  77900.0                  2   \n",
       "1  Sokolská 21 č.p.576                   Olomouc  77900.0                st.   \n",
       "2   Křenovská č.p.1051  Kojetín, Kojetín I-Město  75201.0                  2   \n",
       "3   Křenovská č.p.1051  Kojetín, Kojetín I-Město  75201.0                  2   \n",
       "4   Křenovská č.p.1051  Kojetín, Kojetín I-Město  75201.0                  2   \n",
       "\n",
       "     Parcela       Datum   CAS          KATUZE_KOD     sraz Unnamed: 18  \n",
       "0     KN 696   5.12.2022  10.0  Lhotka u Kroměříže   sraz 2         NaN  \n",
       "1      KN 43   5.12.2022  10.0  Lhotka u Kroměříže   sraz 2           x  \n",
       "2     KN 167   6.12.2022  10.0            Újezdsko   sraz 6         NaN  \n",
       "3   KN 729/2   7.12.2022   9.3           Kostelany  sraz 10         NaN  \n",
       "4  KN 149/33  14.12.2022  10.3            Újezdsko  sraz 24         NaN  "
      ]
     },
     "execution_count": 11,
     "metadata": {},
     "output_type": "execute_result"
    }
   ],
   "source": [
    "csv_file.head()"
   ]
  },
  {
   "cell_type": "markdown",
   "id": "qualified-prediction",
   "metadata": {},
   "source": [
    "### Extrakce pro název, obec, ulice, parcely"
   ]
  },
  {
   "cell_type": "code",
   "execution_count": 34,
   "id": "considerable-facility",
   "metadata": {},
   "outputs": [],
   "source": [
    "name = entity[\"Název\"].strip()\n",
    "city = entity[\"OBEC\"].strip()\n",
    "street = entity[\"ULICE\"].strip()\n",
    "post_number = entity[\"PSC\"]  # nesedí datový typ\n",
    "plot_number = entity[\"Parcela\"].strip()"
   ]
  },
  {
   "cell_type": "code",
   "execution_count": 44,
   "id": "graduate-bulletin",
   "metadata": {},
   "outputs": [
    {
     "data": {
      "text/plain": [
       "'779 00'"
      ]
     },
     "execution_count": 44,
     "metadata": {},
     "output_type": "execute_result"
    }
   ],
   "source": [
    "f\"{str(int(77900.0))[:3]} {str(int(77900.0))[3:]}\""
   ]
  },
  {
   "cell_type": "code",
   "execution_count": null,
   "id": "passing-celebrity",
   "metadata": {},
   "outputs": [],
   "source": [
    "class EntityAddress:\n",
    "    \"\"\"\n",
    "    From the given object set up a new class.\n",
    "    \"\"\"\n",
    "    \n",
    "    def __init__(self, entity: pandas.core.DataFrame):\n",
    "        self.entity = entity\n",
    "        self.parse_attrs()\n",
    "    \n",
    "    def parse_attrs(self):\n",
    "        \"\"\"\n",
    "        Try to return attributes from the given object.\n",
    "        \"\"\"\n",
    "        logging.info()\n",
    "               \n",
    "        try:\n",
    "            name = \n",
    "            city = \n",
    "            street = \n",
    "            post_number = \n",
    "            plot_number =\n",
    "            \n",
    "        except Exception as err:\n",
    "            logging.error()\n",
    "            \n",
    "            name = None\n",
    "            city = None\n",
    "            street = None\n",
    "            post_number = None \n",
    "            plot_number = None\n",
    "        else:\n",
    "            logging.info()\n",
    "\n",
    "            name = name.strip() \n",
    "            city = city.strip()\n",
    "            street = street.strip()\n",
    "            post_number = post_number.strip()\n",
    "            plot_number = plot_number.strip()\n",
    "        finally:\n",
    "            logging.info()\n",
    "\n",
    "            self.name = name\n",
    "            self.city = city\n",
    "            self.street = street\n",
    "            self.post_number = post_number\n",
    "            self.plot_number = plot_number"
   ]
  },
  {
   "cell_type": "markdown",
   "id": "innovative-victorian",
   "metadata": {},
   "source": [
    "### Tvorba záznamu pro dokument"
   ]
  },
  {
   "cell_type": "code",
   "execution_count": null,
   "id": "falling-appreciation",
   "metadata": {},
   "outputs": [],
   "source": [
    "class DocSubjectCreator:\n",
    "    \"\"\"Create an object that represents a single entity.\"\"\"\n",
    "    \n",
    "    def __init__(self, person: EntityAddress, doc_object):\n",
    "        self.person = person\n",
    "        self.doc_file = doc_object"
   ]
  }
 ],
 "metadata": {
  "kernelspec": {
   "display_name": "Python 3",
   "language": "python",
   "name": "python3"
  },
  "language_info": {
   "codemirror_mode": {
    "name": "ipython",
    "version": 3
   },
   "file_extension": ".py",
   "mimetype": "text/x-python",
   "name": "python",
   "nbconvert_exporter": "python",
   "pygments_lexer": "ipython3",
   "version": "3.8.6"
  }
 },
 "nbformat": 4,
 "nbformat_minor": 5
}

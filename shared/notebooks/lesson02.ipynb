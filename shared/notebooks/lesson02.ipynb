{
 "cells": [
  {
   "cell_type": "markdown",
   "id": "detected-handle",
   "metadata": {},
   "source": [
    "# Datová akademie, ČSOB, 2023\n",
    "\n",
    "---"
   ]
  },
  {
   "cell_type": "markdown",
   "id": "flush-writer",
   "metadata": {},
   "source": [
    "* [Úvod k datům](#Úvod-k-datům),\n",
    "\n",
    "* [pracovní prostředí](#Pracovní-prostředí),\n",
    "\n",
    "<br>"
   ]
  },
  {
   "cell_type": "markdown",
   "id": "potential-reading",
   "metadata": {},
   "source": [
    "## Druhá lekce, návrh\n",
    "1. `numpy`,\n",
    "    - intro ke knihovně, jak s ní pracovat, kde, verze,\n",
    "    - rozdíl datových typů, list a integer,\n",
    "    - datové typy v Numpy,\n",
    "    - array v Pythonu, array v numpy, základy,jejich atributy,\n",
    "    - operace s maticemi, array,\n",
    "    - Ufunks,\n",
    "    - agregace.\n",
    "    \n",
    "2. Knihovna `numpy`.\n",
    "    - Co je to za knihovnu, proč ji mám znát?\n",
    "    - Základní datové typy, numpy array, co jsou zač, kde je jich potřeba?\n",
    "    - Performance rozdíly. Agregace, výpočty, srovnávání."
   ]
  },
  {
   "cell_type": "code",
   "execution_count": null,
   "id": "given-assumption",
   "metadata": {},
   "outputs": [],
   "source": []
  },
  {
   "cell_type": "markdown",
   "id": "consecutive-circus",
   "metadata": {},
   "source": [
    "## Druhá lekce, kaggle\n",
    "* reading and writting DFs,\n",
    "* indexing, selecting rows & columns, conditional selection,\n",
    "* functions, map and lambdas,\n",
    "* groupby, multiindex, sorting values,\n",
    "* data types or Dtypes, convert data types,\n",
    "* missing values, fillna, replace,\n",
    "* rename, merge, join, concat.\n",
    "\n",
    "\n",
    "* missing data points, the reason why are the data missing, drop missing values, filling missing vals,\n",
    "* scaling: changing the range, normalization: changing shape,\n",
    "* parsing dates, selecting days,\n",
    "* encoding: what are encodings, encode, decode, identifying and saving examples,\n",
    "* inconsistency: fuzzywuzzy"
   ]
  },
  {
   "cell_type": "markdown",
   "id": "broken-spider",
   "metadata": {},
   "source": [
    "## Druhá lekce, kniha\n",
    "* pandas objects: DFs, Series, Index,\n",
    "* indexing and selection: series, DFs,\n",
    "* operating: w/ numpy (hard to implement without numpy),\n",
    "* handling missing data: Nan and None in pandas,detecting, droping, filling null values,\n",
    "* indexing: single index, multiple indexes(bad and good example), indexing and slicing multiindex,\n",
    "* concat, append, merge, join,\n",
    "* agregation: count, first, last, mean, median, min, max,\n",
    "* groupBy: split, apply, combine,\n",
    "* pivot table, methods similar to python methods, regex finding,slice & other miscellaneous methods,\n",
    "* Time series, to_datetime, data structures of time series, date_range, period_range, timedelta_range,\n",
    "* frenquencies & offsets, resampling, time shifting,\n",
    "* eval and query, comparing eval and without eval,\n"
   ]
  },
  {
   "cell_type": "markdown",
   "id": "polished-representative",
   "metadata": {},
   "source": [
    "## Druhá lekce, Honza\n",
    "* manipulace, úvod, instalace,\n",
    "* DataFrame,\n",
    "* Series,\n",
    "* Načítání dat,\n",
    "* selekce dat,\n",
    "* indexování, loc a iloc,\n",
    "* přejmenování, přidávání, odstraňování sloupců,\n",
    "* Nan, null, nahrazování,\n",
    "* concat, merge, drop_duplicates, sort_values,\n",
    "* unique, apply,\n",
    "* kopie a práce s kopiemi,\n",
    "* statistika,\n",
    "* čtení dat online,"
   ]
  },
  {
   "cell_type": "markdown",
   "id": "forward-circular",
   "metadata": {},
   "source": [
    "## Druhá lekce, Víťa\n",
    "* doplnit, chybí mi link na repozitář."
   ]
  },
  {
   "cell_type": "markdown",
   "id": "economic-carry",
   "metadata": {},
   "source": [
    "## Druhá lekce, návrh Matouš"
   ]
  },
  {
   "cell_type": "markdown",
   "id": "anticipated-program",
   "metadata": {},
   "source": [
    "* úvod do pand (**10 min**)\n",
    "    - představení,\n",
    "    - oficiální web, repo,\n",
    "    - instalacee knihovny,\n",
    "    - dokumentace.\n",
    "    \n",
    "    \n",
    "* základní objekty (**10 min**),\n",
    "    - DF,\n",
    "    - Series,\n",
    "    - Index,\n",
    "    - vizualizace.\n",
    "    \n",
    "\n",
    "* tvorba DF, Series, File IO, (**30 min** + **5 min**)\n",
    "    - vytvoření jednoduchého DF,\n",
    "    - výběr některých volitelných argumentů,\n",
    "    - vstupy souborů: csv, excel, txt, xml, HTML.\n",
    "    - cvičení 01,\n",
    "\n",
    "\n",
    "* prohlídka dat, selekce, indexování, (**30 min** + **5 min**) (80/150 min)\n",
    "    - head, tail, info, sloupce, truncate výstupu\n",
    "    - datové typy, naťuknout chybějící hodnoty,\n",
    "    - index, loc, iloc,\n",
    "    - multiindex.\n",
    "    - cvičení 02,\n",
    "    \n",
    "\n",
    "* manipulace se sloupci, (**10 min** + **5 min**) (90/150 min)\n",
    "    - selekce,\n",
    "    - přejmenování,\n",
    "    - přidávání sloupců,\n",
    "    - odebírání sloupců.\n",
    "    - cvičení 03,\n",
    "\n",
    "\n",
    "* manipulace s Series a DFs, (**40 min** + **5 min**) (130/150 min)\n",
    "    - concat, 10\n",
    "    - append, 5\n",
    "    - merge, 15,\n",
    "    - join, 10.\n",
    "    - cvičení 04,"
   ]
  },
  {
   "cell_type": "markdown",
   "id": "given-arcade",
   "metadata": {},
   "source": [
    "<img src=\"https://external-content.duckduckgo.com/iu/?u=https%3A%2F%2Ftse1.mm.bing.net%2Fth%3Fid%3DOIP.bQLV3m2t29a0dfG9qnVMgwHaHa%26pid%3DApi&f=1&ipt=b73c31ec28f2f95373feda2df32b17cdefb18fde0965d876db76a69bd8c03fba&ipo=images\" width=\"120\"/>\n",
    "\n",
    "## Úvod k pandám\n",
    "\n",
    "---\n",
    "\n"
   ]
  },
  {
   "cell_type": "markdown",
   "id": "stone-lithuania",
   "metadata": {},
   "source": [
    "Pandas je novější balíček postavený nad NumPy a poskytuje\n",
    "efektivní implementaci DataFrame."
   ]
  },
  {
   "cell_type": "markdown",
   "id": "sonic-rough",
   "metadata": {},
   "source": [
    "#### Jak pandas vypadá"
   ]
  },
  {
   "cell_type": "markdown",
   "id": "optional-trader",
   "metadata": {},
   "source": [
    "repo"
   ]
  },
  {
   "cell_type": "code",
   "execution_count": null,
   "id": "severe-presence",
   "metadata": {},
   "outputs": [],
   "source": []
  },
  {
   "cell_type": "markdown",
   "id": "heard-macedonia",
   "metadata": {},
   "source": [
    "#### Proč se ti bude hodit"
   ]
  },
  {
   "cell_type": "code",
   "execution_count": null,
   "id": "piano-sullivan",
   "metadata": {},
   "outputs": [],
   "source": []
  },
  {
   "cell_type": "markdown",
   "id": "graduate-lottery",
   "metadata": {},
   "source": [
    "Pandas slouží pro analýzu dat.\n",
    "\n",
    "Data jsou nejčastěji v SQL databázi, souborech CSV, tabulkových procesech atd.\n",
    "\n",
    "Pandas je jako Excel, ale s více funkcemi a hlavně možností automatizovat procesy."
   ]
  },
  {
   "cell_type": "markdown",
   "id": "northern-pointer",
   "metadata": {},
   "source": [
    "#### Kde se dozvím více"
   ]
  },
  {
   "cell_type": "markdown",
   "id": "iraqi-gross",
   "metadata": {},
   "source": [
    "docs"
   ]
  },
  {
   "cell_type": "code",
   "execution_count": null,
   "id": "lucky-chess",
   "metadata": {},
   "outputs": [],
   "source": []
  },
  {
   "cell_type": "markdown",
   "id": "characteristic-cloud",
   "metadata": {},
   "source": [
    "#### Instalace"
   ]
  },
  {
   "cell_type": "code",
   "execution_count": null,
   "id": "documented-offering",
   "metadata": {},
   "outputs": [],
   "source": [
    "venv env"
   ]
  },
  {
   "cell_type": "code",
   "execution_count": null,
   "id": "sufficient-liability",
   "metadata": {},
   "outputs": [],
   "source": [
    "!pip install pandas"
   ]
  },
  {
   "cell_type": "code",
   "execution_count": null,
   "id": "early-workplace",
   "metadata": {},
   "outputs": [],
   "source": [
    "!pip install pandas==1.1.1"
   ]
  },
  {
   "cell_type": "markdown",
   "id": "distinguished-carter",
   "metadata": {},
   "source": [
    "#### Použití"
   ]
  },
  {
   "cell_type": "code",
   "execution_count": null,
   "id": "coral-looking",
   "metadata": {},
   "outputs": [],
   "source": [
    "import pandas"
   ]
  },
  {
   "cell_type": "code",
   "execution_count": null,
   "id": "sitting-choice",
   "metadata": {},
   "outputs": [],
   "source": [
    "from pandas import DataFrame"
   ]
  },
  {
   "cell_type": "code",
   "execution_count": null,
   "id": "copyrighted-coordination",
   "metadata": {},
   "outputs": [],
   "source": [
    "import pandas as pd"
   ]
  }
 ],
 "metadata": {
  "kernelspec": {
   "display_name": "Python 3",
   "language": "python",
   "name": "python3"
  },
  "language_info": {
   "codemirror_mode": {
    "name": "ipython",
    "version": 3
   },
   "file_extension": ".py",
   "mimetype": "text/x-python",
   "name": "python",
   "nbconvert_exporter": "python",
   "pygments_lexer": "ipython3",
   "version": "3.8.6"
  }
 },
 "nbformat": 4,
 "nbformat_minor": 5
}

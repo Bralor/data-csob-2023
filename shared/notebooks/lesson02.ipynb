{
 "cells": [
  {
   "cell_type": "markdown",
   "id": "detected-handle",
   "metadata": {},
   "source": [
    "# Datová akademie, ČSOB, 2023\n",
    "\n",
    "---"
   ]
  },
  {
   "cell_type": "markdown",
   "id": "flush-writer",
   "metadata": {},
   "source": [
    "* [Úvod k datům](#Úvod-k-datům),\n",
    "\n",
    "* [pracovní prostředí](#Pracovní-prostředí),\n",
    "\n",
    "<br>"
   ]
  },
  {
   "cell_type": "code",
   "execution_count": null,
   "id": "given-assumption",
   "metadata": {},
   "outputs": [],
   "source": []
  },
  {
   "cell_type": "markdown",
   "id": "economic-carry",
   "metadata": {},
   "source": [
    "## Druhá lekce, návrh Matouš"
   ]
  },
  {
   "cell_type": "markdown",
   "id": "anticipated-program",
   "metadata": {},
   "source": [
    "* úvod do pand (**10 min**)\n",
    "    - představení,\n",
    "    - oficiální web, repo,\n",
    "    - instalacee knihovny,\n",
    "    - dokumentace.\n",
    "    \n",
    "    \n",
    "* základní objekty (**10 min**),\n",
    "    - DF,\n",
    "    - Series,\n",
    "    - Index,\n",
    "    - vizualizace.\n",
    "    \n",
    "\n",
    "* tvorba DF, Series, File IO, (**30 min** + **5 min**)\n",
    "    - vytvoření jednoduchého DF,\n",
    "    - výběr některých volitelných argumentů,\n",
    "    - vstupy souborů: csv, excel, txt, xml, HTML.\n",
    "    - cvičení 01,\n",
    "\n",
    "\n",
    "* prohlídka dat, selekce, indexování, (**30 min** + **5 min**) (80/150 min)\n",
    "    - head, tail, info, sloupce, truncate výstupu\n",
    "    - datové typy, naťuknout chybějící hodnoty,\n",
    "    - index, loc, iloc,\n",
    "    - multiindex.\n",
    "    - cvičení 02,\n",
    "    \n",
    "\n",
    "* manipulace se sloupci, (**10 min** + **5 min**) (90/150 min)\n",
    "    - selekce,\n",
    "    - přejmenování,\n",
    "    - přidávání sloupců,\n",
    "    - odebírání sloupců.\n",
    "    - cvičení 03,\n",
    "\n",
    "\n",
    "* manipulace s Series a DFs, (**40 min** + **5 min**) (130/150 min)\n",
    "    - concat, 10\n",
    "    - append, 5\n",
    "    - merge, 15,\n",
    "    - join, 10.\n",
    "    - cvičení 04,"
   ]
  },
  {
   "cell_type": "markdown",
   "id": "given-arcade",
   "metadata": {},
   "source": [
    "<img src=\"https://external-content.duckduckgo.com/iu/?u=https%3A%2F%2Ftse1.mm.bing.net%2Fth%3Fid%3DOIP.BaZU6gIdwRYQHu4rBBoO-gHaIX%26pid%3DApi&f=1&ipt=1013c975daabd695fcd4ebfc2c0e0b8ba4f10c37780419d8ff56538ec7a7f9ea&ipo=images\" width=\"120\"/>\n",
    "\n",
    "## Úvod k pandám\n",
    "\n",
    "---\n",
    "\n"
   ]
  },
  {
   "cell_type": "markdown",
   "id": "stone-lithuania",
   "metadata": {},
   "source": [
    "Jde o knihovnu, která staví na jednoduchých, přesto výkonných datových strukturách v Pythonu.\n",
    "\n",
    "Vzít data z různých zdrojů, načíst je, zpracovat a zapsat."
   ]
  },
  {
   "cell_type": "markdown",
   "id": "sonic-rough",
   "metadata": {},
   "source": [
    "#### Jak pandas vypadá"
   ]
  },
  {
   "cell_type": "markdown",
   "id": "optional-trader",
   "metadata": {},
   "source": [
    "Odkaz na oficiální repozitář [této knihovny](https://github.com/pandas-dev/pandas)."
   ]
  },
  {
   "cell_type": "markdown",
   "id": "heard-macedonia",
   "metadata": {},
   "source": [
    "#### Proč se ti bude hodit"
   ]
  },
  {
   "cell_type": "markdown",
   "id": "graduate-lottery",
   "metadata": {},
   "source": [
    "**Pandas** slouží pro analýzu dat.\n",
    "\n",
    "Data jsou nejčastěji v SQL databázi, různých souborech, tabulkových procesech atd.\n",
    "\n",
    "*Pandas* si představ jako Excel, ale s více funkcemi a hlavně možností automatizovat procesy."
   ]
  },
  {
   "cell_type": "markdown",
   "id": "northern-pointer",
   "metadata": {},
   "source": [
    "#### Kde se dozvím více"
   ]
  },
  {
   "cell_type": "markdown",
   "id": "iraqi-gross",
   "metadata": {},
   "source": [
    "Pokud budeš potřebovat více podrobností, mrkni na [oficiální dokumentaci](https://pandas.pydata.org/pandas-docs/stable/index.html)."
   ]
  },
  {
   "cell_type": "markdown",
   "id": "characteristic-cloud",
   "metadata": {},
   "source": [
    "#### Instalace"
   ]
  },
  {
   "cell_type": "code",
   "execution_count": null,
   "id": "sufficient-liability",
   "metadata": {},
   "outputs": [],
   "source": [
    "!pip install pandas"
   ]
  },
  {
   "cell_type": "code",
   "execution_count": null,
   "id": "early-workplace",
   "metadata": {},
   "outputs": [],
   "source": [
    "!pip install pandas==1.1.1"
   ]
  },
  {
   "cell_type": "markdown",
   "id": "distinguished-carter",
   "metadata": {},
   "source": [
    "#### Použití"
   ]
  },
  {
   "cell_type": "code",
   "execution_count": null,
   "id": "coral-looking",
   "metadata": {},
   "outputs": [],
   "source": [
    "import pandas"
   ]
  },
  {
   "cell_type": "code",
   "execution_count": null,
   "id": "sitting-choice",
   "metadata": {},
   "outputs": [],
   "source": [
    "from pandas import DataFrame"
   ]
  },
  {
   "cell_type": "code",
   "execution_count": null,
   "id": "copyrighted-coordination",
   "metadata": {},
   "outputs": [],
   "source": [
    "import pandas as pd"
   ]
  },
  {
   "cell_type": "markdown",
   "id": "republican-wales",
   "metadata": {},
   "source": [
    "<img src=\"https://external-content.duckduckgo.com/iu/?u=https%3A%2F%2Ftse1.mm.bing.net%2Fth%3Fid%3DOIP.b2NCTuZRiG8yrmTCF7MogAHaHa%26pid%3DApi&f=1&ipt=f9e6a3811b3a707743134cfb19b2ee4f9c44584f5ea328582b227f14b94fcb1f&ipo=images\" width=\"190\"/>\n",
    "\n",
    "## Základní datové typy frameworku"
   ]
  },
  {
   "cell_type": "markdown",
   "id": "surface-glass",
   "metadata": {},
   "source": [
    "Knihovna nabízí řadu užitečných nástrojů, metod a funkcí nad rámec základních (zabudovaných) datových struktur.\n",
    "\n",
    "Hlavní tři struktury, na kterých stojí jsou:\n",
    "* Series,\n",
    "* dataFrames,\n",
    "* indexes."
   ]
  },
  {
   "cell_type": "code",
   "execution_count": null,
   "id": "headed-accuracy",
   "metadata": {},
   "outputs": [],
   "source": [
    "# obrazek"
   ]
  },
  {
   "cell_type": "markdown",
   "id": "forward-brooks",
   "metadata": {},
   "source": [
    "<img src=\"https://external-content.duckduckgo.com/iu/?u=https%3A%2F%2Ftse3.mm.bing.net%2Fth%3Fid%3DOIP.Yp6ZBv9C33_pDfZkJcKbJQHaHa%26pid%3DApi&f=1&ipt=546833b7ce370c5a62bea21079371efd1fa9547765d4eae8e6c9e41f6b25a3af&ipo=images\" width=\"160\"/>"
   ]
  },
  {
   "cell_type": "markdown",
   "id": "capital-charles",
   "metadata": {},
   "source": [
    "### Series\n",
    "\n",
    "Jde **o jednodimenzionální sloupeček** (popř. řadu), který má **indexované data**.\n",
    "\n",
    "Opět si jej můžeš představit jako sloupeček v excelovských tabulkách."
   ]
  },
  {
   "cell_type": "markdown",
   "id": "chicken-serum",
   "metadata": {},
   "source": [
    "Na ukázku můžeš tyto sloupečky vytvořit třeba ze sekvencí:"
   ]
  },
  {
   "cell_type": "code",
   "execution_count": 2,
   "id": "controlling-perfume",
   "metadata": {},
   "outputs": [],
   "source": [
    "from pandas import Series"
   ]
  },
  {
   "cell_type": "code",
   "execution_count": 5,
   "id": "alpha-neutral",
   "metadata": {},
   "outputs": [],
   "source": [
    "mesta_df = Series([\"Praha\", \"Brno\", \"Ostrava\", \"Hradek Králové\"])"
   ]
  },
  {
   "cell_type": "code",
   "execution_count": 6,
   "id": "moved-stephen",
   "metadata": {},
   "outputs": [
    {
     "data": {
      "text/plain": [
       "pandas.core.series.Series"
      ]
     },
     "execution_count": 6,
     "metadata": {},
     "output_type": "execute_result"
    }
   ],
   "source": [
    "type(mesta_df)"
   ]
  },
  {
   "cell_type": "code",
   "execution_count": 7,
   "id": "auburn-magic",
   "metadata": {},
   "outputs": [
    {
     "data": {
      "text/plain": [
       "0             Praha\n",
       "1              Brno\n",
       "2           Ostrava\n",
       "3    Hradek Králové\n",
       "dtype: object"
      ]
     },
     "execution_count": 7,
     "metadata": {},
     "output_type": "execute_result"
    }
   ],
   "source": [
    "mesta_df"
   ]
  },
  {
   "cell_type": "markdown",
   "id": "guided-context",
   "metadata": {},
   "source": [
    "Jak můžeš vidět v ukázce výše, *sloupec* `Series` obsahuje jak pořadí, tak hodnoty."
   ]
  },
  {
   "cell_type": "code",
   "execution_count": 9,
   "id": "subsequent-isolation",
   "metadata": {},
   "outputs": [
    {
     "data": {
      "text/plain": [
       "RangeIndex(start=0, stop=4, step=1)"
      ]
     },
     "execution_count": 9,
     "metadata": {},
     "output_type": "execute_result"
    }
   ],
   "source": [
    "mesta_df.index"
   ]
  },
  {
   "cell_type": "code",
   "execution_count": 10,
   "id": "abroad-soundtrack",
   "metadata": {},
   "outputs": [
    {
     "data": {
      "text/plain": [
       "array(['Praha', 'Brno', 'Ostrava', 'Hradek Králové'], dtype=object)"
      ]
     },
     "execution_count": 10,
     "metadata": {},
     "output_type": "execute_result"
    }
   ],
   "source": [
    "mesta_df.values"
   ]
  },
  {
   "cell_type": "markdown",
   "id": "presidential-radius",
   "metadata": {},
   "source": [
    "Obecně vypadá jako nějaké pole, který má svůj nativní datový typ `object`."
   ]
  },
  {
   "cell_type": "markdown",
   "id": "careful-courage",
   "metadata": {},
   "source": [
    "Ačkoliv je `pandas` knihovna Pythonu, datové typy nemusí vždy odpovídat základním datovým typům Pythonu:"
   ]
  },
  {
   "cell_type": "markdown",
   "id": "gentle-netherlands",
   "metadata": {},
   "source": [
    "| Typy `pandas`| typy `Python`| Použití |\n",
    "| :-: | :-: | :- |\n",
    "| `object` | `str` nebo směska| text nebo namíchané číselné a nečíselné hodnoty |\n",
    "| `int64` | `int`| celá čísla |\n",
    "| `float64` | `float` | desetinná čísla |\n",
    "| `bool` | `bool` | True a False |\n",
    "| `datetime64` | `-`| Hodnota data a času |\n",
    "| `timedelta` | `-` | Časové rozdíly |"
   ]
  },
  {
   "cell_type": "markdown",
   "id": "stuck-sapphire",
   "metadata": {},
   "source": [
    "Stejně jako pole nebo sekvence můžeš indexovat a slicovat hodnoty typu `Series`.\n",
    "\n",
    "##### Indexování"
   ]
  },
  {
   "cell_type": "code",
   "execution_count": 11,
   "id": "billion-weapon",
   "metadata": {},
   "outputs": [
    {
     "data": {
      "text/plain": [
       "'Brno'"
      ]
     },
     "execution_count": 11,
     "metadata": {},
     "output_type": "execute_result"
    }
   ],
   "source": [
    "mesta_df[1]"
   ]
  },
  {
   "cell_type": "markdown",
   "id": "absolute-premium",
   "metadata": {},
   "source": [
    "##### Slicing"
   ]
  },
  {
   "cell_type": "code",
   "execution_count": 12,
   "id": "abstract-ideal",
   "metadata": {},
   "outputs": [
    {
     "data": {
      "text/plain": [
       "0      Praha\n",
       "1       Brno\n",
       "2    Ostrava\n",
       "dtype: object"
      ]
     },
     "execution_count": 12,
     "metadata": {},
     "output_type": "execute_result"
    }
   ],
   "source": [
    "mesta_df[0:3]"
   ]
  },
  {
   "cell_type": "markdown",
   "id": "supreme-monkey",
   "metadata": {},
   "source": [
    "Proč je tedy znalost pandího objektu `Series` tak důležitá?\n",
    "\n",
    "Na první pohled není tolik odlišný od datového typu `list` nebo `tuple` (případně pole v `numpy`)."
   ]
  },
  {
   "cell_type": "markdown",
   "id": "functional-grocery",
   "metadata": {},
   "source": [
    "Největší rozdíl spočítá v tzv. **indexu**.\n",
    "\n",
    "Ať `list`, `tuple` nebo `numpy.array` implicitně pracují s celočíselným indexem.\n",
    "\n",
    "Objekt `Series` na druhou stranu nabízí možnost, zadávat vlastní indexové hodnoty:"
   ]
  },
  {
   "cell_type": "code",
   "execution_count": 13,
   "id": "latin-norman",
   "metadata": {},
   "outputs": [],
   "source": [
    "mesta_df = Series([\"Praha\", \"Brno\", \"Ostrava\", \"Hradek Králové\"],\n",
    "                  index=[\"1_mesto\", \"2_mesto\", \"3_mesto\", \"4_mesto\"])"
   ]
  },
  {
   "cell_type": "code",
   "execution_count": 15,
   "id": "scheduled-begin",
   "metadata": {},
   "outputs": [
    {
     "data": {
      "text/plain": [
       "Index(['1_mesto', '2_mesto', '3_mesto', '4_mesto'], dtype='object')"
      ]
     },
     "execution_count": 15,
     "metadata": {},
     "output_type": "execute_result"
    }
   ],
   "source": [
    "mesta_df.index"
   ]
  },
  {
   "cell_type": "code",
   "execution_count": 16,
   "id": "lesser-player",
   "metadata": {},
   "outputs": [
    {
     "data": {
      "text/plain": [
       "1_mesto             Praha\n",
       "2_mesto              Brno\n",
       "3_mesto           Ostrava\n",
       "4_mesto    Hradek Králové\n",
       "dtype: object"
      ]
     },
     "execution_count": 16,
     "metadata": {},
     "output_type": "execute_result"
    }
   ],
   "source": [
    "mesta_df"
   ]
  },
  {
   "cell_type": "code",
   "execution_count": 17,
   "id": "theoretical-digit",
   "metadata": {},
   "outputs": [
    {
     "data": {
      "text/plain": [
       "'Praha'"
      ]
     },
     "execution_count": 17,
     "metadata": {},
     "output_type": "execute_result"
    }
   ],
   "source": [
    "mesta_df[\"1_mesto\"]"
   ]
  },
  {
   "cell_type": "markdown",
   "id": "broke-lecture",
   "metadata": {},
   "source": [
    "Tímto způsobem si můžeš představit řadu, sloupec (`Series`) jako variantu datového typu `dict`, v Pythonu."
   ]
  },
  {
   "cell_type": "markdown",
   "id": "economic-review",
   "metadata": {},
   "source": [
    "Víš, že ve slovníku Pythonu jsou hodnoty mapované na jednotlivé klíče.\n",
    "\n",
    "V případě `Series` jde o mapování **typovaných hodnot** na **typované klíče**. Právě pojem **typovaný** (~*type-specific*) je zásadní.\n",
    "\n",
    "Právě *typovaný* zkompilovaný kód od `Series` nabízí některé efektivnější metody a funkce, které obyč. `dict` v Pythonu ne."
   ]
  },
  {
   "cell_type": "code",
   "execution_count": 19,
   "id": "diagnostic-geometry",
   "metadata": {},
   "outputs": [],
   "source": [
    "populace_evropa = {\n",
    "    'Dansko': 5_655_750,\n",
    "    'Ceska_republika': 10_513_209,\n",
    "    'Nemecko': 80_716_000,\n",
    "    'Polsko': 38_483_957,\n",
    "    'Slovensko': 5_415_949,\n",
    "    'Rakousko': 8_932_664\n",
    "}"
   ]
  },
  {
   "cell_type": "code",
   "execution_count": 21,
   "id": "exempt-alexandria",
   "metadata": {},
   "outputs": [],
   "source": [
    "populace_df = Series(populace_evropa)"
   ]
  },
  {
   "cell_type": "markdown",
   "id": "electronic-trunk",
   "metadata": {},
   "source": [
    "Defaultně ti objekt `Series` nachystá index ze seřazených klíčů původního datového typu `dict`.\n",
    "\n",
    "Můžeš provést klasické mapování hodnoty na jméno klíče:"
   ]
  },
  {
   "cell_type": "code",
   "execution_count": 22,
   "id": "clean-psychology",
   "metadata": {},
   "outputs": [
    {
     "data": {
      "text/plain": [
       "10513209"
      ]
     },
     "execution_count": 22,
     "metadata": {},
     "output_type": "execute_result"
    }
   ],
   "source": [
    "populace_df[\"Ceska_republika\"]"
   ]
  },
  {
   "cell_type": "markdown",
   "id": "cloudy-pasta",
   "metadata": {},
   "source": [
    "K tomu, ale `Series` nabízí operace jako např. slicing pro pole:"
   ]
  },
  {
   "cell_type": "code",
   "execution_count": 24,
   "id": "swiss-calvin",
   "metadata": {},
   "outputs": [
    {
     "data": {
      "text/plain": [
       "Ceska_republika    10513209\n",
       "Nemecko            80716000\n",
       "Polsko             38483957\n",
       "dtype: int64"
      ]
     },
     "execution_count": 24,
     "metadata": {},
     "output_type": "execute_result"
    }
   ],
   "source": [
    "populace_df[\"Ceska_republika\": \"Polsko\"]"
   ]
  },
  {
   "cell_type": "markdown",
   "id": "genetic-hudson",
   "metadata": {},
   "source": [
    "Další procesy uvidíš následně v průběhu příštích lekcí."
   ]
  },
  {
   "cell_type": "markdown",
   "id": "sealed-moment",
   "metadata": {},
   "source": [
    "### DataFrame\n",
    "\n",
    "Dalím elementárním datovým typem této knihovny je `DataFrame`.\n",
    "\n",
    "Analogicky si jej můžeš představit jako tabulky v Excelu.\n",
    "\n",
    "Tedy objekt složený z řádků (indexů) a sloupců (`Series`)."
   ]
  },
  {
   "cell_type": "code",
   "execution_count": null,
   "id": "extensive-connectivity",
   "metadata": {},
   "outputs": [],
   "source": [
    "# obrazek"
   ]
  },
  {
   "cell_type": "markdown",
   "id": "excessive-island",
   "metadata": {},
   "source": [
    "Takový objekt budeš potřebovat, pokud již nepůjde o jedno-dimenzionální rozměr hodnoty:"
   ]
  },
  {
   "cell_type": "code",
   "execution_count": 25,
   "id": "sweet-pearl",
   "metadata": {},
   "outputs": [],
   "source": [
    "populace_evropa = {\n",
    "    'Dansko': 5_655_750,\n",
    "    'Ceska_republika': 10_513_209,\n",
    "    'Nemecko': 80_716_000,\n",
    "    'Polsko': 38_483_957,\n",
    "    'Slovensko': 5_415_949,\n",
    "    'Rakousko': 8_932_664\n",
    "}"
   ]
  },
  {
   "cell_type": "code",
   "execution_count": 26,
   "id": "imported-directory",
   "metadata": {},
   "outputs": [],
   "source": [
    "rozloha_evropa = {\n",
    "    'Dansko': 42_916,\n",
    "    'Ceska_republika': 78_870,\n",
    "    'Nemecko': 357_168,\n",
    "    'Polsko': 312_679,\n",
    "    'Slovensko': 49_035,\n",
    "    'Rakousko': 83_878\n",
    "}"
   ]
  },
  {
   "cell_type": "code",
   "execution_count": 27,
   "id": "related-counter",
   "metadata": {},
   "outputs": [],
   "source": [
    "from pandas import DataFrame"
   ]
  },
  {
   "cell_type": "code",
   "execution_count": 28,
   "id": "regulation-thread",
   "metadata": {},
   "outputs": [],
   "source": [
    "zeme_evropa_df = DataFrame({\"populace\": populace_evropa, \"rozloha\": rozloha_evropa})"
   ]
  },
  {
   "cell_type": "code",
   "execution_count": 29,
   "id": "seeing-flavor",
   "metadata": {},
   "outputs": [
    {
     "data": {
      "text/html": [
       "<div>\n",
       "<style scoped>\n",
       "    .dataframe tbody tr th:only-of-type {\n",
       "        vertical-align: middle;\n",
       "    }\n",
       "\n",
       "    .dataframe tbody tr th {\n",
       "        vertical-align: top;\n",
       "    }\n",
       "\n",
       "    .dataframe thead th {\n",
       "        text-align: right;\n",
       "    }\n",
       "</style>\n",
       "<table border=\"1\" class=\"dataframe\">\n",
       "  <thead>\n",
       "    <tr style=\"text-align: right;\">\n",
       "      <th></th>\n",
       "      <th>populace</th>\n",
       "      <th>rozloha</th>\n",
       "    </tr>\n",
       "  </thead>\n",
       "  <tbody>\n",
       "    <tr>\n",
       "      <th>Dansko</th>\n",
       "      <td>5655750</td>\n",
       "      <td>42916</td>\n",
       "    </tr>\n",
       "    <tr>\n",
       "      <th>Ceska_republika</th>\n",
       "      <td>10513209</td>\n",
       "      <td>78870</td>\n",
       "    </tr>\n",
       "    <tr>\n",
       "      <th>Nemecko</th>\n",
       "      <td>80716000</td>\n",
       "      <td>357168</td>\n",
       "    </tr>\n",
       "    <tr>\n",
       "      <th>Polsko</th>\n",
       "      <td>38483957</td>\n",
       "      <td>312679</td>\n",
       "    </tr>\n",
       "    <tr>\n",
       "      <th>Slovensko</th>\n",
       "      <td>5415949</td>\n",
       "      <td>49035</td>\n",
       "    </tr>\n",
       "    <tr>\n",
       "      <th>Rakousko</th>\n",
       "      <td>8932664</td>\n",
       "      <td>83878</td>\n",
       "    </tr>\n",
       "  </tbody>\n",
       "</table>\n",
       "</div>"
      ],
      "text/plain": [
       "                 populace  rozloha\n",
       "Dansko            5655750    42916\n",
       "Ceska_republika  10513209    78870\n",
       "Nemecko          80716000   357168\n",
       "Polsko           38483957   312679\n",
       "Slovensko         5415949    49035\n",
       "Rakousko          8932664    83878"
      ]
     },
     "execution_count": 29,
     "metadata": {},
     "output_type": "execute_result"
    }
   ],
   "source": [
    "zeme_evropa_df"
   ]
  },
  {
   "cell_type": "markdown",
   "id": "reduced-prediction",
   "metadata": {},
   "source": [
    "Stejně jako u `Series` má i `DataFrame` svoje *indexy*:"
   ]
  },
  {
   "cell_type": "code",
   "execution_count": 30,
   "id": "aware-feedback",
   "metadata": {},
   "outputs": [
    {
     "data": {
      "text/plain": [
       "Index(['Dansko', 'Ceska_republika', 'Nemecko', 'Polsko', 'Slovensko',\n",
       "       'Rakousko'],\n",
       "      dtype='object')"
      ]
     },
     "execution_count": 30,
     "metadata": {},
     "output_type": "execute_result"
    }
   ],
   "source": [
    "zeme_evropa_df.index"
   ]
  },
  {
   "cell_type": "markdown",
   "id": "outer-fundamentals",
   "metadata": {},
   "source": [
    "Navíc můžeš pracovat s atributem `columns`, který drží jména jednotlivých sloupečků:"
   ]
  },
  {
   "cell_type": "code",
   "execution_count": 31,
   "id": "hispanic-mortgage",
   "metadata": {},
   "outputs": [
    {
     "data": {
      "text/plain": [
       "Index(['populace', 'rozloha'], dtype='object')"
      ]
     },
     "execution_count": 31,
     "metadata": {},
     "output_type": "execute_result"
    }
   ],
   "source": [
    "zeme_evropa_df.columns"
   ]
  },
  {
   "cell_type": "markdown",
   "id": "moving-andrew",
   "metadata": {},
   "source": [
    "Proto si můžeš objekt `DataFrame` představit také jako Pythonovský `dict`.\n",
    "\n",
    "Ovšem s tím rozdílem, že tentokrát mapuješ jméno sloupečku na `Series`:"
   ]
  },
  {
   "cell_type": "code",
   "execution_count": 37,
   "id": "single-mumbai",
   "metadata": {},
   "outputs": [
    {
     "data": {
      "text/plain": [
       "Dansko              5655750\n",
       "Ceska_republika    10513209\n",
       "Nemecko            80716000\n",
       "Polsko             38483957\n",
       "Slovensko           5415949\n",
       "Rakousko            8932664\n",
       "Name: populace, dtype: int64"
      ]
     },
     "execution_count": 37,
     "metadata": {},
     "output_type": "execute_result"
    }
   ],
   "source": [
    "zeme_evropa_df[\"populace\"]"
   ]
  },
  {
   "cell_type": "code",
   "execution_count": 38,
   "id": "respiratory-formation",
   "metadata": {},
   "outputs": [],
   "source": [
    "populace_z_df = zeme_evropa_df[\"populace\"]"
   ]
  },
  {
   "cell_type": "code",
   "execution_count": 39,
   "id": "acquired-steps",
   "metadata": {},
   "outputs": [
    {
     "data": {
      "text/plain": [
       "pandas.core.series.Series"
      ]
     },
     "execution_count": 39,
     "metadata": {},
     "output_type": "execute_result"
    }
   ],
   "source": [
    "type(populace_z_df)"
   ]
  },
  {
   "cell_type": "markdown",
   "id": "unlike-administration",
   "metadata": {},
   "source": [
    "Opatrně při vytváření nového `DataFrame`, u chybějících klíčů implictině zapisuje `Nan` hodnotu (~*not a number*):"
   ]
  },
  {
   "cell_type": "code",
   "execution_count": 47,
   "id": "wired-protection",
   "metadata": {},
   "outputs": [],
   "source": [
    "chybejici_hodnoty_df = DataFrame(\n",
    "    [\n",
    "        {\"a\": 1, \"b\": 4},\n",
    "        {\"c\": 6, \"b\": 7}\n",
    "    ])"
   ]
  },
  {
   "cell_type": "code",
   "execution_count": 48,
   "id": "organic-separate",
   "metadata": {},
   "outputs": [
    {
     "data": {
      "text/html": [
       "<div>\n",
       "<style scoped>\n",
       "    .dataframe tbody tr th:only-of-type {\n",
       "        vertical-align: middle;\n",
       "    }\n",
       "\n",
       "    .dataframe tbody tr th {\n",
       "        vertical-align: top;\n",
       "    }\n",
       "\n",
       "    .dataframe thead th {\n",
       "        text-align: right;\n",
       "    }\n",
       "</style>\n",
       "<table border=\"1\" class=\"dataframe\">\n",
       "  <thead>\n",
       "    <tr style=\"text-align: right;\">\n",
       "      <th></th>\n",
       "      <th>a</th>\n",
       "      <th>b</th>\n",
       "      <th>c</th>\n",
       "    </tr>\n",
       "  </thead>\n",
       "  <tbody>\n",
       "    <tr>\n",
       "      <th>0</th>\n",
       "      <td>1.0</td>\n",
       "      <td>4</td>\n",
       "      <td>NaN</td>\n",
       "    </tr>\n",
       "    <tr>\n",
       "      <th>1</th>\n",
       "      <td>NaN</td>\n",
       "      <td>7</td>\n",
       "      <td>6.0</td>\n",
       "    </tr>\n",
       "  </tbody>\n",
       "</table>\n",
       "</div>"
      ],
      "text/plain": [
       "     a  b    c\n",
       "0  1.0  4  NaN\n",
       "1  NaN  7  6.0"
      ]
     },
     "execution_count": 48,
     "metadata": {},
     "output_type": "execute_result"
    }
   ],
   "source": [
    "chybejici_hodnoty_df"
   ]
  },
  {
   "cell_type": "markdown",
   "id": "activated-surface",
   "metadata": {},
   "source": [
    "Navíc si můžeš všimnout rozdílné definice **datového typu**:"
   ]
  },
  {
   "cell_type": "code",
   "execution_count": 55,
   "id": "cutting-interaction",
   "metadata": {},
   "outputs": [
    {
     "data": {
      "text/plain": [
       "a    float64\n",
       "b      int64\n",
       "c    float64\n",
       "dtype: object"
      ]
     },
     "execution_count": 55,
     "metadata": {},
     "output_type": "execute_result"
    }
   ],
   "source": [
    "chybejici_hodnoty_df.dtypes"
   ]
  },
  {
   "cell_type": "code",
   "execution_count": 58,
   "id": "korean-blair",
   "metadata": {},
   "outputs": [
    {
     "data": {
      "text/plain": [
       "0    1.0\n",
       "1    NaN\n",
       "Name: a, dtype: float64"
      ]
     },
     "execution_count": 58,
     "metadata": {},
     "output_type": "execute_result"
    }
   ],
   "source": [
    "chybejici_hodnoty_df[\"a\"]"
   ]
  },
  {
   "cell_type": "code",
   "execution_count": 60,
   "id": "better-renaissance",
   "metadata": {},
   "outputs": [],
   "source": [
    "konvertovany_sl_a = chybejici_hodnoty_df[\"a\"].convert_dtypes()"
   ]
  },
  {
   "cell_type": "code",
   "execution_count": 61,
   "id": "advised-organic",
   "metadata": {},
   "outputs": [
    {
     "data": {
      "text/plain": [
       "0       1\n",
       "1    <NA>\n",
       "Name: a, dtype: Int64"
      ]
     },
     "execution_count": 61,
     "metadata": {},
     "output_type": "execute_result"
    }
   ],
   "source": [
    "konvertovany_sl_a"
   ]
  },
  {
   "cell_type": "markdown",
   "id": "global-newcastle",
   "metadata": {},
   "source": [
    "Více si o přetypování obecně a dozvíš později."
   ]
  },
  {
   "cell_type": "markdown",
   "id": "dimensional-seller",
   "metadata": {},
   "source": [
    "### Index\n",
    "\n",
    "Posledním ze základních objektů frameworku `pandas` je tedy **index**.\n",
    "\n",
    "Jak `Series`, tak `DataFrame` v sobě *index* obsahují.\n",
    "\n",
    "Pro jednoduchost, si jej můžeš představit jako označení jednotlivých řádků v tabulce."
   ]
  },
  {
   "cell_type": "code",
   "execution_count": 62,
   "id": "deluxe-dragon",
   "metadata": {},
   "outputs": [],
   "source": [
    "from pandas import Index"
   ]
  },
  {
   "cell_type": "code",
   "execution_count": 63,
   "id": "productive-kuwait",
   "metadata": {},
   "outputs": [],
   "source": [
    "indexy = Index([2, 3, 4, 5])"
   ]
  },
  {
   "cell_type": "code",
   "execution_count": 64,
   "id": "southwest-extent",
   "metadata": {},
   "outputs": [
    {
     "data": {
      "text/plain": [
       "Int64Index([2, 3, 4, 5], dtype='int64')"
      ]
     },
     "execution_count": 64,
     "metadata": {},
     "output_type": "execute_result"
    }
   ],
   "source": [
    "indexy"
   ]
  },
  {
   "cell_type": "markdown",
   "id": "driven-innocent",
   "metadata": {},
   "source": [
    "##### Indexování indexů"
   ]
  },
  {
   "cell_type": "code",
   "execution_count": 65,
   "id": "egyptian-cleveland",
   "metadata": {
    "scrolled": true
   },
   "outputs": [
    {
     "data": {
      "text/plain": [
       "4"
      ]
     },
     "execution_count": 65,
     "metadata": {},
     "output_type": "execute_result"
    }
   ],
   "source": [
    "indexy[2]"
   ]
  },
  {
   "cell_type": "markdown",
   "id": "excited-lawsuit",
   "metadata": {},
   "source": [
    "##### Slicování indexů"
   ]
  },
  {
   "cell_type": "code",
   "execution_count": 66,
   "id": "contemporary-sympathy",
   "metadata": {},
   "outputs": [
    {
     "data": {
      "text/plain": [
       "Int64Index([2, 3, 4], dtype='int64')"
      ]
     },
     "execution_count": 66,
     "metadata": {},
     "output_type": "execute_result"
    }
   ],
   "source": [
    "indexy[:3]"
   ]
  },
  {
   "cell_type": "markdown",
   "id": "increased-bronze",
   "metadata": {},
   "source": [
    "##### Nezměnitelný objekt"
   ]
  },
  {
   "cell_type": "code",
   "execution_count": 67,
   "id": "atomic-update",
   "metadata": {},
   "outputs": [
    {
     "ename": "TypeError",
     "evalue": "Index does not support mutable operations",
     "output_type": "error",
     "traceback": [
      "\u001b[0;31m---------------------------------------------------------------------------\u001b[0m",
      "\u001b[0;31mTypeError\u001b[0m                                 Traceback (most recent call last)",
      "\u001b[0;32m<ipython-input-67-0434b9917c8c>\u001b[0m in \u001b[0;36m<module>\u001b[0;34m\u001b[0m\n\u001b[0;32m----> 1\u001b[0;31m \u001b[0mindexy\u001b[0m\u001b[0;34m[\u001b[0m\u001b[0;36m2\u001b[0m\u001b[0;34m]\u001b[0m \u001b[0;34m=\u001b[0m \u001b[0;36m3\u001b[0m\u001b[0;34m\u001b[0m\u001b[0;34m\u001b[0m\u001b[0m\n\u001b[0m",
      "\u001b[0;32m/opt/conda/lib/python3.8/site-packages/pandas/core/indexes/base.py\u001b[0m in \u001b[0;36m__setitem__\u001b[0;34m(self, key, value)\u001b[0m\n\u001b[1;32m   4275\u001b[0m     \u001b[0;34m@\u001b[0m\u001b[0mfinal\u001b[0m\u001b[0;34m\u001b[0m\u001b[0;34m\u001b[0m\u001b[0m\n\u001b[1;32m   4276\u001b[0m     \u001b[0;32mdef\u001b[0m \u001b[0m__setitem__\u001b[0m\u001b[0;34m(\u001b[0m\u001b[0mself\u001b[0m\u001b[0;34m,\u001b[0m \u001b[0mkey\u001b[0m\u001b[0;34m,\u001b[0m \u001b[0mvalue\u001b[0m\u001b[0;34m)\u001b[0m\u001b[0;34m:\u001b[0m\u001b[0;34m\u001b[0m\u001b[0;34m\u001b[0m\u001b[0m\n\u001b[0;32m-> 4277\u001b[0;31m         \u001b[0;32mraise\u001b[0m \u001b[0mTypeError\u001b[0m\u001b[0;34m(\u001b[0m\u001b[0;34m\"Index does not support mutable operations\"\u001b[0m\u001b[0;34m)\u001b[0m\u001b[0;34m\u001b[0m\u001b[0;34m\u001b[0m\u001b[0m\n\u001b[0m\u001b[1;32m   4278\u001b[0m \u001b[0;34m\u001b[0m\u001b[0m\n\u001b[1;32m   4279\u001b[0m     \u001b[0;32mdef\u001b[0m \u001b[0m__getitem__\u001b[0m\u001b[0;34m(\u001b[0m\u001b[0mself\u001b[0m\u001b[0;34m,\u001b[0m \u001b[0mkey\u001b[0m\u001b[0;34m)\u001b[0m\u001b[0;34m:\u001b[0m\u001b[0;34m\u001b[0m\u001b[0;34m\u001b[0m\u001b[0m\n",
      "\u001b[0;31mTypeError\u001b[0m: Index does not support mutable operations"
     ]
    }
   ],
   "source": [
    "indexy[2] = 3"
   ]
  },
  {
   "cell_type": "markdown",
   "id": "impressed-caribbean",
   "metadata": {},
   "source": [
    "Tato nezměnitelnost slouží k větší bezpečnosti, protože jednotlivé indexy, může sdílet více `DataFrame`."
   ]
  },
  {
   "cell_type": "markdown",
   "id": "intense-chamber",
   "metadata": {},
   "source": [
    "##### Index jako seřazený set"
   ]
  },
  {
   "cell_type": "code",
   "execution_count": 68,
   "id": "weighted-slovakia",
   "metadata": {},
   "outputs": [],
   "source": [
    "indexy_a = Index([1, 2, 3, 4])\n",
    "indexy_b = Index([3, 4, 5, 6])"
   ]
  },
  {
   "cell_type": "code",
   "execution_count": 70,
   "id": "diagnostic-colonial",
   "metadata": {},
   "outputs": [
    {
     "data": {
      "text/plain": [
       "Int64Index([3, 4], dtype='int64')"
      ]
     },
     "execution_count": 70,
     "metadata": {},
     "output_type": "execute_result"
    }
   ],
   "source": [
    "indexy_a.intersection(indexy_b)"
   ]
  },
  {
   "cell_type": "code",
   "execution_count": 71,
   "id": "binary-adrian",
   "metadata": {},
   "outputs": [
    {
     "data": {
      "text/plain": [
       "Int64Index([1, 2, 3, 4, 5, 6], dtype='int64')"
      ]
     },
     "execution_count": 71,
     "metadata": {},
     "output_type": "execute_result"
    }
   ],
   "source": [
    "indexy_a.union(indexy_b)"
   ]
  },
  {
   "cell_type": "code",
   "execution_count": null,
   "id": "bound-dispute",
   "metadata": {},
   "outputs": [],
   "source": []
  },
  {
   "cell_type": "markdown",
   "id": "pretty-hypothesis",
   "metadata": {},
   "source": [
    "tvorba DF, Series, File IO, (30 min + 5 min)\n",
    "\n",
    "    vytvoření jednoduchého DF,\n",
    "    výběr některých volitelných argumentů,\n",
    "    vstupy souborů: csv, excel, txt, xml, HTML.\n",
    "    cvičení 01,\n"
   ]
  },
  {
   "cell_type": "markdown",
   "id": "separate-black",
   "metadata": {},
   "source": [
    "## Tvorba DataFrame"
   ]
  },
  {
   "cell_type": "markdown",
   "id": "czech-overview",
   "metadata": {},
   "source": [
    "Vytvořit nový `DataFrame` je záležitost několika málo argumentů.\n",
    "\n",
    "Poměrově ale není časté, chystat data *z ničeho*.\n",
    "\n",
    "Většinou potřebuješ právě nahrát různé existující externí struktury, do `DataFrame` objektů.\n",
    "\n",
    "* `read_csv`,\n",
    "* `read_excel`,\n",
    "* `read_json`,\n",
    "* `read_html`,\n",
    "* `read_sql`,\n",
    "* `read_parquet`,\n",
    "* `read_sas`."
   ]
  },
  {
   "cell_type": "markdown",
   "id": "finite-cleveland",
   "metadata": {},
   "source": [
    "###  Načti soubor `csv`"
   ]
  },
  {
   "cell_type": "markdown",
   "id": "beginning-campaign",
   "metadata": {},
   "source": [
    "Knihovna nabízí přímo specializovanou funkci `read_csv`.\n",
    "\n",
    "Ta dovede načíst obsah souboru do nového `DataFrame`.\n",
    "\n",
    "Pro první použití, případně pozdější rozšíření je vhodné, prozkoumat dokumentaci:"
   ]
  },
  {
   "cell_type": "code",
   "execution_count": 8,
   "id": "rental-globe",
   "metadata": {},
   "outputs": [],
   "source": [
    "import pathlib\n",
    "from pandas import read_csv"
   ]
  },
  {
   "cell_type": "code",
   "execution_count": 106,
   "id": "modular-jamaica",
   "metadata": {},
   "outputs": [],
   "source": [
    "read_csv?"
   ]
  },
  {
   "cell_type": "markdown",
   "id": "conscious-agent",
   "metadata": {},
   "source": [
    "Načteš jméno souboru se specifickou příponou `csv`:"
   ]
  },
  {
   "cell_type": "code",
   "execution_count": 10,
   "id": "tutorial-working",
   "metadata": {},
   "outputs": [],
   "source": [
    "zamestnanci_ = !ls ../onsite | grep \".csv\""
   ]
  },
  {
   "cell_type": "code",
   "execution_count": 11,
   "id": "adapted-pledge",
   "metadata": {},
   "outputs": [
    {
     "data": {
      "text/plain": [
       "['customers_inp.csv']"
      ]
     },
     "execution_count": 11,
     "metadata": {},
     "output_type": "execute_result"
    }
   ],
   "source": [
    "zamestnanci_"
   ]
  },
  {
   "cell_type": "code",
   "execution_count": 12,
   "id": "intensive-modern",
   "metadata": {},
   "outputs": [],
   "source": [
    "zamestnanci_rel = pathlib.Path(\"../onsite\").joinpath(zamestnanci_[0])"
   ]
  },
  {
   "cell_type": "code",
   "execution_count": 6,
   "id": "arctic-wright",
   "metadata": {},
   "outputs": [
    {
     "data": {
      "text/plain": [
       "PosixPath('../onsite/customers_inp.csv')"
      ]
     },
     "execution_count": 6,
     "metadata": {},
     "output_type": "execute_result"
    }
   ],
   "source": [
    "zamestnanci_rel"
   ]
  },
  {
   "cell_type": "code",
   "execution_count": 13,
   "id": "radio-miracle",
   "metadata": {},
   "outputs": [],
   "source": [
    "zamestnanci = read_csv(zamestnanci_rel)"
   ]
  },
  {
   "cell_type": "markdown",
   "id": "biblical-average",
   "metadata": {},
   "source": [
    "Prozkoumej samotný soubor:"
   ]
  },
  {
   "cell_type": "code",
   "execution_count": 4,
   "id": "noble-accountability",
   "metadata": {},
   "outputs": [
    {
     "name": "stdout",
     "output_type": "stream",
     "text": [
      "customer_id,first_name,last_name,phone,email\n",
      "11,Matous,Holinka,`+420777666555,matous@matousholinka.com\n",
      "12,Marek,Parek,`+420777434111,marek.parek@gmail.com\n",
      "13,Petr,Svetr,`+420777333111,petr@svetr.com\n",
      "14,Alice,Svobodova,`+420777200300,svobodova.a@email.cz\n",
      "15,Tereza,Novakova,`+420777608080,novakova_terka@seznam.cz\n"
     ]
    }
   ],
   "source": [
    "!cat ../onsite/customers_inp.csv"
   ]
  },
  {
   "cell_type": "markdown",
   "id": "welsh-elements",
   "metadata": {},
   "source": [
    "Nyní se podívej jak vypadá nově vytvořený `DataFrame`:"
   ]
  },
  {
   "cell_type": "code",
   "execution_count": 129,
   "id": "painted-belle",
   "metadata": {},
   "outputs": [
    {
     "data": {
      "text/html": [
       "<div>\n",
       "<style scoped>\n",
       "    .dataframe tbody tr th:only-of-type {\n",
       "        vertical-align: middle;\n",
       "    }\n",
       "\n",
       "    .dataframe tbody tr th {\n",
       "        vertical-align: top;\n",
       "    }\n",
       "\n",
       "    .dataframe thead th {\n",
       "        text-align: right;\n",
       "    }\n",
       "</style>\n",
       "<table border=\"1\" class=\"dataframe\">\n",
       "  <thead>\n",
       "    <tr style=\"text-align: right;\">\n",
       "      <th></th>\n",
       "      <th>customer_id</th>\n",
       "      <th>first_name</th>\n",
       "      <th>last_name</th>\n",
       "      <th>phone</th>\n",
       "      <th>email</th>\n",
       "    </tr>\n",
       "  </thead>\n",
       "  <tbody>\n",
       "    <tr>\n",
       "      <th>0</th>\n",
       "      <td>11</td>\n",
       "      <td>Matous</td>\n",
       "      <td>Holinka</td>\n",
       "      <td>`+420777666555</td>\n",
       "      <td>matous@matousholinka.com</td>\n",
       "    </tr>\n",
       "    <tr>\n",
       "      <th>1</th>\n",
       "      <td>12</td>\n",
       "      <td>Marek</td>\n",
       "      <td>Parek</td>\n",
       "      <td>`+420777434111</td>\n",
       "      <td>marek.parek@gmail.com</td>\n",
       "    </tr>\n",
       "    <tr>\n",
       "      <th>2</th>\n",
       "      <td>13</td>\n",
       "      <td>Petr</td>\n",
       "      <td>Svetr</td>\n",
       "      <td>`+420777333111</td>\n",
       "      <td>petr@svetr.com</td>\n",
       "    </tr>\n",
       "    <tr>\n",
       "      <th>3</th>\n",
       "      <td>14</td>\n",
       "      <td>Alice</td>\n",
       "      <td>Svobodova</td>\n",
       "      <td>`+420777200300</td>\n",
       "      <td>svobodova.a@email.cz</td>\n",
       "    </tr>\n",
       "    <tr>\n",
       "      <th>4</th>\n",
       "      <td>15</td>\n",
       "      <td>Tereza</td>\n",
       "      <td>Novakova</td>\n",
       "      <td>`+420777608080</td>\n",
       "      <td>novakova_terka@seznam.cz</td>\n",
       "    </tr>\n",
       "  </tbody>\n",
       "</table>\n",
       "</div>"
      ],
      "text/plain": [
       "   customer_id first_name  last_name           phone                     email\n",
       "0           11     Matous    Holinka  `+420777666555  matous@matousholinka.com\n",
       "1           12      Marek      Parek  `+420777434111     marek.parek@gmail.com\n",
       "2           13       Petr      Svetr  `+420777333111            petr@svetr.com\n",
       "3           14      Alice  Svobodova  `+420777200300      svobodova.a@email.cz\n",
       "4           15     Tereza   Novakova  `+420777608080  novakova_terka@seznam.cz"
      ]
     },
     "execution_count": 129,
     "metadata": {},
     "output_type": "execute_result"
    }
   ],
   "source": [
    "zamestnanci"
   ]
  },
  {
   "cell_type": "markdown",
   "id": "powerful-villa",
   "metadata": {},
   "source": [
    "Je potřeba pohlídat si (není řazené podle priorit):\n",
    "* indexy,\n",
    "* záhlaví,\n",
    "* strukturu jednotlivých `Series`,\n",
    "* datové typy."
   ]
  },
  {
   "cell_type": "markdown",
   "id": "becoming-multimedia",
   "metadata": {},
   "source": [
    "Pokud nesedí **defaultní oddělovač** (*sep* nebo *delimiter*):"
   ]
  },
  {
   "cell_type": "code",
   "execution_count": 126,
   "id": "acquired-facial",
   "metadata": {},
   "outputs": [],
   "source": [
    "!sed -i s\"/;/,/g\" ../onsite/customers_inp.csv"
   ]
  },
  {
   "cell_type": "code",
   "execution_count": 6,
   "id": "breathing-navigation",
   "metadata": {},
   "outputs": [
    {
     "name": "stdout",
     "output_type": "stream",
     "text": [
      "customer_id,first_name,last_name,phone,email\n",
      "11,Matous,Holinka,`+420777666555,matous@matousholinka.com\n",
      "12,Marek,Parek,`+420777434111,marek.parek@gmail.com\n",
      "13,Petr,Svetr,`+420777333111,petr@svetr.com\n",
      "14,Alice,Svobodova,`+420777200300,svobodova.a@email.cz\n",
      "15,Tereza,Novakova,`+420777608080,novakova_terka@seznam.cz\n"
     ]
    }
   ],
   "source": [
    "!cat ../onsite/customers_inp.csv"
   ]
  },
  {
   "cell_type": "code",
   "execution_count": 9,
   "id": "regular-suicide",
   "metadata": {},
   "outputs": [
    {
     "ename": "NameError",
     "evalue": "name 'zamestnanci_' is not defined",
     "output_type": "error",
     "traceback": [
      "\u001b[0;31m---------------------------------------------------------------------------\u001b[0m",
      "\u001b[0;31mNameError\u001b[0m                                 Traceback (most recent call last)",
      "\u001b[0;32m<ipython-input-9-970b060d8c0c>\u001b[0m in \u001b[0;36m<module>\u001b[0;34m\u001b[0m\n\u001b[0;32m----> 1\u001b[0;31m \u001b[0mzamestnanci_carka\u001b[0m \u001b[0;34m=\u001b[0m \u001b[0mread_csv\u001b[0m\u001b[0;34m(\u001b[0m\u001b[0;34mf\"../onsite/{zamestnanci_[0]}\"\u001b[0m\u001b[0;34m)\u001b[0m\u001b[0;34m\u001b[0m\u001b[0;34m\u001b[0m\u001b[0m\n\u001b[0m",
      "\u001b[0;31mNameError\u001b[0m: name 'zamestnanci_' is not defined"
     ]
    }
   ],
   "source": [
    "zamestnanci_carka = read_csv(f\"../onsite/{zamestnanci_[0]}\")"
   ]
  },
  {
   "cell_type": "code",
   "execution_count": 94,
   "id": "casual-young",
   "metadata": {},
   "outputs": [
    {
     "data": {
      "text/html": [
       "<div>\n",
       "<style scoped>\n",
       "    .dataframe tbody tr th:only-of-type {\n",
       "        vertical-align: middle;\n",
       "    }\n",
       "\n",
       "    .dataframe tbody tr th {\n",
       "        vertical-align: top;\n",
       "    }\n",
       "\n",
       "    .dataframe thead th {\n",
       "        text-align: right;\n",
       "    }\n",
       "</style>\n",
       "<table border=\"1\" class=\"dataframe\">\n",
       "  <thead>\n",
       "    <tr style=\"text-align: right;\">\n",
       "      <th></th>\n",
       "      <th>customer_id;first_name;last_name;phone;email</th>\n",
       "    </tr>\n",
       "  </thead>\n",
       "  <tbody>\n",
       "    <tr>\n",
       "      <th>0</th>\n",
       "      <td>11;Matous;Holinka;`+420777666555;matous@matous...</td>\n",
       "    </tr>\n",
       "    <tr>\n",
       "      <th>1</th>\n",
       "      <td>12;Marek;Parek;`+420777434111;marek.parek@gmai...</td>\n",
       "    </tr>\n",
       "    <tr>\n",
       "      <th>2</th>\n",
       "      <td>13;Petr;Svetr;`+420777333111;petr@svetr.com</td>\n",
       "    </tr>\n",
       "    <tr>\n",
       "      <th>3</th>\n",
       "      <td>14;Alice;Svobodova;`+420777200300;svobodova.a@...</td>\n",
       "    </tr>\n",
       "    <tr>\n",
       "      <th>4</th>\n",
       "      <td>15;Tereza;Novakova;`+420777608080;novakova_ter...</td>\n",
       "    </tr>\n",
       "  </tbody>\n",
       "</table>\n",
       "</div>"
      ],
      "text/plain": [
       "        customer_id;first_name;last_name;phone;email\n",
       "0  11;Matous;Holinka;`+420777666555;matous@matous...\n",
       "1  12;Marek;Parek;`+420777434111;marek.parek@gmai...\n",
       "2        13;Petr;Svetr;`+420777333111;petr@svetr.com\n",
       "3  14;Alice;Svobodova;`+420777200300;svobodova.a@...\n",
       "4  15;Tereza;Novakova;`+420777608080;novakova_ter..."
      ]
     },
     "execution_count": 94,
     "metadata": {},
     "output_type": "execute_result"
    }
   ],
   "source": [
    "zamestnanci_carka"
   ]
  },
  {
   "cell_type": "markdown",
   "id": "suffering-permission",
   "metadata": {},
   "source": [
    "Můžeš zadat jiný než *defaultní* oddělovač:"
   ]
  },
  {
   "cell_type": "code",
   "execution_count": 97,
   "id": "internal-comfort",
   "metadata": {},
   "outputs": [],
   "source": [
    "zamestnanci_strednik = read_csv(f\"../onsite/{zamestnanci_[0]}\", sep=\";\")"
   ]
  },
  {
   "cell_type": "code",
   "execution_count": 98,
   "id": "joined-christian",
   "metadata": {},
   "outputs": [
    {
     "data": {
      "text/html": [
       "<div>\n",
       "<style scoped>\n",
       "    .dataframe tbody tr th:only-of-type {\n",
       "        vertical-align: middle;\n",
       "    }\n",
       "\n",
       "    .dataframe tbody tr th {\n",
       "        vertical-align: top;\n",
       "    }\n",
       "\n",
       "    .dataframe thead th {\n",
       "        text-align: right;\n",
       "    }\n",
       "</style>\n",
       "<table border=\"1\" class=\"dataframe\">\n",
       "  <thead>\n",
       "    <tr style=\"text-align: right;\">\n",
       "      <th></th>\n",
       "      <th>customer_id</th>\n",
       "      <th>first_name</th>\n",
       "      <th>last_name</th>\n",
       "      <th>phone</th>\n",
       "      <th>email</th>\n",
       "    </tr>\n",
       "  </thead>\n",
       "  <tbody>\n",
       "    <tr>\n",
       "      <th>0</th>\n",
       "      <td>11</td>\n",
       "      <td>Matous</td>\n",
       "      <td>Holinka</td>\n",
       "      <td>`+420777666555</td>\n",
       "      <td>matous@matousholinka.com</td>\n",
       "    </tr>\n",
       "    <tr>\n",
       "      <th>1</th>\n",
       "      <td>12</td>\n",
       "      <td>Marek</td>\n",
       "      <td>Parek</td>\n",
       "      <td>`+420777434111</td>\n",
       "      <td>marek.parek@gmail.com</td>\n",
       "    </tr>\n",
       "    <tr>\n",
       "      <th>2</th>\n",
       "      <td>13</td>\n",
       "      <td>Petr</td>\n",
       "      <td>Svetr</td>\n",
       "      <td>`+420777333111</td>\n",
       "      <td>petr@svetr.com</td>\n",
       "    </tr>\n",
       "    <tr>\n",
       "      <th>3</th>\n",
       "      <td>14</td>\n",
       "      <td>Alice</td>\n",
       "      <td>Svobodova</td>\n",
       "      <td>`+420777200300</td>\n",
       "      <td>svobodova.a@email.cz</td>\n",
       "    </tr>\n",
       "    <tr>\n",
       "      <th>4</th>\n",
       "      <td>15</td>\n",
       "      <td>Tereza</td>\n",
       "      <td>Novakova</td>\n",
       "      <td>`+420777608080</td>\n",
       "      <td>novakova_terka@seznam.cz</td>\n",
       "    </tr>\n",
       "  </tbody>\n",
       "</table>\n",
       "</div>"
      ],
      "text/plain": [
       "   customer_id first_name  last_name           phone                     email\n",
       "0           11     Matous    Holinka  `+420777666555  matous@matousholinka.com\n",
       "1           12      Marek      Parek  `+420777434111     marek.parek@gmail.com\n",
       "2           13       Petr      Svetr  `+420777333111            petr@svetr.com\n",
       "3           14      Alice  Svobodova  `+420777200300      svobodova.a@email.cz\n",
       "4           15     Tereza   Novakova  `+420777608080  novakova_terka@seznam.cz"
      ]
     },
     "execution_count": 98,
     "metadata": {},
     "output_type": "execute_result"
    }
   ],
   "source": [
    "zamestnanci_strednik"
   ]
  },
  {
   "cell_type": "markdown",
   "id": "defensive-characteristic",
   "metadata": {},
   "source": [
    "**Nevhodné datové typy** je také možné řešit při nové inicializaci `DataFrame`:"
   ]
  },
  {
   "cell_type": "code",
   "execution_count": 100,
   "id": "knowing-interpretation",
   "metadata": {},
   "outputs": [
    {
     "data": {
      "text/plain": [
       "customer_id     int64\n",
       "first_name     object\n",
       "last_name      object\n",
       "phone          object\n",
       "email          object\n",
       "dtype: object"
      ]
     },
     "execution_count": 100,
     "metadata": {},
     "output_type": "execute_result"
    }
   ],
   "source": [
    "zamestnanci_strednik.dtypes"
   ]
  },
  {
   "cell_type": "markdown",
   "id": "computational-density",
   "metadata": {},
   "source": [
    "Pokud potřebuješ *vynutit* konverzi datového typu:"
   ]
  },
  {
   "cell_type": "code",
   "execution_count": 103,
   "id": "peripheral-aurora",
   "metadata": {},
   "outputs": [],
   "source": [
    "zamestnanci_bez_cisel = read_csv(\n",
    "    f\"../onsite/{zamestnanci_[0]}\",\n",
    "    sep=\";\",\n",
    "    dtype={\n",
    "        \"customer_id\": str,\n",
    "        \"first_name\": str,\n",
    "        \"last_name\": str,\n",
    "        \"phone\": str,\n",
    "        \"email\": str\n",
    "    }\n",
    ")"
   ]
  },
  {
   "cell_type": "code",
   "execution_count": 104,
   "id": "exciting-advisory",
   "metadata": {},
   "outputs": [
    {
     "data": {
      "text/plain": [
       "customer_id    object\n",
       "first_name     object\n",
       "last_name      object\n",
       "phone          object\n",
       "email          object\n",
       "dtype: object"
      ]
     },
     "execution_count": 104,
     "metadata": {},
     "output_type": "execute_result"
    }
   ],
   "source": [
    "zamestnanci_bez_cisel.dtypes"
   ]
  },
  {
   "cell_type": "markdown",
   "id": "caroline-injury",
   "metadata": {},
   "source": [
    "### Načti tabulku `html`"
   ]
  },
  {
   "cell_type": "markdown",
   "id": "modular-cruise",
   "metadata": {},
   "source": [
    "Funkce `read_html` často zastává některé kroky *web scrapování*.\n",
    "\n",
    "Přesto je jejím učelem \"pouze\" extrahování dat v HTML `<table></table>` elementech.\n",
    "\n",
    "Ukázka [zdroj](https://simple.wikipedia.org/wiki/List_of_U.S._states)."
   ]
  },
  {
   "cell_type": "markdown",
   "id": "split-driving",
   "metadata": {},
   "source": [
    "##### Demo: Ukázka v příkazovém řádku"
   ]
  },
  {
   "cell_type": "markdown",
   "id": "young-ranch",
   "metadata": {},
   "source": [
    "### Načti výstup dotazu do tabulky"
   ]
  },
  {
   "cell_type": "markdown",
   "id": "southeast-smile",
   "metadata": {},
   "source": [
    "Další možností, jak lépe pracovat s knihovnou `pandas`, je načítání z databáze.\n",
    "\n",
    "Prakticky pošleš dotaz do databázového systému a on jej rozdělí na `DataFrame`:"
   ]
  },
  {
   "cell_type": "code",
   "execution_count": 147,
   "id": "allied-monte",
   "metadata": {},
   "outputs": [],
   "source": [
    "from pandas import read_sql"
   ]
  },
  {
   "cell_type": "code",
   "execution_count": 148,
   "id": "velvet-hudson",
   "metadata": {},
   "outputs": [],
   "source": [
    "read_sql?"
   ]
  },
  {
   "cell_type": "code",
   "execution_count": 151,
   "id": "judicial-greeting",
   "metadata": {},
   "outputs": [],
   "source": [
    "database_name = \"company_test\""
   ]
  },
  {
   "cell_type": "code",
   "execution_count": 152,
   "id": "close-wyoming",
   "metadata": {},
   "outputs": [],
   "source": [
    "select_query = f\"SELECT * FROM {database_name}\""
   ]
  },
  {
   "cell_type": "code",
   "execution_count": 153,
   "id": "conservative-headset",
   "metadata": {},
   "outputs": [],
   "source": [
    "connection_str = 'Driver={ODBC Driver 17 for SQL Server};' \\\n",
    "    'Server=localhost;uid=sa;pwd=csoB2023;' \\\n",
    "    f'port=1443;database={database_name};'"
   ]
  },
  {
   "cell_type": "code",
   "execution_count": null,
   "id": "banned-twenty",
   "metadata": {},
   "outputs": [],
   "source": [
    "with pyodbc.connect(connection_str) as connection:\n",
    "    select_query = read_sql(select_query, connection)"
   ]
  },
  {
   "cell_type": "code",
   "execution_count": null,
   "id": "fleet-concert",
   "metadata": {},
   "outputs": [],
   "source": [
    "print(select_query)"
   ]
  },
  {
   "cell_type": "markdown",
   "id": "united-contrast",
   "metadata": {},
   "source": [
    "Autoři knihovny většinou vyžadují chystání *connection* objektů pomocí **SQL Alchemy**.\n",
    "\n",
    "V rámci ukázky je použitý dnes již netestováné `dbapi2` připojení."
   ]
  },
  {
   "cell_type": "markdown",
   "id": "soviet-darwin",
   "metadata": {},
   "source": [
    "##### 🧠 CVIČENÍ 🧠, načti data z vlastní DB a nachystej nový DataFrame"
   ]
  },
  {
   "cell_type": "code",
   "execution_count": null,
   "id": "prepared-relief",
   "metadata": {},
   "outputs": [],
   "source": []
  },
  {
   "cell_type": "markdown",
   "id": "hundred-martin",
   "metadata": {},
   "source": [
    "## Prozkoumávání dat pomocí DataFramů"
   ]
  },
  {
   "cell_type": "markdown",
   "id": "proved-freeware",
   "metadata": {},
   "source": [
    "Nejprve obecně pohled na `DataFrame`.\n",
    "\n",
    "Několik funkcí a pohledů:\n",
    "* `head`,\n",
    "* `tail`,\n",
    "* `info`,\n",
    "* `describe`,\n",
    "* `dtypes`"
   ]
  },
  {
   "cell_type": "markdown",
   "id": "internal-basis",
   "metadata": {},
   "source": [
    "### Selekce u sloupečků\n",
    "\n"
   ]
  },
  {
   "cell_type": "code",
   "execution_count": 2,
   "id": "checked-rover",
   "metadata": {},
   "outputs": [],
   "source": [
    "from pandas import Series"
   ]
  },
  {
   "cell_type": "code",
   "execution_count": 3,
   "id": "rural-joyce",
   "metadata": {},
   "outputs": [],
   "source": [
    "vek_df = Series(\n",
    "    [26, 36, 46, 56],\n",
    "    index=['Petr', 'Pavel', 'Jiri', 'Tomas']\n",
    ")"
   ]
  },
  {
   "cell_type": "markdown",
   "id": "copyrighted-photography",
   "metadata": {},
   "source": [
    "Vybereš si sloupeček `customer_id`:"
   ]
  },
  {
   "cell_type": "code",
   "execution_count": 31,
   "id": "handled-pierre",
   "metadata": {},
   "outputs": [
    {
     "data": {
      "text/plain": [
       "Petr     26\n",
       "Pavel    36\n",
       "Jiri     46\n",
       "Tomas    56\n",
       "dtype: int64"
      ]
     },
     "execution_count": 31,
     "metadata": {},
     "output_type": "execute_result"
    }
   ],
   "source": [
    "vek_df"
   ]
  },
  {
   "cell_type": "markdown",
   "id": "judicial-shooting",
   "metadata": {},
   "source": [
    "Pokud provádíš *slicing* pomocí indexů, implicitně **vynecháš konečný index**:"
   ]
  },
  {
   "cell_type": "code",
   "execution_count": 32,
   "id": "former-binary",
   "metadata": {},
   "outputs": [
    {
     "data": {
      "text/plain": [
       "Petr     26\n",
       "Pavel    36\n",
       "Jiri     46\n",
       "dtype: int64"
      ]
     },
     "execution_count": 32,
     "metadata": {},
     "output_type": "execute_result"
    }
   ],
   "source": [
    "vek_df[0:3]"
   ]
  },
  {
   "cell_type": "markdown",
   "id": "decent-notification",
   "metadata": {},
   "source": [
    "Pokud ovšem zadáváš přímo hodnotu Indexu, potom vybíráš hodnoty **včetně konečného indexu**:"
   ]
  },
  {
   "cell_type": "code",
   "execution_count": 33,
   "id": "charming-republican",
   "metadata": {},
   "outputs": [
    {
     "data": {
      "text/plain": [
       "Petr     26\n",
       "Pavel    36\n",
       "Jiri     46\n",
       "Tomas    56\n",
       "dtype: int64"
      ]
     },
     "execution_count": 33,
     "metadata": {},
     "output_type": "execute_result"
    }
   ],
   "source": [
    "vek_df[\"Petr\": \"Tomas\"]"
   ]
  },
  {
   "cell_type": "markdown",
   "id": "thick-maria",
   "metadata": {},
   "source": [
    "Tento jednoduchý přístup potom vede k častým chybám a nepochopením."
   ]
  },
  {
   "cell_type": "markdown",
   "id": "intended-studio",
   "metadata": {},
   "source": [
    "### Atributy `loc`, `iloc`"
   ]
  },
  {
   "cell_type": "markdown",
   "id": "warming-moscow",
   "metadata": {},
   "source": [
    "Právě protože je *indexování* a *slicing* v rámci `Series` matoucí, existují pomocné atributy.\n",
    "\n",
    "##### loc\n",
    "\n",
    "Právě tento atribut zaručí, že budeš vždy pracovat pomocí explicitního zadání hodnoty indexů:"
   ]
  },
  {
   "cell_type": "code",
   "execution_count": 5,
   "id": "gorgeous-annex",
   "metadata": {},
   "outputs": [
    {
     "data": {
      "text/plain": [
       "26"
      ]
     },
     "execution_count": 5,
     "metadata": {},
     "output_type": "execute_result"
    }
   ],
   "source": [
    "vek_df.loc[\"Petr\"]"
   ]
  },
  {
   "cell_type": "markdown",
   "id": "hydraulic-hours",
   "metadata": {},
   "source": [
    "Jde tedy o explicitní práci s Indexy knihovny `pandas`, ne indexy Pythonu:"
   ]
  },
  {
   "cell_type": "code",
   "execution_count": 15,
   "id": "downtown-coalition",
   "metadata": {},
   "outputs": [],
   "source": [
    "jmena_df = Series(\n",
    "    [\"Matous\", \"Marek\", \"Lukas\", \"Jan\"],\n",
    "    index=[1, 2, 3, 4]\n",
    ")"
   ]
  },
  {
   "cell_type": "code",
   "execution_count": 18,
   "id": "absent-realtor",
   "metadata": {},
   "outputs": [
    {
     "data": {
      "text/plain": [
       "1    Matous\n",
       "2     Marek\n",
       "3     Lukas\n",
       "4       Jan\n",
       "dtype: object"
      ]
     },
     "execution_count": 18,
     "metadata": {},
     "output_type": "execute_result"
    }
   ],
   "source": [
    "jmena_df"
   ]
  },
  {
   "cell_type": "code",
   "execution_count": 16,
   "id": "competitive-argentina",
   "metadata": {},
   "outputs": [
    {
     "data": {
      "text/plain": [
       "'Matous'"
      ]
     },
     "execution_count": 16,
     "metadata": {},
     "output_type": "execute_result"
    }
   ],
   "source": [
    "jmena_df.loc[1]"
   ]
  },
  {
   "cell_type": "code",
   "execution_count": 20,
   "id": "digital-python",
   "metadata": {},
   "outputs": [],
   "source": [
    "jmena_df.loc?"
   ]
  },
  {
   "cell_type": "markdown",
   "id": "satisfactory-participant",
   "metadata": {},
   "source": [
    "##### iloc\n",
    "\n",
    "Naopak atribut `iloc` je proces, který funguje výlučně na indexování v rámci Pythonu (pořadí, začíná nulou):"
   ]
  },
  {
   "cell_type": "code",
   "execution_count": 19,
   "id": "optical-roots",
   "metadata": {},
   "outputs": [
    {
     "data": {
      "text/plain": [
       "'Marek'"
      ]
     },
     "execution_count": 19,
     "metadata": {},
     "output_type": "execute_result"
    }
   ],
   "source": [
    "jmena_df.iloc[1]"
   ]
  },
  {
   "cell_type": "markdown",
   "id": "treated-cameroon",
   "metadata": {},
   "source": [
    "Kvůli jasnosti a přehlednosti je obecně výhodnější a doporučováné, pracovat s atributy `loc` a `iloc`."
   ]
  },
  {
   "cell_type": "markdown",
   "id": "nuclear-astronomy",
   "metadata": {},
   "source": [
    "### Selekce u tabulárních hodnot\n",
    "\n",
    "Jelikož je `DataFrame` složený ze sloupečků, můžeš aplikovat některé postupy z uplynulé teorie.\n",
    "\n",
    "* slovnákový klíč,\n",
    "* slovníkový náhled,\n",
    "* loc, iloc, ix, transformace,\n",
    "* xx"
   ]
  },
  {
   "cell_type": "code",
   "execution_count": 21,
   "id": "executed-tucson",
   "metadata": {},
   "outputs": [],
   "source": [
    "from pandas import DataFrame"
   ]
  },
  {
   "cell_type": "code",
   "execution_count": 22,
   "id": "authorized-utility",
   "metadata": {},
   "outputs": [],
   "source": [
    "populace_evropa = {\n",
    "    'Dansko': 5_655_750,\n",
    "    'Ceska_republika': 10_513_209,\n",
    "    'Nemecko': 80_716_000,\n",
    "    'Polsko': 38_483_957,\n",
    "    'Slovensko': 5_415_949,\n",
    "    'Rakousko': 8_932_664\n",
    "}"
   ]
  },
  {
   "cell_type": "code",
   "execution_count": 23,
   "id": "proprietary-flower",
   "metadata": {},
   "outputs": [],
   "source": [
    "rozloha_evropa = {\n",
    "    'Dansko': 42_916,\n",
    "    'Ceska_republika': 78_870,\n",
    "    'Nemecko': 357_168,\n",
    "    'Polsko': 312_679,\n",
    "    'Slovensko': 49_035,\n",
    "    'Rakousko': 83_878\n",
    "}"
   ]
  },
  {
   "cell_type": "code",
   "execution_count": 24,
   "id": "bizarre-region",
   "metadata": {},
   "outputs": [],
   "source": [
    "zeme_evropa_df = DataFrame({\"populace\": populace_evropa, \"rozloha\": rozloha_evropa})"
   ]
  },
  {
   "cell_type": "code",
   "execution_count": 25,
   "id": "perceived-testament",
   "metadata": {},
   "outputs": [
    {
     "data": {
      "text/html": [
       "<div>\n",
       "<style scoped>\n",
       "    .dataframe tbody tr th:only-of-type {\n",
       "        vertical-align: middle;\n",
       "    }\n",
       "\n",
       "    .dataframe tbody tr th {\n",
       "        vertical-align: top;\n",
       "    }\n",
       "\n",
       "    .dataframe thead th {\n",
       "        text-align: right;\n",
       "    }\n",
       "</style>\n",
       "<table border=\"1\" class=\"dataframe\">\n",
       "  <thead>\n",
       "    <tr style=\"text-align: right;\">\n",
       "      <th></th>\n",
       "      <th>populace</th>\n",
       "      <th>rozloha</th>\n",
       "    </tr>\n",
       "  </thead>\n",
       "  <tbody>\n",
       "    <tr>\n",
       "      <th>Dansko</th>\n",
       "      <td>5655750</td>\n",
       "      <td>42916</td>\n",
       "    </tr>\n",
       "    <tr>\n",
       "      <th>Ceska_republika</th>\n",
       "      <td>10513209</td>\n",
       "      <td>78870</td>\n",
       "    </tr>\n",
       "    <tr>\n",
       "      <th>Nemecko</th>\n",
       "      <td>80716000</td>\n",
       "      <td>357168</td>\n",
       "    </tr>\n",
       "    <tr>\n",
       "      <th>Polsko</th>\n",
       "      <td>38483957</td>\n",
       "      <td>312679</td>\n",
       "    </tr>\n",
       "    <tr>\n",
       "      <th>Slovensko</th>\n",
       "      <td>5415949</td>\n",
       "      <td>49035</td>\n",
       "    </tr>\n",
       "    <tr>\n",
       "      <th>Rakousko</th>\n",
       "      <td>8932664</td>\n",
       "      <td>83878</td>\n",
       "    </tr>\n",
       "  </tbody>\n",
       "</table>\n",
       "</div>"
      ],
      "text/plain": [
       "                 populace  rozloha\n",
       "Dansko            5655750    42916\n",
       "Ceska_republika  10513209    78870\n",
       "Nemecko          80716000   357168\n",
       "Polsko           38483957   312679\n",
       "Slovensko         5415949    49035\n",
       "Rakousko          8932664    83878"
      ]
     },
     "execution_count": 25,
     "metadata": {},
     "output_type": "execute_result"
    }
   ],
   "source": [
    "zeme_evropa_df"
   ]
  },
  {
   "cell_type": "markdown",
   "id": "usual-celtic",
   "metadata": {},
   "source": [
    "##### Klíčový přístup"
   ]
  },
  {
   "cell_type": "code",
   "execution_count": 26,
   "id": "dried-seller",
   "metadata": {},
   "outputs": [
    {
     "data": {
      "text/plain": [
       "Dansko              5655750\n",
       "Ceska_republika    10513209\n",
       "Nemecko            80716000\n",
       "Polsko             38483957\n",
       "Slovensko           5415949\n",
       "Rakousko            8932664\n",
       "Name: populace, dtype: int64"
      ]
     },
     "execution_count": 26,
     "metadata": {},
     "output_type": "execute_result"
    }
   ],
   "source": [
    "zeme_evropa_df[\"populace\"]"
   ]
  },
  {
   "cell_type": "code",
   "execution_count": 27,
   "id": "quick-maine",
   "metadata": {},
   "outputs": [
    {
     "data": {
      "text/plain": [
       "Dansko              42916\n",
       "Ceska_republika     78870\n",
       "Nemecko            357168\n",
       "Polsko             312679\n",
       "Slovensko           49035\n",
       "Rakousko            83878\n",
       "Name: rozloha, dtype: int64"
      ]
     },
     "execution_count": 27,
     "metadata": {},
     "output_type": "execute_result"
    }
   ],
   "source": [
    "zeme_evropa_df[\"rozloha\"]"
   ]
  },
  {
   "cell_type": "markdown",
   "id": "applicable-baltimore",
   "metadata": {},
   "source": [
    "##### Atributový přístup"
   ]
  },
  {
   "cell_type": "code",
   "execution_count": 30,
   "id": "traditional-supplement",
   "metadata": {},
   "outputs": [
    {
     "data": {
      "text/plain": [
       "True"
      ]
     },
     "execution_count": 30,
     "metadata": {},
     "output_type": "execute_result"
    }
   ],
   "source": [
    "bool(zeme_evropa_df[\"rozloha\"] is zeme_evropa_df.rozloha)"
   ]
  },
  {
   "cell_type": "code",
   "execution_count": 28,
   "id": "helpful-roulette",
   "metadata": {},
   "outputs": [
    {
     "data": {
      "text/plain": [
       "Dansko              5655750\n",
       "Ceska_republika    10513209\n",
       "Nemecko            80716000\n",
       "Polsko             38483957\n",
       "Slovensko           5415949\n",
       "Rakousko            8932664\n",
       "Name: populace, dtype: int64"
      ]
     },
     "execution_count": 28,
     "metadata": {},
     "output_type": "execute_result"
    }
   ],
   "source": [
    "zeme_evropa_df.populace"
   ]
  },
  {
   "cell_type": "code",
   "execution_count": 29,
   "id": "focused-mining",
   "metadata": {},
   "outputs": [
    {
     "data": {
      "text/plain": [
       "Dansko              42916\n",
       "Ceska_republika     78870\n",
       "Nemecko            357168\n",
       "Polsko             312679\n",
       "Slovensko           49035\n",
       "Rakousko            83878\n",
       "Name: rozloha, dtype: int64"
      ]
     },
     "execution_count": 29,
     "metadata": {},
     "output_type": "execute_result"
    }
   ],
   "source": [
    "zeme_evropa_df.rozloha"
   ]
  },
  {
   "cell_type": "code",
   "execution_count": null,
   "id": "bound-atlanta",
   "metadata": {},
   "outputs": [],
   "source": [
    "zeme_evropa_df[zeme_evropa_df.rozloha > 100_000]"
   ]
  },
  {
   "cell_type": "markdown",
   "id": "dress-paradise",
   "metadata": {},
   "source": [
    "Opatrně, atributový přístup nelze aplikovat, pokud je jméno sloupečku shodné s některým z rezerovaných výrazů."
   ]
  },
  {
   "cell_type": "markdown",
   "id": "nasty-detector",
   "metadata": {},
   "source": [
    "##### Slovníkový náhled"
   ]
  },
  {
   "cell_type": "code",
   "execution_count": 32,
   "id": "scenic-assessment",
   "metadata": {},
   "outputs": [
    {
     "data": {
      "text/plain": [
       "array([[ 5655750,    42916],\n",
       "       [10513209,    78870],\n",
       "       [80716000,   357168],\n",
       "       [38483957,   312679],\n",
       "       [ 5415949,    49035],\n",
       "       [ 8932664,    83878]])"
      ]
     },
     "execution_count": 32,
     "metadata": {},
     "output_type": "execute_result"
    }
   ],
   "source": [
    "zeme_evropa_df.values"
   ]
  },
  {
   "cell_type": "markdown",
   "id": "three-fisher",
   "metadata": {},
   "source": [
    "##### Transformace"
   ]
  },
  {
   "cell_type": "code",
   "execution_count": 33,
   "id": "adopted-evidence",
   "metadata": {
    "scrolled": true
   },
   "outputs": [
    {
     "data": {
      "text/html": [
       "<div>\n",
       "<style scoped>\n",
       "    .dataframe tbody tr th:only-of-type {\n",
       "        vertical-align: middle;\n",
       "    }\n",
       "\n",
       "    .dataframe tbody tr th {\n",
       "        vertical-align: top;\n",
       "    }\n",
       "\n",
       "    .dataframe thead th {\n",
       "        text-align: right;\n",
       "    }\n",
       "</style>\n",
       "<table border=\"1\" class=\"dataframe\">\n",
       "  <thead>\n",
       "    <tr style=\"text-align: right;\">\n",
       "      <th></th>\n",
       "      <th>Dansko</th>\n",
       "      <th>Ceska_republika</th>\n",
       "      <th>Nemecko</th>\n",
       "      <th>Polsko</th>\n",
       "      <th>Slovensko</th>\n",
       "      <th>Rakousko</th>\n",
       "    </tr>\n",
       "  </thead>\n",
       "  <tbody>\n",
       "    <tr>\n",
       "      <th>populace</th>\n",
       "      <td>5655750</td>\n",
       "      <td>10513209</td>\n",
       "      <td>80716000</td>\n",
       "      <td>38483957</td>\n",
       "      <td>5415949</td>\n",
       "      <td>8932664</td>\n",
       "    </tr>\n",
       "    <tr>\n",
       "      <th>rozloha</th>\n",
       "      <td>42916</td>\n",
       "      <td>78870</td>\n",
       "      <td>357168</td>\n",
       "      <td>312679</td>\n",
       "      <td>49035</td>\n",
       "      <td>83878</td>\n",
       "    </tr>\n",
       "  </tbody>\n",
       "</table>\n",
       "</div>"
      ],
      "text/plain": [
       "           Dansko  Ceska_republika   Nemecko    Polsko  Slovensko  Rakousko\n",
       "populace  5655750         10513209  80716000  38483957    5415949   8932664\n",
       "rozloha     42916            78870    357168    312679      49035     83878"
      ]
     },
     "execution_count": 33,
     "metadata": {},
     "output_type": "execute_result"
    }
   ],
   "source": [
    "zeme_evropa_df.T"
   ]
  },
  {
   "cell_type": "markdown",
   "id": "behavioral-dress",
   "metadata": {},
   "source": [
    "##### loc\n",
    "\n",
    "Stejná pravidla jako pro `Series`, nicméne tentokrát můžeš vybírat buď jednotlivé Indexy, nebo pole Indexů:"
   ]
  },
  {
   "cell_type": "code",
   "execution_count": 34,
   "id": "interested-circus",
   "metadata": {},
   "outputs": [
    {
     "data": {
      "text/plain": [
       "populace    80716000\n",
       "rozloha       357168\n",
       "Name: Nemecko, dtype: int64"
      ]
     },
     "execution_count": 34,
     "metadata": {},
     "output_type": "execute_result"
    }
   ],
   "source": [
    "zeme_evropa_df.loc[\"Nemecko\"]"
   ]
  },
  {
   "cell_type": "code",
   "execution_count": 35,
   "id": "animal-battery",
   "metadata": {},
   "outputs": [
    {
     "data": {
      "text/html": [
       "<div>\n",
       "<style scoped>\n",
       "    .dataframe tbody tr th:only-of-type {\n",
       "        vertical-align: middle;\n",
       "    }\n",
       "\n",
       "    .dataframe tbody tr th {\n",
       "        vertical-align: top;\n",
       "    }\n",
       "\n",
       "    .dataframe thead th {\n",
       "        text-align: right;\n",
       "    }\n",
       "</style>\n",
       "<table border=\"1\" class=\"dataframe\">\n",
       "  <thead>\n",
       "    <tr style=\"text-align: right;\">\n",
       "      <th></th>\n",
       "      <th>populace</th>\n",
       "      <th>rozloha</th>\n",
       "    </tr>\n",
       "  </thead>\n",
       "  <tbody>\n",
       "    <tr>\n",
       "      <th>Dansko</th>\n",
       "      <td>5655750</td>\n",
       "      <td>42916</td>\n",
       "    </tr>\n",
       "    <tr>\n",
       "      <th>Ceska_republika</th>\n",
       "      <td>10513209</td>\n",
       "      <td>78870</td>\n",
       "    </tr>\n",
       "    <tr>\n",
       "      <th>Nemecko</th>\n",
       "      <td>80716000</td>\n",
       "      <td>357168</td>\n",
       "    </tr>\n",
       "  </tbody>\n",
       "</table>\n",
       "</div>"
      ],
      "text/plain": [
       "                 populace  rozloha\n",
       "Dansko            5655750    42916\n",
       "Ceska_republika  10513209    78870\n",
       "Nemecko          80716000   357168"
      ]
     },
     "execution_count": 35,
     "metadata": {},
     "output_type": "execute_result"
    }
   ],
   "source": [
    "zeme_evropa_df.loc[:\"Nemecko\"]"
   ]
  },
  {
   "cell_type": "markdown",
   "id": "valid-spine",
   "metadata": {},
   "source": [
    "Dále můžeš vybírat sloupce nebo rozsah sloupců:"
   ]
  },
  {
   "cell_type": "code",
   "execution_count": 36,
   "id": "unique-paris",
   "metadata": {},
   "outputs": [
    {
     "data": {
      "text/plain": [
       "80716000"
      ]
     },
     "execution_count": 36,
     "metadata": {},
     "output_type": "execute_result"
    }
   ],
   "source": [
    "zeme_evropa_df.loc[\"Nemecko\", \"populace\"]"
   ]
  },
  {
   "cell_type": "code",
   "execution_count": 37,
   "id": "legislative-shock",
   "metadata": {},
   "outputs": [
    {
     "data": {
      "text/plain": [
       "Dansko              5655750\n",
       "Ceska_republika    10513209\n",
       "Nemecko            80716000\n",
       "Name: populace, dtype: int64"
      ]
     },
     "execution_count": 37,
     "metadata": {},
     "output_type": "execute_result"
    }
   ],
   "source": [
    "zeme_evropa_df.loc[:\"Nemecko\", \"populace\"]"
   ]
  },
  {
   "cell_type": "code",
   "execution_count": 38,
   "id": "seeing-shell",
   "metadata": {},
   "outputs": [
    {
     "data": {
      "text/html": [
       "<div>\n",
       "<style scoped>\n",
       "    .dataframe tbody tr th:only-of-type {\n",
       "        vertical-align: middle;\n",
       "    }\n",
       "\n",
       "    .dataframe tbody tr th {\n",
       "        vertical-align: top;\n",
       "    }\n",
       "\n",
       "    .dataframe thead th {\n",
       "        text-align: right;\n",
       "    }\n",
       "</style>\n",
       "<table border=\"1\" class=\"dataframe\">\n",
       "  <thead>\n",
       "    <tr style=\"text-align: right;\">\n",
       "      <th></th>\n",
       "      <th>populace</th>\n",
       "      <th>rozloha</th>\n",
       "    </tr>\n",
       "  </thead>\n",
       "  <tbody>\n",
       "    <tr>\n",
       "      <th>Dansko</th>\n",
       "      <td>5655750</td>\n",
       "      <td>42916</td>\n",
       "    </tr>\n",
       "    <tr>\n",
       "      <th>Ceska_republika</th>\n",
       "      <td>10513209</td>\n",
       "      <td>78870</td>\n",
       "    </tr>\n",
       "    <tr>\n",
       "      <th>Nemecko</th>\n",
       "      <td>80716000</td>\n",
       "      <td>357168</td>\n",
       "    </tr>\n",
       "  </tbody>\n",
       "</table>\n",
       "</div>"
      ],
      "text/plain": [
       "                 populace  rozloha\n",
       "Dansko            5655750    42916\n",
       "Ceska_republika  10513209    78870\n",
       "Nemecko          80716000   357168"
      ]
     },
     "execution_count": 38,
     "metadata": {},
     "output_type": "execute_result"
    }
   ],
   "source": [
    "zeme_evropa_df.loc[:\"Nemecko\", :\"rozloha\"]"
   ]
  },
  {
   "cell_type": "markdown",
   "id": "hidden-cleveland",
   "metadata": {},
   "source": [
    "##### iloc"
   ]
  },
  {
   "cell_type": "code",
   "execution_count": 39,
   "id": "welsh-transsexual",
   "metadata": {},
   "outputs": [
    {
     "data": {
      "text/html": [
       "<div>\n",
       "<style scoped>\n",
       "    .dataframe tbody tr th:only-of-type {\n",
       "        vertical-align: middle;\n",
       "    }\n",
       "\n",
       "    .dataframe tbody tr th {\n",
       "        vertical-align: top;\n",
       "    }\n",
       "\n",
       "    .dataframe thead th {\n",
       "        text-align: right;\n",
       "    }\n",
       "</style>\n",
       "<table border=\"1\" class=\"dataframe\">\n",
       "  <thead>\n",
       "    <tr style=\"text-align: right;\">\n",
       "      <th></th>\n",
       "      <th>populace</th>\n",
       "      <th>rozloha</th>\n",
       "    </tr>\n",
       "  </thead>\n",
       "  <tbody>\n",
       "    <tr>\n",
       "      <th>Dansko</th>\n",
       "      <td>5655750</td>\n",
       "      <td>42916</td>\n",
       "    </tr>\n",
       "    <tr>\n",
       "      <th>Ceska_republika</th>\n",
       "      <td>10513209</td>\n",
       "      <td>78870</td>\n",
       "    </tr>\n",
       "    <tr>\n",
       "      <th>Nemecko</th>\n",
       "      <td>80716000</td>\n",
       "      <td>357168</td>\n",
       "    </tr>\n",
       "  </tbody>\n",
       "</table>\n",
       "</div>"
      ],
      "text/plain": [
       "                 populace  rozloha\n",
       "Dansko            5655750    42916\n",
       "Ceska_republika  10513209    78870\n",
       "Nemecko          80716000   357168"
      ]
     },
     "execution_count": 39,
     "metadata": {},
     "output_type": "execute_result"
    }
   ],
   "source": [
    "zeme_evropa_df.iloc[:3, :2]"
   ]
  },
  {
   "cell_type": "markdown",
   "id": "aerial-spirit",
   "metadata": {},
   "source": [
    "##### ix\n",
    "\n",
    "Jde o atribut-hybrid, který kombinuje mixování stylů z `loc` a `iloc`:"
   ]
  },
  {
   "cell_type": "markdown",
   "id": "aware-respondent",
   "metadata": {},
   "source": [
    "##### 🧠 CVIČENÍ 🧠, načti data z vlastní DB a nachystej nový DataFrame"
   ]
  },
  {
   "cell_type": "markdown",
   "id": "40a104db-ed85-4aca-9fa2-b973c8de0d64",
   "metadata": {},
   "source": [
    "Nahraj zadaný soubor do proměnné `hry_df`:"
   ]
  },
  {
   "cell_type": "code",
   "execution_count": 11,
   "id": "0d5b1134-6b8f-458c-b714-91e17ba09268",
   "metadata": {
    "tags": []
   },
   "outputs": [],
   "source": [
    "hry_df = read_csv(\"../onsite/lesson02/games.csv\")"
   ]
  },
  {
   "cell_type": "markdown",
   "id": "3eb3ce39-d550-40cb-9dc6-e45c0bc62b2b",
   "metadata": {},
   "source": [
    "Vytvoř proměnnou `jen_souhrn`, která obsahuje pouze sloupec `Summary`:"
   ]
  },
  {
   "cell_type": "code",
   "execution_count": 12,
   "id": "d0e56441-9159-46df-adff-dfa64381d8f6",
   "metadata": {
    "tags": []
   },
   "outputs": [],
   "source": [
    "souhrn = hry_df.Summary"
   ]
  },
  {
   "cell_type": "markdown",
   "id": "b70f1e19-22d7-44a7-95ac-720d40c35394",
   "metadata": {},
   "source": [
    "Vytvoř proměnnou `prvni_souhrn`, která obsahuje pouze první řádek ze sloupce `Summary`:"
   ]
  },
  {
   "cell_type": "code",
   "execution_count": 15,
   "id": "1fe33b4e-8dfa-47ed-bc57-a0be03d9a5d9",
   "metadata": {
    "tags": []
   },
   "outputs": [],
   "source": [
    "prvni_radek = hry_df.Summary.iloc[0]"
   ]
  },
  {
   "cell_type": "markdown",
   "id": "473b8d7c-b1f3-4320-9f15-4f49df310f0b",
   "metadata": {},
   "source": [
    "Vytvoř proměnnou `prvni_radek_tab`, která obsahuje celý první záznam z tabulky, z `hry_df`:"
   ]
  },
  {
   "cell_type": "code",
   "execution_count": null,
   "id": "dbfa6e26-692f-49ca-81be-ddbf93f5834e",
   "metadata": {},
   "outputs": [],
   "source": [
    "prvni_radek_tab = hry_df.iloc[0]"
   ]
  },
  {
   "cell_type": "markdown",
   "id": "1bbe62a1-0d7d-4cdf-845d-3822deabdb4c",
   "metadata": {},
   "source": [
    "Vytvoř proměnnou `prvnich_deset_souhrnu`, kam načti prvních deset řádků z vybraného sloupečku `Summary`:"
   ]
  },
  {
   "cell_type": "code",
   "execution_count": 16,
   "id": "bc5deddb-c7de-4b5d-9b64-8b4b0e267daa",
   "metadata": {
    "tags": []
   },
   "outputs": [],
   "source": [
    "prvni_souhrny = hry_df.Summary.iloc[:10]"
   ]
  },
  {
   "cell_type": "markdown",
   "id": "2b66641a-9a02-434c-ae8d-984319b2c625",
   "metadata": {},
   "source": [
    "Vytvoř proměnno u `vzorek_indexu`, kam načti záznamy z indexů **2, 4, 5, 6, 7** a **9** z celé tabulky:"
   ]
  },
  {
   "cell_type": "code",
   "execution_count": 18,
   "id": "2533cb3b-a207-40a3-8806-0b42716c4fd1",
   "metadata": {
    "tags": []
   },
   "outputs": [],
   "source": [
    "vzorek_indexu = hry_df.loc[[2, 4, 5, 6, 7, 9]]"
   ]
  },
  {
   "cell_type": "markdown",
   "id": "11140ddc-dbe5-4185-bd4c-3f1dbcb4d8c5",
   "metadata": {},
   "source": [
    "Vytvoř proměnnou `hodnoceni`, načti záznamy z indexů **1, 5, 10, 100, 1000** z celé tabulky a vyber pouze sloupečky `Title`, `Rating`, `Release Date`, `Number of Reviews`:"
   ]
  },
  {
   "cell_type": "code",
   "execution_count": 20,
   "id": "23c8dd5b-df57-4b68-aee5-daa8cad968d0",
   "metadata": {
    "tags": []
   },
   "outputs": [],
   "source": [
    "hodnoceni = hry_df.loc[[1, 5, 10, 100, 1000], [\"Title\", \"Rating\", \"Release Date\", \"Number of Reviews\"]]"
   ]
  },
  {
   "cell_type": "markdown",
   "id": "f44ba851-3999-4441-9c2d-3f2b28f77a3a",
   "metadata": {},
   "source": [
    "Vytvoř proměnnou `prvnich_sto`, která obsahuje pouze sloupečky `Title`a `Rating`. Dále potřebuješ uložit pouze **prvních 100 indexů**:"
   ]
  },
  {
   "cell_type": "code",
   "execution_count": 24,
   "id": "000b5b29-77be-4c68-850e-993ba908f9ba",
   "metadata": {
    "tags": []
   },
   "outputs": [],
   "source": [
    "prvnich_sto = hry_df.loc[:99, [\"Title\", \"Rating\"]]"
   ]
  },
  {
   "cell_type": "markdown",
   "id": "dc4daab5-d2e5-4f0e-aa2b-406f33ad7c06",
   "metadata": {},
   "source": [
    "Vytvoř proměnnou vyber, která obsahuje dva sloupečky Title a Rating, kde ve sloupečku rating chceš získat pouze takové tituly, které mají hodnocení větší nebo rovnou 4.6"
   ]
  },
  {
   "cell_type": "code",
   "execution_count": 48,
   "id": "4df94e2b-db40-4209-a90c-3a203be0c231",
   "metadata": {
    "tags": []
   },
   "outputs": [],
   "source": [
    "vyber_her = hry_df[hry_df[\"Rating\"] >= 4.6]"
   ]
  },
  {
   "cell_type": "code",
   "execution_count": 50,
   "id": "d57d59dc-6604-438c-bf6c-e49e961e9aba",
   "metadata": {
    "tags": []
   },
   "outputs": [
    {
     "data": {
      "text/html": [
       "<div>\n",
       "<style scoped>\n",
       "    .dataframe tbody tr th:only-of-type {\n",
       "        vertical-align: middle;\n",
       "    }\n",
       "\n",
       "    .dataframe tbody tr th {\n",
       "        vertical-align: top;\n",
       "    }\n",
       "\n",
       "    .dataframe thead th {\n",
       "        text-align: right;\n",
       "    }\n",
       "</style>\n",
       "<table border=\"1\" class=\"dataframe\">\n",
       "  <thead>\n",
       "    <tr style=\"text-align: right;\">\n",
       "      <th></th>\n",
       "      <th>Unnamed: 0</th>\n",
       "      <th>Title</th>\n",
       "      <th>Release Date</th>\n",
       "      <th>Team</th>\n",
       "      <th>Rating</th>\n",
       "      <th>Times Listed</th>\n",
       "      <th>Number of Reviews</th>\n",
       "      <th>Genres</th>\n",
       "      <th>Summary</th>\n",
       "      <th>Reviews</th>\n",
       "      <th>Plays</th>\n",
       "      <th>Playing</th>\n",
       "      <th>Backlogs</th>\n",
       "      <th>Wishlist</th>\n",
       "    </tr>\n",
       "  </thead>\n",
       "  <tbody>\n",
       "    <tr>\n",
       "      <th>1138</th>\n",
       "      <td>1138</td>\n",
       "      <td>Half-Life: Alyx</td>\n",
       "      <td>Mar 23, 2020</td>\n",
       "      <td>['Valve']</td>\n",
       "      <td>4.6</td>\n",
       "      <td>515</td>\n",
       "      <td>515</td>\n",
       "      <td>['Adventure', 'Puzzle', 'Shooter']</td>\n",
       "      <td>Half-Life: Alyx is Valve’s VR return to the Ha...</td>\n",
       "      <td>[\"It's like I was actually there.  What other ...</td>\n",
       "      <td>1.9K</td>\n",
       "      <td>210</td>\n",
       "      <td>1.2K</td>\n",
       "      <td>1.4K</td>\n",
       "    </tr>\n",
       "    <tr>\n",
       "      <th>894</th>\n",
       "      <td>894</td>\n",
       "      <td>Disco Elysium</td>\n",
       "      <td>Oct 15, 2019</td>\n",
       "      <td>['ZA/UM']</td>\n",
       "      <td>4.6</td>\n",
       "      <td>1.1K</td>\n",
       "      <td>1.1K</td>\n",
       "      <td>['Adventure', 'RPG', 'Turn Based Strategy']</td>\n",
       "      <td>A CRPG in which, waking up in a hotel room a t...</td>\n",
       "      <td>[\"I really enjoyed this one. The story is supe...</td>\n",
       "      <td>4K</td>\n",
       "      <td>478</td>\n",
       "      <td>2.8K</td>\n",
       "      <td>1.9K</td>\n",
       "    </tr>\n",
       "    <tr>\n",
       "      <th>139</th>\n",
       "      <td>139</td>\n",
       "      <td>Disco Elysium</td>\n",
       "      <td>Oct 15, 2019</td>\n",
       "      <td>['ZA/UM']</td>\n",
       "      <td>4.6</td>\n",
       "      <td>1.1K</td>\n",
       "      <td>1.1K</td>\n",
       "      <td>['Adventure', 'RPG', 'Turn Based Strategy']</td>\n",
       "      <td>A CRPG in which, waking up in a hotel room a t...</td>\n",
       "      <td>[\"I really enjoyed this one. The story is supe...</td>\n",
       "      <td>4K</td>\n",
       "      <td>478</td>\n",
       "      <td>2.8K</td>\n",
       "      <td>1.9K</td>\n",
       "    </tr>\n",
       "    <tr>\n",
       "      <th>428</th>\n",
       "      <td>428</td>\n",
       "      <td>Disco Elysium</td>\n",
       "      <td>Oct 15, 2019</td>\n",
       "      <td>['ZA/UM']</td>\n",
       "      <td>4.6</td>\n",
       "      <td>1.1K</td>\n",
       "      <td>1.1K</td>\n",
       "      <td>['Adventure', 'RPG', 'Turn Based Strategy']</td>\n",
       "      <td>A CRPG in which, waking up in a hotel room a t...</td>\n",
       "      <td>[\"I really enjoyed this one. The story is supe...</td>\n",
       "      <td>4K</td>\n",
       "      <td>478</td>\n",
       "      <td>2.8K</td>\n",
       "      <td>1.9K</td>\n",
       "    </tr>\n",
       "    <tr>\n",
       "      <th>1252</th>\n",
       "      <td>1252</td>\n",
       "      <td>Elden Ring: Shadow of the Erdtree</td>\n",
       "      <td>releases on TBD</td>\n",
       "      <td>['FromSoftware', 'Bandai Namco Entertainment']</td>\n",
       "      <td>4.8</td>\n",
       "      <td>18</td>\n",
       "      <td>18</td>\n",
       "      <td>['Adventure', 'RPG']</td>\n",
       "      <td>An expansion to Elden Ring setting players on ...</td>\n",
       "      <td>['I really loved that they integrated Family G...</td>\n",
       "      <td>1</td>\n",
       "      <td>0</td>\n",
       "      <td>39</td>\n",
       "      <td>146</td>\n",
       "    </tr>\n",
       "    <tr>\n",
       "      <th>1153</th>\n",
       "      <td>1153</td>\n",
       "      <td>Dwarf Fortress</td>\n",
       "      <td>Dec 06, 2022</td>\n",
       "      <td>['Bay 12 Games', 'Kitfox Games']</td>\n",
       "      <td>4.6</td>\n",
       "      <td>48</td>\n",
       "      <td>48</td>\n",
       "      <td>['Indie', 'RPG', 'Simulator', 'Strategy']</td>\n",
       "      <td>In this complex construction/management/roguel...</td>\n",
       "      <td>['Both a fascinating, awe-inspiring technical ...</td>\n",
       "      <td>225</td>\n",
       "      <td>80</td>\n",
       "      <td>181</td>\n",
       "      <td>195</td>\n",
       "    </tr>\n",
       "    <tr>\n",
       "      <th>804</th>\n",
       "      <td>804</td>\n",
       "      <td>Disco Elysium: The Final Cut</td>\n",
       "      <td>May 01, 2020</td>\n",
       "      <td>['ZA/UM']</td>\n",
       "      <td>4.6</td>\n",
       "      <td>1.1K</td>\n",
       "      <td>1.1K</td>\n",
       "      <td>['Adventure', 'Indie', 'RPG']</td>\n",
       "      <td>Disco Elysium: The Final Cut is a groundbreaki...</td>\n",
       "      <td>[\"a captivating journey from start to finish. ...</td>\n",
       "      <td>6K</td>\n",
       "      <td>1.2K</td>\n",
       "      <td>5K</td>\n",
       "      <td>2.7K</td>\n",
       "    </tr>\n",
       "    <tr>\n",
       "      <th>28</th>\n",
       "      <td>28</td>\n",
       "      <td>Disco Elysium: The Final Cut</td>\n",
       "      <td>May 01, 2020</td>\n",
       "      <td>['ZA/UM']</td>\n",
       "      <td>4.6</td>\n",
       "      <td>1.1K</td>\n",
       "      <td>1.1K</td>\n",
       "      <td>['Adventure', 'Indie', 'RPG']</td>\n",
       "      <td>Disco Elysium: The Final Cut is a groundbreaki...</td>\n",
       "      <td>[\"a captivating journey from start to finish. ...</td>\n",
       "      <td>6K</td>\n",
       "      <td>1.2K</td>\n",
       "      <td>5K</td>\n",
       "      <td>2.7K</td>\n",
       "    </tr>\n",
       "    <tr>\n",
       "      <th>354</th>\n",
       "      <td>354</td>\n",
       "      <td>Disco Elysium: The Final Cut</td>\n",
       "      <td>May 01, 2020</td>\n",
       "      <td>['ZA/UM']</td>\n",
       "      <td>4.6</td>\n",
       "      <td>1.1K</td>\n",
       "      <td>1.1K</td>\n",
       "      <td>['Adventure', 'Indie', 'RPG']</td>\n",
       "      <td>Disco Elysium: The Final Cut is a groundbreaki...</td>\n",
       "      <td>[\"a captivating journey from start to finish. ...</td>\n",
       "      <td>6K</td>\n",
       "      <td>1.2K</td>\n",
       "      <td>5K</td>\n",
       "      <td>2.7K</td>\n",
       "    </tr>\n",
       "    <tr>\n",
       "      <th>1198</th>\n",
       "      <td>1198</td>\n",
       "      <td>Metal Gear Solid 3: Snake Eater HD Edition</td>\n",
       "      <td>Nov 08, 2011</td>\n",
       "      <td>['Konami Digital Entertainment']</td>\n",
       "      <td>4.6</td>\n",
       "      <td>293</td>\n",
       "      <td>293</td>\n",
       "      <td>['Adventure', 'Shooter']</td>\n",
       "      <td>Get Metal Gear Solid 3: Snake Eater HD, Shoote...</td>\n",
       "      <td>['Após um pequeno grande sufoco pra emular o j...</td>\n",
       "      <td>2.5K</td>\n",
       "      <td>34</td>\n",
       "      <td>554</td>\n",
       "      <td>244</td>\n",
       "    </tr>\n",
       "  </tbody>\n",
       "</table>\n",
       "</div>"
      ],
      "text/plain": [
       "      Unnamed: 0                                       Title     Release Date  \\\n",
       "1138        1138                             Half-Life: Alyx     Mar 23, 2020   \n",
       "894          894                               Disco Elysium     Oct 15, 2019   \n",
       "139          139                               Disco Elysium     Oct 15, 2019   \n",
       "428          428                               Disco Elysium     Oct 15, 2019   \n",
       "1252        1252           Elden Ring: Shadow of the Erdtree  releases on TBD   \n",
       "1153        1153                              Dwarf Fortress     Dec 06, 2022   \n",
       "804          804                Disco Elysium: The Final Cut     May 01, 2020   \n",
       "28            28                Disco Elysium: The Final Cut     May 01, 2020   \n",
       "354          354                Disco Elysium: The Final Cut     May 01, 2020   \n",
       "1198        1198  Metal Gear Solid 3: Snake Eater HD Edition     Nov 08, 2011   \n",
       "\n",
       "                                                Team  Rating Times Listed  \\\n",
       "1138                                       ['Valve']     4.6          515   \n",
       "894                                        ['ZA/UM']     4.6         1.1K   \n",
       "139                                        ['ZA/UM']     4.6         1.1K   \n",
       "428                                        ['ZA/UM']     4.6         1.1K   \n",
       "1252  ['FromSoftware', 'Bandai Namco Entertainment']     4.8           18   \n",
       "1153                ['Bay 12 Games', 'Kitfox Games']     4.6           48   \n",
       "804                                        ['ZA/UM']     4.6         1.1K   \n",
       "28                                         ['ZA/UM']     4.6         1.1K   \n",
       "354                                        ['ZA/UM']     4.6         1.1K   \n",
       "1198                ['Konami Digital Entertainment']     4.6          293   \n",
       "\n",
       "     Number of Reviews                                       Genres  \\\n",
       "1138               515           ['Adventure', 'Puzzle', 'Shooter']   \n",
       "894               1.1K  ['Adventure', 'RPG', 'Turn Based Strategy']   \n",
       "139               1.1K  ['Adventure', 'RPG', 'Turn Based Strategy']   \n",
       "428               1.1K  ['Adventure', 'RPG', 'Turn Based Strategy']   \n",
       "1252                18                         ['Adventure', 'RPG']   \n",
       "1153                48    ['Indie', 'RPG', 'Simulator', 'Strategy']   \n",
       "804               1.1K                ['Adventure', 'Indie', 'RPG']   \n",
       "28                1.1K                ['Adventure', 'Indie', 'RPG']   \n",
       "354               1.1K                ['Adventure', 'Indie', 'RPG']   \n",
       "1198               293                     ['Adventure', 'Shooter']   \n",
       "\n",
       "                                                Summary  \\\n",
       "1138  Half-Life: Alyx is Valve’s VR return to the Ha...   \n",
       "894   A CRPG in which, waking up in a hotel room a t...   \n",
       "139   A CRPG in which, waking up in a hotel room a t...   \n",
       "428   A CRPG in which, waking up in a hotel room a t...   \n",
       "1252  An expansion to Elden Ring setting players on ...   \n",
       "1153  In this complex construction/management/roguel...   \n",
       "804   Disco Elysium: The Final Cut is a groundbreaki...   \n",
       "28    Disco Elysium: The Final Cut is a groundbreaki...   \n",
       "354   Disco Elysium: The Final Cut is a groundbreaki...   \n",
       "1198  Get Metal Gear Solid 3: Snake Eater HD, Shoote...   \n",
       "\n",
       "                                                Reviews Plays Playing  \\\n",
       "1138  [\"It's like I was actually there.  What other ...  1.9K     210   \n",
       "894   [\"I really enjoyed this one. The story is supe...    4K     478   \n",
       "139   [\"I really enjoyed this one. The story is supe...    4K     478   \n",
       "428   [\"I really enjoyed this one. The story is supe...    4K     478   \n",
       "1252  ['I really loved that they integrated Family G...     1       0   \n",
       "1153  ['Both a fascinating, awe-inspiring technical ...   225      80   \n",
       "804   [\"a captivating journey from start to finish. ...    6K    1.2K   \n",
       "28    [\"a captivating journey from start to finish. ...    6K    1.2K   \n",
       "354   [\"a captivating journey from start to finish. ...    6K    1.2K   \n",
       "1198  ['Após um pequeno grande sufoco pra emular o j...  2.5K      34   \n",
       "\n",
       "     Backlogs Wishlist  \n",
       "1138     1.2K     1.4K  \n",
       "894      2.8K     1.9K  \n",
       "139      2.8K     1.9K  \n",
       "428      2.8K     1.9K  \n",
       "1252       39      146  \n",
       "1153      181      195  \n",
       "804        5K     2.7K  \n",
       "28         5K     2.7K  \n",
       "354        5K     2.7K  \n",
       "1198      554      244  "
      ]
     },
     "execution_count": 50,
     "metadata": {},
     "output_type": "execute_result"
    }
   ],
   "source": [
    "vyber_her.head(10)"
   ]
  },
  {
   "cell_type": "markdown",
   "id": "4230e6e5-5cca-4150-b412-de32e7194f00",
   "metadata": {
    "tags": []
   },
   "source": [
    "### Metody pro nahlížení\n",
    "\n",
    "Následující metody ti ulohčí nahlížení a prozkoumávání dat.\n",
    "\n",
    "Jsou to metody:\n",
    "* `info()`,\n",
    "* `describe()`,\n",
    "* `head()`,\n",
    "* `tail()`,"
   ]
  },
  {
   "cell_type": "code",
   "execution_count": 56,
   "id": "7c2ea6e7-dca3-47ff-a87e-dfbc3b417235",
   "metadata": {
    "tags": []
   },
   "outputs": [],
   "source": [
    "from pandas import DataFrame"
   ]
  },
  {
   "cell_type": "code",
   "execution_count": 57,
   "id": "66667b45-1c7a-4367-8c31-dd2854dec593",
   "metadata": {
    "tags": []
   },
   "outputs": [],
   "source": [
    "populace_evropa = {\n",
    "    'Dansko': 5_655_750,\n",
    "    'Ceska_republika': 10_513_209,\n",
    "    'Nemecko': 80_716_000,\n",
    "    'Polsko': 38_483_957,\n",
    "    'Slovensko': 5_415_949,\n",
    "    'Rakousko': 8_932_664\n",
    "}"
   ]
  },
  {
   "cell_type": "code",
   "execution_count": 58,
   "id": "b981005e-7357-4909-8867-e5c583cc00ef",
   "metadata": {
    "tags": []
   },
   "outputs": [],
   "source": [
    "rozloha_evropa = {\n",
    "    'Dansko': 42_916,\n",
    "    'Ceska_republika': 78_870,\n",
    "    'Nemecko': 357_168,\n",
    "    'Polsko': 312_679,\n",
    "    'Slovensko': 49_035,\n",
    "    'Rakousko': 83_878\n",
    "}"
   ]
  },
  {
   "cell_type": "code",
   "execution_count": 59,
   "id": "7d6b99c1-da7e-421e-9be4-d64b1846bd6e",
   "metadata": {
    "tags": []
   },
   "outputs": [],
   "source": [
    "zeme_evropa_df = DataFrame({\"populace\": populace_evropa, \"rozloha\": rozloha_evropa})"
   ]
  },
  {
   "cell_type": "markdown",
   "id": "57f95eab-153b-4ec8-a5f8-71b7d886974d",
   "metadata": {
    "tags": []
   },
   "source": [
    "#### Metoda `info()`\n",
    "\n",
    "Jde o obecnou informaci o DataFrame:"
   ]
  },
  {
   "cell_type": "code",
   "execution_count": 60,
   "id": "3e064153-ca04-410e-a079-58be4329e499",
   "metadata": {
    "tags": []
   },
   "outputs": [
    {
     "name": "stdout",
     "output_type": "stream",
     "text": [
      "<class 'pandas.core.frame.DataFrame'>\n",
      "Index: 6 entries, Dansko to Rakousko\n",
      "Data columns (total 2 columns):\n",
      " #   Column    Non-Null Count  Dtype\n",
      "---  ------    --------------  -----\n",
      " 0   populace  6 non-null      int64\n",
      " 1   rozloha   6 non-null      int64\n",
      "dtypes: int64(2)\n",
      "memory usage: 144.0+ bytes\n",
      "None\n"
     ]
    }
   ],
   "source": [
    "print(zeme_evropa_df.info())"
   ]
  },
  {
   "cell_type": "markdown",
   "id": "3ad37599-59dc-4154-aa9c-7700aefb0c9d",
   "metadata": {},
   "source": [
    "Z výstupu potom přečteš:\n",
    "* počet indexů,\n",
    "* počet sloupců,\n",
    "* počet neprázdných, nenulových hodnot,\n",
    "* datové typy pro sloupce."
   ]
  },
  {
   "cell_type": "markdown",
   "id": "621f4913-1cac-4268-befd-162e4ce7d773",
   "metadata": {
    "tags": []
   },
   "source": [
    "#### Metoda `describe()`\n",
    "\n",
    "Tato metoda ti nepodává základní informaci o DataFrame, ale spíše **pracuje s číselnými sloupci**.\n",
    "\n",
    "\n",
    "Poskytuje základní statistické přehledy jako:\n",
    "* průměr,\n",
    "* medián,\n",
    "* minimální & maximální hodnota,\n",
    "* rozptyl."
   ]
  },
  {
   "cell_type": "code",
   "execution_count": 62,
   "id": "24e47b9a-3207-46c2-a4fb-f3d92db3931f",
   "metadata": {
    "tags": []
   },
   "outputs": [
    {
     "name": "stdout",
     "output_type": "stream",
     "text": [
      "           populace        rozloha\n",
      "count  6.000000e+00       6.000000\n",
      "mean   2.495292e+07  154091.000000\n",
      "std    3.003943e+07  141686.364654\n",
      "min    5.415949e+06   42916.000000\n",
      "25%    6.474978e+06   56493.750000\n",
      "50%    9.722936e+06   81374.000000\n",
      "75%    3.149127e+07  255478.750000\n",
      "max    8.071600e+07  357168.000000\n"
     ]
    }
   ],
   "source": [
    "print(zeme_evropa_df.describe())"
   ]
  },
  {
   "cell_type": "markdown",
   "id": "20c3ef3f-afd3-40c2-9790-6a9e6c6bd2d8",
   "metadata": {
    "tags": []
   },
   "source": [
    "#### Metody `head()` a `tail()`\n",
    "\n",
    "Obě metody pracují jako náhledové metody. K lepšímu pohledu na konkrétní řádky.\n",
    "\n",
    "1. `head`, prozkoumá **prvních pět řádků** (defaultně),\n",
    "2. `tail`, prozkoumá **posledních pět řádků** (defaultně),"
   ]
  },
  {
   "cell_type": "code",
   "execution_count": 65,
   "id": "59ea6c9c-3d21-418e-baa0-5389af144df1",
   "metadata": {
    "tags": []
   },
   "outputs": [
    {
     "name": "stdout",
     "output_type": "stream",
     "text": [
      "           populace  rozloha\n",
      "Slovensko   5415949    49035\n",
      "Rakousko    8932664    83878\n"
     ]
    }
   ],
   "source": [
    "print(zeme_evropa_df.tail(2))"
   ]
  },
  {
   "cell_type": "code",
   "execution_count": 66,
   "id": "5a52b8e1-5ed8-4804-bfee-8fd012cb458f",
   "metadata": {
    "tags": []
   },
   "outputs": [
    {
     "name": "stdout",
     "output_type": "stream",
     "text": [
      "                 populace  rozloha\n",
      "Dansko            5655750    42916\n",
      "Ceska_republika  10513209    78870\n"
     ]
    }
   ],
   "source": [
    "print(zeme_evropa_df.head(2))"
   ]
  },
  {
   "cell_type": "markdown",
   "id": "bb5d5c3b-8f66-4579-b0d1-d4189d59c15f",
   "metadata": {},
   "source": [
    "které umožňují snadnou manipulaci s daty. Následující jsou základní objekty pandas, které se často používají při práci s daty:"
   ]
  },
  {
   "cell_type": "markdown",
   "id": "31171fb1-a8ca-4ad9-9ff1-a2bf246213e4",
   "metadata": {
    "tags": []
   },
   "source": [
    "### Manipulace se sloupci"
   ]
  },
  {
   "cell_type": "markdown",
   "id": "c021728c-c176-4b80-8ae7-4d5e60a7be5a",
   "metadata": {},
   "source": [
    "manipulace se sloupci, (10 min + 5 min) (90/150 min)\n",
    "\n",
    "    selekce,\n",
    "    přejmenování,\n",
    "    přidávání sloupců,\n",
    "    odebírání sloupců.\n",
    "    cvičení 03,\n",
    "\n"
   ]
  },
  {
   "cell_type": "code",
   "execution_count": null,
   "id": "28299c9a-09ed-47d8-90fc-3f4c468b57de",
   "metadata": {},
   "outputs": [],
   "source": [
    "# obecný úvod"
   ]
  },
  {
   "cell_type": "markdown",
   "id": "8daf5c76-cce6-4c8f-abd0-394b14c81623",
   "metadata": {},
   "source": [
    "## Přejmenování sloupců\n",
    "\n",
    "Pokud budeš někdy zápasit se špatně pojmenovaným sloupcem nebo sloupci, přejmenuj je pomocí metody `rename`."
   ]
  },
  {
   "cell_type": "code",
   "execution_count": 86,
   "id": "60654bc7-aea3-4a01-9a0a-f76831a3a337",
   "metadata": {
    "tags": []
   },
   "outputs": [],
   "source": [
    "uzivatele = {\n",
    "    'jmeno': ['Matouš', 'Marek', 'Lukáš', 'Jan'],\n",
    "    'age': [23, 25, 27, 29],\n",
    "    'vaha': [65, 70, 75, 80],\n",
    "    'vyska': [160, 170, 180, 190]\n",
    "}"
   ]
  },
  {
   "cell_type": "code",
   "execution_count": 87,
   "id": "80b5a3d5-5926-4292-9440-4d493f39d981",
   "metadata": {
    "tags": []
   },
   "outputs": [],
   "source": [
    "df_uzivatele = DataFrame(uzivatele)"
   ]
  },
  {
   "cell_type": "code",
   "execution_count": 72,
   "id": "c239a13d-e294-4776-9a8d-0102be711aa1",
   "metadata": {
    "tags": []
   },
   "outputs": [
    {
     "data": {
      "text/html": [
       "<div>\n",
       "<style scoped>\n",
       "    .dataframe tbody tr th:only-of-type {\n",
       "        vertical-align: middle;\n",
       "    }\n",
       "\n",
       "    .dataframe tbody tr th {\n",
       "        vertical-align: top;\n",
       "    }\n",
       "\n",
       "    .dataframe thead th {\n",
       "        text-align: right;\n",
       "    }\n",
       "</style>\n",
       "<table border=\"1\" class=\"dataframe\">\n",
       "  <thead>\n",
       "    <tr style=\"text-align: right;\">\n",
       "      <th></th>\n",
       "      <th>jmeno</th>\n",
       "      <th>age</th>\n",
       "      <th>vaha</th>\n",
       "      <th>vyska</th>\n",
       "    </tr>\n",
       "  </thead>\n",
       "  <tbody>\n",
       "    <tr>\n",
       "      <th>0</th>\n",
       "      <td>Matouš</td>\n",
       "      <td>23</td>\n",
       "      <td>65</td>\n",
       "      <td>160</td>\n",
       "    </tr>\n",
       "    <tr>\n",
       "      <th>1</th>\n",
       "      <td>Marek</td>\n",
       "      <td>25</td>\n",
       "      <td>70</td>\n",
       "      <td>170</td>\n",
       "    </tr>\n",
       "    <tr>\n",
       "      <th>2</th>\n",
       "      <td>Lukáš</td>\n",
       "      <td>27</td>\n",
       "      <td>75</td>\n",
       "      <td>180</td>\n",
       "    </tr>\n",
       "    <tr>\n",
       "      <th>3</th>\n",
       "      <td>Jan</td>\n",
       "      <td>29</td>\n",
       "      <td>80</td>\n",
       "      <td>190</td>\n",
       "    </tr>\n",
       "  </tbody>\n",
       "</table>\n",
       "</div>"
      ],
      "text/plain": [
       "    jmeno  age  vaha  vyska\n",
       "0  Matouš   23    65    160\n",
       "1   Marek   25    70    170\n",
       "2   Lukáš   27    75    180\n",
       "3     Jan   29    80    190"
      ]
     },
     "execution_count": 72,
     "metadata": {},
     "output_type": "execute_result"
    }
   ],
   "source": [
    "df_uzivatele.head()"
   ]
  },
  {
   "cell_type": "markdown",
   "id": "0858c536-8462-4c03-84b4-da83aab57297",
   "metadata": {},
   "source": [
    "V ukázce výš tě omezuje jazyková nakonzistence mezi sloupečky.\n",
    "\n",
    "Pomocí metody `rename` a argumentu `columns`, můžeš pomocí `dict` anotace vybrat, co a čím přejmenovat:"
   ]
  },
  {
   "cell_type": "code",
   "execution_count": 73,
   "id": "144a12fa-fbdd-4ad9-bd3f-42c6783e6434",
   "metadata": {
    "tags": []
   },
   "outputs": [
    {
     "data": {
      "text/html": [
       "<div>\n",
       "<style scoped>\n",
       "    .dataframe tbody tr th:only-of-type {\n",
       "        vertical-align: middle;\n",
       "    }\n",
       "\n",
       "    .dataframe tbody tr th {\n",
       "        vertical-align: top;\n",
       "    }\n",
       "\n",
       "    .dataframe thead th {\n",
       "        text-align: right;\n",
       "    }\n",
       "</style>\n",
       "<table border=\"1\" class=\"dataframe\">\n",
       "  <thead>\n",
       "    <tr style=\"text-align: right;\">\n",
       "      <th></th>\n",
       "      <th>jmeno</th>\n",
       "      <th>vek</th>\n",
       "      <th>vaha</th>\n",
       "      <th>vyska</th>\n",
       "    </tr>\n",
       "  </thead>\n",
       "  <tbody>\n",
       "    <tr>\n",
       "      <th>0</th>\n",
       "      <td>Matouš</td>\n",
       "      <td>23</td>\n",
       "      <td>65</td>\n",
       "      <td>160</td>\n",
       "    </tr>\n",
       "    <tr>\n",
       "      <th>1</th>\n",
       "      <td>Marek</td>\n",
       "      <td>25</td>\n",
       "      <td>70</td>\n",
       "      <td>170</td>\n",
       "    </tr>\n",
       "    <tr>\n",
       "      <th>2</th>\n",
       "      <td>Lukáš</td>\n",
       "      <td>27</td>\n",
       "      <td>75</td>\n",
       "      <td>180</td>\n",
       "    </tr>\n",
       "    <tr>\n",
       "      <th>3</th>\n",
       "      <td>Jan</td>\n",
       "      <td>29</td>\n",
       "      <td>80</td>\n",
       "      <td>190</td>\n",
       "    </tr>\n",
       "  </tbody>\n",
       "</table>\n",
       "</div>"
      ],
      "text/plain": [
       "    jmeno  vek  vaha  vyska\n",
       "0  Matouš   23    65    160\n",
       "1   Marek   25    70    170\n",
       "2   Lukáš   27    75    180\n",
       "3     Jan   29    80    190"
      ]
     },
     "execution_count": 73,
     "metadata": {},
     "output_type": "execute_result"
    }
   ],
   "source": [
    "df_uzivatele.rename(columns={\"age\": \"vek\"})"
   ]
  },
  {
   "cell_type": "markdown",
   "id": "ab69e7b7-b138-447d-8b72-924f2d017489",
   "metadata": {},
   "source": [
    "Při další kontrole zjistíš, že **nové jméno sloupečku zmizelo**:"
   ]
  },
  {
   "cell_type": "code",
   "execution_count": 74,
   "id": "dc081311-3f99-4aad-823b-7a852258f2e4",
   "metadata": {
    "tags": []
   },
   "outputs": [
    {
     "data": {
      "text/html": [
       "<div>\n",
       "<style scoped>\n",
       "    .dataframe tbody tr th:only-of-type {\n",
       "        vertical-align: middle;\n",
       "    }\n",
       "\n",
       "    .dataframe tbody tr th {\n",
       "        vertical-align: top;\n",
       "    }\n",
       "\n",
       "    .dataframe thead th {\n",
       "        text-align: right;\n",
       "    }\n",
       "</style>\n",
       "<table border=\"1\" class=\"dataframe\">\n",
       "  <thead>\n",
       "    <tr style=\"text-align: right;\">\n",
       "      <th></th>\n",
       "      <th>jmeno</th>\n",
       "      <th>age</th>\n",
       "      <th>vaha</th>\n",
       "      <th>vyska</th>\n",
       "    </tr>\n",
       "  </thead>\n",
       "  <tbody>\n",
       "    <tr>\n",
       "      <th>0</th>\n",
       "      <td>Matouš</td>\n",
       "      <td>23</td>\n",
       "      <td>65</td>\n",
       "      <td>160</td>\n",
       "    </tr>\n",
       "    <tr>\n",
       "      <th>1</th>\n",
       "      <td>Marek</td>\n",
       "      <td>25</td>\n",
       "      <td>70</td>\n",
       "      <td>170</td>\n",
       "    </tr>\n",
       "    <tr>\n",
       "      <th>2</th>\n",
       "      <td>Lukáš</td>\n",
       "      <td>27</td>\n",
       "      <td>75</td>\n",
       "      <td>180</td>\n",
       "    </tr>\n",
       "    <tr>\n",
       "      <th>3</th>\n",
       "      <td>Jan</td>\n",
       "      <td>29</td>\n",
       "      <td>80</td>\n",
       "      <td>190</td>\n",
       "    </tr>\n",
       "  </tbody>\n",
       "</table>\n",
       "</div>"
      ],
      "text/plain": [
       "    jmeno  age  vaha  vyska\n",
       "0  Matouš   23    65    160\n",
       "1   Marek   25    70    170\n",
       "2   Lukáš   27    75    180\n",
       "3     Jan   29    80    190"
      ]
     },
     "execution_count": 74,
     "metadata": {},
     "output_type": "execute_result"
    }
   ],
   "source": [
    "df_uzivatele"
   ]
  },
  {
   "cell_type": "markdown",
   "id": "0f3063d1-b97d-433e-b1bc-52db4efd8973",
   "metadata": {},
   "source": [
    "<br>\n",
    "\n",
    "Celou situaci můžeš řešit dvěma způsoby:\n",
    "1. Volitelný argument `inplace`,\n",
    "2. kopie původního `DataFrame` objektu."
   ]
  },
  {
   "cell_type": "code",
   "execution_count": 75,
   "id": "70b1031a-2126-4751-8988-e515d1364939",
   "metadata": {
    "tags": []
   },
   "outputs": [],
   "source": [
    "prejmenovany_sloupec_df = df_uzivatele.rename(columns={\"age\": \"vek\"})"
   ]
  },
  {
   "cell_type": "code",
   "execution_count": 76,
   "id": "9c51ad7b-e2e1-4ac2-8dc8-c399a2877918",
   "metadata": {
    "tags": []
   },
   "outputs": [
    {
     "data": {
      "text/html": [
       "<div>\n",
       "<style scoped>\n",
       "    .dataframe tbody tr th:only-of-type {\n",
       "        vertical-align: middle;\n",
       "    }\n",
       "\n",
       "    .dataframe tbody tr th {\n",
       "        vertical-align: top;\n",
       "    }\n",
       "\n",
       "    .dataframe thead th {\n",
       "        text-align: right;\n",
       "    }\n",
       "</style>\n",
       "<table border=\"1\" class=\"dataframe\">\n",
       "  <thead>\n",
       "    <tr style=\"text-align: right;\">\n",
       "      <th></th>\n",
       "      <th>jmeno</th>\n",
       "      <th>vek</th>\n",
       "      <th>vaha</th>\n",
       "      <th>vyska</th>\n",
       "    </tr>\n",
       "  </thead>\n",
       "  <tbody>\n",
       "    <tr>\n",
       "      <th>0</th>\n",
       "      <td>Matouš</td>\n",
       "      <td>23</td>\n",
       "      <td>65</td>\n",
       "      <td>160</td>\n",
       "    </tr>\n",
       "    <tr>\n",
       "      <th>1</th>\n",
       "      <td>Marek</td>\n",
       "      <td>25</td>\n",
       "      <td>70</td>\n",
       "      <td>170</td>\n",
       "    </tr>\n",
       "    <tr>\n",
       "      <th>2</th>\n",
       "      <td>Lukáš</td>\n",
       "      <td>27</td>\n",
       "      <td>75</td>\n",
       "      <td>180</td>\n",
       "    </tr>\n",
       "    <tr>\n",
       "      <th>3</th>\n",
       "      <td>Jan</td>\n",
       "      <td>29</td>\n",
       "      <td>80</td>\n",
       "      <td>190</td>\n",
       "    </tr>\n",
       "  </tbody>\n",
       "</table>\n",
       "</div>"
      ],
      "text/plain": [
       "    jmeno  vek  vaha  vyska\n",
       "0  Matouš   23    65    160\n",
       "1   Marek   25    70    170\n",
       "2   Lukáš   27    75    180\n",
       "3     Jan   29    80    190"
      ]
     },
     "execution_count": 76,
     "metadata": {},
     "output_type": "execute_result"
    }
   ],
   "source": [
    "prejmenovany_sloupec_df.head()"
   ]
  },
  {
   "cell_type": "code",
   "execution_count": 78,
   "id": "88e6cf2a-5a5a-4e7a-8f8d-48d41e909b53",
   "metadata": {
    "tags": []
   },
   "outputs": [],
   "source": [
    "df_uzivatele.rename?"
   ]
  },
  {
   "cell_type": "code",
   "execution_count": 79,
   "id": "b678b2f0-7eef-47a1-9639-65d0d1d83e28",
   "metadata": {
    "tags": []
   },
   "outputs": [],
   "source": [
    "df_uzivatele.rename(columns={\"age\": \"vek\"}, inplace=True)"
   ]
  },
  {
   "cell_type": "code",
   "execution_count": 80,
   "id": "2f26c9c3-7173-414d-aad0-d00e5ab76d0d",
   "metadata": {
    "tags": []
   },
   "outputs": [
    {
     "data": {
      "text/html": [
       "<div>\n",
       "<style scoped>\n",
       "    .dataframe tbody tr th:only-of-type {\n",
       "        vertical-align: middle;\n",
       "    }\n",
       "\n",
       "    .dataframe tbody tr th {\n",
       "        vertical-align: top;\n",
       "    }\n",
       "\n",
       "    .dataframe thead th {\n",
       "        text-align: right;\n",
       "    }\n",
       "</style>\n",
       "<table border=\"1\" class=\"dataframe\">\n",
       "  <thead>\n",
       "    <tr style=\"text-align: right;\">\n",
       "      <th></th>\n",
       "      <th>jmeno</th>\n",
       "      <th>vek</th>\n",
       "      <th>vaha</th>\n",
       "      <th>vyska</th>\n",
       "    </tr>\n",
       "  </thead>\n",
       "  <tbody>\n",
       "    <tr>\n",
       "      <th>0</th>\n",
       "      <td>Matouš</td>\n",
       "      <td>23</td>\n",
       "      <td>65</td>\n",
       "      <td>160</td>\n",
       "    </tr>\n",
       "    <tr>\n",
       "      <th>1</th>\n",
       "      <td>Marek</td>\n",
       "      <td>25</td>\n",
       "      <td>70</td>\n",
       "      <td>170</td>\n",
       "    </tr>\n",
       "    <tr>\n",
       "      <th>2</th>\n",
       "      <td>Lukáš</td>\n",
       "      <td>27</td>\n",
       "      <td>75</td>\n",
       "      <td>180</td>\n",
       "    </tr>\n",
       "    <tr>\n",
       "      <th>3</th>\n",
       "      <td>Jan</td>\n",
       "      <td>29</td>\n",
       "      <td>80</td>\n",
       "      <td>190</td>\n",
       "    </tr>\n",
       "  </tbody>\n",
       "</table>\n",
       "</div>"
      ],
      "text/plain": [
       "    jmeno  vek  vaha  vyska\n",
       "0  Matouš   23    65    160\n",
       "1   Marek   25    70    170\n",
       "2   Lukáš   27    75    180\n",
       "3     Jan   29    80    190"
      ]
     },
     "execution_count": 80,
     "metadata": {},
     "output_type": "execute_result"
    }
   ],
   "source": [
    "df_uzivatele.head()"
   ]
  },
  {
   "cell_type": "markdown",
   "id": "a7185f41-60bc-45d8-a2fd-bcfcb5d9cbcc",
   "metadata": {},
   "source": [
    "Opatrně na práci s argumentem **inplace**.\n",
    "\n",
    "Jeho použití vždy důkladně zvaž, ať neztratíš zdrojová data."
   ]
  },
  {
   "cell_type": "markdown",
   "id": "3003f44f-1d2e-424e-9feb-0b6112f8267c",
   "metadata": {},
   "source": [
    "<br>\n",
    "\n",
    "Přejmenovat můžeš i více sloupců současně:"
   ]
  },
  {
   "cell_type": "code",
   "execution_count": 82,
   "id": "4d15297b-cd24-4257-8ce2-43ffa17805e2",
   "metadata": {
    "tags": []
   },
   "outputs": [],
   "source": [
    "nova_jmena_sloupcu = {\n",
    "    \"jmeno\": \"first_name\",\n",
    "    \"vek\": \"age\",\n",
    "    \"vaha\": \"weight\",\n",
    "    \"vyska\": \"height\"\n",
    "}"
   ]
  },
  {
   "cell_type": "code",
   "execution_count": 83,
   "id": "9b40261e-aa99-47da-ae5a-4a21597b5364",
   "metadata": {
    "tags": []
   },
   "outputs": [],
   "source": [
    "df_uzivatele.rename(columns=nova_jmena_sloupcu, inplace=True)"
   ]
  },
  {
   "cell_type": "code",
   "execution_count": 84,
   "id": "ccb0e3a7-b42f-42dd-b698-9099d51d834c",
   "metadata": {
    "tags": []
   },
   "outputs": [
    {
     "data": {
      "text/html": [
       "<div>\n",
       "<style scoped>\n",
       "    .dataframe tbody tr th:only-of-type {\n",
       "        vertical-align: middle;\n",
       "    }\n",
       "\n",
       "    .dataframe tbody tr th {\n",
       "        vertical-align: top;\n",
       "    }\n",
       "\n",
       "    .dataframe thead th {\n",
       "        text-align: right;\n",
       "    }\n",
       "</style>\n",
       "<table border=\"1\" class=\"dataframe\">\n",
       "  <thead>\n",
       "    <tr style=\"text-align: right;\">\n",
       "      <th></th>\n",
       "      <th>first_name</th>\n",
       "      <th>age</th>\n",
       "      <th>weight</th>\n",
       "      <th>height</th>\n",
       "    </tr>\n",
       "  </thead>\n",
       "  <tbody>\n",
       "    <tr>\n",
       "      <th>0</th>\n",
       "      <td>Matouš</td>\n",
       "      <td>23</td>\n",
       "      <td>65</td>\n",
       "      <td>160</td>\n",
       "    </tr>\n",
       "    <tr>\n",
       "      <th>1</th>\n",
       "      <td>Marek</td>\n",
       "      <td>25</td>\n",
       "      <td>70</td>\n",
       "      <td>170</td>\n",
       "    </tr>\n",
       "    <tr>\n",
       "      <th>2</th>\n",
       "      <td>Lukáš</td>\n",
       "      <td>27</td>\n",
       "      <td>75</td>\n",
       "      <td>180</td>\n",
       "    </tr>\n",
       "    <tr>\n",
       "      <th>3</th>\n",
       "      <td>Jan</td>\n",
       "      <td>29</td>\n",
       "      <td>80</td>\n",
       "      <td>190</td>\n",
       "    </tr>\n",
       "  </tbody>\n",
       "</table>\n",
       "</div>"
      ],
      "text/plain": [
       "  first_name  age  weight  height\n",
       "0     Matouš   23      65     160\n",
       "1      Marek   25      70     170\n",
       "2      Lukáš   27      75     180\n",
       "3        Jan   29      80     190"
      ]
     },
     "execution_count": 84,
     "metadata": {},
     "output_type": "execute_result"
    }
   ],
   "source": [
    "df_uzivatele.head()"
   ]
  },
  {
   "cell_type": "markdown",
   "id": "c322673a-8a60-4803-866c-a871733e661c",
   "metadata": {},
   "source": [
    "## Přidávání sloupců do DataFrame\n",
    "\n",
    "Potřebuješ doplnit další sloupec. Nebo upravit data v jednom sloupci a výsledek zapsat do dalšího.\n",
    "\n",
    "Nejčastěji můžeš pracovat **na přidávání nových sloupců** těmito třemi způsoby:\n",
    "1. Slovníková anotace pomocí klíče a hodnoty,\n",
    "2. výsledek pomocí operace mezi dvěma sloupci,\n",
    "3. pomocí metody `apply`."
   ]
  },
  {
   "cell_type": "markdown",
   "id": "1ade37c1-ad33-42e1-b498-04c1a8669bef",
   "metadata": {},
   "source": [
    "### Jako klíč a hodnota\n",
    "\n",
    "Takový způsob použiješ, pokud máš nachystané hodnoty pro nový sloupec:"
   ]
  },
  {
   "cell_type": "code",
   "execution_count": 99,
   "id": "c635c050-89c7-4018-a847-411aed8648f2",
   "metadata": {
    "tags": []
   },
   "outputs": [],
   "source": [
    "df_uzivatele['prijmeni'] = [\"Holinka\", \"Párek\", \"Holinka\", \"Novák\"]"
   ]
  },
  {
   "cell_type": "code",
   "execution_count": 100,
   "id": "b843b019-4775-472d-98fd-e4c472ac6c05",
   "metadata": {
    "tags": []
   },
   "outputs": [
    {
     "data": {
      "text/html": [
       "<div>\n",
       "<style scoped>\n",
       "    .dataframe tbody tr th:only-of-type {\n",
       "        vertical-align: middle;\n",
       "    }\n",
       "\n",
       "    .dataframe tbody tr th {\n",
       "        vertical-align: top;\n",
       "    }\n",
       "\n",
       "    .dataframe thead th {\n",
       "        text-align: right;\n",
       "    }\n",
       "</style>\n",
       "<table border=\"1\" class=\"dataframe\">\n",
       "  <thead>\n",
       "    <tr style=\"text-align: right;\">\n",
       "      <th></th>\n",
       "      <th>jmeno</th>\n",
       "      <th>age</th>\n",
       "      <th>vaha</th>\n",
       "      <th>vyska</th>\n",
       "      <th>pohlavi</th>\n",
       "      <th>BMI</th>\n",
       "      <th>prijmeni</th>\n",
       "    </tr>\n",
       "  </thead>\n",
       "  <tbody>\n",
       "    <tr>\n",
       "      <th>0</th>\n",
       "      <td>Matouš</td>\n",
       "      <td>23</td>\n",
       "      <td>65</td>\n",
       "      <td>160</td>\n",
       "      <td>Holinka</td>\n",
       "      <td>25.4</td>\n",
       "      <td>Holinka</td>\n",
       "    </tr>\n",
       "    <tr>\n",
       "      <th>1</th>\n",
       "      <td>Marek</td>\n",
       "      <td>25</td>\n",
       "      <td>70</td>\n",
       "      <td>170</td>\n",
       "      <td>Párek</td>\n",
       "      <td>24.2</td>\n",
       "      <td>Párek</td>\n",
       "    </tr>\n",
       "    <tr>\n",
       "      <th>2</th>\n",
       "      <td>Lukáš</td>\n",
       "      <td>27</td>\n",
       "      <td>75</td>\n",
       "      <td>180</td>\n",
       "      <td>Holinka</td>\n",
       "      <td>23.1</td>\n",
       "      <td>Holinka</td>\n",
       "    </tr>\n",
       "    <tr>\n",
       "      <th>3</th>\n",
       "      <td>Jan</td>\n",
       "      <td>29</td>\n",
       "      <td>80</td>\n",
       "      <td>190</td>\n",
       "      <td>Novák</td>\n",
       "      <td>22.2</td>\n",
       "      <td>Novák</td>\n",
       "    </tr>\n",
       "  </tbody>\n",
       "</table>\n",
       "</div>"
      ],
      "text/plain": [
       "    jmeno  age  vaha  vyska  pohlavi   BMI prijmeni\n",
       "0  Matouš   23    65    160  Holinka  25.4  Holinka\n",
       "1   Marek   25    70    170    Párek  24.2    Párek\n",
       "2   Lukáš   27    75    180  Holinka  23.1  Holinka\n",
       "3     Jan   29    80    190    Novák  22.2    Novák"
      ]
     },
     "execution_count": 100,
     "metadata": {},
     "output_type": "execute_result"
    }
   ],
   "source": [
    "df_uzivatele.head()"
   ]
  },
  {
   "cell_type": "markdown",
   "id": "c8d82f31-0101-4f80-bec1-0e25e8df6383",
   "metadata": {},
   "source": [
    "### Kombinace existujících sloupců\n",
    "\n",
    "Tento způsob lze použít, pokud chceš vytvořit nový sloupec pomocí operací mezi existujícími sloupci:"
   ]
  },
  {
   "cell_type": "code",
   "execution_count": 97,
   "id": "0d70f9c8-90ea-4c23-a3f7-1d746f2352ca",
   "metadata": {
    "tags": []
   },
   "outputs": [],
   "source": [
    "df_uzivatele['BMI'] = round(df_uzivatele['vaha'] / ((df_uzivatele['vyska'] / 100) ** 2), 1)"
   ]
  },
  {
   "cell_type": "code",
   "execution_count": 98,
   "id": "1ed53fe0-8164-4758-8339-4f40c1d4edb2",
   "metadata": {
    "tags": []
   },
   "outputs": [
    {
     "data": {
      "text/html": [
       "<div>\n",
       "<style scoped>\n",
       "    .dataframe tbody tr th:only-of-type {\n",
       "        vertical-align: middle;\n",
       "    }\n",
       "\n",
       "    .dataframe tbody tr th {\n",
       "        vertical-align: top;\n",
       "    }\n",
       "\n",
       "    .dataframe thead th {\n",
       "        text-align: right;\n",
       "    }\n",
       "</style>\n",
       "<table border=\"1\" class=\"dataframe\">\n",
       "  <thead>\n",
       "    <tr style=\"text-align: right;\">\n",
       "      <th></th>\n",
       "      <th>jmeno</th>\n",
       "      <th>age</th>\n",
       "      <th>vaha</th>\n",
       "      <th>vyska</th>\n",
       "      <th>pohlavi</th>\n",
       "      <th>BMI</th>\n",
       "    </tr>\n",
       "  </thead>\n",
       "  <tbody>\n",
       "    <tr>\n",
       "      <th>0</th>\n",
       "      <td>Matouš</td>\n",
       "      <td>23</td>\n",
       "      <td>65</td>\n",
       "      <td>160</td>\n",
       "      <td>Holinka</td>\n",
       "      <td>25.4</td>\n",
       "    </tr>\n",
       "    <tr>\n",
       "      <th>1</th>\n",
       "      <td>Marek</td>\n",
       "      <td>25</td>\n",
       "      <td>70</td>\n",
       "      <td>170</td>\n",
       "      <td>Párek</td>\n",
       "      <td>24.2</td>\n",
       "    </tr>\n",
       "    <tr>\n",
       "      <th>2</th>\n",
       "      <td>Lukáš</td>\n",
       "      <td>27</td>\n",
       "      <td>75</td>\n",
       "      <td>180</td>\n",
       "      <td>Holinka</td>\n",
       "      <td>23.1</td>\n",
       "    </tr>\n",
       "    <tr>\n",
       "      <th>3</th>\n",
       "      <td>Jan</td>\n",
       "      <td>29</td>\n",
       "      <td>80</td>\n",
       "      <td>190</td>\n",
       "      <td>Novák</td>\n",
       "      <td>22.2</td>\n",
       "    </tr>\n",
       "  </tbody>\n",
       "</table>\n",
       "</div>"
      ],
      "text/plain": [
       "    jmeno  age  vaha  vyska  pohlavi   BMI\n",
       "0  Matouš   23    65    160  Holinka  25.4\n",
       "1   Marek   25    70    170    Párek  24.2\n",
       "2   Lukáš   27    75    180  Holinka  23.1\n",
       "3     Jan   29    80    190    Novák  22.2"
      ]
     },
     "execution_count": 98,
     "metadata": {},
     "output_type": "execute_result"
    }
   ],
   "source": [
    "df_uzivatele.head()"
   ]
  },
  {
   "cell_type": "markdown",
   "id": "87ba33e5-ef4a-482e-ae16-c35c58dbcdc3",
   "metadata": {},
   "source": [
    "### Metoda `apply`\n",
    "\n",
    "Pokud potřebuješ aplikovat uživ. funkci pro data stávajícího sloupce, využiješ metodu `apply`:"
   ]
  },
  {
   "cell_type": "code",
   "execution_count": 115,
   "id": "83253a18-3363-4667-85ba-5de73d11cc18",
   "metadata": {
    "tags": []
   },
   "outputs": [],
   "source": [
    "def vytvor_email(prijmeni: str, domena: str = \"gmail.com\") -> str:\n",
    "    \"\"\"\n",
    "    Vrať zformátovaný string, který tvoří emailovou adresu.\n",
    "    \"\"\"\n",
    "    return f\"{prijmeni.lower()}@{domena}\""
   ]
  },
  {
   "cell_type": "code",
   "execution_count": 118,
   "id": "34e3dddb-9386-4007-b9e2-bfa220d28dca",
   "metadata": {
    "tags": []
   },
   "outputs": [],
   "source": [
    "df_uzivatele['email'] = df_uzivatele['pohlavi'].apply(vytvor_email)"
   ]
  },
  {
   "cell_type": "code",
   "execution_count": 119,
   "id": "ae2f6dbf-776c-4ddf-9eba-1f369e71a318",
   "metadata": {
    "tags": []
   },
   "outputs": [
    {
     "data": {
      "text/html": [
       "<div>\n",
       "<style scoped>\n",
       "    .dataframe tbody tr th:only-of-type {\n",
       "        vertical-align: middle;\n",
       "    }\n",
       "\n",
       "    .dataframe tbody tr th {\n",
       "        vertical-align: top;\n",
       "    }\n",
       "\n",
       "    .dataframe thead th {\n",
       "        text-align: right;\n",
       "    }\n",
       "</style>\n",
       "<table border=\"1\" class=\"dataframe\">\n",
       "  <thead>\n",
       "    <tr style=\"text-align: right;\">\n",
       "      <th></th>\n",
       "      <th>jmeno</th>\n",
       "      <th>age</th>\n",
       "      <th>vaha</th>\n",
       "      <th>vyska</th>\n",
       "      <th>pohlavi</th>\n",
       "      <th>BMI</th>\n",
       "      <th>prijmeni</th>\n",
       "      <th>email</th>\n",
       "    </tr>\n",
       "  </thead>\n",
       "  <tbody>\n",
       "    <tr>\n",
       "      <th>0</th>\n",
       "      <td>Matouš</td>\n",
       "      <td>23</td>\n",
       "      <td>65</td>\n",
       "      <td>160</td>\n",
       "      <td>Holinka</td>\n",
       "      <td>25.4</td>\n",
       "      <td>Holinka</td>\n",
       "      <td>holinka@gmail.com</td>\n",
       "    </tr>\n",
       "    <tr>\n",
       "      <th>1</th>\n",
       "      <td>Marek</td>\n",
       "      <td>25</td>\n",
       "      <td>70</td>\n",
       "      <td>170</td>\n",
       "      <td>Párek</td>\n",
       "      <td>24.2</td>\n",
       "      <td>Párek</td>\n",
       "      <td>párek@gmail.com</td>\n",
       "    </tr>\n",
       "    <tr>\n",
       "      <th>2</th>\n",
       "      <td>Lukáš</td>\n",
       "      <td>27</td>\n",
       "      <td>75</td>\n",
       "      <td>180</td>\n",
       "      <td>Holinka</td>\n",
       "      <td>23.1</td>\n",
       "      <td>Holinka</td>\n",
       "      <td>holinka@gmail.com</td>\n",
       "    </tr>\n",
       "    <tr>\n",
       "      <th>3</th>\n",
       "      <td>Jan</td>\n",
       "      <td>29</td>\n",
       "      <td>80</td>\n",
       "      <td>190</td>\n",
       "      <td>Novák</td>\n",
       "      <td>22.2</td>\n",
       "      <td>Novák</td>\n",
       "      <td>novák@gmail.com</td>\n",
       "    </tr>\n",
       "  </tbody>\n",
       "</table>\n",
       "</div>"
      ],
      "text/plain": [
       "    jmeno  age  vaha  vyska  pohlavi   BMI prijmeni              email\n",
       "0  Matouš   23    65    160  Holinka  25.4  Holinka  holinka@gmail.com\n",
       "1   Marek   25    70    170    Párek  24.2    Párek    párek@gmail.com\n",
       "2   Lukáš   27    75    180  Holinka  23.1  Holinka  holinka@gmail.com\n",
       "3     Jan   29    80    190    Novák  22.2    Novák    novák@gmail.com"
      ]
     },
     "execution_count": 119,
     "metadata": {},
     "output_type": "execute_result"
    }
   ],
   "source": [
    "df_uzivatele.head()"
   ]
  },
  {
   "cell_type": "markdown",
   "id": "4f8549c3-1e49-4448-8335-d090fa6ef60b",
   "metadata": {},
   "source": [
    "<br>\n",
    "\n",
    "Pokud budeš potřebovat pracovat s více sloupečky:"
   ]
  },
  {
   "cell_type": "code",
   "execution_count": 124,
   "id": "b3ff36be-fee3-4f61-bcba-30cc73102b6a",
   "metadata": {
    "tags": []
   },
   "outputs": [],
   "source": [
    "import pandas"
   ]
  },
  {
   "cell_type": "code",
   "execution_count": 127,
   "id": "e90c7e9f-045f-4eb8-8e6b-1ebd2377ffa6",
   "metadata": {
    "tags": []
   },
   "outputs": [],
   "source": [
    "def vytvor_email(radek: pandas.core.frame.Series, domena: str = \"gmail.com\") -> str:\n",
    "    \"\"\"\n",
    "    Vrať zformátovaný string, který tvoří emailovou adresu.\n",
    "    \"\"\"\n",
    "    return f\"{radek.jmeno.lower()[0]}_{radek.pohlavi.lower()}@{domena}\""
   ]
  },
  {
   "cell_type": "code",
   "execution_count": 128,
   "id": "c17c4bac-9aef-4169-919e-134b825a8652",
   "metadata": {
    "tags": []
   },
   "outputs": [],
   "source": [
    "df_uzivatele['email_lepsi'] = df_uzivatele.apply(vytvor_email, axis=1)"
   ]
  },
  {
   "cell_type": "markdown",
   "id": "b8f1611d-7d7c-4b56-9235-34484b027aad",
   "metadata": {},
   "source": [
    "Nepovinný argument `axis` v ohlášení říká, že chce aplikovat metodu **na řádkové hodnoty**."
   ]
  },
  {
   "cell_type": "code",
   "execution_count": 129,
   "id": "1f402591-90f6-4035-8376-fe9b92a81541",
   "metadata": {
    "tags": []
   },
   "outputs": [
    {
     "data": {
      "text/html": [
       "<div>\n",
       "<style scoped>\n",
       "    .dataframe tbody tr th:only-of-type {\n",
       "        vertical-align: middle;\n",
       "    }\n",
       "\n",
       "    .dataframe tbody tr th {\n",
       "        vertical-align: top;\n",
       "    }\n",
       "\n",
       "    .dataframe thead th {\n",
       "        text-align: right;\n",
       "    }\n",
       "</style>\n",
       "<table border=\"1\" class=\"dataframe\">\n",
       "  <thead>\n",
       "    <tr style=\"text-align: right;\">\n",
       "      <th></th>\n",
       "      <th>jmeno</th>\n",
       "      <th>age</th>\n",
       "      <th>vaha</th>\n",
       "      <th>vyska</th>\n",
       "      <th>pohlavi</th>\n",
       "      <th>BMI</th>\n",
       "      <th>prijmeni</th>\n",
       "      <th>email</th>\n",
       "      <th>email_lepsi</th>\n",
       "    </tr>\n",
       "  </thead>\n",
       "  <tbody>\n",
       "    <tr>\n",
       "      <th>0</th>\n",
       "      <td>Matouš</td>\n",
       "      <td>23</td>\n",
       "      <td>65</td>\n",
       "      <td>160</td>\n",
       "      <td>Holinka</td>\n",
       "      <td>25.4</td>\n",
       "      <td>Holinka</td>\n",
       "      <td>holinka@gmail.com</td>\n",
       "      <td>m_holinka@gmail.com</td>\n",
       "    </tr>\n",
       "    <tr>\n",
       "      <th>1</th>\n",
       "      <td>Marek</td>\n",
       "      <td>25</td>\n",
       "      <td>70</td>\n",
       "      <td>170</td>\n",
       "      <td>Párek</td>\n",
       "      <td>24.2</td>\n",
       "      <td>Párek</td>\n",
       "      <td>párek@gmail.com</td>\n",
       "      <td>m_párek@gmail.com</td>\n",
       "    </tr>\n",
       "    <tr>\n",
       "      <th>2</th>\n",
       "      <td>Lukáš</td>\n",
       "      <td>27</td>\n",
       "      <td>75</td>\n",
       "      <td>180</td>\n",
       "      <td>Holinka</td>\n",
       "      <td>23.1</td>\n",
       "      <td>Holinka</td>\n",
       "      <td>holinka@gmail.com</td>\n",
       "      <td>l_holinka@gmail.com</td>\n",
       "    </tr>\n",
       "    <tr>\n",
       "      <th>3</th>\n",
       "      <td>Jan</td>\n",
       "      <td>29</td>\n",
       "      <td>80</td>\n",
       "      <td>190</td>\n",
       "      <td>Novák</td>\n",
       "      <td>22.2</td>\n",
       "      <td>Novák</td>\n",
       "      <td>novák@gmail.com</td>\n",
       "      <td>j_novák@gmail.com</td>\n",
       "    </tr>\n",
       "  </tbody>\n",
       "</table>\n",
       "</div>"
      ],
      "text/plain": [
       "    jmeno  age  vaha  vyska  pohlavi   BMI prijmeni              email  \\\n",
       "0  Matouš   23    65    160  Holinka  25.4  Holinka  holinka@gmail.com   \n",
       "1   Marek   25    70    170    Párek  24.2    Párek    párek@gmail.com   \n",
       "2   Lukáš   27    75    180  Holinka  23.1  Holinka  holinka@gmail.com   \n",
       "3     Jan   29    80    190    Novák  22.2    Novák    novák@gmail.com   \n",
       "\n",
       "           email_lepsi  \n",
       "0  m_holinka@gmail.com  \n",
       "1    m_párek@gmail.com  \n",
       "2  l_holinka@gmail.com  \n",
       "3    j_novák@gmail.com  "
      ]
     },
     "execution_count": 129,
     "metadata": {},
     "output_type": "execute_result"
    }
   ],
   "source": [
    "df_uzivatele.head()"
   ]
  },
  {
   "cell_type": "markdown",
   "id": "bb250d1f-8f03-4215-ad23-f62e3a2ac7fc",
   "metadata": {},
   "source": [
    "Tento způsob lze použít, pokud chceme vytvořit nový sloupec pomocí nějaké funkce aplikované na jednotlivé řádky nebo sloupce DataFrame. Tato funkce se aplikuje na každý prvek sloupce, což umožňuje vytvářet nové sloupce na základě složitějších podmínek."
   ]
  },
  {
   "cell_type": "markdown",
   "id": "05d063f7-1715-4dbe-8657-bac875f94eef",
   "metadata": {},
   "source": [
    "Tato metoda umožňuje přejmenovat sloupce pomocí slovníku, kde klíče jsou původní názvy sloupců a hodnoty jsou nové názvy sloupců.\n",
    "\n",
    "Zde jsou příklady, jak lze přejmenovat sloupce v pandas:\n",
    "\n",
    "    Přejmenování jednoho sloupce:"
   ]
  }
 ],
 "metadata": {
  "kernelspec": {
   "display_name": "Python 3 (ipykernel)",
   "language": "python",
   "name": "python3"
  },
  "language_info": {
   "codemirror_mode": {
    "name": "ipython",
    "version": 3
   },
   "file_extension": ".py",
   "mimetype": "text/x-python",
   "name": "python",
   "nbconvert_exporter": "python",
   "pygments_lexer": "ipython3",
   "version": "3.8.10"
  }
 },
 "nbformat": 4,
 "nbformat_minor": 5
}

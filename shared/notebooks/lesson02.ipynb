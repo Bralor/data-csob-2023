{
 "cells": [
  {
   "cell_type": "markdown",
   "id": "potential-reading",
   "metadata": {},
   "source": [
    "### Druhá lekce\n",
    "1. `numpy`,\n",
    "    - intro ke knihovně, jak s ní pracovat, kde, verze,\n",
    "    - rozdíl datových typů, list a integer,\n",
    "    - datové typy v Numpy,\n",
    "    - array v Pythonu, array v numpy, základy,jejich atributy,\n",
    "    - operace s maticemi, array,\n",
    "    - Ufunks,\n",
    "    - agregace.\n",
    "    \n",
    "2. Knihovna `numpy`.\n",
    "    - Co je to za knihovnu, proč ji mám znát?\n",
    "    - Základní datové typy, numpy array, co jsou zač, kde je jich potřeba?\n",
    "    - Performance rozdíly. Agregace, výpočty, srovnávání."
   ]
  },
  {
   "cell_type": "code",
   "execution_count": null,
   "id": "focal-statement",
   "metadata": {},
   "outputs": [],
   "source": []
  }
 ],
 "metadata": {
  "kernelspec": {
   "display_name": "Python 3",
   "language": "python",
   "name": "python3"
  },
  "language_info": {
   "codemirror_mode": {
    "name": "ipython",
    "version": 3
   },
   "file_extension": ".py",
   "mimetype": "text/x-python",
   "name": "python",
   "nbconvert_exporter": "python",
   "pygments_lexer": "ipython3",
   "version": "3.8.6"
  }
 },
 "nbformat": 4,
 "nbformat_minor": 5
}

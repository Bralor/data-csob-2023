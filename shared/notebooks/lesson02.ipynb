{
 "cells": [
  {
   "cell_type": "markdown",
   "id": "detected-handle",
   "metadata": {},
   "source": [
    "# Datová akademie, ČSOB, 2023\n",
    "\n",
    "---"
   ]
  },
  {
   "cell_type": "markdown",
   "id": "flush-writer",
   "metadata": {},
   "source": [
    "* [Úvod k datům](#Úvod-k-datům),\n",
    "\n",
    "* [pracovní prostředí](#Pracovní-prostředí),\n",
    "\n",
    "<br>"
   ]
  },
  {
   "cell_type": "markdown",
   "id": "potential-reading",
   "metadata": {},
   "source": [
    "## Druhá lekce, návrh\n",
    "1. `numpy`,\n",
    "    - intro ke knihovně, jak s ní pracovat, kde, verze,\n",
    "    - rozdíl datových typů, list a integer,\n",
    "    - datové typy v Numpy,\n",
    "    - array v Pythonu, array v numpy, základy,jejich atributy,\n",
    "    - operace s maticemi, array,\n",
    "    - Ufunks,\n",
    "    - agregace.\n",
    "    \n",
    "2. Knihovna `numpy`.\n",
    "    - Co je to za knihovnu, proč ji mám znát?\n",
    "    - Základní datové typy, numpy array, co jsou zač, kde je jich potřeba?\n",
    "    - Performance rozdíly. Agregace, výpočty, srovnávání."
   ]
  },
  {
   "cell_type": "code",
   "execution_count": null,
   "id": "given-assumption",
   "metadata": {},
   "outputs": [],
   "source": []
  },
  {
   "cell_type": "markdown",
   "id": "consecutive-circus",
   "metadata": {},
   "source": [
    "## Druhá lekce, kaggle\n",
    "* reading and writting DFs,\n",
    "* indexing, selecting rows & columns, conditional selection,\n",
    "* functions, map and lambdas,\n",
    "* groupby, multiindex, sorting values,\n",
    "* data types or Dtypes, convert data types,\n",
    "* missing values, fillna, replace,\n",
    "* rename, merge, join, concat.\n",
    "\n",
    "\n",
    "* missing data points, the reason why are the data missing, drop missing values, filling missing vals,\n",
    "* scaling: changing the range, normalization: changing shape,\n",
    "* parsing dates, selecting days,\n",
    "* encoding: what are encodings, encode, decode, identifying and saving examples,\n",
    "* inconsistency: fuzzywuzzy"
   ]
  },
  {
   "cell_type": "markdown",
   "id": "broken-spider",
   "metadata": {},
   "source": [
    "## Druhá lekce, kniha\n",
    "* pandas objects: DFs, Series, Index,\n",
    "* indexing and selection: series, DFs,\n",
    "* operating: w/ numpy (hard to implement without numpy),\n",
    "* handling missing data: Nan and None in pandas,detecting, droping, filling null values,\n",
    "* indexing: single index, multiple indexes(bad and good example), indexing and slicing multiindex,\n",
    "* concat, append, merge, join,\n",
    "* agregation: count, first, last, mean, median, min, max,\n",
    "* groupBy: split, apply, combine,\n",
    "* pivot table, methods similar to python methods, regex finding,slice & other miscellaneous methods,\n",
    "* Time series, to_datetime, data structures of time series, date_range, period_range, timedelta_range,\n",
    "* frenquencies & offsets, resampling, time shifting,\n",
    "* eval and query, comparing eval and without eval,\n"
   ]
  },
  {
   "cell_type": "markdown",
   "id": "polished-representative",
   "metadata": {},
   "source": [
    "## Druhá lekce, Honza\n",
    "* manipulace, úvod, instalace,\n",
    "* DataFrame,\n",
    "* Series,\n",
    "* Načítání dat,\n",
    "* selekce dat,\n",
    "* indexování, loc a iloc,\n",
    "* přejmenování, přidávání, odstraňování sloupců,\n",
    "* Nan, null, nahrazování,\n",
    "* concat, merge, drop_duplicates, sort_values,\n",
    "* unique, apply,\n",
    "* kopie a práce s kopiemi,\n",
    "* statistika,\n",
    "* čtení dat online,"
   ]
  },
  {
   "cell_type": "markdown",
   "id": "forward-circular",
   "metadata": {},
   "source": [
    "## Druhá lekce, Víťa\n",
    "* doplnit, chybí mi link na repozitář."
   ]
  },
  {
   "cell_type": "markdown",
   "id": "economic-carry",
   "metadata": {},
   "source": [
    "## Druhá lekce, návrh Matouš"
   ]
  },
  {
   "cell_type": "markdown",
   "id": "anticipated-program",
   "metadata": {},
   "source": [
    "* úvod do pand (**10 min**)\n",
    "    - představení,\n",
    "    - oficiální web, repo,\n",
    "    - instalacee knihovny,\n",
    "    - dokumentace.\n",
    "    \n",
    "    \n",
    "* základní objekty (**10 min**),\n",
    "    - DF,\n",
    "    - Series,\n",
    "    - Index,\n",
    "    - vizualizace.\n",
    "    \n",
    "\n",
    "* tvorba DF, Series, File IO, (**30 min** + **5 min**)\n",
    "    - vytvoření jednoduchého DF,\n",
    "    - výběr některých volitelných argumentů,\n",
    "    - vstupy souborů: csv, excel, txt, xml, HTML.\n",
    "    - cvičení 01,\n",
    "\n",
    "\n",
    "* prohlídka dat, selekce, indexování, (**30 min** + **5 min**) (80/150 min)\n",
    "    - head, tail, info, sloupce, truncate výstupu\n",
    "    - datové typy, naťuknout chybějící hodnoty,\n",
    "    - index, loc, iloc,\n",
    "    - multiindex.\n",
    "    - cvičení 02,\n",
    "    \n",
    "\n",
    "* manipulace se sloupci, (**10 min** + **5 min**) (90/150 min)\n",
    "    - selekce,\n",
    "    - přejmenování,\n",
    "    - přidávání sloupců,\n",
    "    - odebírání sloupců.\n",
    "    - cvičení 03,\n",
    "\n",
    "\n",
    "* manipulace s Series a DFs, (**40 min** + **5 min**) (130/150 min)\n",
    "    - concat, 10\n",
    "    - append, 5\n",
    "    - merge, 15,\n",
    "    - join, 10.\n",
    "    - cvičení 04,"
   ]
  },
  {
   "cell_type": "markdown",
   "id": "given-arcade",
   "metadata": {},
   "source": [
    "<img src=\"https://external-content.duckduckgo.com/iu/?u=https%3A%2F%2Ftse1.mm.bing.net%2Fth%3Fid%3DOIP.bQLV3m2t29a0dfG9qnVMgwHaHa%26pid%3DApi&f=1&ipt=b73c31ec28f2f95373feda2df32b17cdefb18fde0965d876db76a69bd8c03fba&ipo=images\" width=\"120\"/>\n",
    "\n",
    "## Úvod k pandám\n",
    "\n",
    "---\n",
    "\n"
   ]
  },
  {
   "cell_type": "markdown",
   "id": "stone-lithuania",
   "metadata": {},
   "source": [
    "Pandas je novější balíček postavený nad NumPy a poskytuje\n",
    "efektivní implementaci DataFrame."
   ]
  },
  {
   "cell_type": "markdown",
   "id": "sonic-rough",
   "metadata": {},
   "source": [
    "#### Jak pandas vypadá"
   ]
  },
  {
   "cell_type": "markdown",
   "id": "optional-trader",
   "metadata": {},
   "source": [
    "Odkaz na oficiální repozitář [této knihovny](https://github.com/pandas-dev/pandas)."
   ]
  },
  {
   "cell_type": "code",
   "execution_count": null,
   "id": "severe-presence",
   "metadata": {},
   "outputs": [],
   "source": []
  },
  {
   "cell_type": "markdown",
   "id": "heard-macedonia",
   "metadata": {},
   "source": [
    "#### Proč se ti bude hodit"
   ]
  },
  {
   "cell_type": "code",
   "execution_count": null,
   "id": "piano-sullivan",
   "metadata": {},
   "outputs": [],
   "source": []
  },
  {
   "cell_type": "markdown",
   "id": "graduate-lottery",
   "metadata": {},
   "source": [
    "Pandas slouží pro analýzu dat.\n",
    "\n",
    "Data jsou nejčastěji v SQL databázi, souborech CSV, tabulkových procesech atd.\n",
    "\n",
    "Pandas je jako Excel, ale s více funkcemi a hlavně možností automatizovat procesy."
   ]
  },
  {
   "cell_type": "markdown",
   "id": "northern-pointer",
   "metadata": {},
   "source": [
    "#### Kde se dozvím více"
   ]
  },
  {
   "cell_type": "markdown",
   "id": "iraqi-gross",
   "metadata": {},
   "source": [
    "docs"
   ]
  },
  {
   "cell_type": "code",
   "execution_count": null,
   "id": "lucky-chess",
   "metadata": {},
   "outputs": [],
   "source": []
  },
  {
   "cell_type": "markdown",
   "id": "characteristic-cloud",
   "metadata": {},
   "source": [
    "#### Instalace"
   ]
  },
  {
   "cell_type": "code",
   "execution_count": null,
   "id": "documented-offering",
   "metadata": {},
   "outputs": [],
   "source": [
    "venv env"
   ]
  },
  {
   "cell_type": "code",
   "execution_count": null,
   "id": "sufficient-liability",
   "metadata": {},
   "outputs": [],
   "source": [
    "!pip install pandas"
   ]
  },
  {
   "cell_type": "code",
   "execution_count": null,
   "id": "early-workplace",
   "metadata": {},
   "outputs": [],
   "source": [
    "!pip install pandas==1.1.1"
   ]
  },
  {
   "cell_type": "markdown",
   "id": "distinguished-carter",
   "metadata": {},
   "source": [
    "#### Použití"
   ]
  },
  {
   "cell_type": "code",
   "execution_count": null,
   "id": "coral-looking",
   "metadata": {},
   "outputs": [],
   "source": [
    "import pandas"
   ]
  },
  {
   "cell_type": "code",
   "execution_count": null,
   "id": "sitting-choice",
   "metadata": {},
   "outputs": [],
   "source": [
    "from pandas import DataFrame"
   ]
  },
  {
   "cell_type": "code",
   "execution_count": null,
   "id": "copyrighted-coordination",
   "metadata": {},
   "outputs": [],
   "source": [
    "import pandas as pd"
   ]
  },
  {
   "cell_type": "code",
   "execution_count": null,
   "id": "designing-semiconductor",
   "metadata": {},
   "outputs": [],
   "source": []
  },
  {
   "cell_type": "code",
   "execution_count": null,
   "id": "mounted-customs",
   "metadata": {},
   "outputs": [],
   "source": [
    "základní objekty (10 min),\n",
    "\n",
    "    DF,\n",
    "    Series,\n",
    "    Index,\n",
    "    vizualizace.\n"
   ]
  },
  {
   "cell_type": "markdown",
   "id": "republican-wales",
   "metadata": {},
   "source": [
    "## Základní datové typy frameworku"
   ]
  },
  {
   "cell_type": "markdown",
   "id": "surface-glass",
   "metadata": {},
   "source": [
    "Knihovna nabízí řadu užitečných nástrojů, metod a funkcí nad rámec základních (zabudovaných) datových struktur.\n",
    "\n",
    "Hlavní tři struktury, na kterých stojí jsou:\n",
    "* Series,\n",
    "* dataFrames,\n",
    "* indexes."
   ]
  },
  {
   "cell_type": "code",
   "execution_count": null,
   "id": "headed-accuracy",
   "metadata": {},
   "outputs": [],
   "source": [
    "# obrazek"
   ]
  },
  {
   "cell_type": "markdown",
   "id": "capital-charles",
   "metadata": {},
   "source": [
    "### Series\n",
    "\n",
    "Jde **o jednodimenzionální sloupeček** (popř. řadu), který má **indexované data**.\n",
    "\n",
    "Opět si jej můžeš představit jako sloupeček v excelovských tabulkách."
   ]
  },
  {
   "cell_type": "code",
   "execution_count": null,
   "id": "dietary-evidence",
   "metadata": {},
   "outputs": [],
   "source": [
    "# obrazek"
   ]
  },
  {
   "cell_type": "markdown",
   "id": "chicken-serum",
   "metadata": {},
   "source": [
    "Na ukázku můžeš tyto sloupečky vytvořit třeba ze sekvencí:"
   ]
  },
  {
   "cell_type": "code",
   "execution_count": 2,
   "id": "controlling-perfume",
   "metadata": {},
   "outputs": [],
   "source": [
    "from pandas import Series"
   ]
  },
  {
   "cell_type": "code",
   "execution_count": 5,
   "id": "alpha-neutral",
   "metadata": {},
   "outputs": [],
   "source": [
    "mesta_df = Series([\"Praha\", \"Brno\", \"Ostrava\", \"Hradek Králové\"])"
   ]
  },
  {
   "cell_type": "code",
   "execution_count": 6,
   "id": "moved-stephen",
   "metadata": {},
   "outputs": [
    {
     "data": {
      "text/plain": [
       "pandas.core.series.Series"
      ]
     },
     "execution_count": 6,
     "metadata": {},
     "output_type": "execute_result"
    }
   ],
   "source": [
    "type(mesta_df)"
   ]
  },
  {
   "cell_type": "code",
   "execution_count": 7,
   "id": "auburn-magic",
   "metadata": {},
   "outputs": [
    {
     "data": {
      "text/plain": [
       "0             Praha\n",
       "1              Brno\n",
       "2           Ostrava\n",
       "3    Hradek Králové\n",
       "dtype: object"
      ]
     },
     "execution_count": 7,
     "metadata": {},
     "output_type": "execute_result"
    }
   ],
   "source": [
    "mesta_df"
   ]
  },
  {
   "cell_type": "markdown",
   "id": "guided-context",
   "metadata": {},
   "source": [
    "Jak můžeš vidět v ukázce výše, *sloupec* `Series` obsahuje jak pořadí, tak hodnoty."
   ]
  },
  {
   "cell_type": "code",
   "execution_count": 9,
   "id": "subsequent-isolation",
   "metadata": {},
   "outputs": [
    {
     "data": {
      "text/plain": [
       "RangeIndex(start=0, stop=4, step=1)"
      ]
     },
     "execution_count": 9,
     "metadata": {},
     "output_type": "execute_result"
    }
   ],
   "source": [
    "mesta_df.index"
   ]
  },
  {
   "cell_type": "code",
   "execution_count": 10,
   "id": "abroad-soundtrack",
   "metadata": {},
   "outputs": [
    {
     "data": {
      "text/plain": [
       "array(['Praha', 'Brno', 'Ostrava', 'Hradek Králové'], dtype=object)"
      ]
     },
     "execution_count": 10,
     "metadata": {},
     "output_type": "execute_result"
    }
   ],
   "source": [
    "mesta_df.values"
   ]
  },
  {
   "cell_type": "markdown",
   "id": "presidential-radius",
   "metadata": {},
   "source": [
    "Obecně vypadá jako nějaké pole, který má svůj nativní datový typ `object`."
   ]
  },
  {
   "cell_type": "markdown",
   "id": "careful-courage",
   "metadata": {},
   "source": [
    "Ačkoliv je `pandas` knihovna Pythonu, datové typy nemusí vždy odpovídat základním datovým typům Pythonu:"
   ]
  },
  {
   "cell_type": "markdown",
   "id": "gentle-netherlands",
   "metadata": {},
   "source": [
    "| Typy `pandas`| typy `Python`| Použití |\n",
    "| :-: | :-: | :- |\n",
    "| `object` | `str` nebo směska| text nebo namíchané číselné a nečíselné hodnoty |\n",
    "| `int64` | `int`| celá čísla |\n",
    "| `float64` | `float` | desetinná čísla |\n",
    "| `bool` | `bool` | True a False |\n",
    "| `datetime64` | `-`| Hodnota data a času |\n",
    "| `timedelta` | `-` | Časové rozdíly |"
   ]
  },
  {
   "cell_type": "markdown",
   "id": "stuck-sapphire",
   "metadata": {},
   "source": [
    "Stejně jako pole nebo sekvence můžeš indexovat a slicovat hodnoty typu `Series`.\n",
    "\n",
    "##### Indexování"
   ]
  },
  {
   "cell_type": "code",
   "execution_count": 11,
   "id": "billion-weapon",
   "metadata": {},
   "outputs": [
    {
     "data": {
      "text/plain": [
       "'Brno'"
      ]
     },
     "execution_count": 11,
     "metadata": {},
     "output_type": "execute_result"
    }
   ],
   "source": [
    "mesta_df[1]"
   ]
  },
  {
   "cell_type": "markdown",
   "id": "absolute-premium",
   "metadata": {},
   "source": [
    "##### Slicing"
   ]
  },
  {
   "cell_type": "code",
   "execution_count": 12,
   "id": "abstract-ideal",
   "metadata": {},
   "outputs": [
    {
     "data": {
      "text/plain": [
       "0      Praha\n",
       "1       Brno\n",
       "2    Ostrava\n",
       "dtype: object"
      ]
     },
     "execution_count": 12,
     "metadata": {},
     "output_type": "execute_result"
    }
   ],
   "source": [
    "mesta_df[0:3]"
   ]
  },
  {
   "cell_type": "markdown",
   "id": "supreme-monkey",
   "metadata": {},
   "source": [
    "Proč je tedy znalost pandího objektu `Series` tak důležitá?\n",
    "\n",
    "Na první pohled není tolik odlišný od datového typu `list` nebo `tuple` (případně pole v `numpy`)."
   ]
  },
  {
   "cell_type": "markdown",
   "id": "functional-grocery",
   "metadata": {},
   "source": [
    "Největší rozdíl spočítá v tzv. **indexu**.\n",
    "\n",
    "Ať `list`, `tuple` nebo `numpy.array` implicitně pracují s celočíselným indexem.\n",
    "\n",
    "Objekt `Series` na druhou stranu nabízí možnost, zadávat vlastní indexové hodnoty:"
   ]
  },
  {
   "cell_type": "code",
   "execution_count": 13,
   "id": "latin-norman",
   "metadata": {},
   "outputs": [],
   "source": [
    "mesta_df = Series([\"Praha\", \"Brno\", \"Ostrava\", \"Hradek Králové\"],\n",
    "                  index=[\"1_mesto\", \"2_mesto\", \"3_mesto\", \"4_mesto\"])"
   ]
  },
  {
   "cell_type": "code",
   "execution_count": 15,
   "id": "scheduled-begin",
   "metadata": {},
   "outputs": [
    {
     "data": {
      "text/plain": [
       "Index(['1_mesto', '2_mesto', '3_mesto', '4_mesto'], dtype='object')"
      ]
     },
     "execution_count": 15,
     "metadata": {},
     "output_type": "execute_result"
    }
   ],
   "source": [
    "mesta_df.index"
   ]
  },
  {
   "cell_type": "code",
   "execution_count": 16,
   "id": "lesser-player",
   "metadata": {},
   "outputs": [
    {
     "data": {
      "text/plain": [
       "1_mesto             Praha\n",
       "2_mesto              Brno\n",
       "3_mesto           Ostrava\n",
       "4_mesto    Hradek Králové\n",
       "dtype: object"
      ]
     },
     "execution_count": 16,
     "metadata": {},
     "output_type": "execute_result"
    }
   ],
   "source": [
    "mesta_df"
   ]
  },
  {
   "cell_type": "code",
   "execution_count": 17,
   "id": "theoretical-digit",
   "metadata": {},
   "outputs": [
    {
     "data": {
      "text/plain": [
       "'Praha'"
      ]
     },
     "execution_count": 17,
     "metadata": {},
     "output_type": "execute_result"
    }
   ],
   "source": [
    "mesta_df[\"1_mesto\"]"
   ]
  },
  {
   "cell_type": "markdown",
   "id": "broke-lecture",
   "metadata": {},
   "source": [
    "Tímto způsobem si můžeš představit řadu, sloupec (`Series`) jako variantu datového typu `dict`, v Pythonu."
   ]
  },
  {
   "cell_type": "markdown",
   "id": "economic-review",
   "metadata": {},
   "source": [
    "Víš, že ve slovníku Pythonu jsou hodnoty mapované na jednotlivé klíče.\n",
    "\n",
    "V případě `Series` jde o mapování **typovaných hodnot** na **typované klíče**. Právě pojem **typovaný** (~*type-specific*) je zásadní.\n",
    "\n",
    "Právě *typovaný* zkompilovaný kód od `Series` nabízí některé efektivnější metody a funkce, které obyč. `dict` v Pythonu ne."
   ]
  },
  {
   "cell_type": "code",
   "execution_count": 19,
   "id": "diagnostic-geometry",
   "metadata": {},
   "outputs": [],
   "source": [
    "populace_evropa = {\n",
    "    'Dansko': 5_655_750,\n",
    "    'Ceska_republika': 10_513_209,\n",
    "    'Nemecko': 80_716_000,\n",
    "    'Polsko': 38_483_957,\n",
    "    'Slovensko': 5_415_949,\n",
    "    'Rakousko': 8_932_664\n",
    "}"
   ]
  },
  {
   "cell_type": "code",
   "execution_count": 21,
   "id": "exempt-alexandria",
   "metadata": {},
   "outputs": [],
   "source": [
    "populace_df = Series(populace_evropa)"
   ]
  },
  {
   "cell_type": "markdown",
   "id": "electronic-trunk",
   "metadata": {},
   "source": [
    "Defaultně ti objekt `Series` nachystá index ze seřazených klíčů původního datového typu `dict`.\n",
    "\n",
    "Můžeš provést klasické mapování hodnoty na jméno klíče:"
   ]
  },
  {
   "cell_type": "code",
   "execution_count": 22,
   "id": "clean-psychology",
   "metadata": {},
   "outputs": [
    {
     "data": {
      "text/plain": [
       "10513209"
      ]
     },
     "execution_count": 22,
     "metadata": {},
     "output_type": "execute_result"
    }
   ],
   "source": [
    "populace_df[\"Ceska_republika\"]"
   ]
  },
  {
   "cell_type": "markdown",
   "id": "cloudy-pasta",
   "metadata": {},
   "source": [
    "K tomu, ale `Series` nabízí operace jako např. slicing pro pole:"
   ]
  },
  {
   "cell_type": "code",
   "execution_count": 24,
   "id": "swiss-calvin",
   "metadata": {},
   "outputs": [
    {
     "data": {
      "text/plain": [
       "Ceska_republika    10513209\n",
       "Nemecko            80716000\n",
       "Polsko             38483957\n",
       "dtype: int64"
      ]
     },
     "execution_count": 24,
     "metadata": {},
     "output_type": "execute_result"
    }
   ],
   "source": [
    "populace_df[\"Ceska_republika\": \"Polsko\"]"
   ]
  },
  {
   "cell_type": "markdown",
   "id": "genetic-hudson",
   "metadata": {},
   "source": [
    "Další procesy uvidíš následně v průběhu příštích lekcí."
   ]
  },
  {
   "cell_type": "markdown",
   "id": "sealed-moment",
   "metadata": {},
   "source": [
    "### DataFrame\n",
    "\n",
    "Dalím elementárním datovým typem této knihovny je `DataFrame`.\n",
    "\n",
    "Analogicky si jej můžeš představit jako tabulky v Excelu.\n",
    "\n",
    "Tedy objekt složený z řádků (indexů) a sloupců (`Series`)."
   ]
  },
  {
   "cell_type": "code",
   "execution_count": null,
   "id": "extensive-connectivity",
   "metadata": {},
   "outputs": [],
   "source": [
    "# obrazek"
   ]
  },
  {
   "cell_type": "markdown",
   "id": "excessive-island",
   "metadata": {},
   "source": [
    "Takový objekt budeš potřebovat, pokud již nepůjde o jedno-dimenzionální rozměr hodnoty:"
   ]
  },
  {
   "cell_type": "code",
   "execution_count": 25,
   "id": "sweet-pearl",
   "metadata": {},
   "outputs": [],
   "source": [
    "populace_evropa = {\n",
    "    'Dansko': 5_655_750,\n",
    "    'Ceska_republika': 10_513_209,\n",
    "    'Nemecko': 80_716_000,\n",
    "    'Polsko': 38_483_957,\n",
    "    'Slovensko': 5_415_949,\n",
    "    'Rakousko': 8_932_664\n",
    "}"
   ]
  },
  {
   "cell_type": "code",
   "execution_count": 26,
   "id": "imported-directory",
   "metadata": {},
   "outputs": [],
   "source": [
    "rozloha_evropa = {\n",
    "    'Dansko': 42_916,\n",
    "    'Ceska_republika': 78_870,\n",
    "    'Nemecko': 357_168,\n",
    "    'Polsko': 312_679,\n",
    "    'Slovensko': 49_035,\n",
    "    'Rakousko': 83_878\n",
    "}"
   ]
  },
  {
   "cell_type": "code",
   "execution_count": 27,
   "id": "related-counter",
   "metadata": {},
   "outputs": [],
   "source": [
    "from pandas import DataFrame"
   ]
  },
  {
   "cell_type": "code",
   "execution_count": 28,
   "id": "regulation-thread",
   "metadata": {},
   "outputs": [],
   "source": [
    "zeme_evropa_df = DataFrame({\"populace\": populace_evropa, \"rozloha\": rozloha_evropa})"
   ]
  },
  {
   "cell_type": "code",
   "execution_count": 29,
   "id": "seeing-flavor",
   "metadata": {},
   "outputs": [
    {
     "data": {
      "text/html": [
       "<div>\n",
       "<style scoped>\n",
       "    .dataframe tbody tr th:only-of-type {\n",
       "        vertical-align: middle;\n",
       "    }\n",
       "\n",
       "    .dataframe tbody tr th {\n",
       "        vertical-align: top;\n",
       "    }\n",
       "\n",
       "    .dataframe thead th {\n",
       "        text-align: right;\n",
       "    }\n",
       "</style>\n",
       "<table border=\"1\" class=\"dataframe\">\n",
       "  <thead>\n",
       "    <tr style=\"text-align: right;\">\n",
       "      <th></th>\n",
       "      <th>populace</th>\n",
       "      <th>rozloha</th>\n",
       "    </tr>\n",
       "  </thead>\n",
       "  <tbody>\n",
       "    <tr>\n",
       "      <th>Dansko</th>\n",
       "      <td>5655750</td>\n",
       "      <td>42916</td>\n",
       "    </tr>\n",
       "    <tr>\n",
       "      <th>Ceska_republika</th>\n",
       "      <td>10513209</td>\n",
       "      <td>78870</td>\n",
       "    </tr>\n",
       "    <tr>\n",
       "      <th>Nemecko</th>\n",
       "      <td>80716000</td>\n",
       "      <td>357168</td>\n",
       "    </tr>\n",
       "    <tr>\n",
       "      <th>Polsko</th>\n",
       "      <td>38483957</td>\n",
       "      <td>312679</td>\n",
       "    </tr>\n",
       "    <tr>\n",
       "      <th>Slovensko</th>\n",
       "      <td>5415949</td>\n",
       "      <td>49035</td>\n",
       "    </tr>\n",
       "    <tr>\n",
       "      <th>Rakousko</th>\n",
       "      <td>8932664</td>\n",
       "      <td>83878</td>\n",
       "    </tr>\n",
       "  </tbody>\n",
       "</table>\n",
       "</div>"
      ],
      "text/plain": [
       "                 populace  rozloha\n",
       "Dansko            5655750    42916\n",
       "Ceska_republika  10513209    78870\n",
       "Nemecko          80716000   357168\n",
       "Polsko           38483957   312679\n",
       "Slovensko         5415949    49035\n",
       "Rakousko          8932664    83878"
      ]
     },
     "execution_count": 29,
     "metadata": {},
     "output_type": "execute_result"
    }
   ],
   "source": [
    "zeme_evropa_df"
   ]
  },
  {
   "cell_type": "markdown",
   "id": "reduced-prediction",
   "metadata": {},
   "source": [
    "Stejně jako u `Series` má i `DataFrame` svoje *indexy*:"
   ]
  },
  {
   "cell_type": "code",
   "execution_count": 30,
   "id": "aware-feedback",
   "metadata": {},
   "outputs": [
    {
     "data": {
      "text/plain": [
       "Index(['Dansko', 'Ceska_republika', 'Nemecko', 'Polsko', 'Slovensko',\n",
       "       'Rakousko'],\n",
       "      dtype='object')"
      ]
     },
     "execution_count": 30,
     "metadata": {},
     "output_type": "execute_result"
    }
   ],
   "source": [
    "zeme_evropa_df.index"
   ]
  },
  {
   "cell_type": "markdown",
   "id": "outer-fundamentals",
   "metadata": {},
   "source": [
    "Navíc můžeš pracovat s atributem `columns`, který drží jména jednotlivých sloupečků:"
   ]
  },
  {
   "cell_type": "code",
   "execution_count": 31,
   "id": "hispanic-mortgage",
   "metadata": {},
   "outputs": [
    {
     "data": {
      "text/plain": [
       "Index(['populace', 'rozloha'], dtype='object')"
      ]
     },
     "execution_count": 31,
     "metadata": {},
     "output_type": "execute_result"
    }
   ],
   "source": [
    "zeme_evropa_df.columns"
   ]
  },
  {
   "cell_type": "markdown",
   "id": "moving-andrew",
   "metadata": {},
   "source": [
    "Proto si můžeš objekt `DataFrame` představit také jako Pythonovský `dict`.\n",
    "\n",
    "Ovšem s tím rozdílem, že tentokrát mapuješ jméno sloupečku na `Series`:"
   ]
  },
  {
   "cell_type": "code",
   "execution_count": 37,
   "id": "single-mumbai",
   "metadata": {},
   "outputs": [
    {
     "data": {
      "text/plain": [
       "Dansko              5655750\n",
       "Ceska_republika    10513209\n",
       "Nemecko            80716000\n",
       "Polsko             38483957\n",
       "Slovensko           5415949\n",
       "Rakousko            8932664\n",
       "Name: populace, dtype: int64"
      ]
     },
     "execution_count": 37,
     "metadata": {},
     "output_type": "execute_result"
    }
   ],
   "source": [
    "zeme_evropa_df[\"populace\"]"
   ]
  },
  {
   "cell_type": "code",
   "execution_count": 38,
   "id": "respiratory-formation",
   "metadata": {},
   "outputs": [],
   "source": [
    "populace_z_df = zeme_evropa_df[\"populace\"]"
   ]
  },
  {
   "cell_type": "code",
   "execution_count": 39,
   "id": "acquired-steps",
   "metadata": {},
   "outputs": [
    {
     "data": {
      "text/plain": [
       "pandas.core.series.Series"
      ]
     },
     "execution_count": 39,
     "metadata": {},
     "output_type": "execute_result"
    }
   ],
   "source": [
    "type(populace_z_df)"
   ]
  },
  {
   "cell_type": "markdown",
   "id": "unlike-administration",
   "metadata": {},
   "source": [
    "Opatrně při vytváření nového `DataFrame`, u chybějících klíčů implictině zapisuje `Nan` hodnotu (~*not a number*):"
   ]
  },
  {
   "cell_type": "code",
   "execution_count": 47,
   "id": "wired-protection",
   "metadata": {},
   "outputs": [],
   "source": [
    "chybejici_hodnoty_df = DataFrame(\n",
    "    [\n",
    "        {\"a\": 1, \"b\": 4},\n",
    "        {\"c\": 6, \"b\": 7}\n",
    "    ])"
   ]
  },
  {
   "cell_type": "code",
   "execution_count": 48,
   "id": "organic-separate",
   "metadata": {},
   "outputs": [
    {
     "data": {
      "text/html": [
       "<div>\n",
       "<style scoped>\n",
       "    .dataframe tbody tr th:only-of-type {\n",
       "        vertical-align: middle;\n",
       "    }\n",
       "\n",
       "    .dataframe tbody tr th {\n",
       "        vertical-align: top;\n",
       "    }\n",
       "\n",
       "    .dataframe thead th {\n",
       "        text-align: right;\n",
       "    }\n",
       "</style>\n",
       "<table border=\"1\" class=\"dataframe\">\n",
       "  <thead>\n",
       "    <tr style=\"text-align: right;\">\n",
       "      <th></th>\n",
       "      <th>a</th>\n",
       "      <th>b</th>\n",
       "      <th>c</th>\n",
       "    </tr>\n",
       "  </thead>\n",
       "  <tbody>\n",
       "    <tr>\n",
       "      <th>0</th>\n",
       "      <td>1.0</td>\n",
       "      <td>4</td>\n",
       "      <td>NaN</td>\n",
       "    </tr>\n",
       "    <tr>\n",
       "      <th>1</th>\n",
       "      <td>NaN</td>\n",
       "      <td>7</td>\n",
       "      <td>6.0</td>\n",
       "    </tr>\n",
       "  </tbody>\n",
       "</table>\n",
       "</div>"
      ],
      "text/plain": [
       "     a  b    c\n",
       "0  1.0  4  NaN\n",
       "1  NaN  7  6.0"
      ]
     },
     "execution_count": 48,
     "metadata": {},
     "output_type": "execute_result"
    }
   ],
   "source": [
    "chybejici_hodnoty_df"
   ]
  },
  {
   "cell_type": "markdown",
   "id": "activated-surface",
   "metadata": {},
   "source": [
    "Navíc si můžeš všimnout rozdílné definice **datového typu**:"
   ]
  },
  {
   "cell_type": "code",
   "execution_count": 55,
   "id": "cutting-interaction",
   "metadata": {},
   "outputs": [
    {
     "data": {
      "text/plain": [
       "a    float64\n",
       "b      int64\n",
       "c    float64\n",
       "dtype: object"
      ]
     },
     "execution_count": 55,
     "metadata": {},
     "output_type": "execute_result"
    }
   ],
   "source": [
    "chybejici_hodnoty_df.dtypes"
   ]
  },
  {
   "cell_type": "code",
   "execution_count": 58,
   "id": "korean-blair",
   "metadata": {},
   "outputs": [
    {
     "data": {
      "text/plain": [
       "0    1.0\n",
       "1    NaN\n",
       "Name: a, dtype: float64"
      ]
     },
     "execution_count": 58,
     "metadata": {},
     "output_type": "execute_result"
    }
   ],
   "source": [
    "chybejici_hodnoty_df[\"a\"]"
   ]
  },
  {
   "cell_type": "code",
   "execution_count": 60,
   "id": "better-renaissance",
   "metadata": {},
   "outputs": [],
   "source": [
    "konvertovany_sl_a = chybejici_hodnoty_df[\"a\"].convert_dtypes()"
   ]
  },
  {
   "cell_type": "code",
   "execution_count": 61,
   "id": "advised-organic",
   "metadata": {},
   "outputs": [
    {
     "data": {
      "text/plain": [
       "0       1\n",
       "1    <NA>\n",
       "Name: a, dtype: Int64"
      ]
     },
     "execution_count": 61,
     "metadata": {},
     "output_type": "execute_result"
    }
   ],
   "source": [
    "konvertovany_sl_a"
   ]
  },
  {
   "cell_type": "markdown",
   "id": "global-newcastle",
   "metadata": {},
   "source": [
    "Více si o přetypování obecně a dozvíš později."
   ]
  },
  {
   "cell_type": "markdown",
   "id": "dimensional-seller",
   "metadata": {},
   "source": [
    "### Index\n",
    "\n",
    "Posledním ze základních objektů frameworku `pandas` je tedy **index**.\n",
    "\n",
    "Jak `Series`, tak `DataFrame` v sobě *index* obsahují.\n",
    "\n",
    "Pro jednoduchost, si jej můžeš představit jako označení jednotlivých řádků v tabulce."
   ]
  },
  {
   "cell_type": "code",
   "execution_count": 62,
   "id": "deluxe-dragon",
   "metadata": {},
   "outputs": [],
   "source": [
    "from pandas import Index"
   ]
  },
  {
   "cell_type": "code",
   "execution_count": 63,
   "id": "productive-kuwait",
   "metadata": {},
   "outputs": [],
   "source": [
    "indexy = Index([2, 3, 4, 5])"
   ]
  },
  {
   "cell_type": "code",
   "execution_count": 64,
   "id": "southwest-extent",
   "metadata": {},
   "outputs": [
    {
     "data": {
      "text/plain": [
       "Int64Index([2, 3, 4, 5], dtype='int64')"
      ]
     },
     "execution_count": 64,
     "metadata": {},
     "output_type": "execute_result"
    }
   ],
   "source": [
    "indexy"
   ]
  },
  {
   "cell_type": "markdown",
   "id": "driven-innocent",
   "metadata": {},
   "source": [
    "##### Indexování indexů"
   ]
  },
  {
   "cell_type": "code",
   "execution_count": 65,
   "id": "egyptian-cleveland",
   "metadata": {
    "scrolled": true
   },
   "outputs": [
    {
     "data": {
      "text/plain": [
       "4"
      ]
     },
     "execution_count": 65,
     "metadata": {},
     "output_type": "execute_result"
    }
   ],
   "source": [
    "indexy[2]"
   ]
  },
  {
   "cell_type": "markdown",
   "id": "excited-lawsuit",
   "metadata": {},
   "source": [
    "##### Slicování indexů"
   ]
  },
  {
   "cell_type": "code",
   "execution_count": 66,
   "id": "contemporary-sympathy",
   "metadata": {},
   "outputs": [
    {
     "data": {
      "text/plain": [
       "Int64Index([2, 3, 4], dtype='int64')"
      ]
     },
     "execution_count": 66,
     "metadata": {},
     "output_type": "execute_result"
    }
   ],
   "source": [
    "indexy[:3]"
   ]
  },
  {
   "cell_type": "markdown",
   "id": "increased-bronze",
   "metadata": {},
   "source": [
    "##### Nezměnitelný objekt"
   ]
  },
  {
   "cell_type": "code",
   "execution_count": 67,
   "id": "atomic-update",
   "metadata": {},
   "outputs": [
    {
     "ename": "TypeError",
     "evalue": "Index does not support mutable operations",
     "output_type": "error",
     "traceback": [
      "\u001b[0;31m---------------------------------------------------------------------------\u001b[0m",
      "\u001b[0;31mTypeError\u001b[0m                                 Traceback (most recent call last)",
      "\u001b[0;32m<ipython-input-67-0434b9917c8c>\u001b[0m in \u001b[0;36m<module>\u001b[0;34m\u001b[0m\n\u001b[0;32m----> 1\u001b[0;31m \u001b[0mindexy\u001b[0m\u001b[0;34m[\u001b[0m\u001b[0;36m2\u001b[0m\u001b[0;34m]\u001b[0m \u001b[0;34m=\u001b[0m \u001b[0;36m3\u001b[0m\u001b[0;34m\u001b[0m\u001b[0;34m\u001b[0m\u001b[0m\n\u001b[0m",
      "\u001b[0;32m/opt/conda/lib/python3.8/site-packages/pandas/core/indexes/base.py\u001b[0m in \u001b[0;36m__setitem__\u001b[0;34m(self, key, value)\u001b[0m\n\u001b[1;32m   4275\u001b[0m     \u001b[0;34m@\u001b[0m\u001b[0mfinal\u001b[0m\u001b[0;34m\u001b[0m\u001b[0;34m\u001b[0m\u001b[0m\n\u001b[1;32m   4276\u001b[0m     \u001b[0;32mdef\u001b[0m \u001b[0m__setitem__\u001b[0m\u001b[0;34m(\u001b[0m\u001b[0mself\u001b[0m\u001b[0;34m,\u001b[0m \u001b[0mkey\u001b[0m\u001b[0;34m,\u001b[0m \u001b[0mvalue\u001b[0m\u001b[0;34m)\u001b[0m\u001b[0;34m:\u001b[0m\u001b[0;34m\u001b[0m\u001b[0;34m\u001b[0m\u001b[0m\n\u001b[0;32m-> 4277\u001b[0;31m         \u001b[0;32mraise\u001b[0m \u001b[0mTypeError\u001b[0m\u001b[0;34m(\u001b[0m\u001b[0;34m\"Index does not support mutable operations\"\u001b[0m\u001b[0;34m)\u001b[0m\u001b[0;34m\u001b[0m\u001b[0;34m\u001b[0m\u001b[0m\n\u001b[0m\u001b[1;32m   4278\u001b[0m \u001b[0;34m\u001b[0m\u001b[0m\n\u001b[1;32m   4279\u001b[0m     \u001b[0;32mdef\u001b[0m \u001b[0m__getitem__\u001b[0m\u001b[0;34m(\u001b[0m\u001b[0mself\u001b[0m\u001b[0;34m,\u001b[0m \u001b[0mkey\u001b[0m\u001b[0;34m)\u001b[0m\u001b[0;34m:\u001b[0m\u001b[0;34m\u001b[0m\u001b[0;34m\u001b[0m\u001b[0m\n",
      "\u001b[0;31mTypeError\u001b[0m: Index does not support mutable operations"
     ]
    }
   ],
   "source": [
    "indexy[2] = 3"
   ]
  },
  {
   "cell_type": "markdown",
   "id": "impressed-caribbean",
   "metadata": {},
   "source": [
    "Tato nezměnitelnost slouží k větší bezpečnosti, protože jednotlivé indexy, může sdílet více `DataFrame`."
   ]
  },
  {
   "cell_type": "markdown",
   "id": "intense-chamber",
   "metadata": {},
   "source": [
    "##### Index jako seřazený set"
   ]
  },
  {
   "cell_type": "code",
   "execution_count": 68,
   "id": "weighted-slovakia",
   "metadata": {},
   "outputs": [],
   "source": [
    "indexy_a = Index([1, 2, 3, 4])\n",
    "indexy_b = Index([3, 4, 5, 6])"
   ]
  },
  {
   "cell_type": "code",
   "execution_count": 70,
   "id": "diagnostic-colonial",
   "metadata": {},
   "outputs": [
    {
     "data": {
      "text/plain": [
       "Int64Index([3, 4], dtype='int64')"
      ]
     },
     "execution_count": 70,
     "metadata": {},
     "output_type": "execute_result"
    }
   ],
   "source": [
    "indexy_a.intersection(indexy_b)"
   ]
  },
  {
   "cell_type": "code",
   "execution_count": 71,
   "id": "binary-adrian",
   "metadata": {},
   "outputs": [
    {
     "data": {
      "text/plain": [
       "Int64Index([1, 2, 3, 4, 5, 6], dtype='int64')"
      ]
     },
     "execution_count": 71,
     "metadata": {},
     "output_type": "execute_result"
    }
   ],
   "source": [
    "indexy_a.union(indexy_b)"
   ]
  },
  {
   "cell_type": "code",
   "execution_count": null,
   "id": "bound-dispute",
   "metadata": {},
   "outputs": [],
   "source": []
  },
  {
   "cell_type": "markdown",
   "id": "pretty-hypothesis",
   "metadata": {},
   "source": [
    "tvorba DF, Series, File IO, (30 min + 5 min)\n",
    "\n",
    "    vytvoření jednoduchého DF,\n",
    "    výběr některých volitelných argumentů,\n",
    "    vstupy souborů: csv, excel, txt, xml, HTML.\n",
    "    cvičení 01,\n"
   ]
  },
  {
   "cell_type": "code",
   "execution_count": null,
   "id": "perfect-mason",
   "metadata": {},
   "outputs": [],
   "source": []
  }
 ],
 "metadata": {
  "kernelspec": {
   "display_name": "Python 3",
   "language": "python",
   "name": "python3"
  },
  "language_info": {
   "codemirror_mode": {
    "name": "ipython",
    "version": 3
   },
   "file_extension": ".py",
   "mimetype": "text/x-python",
   "name": "python",
   "nbconvert_exporter": "python",
   "pygments_lexer": "ipython3",
   "version": "3.8.6"
  }
 },
 "nbformat": 4,
 "nbformat_minor": 5
}

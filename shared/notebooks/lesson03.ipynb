{
 "cells": [
  {
   "cell_type": "markdown",
   "id": "3bd42711-2b11-4c2c-abf2-10a3086f7741",
   "metadata": {},
   "source": [
    "* [Spojování dat](#Spojování-dat),\n",
    "    - [spojování s concat](#Spojování-s-concat),\n",
    "    - [spojování s concat a arg. join](#concat-a-volitelný-argument-join),\n",
    "    - [spojování s metodou append](#Spojování-pomocí-metody-append),\n",
    "    - [spojování s merge](#Spojování-pomocí-merge),\n",
    "    - [spojování s metodou join](#Spojení-pomocí-indexů,-join),\n",
    "    - [cvičení 1]().\n",
    "* [Agregace](),\n",
    "    - [jednoduchá agregace](),\n",
    "    - [seskupování groupby](),\n",
    "    - [agregace](),\n",
    "    - [filtrování](),\n",
    "    - [transformace](),\n",
    "    - [apply](),\n",
    "    - [cvičení 2]().\n",
    "* [Pivot tabulka](),\n",
    "    - [úvodní motivace](),\n",
    "    - [syntaxe tabulky](),\n",
    "    - [doplňující možnosti](),\n",
    "    - [cvičení 3]().\n",
    "* [Časové řady](),\n",
    "    - [úvodní motivace](),\n",
    "    - [datum & čas](),\n",
    "    - [četnosti](),\n",
    "    - [resampling](),\n",
    "    - [cvičení 4]().\n",
    "* [High performance](),\n",
    "    - [úvodní motivace](),\n",
    "    - [eval](),\n",
    "    - [query](),\n",
    "    - [caveats]()."
   ]
  },
  {
   "cell_type": "code",
   "execution_count": null,
   "id": "dc7b26b0-ec06-41d3-862e-f40b91ddfccb",
   "metadata": {},
   "outputs": [],
   "source": []
  },
  {
   "cell_type": "markdown",
   "id": "476d0b01-c1d4-4b96-b9bb-ac4db5910d71",
   "metadata": {},
   "source": [
    "<br>\n",
    "\n",
    "## Spojování dat\n",
    "\n",
    "---\n",
    "\n",
    "\n",
    "<img src=\"https://external-content.duckduckgo.com/iu/?u=https%3A%2F%2Ftse1.mm.bing.net%2Fth%3Fid%3DOIP.APOjuHGvkM0wQaUx9ELKAgHaHa%26pid%3DApi&f=1&ipt=a8b2b692c40e190d4b28c164bf13e6c944702a69944035a4ef9053aa6ea1b190&ipo=images\" width=\"160\" style=\"margin-left:auto; margin-right:auto\"/>\n",
    "\n",
    "Takovými operacemi si můžeš představit jednoduché operace jako **spojování** (*konkatenace*) **dvou a více datasetů** až po složitější joiny podobně jako u databází.\n",
    "\n",
    "`pandas` obsahuje různé *funkce* a *metody*, které umožňují tento způsob práce."
   ]
  },
  {
   "cell_type": "markdown",
   "id": "969f0749-be1e-4521-b653-7f6098d4f1a3",
   "metadata": {},
   "source": [
    "### Spojování s `concat`\n",
    "\n",
    "---"
   ]
  },
  {
   "cell_type": "markdown",
   "id": "db455b3f-4d85-414d-abc1-45e722b6f64b",
   "metadata": {},
   "source": [
    "Funkce concat() v pandas umožňuje spojit dva nebo více:\n",
    "1. sloupečků,\n",
    "2. tabulek.\n",
    "\n",
    "*Spojení* můžeš provést:\n",
    "1. **horizontálně**, po sloupcích,\n",
    "2. **vertikálně**, po řádcích.\n",
    "\n",
    "Použití funkce `concat()` spočívá v předání seznamu objektů, které chceš spojit, a parametru `axis`, který určuje osu, podle které se májí objekty spojit:"
   ]
  },
  {
   "cell_type": "markdown",
   "id": "33b4d898-86bc-4126-80be-bcbae8921490",
   "metadata": {},
   "source": [
    "#### Spojení sloupečků"
   ]
  },
  {
   "cell_type": "code",
   "execution_count": null,
   "id": "72ae4dd7-eb09-45b8-aefb-99d94865c322",
   "metadata": {
    "tags": []
   },
   "outputs": [],
   "source": [
    "from pandas import concat, Series, DataFrame"
   ]
  },
  {
   "cell_type": "code",
   "execution_count": null,
   "id": "375df825-8292-4813-92cc-c0416feeed64",
   "metadata": {
    "tags": []
   },
   "outputs": [],
   "source": [
    "sloupec_1 = Series(['A', 'B', 'C'], index=[1, 2, 3])\n",
    "sloupec_2 = Series(['D', 'E', 'F'], index=[4, 5, 6])"
   ]
  },
  {
   "cell_type": "code",
   "execution_count": null,
   "id": "64ac7fdc-822c-4c2e-b237-c030650c598c",
   "metadata": {
    "tags": []
   },
   "outputs": [],
   "source": [
    "spojene_sloupce = concat([sloupec_1, sloupec_2])"
   ]
  },
  {
   "cell_type": "code",
   "execution_count": null,
   "id": "2254cc8c-bf16-454a-b68a-9288fb54ec64",
   "metadata": {
    "tags": []
   },
   "outputs": [],
   "source": [
    "spojene_sloupce"
   ]
  },
  {
   "cell_type": "markdown",
   "id": "4a4665ca-69b9-4410-a803-3c58d60370eb",
   "metadata": {},
   "source": [
    "#### Spojení tabulek"
   ]
  },
  {
   "cell_type": "code",
   "execution_count": null,
   "id": "35311e59-0ec5-44f3-b6bb-b924a176ac2f",
   "metadata": {
    "tags": []
   },
   "outputs": [],
   "source": [
    "uzivatele_1 = {\n",
    "    'jmeno': ['Matouš', 'Marek', 'Lukáš'],\n",
    "    'vek': [25, 30, 35]\n",
    "}"
   ]
  },
  {
   "cell_type": "code",
   "execution_count": null,
   "id": "a5c374d6-1181-417f-96db-5039b0358660",
   "metadata": {
    "tags": []
   },
   "outputs": [],
   "source": [
    "uzivatele_2 = {\n",
    "    'jmeno': ['Petr', 'Jan', 'Michal'],\n",
    "    'vek': [40, 45, 50]\n",
    "}"
   ]
  },
  {
   "cell_type": "code",
   "execution_count": null,
   "id": "ad4422ca-df80-4e54-9f01-6b32134590fe",
   "metadata": {
    "tags": []
   },
   "outputs": [],
   "source": [
    "df_uzivatele_1 = DataFrame(uzivatele_1)\n",
    "df_uzivatele_2 = DataFrame(uzivatele_2)"
   ]
  },
  {
   "cell_type": "code",
   "execution_count": null,
   "id": "ce04792a-270c-4dce-960f-bbd801b6306e",
   "metadata": {
    "tags": []
   },
   "outputs": [],
   "source": [
    "df_spojene = concat([df_uzivatele_1, df_uzivatele_2], axis=0)"
   ]
  },
  {
   "cell_type": "code",
   "execution_count": null,
   "id": "86971418-4198-4cf1-b339-9c091f1cbfb1",
   "metadata": {
    "tags": []
   },
   "outputs": [],
   "source": [
    "df_spojene.head()"
   ]
  },
  {
   "cell_type": "markdown",
   "id": "5623de41-d544-4a0c-94a6-4459a94bb5d1",
   "metadata": {},
   "source": [
    "Tady se ovšem zduplikovali hodnoty některých indexů.\n",
    "\n",
    "Ty je potřeba opravit tímto postupem:\n",
    "1. **Vytvořím nový sloupeček** pro indexy,\n",
    "2. **odstraním starý sloupeček** s duplicitami."
   ]
  },
  {
   "cell_type": "code",
   "execution_count": null,
   "id": "03c422e2-caf0-48dd-bdde-b6eb9d5b8dbf",
   "metadata": {
    "tags": []
   },
   "outputs": [],
   "source": [
    "df_spojene = df_spojene.reset_index()"
   ]
  },
  {
   "cell_type": "code",
   "execution_count": null,
   "id": "322556f5-362f-42bf-8780-7fa1f9ff427c",
   "metadata": {
    "tags": []
   },
   "outputs": [],
   "source": [
    "df_spojene.head()"
   ]
  },
  {
   "cell_type": "code",
   "execution_count": null,
   "id": "9845897b-1399-436e-b600-64e9be6b5de6",
   "metadata": {
    "tags": []
   },
   "outputs": [],
   "source": [
    "df_spojene = df_spojene.drop(\"index\", axis=1)"
   ]
  },
  {
   "cell_type": "code",
   "execution_count": null,
   "id": "3561712e-e822-4651-aef3-10137ecc1e43",
   "metadata": {
    "tags": []
   },
   "outputs": [],
   "source": [
    "df_spojene"
   ]
  },
  {
   "cell_type": "markdown",
   "id": "c2c5aa6b-4e12-4572-8a3a-f1c32d25b6bd",
   "metadata": {},
   "source": [
    "Pro odchytávání duplicitních indexů můžeš doplnit parametr `verify_integrity=True`, případně pokud je irelevantní, ignorovat jej úplně `ignore_index=True`."
   ]
  },
  {
   "cell_type": "markdown",
   "id": "45204c76-11e0-4017-9dfd-b36462d4a3ee",
   "metadata": {},
   "source": [
    "### `concat` a volitelný argument `join`\n",
    "\n",
    "---\n",
    "\n",
    "V jednoduchých ukázkách, jako jsou ty výše, stačilo tabulky a sloupečky spojit.\n",
    "\n",
    "To prakticky není vždy ideální řešení, protože některé sloupečky můžou, ale nemusí být shodné."
   ]
  },
  {
   "cell_type": "code",
   "execution_count": null,
   "id": "763529ea-621b-47e5-aef4-352899250736",
   "metadata": {
    "tags": []
   },
   "outputs": [],
   "source": [
    "from pandas import DataFrame, concat"
   ]
  },
  {
   "cell_type": "code",
   "execution_count": null,
   "id": "2c86c4b6-f51e-4020-85ad-345f04ddb349",
   "metadata": {
    "tags": []
   },
   "outputs": [],
   "source": [
    "df_vzorek_1 = DataFrame({\"A\": [\"A1\", \"A2\"], \"B\": [\"B1\", \"B2\"], \"C\": [\"C1\", \"C2\"]}, index=[1, 2])"
   ]
  },
  {
   "cell_type": "code",
   "execution_count": null,
   "id": "d6f7f59f-7661-4933-be46-9c93fb3de969",
   "metadata": {
    "tags": []
   },
   "outputs": [],
   "source": [
    "df_vzorek_2 = DataFrame({\"B\": [\"B3\", \"B4\"], \"C\": [\"C3\", \"C4\"], \"D\": [\"D3\", \"D4\"]}, index=[3, 4])"
   ]
  },
  {
   "cell_type": "code",
   "execution_count": null,
   "id": "fa296049-c68b-4852-83a9-a4849db26ec1",
   "metadata": {
    "tags": []
   },
   "outputs": [],
   "source": [
    "vystup = concat([df_vzorek_1, df_vzorek_2])"
   ]
  },
  {
   "cell_type": "code",
   "execution_count": null,
   "id": "18cf4d97-241b-4f2e-a8b9-abbb4c50bb2d",
   "metadata": {
    "tags": []
   },
   "outputs": [],
   "source": [
    "vystup"
   ]
  },
  {
   "cell_type": "markdown",
   "id": "8902715e-1df5-42e4-b0a7-9c87eb05ea21",
   "metadata": {},
   "source": [
    "Pokud některá data chybějí, jsou automaticky vyplněná jako **neznámé hodnoty**.\n",
    "\n",
    "Řešením takové situace můžeš být zavedení jiného způsobu spojování.\n",
    "\n",
    "Tedy nepoužívat defaultní argument `join='outer'`, ale `join='inner'`:"
   ]
  },
  {
   "cell_type": "code",
   "execution_count": null,
   "id": "ace35369-2102-44ee-8b89-81ca27dc93dd",
   "metadata": {
    "tags": []
   },
   "outputs": [],
   "source": [
    "vystup_bez_na = concat([df_vzorek_1, df_vzorek_2], join='inner')"
   ]
  },
  {
   "cell_type": "code",
   "execution_count": null,
   "id": "d82287a1-46ba-45a7-ba88-da85975d41c4",
   "metadata": {
    "tags": []
   },
   "outputs": [],
   "source": [
    "vystup_bez_na"
   ]
  },
  {
   "cell_type": "markdown",
   "id": "28430e90-f3bc-49ae-a759-bfc237d0a6d6",
   "metadata": {
    "tags": []
   },
   "source": [
    "### Spojování pomocí metody `append`\n",
    "\n",
    "---\n",
    "\n",
    "Jde **o zastaralé řešení**, ale přesto se s ním můžeš setkat.\n",
    "\n",
    "Jelikož je spojování natolik běžnou operací, vznikl ještě jeden způsob, který je dokonce stručnější jako `concat`.\n",
    "\n",
    "Jde o metodu `append`:"
   ]
  },
  {
   "cell_type": "code",
   "execution_count": null,
   "id": "c9ac63fd-005b-46bd-a1cb-2cf007ce9d68",
   "metadata": {
    "tags": []
   },
   "outputs": [],
   "source": [
    "df_vzorek_3 = DataFrame({\"A\": [\"A1\", \"A2\"], \"B\": [\"B1\", \"B2\"]}, index=[1, 2])"
   ]
  },
  {
   "cell_type": "code",
   "execution_count": null,
   "id": "85449410-4536-42ab-aaec-334f2ac33e49",
   "metadata": {
    "tags": []
   },
   "outputs": [],
   "source": [
    "df_vzorek_4 = DataFrame({\"A\": [\"A3\", \"A4\"], \"B\": [\"B3\", \"B4\"]}, index=[3, 4])"
   ]
  },
  {
   "cell_type": "code",
   "execution_count": null,
   "id": "0c513c5e-4705-4cde-84d6-d36ecad9a3c3",
   "metadata": {
    "tags": []
   },
   "outputs": [],
   "source": [
    "df_vzorek_3.append(df_vzorek_4)"
   ]
  },
  {
   "cell_type": "markdown",
   "id": "4f42a8c9-83b2-4f91-9f63-9a9c9ebf4f3d",
   "metadata": {
    "tags": []
   },
   "source": [
    "Tato metoda přitom neupravovala původní objekty (jako `append` a `extend` pro `list`), ale vytvořila nový objekt."
   ]
  },
  {
   "cell_type": "markdown",
   "id": "4acecf05-8147-4eaa-a1da-e92f23773de7",
   "metadata": {},
   "source": [
    "### Spojování pomocí `merge`\n",
    "\n",
    "---\n",
    "\n",
    "Další funkcí pro spojování `DataFrame` objektů je `merge`.\n",
    "\n",
    "Tato funkce je vhodná pro spojování DataFrame objektů, které **mají společné sloupce**.\n",
    "\n",
    "Můžeš lépe zadávat typ spojení (parametr `how='inner' | 'outer' | 'left' | 'join'`).\n",
    "\n",
    "Dále ti umožní definovat sloupec, nebo sloupce, na kterých chceš spojení provést (parametr `on`)."
   ]
  },
  {
   "cell_type": "code",
   "execution_count": null,
   "id": "20598d3f-7b23-4f4d-9a01-619ec8ec3521",
   "metadata": {
    "tags": []
   },
   "outputs": [],
   "source": [
    "from pandas import merge"
   ]
  },
  {
   "cell_type": "code",
   "execution_count": null,
   "id": "465cdc22-c9a5-43e0-a110-fed701304e6a",
   "metadata": {
    "tags": []
   },
   "outputs": [],
   "source": [
    "uzivatele_1 = {\n",
    "    'jmeno': ['Alice', 'Bob', 'Charlie', 'David'],\n",
    "     'vek': [25, 30, 35, 40],\n",
    "     'mesto': ['Brno', 'Praha', 'Plzen', 'Ostrava']\n",
    "}"
   ]
  },
  {
   "cell_type": "code",
   "execution_count": null,
   "id": "c4b86dc3-cf15-4a93-912d-6d15d9c7a00d",
   "metadata": {
    "tags": []
   },
   "outputs": [],
   "source": [
    "uzivatele_2 = {\n",
    "    'jmeno': ['Alice', 'David', 'Emma', 'Frank'],\n",
    "     'pocet_prijemcu': [100, 200, 150, 250]\n",
    "}"
   ]
  },
  {
   "cell_type": "code",
   "execution_count": null,
   "id": "5690632c-a016-4054-a3ee-f06b355bc2e3",
   "metadata": {
    "tags": []
   },
   "outputs": [],
   "source": [
    "df_uzivatele_1 = DataFrame(uzivatele_1)"
   ]
  },
  {
   "cell_type": "code",
   "execution_count": null,
   "id": "16511abf-bd8d-4ebb-8b02-0f477265419c",
   "metadata": {
    "tags": []
   },
   "outputs": [],
   "source": [
    "df_uzivatele_2 = DataFrame(uzivatele_2)"
   ]
  },
  {
   "cell_type": "code",
   "execution_count": null,
   "id": "4221d813-450f-48a3-9a24-d06d8dd70b43",
   "metadata": {
    "tags": []
   },
   "outputs": [],
   "source": [
    "vystup = merge(df_uzivatele_1, df_uzivatele_2, on='jmeno', how='outer')"
   ]
  },
  {
   "cell_type": "code",
   "execution_count": null,
   "id": "6bcc9d19-bb1f-49ec-be5a-42fc22ef0bc7",
   "metadata": {
    "tags": []
   },
   "outputs": [],
   "source": [
    "vystup"
   ]
  },
  {
   "cell_type": "markdown",
   "id": "893ccd60-21fa-4780-a9fa-0bbe4e71a712",
   "metadata": {},
   "source": [
    "Obecně platí, že pokud potřebuješ dva nebo více `DataFrame` objektů podle **společného sloupce nebo sloupců**, použij funkci `merge()`.\n",
    "\n",
    "Pokud chceš jenom **přidat další řádky nebo sloupce** do existujícího `DataFrame` objektu, použij funkci `concat`."
   ]
  },
  {
   "cell_type": "code",
   "execution_count": null,
   "id": "f7cbe2a1-d7eb-44cd-ab2a-e0b0cf455a9e",
   "metadata": {
    "tags": []
   },
   "outputs": [],
   "source": [
    "df_uzivatele_1"
   ]
  },
  {
   "cell_type": "code",
   "execution_count": null,
   "id": "d8ad5325-8860-4011-8171-fa0633d241da",
   "metadata": {
    "tags": []
   },
   "outputs": [],
   "source": [
    "df_uzivatele_2"
   ]
  },
  {
   "cell_type": "code",
   "execution_count": null,
   "id": "5ce9d9ea-97e9-4c04-a56f-05fc5f780a33",
   "metadata": {
    "tags": []
   },
   "outputs": [],
   "source": [
    "vystup_left_join = merge(df_uzivatele_1, df_uzivatele_2, on='jmeno', how='left')"
   ]
  },
  {
   "cell_type": "code",
   "execution_count": null,
   "id": "0c6dee23-79fb-4a93-b6bd-b6e137cebc69",
   "metadata": {
    "tags": []
   },
   "outputs": [],
   "source": [
    "vystup_left_join"
   ]
  },
  {
   "cell_type": "markdown",
   "id": "ff38f1ea-c615-41fc-8a7a-ee278e35a54a",
   "metadata": {},
   "source": [
    "V ukázce výš je použitý *left join*.\n",
    "\n",
    "Tedy ve výsledku uvidíš celou první (levou tabulku) a z druhé pouze ty záznamy, které mají ve spojovacím sloupci `jmeno` společnou hodnotu."
   ]
  },
  {
   "cell_type": "code",
   "execution_count": null,
   "id": "d1594a97-73c4-479b-a6bb-181e315a2164",
   "metadata": {
    "tags": []
   },
   "outputs": [],
   "source": [
    "df8 = DataFrame({\n",
    "    'jmeno': ['Bob', 'Jake', 'Lisa', 'Sue'],\n",
    "    'poradi': [1, 2, 3, 4]\n",
    "})"
   ]
  },
  {
   "cell_type": "code",
   "execution_count": null,
   "id": "7b4f169a-d8ae-444d-a719-0e1da4cc8caa",
   "metadata": {
    "tags": []
   },
   "outputs": [],
   "source": [
    "df9 = DataFrame({\n",
    "    'jmeno': ['Bob', 'Jake', 'Lisa', 'Sue'],\n",
    "    'poradi': [3, 1, 4, 2]\n",
    "})"
   ]
  },
  {
   "cell_type": "code",
   "execution_count": null,
   "id": "882c2d82-b78e-48fc-a9a3-bf5d689900c4",
   "metadata": {
    "tags": []
   },
   "outputs": [],
   "source": [
    "vystup_konflikt = merge(df8, df9, on=\"jmeno\")"
   ]
  },
  {
   "cell_type": "code",
   "execution_count": null,
   "id": "bf996d62-84b3-4fb7-b345-fa5fb9844828",
   "metadata": {
    "tags": []
   },
   "outputs": [],
   "source": [
    "vystup_konflikt"
   ]
  },
  {
   "cell_type": "markdown",
   "id": "67200b44-13cb-448b-b5e0-a12f1c8b87c5",
   "metadata": {},
   "source": [
    "Funkce sama doplní přípony, aby rozlišila mezi oběma původními sloupci.\n",
    "\n",
    "Pokud potřebuješ vlastní přípony, můžeš vyzkoušet volitelný argument pro `suffixes`:"
   ]
  },
  {
   "cell_type": "code",
   "execution_count": null,
   "id": "3eed1bd2-fcf6-4162-92c4-187f29aadc29",
   "metadata": {
    "tags": []
   },
   "outputs": [],
   "source": [
    "vystup_vlastni_pripony = merge(df8, df9, on='jmeno', suffixes=('_levy', '_pravy'))"
   ]
  },
  {
   "cell_type": "code",
   "execution_count": null,
   "id": "6dce8c00-2300-4d16-aa83-87c0ed8dc8fe",
   "metadata": {
    "tags": []
   },
   "outputs": [],
   "source": [
    "vystup_vlastni_pripony"
   ]
  },
  {
   "cell_type": "markdown",
   "id": "f2f3567d-0ba2-4b54-be57-9355daa8f8b0",
   "metadata": {},
   "source": [
    "### Spojení pomocí indexů, `join`\n",
    "\n",
    "---\n",
    "\n",
    "Tato metoda slouží k propojení dvou DataFrame objektů na základě jejich indexů nebo hodnot.\n",
    "\n",
    "Je velice podobná funkci `merge` ale je přímo součástí `DataFrame` objektu a je snazší ji aplikovat:"
   ]
  },
  {
   "cell_type": "code",
   "execution_count": null,
   "id": "633aef14-bf73-4ae8-9a31-b75d0d7d176f",
   "metadata": {
    "tags": []
   },
   "outputs": [],
   "source": [
    "uzivatele_1 = {\n",
    "    'jmeno': ['Alice', 'Bob', 'Petr'],\n",
    "     'vek': [25, 30, 35]\n",
    "}"
   ]
  },
  {
   "cell_type": "code",
   "execution_count": null,
   "id": "e7efc3b1-fbfd-47be-bb96-89e76d90e8d8",
   "metadata": {
    "tags": []
   },
   "outputs": [],
   "source": [
    "uzivatele_2 = {\n",
    "    'jmeno': ['Alice', 'Bob', 'Petr'],\n",
    "    'pocet_prijemcu': [100, 150, 200]\n",
    "}"
   ]
  },
  {
   "cell_type": "code",
   "execution_count": null,
   "id": "9e3d2226-17c3-4008-91a8-becd214b7cfc",
   "metadata": {
    "tags": []
   },
   "outputs": [],
   "source": [
    "df_uzivatele_1 = DataFrame(uzivatele_1)"
   ]
  },
  {
   "cell_type": "code",
   "execution_count": null,
   "id": "542c9723-9154-4ef3-91fa-342611a017ac",
   "metadata": {
    "tags": []
   },
   "outputs": [],
   "source": [
    "df_uzivatele_2 = DataFrame(uzivatele_2)"
   ]
  },
  {
   "cell_type": "code",
   "execution_count": null,
   "id": "ebc12d34-8656-4c5f-8591-8b0b33f4f8d5",
   "metadata": {
    "tags": []
   },
   "outputs": [],
   "source": [
    "df_uzivatele_1 = df_uzivatele_1.set_index('jmeno')\n",
    "df_uzivatele_2 = df_uzivatele_2.set_index('jmeno')"
   ]
  },
  {
   "cell_type": "code",
   "execution_count": null,
   "id": "cbbe0114-fba2-461d-9ced-7dd25e6afbc2",
   "metadata": {
    "tags": []
   },
   "outputs": [],
   "source": [
    "vysledek_join_metody = df_uzivatele_1.join(df_uzivatele_2)"
   ]
  },
  {
   "cell_type": "code",
   "execution_count": null,
   "id": "7b6f326f-7bfe-4f75-bcf2-a0ceca44f349",
   "metadata": {
    "tags": []
   },
   "outputs": [],
   "source": [
    "vysledek_join_metody"
   ]
  },
  {
   "cell_type": "markdown",
   "id": "12bb08a7-65b7-46eb-8350-1f5edc493ed4",
   "metadata": {},
   "source": [
    "Hlavní rozdíl mezi těmito funkcemi je způsob určení sloupce nebo sloupců, podle kterých se má propojení provést.\n",
    "\n",
    "Metoda `join()` propojuje DataFrame objekty **na základě jejich indexů**, zatímco funkce `merge()` umožňuje propojit `DataFrame` objekty **na základě hodnoty v jednom nebo více sloupcích**."
   ]
  },
  {
   "cell_type": "markdown",
   "id": "f2951487-42b9-44ed-9de4-4ae3451824cf",
   "metadata": {},
   "source": [
    "<br>\n",
    "\n",
    "**🧠 CVIČENÍ 🧠, procvič si spojování**"
   ]
  },
  {
   "cell_type": "markdown",
   "id": "6f5eebe9-25b9-46d3-8ca3-c40a8bd36ece",
   "metadata": {},
   "source": [
    "Máš dvě tabulky s informacemi o zákaznících tvé firmy.\n",
    "\n",
    "Tabulky `zakaznici_objednavky` a `zakaznici_info`.\n",
    "\n",
    "Tvým úkolem je propojit tyto tabulky podle zadání:\n",
    "1. Použij funkci `merge()` k propojení obou tabulek podle společného klíče, kterým je sloupec `id_zakaznika`,\n",
    "2. Použij funkci `concat()` k přidání sloupce `celkova_cena_objednavky`, který bude vypočítán jako součet ceny všech objednávek daného zákazníka,\n",
    "3. Vyfiltruj pouze informace o zákaznících ze státu `'USA'` a ulož výslednou tabulku."
   ]
  },
  {
   "cell_type": "code",
   "execution_count": null,
   "id": "f5d6c0e3-f947-4d13-a8e1-08f6654a73ff",
   "metadata": {
    "tags": []
   },
   "outputs": [],
   "source": [
    "import pandas as pd"
   ]
  },
  {
   "cell_type": "code",
   "execution_count": null,
   "id": "affb9245-4b4e-4315-afdb-3e1b080eafc0",
   "metadata": {
    "tags": []
   },
   "outputs": [],
   "source": [
    "df_zakaznici_info = pd.DataFrame({'id_zakaznika': [1, 2, 3, 4],\n",
    "                               'jmeno': ['Jan Novák', 'Petr Soukup', 'Marie Horáková', 'Jana Svobodová'],\n",
    "                               'adresa': ['Hlavní 15', 'Druhá 10', 'Třetí 25', 'Čtvrtá 20'],\n",
    "                               'mesto': ['Praha', 'Brno', 'Ostrava', 'New York'],\n",
    "                               'stat': ['CZ', 'CZ', 'CZ', 'USA']})"
   ]
  },
  {
   "cell_type": "code",
   "execution_count": null,
   "id": "3b807f21-94f8-4b6a-bf61-9baaf189b83f",
   "metadata": {
    "tags": []
   },
   "outputs": [],
   "source": [
    "df_zakaznici_objednavky = pd.DataFrame({'id_zakaznika': [1, 2, 3, 4, 1, 2],\n",
    "                                     'datum_objednavky': ['2022-01-01', '2022-02-01', '2022-03-01', '2022-04-01', '2022-05-01', '2022-06-01'],\n",
    "                                     'nazev_produktu': ['PC', 'Notebook', 'Monitor', 'Tiskarna', 'Myš', 'Klávesnice'],\n",
    "                                     'cena': [15000, 20000, 5000, 3000, 500, 800]})"
   ]
  },
  {
   "cell_type": "code",
   "execution_count": null,
   "id": "5652c78e-72f1-468b-96af-aa1eb8fb93e7",
   "metadata": {
    "tags": []
   },
   "outputs": [],
   "source": []
  },
  {
   "cell_type": "code",
   "execution_count": null,
   "id": "0b8ea553-eafb-4145-8fb8-0e4533b63077",
   "metadata": {
    "tags": []
   },
   "outputs": [],
   "source": []
  },
  {
   "cell_type": "markdown",
   "id": "7b8b3ec4-f154-432e-8eca-ebaed96445b1",
   "metadata": {},
   "source": [
    "<details>\n",
    "    <summary>▶️ Řešení</summary>\n",
    "    \n",
    "    ```python\n",
    "    spojene_tabulky = pd.merge(df_zakaznici_info, df_zakaznici_objednavky, on='id_zakaznika')\n",
    "\n",
    "    celkova_cena_objednavek = spojene_tabulky.groupby('id_zakaznika')['cena'].sum().reset_index()\n",
    "    celkova_cena_objednavek = celkova_cena_objednavek.rename(columns={'cena': 'celkova_cena_objednavky'})\n",
    "    spojene_tabulky = pd.concat([spojene_tabulky, celkova_cena_objednavek['celkova_cena_objednavky']], axis=1)\n",
    "\n",
    "    spojene_tabulky = spojene_tabulky[spojene_tabulky['stat'] == 'USA']\n",
    "    ```\n",
    "</details>"
   ]
  },
  {
   "cell_type": "code",
   "execution_count": null,
   "id": "7e66e7fc-f417-4f28-a410-736a31e9351c",
   "metadata": {},
   "outputs": [],
   "source": []
  },
  {
   "cell_type": "markdown",
   "id": "d6738783-f30e-4eea-95df-299a162ae692",
   "metadata": {},
   "source": [
    "## Agregace\n",
    "\n",
    "Seskupování a agregace jsou procesy, které patří k základní efektivní analýze dat."
   ]
  },
  {
   "cell_type": "markdown",
   "id": "701763f2-2a1a-4024-8b28-85a02dc1e398",
   "metadata": {},
   "source": [
    "### Jednoduchá agregace\n",
    "\n",
    "Přesto, že veškeré základní **statistické údaje** prakticky nabízí metoda `describe()`, můžeš ocenit, když stejnou statistiku můžeš aplikovat **na tebou vybrané objekty**.\n",
    "\n",
    "Mezi nejjednodušší postupy, jak data analyzovat patří metody jako:\n",
    "* `sum()`,\n",
    "* `mean()`,\n",
    "* `median()`,\n",
    "* `min()`,\n",
    "* `max()`.\n",
    "\n",
    "Všechny tyto metody umožní získat jedno samotné číslo, které ti umožní prohlédnout podstatu zadaného datasetu."
   ]
  },
  {
   "cell_type": "code",
   "execution_count": 2,
   "id": "4b40b5dc-d2ce-4f28-bd42-e2dc2b06293c",
   "metadata": {
    "tags": []
   },
   "outputs": [],
   "source": [
    "from pandas import read_csv"
   ]
  },
  {
   "cell_type": "code",
   "execution_count": 4,
   "id": "fa9d956e-da46-4236-ac9f-df1a783052a8",
   "metadata": {
    "tags": []
   },
   "outputs": [],
   "source": [
    "df_nemovitosti = read_csv(\"nemovitosti.csv\")"
   ]
  },
  {
   "cell_type": "markdown",
   "id": "4599ac8a-2618-4d25-855b-fe4f21138772",
   "metadata": {},
   "source": [
    "<br>\n",
    "\n",
    "#### Odstranit nepotřebný sloupeček"
   ]
  },
  {
   "cell_type": "code",
   "execution_count": 11,
   "id": "8e36a827-44e1-457f-9a64-3e5d3b7ea30d",
   "metadata": {
    "tags": []
   },
   "outputs": [
    {
     "data": {
      "text/plain": [
       "Index(['Unnamed: 0', 'id', 'price', 'area', 'bedrooms', 'bathrooms', 'garage',\n",
       "       'distance_to_center'],\n",
       "      dtype='object')"
      ]
     },
     "execution_count": 11,
     "metadata": {},
     "output_type": "execute_result"
    }
   ],
   "source": [
    "df_nemovitosti.columns"
   ]
  },
  {
   "cell_type": "code",
   "execution_count": 14,
   "id": "a956f075-f9fd-4fff-9022-5e3539599935",
   "metadata": {
    "tags": []
   },
   "outputs": [],
   "source": [
    "df_bez_bezejmen = df_nemovitosti.drop(\"Unnamed: 0\", axis=1)"
   ]
  },
  {
   "cell_type": "code",
   "execution_count": 18,
   "id": "de684e22-bdce-4fea-af3b-c74e5663e8ac",
   "metadata": {
    "tags": []
   },
   "outputs": [
    {
     "data": {
      "text/html": [
       "<div>\n",
       "<style scoped>\n",
       "    .dataframe tbody tr th:only-of-type {\n",
       "        vertical-align: middle;\n",
       "    }\n",
       "\n",
       "    .dataframe tbody tr th {\n",
       "        vertical-align: top;\n",
       "    }\n",
       "\n",
       "    .dataframe thead th {\n",
       "        text-align: right;\n",
       "    }\n",
       "</style>\n",
       "<table border=\"1\" class=\"dataframe\">\n",
       "  <thead>\n",
       "    <tr style=\"text-align: right;\">\n",
       "      <th></th>\n",
       "      <th>id</th>\n",
       "      <th>price</th>\n",
       "      <th>area</th>\n",
       "      <th>bedrooms</th>\n",
       "      <th>bathrooms</th>\n",
       "      <th>garage</th>\n",
       "      <th>distance_to_center</th>\n",
       "    </tr>\n",
       "  </thead>\n",
       "  <tbody>\n",
       "    <tr>\n",
       "      <th>0</th>\n",
       "      <td>1</td>\n",
       "      <td>18094478</td>\n",
       "      <td>254</td>\n",
       "      <td>1</td>\n",
       "      <td>1</td>\n",
       "      <td>False</td>\n",
       "      <td>16</td>\n",
       "    </tr>\n",
       "    <tr>\n",
       "      <th>1</th>\n",
       "      <td>2</td>\n",
       "      <td>15315092</td>\n",
       "      <td>228</td>\n",
       "      <td>1</td>\n",
       "      <td>3</td>\n",
       "      <td>False</td>\n",
       "      <td>24</td>\n",
       "    </tr>\n",
       "    <tr>\n",
       "      <th>2</th>\n",
       "      <td>3</td>\n",
       "      <td>4234489</td>\n",
       "      <td>112</td>\n",
       "      <td>3</td>\n",
       "      <td>3</td>\n",
       "      <td>False</td>\n",
       "      <td>16</td>\n",
       "    </tr>\n",
       "    <tr>\n",
       "      <th>3</th>\n",
       "      <td>4</td>\n",
       "      <td>16586186</td>\n",
       "      <td>145</td>\n",
       "      <td>2</td>\n",
       "      <td>1</td>\n",
       "      <td>True</td>\n",
       "      <td>23</td>\n",
       "    </tr>\n",
       "    <tr>\n",
       "      <th>4</th>\n",
       "      <td>5</td>\n",
       "      <td>11628519</td>\n",
       "      <td>280</td>\n",
       "      <td>5</td>\n",
       "      <td>1</td>\n",
       "      <td>False</td>\n",
       "      <td>2</td>\n",
       "    </tr>\n",
       "  </tbody>\n",
       "</table>\n",
       "</div>"
      ],
      "text/plain": [
       "   id     price  area  bedrooms  bathrooms  garage  distance_to_center\n",
       "0   1  18094478   254         1          1   False                  16\n",
       "1   2  15315092   228         1          3   False                  24\n",
       "2   3   4234489   112         3          3   False                  16\n",
       "3   4  16586186   145         2          1    True                  23\n",
       "4   5  11628519   280         5          1   False                   2"
      ]
     },
     "execution_count": 18,
     "metadata": {},
     "output_type": "execute_result"
    }
   ],
   "source": [
    "df_bez_bezejmen.head()"
   ]
  },
  {
   "cell_type": "code",
   "execution_count": 17,
   "id": "4cca5a3a-29a0-4ef8-8670-52758a9c7e32",
   "metadata": {
    "tags": []
   },
   "outputs": [
    {
     "data": {
      "text/plain": [
       "19824013"
      ]
     },
     "execution_count": 17,
     "metadata": {},
     "output_type": "execute_result"
    }
   ],
   "source": [
    "df_bez_bezejmen.loc[:, \"price\"].max()"
   ]
  },
  {
   "cell_type": "code",
   "execution_count": null,
   "id": "ef5221e6-7f75-4fe0-a395-4a89c99a8132",
   "metadata": {},
   "outputs": [],
   "source": [
    "df_bez_bezejmen.loc[:, \"price\"].min()"
   ]
  },
  {
   "cell_type": "code",
   "execution_count": null,
   "id": "27fc97fb-8391-4234-8435-8b31c2a6c0ec",
   "metadata": {},
   "outputs": [],
   "source": [
    "df_bez_bezejmen.loc[:, \"area\"].sum()"
   ]
  },
  {
   "cell_type": "code",
   "execution_count": null,
   "id": "12a221bb-b541-4788-8d1b-be803b38c385",
   "metadata": {},
   "outputs": [],
   "source": [
    "df_bez_bezejmen.loc[:, \"price\"].mean()"
   ]
  },
  {
   "cell_type": "markdown",
   "id": "42fd4680-85a2-4a1d-80f1-c19b4f55c7e3",
   "metadata": {},
   "source": [
    "<br>\n",
    "\n",
    "Často ale není dostačující, prozkoumat data pouze jednoduchých agregačních funkcí.\n",
    "\n",
    "Další operace, které je potřeba pochopit jsou seskupování dat podle zadaných parametrů."
   ]
  },
  {
   "cell_type": "markdown",
   "id": "1d8fd26d-f140-4150-b223-54914b54c770",
   "metadata": {},
   "source": [
    "### Seskupování groupby\n",
    "\n",
    "Funkce `groupby`, původně operace z SQL jazyka, je v rámci knihovny `pandas` všestraný pomocník pro seskupování dat na základě různých kritérií."
   ]
  },
  {
   "cell_type": "code",
   "execution_count": 2,
   "id": "20acd864-49b5-48c0-863f-3897bace8b23",
   "metadata": {
    "tags": []
   },
   "outputs": [],
   "source": [
    "from pandas import DataFrame"
   ]
  },
  {
   "cell_type": "code",
   "execution_count": 3,
   "id": "14b73c76-eeb8-4c16-bd86-6f1271439b02",
   "metadata": {
    "tags": []
   },
   "outputs": [],
   "source": [
    "df_pokus_s_cisly = DataFrame(\n",
    "    {\n",
    "        'klíč': ['A', 'B', 'C', 'A', 'B', 'C'],\n",
    "        'číselná hodnota': range(6)},\n",
    ")"
   ]
  },
  {
   "cell_type": "code",
   "execution_count": 4,
   "id": "2c864665-3353-4ec2-adf8-a415682d24b4",
   "metadata": {
    "tags": []
   },
   "outputs": [
    {
     "data": {
      "text/html": [
       "<div>\n",
       "<style scoped>\n",
       "    .dataframe tbody tr th:only-of-type {\n",
       "        vertical-align: middle;\n",
       "    }\n",
       "\n",
       "    .dataframe tbody tr th {\n",
       "        vertical-align: top;\n",
       "    }\n",
       "\n",
       "    .dataframe thead th {\n",
       "        text-align: right;\n",
       "    }\n",
       "</style>\n",
       "<table border=\"1\" class=\"dataframe\">\n",
       "  <thead>\n",
       "    <tr style=\"text-align: right;\">\n",
       "      <th></th>\n",
       "      <th>klíč</th>\n",
       "      <th>číselná hodnota</th>\n",
       "    </tr>\n",
       "  </thead>\n",
       "  <tbody>\n",
       "    <tr>\n",
       "      <th>0</th>\n",
       "      <td>A</td>\n",
       "      <td>0</td>\n",
       "    </tr>\n",
       "    <tr>\n",
       "      <th>1</th>\n",
       "      <td>B</td>\n",
       "      <td>1</td>\n",
       "    </tr>\n",
       "    <tr>\n",
       "      <th>2</th>\n",
       "      <td>C</td>\n",
       "      <td>2</td>\n",
       "    </tr>\n",
       "    <tr>\n",
       "      <th>3</th>\n",
       "      <td>A</td>\n",
       "      <td>3</td>\n",
       "    </tr>\n",
       "    <tr>\n",
       "      <th>4</th>\n",
       "      <td>B</td>\n",
       "      <td>4</td>\n",
       "    </tr>\n",
       "    <tr>\n",
       "      <th>5</th>\n",
       "      <td>C</td>\n",
       "      <td>5</td>\n",
       "    </tr>\n",
       "  </tbody>\n",
       "</table>\n",
       "</div>"
      ],
      "text/plain": [
       "  klíč  číselná hodnota\n",
       "0    A                0\n",
       "1    B                1\n",
       "2    C                2\n",
       "3    A                3\n",
       "4    B                4\n",
       "5    C                5"
      ]
     },
     "execution_count": 4,
     "metadata": {},
     "output_type": "execute_result"
    }
   ],
   "source": [
    "df_pokus_s_cisly.head(6)"
   ]
  },
  {
   "cell_type": "markdown",
   "id": "286bd28a-d4a5-4193-aebc-edb128179099",
   "metadata": {},
   "source": [
    "#### Klasické seskupení podle sloupečku"
   ]
  },
  {
   "cell_type": "code",
   "execution_count": 5,
   "id": "0be6f31e-16da-4233-a6a8-90b503214266",
   "metadata": {
    "tags": []
   },
   "outputs": [
    {
     "data": {
      "text/plain": [
       "<pandas.core.groupby.generic.DataFrameGroupBy object at 0x7f30dc983550>"
      ]
     },
     "execution_count": 5,
     "metadata": {},
     "output_type": "execute_result"
    }
   ],
   "source": [
    "df_pokus_s_cisly.groupby(\"klíč\")"
   ]
  },
  {
   "cell_type": "markdown",
   "id": "46f4594b-2a0d-499e-91f6-f54e576c8a01",
   "metadata": {},
   "source": [
    "Metoda standardně vrací `DataFrameGroupBy`.\n",
    "\n",
    "Jde opět o tzv. *lazy evaluation* proces, samotný nic neprovede, pouze čeká na pokyn uživatele, který samotnou agregaci spustí."
   ]
  },
  {
   "cell_type": "code",
   "execution_count": 6,
   "id": "920354fd-ce01-4200-af58-284a4aa94c15",
   "metadata": {
    "tags": []
   },
   "outputs": [
    {
     "data": {
      "text/html": [
       "<div>\n",
       "<style scoped>\n",
       "    .dataframe tbody tr th:only-of-type {\n",
       "        vertical-align: middle;\n",
       "    }\n",
       "\n",
       "    .dataframe tbody tr th {\n",
       "        vertical-align: top;\n",
       "    }\n",
       "\n",
       "    .dataframe thead th {\n",
       "        text-align: right;\n",
       "    }\n",
       "</style>\n",
       "<table border=\"1\" class=\"dataframe\">\n",
       "  <thead>\n",
       "    <tr style=\"text-align: right;\">\n",
       "      <th></th>\n",
       "      <th>číselná hodnota</th>\n",
       "    </tr>\n",
       "    <tr>\n",
       "      <th>klíč</th>\n",
       "      <th></th>\n",
       "    </tr>\n",
       "  </thead>\n",
       "  <tbody>\n",
       "    <tr>\n",
       "      <th>A</th>\n",
       "      <td>3</td>\n",
       "    </tr>\n",
       "    <tr>\n",
       "      <th>B</th>\n",
       "      <td>5</td>\n",
       "    </tr>\n",
       "    <tr>\n",
       "      <th>C</th>\n",
       "      <td>7</td>\n",
       "    </tr>\n",
       "  </tbody>\n",
       "</table>\n",
       "</div>"
      ],
      "text/plain": [
       "      číselná hodnota\n",
       "klíč                 \n",
       "A                   3\n",
       "B                   5\n",
       "C                   7"
      ]
     },
     "execution_count": 6,
     "metadata": {},
     "output_type": "execute_result"
    }
   ],
   "source": [
    "df_pokus_s_cisly.groupby(\"klíč\").sum()"
   ]
  },
  {
   "cell_type": "markdown",
   "id": "f5c4b16b-faac-414c-b359-34fb07f870ca",
   "metadata": {},
   "source": [
    "Metoda `sum()` je pouze jednou z možností, se kterou můžeš pracovat.\n",
    "\n",
    "### Sloupečkové označování\n",
    "\n",
    "Stejně jako `DataFrame` můžeš označovat také *GroupBy* objekty."
   ]
  },
  {
   "cell_type": "code",
   "execution_count": 7,
   "id": "2e0aa652-c0f9-432f-bd02-39a0931c59ef",
   "metadata": {
    "tags": []
   },
   "outputs": [
    {
     "data": {
      "text/plain": [
       "klíč\n",
       "A    1.5\n",
       "B    2.5\n",
       "C    3.5\n",
       "Name: číselná hodnota, dtype: float64"
      ]
     },
     "execution_count": 7,
     "metadata": {},
     "output_type": "execute_result"
    }
   ],
   "source": [
    "df_pokus_s_cisly.groupby(\"klíč\")[\"číselná hodnota\"].median()"
   ]
  },
  {
   "cell_type": "markdown",
   "id": "9a07f3d6-88f7-4324-ac00-098c76071956",
   "metadata": {},
   "source": [
    "<br>\n",
    "\n",
    "V uplynulé ukázce je zadaná seskupování podle sloupečku `klíč`.\n",
    "\n",
    "Dále je vybraný pouze konkrétní sloupeček, na který chceš spustit metodu `median`.\n",
    "\n",
    "<br>\n",
    "\n",
    "Pokud potřebuješ nad vybraným objektem provádět některé procesy ručně, můžeš přes *GroupBy* objekt **iterovat**:"
   ]
  },
  {
   "cell_type": "code",
   "execution_count": 11,
   "id": "6585af72-b9dd-411e-b727-68e8d5f533f6",
   "metadata": {
    "tags": []
   },
   "outputs": [
    {
     "name": "stdout",
     "output_type": "stream",
     "text": [
      "Klic: A; Hodnota=(2, 2)\n",
      "Klic: B; Hodnota=(2, 2)\n",
      "Klic: C; Hodnota=(2, 2)\n"
     ]
    }
   ],
   "source": [
    "for (klic, hodnota) in df_pokus_s_cisly.groupby(\"klíč\"):\n",
    "    print(f\"Klic: {klic}; Hodnota={hodnota.shape}\")"
   ]
  },
  {
   "cell_type": "markdown",
   "id": "66f6931c-6845-4342-8255-86c0cb3c324d",
   "metadata": {},
   "source": [
    "### Agregace"
   ]
  },
  {
   "cell_type": "markdown",
   "id": "8fe18bc5-d701-4e3f-b4ac-bf4d032fbce0",
   "metadata": {},
   "source": [
    "Kromě jednoduchých agregací, nabízí *GroupBy* řadu další funkcionality.\n",
    "\n",
    "Jde o metody:\n",
    "* `aggregate`,\n",
    "* `filter`,\n",
    "* `transform`,\n",
    "* `apply`."
   ]
  },
  {
   "cell_type": "code",
   "execution_count": 24,
   "id": "0881affd-e818-4154-a6c8-26cbbb97f063",
   "metadata": {
    "tags": []
   },
   "outputs": [],
   "source": [
    "import numpy"
   ]
  },
  {
   "cell_type": "code",
   "execution_count": 25,
   "id": "cd575442-b1c4-4262-b9a9-7162f2728b59",
   "metadata": {
    "tags": []
   },
   "outputs": [],
   "source": [
    "rng = numpy.random.RandomState(0)"
   ]
  },
  {
   "cell_type": "code",
   "execution_count": 19,
   "id": "84158798-45f8-4078-9dfa-f79c3d97e444",
   "metadata": {},
   "outputs": [],
   "source": [
    "from pandas import DataFrame"
   ]
  },
  {
   "cell_type": "code",
   "execution_count": 26,
   "id": "d431922d-f8ec-4719-87d1-833528345200",
   "metadata": {
    "tags": []
   },
   "outputs": [],
   "source": [
    "df_pokus_s_cisly = DataFrame(\n",
    "    {\n",
    "        'klíč': ['A', 'B', 'C', 'A', 'B', 'C'],\n",
    "        'data_1': range(6),\n",
    "        'data_2': rng.randint(0, 10, 6)\n",
    "    }\n",
    ")"
   ]
  },
  {
   "cell_type": "code",
   "execution_count": 28,
   "id": "07fbfe20-ed38-40c6-aeb0-bb11bcc46a6f",
   "metadata": {
    "tags": []
   },
   "outputs": [
    {
     "data": {
      "text/html": [
       "<div>\n",
       "<style scoped>\n",
       "    .dataframe tbody tr th:only-of-type {\n",
       "        vertical-align: middle;\n",
       "    }\n",
       "\n",
       "    .dataframe tbody tr th {\n",
       "        vertical-align: top;\n",
       "    }\n",
       "\n",
       "    .dataframe thead th {\n",
       "        text-align: right;\n",
       "    }\n",
       "</style>\n",
       "<table border=\"1\" class=\"dataframe\">\n",
       "  <thead>\n",
       "    <tr style=\"text-align: right;\">\n",
       "      <th></th>\n",
       "      <th>klíč</th>\n",
       "      <th>data_1</th>\n",
       "      <th>data_2</th>\n",
       "    </tr>\n",
       "  </thead>\n",
       "  <tbody>\n",
       "    <tr>\n",
       "      <th>0</th>\n",
       "      <td>A</td>\n",
       "      <td>0</td>\n",
       "      <td>5</td>\n",
       "    </tr>\n",
       "    <tr>\n",
       "      <th>1</th>\n",
       "      <td>B</td>\n",
       "      <td>1</td>\n",
       "      <td>0</td>\n",
       "    </tr>\n",
       "    <tr>\n",
       "      <th>2</th>\n",
       "      <td>C</td>\n",
       "      <td>2</td>\n",
       "      <td>3</td>\n",
       "    </tr>\n",
       "    <tr>\n",
       "      <th>3</th>\n",
       "      <td>A</td>\n",
       "      <td>3</td>\n",
       "      <td>3</td>\n",
       "    </tr>\n",
       "    <tr>\n",
       "      <th>4</th>\n",
       "      <td>B</td>\n",
       "      <td>4</td>\n",
       "      <td>7</td>\n",
       "    </tr>\n",
       "  </tbody>\n",
       "</table>\n",
       "</div>"
      ],
      "text/plain": [
       "  klíč  data_1  data_2\n",
       "0    A       0       5\n",
       "1    B       1       0\n",
       "2    C       2       3\n",
       "3    A       3       3\n",
       "4    B       4       7"
      ]
     },
     "execution_count": 28,
     "metadata": {},
     "output_type": "execute_result"
    }
   ],
   "source": [
    "df_pokus_s_cisly.head()"
   ]
  },
  {
   "cell_type": "markdown",
   "id": "c85ff441-9183-42de-a589-fa20549f767d",
   "metadata": {},
   "source": [
    "Statistick metody určitě nabízí spousty pomůcek.\n",
    "\n",
    "Objekt typu *GroupBy* umí pracovat také s funkcemi, stringy a celými listy."
   ]
  },
  {
   "cell_type": "code",
   "execution_count": 29,
   "id": "16b3b939-911c-4df0-80f2-bd57daec2911",
   "metadata": {
    "tags": []
   },
   "outputs": [
    {
     "data": {
      "text/html": [
       "<div>\n",
       "<style scoped>\n",
       "    .dataframe tbody tr th:only-of-type {\n",
       "        vertical-align: middle;\n",
       "    }\n",
       "\n",
       "    .dataframe tbody tr th {\n",
       "        vertical-align: top;\n",
       "    }\n",
       "\n",
       "    .dataframe thead tr th {\n",
       "        text-align: left;\n",
       "    }\n",
       "\n",
       "    .dataframe thead tr:last-of-type th {\n",
       "        text-align: right;\n",
       "    }\n",
       "</style>\n",
       "<table border=\"1\" class=\"dataframe\">\n",
       "  <thead>\n",
       "    <tr>\n",
       "      <th></th>\n",
       "      <th colspan=\"3\" halign=\"left\">data_1</th>\n",
       "      <th colspan=\"3\" halign=\"left\">data_2</th>\n",
       "    </tr>\n",
       "    <tr>\n",
       "      <th></th>\n",
       "      <th>min</th>\n",
       "      <th>median</th>\n",
       "      <th>max</th>\n",
       "      <th>min</th>\n",
       "      <th>median</th>\n",
       "      <th>max</th>\n",
       "    </tr>\n",
       "    <tr>\n",
       "      <th>klíč</th>\n",
       "      <th></th>\n",
       "      <th></th>\n",
       "      <th></th>\n",
       "      <th></th>\n",
       "      <th></th>\n",
       "      <th></th>\n",
       "    </tr>\n",
       "  </thead>\n",
       "  <tbody>\n",
       "    <tr>\n",
       "      <th>A</th>\n",
       "      <td>0</td>\n",
       "      <td>1.5</td>\n",
       "      <td>3</td>\n",
       "      <td>3</td>\n",
       "      <td>4.0</td>\n",
       "      <td>5</td>\n",
       "    </tr>\n",
       "    <tr>\n",
       "      <th>B</th>\n",
       "      <td>1</td>\n",
       "      <td>2.5</td>\n",
       "      <td>4</td>\n",
       "      <td>0</td>\n",
       "      <td>3.5</td>\n",
       "      <td>7</td>\n",
       "    </tr>\n",
       "    <tr>\n",
       "      <th>C</th>\n",
       "      <td>2</td>\n",
       "      <td>3.5</td>\n",
       "      <td>5</td>\n",
       "      <td>3</td>\n",
       "      <td>6.0</td>\n",
       "      <td>9</td>\n",
       "    </tr>\n",
       "  </tbody>\n",
       "</table>\n",
       "</div>"
      ],
      "text/plain": [
       "     data_1            data_2           \n",
       "        min median max    min median max\n",
       "klíč                                    \n",
       "A         0    1.5   3      3    4.0   5\n",
       "B         1    2.5   4      0    3.5   7\n",
       "C         2    3.5   5      3    6.0   9"
      ]
     },
     "execution_count": 29,
     "metadata": {},
     "output_type": "execute_result"
    }
   ],
   "source": [
    "df_pokus_s_cisly.groupby(\"klíč\").aggregate([\"min\", numpy.median, max])"
   ]
  },
  {
   "cell_type": "markdown",
   "id": "ff73c92f-a98b-4f53-9b94-fd3d76a106dc",
   "metadata": {},
   "source": [
    "Můžeš říct, že metoda `aggregate` se používá k aplikaci **jedné nebo více agregačních funkcí na seskupená data**."
   ]
  },
  {
   "cell_type": "markdown",
   "id": "a9631de6-f44b-43ec-801d-5ceeef569d96",
   "metadata": {},
   "source": [
    "```\n",
    "store,fruit,quantity_sold,price\n",
    "A,apple,10,20\n",
    "A,banana,15,12\n",
    "B,apple,8,22\n",
    "B,banana,30,10\n",
    "C,apple,20,18\n",
    "C,banana,25,15\n",
    "```"
   ]
  },
  {
   "cell_type": "code",
   "execution_count": 30,
   "id": "bbda8c64-5e2e-474b-ab99-401e8e2168b9",
   "metadata": {
    "tags": []
   },
   "outputs": [],
   "source": [
    "ovoce_data = {'pobocka': ['A', 'A', 'B', 'B', 'C', 'C'],\n",
    "        'ovoce': ['jablko', 'banan', 'jablko', 'banan', 'jablko', 'banan'],\n",
    "        'prodane_mnozstvi': [10, 15, 8, 30, 20, 25],\n",
    "        'cena': [20, 12, 22, 10, 18, 15]}"
   ]
  },
  {
   "cell_type": "code",
   "execution_count": 31,
   "id": "935e3878-e99d-4cb2-a862-3537e5ed4a84",
   "metadata": {
    "tags": []
   },
   "outputs": [],
   "source": [
    "df_ovoce = DataFrame(ovoce_data)"
   ]
  },
  {
   "cell_type": "code",
   "execution_count": 35,
   "id": "c79ece68-d7cd-4277-842f-881e20a41696",
   "metadata": {
    "tags": []
   },
   "outputs": [
    {
     "data": {
      "text/html": [
       "<div>\n",
       "<style scoped>\n",
       "    .dataframe tbody tr th:only-of-type {\n",
       "        vertical-align: middle;\n",
       "    }\n",
       "\n",
       "    .dataframe tbody tr th {\n",
       "        vertical-align: top;\n",
       "    }\n",
       "\n",
       "    .dataframe thead th {\n",
       "        text-align: right;\n",
       "    }\n",
       "</style>\n",
       "<table border=\"1\" class=\"dataframe\">\n",
       "  <thead>\n",
       "    <tr style=\"text-align: right;\">\n",
       "      <th></th>\n",
       "      <th>pobocka</th>\n",
       "      <th>ovoce</th>\n",
       "      <th>prodane_mnozstvi</th>\n",
       "      <th>cena</th>\n",
       "    </tr>\n",
       "  </thead>\n",
       "  <tbody>\n",
       "    <tr>\n",
       "      <th>0</th>\n",
       "      <td>A</td>\n",
       "      <td>jablko</td>\n",
       "      <td>10</td>\n",
       "      <td>20</td>\n",
       "    </tr>\n",
       "    <tr>\n",
       "      <th>1</th>\n",
       "      <td>A</td>\n",
       "      <td>banan</td>\n",
       "      <td>15</td>\n",
       "      <td>12</td>\n",
       "    </tr>\n",
       "    <tr>\n",
       "      <th>2</th>\n",
       "      <td>B</td>\n",
       "      <td>jablko</td>\n",
       "      <td>8</td>\n",
       "      <td>22</td>\n",
       "    </tr>\n",
       "    <tr>\n",
       "      <th>3</th>\n",
       "      <td>B</td>\n",
       "      <td>banan</td>\n",
       "      <td>30</td>\n",
       "      <td>10</td>\n",
       "    </tr>\n",
       "    <tr>\n",
       "      <th>4</th>\n",
       "      <td>C</td>\n",
       "      <td>jablko</td>\n",
       "      <td>20</td>\n",
       "      <td>18</td>\n",
       "    </tr>\n",
       "    <tr>\n",
       "      <th>5</th>\n",
       "      <td>C</td>\n",
       "      <td>banan</td>\n",
       "      <td>25</td>\n",
       "      <td>15</td>\n",
       "    </tr>\n",
       "  </tbody>\n",
       "</table>\n",
       "</div>"
      ],
      "text/plain": [
       "  pobocka   ovoce  prodane_mnozstvi  cena\n",
       "0       A  jablko                10    20\n",
       "1       A   banan                15    12\n",
       "2       B  jablko                 8    22\n",
       "3       B   banan                30    10\n",
       "4       C  jablko                20    18\n",
       "5       C   banan                25    15"
      ]
     },
     "execution_count": 35,
     "metadata": {},
     "output_type": "execute_result"
    }
   ],
   "source": [
    "df_ovoce.head(6)"
   ]
  },
  {
   "cell_type": "code",
   "execution_count": 36,
   "id": "f03edfa6-402a-4a74-948b-7603e2fa2844",
   "metadata": {
    "tags": []
   },
   "outputs": [],
   "source": [
    "vystup = df_ovoce.groupby('pobocka').aggregate({'prodane_mnozstvi': 'sum', 'cena': 'mean'})"
   ]
  },
  {
   "cell_type": "code",
   "execution_count": 37,
   "id": "802e9bd8-ab8c-40f6-b29b-17c2360b7e19",
   "metadata": {
    "tags": []
   },
   "outputs": [
    {
     "data": {
      "text/html": [
       "<div>\n",
       "<style scoped>\n",
       "    .dataframe tbody tr th:only-of-type {\n",
       "        vertical-align: middle;\n",
       "    }\n",
       "\n",
       "    .dataframe tbody tr th {\n",
       "        vertical-align: top;\n",
       "    }\n",
       "\n",
       "    .dataframe thead th {\n",
       "        text-align: right;\n",
       "    }\n",
       "</style>\n",
       "<table border=\"1\" class=\"dataframe\">\n",
       "  <thead>\n",
       "    <tr style=\"text-align: right;\">\n",
       "      <th></th>\n",
       "      <th>prodane_mnozstvi</th>\n",
       "      <th>cena</th>\n",
       "    </tr>\n",
       "    <tr>\n",
       "      <th>pobocka</th>\n",
       "      <th></th>\n",
       "      <th></th>\n",
       "    </tr>\n",
       "  </thead>\n",
       "  <tbody>\n",
       "    <tr>\n",
       "      <th>A</th>\n",
       "      <td>25</td>\n",
       "      <td>16.0</td>\n",
       "    </tr>\n",
       "    <tr>\n",
       "      <th>B</th>\n",
       "      <td>38</td>\n",
       "      <td>16.0</td>\n",
       "    </tr>\n",
       "    <tr>\n",
       "      <th>C</th>\n",
       "      <td>45</td>\n",
       "      <td>16.5</td>\n",
       "    </tr>\n",
       "  </tbody>\n",
       "</table>\n",
       "</div>"
      ],
      "text/plain": [
       "         prodane_mnozstvi  cena\n",
       "pobocka                        \n",
       "A                      25  16.0\n",
       "B                      38  16.0\n",
       "C                      45  16.5"
      ]
     },
     "execution_count": 37,
     "metadata": {},
     "output_type": "execute_result"
    }
   ],
   "source": [
    "vystup"
   ]
  },
  {
   "cell_type": "markdown",
   "id": "368dfe87-9029-42f5-8826-bc4c34a4b5f6",
   "metadata": {},
   "source": [
    "1. Nejprve jsou hodnoty seskupení podle sloupce `pobocka`,\n",
    "2. poté specifikuješ pomocí `aggregate` funkce a sloupce,\n",
    "3. .. tedy sumarizovat hodnoty v `prodane_mnozstvi` a získat průměr `cena` pro každou pobočku."
   ]
  },
  {
   "cell_type": "markdown",
   "id": "06f8627c-aade-4cb4-837e-ca4504282b63",
   "metadata": {},
   "source": [
    "### Filtrování"
   ]
  },
  {
   "cell_type": "markdown",
   "id": "112d62df-cddb-4a24-a2da-b7b3548ff892",
   "metadata": {},
   "source": [
    "Filtrování ti umožní zahodit takové údaje, které nesplňují zadanou podmínku."
   ]
  },
  {
   "cell_type": "markdown",
   "id": "381b8ef7-5f71-4882-b8c5-33157102c3ee",
   "metadata": {},
   "source": [
    "Metoda `filter` se používá k vybrání seskupených dat podle splnění určité podmínky.\n",
    "\n",
    "Představme si, že máme následující dataset s informacemi o prodeji ovoce v různých obchodech:"
   ]
  },
  {
   "cell_type": "code",
   "execution_count": 41,
   "id": "a730c7b4-cbcf-4e08-b688-e4807ea5e94e",
   "metadata": {
    "tags": []
   },
   "outputs": [],
   "source": [
    "def vyber_pouze_zadane_mnozstvi(x, limit: int = 35):\n",
    "    return x['prodane_mnozstvi'].sum() > limit"
   ]
  },
  {
   "cell_type": "markdown",
   "id": "858aca86-b58b-44e8-92ab-caaf34819a6d",
   "metadata": {},
   "source": [
    "<br>\n",
    "\n",
    "Funkce `vyber_pouze_zadane_mnozstvi`, tedy **filtrovací funkce**, musí vracet **boolean** datový typ."
   ]
  },
  {
   "cell_type": "code",
   "execution_count": 42,
   "id": "fee14d46-9932-4b03-b705-597707c5ecaa",
   "metadata": {
    "tags": []
   },
   "outputs": [],
   "source": [
    "vysledek = df_ovoce.groupby('pobocka').filter(vyber_pouze_zadane_mnozstvi)"
   ]
  },
  {
   "cell_type": "code",
   "execution_count": 43,
   "id": "ef8f73c2-295f-4de2-bd23-35e1b34928fd",
   "metadata": {
    "tags": []
   },
   "outputs": [
    {
     "data": {
      "text/html": [
       "<div>\n",
       "<style scoped>\n",
       "    .dataframe tbody tr th:only-of-type {\n",
       "        vertical-align: middle;\n",
       "    }\n",
       "\n",
       "    .dataframe tbody tr th {\n",
       "        vertical-align: top;\n",
       "    }\n",
       "\n",
       "    .dataframe thead th {\n",
       "        text-align: right;\n",
       "    }\n",
       "</style>\n",
       "<table border=\"1\" class=\"dataframe\">\n",
       "  <thead>\n",
       "    <tr style=\"text-align: right;\">\n",
       "      <th></th>\n",
       "      <th>pobocka</th>\n",
       "      <th>ovoce</th>\n",
       "      <th>prodane_mnozstvi</th>\n",
       "      <th>cena</th>\n",
       "    </tr>\n",
       "  </thead>\n",
       "  <tbody>\n",
       "    <tr>\n",
       "      <th>2</th>\n",
       "      <td>B</td>\n",
       "      <td>jablko</td>\n",
       "      <td>8</td>\n",
       "      <td>22</td>\n",
       "    </tr>\n",
       "    <tr>\n",
       "      <th>3</th>\n",
       "      <td>B</td>\n",
       "      <td>banan</td>\n",
       "      <td>30</td>\n",
       "      <td>10</td>\n",
       "    </tr>\n",
       "    <tr>\n",
       "      <th>4</th>\n",
       "      <td>C</td>\n",
       "      <td>jablko</td>\n",
       "      <td>20</td>\n",
       "      <td>18</td>\n",
       "    </tr>\n",
       "    <tr>\n",
       "      <th>5</th>\n",
       "      <td>C</td>\n",
       "      <td>banan</td>\n",
       "      <td>25</td>\n",
       "      <td>15</td>\n",
       "    </tr>\n",
       "  </tbody>\n",
       "</table>\n",
       "</div>"
      ],
      "text/plain": [
       "  pobocka   ovoce  prodane_mnozstvi  cena\n",
       "2       B  jablko                 8    22\n",
       "3       B   banan                30    10\n",
       "4       C  jablko                20    18\n",
       "5       C   banan                25    15"
      ]
     },
     "execution_count": 43,
     "metadata": {},
     "output_type": "execute_result"
    }
   ],
   "source": [
    "vysledek"
   ]
  },
  {
   "cell_type": "markdown",
   "id": "0908c605-f5d8-4314-a865-c2c1bab13084",
   "metadata": {},
   "source": [
    "1. Nejprve seskupíš data podle sloupce `pobocka` pomocí `groupby`,\n",
    "2. dále použiješ metodu `filter`, která umožňuje použít uživatelem definovanou funkci,\n",
    "3. definuješ funkci, která vybere pouze pobočky s větším prodejem než je parametr `limit`,\n",
    "4. metoda `filter` pak vybere pouze ty řádky, které splňují tuto podmínku."
   ]
  },
  {
   "cell_type": "code",
   "execution_count": null,
   "id": "c9517f4b-523f-45ba-8e55-ab8a7fd7365e",
   "metadata": {},
   "outputs": [],
   "source": []
  },
  {
   "cell_type": "markdown",
   "id": "891df39c-bb03-420c-8aeb-79737f9ada5b",
   "metadata": {},
   "source": [
    "### Transformace"
   ]
  },
  {
   "cell_type": "markdown",
   "id": "31ced72e-0931-43f3-9fa1-8ac275043189",
   "metadata": {},
   "source": [
    "Zatímco předchozí výsledky *agregace pomocí `groupby` vraceli redukované množství dat.\n",
    "\n",
    "Transformace obvykle vrací data o stejném rozsahu jako vstupní data. Jenom upravená."
   ]
  },
  {
   "cell_type": "markdown",
   "id": "787a5ce9-63a4-4cf6-9105-2e73e075c806",
   "metadata": {},
   "source": [
    "Metoda `transform` se používá k aplikaci určité **transformační funkce** na každý prvek seskupených dat."
   ]
  },
  {
   "cell_type": "code",
   "execution_count": 56,
   "id": "655afebf-3a7d-4f3c-baf2-af7cb330076f",
   "metadata": {
    "tags": []
   },
   "outputs": [],
   "source": [
    "def vrat_procenta_z_celkoveho_prodeje(udaj):\n",
    "    return round(udaj / udaj.sum() * 100, 1)"
   ]
  },
  {
   "cell_type": "markdown",
   "id": "3e5aa9cd-18d8-45d2-ba0a-06c05f020b6f",
   "metadata": {},
   "source": [
    "<br>\n",
    "\n",
    "Vytvoření nového sloupečku `procento_z_celkoveho_prodeje`:"
   ]
  },
  {
   "cell_type": "code",
   "execution_count": 57,
   "id": "c23f2839-f2cd-422a-a5d3-e989940a6f58",
   "metadata": {
    "tags": []
   },
   "outputs": [],
   "source": [
    "df_ovoce['procento_z_celkoveho_prodeje'] = df_ovoce.groupby('pobocka')['prodane_mnozstvi'] \\\n",
    "    .transform(vrat_procenta_z_celkoveho_prodeje)"
   ]
  },
  {
   "cell_type": "code",
   "execution_count": 58,
   "id": "6d2a7983-b1fd-4bfc-b372-3b690dea6f49",
   "metadata": {
    "tags": []
   },
   "outputs": [
    {
     "data": {
      "text/html": [
       "<div>\n",
       "<style scoped>\n",
       "    .dataframe tbody tr th:only-of-type {\n",
       "        vertical-align: middle;\n",
       "    }\n",
       "\n",
       "    .dataframe tbody tr th {\n",
       "        vertical-align: top;\n",
       "    }\n",
       "\n",
       "    .dataframe thead th {\n",
       "        text-align: right;\n",
       "    }\n",
       "</style>\n",
       "<table border=\"1\" class=\"dataframe\">\n",
       "  <thead>\n",
       "    <tr style=\"text-align: right;\">\n",
       "      <th></th>\n",
       "      <th>pobocka</th>\n",
       "      <th>ovoce</th>\n",
       "      <th>prodane_mnozstvi</th>\n",
       "      <th>cena</th>\n",
       "      <th>procento_z_celkoveho_prodeje</th>\n",
       "    </tr>\n",
       "  </thead>\n",
       "  <tbody>\n",
       "    <tr>\n",
       "      <th>0</th>\n",
       "      <td>A</td>\n",
       "      <td>jablko</td>\n",
       "      <td>10</td>\n",
       "      <td>20</td>\n",
       "      <td>40.0</td>\n",
       "    </tr>\n",
       "    <tr>\n",
       "      <th>1</th>\n",
       "      <td>A</td>\n",
       "      <td>banan</td>\n",
       "      <td>15</td>\n",
       "      <td>12</td>\n",
       "      <td>60.0</td>\n",
       "    </tr>\n",
       "    <tr>\n",
       "      <th>2</th>\n",
       "      <td>B</td>\n",
       "      <td>jablko</td>\n",
       "      <td>8</td>\n",
       "      <td>22</td>\n",
       "      <td>21.1</td>\n",
       "    </tr>\n",
       "    <tr>\n",
       "      <th>3</th>\n",
       "      <td>B</td>\n",
       "      <td>banan</td>\n",
       "      <td>30</td>\n",
       "      <td>10</td>\n",
       "      <td>78.9</td>\n",
       "    </tr>\n",
       "    <tr>\n",
       "      <th>4</th>\n",
       "      <td>C</td>\n",
       "      <td>jablko</td>\n",
       "      <td>20</td>\n",
       "      <td>18</td>\n",
       "      <td>44.4</td>\n",
       "    </tr>\n",
       "    <tr>\n",
       "      <th>5</th>\n",
       "      <td>C</td>\n",
       "      <td>banan</td>\n",
       "      <td>25</td>\n",
       "      <td>15</td>\n",
       "      <td>55.6</td>\n",
       "    </tr>\n",
       "  </tbody>\n",
       "</table>\n",
       "</div>"
      ],
      "text/plain": [
       "  pobocka   ovoce  prodane_mnozstvi  cena  procento_z_celkoveho_prodeje\n",
       "0       A  jablko                10    20                          40.0\n",
       "1       A   banan                15    12                          60.0\n",
       "2       B  jablko                 8    22                          21.1\n",
       "3       B   banan                30    10                          78.9\n",
       "4       C  jablko                20    18                          44.4\n",
       "5       C   banan                25    15                          55.6"
      ]
     },
     "execution_count": 58,
     "metadata": {},
     "output_type": "execute_result"
    }
   ],
   "source": [
    "df_ovoce.head(6)"
   ]
  },
  {
   "cell_type": "markdown",
   "id": "cd66bb13-620f-4f26-bcae-00ccb1dd5335",
   "metadata": {},
   "source": [
    "1. Nejprve seskupíš data podle sloupce `pobocka` pomocí `groupby`,\n",
    "2. dále použiješ metodu `transform`, která umožňuje použít uživatelem definovanou funkci,\n",
    "3. definuješ funkci, která vybere vypočítá procentuální vyjádření prodaného zboží pro pobočku,\n",
    "4. přidáš nový sloupeček `procento_z_celkoveho_prodeje`."
   ]
  },
  {
   "cell_type": "markdown",
   "id": "202805fc-bda1-44bb-b5c7-e61d76c6a3fa",
   "metadata": {},
   "source": [
    "### Metoda `apply`\n",
    "\n",
    "Metoda `apply` ti také dovolí, používat uživatelem definované funkce na seskupená data.\n",
    "\n",
    "Následně vrací objekt knihovny `pandas` (buď `DataFrame`, nebo `Series`, a nebo skalární hodnota)."
   ]
  },
  {
   "cell_type": "code",
   "execution_count": 7,
   "id": "1b4dea9b-8409-4b6c-add7-7741d40fecb2",
   "metadata": {
    "tags": []
   },
   "outputs": [
    {
     "data": {
      "text/html": [
       "<div>\n",
       "<style scoped>\n",
       "    .dataframe tbody tr th:only-of-type {\n",
       "        vertical-align: middle;\n",
       "    }\n",
       "\n",
       "    .dataframe tbody tr th {\n",
       "        vertical-align: top;\n",
       "    }\n",
       "\n",
       "    .dataframe thead th {\n",
       "        text-align: right;\n",
       "    }\n",
       "</style>\n",
       "<table border=\"1\" class=\"dataframe\">\n",
       "  <thead>\n",
       "    <tr style=\"text-align: right;\">\n",
       "      <th></th>\n",
       "      <th>pobocka</th>\n",
       "      <th>ovoce</th>\n",
       "      <th>prodane_mnozstvi</th>\n",
       "      <th>cena</th>\n",
       "    </tr>\n",
       "  </thead>\n",
       "  <tbody>\n",
       "    <tr>\n",
       "      <th>0</th>\n",
       "      <td>A</td>\n",
       "      <td>jablko</td>\n",
       "      <td>10</td>\n",
       "      <td>20</td>\n",
       "    </tr>\n",
       "    <tr>\n",
       "      <th>1</th>\n",
       "      <td>A</td>\n",
       "      <td>banan</td>\n",
       "      <td>15</td>\n",
       "      <td>12</td>\n",
       "    </tr>\n",
       "    <tr>\n",
       "      <th>2</th>\n",
       "      <td>B</td>\n",
       "      <td>jablko</td>\n",
       "      <td>8</td>\n",
       "      <td>22</td>\n",
       "    </tr>\n",
       "    <tr>\n",
       "      <th>3</th>\n",
       "      <td>B</td>\n",
       "      <td>banan</td>\n",
       "      <td>30</td>\n",
       "      <td>10</td>\n",
       "    </tr>\n",
       "    <tr>\n",
       "      <th>4</th>\n",
       "      <td>C</td>\n",
       "      <td>jablko</td>\n",
       "      <td>20</td>\n",
       "      <td>18</td>\n",
       "    </tr>\n",
       "    <tr>\n",
       "      <th>5</th>\n",
       "      <td>C</td>\n",
       "      <td>banan</td>\n",
       "      <td>25</td>\n",
       "      <td>15</td>\n",
       "    </tr>\n",
       "  </tbody>\n",
       "</table>\n",
       "</div>"
      ],
      "text/plain": [
       "  pobocka   ovoce  prodane_mnozstvi  cena\n",
       "0       A  jablko                10    20\n",
       "1       A   banan                15    12\n",
       "2       B  jablko                 8    22\n",
       "3       B   banan                30    10\n",
       "4       C  jablko                20    18\n",
       "5       C   banan                25    15"
      ]
     },
     "execution_count": 7,
     "metadata": {},
     "output_type": "execute_result"
    }
   ],
   "source": [
    "df_ovoce.head(6)"
   ]
  },
  {
   "cell_type": "code",
   "execution_count": 44,
   "id": "e55bfe4c-0cdf-4115-8d76-fec54962e84f",
   "metadata": {},
   "outputs": [],
   "source": [
    "def vypocitej_vydelek_za_artikl(seskupene):\n",
    "    seskupene['vydelek_pobocky'] = seskupene['prodane_mnozstvi'] * seskupene['cena']\n",
    "    return seskupene"
   ]
  },
  {
   "cell_type": "markdown",
   "id": "96cef76c-bde5-4b91-8bbc-dbb208164263",
   "metadata": {},
   "source": [
    "<br>\n",
    "\n",
    "Metoda `apply` je **obecnější a flexibilnější** než `transform`.\n",
    "\n",
    "`apply` umožňuje použít uživatelem definovanou funkci na každou skupinu po seskupení dat pomocí `groupby`.\n",
    "\n",
    "Výsledek metody `apply` může mít jiný tvar než původní data."
   ]
  },
  {
   "cell_type": "code",
   "execution_count": 48,
   "id": "85efa3b5-ebed-4e0c-9791-dadf5c44f174",
   "metadata": {},
   "outputs": [
    {
     "name": "stderr",
     "output_type": "stream",
     "text": [
      "/tmp/ipykernel_10497/1874034112.py:1: FutureWarning: Not prepending group keys to the result index of transform-like apply. In the future, the group keys will be included in the index, regardless of whether the applied function returns a like-indexed object.\n",
      "To preserve the previous behavior, use\n",
      "\n",
      "\t>>> .groupby(..., group_keys=False)\n",
      "\n",
      "To adopt the future behavior and silence this warning, use \n",
      "\n",
      "\t>>> .groupby(..., group_keys=True)\n",
      "  vystup = df_ovoce.groupby('pobocka').apply(vypocitej_vydelek_za_artikl)\n"
     ]
    }
   ],
   "source": [
    "vystup = df_ovoce.groupby('pobocka').apply(vypocitej_vydelek_za_artikl)"
   ]
  },
  {
   "cell_type": "code",
   "execution_count": 15,
   "id": "0318359c-a7ab-496c-ba93-06b5b04d1cc4",
   "metadata": {
    "collapsed": true,
    "jupyter": {
     "outputs_hidden": true
    },
    "tags": []
   },
   "outputs": [
    {
     "data": {
      "text/plain": [
       "\u001b[0;31mSignature:\u001b[0m\n",
       "\u001b[0mdf_ovoce\u001b[0m\u001b[0;34m.\u001b[0m\u001b[0mgroupby\u001b[0m\u001b[0;34m(\u001b[0m\u001b[0;34m\u001b[0m\n",
       "\u001b[0;34m\u001b[0m    \u001b[0mby\u001b[0m\u001b[0;34m=\u001b[0m\u001b[0;32mNone\u001b[0m\u001b[0;34m,\u001b[0m\u001b[0;34m\u001b[0m\n",
       "\u001b[0;34m\u001b[0m    \u001b[0maxis\u001b[0m\u001b[0;34m:\u001b[0m \u001b[0;34m'Axis'\u001b[0m \u001b[0;34m=\u001b[0m \u001b[0;36m0\u001b[0m\u001b[0;34m,\u001b[0m\u001b[0;34m\u001b[0m\n",
       "\u001b[0;34m\u001b[0m    \u001b[0mlevel\u001b[0m\u001b[0;34m:\u001b[0m \u001b[0;34m'IndexLabel | None'\u001b[0m \u001b[0;34m=\u001b[0m \u001b[0;32mNone\u001b[0m\u001b[0;34m,\u001b[0m\u001b[0;34m\u001b[0m\n",
       "\u001b[0;34m\u001b[0m    \u001b[0mas_index\u001b[0m\u001b[0;34m:\u001b[0m \u001b[0;34m'bool'\u001b[0m \u001b[0;34m=\u001b[0m \u001b[0;32mTrue\u001b[0m\u001b[0;34m,\u001b[0m\u001b[0;34m\u001b[0m\n",
       "\u001b[0;34m\u001b[0m    \u001b[0msort\u001b[0m\u001b[0;34m:\u001b[0m \u001b[0;34m'bool'\u001b[0m \u001b[0;34m=\u001b[0m \u001b[0;32mTrue\u001b[0m\u001b[0;34m,\u001b[0m\u001b[0;34m\u001b[0m\n",
       "\u001b[0;34m\u001b[0m    \u001b[0mgroup_keys\u001b[0m\u001b[0;34m:\u001b[0m \u001b[0;34m'bool | lib.NoDefault'\u001b[0m \u001b[0;34m=\u001b[0m \u001b[0;34m<\u001b[0m\u001b[0mno_default\u001b[0m\u001b[0;34m>\u001b[0m\u001b[0;34m,\u001b[0m\u001b[0;34m\u001b[0m\n",
       "\u001b[0;34m\u001b[0m    \u001b[0msqueeze\u001b[0m\u001b[0;34m:\u001b[0m \u001b[0;34m'bool | lib.NoDefault'\u001b[0m \u001b[0;34m=\u001b[0m \u001b[0;34m<\u001b[0m\u001b[0mno_default\u001b[0m\u001b[0;34m>\u001b[0m\u001b[0;34m,\u001b[0m\u001b[0;34m\u001b[0m\n",
       "\u001b[0;34m\u001b[0m    \u001b[0mobserved\u001b[0m\u001b[0;34m:\u001b[0m \u001b[0;34m'bool'\u001b[0m \u001b[0;34m=\u001b[0m \u001b[0;32mFalse\u001b[0m\u001b[0;34m,\u001b[0m\u001b[0;34m\u001b[0m\n",
       "\u001b[0;34m\u001b[0m    \u001b[0mdropna\u001b[0m\u001b[0;34m:\u001b[0m \u001b[0;34m'bool'\u001b[0m \u001b[0;34m=\u001b[0m \u001b[0;32mTrue\u001b[0m\u001b[0;34m,\u001b[0m\u001b[0;34m\u001b[0m\n",
       "\u001b[0;34m\u001b[0m\u001b[0;34m)\u001b[0m \u001b[0;34m->\u001b[0m \u001b[0;34m'DataFrameGroupBy'\u001b[0m\u001b[0;34m\u001b[0m\u001b[0;34m\u001b[0m\u001b[0m\n",
       "\u001b[0;31mDocstring:\u001b[0m\n",
       "Group DataFrame using a mapper or by a Series of columns.\n",
       "\n",
       "A groupby operation involves some combination of splitting the\n",
       "object, applying a function, and combining the results. This can be\n",
       "used to group large amounts of data and compute operations on these\n",
       "groups.\n",
       "\n",
       "Parameters\n",
       "----------\n",
       "by : mapping, function, label, or list of labels\n",
       "    Used to determine the groups for the groupby.\n",
       "    If ``by`` is a function, it's called on each value of the object's\n",
       "    index. If a dict or Series is passed, the Series or dict VALUES\n",
       "    will be used to determine the groups (the Series' values are first\n",
       "    aligned; see ``.align()`` method). If a list or ndarray of length\n",
       "    equal to the selected axis is passed (see the `groupby user guide\n",
       "    <https://pandas.pydata.org/pandas-docs/stable/user_guide/groupby.html#splitting-an-object-into-groups>`_),\n",
       "    the values are used as-is to determine the groups. A label or list\n",
       "    of labels may be passed to group by the columns in ``self``.\n",
       "    Notice that a tuple is interpreted as a (single) key.\n",
       "axis : {0 or 'index', 1 or 'columns'}, default 0\n",
       "    Split along rows (0) or columns (1). For `Series` this parameter\n",
       "    is unused and defaults to 0.\n",
       "level : int, level name, or sequence of such, default None\n",
       "    If the axis is a MultiIndex (hierarchical), group by a particular\n",
       "    level or levels. Do not specify both ``by`` and ``level``.\n",
       "as_index : bool, default True\n",
       "    For aggregated output, return object with group labels as the\n",
       "    index. Only relevant for DataFrame input. as_index=False is\n",
       "    effectively \"SQL-style\" grouped output.\n",
       "sort : bool, default True\n",
       "    Sort group keys. Get better performance by turning this off.\n",
       "    Note this does not influence the order of observations within each\n",
       "    group. Groupby preserves the order of rows within each group.\n",
       "group_keys : bool, optional\n",
       "    When calling apply and the ``by`` argument produces a like-indexed\n",
       "    (i.e. :ref:`a transform <groupby.transform>`) result, add group keys to\n",
       "    index to identify pieces. By default group keys are not included\n",
       "    when the result's index (and column) labels match the inputs, and\n",
       "    are included otherwise. This argument has no effect if the result produced\n",
       "    is not like-indexed with respect to the input.\n",
       "\n",
       "    .. versionchanged:: 1.5.0\n",
       "\n",
       "       Warns that `group_keys` will no longer be ignored when the\n",
       "       result from ``apply`` is a like-indexed Series or DataFrame.\n",
       "       Specify ``group_keys`` explicitly to include the group keys or\n",
       "       not.\n",
       "squeeze : bool, default False\n",
       "    Reduce the dimensionality of the return type if possible,\n",
       "    otherwise return a consistent type.\n",
       "\n",
       "    .. deprecated:: 1.1.0\n",
       "\n",
       "observed : bool, default False\n",
       "    This only applies if any of the groupers are Categoricals.\n",
       "    If True: only show observed values for categorical groupers.\n",
       "    If False: show all values for categorical groupers.\n",
       "dropna : bool, default True\n",
       "    If True, and if group keys contain NA values, NA values together\n",
       "    with row/column will be dropped.\n",
       "    If False, NA values will also be treated as the key in groups.\n",
       "\n",
       "    .. versionadded:: 1.1.0\n",
       "\n",
       "Returns\n",
       "-------\n",
       "DataFrameGroupBy\n",
       "    Returns a groupby object that contains information about the groups.\n",
       "\n",
       "See Also\n",
       "--------\n",
       "resample : Convenience method for frequency conversion and resampling\n",
       "    of time series.\n",
       "\n",
       "Notes\n",
       "-----\n",
       "See the `user guide\n",
       "<https://pandas.pydata.org/pandas-docs/stable/groupby.html>`__ for more\n",
       "detailed usage and examples, including splitting an object into groups,\n",
       "iterating through groups, selecting a group, aggregation, and more.\n",
       "\n",
       "Examples\n",
       "--------\n",
       ">>> df = pd.DataFrame({'Animal': ['Falcon', 'Falcon',\n",
       "...                               'Parrot', 'Parrot'],\n",
       "...                    'Max Speed': [380., 370., 24., 26.]})\n",
       ">>> df\n",
       "   Animal  Max Speed\n",
       "0  Falcon      380.0\n",
       "1  Falcon      370.0\n",
       "2  Parrot       24.0\n",
       "3  Parrot       26.0\n",
       ">>> df.groupby(['Animal']).mean()\n",
       "        Max Speed\n",
       "Animal\n",
       "Falcon      375.0\n",
       "Parrot       25.0\n",
       "\n",
       "**Hierarchical Indexes**\n",
       "\n",
       "We can groupby different levels of a hierarchical index\n",
       "using the `level` parameter:\n",
       "\n",
       ">>> arrays = [['Falcon', 'Falcon', 'Parrot', 'Parrot'],\n",
       "...           ['Captive', 'Wild', 'Captive', 'Wild']]\n",
       ">>> index = pd.MultiIndex.from_arrays(arrays, names=('Animal', 'Type'))\n",
       ">>> df = pd.DataFrame({'Max Speed': [390., 350., 30., 20.]},\n",
       "...                   index=index)\n",
       ">>> df\n",
       "                Max Speed\n",
       "Animal Type\n",
       "Falcon Captive      390.0\n",
       "       Wild         350.0\n",
       "Parrot Captive       30.0\n",
       "       Wild          20.0\n",
       ">>> df.groupby(level=0).mean()\n",
       "        Max Speed\n",
       "Animal\n",
       "Falcon      370.0\n",
       "Parrot       25.0\n",
       ">>> df.groupby(level=\"Type\").mean()\n",
       "         Max Speed\n",
       "Type\n",
       "Captive      210.0\n",
       "Wild         185.0\n",
       "\n",
       "We can also choose to include NA in group keys or not by setting\n",
       "`dropna` parameter, the default setting is `True`.\n",
       "\n",
       ">>> l = [[1, 2, 3], [1, None, 4], [2, 1, 3], [1, 2, 2]]\n",
       ">>> df = pd.DataFrame(l, columns=[\"a\", \"b\", \"c\"])\n",
       "\n",
       ">>> df.groupby(by=[\"b\"]).sum()\n",
       "    a   c\n",
       "b\n",
       "1.0 2   3\n",
       "2.0 2   5\n",
       "\n",
       ">>> df.groupby(by=[\"b\"], dropna=False).sum()\n",
       "    a   c\n",
       "b\n",
       "1.0 2   3\n",
       "2.0 2   5\n",
       "NaN 1   4\n",
       "\n",
       ">>> l = [[\"a\", 12, 12], [None, 12.3, 33.], [\"b\", 12.3, 123], [\"a\", 1, 1]]\n",
       ">>> df = pd.DataFrame(l, columns=[\"a\", \"b\", \"c\"])\n",
       "\n",
       ">>> df.groupby(by=\"a\").sum()\n",
       "    b     c\n",
       "a\n",
       "a   13.0   13.0\n",
       "b   12.3  123.0\n",
       "\n",
       ">>> df.groupby(by=\"a\", dropna=False).sum()\n",
       "    b     c\n",
       "a\n",
       "a   13.0   13.0\n",
       "b   12.3  123.0\n",
       "NaN 12.3   33.0\n",
       "\n",
       "When using ``.apply()``, use ``group_keys`` to include or exclude the group keys.\n",
       "The ``group_keys`` argument defaults to ``True`` (include).\n",
       "\n",
       ">>> df = pd.DataFrame({'Animal': ['Falcon', 'Falcon',\n",
       "...                               'Parrot', 'Parrot'],\n",
       "...                    'Max Speed': [380., 370., 24., 26.]})\n",
       ">>> df.groupby(\"Animal\", group_keys=True).apply(lambda x: x)\n",
       "          Animal  Max Speed\n",
       "Animal\n",
       "Falcon 0  Falcon      380.0\n",
       "       1  Falcon      370.0\n",
       "Parrot 2  Parrot       24.0\n",
       "       3  Parrot       26.0\n",
       "\n",
       ">>> df.groupby(\"Animal\", group_keys=False).apply(lambda x: x)\n",
       "   Animal  Max Speed\n",
       "0  Falcon      380.0\n",
       "1  Falcon      370.0\n",
       "2  Parrot       24.0\n",
       "3  Parrot       26.0\n",
       "\u001b[0;31mFile:\u001b[0m      ~/projects/data-csob-2023/shared/onsite/env/lib/python3.8/site-packages/pandas/core/frame.py\n",
       "\u001b[0;31mType:\u001b[0m      method"
      ]
     },
     "metadata": {},
     "output_type": "display_data"
    }
   ],
   "source": [
    "df_ovoce.groupby?"
   ]
  },
  {
   "cell_type": "markdown",
   "id": "1c3f669a-9cf4-4318-b60a-8cdc11194989",
   "metadata": {},
   "source": [
    "Od posledních verzí frameworku (`1.5.0` a vyšší) platí, že pokud bude výsledkem `DataFrame` nebo `Series` musíš uvést argument pro `group_keys=True`)."
   ]
  },
  {
   "cell_type": "code",
   "execution_count": 49,
   "id": "81552747-c871-4f95-836d-ecbc76c64c1f",
   "metadata": {},
   "outputs": [],
   "source": [
    "vystup = df_ovoce.groupby('pobocka', group_keys=True).apply(vypocitej_vydelek_za_artikl)"
   ]
  },
  {
   "cell_type": "code",
   "execution_count": 50,
   "id": "afe36611-5f51-4f89-8a6f-737b3e320118",
   "metadata": {},
   "outputs": [
    {
     "data": {
      "text/html": [
       "<div>\n",
       "<style scoped>\n",
       "    .dataframe tbody tr th:only-of-type {\n",
       "        vertical-align: middle;\n",
       "    }\n",
       "\n",
       "    .dataframe tbody tr th {\n",
       "        vertical-align: top;\n",
       "    }\n",
       "\n",
       "    .dataframe thead th {\n",
       "        text-align: right;\n",
       "    }\n",
       "</style>\n",
       "<table border=\"1\" class=\"dataframe\">\n",
       "  <thead>\n",
       "    <tr style=\"text-align: right;\">\n",
       "      <th></th>\n",
       "      <th></th>\n",
       "      <th>pobocka</th>\n",
       "      <th>ovoce</th>\n",
       "      <th>prodane_mnozstvi</th>\n",
       "      <th>cena</th>\n",
       "      <th>vydelek_pobocky</th>\n",
       "    </tr>\n",
       "    <tr>\n",
       "      <th>pobocka</th>\n",
       "      <th></th>\n",
       "      <th></th>\n",
       "      <th></th>\n",
       "      <th></th>\n",
       "      <th></th>\n",
       "      <th></th>\n",
       "    </tr>\n",
       "  </thead>\n",
       "  <tbody>\n",
       "    <tr>\n",
       "      <th rowspan=\"2\" valign=\"top\">A</th>\n",
       "      <th>0</th>\n",
       "      <td>A</td>\n",
       "      <td>jablko</td>\n",
       "      <td>10</td>\n",
       "      <td>20</td>\n",
       "      <td>200</td>\n",
       "    </tr>\n",
       "    <tr>\n",
       "      <th>1</th>\n",
       "      <td>A</td>\n",
       "      <td>banan</td>\n",
       "      <td>15</td>\n",
       "      <td>12</td>\n",
       "      <td>180</td>\n",
       "    </tr>\n",
       "    <tr>\n",
       "      <th rowspan=\"2\" valign=\"top\">B</th>\n",
       "      <th>2</th>\n",
       "      <td>B</td>\n",
       "      <td>jablko</td>\n",
       "      <td>8</td>\n",
       "      <td>22</td>\n",
       "      <td>176</td>\n",
       "    </tr>\n",
       "    <tr>\n",
       "      <th>3</th>\n",
       "      <td>B</td>\n",
       "      <td>banan</td>\n",
       "      <td>30</td>\n",
       "      <td>10</td>\n",
       "      <td>300</td>\n",
       "    </tr>\n",
       "    <tr>\n",
       "      <th rowspan=\"2\" valign=\"top\">C</th>\n",
       "      <th>4</th>\n",
       "      <td>C</td>\n",
       "      <td>jablko</td>\n",
       "      <td>20</td>\n",
       "      <td>18</td>\n",
       "      <td>360</td>\n",
       "    </tr>\n",
       "    <tr>\n",
       "      <th>5</th>\n",
       "      <td>C</td>\n",
       "      <td>banan</td>\n",
       "      <td>25</td>\n",
       "      <td>15</td>\n",
       "      <td>375</td>\n",
       "    </tr>\n",
       "  </tbody>\n",
       "</table>\n",
       "</div>"
      ],
      "text/plain": [
       "          pobocka   ovoce  prodane_mnozstvi  cena  vydelek_pobocky\n",
       "pobocka                                                           \n",
       "A       0       A  jablko                10    20              200\n",
       "        1       A   banan                15    12              180\n",
       "B       2       B  jablko                 8    22              176\n",
       "        3       B   banan                30    10              300\n",
       "C       4       C  jablko                20    18              360\n",
       "        5       C   banan                25    15              375"
      ]
     },
     "execution_count": 50,
     "metadata": {},
     "output_type": "execute_result"
    }
   ],
   "source": [
    "vystup.head(6)"
   ]
  },
  {
   "cell_type": "markdown",
   "id": "d239a75a-8c15-4d41-a7d8-96bc14b22db9",
   "metadata": {},
   "source": [
    "Na první pohled vypadají metody `apply` a `transform` docela podobně.\n",
    "\n",
    "Metoda `transform` je trochu omezenější než `apply`.\n",
    "\n",
    "Slouží k aplikaci uživatelem definované nebo vestavěné funkce **na každý prvek** skupiny po seskupení s `groupby`.\n",
    "\n",
    "`transform` musí vracet hodnotu stejného tvaru jako vstupní data.\n",
    "\n",
    "Výsledek metody `transform` **má stejný tvar jako původní data**.\n",
    "\n",
    "#### Apply\n",
    "* potřebuješ výsledek, který **má jiný tvar než původní data**,\n",
    "* umí zpracovat **více sloupečků současně**.\n",
    "\n",
    "#### Transform\n",
    "* potřebuješ výsledek, který **má stejný tvar jako původní data**,\n",
    "* umí zpracovat **pouze jeden sloupeček**."
   ]
  },
  {
   "cell_type": "code",
   "execution_count": 70,
   "id": "c300c5f0-6144-4fa7-b26d-585021c5c4a3",
   "metadata": {
    "tags": []
   },
   "outputs": [],
   "source": [
    "df_rozdily = DataFrame({\n",
    "    'KLIC': ['A','B','C'] * 3,\n",
    "    'A': np.arange(9),\n",
    "    'B': [1,2,3] * 3,\n",
    "})"
   ]
  },
  {
   "cell_type": "code",
   "execution_count": 71,
   "id": "55cb53af-75d4-4b89-b09e-0e38abae2b68",
   "metadata": {
    "tags": []
   },
   "outputs": [
    {
     "data": {
      "text/html": [
       "<div>\n",
       "<style scoped>\n",
       "    .dataframe tbody tr th:only-of-type {\n",
       "        vertical-align: middle;\n",
       "    }\n",
       "\n",
       "    .dataframe tbody tr th {\n",
       "        vertical-align: top;\n",
       "    }\n",
       "\n",
       "    .dataframe thead th {\n",
       "        text-align: right;\n",
       "    }\n",
       "</style>\n",
       "<table border=\"1\" class=\"dataframe\">\n",
       "  <thead>\n",
       "    <tr style=\"text-align: right;\">\n",
       "      <th></th>\n",
       "      <th>KLIC</th>\n",
       "      <th>A</th>\n",
       "      <th>B</th>\n",
       "    </tr>\n",
       "  </thead>\n",
       "  <tbody>\n",
       "    <tr>\n",
       "      <th>0</th>\n",
       "      <td>A</td>\n",
       "      <td>0</td>\n",
       "      <td>1</td>\n",
       "    </tr>\n",
       "    <tr>\n",
       "      <th>1</th>\n",
       "      <td>B</td>\n",
       "      <td>1</td>\n",
       "      <td>2</td>\n",
       "    </tr>\n",
       "    <tr>\n",
       "      <th>2</th>\n",
       "      <td>C</td>\n",
       "      <td>2</td>\n",
       "      <td>3</td>\n",
       "    </tr>\n",
       "    <tr>\n",
       "      <th>3</th>\n",
       "      <td>A</td>\n",
       "      <td>3</td>\n",
       "      <td>1</td>\n",
       "    </tr>\n",
       "    <tr>\n",
       "      <th>4</th>\n",
       "      <td>B</td>\n",
       "      <td>4</td>\n",
       "      <td>2</td>\n",
       "    </tr>\n",
       "    <tr>\n",
       "      <th>5</th>\n",
       "      <td>C</td>\n",
       "      <td>5</td>\n",
       "      <td>3</td>\n",
       "    </tr>\n",
       "    <tr>\n",
       "      <th>6</th>\n",
       "      <td>A</td>\n",
       "      <td>6</td>\n",
       "      <td>1</td>\n",
       "    </tr>\n",
       "    <tr>\n",
       "      <th>7</th>\n",
       "      <td>B</td>\n",
       "      <td>7</td>\n",
       "      <td>2</td>\n",
       "    </tr>\n",
       "    <tr>\n",
       "      <th>8</th>\n",
       "      <td>C</td>\n",
       "      <td>8</td>\n",
       "      <td>3</td>\n",
       "    </tr>\n",
       "  </tbody>\n",
       "</table>\n",
       "</div>"
      ],
      "text/plain": [
       "  KLIC  A  B\n",
       "0    A  0  1\n",
       "1    B  1  2\n",
       "2    C  2  3\n",
       "3    A  3  1\n",
       "4    B  4  2\n",
       "5    C  5  3\n",
       "6    A  6  1\n",
       "7    B  7  2\n",
       "8    C  8  3"
      ]
     },
     "execution_count": 71,
     "metadata": {},
     "output_type": "execute_result"
    }
   ],
   "source": [
    "df_rozdily"
   ]
  },
  {
   "cell_type": "markdown",
   "id": "7dbfd38d-5150-4fd7-b8ae-e12984940768",
   "metadata": {},
   "source": [
    "#### `transform` vrací výsledky ve stejném tvaru"
   ]
  },
  {
   "cell_type": "code",
   "execution_count": 72,
   "id": "cea77fd6-f097-4f89-8f04-ca6fc192fcdb",
   "metadata": {
    "tags": []
   },
   "outputs": [],
   "source": [
    "def vypocitej_sumu(data):\n",
    "    return data.sum()"
   ]
  },
  {
   "cell_type": "code",
   "execution_count": 76,
   "id": "624ec01b-6529-4966-8461-e14017b8feda",
   "metadata": {
    "tags": []
   },
   "outputs": [],
   "source": [
    "seskup_df_rozdily_apply = df_rozdily.groupby('KLIC')['A'].apply(vypocitej_sumu)"
   ]
  },
  {
   "cell_type": "code",
   "execution_count": 77,
   "id": "280415b9-adaf-4e03-b1a5-903115d6b425",
   "metadata": {
    "tags": []
   },
   "outputs": [
    {
     "data": {
      "text/plain": [
       "KLIC\n",
       "A     9\n",
       "B    12\n",
       "C    15\n",
       "Name: A, dtype: int64"
      ]
     },
     "execution_count": 77,
     "metadata": {},
     "output_type": "execute_result"
    }
   ],
   "source": [
    "seskup_df_rozdily_apply"
   ]
  },
  {
   "cell_type": "code",
   "execution_count": 78,
   "id": "194c0417-2b62-4cca-920e-b6004319feef",
   "metadata": {
    "tags": []
   },
   "outputs": [],
   "source": [
    "seskup_df_rozdily_trans = df_rozdily.groupby('KLIC')['A'].transform(vypocitej_sumu)"
   ]
  },
  {
   "cell_type": "code",
   "execution_count": 79,
   "id": "ffe07d32-7af6-483f-bf7a-753444503f52",
   "metadata": {
    "tags": []
   },
   "outputs": [
    {
     "data": {
      "text/plain": [
       "0     9\n",
       "1    12\n",
       "2    15\n",
       "3     9\n",
       "4    12\n",
       "5    15\n",
       "6     9\n",
       "7    12\n",
       "8    15\n",
       "Name: A, dtype: int64"
      ]
     },
     "execution_count": 79,
     "metadata": {},
     "output_type": "execute_result"
    }
   ],
   "source": [
    "seskup_df_rozdily_trans"
   ]
  },
  {
   "cell_type": "markdown",
   "id": "c3012581-c13c-4352-9b55-b5da71596e0c",
   "metadata": {},
   "source": [
    "#### `apply` umí pracovat s více sloupečky, `transform` jen s jedním"
   ]
  },
  {
   "cell_type": "code",
   "execution_count": 80,
   "id": "79dfb39b-a39b-4311-b6a4-790c536478ca",
   "metadata": {
    "tags": []
   },
   "outputs": [],
   "source": [
    "def vypocitej_rozdil(data):\n",
    "    return data['B'] - data['A']"
   ]
  },
  {
   "cell_type": "code",
   "execution_count": 81,
   "id": "d282c7f1-e633-41c0-ae70-b2d011a3c4d2",
   "metadata": {
    "tags": []
   },
   "outputs": [
    {
     "data": {
      "text/plain": [
       "KLIC   \n",
       "A     0    1\n",
       "      3   -2\n",
       "      6   -5\n",
       "B     1    1\n",
       "      4   -2\n",
       "      7   -5\n",
       "C     2    1\n",
       "      5   -2\n",
       "      8   -5\n",
       "dtype: int64"
      ]
     },
     "execution_count": 81,
     "metadata": {},
     "output_type": "execute_result"
    }
   ],
   "source": [
    "df_rozdily.groupby('KLIC').apply(vypocitej_rozdil)"
   ]
  },
  {
   "cell_type": "code",
   "execution_count": 82,
   "id": "3fc45149-c3be-4732-83b7-39d9565206b5",
   "metadata": {
    "collapsed": true,
    "jupyter": {
     "outputs_hidden": true
    },
    "tags": []
   },
   "outputs": [
    {
     "ename": "KeyError",
     "evalue": "'B'",
     "output_type": "error",
     "traceback": [
      "\u001b[0;31m---------------------------------------------------------------------------\u001b[0m",
      "\u001b[0;31mKeyError\u001b[0m                                  Traceback (most recent call last)",
      "File \u001b[0;32m~/projects/data-csob-2023/shared/onsite/env/lib/python3.8/site-packages/pandas/core/indexes/base.py:3802\u001b[0m, in \u001b[0;36mIndex.get_loc\u001b[0;34m(self, key, method, tolerance)\u001b[0m\n\u001b[1;32m   3801\u001b[0m \u001b[38;5;28;01mtry\u001b[39;00m:\n\u001b[0;32m-> 3802\u001b[0m     \u001b[38;5;28;01mreturn\u001b[39;00m \u001b[38;5;28;43mself\u001b[39;49m\u001b[38;5;241;43m.\u001b[39;49m\u001b[43m_engine\u001b[49m\u001b[38;5;241;43m.\u001b[39;49m\u001b[43mget_loc\u001b[49m\u001b[43m(\u001b[49m\u001b[43mcasted_key\u001b[49m\u001b[43m)\u001b[49m\n\u001b[1;32m   3803\u001b[0m \u001b[38;5;28;01mexcept\u001b[39;00m \u001b[38;5;167;01mKeyError\u001b[39;00m \u001b[38;5;28;01mas\u001b[39;00m err:\n",
      "File \u001b[0;32m~/projects/data-csob-2023/shared/onsite/env/lib/python3.8/site-packages/pandas/_libs/index.pyx:138\u001b[0m, in \u001b[0;36mpandas._libs.index.IndexEngine.get_loc\u001b[0;34m()\u001b[0m\n",
      "File \u001b[0;32m~/projects/data-csob-2023/shared/onsite/env/lib/python3.8/site-packages/pandas/_libs/index.pyx:146\u001b[0m, in \u001b[0;36mpandas._libs.index.IndexEngine.get_loc\u001b[0;34m()\u001b[0m\n",
      "File \u001b[0;32mpandas/_libs/index_class_helper.pxi:49\u001b[0m, in \u001b[0;36mpandas._libs.index.Int64Engine._check_type\u001b[0;34m()\u001b[0m\n",
      "\u001b[0;31mKeyError\u001b[0m: 'B'",
      "\nThe above exception was the direct cause of the following exception:\n",
      "\u001b[0;31mKeyError\u001b[0m                                  Traceback (most recent call last)",
      "Cell \u001b[0;32mIn[82], line 1\u001b[0m\n\u001b[0;32m----> 1\u001b[0m \u001b[43mdf_rozdily\u001b[49m\u001b[38;5;241;43m.\u001b[39;49m\u001b[43mgroupby\u001b[49m\u001b[43m(\u001b[49m\u001b[38;5;124;43m'\u001b[39;49m\u001b[38;5;124;43mKLIC\u001b[39;49m\u001b[38;5;124;43m'\u001b[39;49m\u001b[43m)\u001b[49m\u001b[38;5;241;43m.\u001b[39;49m\u001b[43mtransform\u001b[49m\u001b[43m(\u001b[49m\u001b[43mvypocitej_rozdil\u001b[49m\u001b[43m)\u001b[49m\n",
      "File \u001b[0;32m~/projects/data-csob-2023/shared/onsite/env/lib/python3.8/site-packages/pandas/core/groupby/generic.py:1256\u001b[0m, in \u001b[0;36mDataFrameGroupBy.transform\u001b[0;34m(self, func, engine, engine_kwargs, *args, **kwargs)\u001b[0m\n\u001b[1;32m   1253\u001b[0m \u001b[38;5;129m@Substitution\u001b[39m(klass\u001b[38;5;241m=\u001b[39m\u001b[38;5;124m\"\u001b[39m\u001b[38;5;124mDataFrame\u001b[39m\u001b[38;5;124m\"\u001b[39m)\n\u001b[1;32m   1254\u001b[0m \u001b[38;5;129m@Appender\u001b[39m(_transform_template)\n\u001b[1;32m   1255\u001b[0m \u001b[38;5;28;01mdef\u001b[39;00m \u001b[38;5;21mtransform\u001b[39m(\u001b[38;5;28mself\u001b[39m, func, \u001b[38;5;241m*\u001b[39margs, engine\u001b[38;5;241m=\u001b[39m\u001b[38;5;28;01mNone\u001b[39;00m, engine_kwargs\u001b[38;5;241m=\u001b[39m\u001b[38;5;28;01mNone\u001b[39;00m, \u001b[38;5;241m*\u001b[39m\u001b[38;5;241m*\u001b[39mkwargs):\n\u001b[0;32m-> 1256\u001b[0m     \u001b[38;5;28;01mreturn\u001b[39;00m \u001b[38;5;28;43mself\u001b[39;49m\u001b[38;5;241;43m.\u001b[39;49m\u001b[43m_transform\u001b[49m\u001b[43m(\u001b[49m\n\u001b[1;32m   1257\u001b[0m \u001b[43m        \u001b[49m\u001b[43mfunc\u001b[49m\u001b[43m,\u001b[49m\u001b[43m \u001b[49m\u001b[38;5;241;43m*\u001b[39;49m\u001b[43margs\u001b[49m\u001b[43m,\u001b[49m\u001b[43m \u001b[49m\u001b[43mengine\u001b[49m\u001b[38;5;241;43m=\u001b[39;49m\u001b[43mengine\u001b[49m\u001b[43m,\u001b[49m\u001b[43m \u001b[49m\u001b[43mengine_kwargs\u001b[49m\u001b[38;5;241;43m=\u001b[39;49m\u001b[43mengine_kwargs\u001b[49m\u001b[43m,\u001b[49m\u001b[43m \u001b[49m\u001b[38;5;241;43m*\u001b[39;49m\u001b[38;5;241;43m*\u001b[39;49m\u001b[43mkwargs\u001b[49m\n\u001b[1;32m   1258\u001b[0m \u001b[43m    \u001b[49m\u001b[43m)\u001b[49m\n",
      "File \u001b[0;32m~/projects/data-csob-2023/shared/onsite/env/lib/python3.8/site-packages/pandas/core/groupby/groupby.py:1851\u001b[0m, in \u001b[0;36mGroupBy._transform\u001b[0;34m(self, func, engine, engine_kwargs, *args, **kwargs)\u001b[0m\n\u001b[1;32m   1848\u001b[0m func \u001b[38;5;241m=\u001b[39m com\u001b[38;5;241m.\u001b[39mget_cython_func(func) \u001b[38;5;129;01mor\u001b[39;00m func\n\u001b[1;32m   1850\u001b[0m \u001b[38;5;28;01mif\u001b[39;00m \u001b[38;5;129;01mnot\u001b[39;00m \u001b[38;5;28misinstance\u001b[39m(func, \u001b[38;5;28mstr\u001b[39m):\n\u001b[0;32m-> 1851\u001b[0m     \u001b[38;5;28;01mreturn\u001b[39;00m \u001b[38;5;28;43mself\u001b[39;49m\u001b[38;5;241;43m.\u001b[39;49m\u001b[43m_transform_general\u001b[49m\u001b[43m(\u001b[49m\u001b[43mfunc\u001b[49m\u001b[43m,\u001b[49m\u001b[43m \u001b[49m\u001b[38;5;241;43m*\u001b[39;49m\u001b[43margs\u001b[49m\u001b[43m,\u001b[49m\u001b[43m \u001b[49m\u001b[38;5;241;43m*\u001b[39;49m\u001b[38;5;241;43m*\u001b[39;49m\u001b[43mkwargs\u001b[49m\u001b[43m)\u001b[49m\n\u001b[1;32m   1853\u001b[0m \u001b[38;5;28;01melif\u001b[39;00m func \u001b[38;5;129;01mnot\u001b[39;00m \u001b[38;5;129;01min\u001b[39;00m base\u001b[38;5;241m.\u001b[39mtransform_kernel_allowlist:\n\u001b[1;32m   1854\u001b[0m     msg \u001b[38;5;241m=\u001b[39m \u001b[38;5;124mf\u001b[39m\u001b[38;5;124m\"\u001b[39m\u001b[38;5;124m'\u001b[39m\u001b[38;5;132;01m{\u001b[39;00mfunc\u001b[38;5;132;01m}\u001b[39;00m\u001b[38;5;124m'\u001b[39m\u001b[38;5;124m is not a valid function name for transform(name)\u001b[39m\u001b[38;5;124m\"\u001b[39m\n",
      "File \u001b[0;32m~/projects/data-csob-2023/shared/onsite/env/lib/python3.8/site-packages/pandas/core/groupby/generic.py:1209\u001b[0m, in \u001b[0;36mDataFrameGroupBy._transform_general\u001b[0;34m(self, func, *args, **kwargs)\u001b[0m\n\u001b[1;32m   1207\u001b[0m \u001b[38;5;28mobject\u001b[39m\u001b[38;5;241m.\u001b[39m\u001b[38;5;21m__setattr__\u001b[39m(group, \u001b[38;5;124m\"\u001b[39m\u001b[38;5;124mname\u001b[39m\u001b[38;5;124m\"\u001b[39m, name)\n\u001b[1;32m   1208\u001b[0m \u001b[38;5;28;01mtry\u001b[39;00m:\n\u001b[0;32m-> 1209\u001b[0m     path, res \u001b[38;5;241m=\u001b[39m \u001b[38;5;28;43mself\u001b[39;49m\u001b[38;5;241;43m.\u001b[39;49m\u001b[43m_choose_path\u001b[49m\u001b[43m(\u001b[49m\u001b[43mfast_path\u001b[49m\u001b[43m,\u001b[49m\u001b[43m \u001b[49m\u001b[43mslow_path\u001b[49m\u001b[43m,\u001b[49m\u001b[43m \u001b[49m\u001b[43mgroup\u001b[49m\u001b[43m)\u001b[49m\n\u001b[1;32m   1210\u001b[0m \u001b[38;5;28;01mexcept\u001b[39;00m \u001b[38;5;167;01mTypeError\u001b[39;00m:\n\u001b[1;32m   1211\u001b[0m     \u001b[38;5;28;01mreturn\u001b[39;00m \u001b[38;5;28mself\u001b[39m\u001b[38;5;241m.\u001b[39m_transform_item_by_item(obj, fast_path)\n",
      "File \u001b[0;32m~/projects/data-csob-2023/shared/onsite/env/lib/python3.8/site-packages/pandas/core/groupby/generic.py:1275\u001b[0m, in \u001b[0;36mDataFrameGroupBy._choose_path\u001b[0;34m(self, fast_path, slow_path, group)\u001b[0m\n\u001b[1;32m   1273\u001b[0m \u001b[38;5;28;01mdef\u001b[39;00m \u001b[38;5;21m_choose_path\u001b[39m(\u001b[38;5;28mself\u001b[39m, fast_path: Callable, slow_path: Callable, group: DataFrame):\n\u001b[1;32m   1274\u001b[0m     path \u001b[38;5;241m=\u001b[39m slow_path\n\u001b[0;32m-> 1275\u001b[0m     res \u001b[38;5;241m=\u001b[39m \u001b[43mslow_path\u001b[49m\u001b[43m(\u001b[49m\u001b[43mgroup\u001b[49m\u001b[43m)\u001b[49m\n\u001b[1;32m   1277\u001b[0m     \u001b[38;5;28;01mif\u001b[39;00m \u001b[38;5;28mself\u001b[39m\u001b[38;5;241m.\u001b[39mngroups \u001b[38;5;241m==\u001b[39m \u001b[38;5;241m1\u001b[39m:\n\u001b[1;32m   1278\u001b[0m         \u001b[38;5;66;03m# no need to evaluate multiple paths when only\u001b[39;00m\n\u001b[1;32m   1279\u001b[0m         \u001b[38;5;66;03m# a single group exists\u001b[39;00m\n\u001b[1;32m   1280\u001b[0m         \u001b[38;5;28;01mreturn\u001b[39;00m path, res\n",
      "File \u001b[0;32m~/projects/data-csob-2023/shared/onsite/env/lib/python3.8/site-packages/pandas/core/groupby/generic.py:1268\u001b[0m, in \u001b[0;36mDataFrameGroupBy._define_paths.<locals>.<lambda>\u001b[0;34m(group)\u001b[0m\n\u001b[1;32m   1266\u001b[0m \u001b[38;5;28;01melse\u001b[39;00m:\n\u001b[1;32m   1267\u001b[0m     fast_path \u001b[38;5;241m=\u001b[39m \u001b[38;5;28;01mlambda\u001b[39;00m group: func(group, \u001b[38;5;241m*\u001b[39margs, \u001b[38;5;241m*\u001b[39m\u001b[38;5;241m*\u001b[39mkwargs)\n\u001b[0;32m-> 1268\u001b[0m     slow_path \u001b[38;5;241m=\u001b[39m \u001b[38;5;28;01mlambda\u001b[39;00m group: \u001b[43mgroup\u001b[49m\u001b[38;5;241;43m.\u001b[39;49m\u001b[43mapply\u001b[49m\u001b[43m(\u001b[49m\n\u001b[1;32m   1269\u001b[0m \u001b[43m        \u001b[49m\u001b[38;5;28;43;01mlambda\u001b[39;49;00m\u001b[43m \u001b[49m\u001b[43mx\u001b[49m\u001b[43m:\u001b[49m\u001b[43m \u001b[49m\u001b[43mfunc\u001b[49m\u001b[43m(\u001b[49m\u001b[43mx\u001b[49m\u001b[43m,\u001b[49m\u001b[43m \u001b[49m\u001b[38;5;241;43m*\u001b[39;49m\u001b[43margs\u001b[49m\u001b[43m,\u001b[49m\u001b[43m \u001b[49m\u001b[38;5;241;43m*\u001b[39;49m\u001b[38;5;241;43m*\u001b[39;49m\u001b[43mkwargs\u001b[49m\u001b[43m)\u001b[49m\u001b[43m,\u001b[49m\u001b[43m \u001b[49m\u001b[43maxis\u001b[49m\u001b[38;5;241;43m=\u001b[39;49m\u001b[38;5;28;43mself\u001b[39;49m\u001b[38;5;241;43m.\u001b[39;49m\u001b[43maxis\u001b[49m\n\u001b[1;32m   1270\u001b[0m \u001b[43m    \u001b[49m\u001b[43m)\u001b[49m\n\u001b[1;32m   1271\u001b[0m \u001b[38;5;28;01mreturn\u001b[39;00m fast_path, slow_path\n",
      "File \u001b[0;32m~/projects/data-csob-2023/shared/onsite/env/lib/python3.8/site-packages/pandas/core/frame.py:9568\u001b[0m, in \u001b[0;36mDataFrame.apply\u001b[0;34m(self, func, axis, raw, result_type, args, **kwargs)\u001b[0m\n\u001b[1;32m   9557\u001b[0m \u001b[38;5;28;01mfrom\u001b[39;00m \u001b[38;5;21;01mpandas\u001b[39;00m\u001b[38;5;21;01m.\u001b[39;00m\u001b[38;5;21;01mcore\u001b[39;00m\u001b[38;5;21;01m.\u001b[39;00m\u001b[38;5;21;01mapply\u001b[39;00m \u001b[38;5;28;01mimport\u001b[39;00m frame_apply\n\u001b[1;32m   9559\u001b[0m op \u001b[38;5;241m=\u001b[39m frame_apply(\n\u001b[1;32m   9560\u001b[0m     \u001b[38;5;28mself\u001b[39m,\n\u001b[1;32m   9561\u001b[0m     func\u001b[38;5;241m=\u001b[39mfunc,\n\u001b[0;32m   (...)\u001b[0m\n\u001b[1;32m   9566\u001b[0m     kwargs\u001b[38;5;241m=\u001b[39mkwargs,\n\u001b[1;32m   9567\u001b[0m )\n\u001b[0;32m-> 9568\u001b[0m \u001b[38;5;28;01mreturn\u001b[39;00m \u001b[43mop\u001b[49m\u001b[38;5;241;43m.\u001b[39;49m\u001b[43mapply\u001b[49m\u001b[43m(\u001b[49m\u001b[43m)\u001b[49m\u001b[38;5;241m.\u001b[39m__finalize__(\u001b[38;5;28mself\u001b[39m, method\u001b[38;5;241m=\u001b[39m\u001b[38;5;124m\"\u001b[39m\u001b[38;5;124mapply\u001b[39m\u001b[38;5;124m\"\u001b[39m)\n",
      "File \u001b[0;32m~/projects/data-csob-2023/shared/onsite/env/lib/python3.8/site-packages/pandas/core/apply.py:764\u001b[0m, in \u001b[0;36mFrameApply.apply\u001b[0;34m(self)\u001b[0m\n\u001b[1;32m    761\u001b[0m \u001b[38;5;28;01melif\u001b[39;00m \u001b[38;5;28mself\u001b[39m\u001b[38;5;241m.\u001b[39mraw:\n\u001b[1;32m    762\u001b[0m     \u001b[38;5;28;01mreturn\u001b[39;00m \u001b[38;5;28mself\u001b[39m\u001b[38;5;241m.\u001b[39mapply_raw()\n\u001b[0;32m--> 764\u001b[0m \u001b[38;5;28;01mreturn\u001b[39;00m \u001b[38;5;28;43mself\u001b[39;49m\u001b[38;5;241;43m.\u001b[39;49m\u001b[43mapply_standard\u001b[49m\u001b[43m(\u001b[49m\u001b[43m)\u001b[49m\n",
      "File \u001b[0;32m~/projects/data-csob-2023/shared/onsite/env/lib/python3.8/site-packages/pandas/core/apply.py:891\u001b[0m, in \u001b[0;36mFrameApply.apply_standard\u001b[0;34m(self)\u001b[0m\n\u001b[1;32m    890\u001b[0m \u001b[38;5;28;01mdef\u001b[39;00m \u001b[38;5;21mapply_standard\u001b[39m(\u001b[38;5;28mself\u001b[39m):\n\u001b[0;32m--> 891\u001b[0m     results, res_index \u001b[38;5;241m=\u001b[39m \u001b[38;5;28;43mself\u001b[39;49m\u001b[38;5;241;43m.\u001b[39;49m\u001b[43mapply_series_generator\u001b[49m\u001b[43m(\u001b[49m\u001b[43m)\u001b[49m\n\u001b[1;32m    893\u001b[0m     \u001b[38;5;66;03m# wrap results\u001b[39;00m\n\u001b[1;32m    894\u001b[0m     \u001b[38;5;28;01mreturn\u001b[39;00m \u001b[38;5;28mself\u001b[39m\u001b[38;5;241m.\u001b[39mwrap_results(results, res_index)\n",
      "File \u001b[0;32m~/projects/data-csob-2023/shared/onsite/env/lib/python3.8/site-packages/pandas/core/apply.py:907\u001b[0m, in \u001b[0;36mFrameApply.apply_series_generator\u001b[0;34m(self)\u001b[0m\n\u001b[1;32m    904\u001b[0m \u001b[38;5;28;01mwith\u001b[39;00m option_context(\u001b[38;5;124m\"\u001b[39m\u001b[38;5;124mmode.chained_assignment\u001b[39m\u001b[38;5;124m\"\u001b[39m, \u001b[38;5;28;01mNone\u001b[39;00m):\n\u001b[1;32m    905\u001b[0m     \u001b[38;5;28;01mfor\u001b[39;00m i, v \u001b[38;5;129;01min\u001b[39;00m \u001b[38;5;28menumerate\u001b[39m(series_gen):\n\u001b[1;32m    906\u001b[0m         \u001b[38;5;66;03m# ignore SettingWithCopy here in case the user mutates\u001b[39;00m\n\u001b[0;32m--> 907\u001b[0m         results[i] \u001b[38;5;241m=\u001b[39m \u001b[38;5;28;43mself\u001b[39;49m\u001b[38;5;241;43m.\u001b[39;49m\u001b[43mf\u001b[49m\u001b[43m(\u001b[49m\u001b[43mv\u001b[49m\u001b[43m)\u001b[49m\n\u001b[1;32m    908\u001b[0m         \u001b[38;5;28;01mif\u001b[39;00m \u001b[38;5;28misinstance\u001b[39m(results[i], ABCSeries):\n\u001b[1;32m    909\u001b[0m             \u001b[38;5;66;03m# If we have a view on v, we need to make a copy because\u001b[39;00m\n\u001b[1;32m    910\u001b[0m             \u001b[38;5;66;03m#  series_generator will swap out the underlying data\u001b[39;00m\n\u001b[1;32m    911\u001b[0m             results[i] \u001b[38;5;241m=\u001b[39m results[i]\u001b[38;5;241m.\u001b[39mcopy(deep\u001b[38;5;241m=\u001b[39m\u001b[38;5;28;01mFalse\u001b[39;00m)\n",
      "File \u001b[0;32m~/projects/data-csob-2023/shared/onsite/env/lib/python3.8/site-packages/pandas/core/groupby/generic.py:1269\u001b[0m, in \u001b[0;36mDataFrameGroupBy._define_paths.<locals>.<lambda>.<locals>.<lambda>\u001b[0;34m(x)\u001b[0m\n\u001b[1;32m   1266\u001b[0m \u001b[38;5;28;01melse\u001b[39;00m:\n\u001b[1;32m   1267\u001b[0m     fast_path \u001b[38;5;241m=\u001b[39m \u001b[38;5;28;01mlambda\u001b[39;00m group: func(group, \u001b[38;5;241m*\u001b[39margs, \u001b[38;5;241m*\u001b[39m\u001b[38;5;241m*\u001b[39mkwargs)\n\u001b[1;32m   1268\u001b[0m     slow_path \u001b[38;5;241m=\u001b[39m \u001b[38;5;28;01mlambda\u001b[39;00m group: group\u001b[38;5;241m.\u001b[39mapply(\n\u001b[0;32m-> 1269\u001b[0m         \u001b[38;5;28;01mlambda\u001b[39;00m x: \u001b[43mfunc\u001b[49m\u001b[43m(\u001b[49m\u001b[43mx\u001b[49m\u001b[43m,\u001b[49m\u001b[43m \u001b[49m\u001b[38;5;241;43m*\u001b[39;49m\u001b[43margs\u001b[49m\u001b[43m,\u001b[49m\u001b[43m \u001b[49m\u001b[38;5;241;43m*\u001b[39;49m\u001b[38;5;241;43m*\u001b[39;49m\u001b[43mkwargs\u001b[49m\u001b[43m)\u001b[49m, axis\u001b[38;5;241m=\u001b[39m\u001b[38;5;28mself\u001b[39m\u001b[38;5;241m.\u001b[39maxis\n\u001b[1;32m   1270\u001b[0m     )\n\u001b[1;32m   1271\u001b[0m \u001b[38;5;28;01mreturn\u001b[39;00m fast_path, slow_path\n",
      "Cell \u001b[0;32mIn[80], line 2\u001b[0m, in \u001b[0;36mvypocitej_rozdil\u001b[0;34m(data)\u001b[0m\n\u001b[1;32m      1\u001b[0m \u001b[38;5;28;01mdef\u001b[39;00m \u001b[38;5;21mvypocitej_rozdil\u001b[39m(data):\n\u001b[0;32m----> 2\u001b[0m     \u001b[38;5;28;01mreturn\u001b[39;00m \u001b[43mdata\u001b[49m\u001b[43m[\u001b[49m\u001b[38;5;124;43m'\u001b[39;49m\u001b[38;5;124;43mB\u001b[39;49m\u001b[38;5;124;43m'\u001b[39;49m\u001b[43m]\u001b[49m \u001b[38;5;241m-\u001b[39m data[\u001b[38;5;124m'\u001b[39m\u001b[38;5;124mA\u001b[39m\u001b[38;5;124m'\u001b[39m]\n",
      "File \u001b[0;32m~/projects/data-csob-2023/shared/onsite/env/lib/python3.8/site-packages/pandas/core/series.py:981\u001b[0m, in \u001b[0;36mSeries.__getitem__\u001b[0;34m(self, key)\u001b[0m\n\u001b[1;32m    978\u001b[0m     \u001b[38;5;28;01mreturn\u001b[39;00m \u001b[38;5;28mself\u001b[39m\u001b[38;5;241m.\u001b[39m_values[key]\n\u001b[1;32m    980\u001b[0m \u001b[38;5;28;01melif\u001b[39;00m key_is_scalar:\n\u001b[0;32m--> 981\u001b[0m     \u001b[38;5;28;01mreturn\u001b[39;00m \u001b[38;5;28;43mself\u001b[39;49m\u001b[38;5;241;43m.\u001b[39;49m\u001b[43m_get_value\u001b[49m\u001b[43m(\u001b[49m\u001b[43mkey\u001b[49m\u001b[43m)\u001b[49m\n\u001b[1;32m    983\u001b[0m \u001b[38;5;28;01mif\u001b[39;00m is_hashable(key):\n\u001b[1;32m    984\u001b[0m     \u001b[38;5;66;03m# Otherwise index.get_value will raise InvalidIndexError\u001b[39;00m\n\u001b[1;32m    985\u001b[0m     \u001b[38;5;28;01mtry\u001b[39;00m:\n\u001b[1;32m    986\u001b[0m         \u001b[38;5;66;03m# For labels that don't resolve as scalars like tuples and frozensets\u001b[39;00m\n",
      "File \u001b[0;32m~/projects/data-csob-2023/shared/onsite/env/lib/python3.8/site-packages/pandas/core/series.py:1089\u001b[0m, in \u001b[0;36mSeries._get_value\u001b[0;34m(self, label, takeable)\u001b[0m\n\u001b[1;32m   1086\u001b[0m     \u001b[38;5;28;01mreturn\u001b[39;00m \u001b[38;5;28mself\u001b[39m\u001b[38;5;241m.\u001b[39m_values[label]\n\u001b[1;32m   1088\u001b[0m \u001b[38;5;66;03m# Similar to Index.get_value, but we do not fall back to positional\u001b[39;00m\n\u001b[0;32m-> 1089\u001b[0m loc \u001b[38;5;241m=\u001b[39m \u001b[38;5;28;43mself\u001b[39;49m\u001b[38;5;241;43m.\u001b[39;49m\u001b[43mindex\u001b[49m\u001b[38;5;241;43m.\u001b[39;49m\u001b[43mget_loc\u001b[49m\u001b[43m(\u001b[49m\u001b[43mlabel\u001b[49m\u001b[43m)\u001b[49m\n\u001b[1;32m   1090\u001b[0m \u001b[38;5;28;01mreturn\u001b[39;00m \u001b[38;5;28mself\u001b[39m\u001b[38;5;241m.\u001b[39mindex\u001b[38;5;241m.\u001b[39m_get_values_for_loc(\u001b[38;5;28mself\u001b[39m, loc, label)\n",
      "File \u001b[0;32m~/projects/data-csob-2023/shared/onsite/env/lib/python3.8/site-packages/pandas/core/indexes/base.py:3804\u001b[0m, in \u001b[0;36mIndex.get_loc\u001b[0;34m(self, key, method, tolerance)\u001b[0m\n\u001b[1;32m   3802\u001b[0m     \u001b[38;5;28;01mreturn\u001b[39;00m \u001b[38;5;28mself\u001b[39m\u001b[38;5;241m.\u001b[39m_engine\u001b[38;5;241m.\u001b[39mget_loc(casted_key)\n\u001b[1;32m   3803\u001b[0m \u001b[38;5;28;01mexcept\u001b[39;00m \u001b[38;5;167;01mKeyError\u001b[39;00m \u001b[38;5;28;01mas\u001b[39;00m err:\n\u001b[0;32m-> 3804\u001b[0m     \u001b[38;5;28;01mraise\u001b[39;00m \u001b[38;5;167;01mKeyError\u001b[39;00m(key) \u001b[38;5;28;01mfrom\u001b[39;00m \u001b[38;5;21;01merr\u001b[39;00m\n\u001b[1;32m   3805\u001b[0m \u001b[38;5;28;01mexcept\u001b[39;00m \u001b[38;5;167;01mTypeError\u001b[39;00m:\n\u001b[1;32m   3806\u001b[0m     \u001b[38;5;66;03m# If we have a listlike key, _check_indexing_error will raise\u001b[39;00m\n\u001b[1;32m   3807\u001b[0m     \u001b[38;5;66;03m#  InvalidIndexError. Otherwise we fall through and re-raise\u001b[39;00m\n\u001b[1;32m   3808\u001b[0m     \u001b[38;5;66;03m#  the TypeError.\u001b[39;00m\n\u001b[1;32m   3809\u001b[0m     \u001b[38;5;28mself\u001b[39m\u001b[38;5;241m.\u001b[39m_check_indexing_error(key)\n",
      "\u001b[0;31mKeyError\u001b[0m: 'B'"
     ]
    }
   ],
   "source": [
    "df_rozdily.groupby('KLIC').transform(vypocitej_rozdil)"
   ]
  },
  {
   "cell_type": "markdown",
   "id": "49c4393e-280b-42a9-9998-48923a8778b5",
   "metadata": {},
   "source": [
    "<br>\n",
    "\n",
    "**🧠 CVIČENÍ 🧠, procvič si funkcí GroupBy a agregační funkce**"
   ]
  },
  {
   "cell_type": "markdown",
   "id": "44a67799-60fa-4b46-acc3-63a10550c90a",
   "metadata": {},
   "source": [
    "Máš zadaný takový datový set.\n",
    "```\n",
    "store,fruit,quantity_sold,price\n",
    "A,apple,10,20\n",
    "A,banana,15,12\n",
    "B,apple,8,22\n",
    "B,banana,30,10\n",
    "C,apple,20,18\n",
    "C,banana,25,15\n",
    "```"
   ]
  },
  {
   "cell_type": "markdown",
   "id": "e0687a5b-8dce-49a8-aafc-48f9f454ca4c",
   "metadata": {},
   "source": [
    "Následně:\n",
    "1. Pomocí metody `filter` vyber prodejny, které prodaly **alespoň 30 produktů**,\n",
    "2. na filtrovaném datasetu použijte metodu `apply` pro výpočet **celkového příjmu z prodeje pro každý obchod**."
   ]
  },
  {
   "cell_type": "code",
   "execution_count": 83,
   "id": "2a7d1520-9c02-432f-ba38-77aa91fffb6d",
   "metadata": {
    "tags": []
   },
   "outputs": [],
   "source": [
    "from pandas import DataFrame"
   ]
  },
  {
   "cell_type": "code",
   "execution_count": 100,
   "id": "bbabf72e-56b7-470f-bc34-e37c50b56d18",
   "metadata": {
    "tags": []
   },
   "outputs": [],
   "source": [
    "df_prodej_hardware = DataFrame({\n",
    "    'prodejna_id': (5, 4, 1, 5, 5, 1, 4, 2, 5, 1, 3, 1, 3, 4, 2, 1, 5, 4, 1, 5),\n",
    "    'transakce_id': (1278, 1216, 1866, 1872, 1797, 1272, 1880, 1061, 1595, 1879, 1728,\n",
    "       1341, 1396, 1698, 1018, 1176, 1611, 1395, 1444, 1232),\n",
    "    'predmet_prodeje': ('grafická_karta', 'SSD', 'RAM', 'procesor', 'grafická_karta',\n",
    "       'základní_deska', 'SSD', 'SSD', 'grafická_karta', 'RAM',\n",
    "       'grafická_karta', 'procesor', 'grafická_karta', 'SSD',\n",
    "       'grafická_karta', 'RAM', 'základní_deska', 'HDD', 'grafická_karta',\n",
    "       'RAM'),\n",
    "    'pocet_prodanych_ks': (1,  5,  6,  6,  3,  7,  9, 10,  8,  6,  8,  5,  8, 10,  4, 10,  8,\n",
    "       10,  2,  5),\n",
    "    'cena_predmetu': (19500.69874949, 19731.10951735, 14114.15342339, 10953.87914371,\n",
    "        6535.78851758, 16369.00288429, 13852.2578648 ,  3671.03031723,\n",
    "       18263.08009763, 16539.476237  , 19021.09830919, 14651.53041357,\n",
    "       12461.59632075,  8655.73920767, 18688.2054254 , 17388.24584526,\n",
    "        1381.76406707,  1014.1560027 ,  7841.03565412, 16305.78995025)\n",
    "})"
   ]
  },
  {
   "cell_type": "code",
   "execution_count": null,
   "id": "6f756cdb-76e6-4899-a3ed-15c3d4f83064",
   "metadata": {
    "tags": []
   },
   "outputs": [],
   "source": []
  },
  {
   "cell_type": "markdown",
   "id": "4b08e4d4-9324-4ec9-a317-00f4fa77f5e6",
   "metadata": {},
   "source": [
    "<details>\n",
    "    <summary>▶️ Řešení</summary>\n",
    "    \n",
    "    ```python\n",
    "    def vyber_prodej_vetsi_nez_limit(data, limit: int = 30):\n",
    "        return data['pocet_prodanych_ks'].sum() > limit\n",
    "        \n",
    "    def vypocitej_celkovy_vydelek_prodejny(skupina):\n",
    "        return (skupina['pocet_prodanych_ks'] * skupina['cena_predmetu']).sum()\n",
    "    \n",
    "    df_filtr_hardware = df_prodej_hardware.groupby('prodejna_id') \\\n",
    "                            .filter(vyber_prodej_vetsi_nez_limit)\n",
    "    \n",
    "    \n",
    "    celkovy_vydelek = df_filtr_hardware.groupby('prodejna_id') \\\n",
    "                            .apply(vypocitej_celkovy_vydelek_prodejny)\n",
    "    ```\n",
    "</details>"
   ]
  },
  {
   "cell_type": "markdown",
   "id": "452431c9-eb32-484e-a517-b8bc52726a6c",
   "metadata": {},
   "source": [
    "---"
   ]
  },
  {
   "cell_type": "markdown",
   "id": "aad768f5-f565-4d9d-954a-b1616596c163",
   "metadata": {},
   "source": [
    "## Pivot tabulky"
   ]
  },
  {
   "cell_type": "markdown",
   "id": "728058cc-018c-4d43-884d-ac516e96ba09",
   "metadata": {},
   "source": [
    "Pivot tabulky jsou užitečné pro přehledné zobrazení a analýzu dat z tabulkových zdrojů.\n",
    "\n",
    "Pomocí pivot tabulek můžeš seskupit data podle určitých kategorií a provést agregaci hodnot.\n",
    "\n",
    "Nejprve si představ situaci bez pivot tabulek, pomocí ukázky níže:"
   ]
  },
  {
   "cell_type": "code",
   "execution_count": 143,
   "id": "c4952eb7-3237-46eb-a35a-464b281c51b3",
   "metadata": {
    "tags": []
   },
   "outputs": [
    {
     "name": "stdout",
     "output_type": "stream",
     "text": [
      "Collecting seaborn\n",
      "  Downloading seaborn-0.12.2-py3-none-any.whl (293 kB)\n",
      "\u001b[K     |████████████████████████████████| 293 kB 2.7 MB/s eta 0:00:01\n",
      "\u001b[?25hRequirement already satisfied: numpy!=1.24.0,>=1.17 in /home/matous/projects/data-csob-2023/shared/onsite/env/lib/python3.8/site-packages (from seaborn) (1.24.2)\n",
      "Requirement already satisfied: pandas>=0.25 in /home/matous/projects/data-csob-2023/shared/onsite/env/lib/python3.8/site-packages (from seaborn) (1.5.3)\n",
      "Requirement already satisfied: matplotlib!=3.6.1,>=3.1 in /home/matous/projects/data-csob-2023/shared/onsite/env/lib/python3.8/site-packages (from seaborn) (3.7.1)\n",
      "Requirement already satisfied: pytz>=2020.1 in /home/matous/projects/data-csob-2023/shared/onsite/env/lib/python3.8/site-packages (from pandas>=0.25->seaborn) (2022.7.1)\n",
      "Requirement already satisfied: python-dateutil>=2.8.1 in /home/matous/projects/data-csob-2023/shared/onsite/env/lib/python3.8/site-packages (from pandas>=0.25->seaborn) (2.8.2)\n",
      "Requirement already satisfied: kiwisolver>=1.0.1 in /home/matous/projects/data-csob-2023/shared/onsite/env/lib/python3.8/site-packages (from matplotlib!=3.6.1,>=3.1->seaborn) (1.4.4)\n",
      "Requirement already satisfied: fonttools>=4.22.0 in /home/matous/projects/data-csob-2023/shared/onsite/env/lib/python3.8/site-packages (from matplotlib!=3.6.1,>=3.1->seaborn) (4.39.2)\n",
      "Requirement already satisfied: cycler>=0.10 in /home/matous/projects/data-csob-2023/shared/onsite/env/lib/python3.8/site-packages (from matplotlib!=3.6.1,>=3.1->seaborn) (0.11.0)\n",
      "Requirement already satisfied: importlib-resources>=3.2.0; python_version < \"3.10\" in /home/matous/projects/data-csob-2023/shared/onsite/env/lib/python3.8/site-packages (from matplotlib!=3.6.1,>=3.1->seaborn) (5.12.0)\n",
      "Requirement already satisfied: pillow>=6.2.0 in /home/matous/projects/data-csob-2023/shared/onsite/env/lib/python3.8/site-packages (from matplotlib!=3.6.1,>=3.1->seaborn) (9.4.0)\n",
      "Requirement already satisfied: contourpy>=1.0.1 in /home/matous/projects/data-csob-2023/shared/onsite/env/lib/python3.8/site-packages (from matplotlib!=3.6.1,>=3.1->seaborn) (1.0.7)\n",
      "Requirement already satisfied: packaging>=20.0 in /home/matous/projects/data-csob-2023/shared/onsite/env/lib/python3.8/site-packages (from matplotlib!=3.6.1,>=3.1->seaborn) (23.0)\n",
      "Requirement already satisfied: pyparsing>=2.3.1 in /home/matous/projects/data-csob-2023/shared/onsite/env/lib/python3.8/site-packages (from matplotlib!=3.6.1,>=3.1->seaborn) (3.0.9)\n",
      "Requirement already satisfied: six>=1.5 in /home/matous/projects/data-csob-2023/shared/onsite/env/lib/python3.8/site-packages (from python-dateutil>=2.8.1->pandas>=0.25->seaborn) (1.16.0)\n",
      "Requirement already satisfied: zipp>=3.1.0; python_version < \"3.10\" in /home/matous/projects/data-csob-2023/shared/onsite/env/lib/python3.8/site-packages (from importlib-resources>=3.2.0; python_version < \"3.10\"->matplotlib!=3.6.1,>=3.1->seaborn) (3.15.0)\n",
      "Installing collected packages: seaborn\n",
      "Successfully installed seaborn-0.12.2\n"
     ]
    }
   ],
   "source": [
    "!pip install seaborn"
   ]
  },
  {
   "cell_type": "code",
   "execution_count": 144,
   "id": "0ff3a4c7-22c6-4ba6-be06-c072c3f8abca",
   "metadata": {
    "tags": []
   },
   "outputs": [],
   "source": [
    "import numpy as np\n",
    "import pandas as pd\n",
    "import seaborn as sns"
   ]
  },
  {
   "cell_type": "markdown",
   "id": "2ab388cb-c1eb-4d6a-8710-e5ee875ff373",
   "metadata": {},
   "source": [
    "V této ukazce použiješ vzorová data týkající se nehody Titaniku:"
   ]
  },
  {
   "cell_type": "code",
   "execution_count": 145,
   "id": "58a60ef1-1fd7-4ef3-ab49-234417326c6f",
   "metadata": {
    "tags": []
   },
   "outputs": [],
   "source": [
    "titanic = sns.load_dataset('titanic')"
   ]
  },
  {
   "cell_type": "code",
   "execution_count": 146,
   "id": "aa9c3ab2-47d3-419a-817a-907c67809122",
   "metadata": {
    "tags": []
   },
   "outputs": [
    {
     "data": {
      "text/html": [
       "<div>\n",
       "<style scoped>\n",
       "    .dataframe tbody tr th:only-of-type {\n",
       "        vertical-align: middle;\n",
       "    }\n",
       "\n",
       "    .dataframe tbody tr th {\n",
       "        vertical-align: top;\n",
       "    }\n",
       "\n",
       "    .dataframe thead th {\n",
       "        text-align: right;\n",
       "    }\n",
       "</style>\n",
       "<table border=\"1\" class=\"dataframe\">\n",
       "  <thead>\n",
       "    <tr style=\"text-align: right;\">\n",
       "      <th></th>\n",
       "      <th>survived</th>\n",
       "      <th>pclass</th>\n",
       "      <th>sex</th>\n",
       "      <th>age</th>\n",
       "      <th>sibsp</th>\n",
       "      <th>parch</th>\n",
       "      <th>fare</th>\n",
       "      <th>embarked</th>\n",
       "      <th>class</th>\n",
       "      <th>who</th>\n",
       "      <th>adult_male</th>\n",
       "      <th>deck</th>\n",
       "      <th>embark_town</th>\n",
       "      <th>alive</th>\n",
       "      <th>alone</th>\n",
       "    </tr>\n",
       "  </thead>\n",
       "  <tbody>\n",
       "    <tr>\n",
       "      <th>0</th>\n",
       "      <td>0</td>\n",
       "      <td>3</td>\n",
       "      <td>male</td>\n",
       "      <td>22.0</td>\n",
       "      <td>1</td>\n",
       "      <td>0</td>\n",
       "      <td>7.2500</td>\n",
       "      <td>S</td>\n",
       "      <td>Third</td>\n",
       "      <td>man</td>\n",
       "      <td>True</td>\n",
       "      <td>NaN</td>\n",
       "      <td>Southampton</td>\n",
       "      <td>no</td>\n",
       "      <td>False</td>\n",
       "    </tr>\n",
       "    <tr>\n",
       "      <th>1</th>\n",
       "      <td>1</td>\n",
       "      <td>1</td>\n",
       "      <td>female</td>\n",
       "      <td>38.0</td>\n",
       "      <td>1</td>\n",
       "      <td>0</td>\n",
       "      <td>71.2833</td>\n",
       "      <td>C</td>\n",
       "      <td>First</td>\n",
       "      <td>woman</td>\n",
       "      <td>False</td>\n",
       "      <td>C</td>\n",
       "      <td>Cherbourg</td>\n",
       "      <td>yes</td>\n",
       "      <td>False</td>\n",
       "    </tr>\n",
       "    <tr>\n",
       "      <th>2</th>\n",
       "      <td>1</td>\n",
       "      <td>3</td>\n",
       "      <td>female</td>\n",
       "      <td>26.0</td>\n",
       "      <td>0</td>\n",
       "      <td>0</td>\n",
       "      <td>7.9250</td>\n",
       "      <td>S</td>\n",
       "      <td>Third</td>\n",
       "      <td>woman</td>\n",
       "      <td>False</td>\n",
       "      <td>NaN</td>\n",
       "      <td>Southampton</td>\n",
       "      <td>yes</td>\n",
       "      <td>True</td>\n",
       "    </tr>\n",
       "    <tr>\n",
       "      <th>3</th>\n",
       "      <td>1</td>\n",
       "      <td>1</td>\n",
       "      <td>female</td>\n",
       "      <td>35.0</td>\n",
       "      <td>1</td>\n",
       "      <td>0</td>\n",
       "      <td>53.1000</td>\n",
       "      <td>S</td>\n",
       "      <td>First</td>\n",
       "      <td>woman</td>\n",
       "      <td>False</td>\n",
       "      <td>C</td>\n",
       "      <td>Southampton</td>\n",
       "      <td>yes</td>\n",
       "      <td>False</td>\n",
       "    </tr>\n",
       "    <tr>\n",
       "      <th>4</th>\n",
       "      <td>0</td>\n",
       "      <td>3</td>\n",
       "      <td>male</td>\n",
       "      <td>35.0</td>\n",
       "      <td>0</td>\n",
       "      <td>0</td>\n",
       "      <td>8.0500</td>\n",
       "      <td>S</td>\n",
       "      <td>Third</td>\n",
       "      <td>man</td>\n",
       "      <td>True</td>\n",
       "      <td>NaN</td>\n",
       "      <td>Southampton</td>\n",
       "      <td>no</td>\n",
       "      <td>True</td>\n",
       "    </tr>\n",
       "  </tbody>\n",
       "</table>\n",
       "</div>"
      ],
      "text/plain": [
       "   survived  pclass     sex   age  sibsp  parch     fare embarked  class  \\\n",
       "0         0       3    male  22.0      1      0   7.2500        S  Third   \n",
       "1         1       1  female  38.0      1      0  71.2833        C  First   \n",
       "2         1       3  female  26.0      0      0   7.9250        S  Third   \n",
       "3         1       1  female  35.0      1      0  53.1000        S  First   \n",
       "4         0       3    male  35.0      0      0   8.0500        S  Third   \n",
       "\n",
       "     who  adult_male deck  embark_town alive  alone  \n",
       "0    man        True  NaN  Southampton    no  False  \n",
       "1  woman       False    C    Cherbourg   yes  False  \n",
       "2  woman       False  NaN  Southampton   yes   True  \n",
       "3  woman       False    C  Southampton   yes  False  \n",
       "4    man        True  NaN  Southampton    no   True  "
      ]
     },
     "execution_count": 146,
     "metadata": {},
     "output_type": "execute_result"
    }
   ],
   "source": [
    "titanic.head()"
   ]
  },
  {
   "cell_type": "markdown",
   "id": "bb2e00c7-6848-4621-b4c8-9cbbe831e486",
   "metadata": {},
   "source": [
    "<br>\n",
    "\n",
    "Pro jakoukoliv pokročilou analýzu dat, potřebuješ údaj seskupit."
   ]
  },
  {
   "cell_type": "code",
   "execution_count": 148,
   "id": "d5fd48c8-82ae-4528-99d7-49b575429158",
   "metadata": {
    "tags": []
   },
   "outputs": [
    {
     "data": {
      "text/html": [
       "<div>\n",
       "<style scoped>\n",
       "    .dataframe tbody tr th:only-of-type {\n",
       "        vertical-align: middle;\n",
       "    }\n",
       "\n",
       "    .dataframe tbody tr th {\n",
       "        vertical-align: top;\n",
       "    }\n",
       "\n",
       "    .dataframe thead th {\n",
       "        text-align: right;\n",
       "    }\n",
       "</style>\n",
       "<table border=\"1\" class=\"dataframe\">\n",
       "  <thead>\n",
       "    <tr style=\"text-align: right;\">\n",
       "      <th></th>\n",
       "      <th>survived</th>\n",
       "    </tr>\n",
       "    <tr>\n",
       "      <th>sex</th>\n",
       "      <th></th>\n",
       "    </tr>\n",
       "  </thead>\n",
       "  <tbody>\n",
       "    <tr>\n",
       "      <th>female</th>\n",
       "      <td>0.74</td>\n",
       "    </tr>\n",
       "    <tr>\n",
       "      <th>male</th>\n",
       "      <td>0.19</td>\n",
       "    </tr>\n",
       "  </tbody>\n",
       "</table>\n",
       "</div>"
      ],
      "text/plain": [
       "        survived\n",
       "sex             \n",
       "female      0.74\n",
       "male        0.19"
      ]
     },
     "execution_count": 148,
     "metadata": {},
     "output_type": "execute_result"
    }
   ],
   "source": [
    "titanic.groupby('sex')[['survived']].mean().round(2)"
   ]
  },
  {
   "cell_type": "markdown",
   "id": "316b3c45-b3f6-4798-b9c2-417d7e4afb73",
   "metadata": {},
   "source": [
    "Takový průzkum z této studie ti dá jasný pohled na věc:\n",
    "* 3 ze 4 žen přežily,\n",
    "* 1 z 5 mužů přežil."
   ]
  },
  {
   "cell_type": "markdown",
   "id": "417627ff-9c0c-483d-9d6a-f0b7c252e066",
   "metadata": {},
   "source": [
    "Pokud budeš potřebovat detailnější analýzy, budeš potřebovat více dat.\n",
    "\n",
    "Třeba situaci, kde kromě pohlaví, bereš v potaz **třídu cestujících**:"
   ]
  },
  {
   "cell_type": "code",
   "execution_count": 154,
   "id": "d12df2e9-52e1-4c89-9614-a9cf57ff51e5",
   "metadata": {
    "tags": []
   },
   "outputs": [
    {
     "data": {
      "text/plain": [
       "sex     class \n",
       "female  First     0.97\n",
       "        Second    0.92\n",
       "        Third     0.50\n",
       "male    First     0.37\n",
       "        Second    0.16\n",
       "        Third     0.14\n",
       "Name: survived, dtype: float64"
      ]
     },
     "execution_count": 154,
     "metadata": {},
     "output_type": "execute_result"
    }
   ],
   "source": [
    "titanic.groupby(['sex', 'class'])['survived'].mean().round(2)"
   ]
  },
  {
   "cell_type": "markdown",
   "id": "aa1de43c-3ad0-4b8e-9b01-7926c9016714",
   "metadata": {},
   "source": [
    "<br>\n",
    "\n",
    "Metodou `unstack` si můžeš vytvořit nové sloupečky, které jsou postavené na novém Indexu, nebo Indexech (*Multiindex*):"
   ]
  },
  {
   "cell_type": "code",
   "execution_count": 155,
   "id": "6aa65f34-1389-4351-8e35-ba11ea3e6cc9",
   "metadata": {
    "tags": []
   },
   "outputs": [
    {
     "data": {
      "text/html": [
       "<div>\n",
       "<style scoped>\n",
       "    .dataframe tbody tr th:only-of-type {\n",
       "        vertical-align: middle;\n",
       "    }\n",
       "\n",
       "    .dataframe tbody tr th {\n",
       "        vertical-align: top;\n",
       "    }\n",
       "\n",
       "    .dataframe thead th {\n",
       "        text-align: right;\n",
       "    }\n",
       "</style>\n",
       "<table border=\"1\" class=\"dataframe\">\n",
       "  <thead>\n",
       "    <tr style=\"text-align: right;\">\n",
       "      <th>class</th>\n",
       "      <th>First</th>\n",
       "      <th>Second</th>\n",
       "      <th>Third</th>\n",
       "    </tr>\n",
       "    <tr>\n",
       "      <th>sex</th>\n",
       "      <th></th>\n",
       "      <th></th>\n",
       "      <th></th>\n",
       "    </tr>\n",
       "  </thead>\n",
       "  <tbody>\n",
       "    <tr>\n",
       "      <th>female</th>\n",
       "      <td>0.97</td>\n",
       "      <td>0.92</td>\n",
       "      <td>0.50</td>\n",
       "    </tr>\n",
       "    <tr>\n",
       "      <th>male</th>\n",
       "      <td>0.37</td>\n",
       "      <td>0.16</td>\n",
       "      <td>0.14</td>\n",
       "    </tr>\n",
       "  </tbody>\n",
       "</table>\n",
       "</div>"
      ],
      "text/plain": [
       "class   First  Second  Third\n",
       "sex                         \n",
       "female   0.97    0.92   0.50\n",
       "male     0.37    0.16   0.14"
      ]
     },
     "execution_count": 155,
     "metadata": {},
     "output_type": "execute_result"
    }
   ],
   "source": [
    "titanic.groupby(['sex', 'class'])['survived'].mean().round(2).unstack()"
   ]
  },
  {
   "cell_type": "markdown",
   "id": "5397b2a7-7a67-4994-a0be-fdd4c70d30cb",
   "metadata": {},
   "source": [
    "Takový průzkum ti dá skutečně lepší pohled na věc.\n",
    "\n",
    "Současně ale roste náročnost ohlášení. Zápis \"bobtná\" a stává se náročnějším na přečtení a pochopení. "
   ]
  },
  {
   "cell_type": "markdown",
   "id": "1588b19e-6424-4586-91d4-931438e465bd",
   "metadata": {},
   "source": [
    "### Pivot tabulka"
   ]
  },
  {
   "cell_type": "markdown",
   "id": "2f034865-bd4b-4e34-b2b1-64a9edcb0955",
   "metadata": {
    "tags": []
   },
   "source": [
    "Podobné řešení ti nabízí funkce `pivot_table`:"
   ]
  },
  {
   "cell_type": "code",
   "execution_count": 161,
   "id": "221df6bb-478b-40cb-ae6e-f5e4f23611b3",
   "metadata": {
    "tags": []
   },
   "outputs": [
    {
     "data": {
      "text/html": [
       "<div>\n",
       "<style scoped>\n",
       "    .dataframe tbody tr th:only-of-type {\n",
       "        vertical-align: middle;\n",
       "    }\n",
       "\n",
       "    .dataframe tbody tr th {\n",
       "        vertical-align: top;\n",
       "    }\n",
       "\n",
       "    .dataframe thead th {\n",
       "        text-align: right;\n",
       "    }\n",
       "</style>\n",
       "<table border=\"1\" class=\"dataframe\">\n",
       "  <thead>\n",
       "    <tr style=\"text-align: right;\">\n",
       "      <th>class</th>\n",
       "      <th>First</th>\n",
       "      <th>Second</th>\n",
       "      <th>Third</th>\n",
       "    </tr>\n",
       "    <tr>\n",
       "      <th>sex</th>\n",
       "      <th></th>\n",
       "      <th></th>\n",
       "      <th></th>\n",
       "    </tr>\n",
       "  </thead>\n",
       "  <tbody>\n",
       "    <tr>\n",
       "      <th>female</th>\n",
       "      <td>0.97</td>\n",
       "      <td>0.92</td>\n",
       "      <td>0.50</td>\n",
       "    </tr>\n",
       "    <tr>\n",
       "      <th>male</th>\n",
       "      <td>0.37</td>\n",
       "      <td>0.16</td>\n",
       "      <td>0.14</td>\n",
       "    </tr>\n",
       "  </tbody>\n",
       "</table>\n",
       "</div>"
      ],
      "text/plain": [
       "class   First  Second  Third\n",
       "sex                         \n",
       "female   0.97    0.92   0.50\n",
       "male     0.37    0.16   0.14"
      ]
     },
     "execution_count": 161,
     "metadata": {},
     "output_type": "execute_result"
    }
   ],
   "source": [
    "titanic.pivot_table('survived', index='sex', columns='class').round(2)"
   ]
  },
  {
   "cell_type": "markdown",
   "id": "29b7ad01-1bf7-48f0-9ba2-404ca1cd65af",
   "metadata": {},
   "source": [
    "Zásádním rozdílem je ovšem čitelnost, kterou máš pro tuto variantu zápisu.\n",
    "\n",
    "Pomocí vhodných argumentů, můžeš doplnit vysvětlivky tam, kde funkce `groupby` nemohla."
   ]
  },
  {
   "cell_type": "markdown",
   "id": "05723ff2-9147-40d9-8562-0f31104dd15e",
   "metadata": {},
   "source": [
    "Stejně platí, že pokud budeš potřebovat další Index, můžeš si pomoci funkcí `cut`:"
   ]
  },
  {
   "cell_type": "code",
   "execution_count": 158,
   "id": "62221688-a1a5-4c86-b62d-e375d7f89e94",
   "metadata": {
    "tags": []
   },
   "outputs": [],
   "source": [
    "age = pd.cut(titanic['age'], [0, 18, 80])"
   ]
  },
  {
   "cell_type": "code",
   "execution_count": 160,
   "id": "8cf06123-73ea-4b2b-a9db-646c929bd5fd",
   "metadata": {
    "tags": []
   },
   "outputs": [
    {
     "data": {
      "text/html": [
       "<div>\n",
       "<style scoped>\n",
       "    .dataframe tbody tr th:only-of-type {\n",
       "        vertical-align: middle;\n",
       "    }\n",
       "\n",
       "    .dataframe tbody tr th {\n",
       "        vertical-align: top;\n",
       "    }\n",
       "\n",
       "    .dataframe thead th {\n",
       "        text-align: right;\n",
       "    }\n",
       "</style>\n",
       "<table border=\"1\" class=\"dataframe\">\n",
       "  <thead>\n",
       "    <tr style=\"text-align: right;\">\n",
       "      <th></th>\n",
       "      <th>class</th>\n",
       "      <th>First</th>\n",
       "      <th>Second</th>\n",
       "      <th>Third</th>\n",
       "    </tr>\n",
       "    <tr>\n",
       "      <th>sex</th>\n",
       "      <th>age</th>\n",
       "      <th></th>\n",
       "      <th></th>\n",
       "      <th></th>\n",
       "    </tr>\n",
       "  </thead>\n",
       "  <tbody>\n",
       "    <tr>\n",
       "      <th rowspan=\"2\" valign=\"top\">female</th>\n",
       "      <th>(0, 18]</th>\n",
       "      <td>0.91</td>\n",
       "      <td>1.00</td>\n",
       "      <td>0.51</td>\n",
       "    </tr>\n",
       "    <tr>\n",
       "      <th>(18, 80]</th>\n",
       "      <td>0.97</td>\n",
       "      <td>0.90</td>\n",
       "      <td>0.42</td>\n",
       "    </tr>\n",
       "    <tr>\n",
       "      <th rowspan=\"2\" valign=\"top\">male</th>\n",
       "      <th>(0, 18]</th>\n",
       "      <td>0.80</td>\n",
       "      <td>0.60</td>\n",
       "      <td>0.22</td>\n",
       "    </tr>\n",
       "    <tr>\n",
       "      <th>(18, 80]</th>\n",
       "      <td>0.38</td>\n",
       "      <td>0.07</td>\n",
       "      <td>0.13</td>\n",
       "    </tr>\n",
       "  </tbody>\n",
       "</table>\n",
       "</div>"
      ],
      "text/plain": [
       "class            First  Second  Third\n",
       "sex    age                           \n",
       "female (0, 18]    0.91    1.00   0.51\n",
       "       (18, 80]   0.97    0.90   0.42\n",
       "male   (0, 18]    0.80    0.60   0.22\n",
       "       (18, 80]   0.38    0.07   0.13"
      ]
     },
     "execution_count": 160,
     "metadata": {},
     "output_type": "execute_result"
    }
   ],
   "source": [
    "titanic.pivot_table('survived', ['sex', age], 'class').round(2)"
   ]
  },
  {
   "cell_type": "code",
   "execution_count": null,
   "id": "d441b7a8-f082-45d8-b337-e9fd9d3e0cec",
   "metadata": {},
   "outputs": [],
   "source": []
  },
  {
   "cell_type": "markdown",
   "id": "6a0dfb79-1a21-4594-84c5-8addf90d8217",
   "metadata": {},
   "source": [
    "<br>\n",
    "\n",
    "**🧠 CVIČENÍ 🧠, procvič si pivot tabulky**"
   ]
  },
  {
   "cell_type": "markdown",
   "id": "dc99fe24-09fa-4729-bef1-8a03371fdbbe",
   "metadata": {},
   "source": [
    "Ze zadaného datasetu vytvoř **pivot tabulku**, která zobrazí **počet prodaných kusů ovoce** pro **každý obchod** a **druh ovoce**."
   ]
  },
  {
   "cell_type": "code",
   "execution_count": 162,
   "id": "6c7ce318-8188-48fe-b768-2275036e2c71",
   "metadata": {
    "tags": []
   },
   "outputs": [],
   "source": [
    "ovoce_data = {'pobocka': ['A', 'A', 'B', 'B', 'C', 'C'],\n",
    "        'ovoce': ['jablko', 'banan', 'jablko', 'banan', 'jablko', 'banan'],\n",
    "        'prodane_mnozstvi': [10, 15, 8, 30, 20, 25],\n",
    "        'cena': [20, 12, 22, 10, 18, 15]}"
   ]
  },
  {
   "cell_type": "code",
   "execution_count": 163,
   "id": "44dca2d0-a59e-4163-a1f4-11a2d4ef2f08",
   "metadata": {
    "tags": []
   },
   "outputs": [],
   "source": []
  },
  {
   "cell_type": "markdown",
   "id": "5962aea9-4386-40c1-a1de-88cabfec8ab5",
   "metadata": {},
   "source": [
    "<details>\n",
    "    <summary>▶️ Řešení</summary>\n",
    "    \n",
    "    ```python\n",
    "    pivot_tabulka = df_ovoce.pivot_table(values=\"prodane_mnozstvi\", index=\"pobocka\", columns=\"ovoce\")\n",
    "    ```\n",
    "</details>"
   ]
  },
  {
   "cell_type": "code",
   "execution_count": null,
   "id": "e5520c07-8003-4c8d-8335-d16d91883827",
   "metadata": {},
   "outputs": [],
   "source": []
  },
  {
   "cell_type": "markdown",
   "id": "71c2a307-eefb-4393-8ae2-4bafe0a9b9d5",
   "metadata": {},
   "source": [
    "## Časové řady"
   ]
  },
  {
   "cell_type": "markdown",
   "id": "8baafa2f-bca0-43b2-aacd-396c105d9525",
   "metadata": {},
   "source": [
    "* úvodní motivace,\n",
    "* datum & čas,\n",
    "* četnosti,\n",
    "* resampling,\n",
    "* cvičení 4."
   ]
  },
  {
   "cell_type": "markdown",
   "id": "486deec9-c055-4adf-9ac7-1493d8f44389",
   "metadata": {},
   "source": [
    "Část frameworku byla vyvinuta za účelem finančního modelování.\n",
    "\n",
    "Proto je více než dobře vybavena sadou nástrojů, které umí pracovat s daty, časem a časovými objekty.\n",
    "\n",
    "Jde například o údaje typu:\n",
    "* *timestampy*, údaj odkazující na konkrétní časový okamžik (např. 4. července 2015 v 7:00 hod.),\n",
    "* *časové intervaly*, tedy období odkazují na délku času mezi konkrétním začátkem a koncem (např. intervaly ze dne na den),\n",
    "* *time delta* objekty, tedy přesné délky času (např. 22,22 sekundy)."
   ]
  },
  {
   "cell_type": "markdown",
   "id": "55492851-c233-4c0f-93e3-e22acc7fd430",
   "metadata": {},
   "source": [
    "### Data a čas v Pythonu"
   ]
  },
  {
   "cell_type": "markdown",
   "id": "0e27c97e-9918-4e61-abe5-2fb92759baaa",
   "metadata": {},
   "source": [
    "Standardní výbavou Pythonu jsou knihovny `datetime` a `dateutil`:"
   ]
  },
  {
   "cell_type": "code",
   "execution_count": 167,
   "id": "d0a194fe-fac0-42ae-a6c5-4770aa439395",
   "metadata": {
    "tags": []
   },
   "outputs": [],
   "source": [
    "from datetime import datetime"
   ]
  },
  {
   "cell_type": "code",
   "execution_count": 168,
   "id": "ade4d2d7-0b0b-4151-af65-70951feaf8ce",
   "metadata": {
    "tags": []
   },
   "outputs": [
    {
     "data": {
      "text/plain": [
       "datetime.datetime(2023, 4, 5, 0, 0)"
      ]
     },
     "execution_count": 168,
     "metadata": {},
     "output_type": "execute_result"
    }
   ],
   "source": [
    "datetime(year=2023, month=4, day=5)"
   ]
  },
  {
   "cell_type": "markdown",
   "id": "d34f2f0b-8ef4-4393-9bef-267566b93298",
   "metadata": {},
   "source": [
    "<br>\n",
    "\n",
    "Nebo knihovna pro parsování datových typů z různých stringových zadání:"
   ]
  },
  {
   "cell_type": "code",
   "execution_count": 169,
   "id": "cf54882c-2d33-4c82-bef2-459ed78b8df9",
   "metadata": {
    "tags": []
   },
   "outputs": [],
   "source": [
    "from dateutil import parser"
   ]
  },
  {
   "cell_type": "code",
   "execution_count": 172,
   "id": "452e9eec-a77a-4d7f-9e1c-886c1152fd11",
   "metadata": {
    "tags": []
   },
   "outputs": [],
   "source": [
    "date = parser.parse(\"5th of april, 2023\")"
   ]
  },
  {
   "cell_type": "code",
   "execution_count": 173,
   "id": "22c01da0-e255-4338-b5b7-394bfa866883",
   "metadata": {
    "tags": []
   },
   "outputs": [
    {
     "data": {
      "text/plain": [
       "datetime.datetime(2023, 4, 5, 0, 0)"
      ]
     },
     "execution_count": 173,
     "metadata": {},
     "output_type": "execute_result"
    }
   ],
   "source": [
    "date"
   ]
  },
  {
   "cell_type": "markdown",
   "id": "a82a8b04-49bc-4d1d-9774-567e306c7ab6",
   "metadata": {},
   "source": [
    "Kde pomocí metody `strftime` můžeš vypsat den:"
   ]
  },
  {
   "cell_type": "code",
   "execution_count": 174,
   "id": "d28e3912-30c2-4b38-818e-afd8b36aa6ad",
   "metadata": {
    "tags": []
   },
   "outputs": [
    {
     "data": {
      "text/plain": [
       "'Wednesday'"
      ]
     },
     "execution_count": 174,
     "metadata": {},
     "output_type": "execute_result"
    }
   ],
   "source": [
    "date.strftime(\"%A\")"
   ]
  },
  {
   "cell_type": "markdown",
   "id": "dd705f13-538c-4728-8b3f-3bbdbe77f8b1",
   "metadata": {},
   "source": [
    "### Data a čas v numpy"
   ]
  },
  {
   "cell_type": "markdown",
   "id": "5dad1276-808f-407f-bab3-74a1d4e15a67",
   "metadata": {},
   "source": [
    "Některé nedostatky uvnitř knihoven `datetime` a `dateutil` vedli ke vzniku sady nástrojů.\n",
    "\n",
    "Tyto doplňky vznikly pod hlavičkou knihovny `numpy`."
   ]
  },
  {
   "cell_type": "code",
   "execution_count": 180,
   "id": "951d10ff-5615-4fdd-b776-d07be4e8fbed",
   "metadata": {
    "tags": []
   },
   "outputs": [],
   "source": [
    "from numpy import array, arange"
   ]
  },
  {
   "cell_type": "code",
   "execution_count": 178,
   "id": "ace452d7-3323-4d8c-a289-1b9d3bde2906",
   "metadata": {
    "tags": []
   },
   "outputs": [],
   "source": [
    "date = array('2023-04-05', dtype=np.datetime64)"
   ]
  },
  {
   "cell_type": "code",
   "execution_count": 179,
   "id": "29f0009b-bfc0-45d5-93db-a4f2544e000a",
   "metadata": {
    "tags": []
   },
   "outputs": [
    {
     "data": {
      "text/plain": [
       "array('2023-04-05', dtype='datetime64[D]')"
      ]
     },
     "execution_count": 179,
     "metadata": {},
     "output_type": "execute_result"
    }
   ],
   "source": [
    "date"
   ]
  },
  {
   "cell_type": "markdown",
   "id": "a996c168-e54a-4532-8657-1ee9b95a0c47",
   "metadata": {},
   "source": [
    "<br>\n",
    "\n",
    "Pokud potřebuješ pole následujících 7 dní:"
   ]
  },
  {
   "cell_type": "code",
   "execution_count": 181,
   "id": "6e41ecfd-cca7-4cc9-b3c5-e890b7a41eea",
   "metadata": {
    "tags": []
   },
   "outputs": [
    {
     "data": {
      "text/plain": [
       "array(['2023-04-05', '2023-04-06', '2023-04-07', '2023-04-08',\n",
       "       '2023-04-09', '2023-04-10', '2023-04-11'], dtype='datetime64[D]')"
      ]
     },
     "execution_count": 181,
     "metadata": {},
     "output_type": "execute_result"
    }
   ],
   "source": [
    "date + arange(7)"
   ]
  },
  {
   "cell_type": "markdown",
   "id": "61b1f267-2fd9-4a21-af10-e841225d99cc",
   "metadata": {
    "tags": []
   },
   "source": [
    "Vzhledem k jednotnému datovu typu v poli pro **numpy** `datetime64` může tento typ operace\n",
    "provádět mnohem rychleji, než přímo v Pythonu `datetime` objekty, zejména když objekty nabývají na velikosti."
   ]
  },
  {
   "cell_type": "markdown",
   "id": "d0c3286a-23dd-4d9e-877a-5ce07fafe58d",
   "metadata": {},
   "source": [
    "### Data a čas v pandách"
   ]
  },
  {
   "cell_type": "markdown",
   "id": "db5a1469-5b8d-4722-992b-e002ac1f1175",
   "metadata": {
    "tags": []
   },
   "source": [
    "Jde o kombinace objektů z obou předchozích podkapitol.\n",
    "\n",
    "Ty dávají dohromady to nejlepší prostředky pro zacházení s časem."
   ]
  },
  {
   "cell_type": "code",
   "execution_count": 184,
   "id": "7d095458-75e4-44fb-baf1-06d379db7736",
   "metadata": {
    "tags": []
   },
   "outputs": [],
   "source": [
    "from pandas import to_datetime"
   ]
  },
  {
   "cell_type": "code",
   "execution_count": 185,
   "id": "3cd1aaf4-eca0-4f2b-8bd8-5a52fbfd4637",
   "metadata": {
    "tags": []
   },
   "outputs": [],
   "source": [
    "date = to_datetime(\"5th of April, 2023\")"
   ]
  },
  {
   "cell_type": "code",
   "execution_count": 186,
   "id": "ec88920f-7144-447a-aef4-85e6842b43f7",
   "metadata": {
    "tags": []
   },
   "outputs": [
    {
     "data": {
      "text/plain": [
       "Timestamp('2023-04-05 00:00:00')"
      ]
     },
     "execution_count": 186,
     "metadata": {},
     "output_type": "execute_result"
    }
   ],
   "source": [
    "date"
   ]
  },
  {
   "cell_type": "code",
   "execution_count": 187,
   "id": "30f7fff2-9795-46af-b97a-06cd4ff4962a",
   "metadata": {
    "tags": []
   },
   "outputs": [
    {
     "data": {
      "text/plain": [
       "'Wednesday'"
      ]
     },
     "execution_count": 187,
     "metadata": {},
     "output_type": "execute_result"
    }
   ],
   "source": [
    "date.strftime(\"%A\")"
   ]
  },
  {
   "cell_type": "markdown",
   "id": "1f97f32f-85d0-4497-a770-d164d32ddd2c",
   "metadata": {},
   "source": [
    "### Časové řady"
   ]
  },
  {
   "cell_type": "markdown",
   "id": "4692cf89-c2c6-40a7-965d-1ae68aae80dd",
   "metadata": {},
   "source": [
    "V podstatě jde o hlavní nástroj, který tato knihovna dovede nabídnout.\n",
    "\n",
    "#### Indexovní časem\n",
    "\n",
    "Ukázka, kde vytvoříš sloupeček, který obsahuje jenom *dummy* **data a datumy**:"
   ]
  },
  {
   "cell_type": "code",
   "execution_count": 193,
   "id": "60eeeebc-9171-4e69-813b-22f660d41767",
   "metadata": {
    "tags": []
   },
   "outputs": [],
   "source": [
    "from pandas import DatetimeIndex, Series"
   ]
  },
  {
   "cell_type": "code",
   "execution_count": 194,
   "id": "99a7e6c3-7d28-4902-83d6-bab5c54c0ccc",
   "metadata": {
    "tags": []
   },
   "outputs": [],
   "source": [
    "datumy = [\"2023-04-05\", \"2022-04-05\", \"2021-04-05\", \"2020-04-05\"]"
   ]
  },
  {
   "cell_type": "code",
   "execution_count": 195,
   "id": "1de25773-7754-4c66-8f32-df03bc6b0521",
   "metadata": {
    "tags": []
   },
   "outputs": [],
   "source": [
    "indexy = DatetimeIndex(datumy)"
   ]
  },
  {
   "cell_type": "code",
   "execution_count": 196,
   "id": "f4215e08-b7af-4ec2-9c3a-1bb2705fdf78",
   "metadata": {
    "tags": []
   },
   "outputs": [],
   "source": [
    "hodnoty = [to_datetime(den).strftime(\"%A\") for den in datumy]"
   ]
  },
  {
   "cell_type": "code",
   "execution_count": 197,
   "id": "22cc433c-dad1-4cff-a19d-04b1cbf65de0",
   "metadata": {
    "tags": []
   },
   "outputs": [],
   "source": [
    "df_hodnoty = Series(hodnoty, index=indexy)"
   ]
  },
  {
   "cell_type": "code",
   "execution_count": 198,
   "id": "624a6fd9-07f1-4bac-8a28-25a369ef2119",
   "metadata": {
    "tags": []
   },
   "outputs": [
    {
     "data": {
      "text/plain": [
       "2023-04-05    Wednesday\n",
       "2022-04-05      Tuesday\n",
       "2021-04-05       Monday\n",
       "2020-04-05       Sunday\n",
       "dtype: object"
      ]
     },
     "execution_count": 198,
     "metadata": {},
     "output_type": "execute_result"
    }
   ],
   "source": [
    "df_hodnoty"
   ]
  },
  {
   "cell_type": "code",
   "execution_count": 199,
   "id": "8b7364a9-02ae-4f73-a70e-2a5500b32729",
   "metadata": {
    "tags": []
   },
   "outputs": [
    {
     "data": {
      "text/plain": [
       "pandas.core.indexes.datetimes.DatetimeIndex"
      ]
     },
     "execution_count": 199,
     "metadata": {},
     "output_type": "execute_result"
    }
   ],
   "source": [
    "type(indexy)"
   ]
  },
  {
   "cell_type": "code",
   "execution_count": 202,
   "id": "a70446ce-26e6-4515-8bae-a230a0c0cefe",
   "metadata": {
    "tags": []
   },
   "outputs": [
    {
     "name": "stderr",
     "output_type": "stream",
     "text": [
      "/tmp/ipykernel_10497/3590313258.py:1: FutureWarning: Value based partial slicing on non-monotonic DatetimeIndexes with non-existing keys is deprecated and will raise a KeyError in a future Version.\n",
      "  df_hodnoty[\"2020\": \"2022\"]\n"
     ]
    },
    {
     "data": {
      "text/plain": [
       "2022-04-05    Tuesday\n",
       "2021-04-05     Monday\n",
       "2020-04-05     Sunday\n",
       "dtype: object"
      ]
     },
     "execution_count": 202,
     "metadata": {},
     "output_type": "execute_result"
    }
   ],
   "source": [
    "df_hodnoty[\"2020\": \"2022\"]"
   ]
  },
  {
   "cell_type": "code",
   "execution_count": null,
   "id": "3b7dd615-0fff-4ae9-8110-7319774012b5",
   "metadata": {},
   "outputs": [],
   "source": [
    "#### Základní objekty"
   ]
  },
  {
   "cell_type": "code",
   "execution_count": null,
   "id": "564c0a6a-3b81-4d9f-a363-68dfcdc68e3a",
   "metadata": {},
   "outputs": [],
   "source": [
    "Timestamp + DatetimeIndex"
   ]
  },
  {
   "cell_type": "code",
   "execution_count": null,
   "id": "cbe9135f-26ce-4ca1-aabb-14e8f4618449",
   "metadata": {},
   "outputs": [],
   "source": [
    "date_range"
   ]
  },
  {
   "cell_type": "code",
   "execution_count": null,
   "id": "c25eceff-feba-4705-bc6b-a0cfbe507130",
   "metadata": {},
   "outputs": [],
   "source": [
    "frequencies and offsets"
   ]
  },
  {
   "cell_type": "code",
   "execution_count": null,
   "id": "17767beb-71be-4af3-8fcb-ecf27581bcd4",
   "metadata": {},
   "outputs": [],
   "source": [
    "resampling, shifting, windwing"
   ]
  },
  {
   "cell_type": "markdown",
   "id": "ac24df69-8739-4f20-b929-4576e2423c9d",
   "metadata": {},
   "source": [
    "---"
   ]
  }
 ],
 "metadata": {
  "kernelspec": {
   "display_name": "Python 3 (ipykernel)",
   "language": "python",
   "name": "python3"
  },
  "language_info": {
   "codemirror_mode": {
    "name": "ipython",
    "version": 3
   },
   "file_extension": ".py",
   "mimetype": "text/x-python",
   "name": "python",
   "nbconvert_exporter": "python",
   "pygments_lexer": "ipython3",
   "version": "3.8.10"
  }
 },
 "nbformat": 4,
 "nbformat_minor": 5
}
